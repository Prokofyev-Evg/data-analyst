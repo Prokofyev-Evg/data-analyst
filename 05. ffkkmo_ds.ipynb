{
 "cells": [
  {
   "cell_type": "code",
   "execution_count": 2,
   "id": "28fea22c-bdd8-4c13-b579-7a82152885b5",
   "metadata": {},
   "outputs": [],
   "source": [
    "import pandas as pd\n",
    "import matplotlib.pyplot as plt\n",
    "import numpy as np\n",
    "\n",
    "from catboost import Pool, CatBoostRegressor\n",
    "\n",
    "from sklearn.compose import ColumnTransformer\n",
    "from sklearn.dummy import DummyRegressor\n",
    "from sklearn.ensemble import RandomForestRegressor\n",
    "from sklearn.impute import SimpleImputer\n",
    "from sklearn.linear_model import LinearRegression\n",
    "from sklearn.metrics import mean_absolute_error\n",
    "from sklearn.model_selection import GridSearchCV\n",
    "from sklearn.pipeline import Pipeline\n",
    "from sklearn.preprocessing import OneHotEncoder, OrdinalEncoder\n",
    "\n",
    "# Импортируем pytorch\n",
    "import torch\n",
    "import torch.nn as nn"
   ]
  },
  {
   "cell_type": "code",
   "execution_count": 4,
   "id": "4672536e-59d1-44cb-9d21-b8273f1a0842",
   "metadata": {},
   "outputs": [],
   "source": [
    "df = pd.read_csv(\"ffkkmo_clean.csv\", index_col='Unnamed: 0')\n",
    "df_judges = pd.read_csv(\"ffkkmo_judges_clean.csv\", index_col='Unnamed: 0')"
   ]
  },
  {
   "cell_type": "code",
   "execution_count": 5,
   "id": "ad15efab-6b6f-4d1a-90f4-cb00ce2cdef6",
   "metadata": {},
   "outputs": [],
   "source": [
    "cat_ord = [\n",
    "    'Юный фигурист, мальчики',\n",
    "    'Юный фигурист, девочки',\n",
    "    '3-й юношеский разряд, мальчики',\n",
    "    '3-й юношеский разряд, девочки',\n",
    "    '2-й юношеский разряд, мальчики',\n",
    "    '2-й юношеский разряд, девочки',\n",
    "    '1-й юношеский разряд, мальчики',\n",
    "    '1-й юношеский разряд, девочки',\n",
    "    '3-й спортивный разряд, мальчики',\n",
    "    '3-й спортивный разряд, девочки', \n",
    "    '2-й спортивный разряд, мальчики',\n",
    "    '2-й спортивный разряд, девочки',\n",
    "    '1-й спортивный разряд, мальчики',\n",
    "    '1-й спортивный разряд, девочки',\n",
    "    'КМС, юноши',\n",
    "    'КМС, девушки',\n",
    "    'МС, юноши',\n",
    "    'МС, девушки'\n",
    "]"
   ]
  },
  {
   "cell_type": "code",
   "execution_count": 6,
   "id": "5b02043c-5713-4c82-aad0-e932252f0a32",
   "metadata": {},
   "outputs": [],
   "source": [
    "df = df.drop(df.query(\"category not in @cat_ord\").index).reset_index()"
   ]
  },
  {
   "cell_type": "code",
   "execution_count": 7,
   "id": "a94c438f-3316-49f2-a983-da0ae2a27965",
   "metadata": {},
   "outputs": [
    {
     "name": "stdout",
     "output_type": "stream",
     "text": [
      "<class 'pandas.core.frame.DataFrame'>\n",
      "RangeIndex: 30517 entries, 0 to 30516\n",
      "Data columns (total 17 columns):\n",
      " #   Column      Non-Null Count  Dtype  \n",
      "---  ------      --------------  -----  \n",
      " 0   index       30517 non-null  int64  \n",
      " 1   date        30517 non-null  object \n",
      " 2   place       30517 non-null  object \n",
      " 3   online      30517 non-null  object \n",
      " 4   category    30517 non-null  object \n",
      " 5   segment     30517 non-null  object \n",
      " 6   rank        30517 non-null  int64  \n",
      " 7   firstname   30517 non-null  object \n",
      " 8   middlename  1296 non-null   object \n",
      " 9   lastname    30517 non-null  object \n",
      " 10  club        29124 non-null  object \n",
      " 11  tss         30517 non-null  float64\n",
      " 12  tes         30517 non-null  float64\n",
      " 13  pcs         30517 non-null  float64\n",
      " 14  year        30517 non-null  int64  \n",
      " 15  month       30517 non-null  int64  \n",
      " 16  season      30517 non-null  int64  \n",
      "dtypes: float64(3), int64(5), object(9)\n",
      "memory usage: 4.0+ MB\n"
     ]
    }
   ],
   "source": [
    "df.info()"
   ]
  },
  {
   "cell_type": "code",
   "execution_count": 8,
   "id": "9d1d7ee7-b6da-4752-9b44-3c7a185ce9a7",
   "metadata": {},
   "outputs": [],
   "source": [
    "df['name'] = df.firstname + df.lastname"
   ]
  },
  {
   "cell_type": "code",
   "execution_count": 10,
   "id": "4bd000ce-dcb6-419e-8820-b3dc6e38fec8",
   "metadata": {},
   "outputs": [],
   "source": [
    "df_spec = df_judges[df_judges['function'] == 'Технический специалист'].groupby(['date', 'online']).first()\n",
    "df_spec = df_spec.rename(columns={\"name\": \"ts\"})\n",
    "df_cont = df_judges[df_judges['function'] == 'Технический контролер'].groupby(['date', 'online']).first()\n",
    "df_cont = df_cont.rename(columns={\"name\": \"tc\"})"
   ]
  },
  {
   "cell_type": "code",
   "execution_count": 11,
   "id": "d00d78a8-687d-4939-93d3-595f84f273cc",
   "metadata": {},
   "outputs": [],
   "source": [
    "df = df.merge(df_spec.merge(df_cont, on=['date', 'online'])[['ts', 'tc']].reset_index(), on=['date', 'online'])"
   ]
  },
  {
   "cell_type": "code",
   "execution_count": 12,
   "id": "23a51a14-eef6-456a-a225-e20a6cb94b6d",
   "metadata": {},
   "outputs": [
    {
     "name": "stderr",
     "output_type": "stream",
     "text": [
      "/home/iuser24/anaconda3/lib/python3.12/site-packages/sklearn/preprocessing/_encoders.py:242: UserWarning: Found unknown categories in columns [3] during transform. These unknown categories will be encoded as all zeros\n",
      "  warnings.warn(\n"
     ]
    }
   ],
   "source": [
    "ohe_columns = ['place', 'club', 'segment', 'name', 'ts', 'tc']\n",
    "ord_columns = ['category', 'season', 'month']\n",
    "target = ['tss']\n",
    "\n",
    "train = df.drop(df[df['date'] == '2025-06-14'].index).reset_index(drop=True)\n",
    "test = df.drop(df[df['date'] != '2025-06-14'].index).reset_index(drop=True)\n",
    "\n",
    "X_train = train[ohe_columns + ord_columns]\n",
    "X_test = test[ohe_columns + ord_columns]\n",
    "y_train = train[target]\n",
    "y_test = test[target]\n",
    "\n",
    "ord_pipe = Pipeline(\n",
    "    [('simpleImputer_before_ord', SimpleImputer(missing_values=np.nan, strategy='most_frequent')),\n",
    "     ('ord',  OrdinalEncoder(\n",
    "                categories=[\n",
    "                    cat_ord,\n",
    "                    [2021, 2122, 2223, 2324, 2425],\n",
    "                    [8, 9, 10, 11, 12, 1, 2, 3, 4, 5, 6, 7],\n",
    "                    # X_train.name.unique(),\n",
    "                    # X_train.ts.unique(),\n",
    "                    # X_train.tc.unique()\n",
    "                ], \n",
    "                handle_unknown='use_encoded_value', unknown_value=np.nan\n",
    "            )\n",
    "        ),\n",
    "     ('simpleImputer_after_ord', SimpleImputer(missing_values=np.nan, strategy='most_frequent'))\n",
    "    ]\n",
    ")\n",
    "ohe_pipe = Pipeline(\n",
    "    [('simpleImputer_ohe', SimpleImputer(missing_values=np.nan, strategy='most_frequent')),\n",
    "     ('ohe', OneHotEncoder(drop='first', handle_unknown='ignore'))\n",
    "    ]\n",
    ")\n",
    "data_preprocessor = ColumnTransformer(\n",
    "    [\n",
    "        ('ohe', ohe_pipe, ohe_columns),\n",
    "        ('ord', ord_pipe, ord_columns),\n",
    "    ], \n",
    "    remainder='passthrough'\n",
    ")\n",
    "X_train_preprocessed = data_preprocessor.fit_transform(X_train)\n",
    "X_test_preprocessed = data_preprocessor.transform(X_test)"
   ]
  },
  {
   "cell_type": "markdown",
   "id": "70046ba4-782a-46d7-8fd4-c5273a491874",
   "metadata": {},
   "source": [
    "### DummyRegressor"
   ]
  },
  {
   "cell_type": "code",
   "execution_count": 13,
   "id": "bbb1fb87-668e-4597-a9f4-1e8578fee751",
   "metadata": {},
   "outputs": [
    {
     "name": "stdout",
     "output_type": "stream",
     "text": [
      "Значение метрики самой простой модели \"Заглушки\" MAE = 10.05\n"
     ]
    }
   ],
   "source": [
    "# Протестируем самую простую модель \"Заглушка\"\n",
    "model_dr = DummyRegressor(strategy=\"mean\")\n",
    "model_dr.fit(X_train_preprocessed, y_train)\n",
    "model_dr_pred = model_dr.predict(X_test_preprocessed)\n",
    "dr_mae = mean_absolute_error(model_dr_pred, y_test)\n",
    "print(f'Значение метрики самой простой модели \"Заглушки\" MAE = {dr_mae:0.2f}')"
   ]
  },
  {
   "cell_type": "markdown",
   "id": "21087c29-1717-415d-8046-e1981298fa66",
   "metadata": {},
   "source": [
    "### LinearRegression"
   ]
  },
  {
   "cell_type": "code",
   "execution_count": 14,
   "id": "f3491120-be70-4226-a5d1-4bd10400771f",
   "metadata": {},
   "outputs": [
    {
     "name": "stdout",
     "output_type": "stream",
     "text": [
      "Fitting 10 folds for each of 1 candidates, totalling 10 fits\n",
      "[CV 1/10] END ................................., score=-4.755 total time=   0.5s\n",
      "[CV 2/10] END ................................., score=-4.210 total time=   0.5s\n",
      "[CV 3/10] END ................................., score=-4.589 total time=   0.4s\n",
      "[CV 4/10] END ................................., score=-4.286 total time=   0.4s\n",
      "[CV 5/10] END ................................., score=-4.151 total time=   0.6s\n",
      "[CV 6/10] END ................................., score=-4.147 total time=   0.4s\n",
      "[CV 7/10] END ................................., score=-4.329 total time=   0.5s\n",
      "[CV 8/10] END ................................., score=-3.993 total time=   0.4s\n",
      "[CV 9/10] END ................................., score=-5.256 total time=   0.4s\n",
      "[CV 10/10] END ................................, score=-4.307 total time=   0.5s\n",
      "MAE score = 4.40\n"
     ]
    }
   ],
   "source": [
    "lr_grid = GridSearchCV(\n",
    "    estimator=LinearRegression(),\n",
    "    cv=10,\n",
    "    param_grid={},\n",
    "    scoring='neg_mean_absolute_error', \n",
    "    verbose=3\n",
    ")\n",
    "\n",
    "lr_grid.fit(X_train_preprocessed, y_train)\n",
    "\n",
    "print(f\"MAE score = {abs(lr_grid.best_score_):0.2f}\")"
   ]
  },
  {
   "cell_type": "markdown",
   "id": "05f46631-39a3-4c76-90a9-7b2775f84855",
   "metadata": {},
   "source": [
    "### CatBoostRegressor"
   ]
  },
  {
   "cell_type": "code",
   "execution_count": null,
   "id": "32c0236c-c511-4f7e-a8a0-2be1ec464ae0",
   "metadata": {},
   "outputs": [],
   "source": [
    "cbr_params = {\n",
    "    'iterations': [1000, 2000],\n",
    "    'learning_rate': [0.01],\n",
    "    'depth': [6, 8]\n",
    "}\n",
    "cbr_grid = GridSearchCV(\n",
    "    estimator=CatBoostRegressor(\n",
    "        random_state=42,\n",
    "        logging_level='Silent',\n",
    "        loss_function='MAE'\n",
    "    ),\n",
    "    param_grid=cbr_params,\n",
    "    cv=5, \n",
    "    scoring='neg_mean_absolute_error', \n",
    "    verbose=3\n",
    ")\n",
    "\n",
    "cbr_grid.fit(X_train_preprocessed, y_train)\n",
    "\n",
    "print(f\"MAE score = {abs(cbr_grid.best_score_):0.2f}\")"
   ]
  },
  {
   "cell_type": "markdown",
   "id": "3b3d3183-d58b-41e3-ba25-9bf6f365f780",
   "metadata": {},
   "source": [
    "### RandomForestRegressor"
   ]
  },
  {
   "cell_type": "code",
   "execution_count": null,
   "id": "e8dc9d9d-962c-4504-82f7-0d5117b98ad4",
   "metadata": {},
   "outputs": [],
   "source": [
    "fr_params = {\n",
    "    'n_estimators': [10],\n",
    "    'max_depth': [8, 16],\n",
    "    # 'min_samples_split': [8, 16]\n",
    "}\n",
    "fr_grid = GridSearchCV(\n",
    "    estimator=RandomForestRegressor(\n",
    "        criterion='absolute_error',\n",
    "        random_state=42\n",
    "    ),\n",
    "    param_grid=fr_params,\n",
    "    cv=5, \n",
    "    scoring='neg_mean_absolute_error', \n",
    "    verbose=3\n",
    ")\n",
    "\n",
    "fr_grid.fit(X_train_preprocessed[:3000], y_train['tss'][:3000])\n",
    "\n",
    "print(f\"MAE score = {abs(fr_grid.best_score_):0.2f}\")"
   ]
  },
  {
   "cell_type": "markdown",
   "id": "783a6769-db93-4e72-9c5e-59e7d6af9e5b",
   "metadata": {},
   "source": [
    "### NN"
   ]
  },
  {
   "cell_type": "code",
   "execution_count": 15,
   "id": "bec0ce41-2e82-4e20-97b7-dde3e9600c77",
   "metadata": {},
   "outputs": [],
   "source": [
    "X_train_scaled_tensor = torch.tensor(X_train_preprocessed.todense(), dtype=torch.float)\n",
    "y_train_tensor = torch.tensor(y_train.values, dtype=torch.float)\n",
    "X_valid_scaled_tensor = torch.tensor(X_test_preprocessed.todense(), dtype=torch.float)\n",
    "y_valid_tensor = torch.tensor(y_test.values, dtype=torch.float)"
   ]
  },
  {
   "cell_type": "code",
   "execution_count": 16,
   "id": "bb003484-d482-4171-83d3-6407da7fcdeb",
   "metadata": {},
   "outputs": [],
   "source": [
    "class Net(nn.Module):\n",
    "    def __init__(self, n_in_neurons, n_hidden_neurons_1, n_hidden_neurons_2, n_hidden_neurons_3, n_out_neurons):\n",
    "        super(Net, self).__init__()\n",
    "        self.fc1 = nn.Linear(n_in_neurons, n_hidden_neurons_1)\n",
    "        self.fc2 = nn.Linear(n_hidden_neurons_1, n_hidden_neurons_2) \n",
    "        self.fc3 = nn.Linear(n_hidden_neurons_2, n_hidden_neurons_3) \n",
    "        self.fc4 = nn.Linear(n_hidden_neurons_3, n_out_neurons)\n",
    "        self.fa1 = nn.ELU()\n",
    "        self.fa2 = nn.LeakyReLU()\n",
    "        self.fa3 = nn.ELU()\n",
    "        self.fa4 = nn.ReLU()\n",
    "        self.dp1 = nn.Dropout()\n",
    "        self.bn1 = nn.BatchNorm1d(n_hidden_neurons_1)\n",
    "        self.dp2 = nn.Dropout()\n",
    "        self.bn2 = nn.BatchNorm1d(n_hidden_neurons_2)\n",
    "    \n",
    "    def forward(self, x):\n",
    "        out = self.fc1(x)\n",
    "        out = self.bn1(out)\n",
    "        out = self.fa1(out)\n",
    "        out = self.dp1(out)\n",
    "        out = self.fc2(out)\n",
    "        # out = self.bn2(out)\n",
    "        out = self.fa2(out)\n",
    "        # out = self.dp2(out)\n",
    "        out = self.fc3(out)\n",
    "        out = self.fa3(out)\n",
    "        out = self.fc4(out)\n",
    "        out = self.fa4(out)\n",
    "        \n",
    "        return out"
   ]
  },
  {
   "cell_type": "code",
   "execution_count": 17,
   "id": "1b91637e-8540-4404-b908-821ca7021730",
   "metadata": {},
   "outputs": [],
   "source": [
    "n_in_neurons = X_train_scaled_tensor.shape[1]\n",
    "n_hidden_neurons_1 = X_train_scaled_tensor.shape[1]*4\n",
    "n_hidden_neurons_2 = X_train_scaled_tensor.shape[1]*2\n",
    "n_hidden_neurons_3 = X_train_scaled_tensor.shape[1]//2\n",
    "n_out_neurons = 1\n",
    "lr=0.001\n",
    "num_epochs = 10000\n",
    "per_epochs = 100"
   ]
  },
  {
   "cell_type": "code",
   "execution_count": 18,
   "id": "27ca520d-ece8-4d88-be38-6fa70800a504",
   "metadata": {},
   "outputs": [],
   "source": [
    "def MAELoss(yhat,y):\n",
    "    return torch.abs(yhat - y).mean()"
   ]
  },
  {
   "cell_type": "code",
   "execution_count": null,
   "id": "c5eb7b4c-a3c3-4b81-b159-70111b2040c1",
   "metadata": {},
   "outputs": [],
   "source": [
    "net = Net(n_in_neurons, n_hidden_neurons_1, n_hidden_neurons_2, n_hidden_neurons_3, n_out_neurons) optimizer = torch.optim.Adam(net.parameters(), lr=lr)\n",
    "\n",
    "loss = MAELoss mae_min = float('inf') best_params = None\n",
    "\n",
    "for epoch in range(num_epochs): net.train() optimizer.zero_grad() preds = net.forward(X_train_scaled_tensor).flatten() loss_value = loss(preds, y_train_tensor) loss_value.backward() optimizer.step()\n",
    "\n",
    "if epoch % per_epochs == 0 or epoch == num_epochs - 1:\n",
    "    net.eval()\n",
    "    valid_preds = net(X_valid_scaled_tensor).flatten()\n",
    "    mae = loss(valid_preds, y_valid_tensor)\n",
    "    if mae_min > mae:\n",
    "        mae_min = mae\n",
    "        best_params = copy.deepcopy(net.state_dict())\n",
    "    print(f\"Epoch {epoch}/{num_epochs}, MAE = {mae}, best MAE = {mae_min}\")"
   ]
  },
  {
   "cell_type": "code",
   "execution_count": null,
   "id": "289263e2-7c6d-47a0-9532-e13799f88652",
   "metadata": {},
   "outputs": [],
   "source": [
    "model = cbr_grid.best_estimator_"
   ]
  },
  {
   "cell_type": "code",
   "execution_count": null,
   "id": "87f33f44-c58c-43b7-9afa-ffe2b2065094",
   "metadata": {},
   "outputs": [],
   "source": [
    "y_pred = model.predict(X_test_preprocessed)"
   ]
  },
  {
   "cell_type": "code",
   "execution_count": null,
   "id": "5cb13481-8bf5-44ff-b09e-fb2a4859c029",
   "metadata": {},
   "outputs": [],
   "source": [
    "result = pd.concat([test, pd.DataFrame(y_pred)], axis=1)"
   ]
  },
  {
   "cell_type": "code",
   "execution_count": null,
   "id": "1cace6c7-4987-41de-bf4f-ade9b4eff2e6",
   "metadata": {},
   "outputs": [],
   "source": [
    "result.groupby(['category', 'segment', 'name']).first().sort_values(by=0, ascending=False)"
   ]
  },
  {
   "cell_type": "code",
   "execution_count": null,
   "id": "4acf6412-1a50-46c7-b809-80bc8258aad2",
   "metadata": {},
   "outputs": [],
   "source": []
  }
 ],
 "metadata": {
  "kernelspec": {
   "display_name": "Python 3 (ipykernel)",
   "language": "python",
   "name": "python3"
  },
  "language_info": {
   "codemirror_mode": {
    "name": "ipython",
    "version": 3
   },
   "file_extension": ".py",
   "mimetype": "text/x-python",
   "name": "python",
   "nbconvert_exporter": "python",
   "pygments_lexer": "ipython3",
   "version": "3.12.7"
  }
 },
 "nbformat": 4,
 "nbformat_minor": 5
}
