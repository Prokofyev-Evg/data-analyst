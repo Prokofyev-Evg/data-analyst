{
 "cells": [
  {
   "cell_type": "markdown",
   "id": "935f5879",
   "metadata": {},
   "source": [
    "## Описание проекта\n",
    "Фермер хочет купить бурёнок, чтобы расширить поголовье стада коров. Для этого он заключил выгодный контракт с ассоциацией пастбищ «ЭкоФерма».\n",
    "\n",
    "Условия позволяют фермеру очень тщательно отобрать коров. Он определяет качество молока по строгой методике, и при этом ему нужно выполнять свой план развития молочного хозяйства. Фермер хочет, чтобы каждая бурёнка давала не менее 6000 килограммов молока в год, а её надой был вкусным — строго по его критериям, ничуть не хуже. А продавцы и технологи так и норовят приукрасить своих коровок!\n",
    "\n",
    "Необходимо разработать модель машинного обучения, которая поможет фермеру управлять рисками и принимать объективное решение о покупке. «ЭкоФерма» готова предоставить подробные данные о своих коровах. Нужно создать две прогнозные модели для отбора бурёнок в поголовье:\n",
    "- Первая будет прогнозировать возможный удой коровы (целевой признак `Удой`);\n",
    "- Вторая — рассчитывать вероятность получить вкусное молоко от коровы (целевой признак `Вкус молока`).\n",
    "\n",
    "С помощью модели нужно отобрать коров по двум критериям:\n",
    "- средний удой за год — не менее 6000 килограммов;\n",
    "- молоко должно быть вкусным."
   ]
  },
  {
   "cell_type": "markdown",
   "id": "bf6ec817",
   "metadata": {},
   "source": [
    "## Описание данных"
   ]
  },
  {
   "cell_type": "markdown",
   "id": "f6f5ba23",
   "metadata": {},
   "source": [
    "### Файл ferma_main.csv содержит данные о стаде фермера на текущий момент"
   ]
  },
  {
   "cell_type": "markdown",
   "id": "885ffa11",
   "metadata": {},
   "source": [
    "- `id` — уникальный идентификатор коровы.\n",
    "- `Удой, кг` — масса молока, которую корова даёт в год (в килограммах).\n",
    "- `ЭКЕ (Энергетическая кормовая единица)` — показатель питательности корма коровы.\n",
    "- `Сырой протеин, г` — содержание сырого протеина в корме (в граммах).\n",
    "- `СПО (Сахаро-протеиновое соотношение)` — отношение сахара к протеину в корме коровы.\n",
    "- `Порода` — порода коровы.\n",
    "- `Тип пастбища` — ландшафт лугов, на которых паслась корова.\n",
    "- `порода папы_быка` — порода папы коровы.\n",
    "- `Жирность,%` — содержание жиров в молоке (в процентах).\n",
    "- `Белок,%` — содержание белков в молоке (в процентах).\n",
    "- `Вкус молока` — оценка вкуса по личным критериям фермера, бинарный признак (вкусно, не вкусно).\n",
    "- `Возраст` — возраст коровы, бинарный признак (менее_2_лет, более_2_лет)."
   ]
  },
  {
   "cell_type": "markdown",
   "id": "c5e3ea49",
   "metadata": {},
   "source": [
    "Признаки в датасете ferma_main.csv можно разделить на группы.\n",
    "- Характеристики коровы: `id`, `Порода`, `порода папы_быка`, `Возраст`.\n",
    "- Характеристики корма: `ЭКЕ (Энергетическая кормовая единица)`, `Сырой протеин, г`, `СПО (Сахаро-протеиновое соотношение)`.\n",
    "- Характеристика пастбища: `Тип пастбища`.\n",
    "- Характеристики молока: `Удой, кг`, `Жирность,%`, `Белок,%`, `Вкус молока`."
   ]
  },
  {
   "cell_type": "markdown",
   "id": "2d4243e6",
   "metadata": {},
   "source": [
    "### Файл ferma_dad.csv хранит имя папы каждой коровы в стаде фермера\n",
    "- `id` — уникальный идентификатор коровы.\n",
    "- `Имя Папы` — имя папы коровы."
   ]
  },
  {
   "cell_type": "markdown",
   "id": "da20f1d4",
   "metadata": {},
   "source": [
    "### Файл cow_buy.csv — это данные о коровах «ЭкоФермы», которых фермер хочет изучить перед покупкой\n",
    "- `Порода` — порода коровы.\n",
    "- `Тип пастбища` — ландшафт лугов, на которых паслась корова.\n",
    "- `порода папы_быка` — порода папы коровы.\n",
    "- `Имя_папы` — имя папы коровы.\n",
    "- `Текущая_жирность,%` — содержание жиров в молоке (в процентах).\n",
    "- `Текущий_уровень_белок,%` — содержание белков в молоке (в процентах).\n",
    "- `Возраст` — возраст коровы, бинарный признак (менее 2 лет, более 2 лет)."
   ]
  },
  {
   "cell_type": "markdown",
   "id": "7324b277",
   "metadata": {},
   "source": [
    "Данные в файлах ferma_main.csv и cow_buy.csv похожи, но у датасета cow_buy.csv несколько особенностей.\n",
    "- Содержание белков и жиров в молоке указано на момент продажи — когда «ЭкоФерма» давала коровам свой корм.\n",
    "- Параметры корма `ЭКЕ (Энергетическая кормовая единица)`, `Сырой протеин, г` и `СПО (Сахаро-протеиновое соотношение)` отсутствуют. Технологи заказчика пересмотрели подход к кормлению: для новых коров планируется увеличить значения каждого из этих параметров на 5%.\n",
    "- Кроме того, отсутствуют признаки `Удой, кг` и `Вкус молока`. Это целевые признаки, именно их предстоит предсказать!"
   ]
  },
  {
   "cell_type": "code",
   "execution_count": 2,
   "id": "adfd76b6",
   "metadata": {},
   "outputs": [],
   "source": [
    "import pandas as pd"
   ]
  },
  {
   "cell_type": "markdown",
   "id": "696e1a38",
   "metadata": {},
   "source": [
    "## Шаг 1. Загрузите и изучите данные"
   ]
  },
  {
   "cell_type": "code",
   "execution_count": 69,
   "id": "fe70d0ea",
   "metadata": {},
   "outputs": [],
   "source": [
    "ferma_main = pd.read_csv('https://code.s3.yandex.net/datasets/ferma_main.csv', sep=';', decimal=\",\")\n",
    "ferma_dad = pd.read_csv('https://code.s3.yandex.net/datasets/ferma_dad.csv', sep=';', decimal=\",\")\n",
    "cow_buy = pd.read_csv('https://code.s3.yandex.net/datasets/cow_buy.csv', sep=';', decimal=\",\")"
   ]
  },
  {
   "cell_type": "code",
   "execution_count": 48,
   "id": "640c2ae0",
   "metadata": {},
   "outputs": [],
   "source": [
    "def primary_information(df):\n",
    "    display(df.info())\n",
    "    display(df.head())"
   ]
  },
  {
   "cell_type": "code",
   "execution_count": 85,
   "id": "8d7e5dc6",
   "metadata": {},
   "outputs": [
    {
     "name": "stdout",
     "output_type": "stream",
     "text": [
      "<class 'pandas.core.frame.DataFrame'>\n",
      "RangeIndex: 629 entries, 0 to 628\n",
      "Data columns (total 12 columns):\n",
      " #   Column               Non-Null Count  Dtype  \n",
      "---  ------               --------------  -----  \n",
      " 0   id                   629 non-null    int64  \n",
      " 1   milk_yield           629 non-null    int64  \n",
      " 2   energy_feed_unit     629 non-null    float64\n",
      " 3   raw_protein          629 non-null    int64  \n",
      " 4   sugar_protein_ratio  629 non-null    float64\n",
      " 5   breed                629 non-null    object \n",
      " 6   pasture_type         629 non-null    object \n",
      " 7   dad_breed            629 non-null    object \n",
      " 8   fat_content          629 non-null    float64\n",
      " 9   protein              629 non-null    float64\n",
      " 10  taste                629 non-null    object \n",
      " 11  age                  629 non-null    object \n",
      "dtypes: float64(4), int64(3), object(5)\n",
      "memory usage: 59.1+ KB\n"
     ]
    },
    {
     "data": {
      "text/plain": [
       "None"
      ]
     },
     "metadata": {},
     "output_type": "display_data"
    },
    {
     "data": {
      "text/html": [
       "<div>\n",
       "<style scoped>\n",
       "    .dataframe tbody tr th:only-of-type {\n",
       "        vertical-align: middle;\n",
       "    }\n",
       "\n",
       "    .dataframe tbody tr th {\n",
       "        vertical-align: top;\n",
       "    }\n",
       "\n",
       "    .dataframe thead th {\n",
       "        text-align: right;\n",
       "    }\n",
       "</style>\n",
       "<table border=\"1\" class=\"dataframe\">\n",
       "  <thead>\n",
       "    <tr style=\"text-align: right;\">\n",
       "      <th></th>\n",
       "      <th>id</th>\n",
       "      <th>milk_yield</th>\n",
       "      <th>energy_feed_unit</th>\n",
       "      <th>raw_protein</th>\n",
       "      <th>sugar_protein_ratio</th>\n",
       "      <th>breed</th>\n",
       "      <th>pasture_type</th>\n",
       "      <th>dad_breed</th>\n",
       "      <th>fat_content</th>\n",
       "      <th>protein</th>\n",
       "      <th>taste</th>\n",
       "      <th>age</th>\n",
       "    </tr>\n",
       "  </thead>\n",
       "  <tbody>\n",
       "    <tr>\n",
       "      <th>0</th>\n",
       "      <td>1</td>\n",
       "      <td>5863</td>\n",
       "      <td>14.2</td>\n",
       "      <td>1743</td>\n",
       "      <td>0.890</td>\n",
       "      <td>Вис Бик Айдиал</td>\n",
       "      <td>Равнинное</td>\n",
       "      <td>Айдиал</td>\n",
       "      <td>3.58</td>\n",
       "      <td>3.076</td>\n",
       "      <td>вкусно</td>\n",
       "      <td>более_2_лет</td>\n",
       "    </tr>\n",
       "    <tr>\n",
       "      <th>1</th>\n",
       "      <td>2</td>\n",
       "      <td>5529</td>\n",
       "      <td>12.8</td>\n",
       "      <td>2138</td>\n",
       "      <td>0.890</td>\n",
       "      <td>Вис Бик Айдиал</td>\n",
       "      <td>Равнинные</td>\n",
       "      <td>Соверин</td>\n",
       "      <td>3.54</td>\n",
       "      <td>3.079</td>\n",
       "      <td>вкусно</td>\n",
       "      <td>менее_2_лет</td>\n",
       "    </tr>\n",
       "    <tr>\n",
       "      <th>2</th>\n",
       "      <td>3</td>\n",
       "      <td>5810</td>\n",
       "      <td>14.0</td>\n",
       "      <td>1854</td>\n",
       "      <td>0.885</td>\n",
       "      <td>РефлешнСоверинг</td>\n",
       "      <td>Холмистое</td>\n",
       "      <td>Соверин</td>\n",
       "      <td>3.59</td>\n",
       "      <td>3.074</td>\n",
       "      <td>не вкусно</td>\n",
       "      <td>более_2_лет</td>\n",
       "    </tr>\n",
       "    <tr>\n",
       "      <th>3</th>\n",
       "      <td>4</td>\n",
       "      <td>5895</td>\n",
       "      <td>12.4</td>\n",
       "      <td>2012</td>\n",
       "      <td>0.885</td>\n",
       "      <td>РефлешнСоверинг</td>\n",
       "      <td>Холмистое</td>\n",
       "      <td>Айдиал</td>\n",
       "      <td>3.40</td>\n",
       "      <td>3.075</td>\n",
       "      <td>не вкусно</td>\n",
       "      <td>более_2_лет</td>\n",
       "    </tr>\n",
       "    <tr>\n",
       "      <th>4</th>\n",
       "      <td>5</td>\n",
       "      <td>5302</td>\n",
       "      <td>12.8</td>\n",
       "      <td>1675</td>\n",
       "      <td>0.885</td>\n",
       "      <td>Вис Бик Айдиал</td>\n",
       "      <td>Равнинные</td>\n",
       "      <td>Соверин</td>\n",
       "      <td>3.73</td>\n",
       "      <td>3.073</td>\n",
       "      <td>вкусно</td>\n",
       "      <td>менее_2_лет</td>\n",
       "    </tr>\n",
       "  </tbody>\n",
       "</table>\n",
       "</div>"
      ],
      "text/plain": [
       "   id  milk_yield  energy_feed_unit  raw_protein  sugar_protein_ratio  \\\n",
       "0   1        5863              14.2         1743                0.890   \n",
       "1   2        5529              12.8         2138                0.890   \n",
       "2   3        5810              14.0         1854                0.885   \n",
       "3   4        5895              12.4         2012                0.885   \n",
       "4   5        5302              12.8         1675                0.885   \n",
       "\n",
       "             breed pasture_type dad_breed  fat_content  protein      taste  \\\n",
       "0   Вис Бик Айдиал    Равнинное    Айдиал         3.58    3.076     вкусно   \n",
       "1   Вис Бик Айдиал    Равнинные   Соверин         3.54    3.079     вкусно   \n",
       "2  РефлешнСоверинг    Холмистое   Соверин         3.59    3.074  не вкусно   \n",
       "3  РефлешнСоверинг    Холмистое    Айдиал         3.40    3.075  не вкусно   \n",
       "4   Вис Бик Айдиал    Равнинные   Соверин         3.73    3.073     вкусно   \n",
       "\n",
       "           age  \n",
       "0  более_2_лет  \n",
       "1  менее_2_лет  \n",
       "2  более_2_лет  \n",
       "3  более_2_лет  \n",
       "4  менее_2_лет  "
      ]
     },
     "metadata": {},
     "output_type": "display_data"
    },
    {
     "name": "stdout",
     "output_type": "stream",
     "text": [
      "<class 'pandas.core.frame.DataFrame'>\n",
      "RangeIndex: 629 entries, 0 to 628\n",
      "Data columns (total 2 columns):\n",
      " #   Column    Non-Null Count  Dtype \n",
      "---  ------    --------------  ----- \n",
      " 0   id        629 non-null    int64 \n",
      " 1   dad_name  629 non-null    object\n",
      "dtypes: int64(1), object(1)\n",
      "memory usage: 10.0+ KB\n"
     ]
    },
    {
     "data": {
      "text/plain": [
       "None"
      ]
     },
     "metadata": {},
     "output_type": "display_data"
    },
    {
     "data": {
      "text/html": [
       "<div>\n",
       "<style scoped>\n",
       "    .dataframe tbody tr th:only-of-type {\n",
       "        vertical-align: middle;\n",
       "    }\n",
       "\n",
       "    .dataframe tbody tr th {\n",
       "        vertical-align: top;\n",
       "    }\n",
       "\n",
       "    .dataframe thead th {\n",
       "        text-align: right;\n",
       "    }\n",
       "</style>\n",
       "<table border=\"1\" class=\"dataframe\">\n",
       "  <thead>\n",
       "    <tr style=\"text-align: right;\">\n",
       "      <th></th>\n",
       "      <th>id</th>\n",
       "      <th>dad_name</th>\n",
       "    </tr>\n",
       "  </thead>\n",
       "  <tbody>\n",
       "    <tr>\n",
       "      <th>0</th>\n",
       "      <td>1</td>\n",
       "      <td>Буйный</td>\n",
       "    </tr>\n",
       "    <tr>\n",
       "      <th>1</th>\n",
       "      <td>2</td>\n",
       "      <td>Соловчик</td>\n",
       "    </tr>\n",
       "    <tr>\n",
       "      <th>2</th>\n",
       "      <td>3</td>\n",
       "      <td>Барин</td>\n",
       "    </tr>\n",
       "    <tr>\n",
       "      <th>3</th>\n",
       "      <td>4</td>\n",
       "      <td>Буйный</td>\n",
       "    </tr>\n",
       "    <tr>\n",
       "      <th>4</th>\n",
       "      <td>5</td>\n",
       "      <td>Барин</td>\n",
       "    </tr>\n",
       "  </tbody>\n",
       "</table>\n",
       "</div>"
      ],
      "text/plain": [
       "   id  dad_name\n",
       "0   1    Буйный\n",
       "1   2  Соловчик\n",
       "2   3     Барин\n",
       "3   4    Буйный\n",
       "4   5     Барин"
      ]
     },
     "metadata": {},
     "output_type": "display_data"
    },
    {
     "name": "stdout",
     "output_type": "stream",
     "text": [
      "<class 'pandas.core.frame.DataFrame'>\n",
      "RangeIndex: 16 entries, 0 to 15\n",
      "Data columns (total 7 columns):\n",
      " #   Column               Non-Null Count  Dtype  \n",
      "---  ------               --------------  -----  \n",
      " 0   breed                16 non-null     object \n",
      " 1   pasture_type         16 non-null     object \n",
      " 2   dad_breed            16 non-null     object \n",
      " 3   dad_name             16 non-null     object \n",
      " 4   current_fat_content  16 non-null     float64\n",
      " 5   current_protein      16 non-null     float64\n",
      " 6   age                  16 non-null     object \n",
      "dtypes: float64(2), object(5)\n",
      "memory usage: 1.0+ KB\n"
     ]
    },
    {
     "data": {
      "text/plain": [
       "None"
      ]
     },
     "metadata": {},
     "output_type": "display_data"
    },
    {
     "data": {
      "text/html": [
       "<div>\n",
       "<style scoped>\n",
       "    .dataframe tbody tr th:only-of-type {\n",
       "        vertical-align: middle;\n",
       "    }\n",
       "\n",
       "    .dataframe tbody tr th {\n",
       "        vertical-align: top;\n",
       "    }\n",
       "\n",
       "    .dataframe thead th {\n",
       "        text-align: right;\n",
       "    }\n",
       "</style>\n",
       "<table border=\"1\" class=\"dataframe\">\n",
       "  <thead>\n",
       "    <tr style=\"text-align: right;\">\n",
       "      <th></th>\n",
       "      <th>breed</th>\n",
       "      <th>pasture_type</th>\n",
       "      <th>dad_breed</th>\n",
       "      <th>dad_name</th>\n",
       "      <th>current_fat_content</th>\n",
       "      <th>current_protein</th>\n",
       "      <th>age</th>\n",
       "    </tr>\n",
       "  </thead>\n",
       "  <tbody>\n",
       "    <tr>\n",
       "      <th>0</th>\n",
       "      <td>Вис Бик Айдиал</td>\n",
       "      <td>холмистое</td>\n",
       "      <td>Айдиал</td>\n",
       "      <td>Геркулес</td>\n",
       "      <td>3.58</td>\n",
       "      <td>3.076</td>\n",
       "      <td>более_2_лет</td>\n",
       "    </tr>\n",
       "    <tr>\n",
       "      <th>1</th>\n",
       "      <td>Вис Бик Айдиал</td>\n",
       "      <td>равнинное</td>\n",
       "      <td>Соверин</td>\n",
       "      <td>Буйный</td>\n",
       "      <td>3.54</td>\n",
       "      <td>3.081</td>\n",
       "      <td>менее_2_лет</td>\n",
       "    </tr>\n",
       "    <tr>\n",
       "      <th>2</th>\n",
       "      <td>РефлешнСоверинг</td>\n",
       "      <td>равнинное</td>\n",
       "      <td>Соверин</td>\n",
       "      <td>Барин</td>\n",
       "      <td>3.59</td>\n",
       "      <td>3.074</td>\n",
       "      <td>более_2_лет</td>\n",
       "    </tr>\n",
       "    <tr>\n",
       "      <th>3</th>\n",
       "      <td>РефлешнСоверинг</td>\n",
       "      <td>холмистое</td>\n",
       "      <td>Айдиал</td>\n",
       "      <td>Буйный</td>\n",
       "      <td>3.40</td>\n",
       "      <td>3.061</td>\n",
       "      <td>более_2_лет</td>\n",
       "    </tr>\n",
       "    <tr>\n",
       "      <th>4</th>\n",
       "      <td>РефлешнСоверинг</td>\n",
       "      <td>равнинное</td>\n",
       "      <td>Айдиал</td>\n",
       "      <td>Буйный</td>\n",
       "      <td>3.64</td>\n",
       "      <td>3.074</td>\n",
       "      <td>более_2_лет</td>\n",
       "    </tr>\n",
       "  </tbody>\n",
       "</table>\n",
       "</div>"
      ],
      "text/plain": [
       "             breed pasture_type dad_breed  dad_name  current_fat_content  \\\n",
       "0   Вис Бик Айдиал    холмистое    Айдиал  Геркулес                 3.58   \n",
       "1   Вис Бик Айдиал    равнинное   Соверин    Буйный                 3.54   \n",
       "2  РефлешнСоверинг    равнинное   Соверин     Барин                 3.59   \n",
       "3  РефлешнСоверинг    холмистое    Айдиал    Буйный                 3.40   \n",
       "4  РефлешнСоверинг    равнинное    Айдиал    Буйный                 3.64   \n",
       "\n",
       "   current_protein          age  \n",
       "0            3.076  более_2_лет  \n",
       "1            3.081  менее_2_лет  \n",
       "2            3.074  более_2_лет  \n",
       "3            3.061  более_2_лет  \n",
       "4            3.074  более_2_лет  "
      ]
     },
     "metadata": {},
     "output_type": "display_data"
    }
   ],
   "source": [
    "primary_information(ferma_main)\n",
    "primary_information(ferma_dad)\n",
    "primary_information(cow_buy)"
   ]
  },
  {
   "cell_type": "markdown",
   "id": "9aca0908",
   "metadata": {},
   "source": [
    "Приведем названия столбцов к единому стилю:"
   ]
  },
  {
   "cell_type": "code",
   "execution_count": 71,
   "id": "a609546c",
   "metadata": {},
   "outputs": [],
   "source": [
    "ferma_main = ferma_main.rename(columns={\n",
    "    'Удой, кг' : 'milk_yield',\n",
    "    'ЭКЕ (Энергетическая кормовая единица)' : 'energy_feed_unit',\n",
    "    'Сырой протеин, г' : 'raw_protein',\n",
    "    'СПО (Сахаро-протеиновое соотношение)': 'sugar_protein_ratio',\n",
    "    'Порода': 'breed',\n",
    "    'Тип пастбища': 'pasture_type',\n",
    "    'порода папы_быка': 'dad_breed',\n",
    "    'Жирность,%': 'fat_content',\n",
    "    'Белок,%': 'protein',\n",
    "    'Вкус молока': 'taste',\n",
    "    'Возраст': 'age'\n",
    "})"
   ]
  },
  {
   "cell_type": "code",
   "execution_count": 72,
   "id": "0a1ec4eb",
   "metadata": {},
   "outputs": [],
   "source": [
    "ferma_dad = ferma_dad.rename(columns={'Имя Папы' : 'dad_name'})"
   ]
  },
  {
   "cell_type": "code",
   "execution_count": 73,
   "id": "87bbacd1",
   "metadata": {},
   "outputs": [],
   "source": [
    "cow_buy = cow_buy.rename(columns={\n",
    "    'Порода' : 'breed',\n",
    "    'Тип пастбища' : 'pasture_type',\n",
    "    'порода папы_быка' : 'dad_breed',\n",
    "    'Имя_папы': 'dad_name',\n",
    "    'Текущая_жирность,%': 'current_fat_content',\n",
    "    'Текущий_уровень_белок,%': 'current_protein',\n",
    "    'Возраст': 'age'\n",
    "})"
   ]
  },
  {
   "cell_type": "markdown",
   "id": "f0793ea7",
   "metadata": {},
   "source": [
    "## Шаг 2. Предобработка данных"
   ]
  },
  {
   "cell_type": "markdown",
   "id": "e40a89ee",
   "metadata": {},
   "source": [
    "Проверим датасеты на наличие пропусков"
   ]
  },
  {
   "cell_type": "code",
   "execution_count": 74,
   "id": "d2a10af3",
   "metadata": {},
   "outputs": [
    {
     "data": {
      "text/plain": [
       "id                     0\n",
       "milk_yield             0\n",
       "energy_feed_unit       0\n",
       "raw_protein            0\n",
       "sugar_protein_ratio    0\n",
       "breed                  0\n",
       "pasture_type           0\n",
       "dad_breed              0\n",
       "fat_content            0\n",
       "protein                0\n",
       "taste                  0\n",
       "age                    0\n",
       "dtype: int64"
      ]
     },
     "execution_count": 74,
     "metadata": {},
     "output_type": "execute_result"
    }
   ],
   "source": [
    "ferma_main.isna().sum()"
   ]
  },
  {
   "cell_type": "code",
   "execution_count": 75,
   "id": "e0e3c8c5",
   "metadata": {},
   "outputs": [
    {
     "data": {
      "text/plain": [
       "id          0\n",
       "dad_name    0\n",
       "dtype: int64"
      ]
     },
     "execution_count": 75,
     "metadata": {},
     "output_type": "execute_result"
    }
   ],
   "source": [
    "ferma_dad.isna().sum()"
   ]
  },
  {
   "cell_type": "code",
   "execution_count": 83,
   "id": "8ed82745",
   "metadata": {},
   "outputs": [
    {
     "data": {
      "text/plain": [
       "breed                  0\n",
       "pasture_type           0\n",
       "dad_breed              0\n",
       "dad_name               0\n",
       "current_fat_content    0\n",
       "current_protein        0\n",
       "age                    0\n",
       "dtype: int64"
      ]
     },
     "execution_count": 83,
     "metadata": {},
     "output_type": "execute_result"
    }
   ],
   "source": [
    "cow_buy.isna().sum()"
   ]
  },
  {
   "cell_type": "markdown",
   "id": "e59c7040",
   "metadata": {},
   "source": [
    "Пропуски отсутствуют"
   ]
  },
  {
   "cell_type": "markdown",
   "id": "d3bed6c0",
   "metadata": {},
   "source": [
    "Проверим наличие дубликатов и удалим их:"
   ]
  },
  {
   "cell_type": "code",
   "execution_count": 77,
   "id": "56a3ce72",
   "metadata": {},
   "outputs": [
    {
     "data": {
      "text/html": [
       "<div>\n",
       "<style scoped>\n",
       "    .dataframe tbody tr th:only-of-type {\n",
       "        vertical-align: middle;\n",
       "    }\n",
       "\n",
       "    .dataframe tbody tr th {\n",
       "        vertical-align: top;\n",
       "    }\n",
       "\n",
       "    .dataframe thead th {\n",
       "        text-align: right;\n",
       "    }\n",
       "</style>\n",
       "<table border=\"1\" class=\"dataframe\">\n",
       "  <thead>\n",
       "    <tr style=\"text-align: right;\">\n",
       "      <th></th>\n",
       "      <th>id</th>\n",
       "      <th>milk_yield</th>\n",
       "      <th>energy_feed_unit</th>\n",
       "      <th>raw_protein</th>\n",
       "      <th>sugar_protein_ratio</th>\n",
       "      <th>breed</th>\n",
       "      <th>pasture_type</th>\n",
       "      <th>dad_breed</th>\n",
       "      <th>fat_content</th>\n",
       "      <th>protein</th>\n",
       "      <th>taste</th>\n",
       "      <th>age</th>\n",
       "    </tr>\n",
       "  </thead>\n",
       "  <tbody>\n",
       "    <tr>\n",
       "      <th>629</th>\n",
       "      <td>627</td>\n",
       "      <td>5970</td>\n",
       "      <td>14.4</td>\n",
       "      <td>1837</td>\n",
       "      <td>0.88</td>\n",
       "      <td>РефлешнСоверинг</td>\n",
       "      <td>Холмистое</td>\n",
       "      <td>Соверин</td>\n",
       "      <td>3.64</td>\n",
       "      <td>3.075</td>\n",
       "      <td>не вкусно</td>\n",
       "      <td>более_2_лет</td>\n",
       "    </tr>\n",
       "    <tr>\n",
       "      <th>630</th>\n",
       "      <td>627</td>\n",
       "      <td>5970</td>\n",
       "      <td>14.4</td>\n",
       "      <td>1837</td>\n",
       "      <td>0.88</td>\n",
       "      <td>РефлешнСоверинг</td>\n",
       "      <td>Холмистое</td>\n",
       "      <td>Соверин</td>\n",
       "      <td>3.64</td>\n",
       "      <td>3.075</td>\n",
       "      <td>не вкусно</td>\n",
       "      <td>более_2_лет</td>\n",
       "    </tr>\n",
       "    <tr>\n",
       "      <th>631</th>\n",
       "      <td>627</td>\n",
       "      <td>5970</td>\n",
       "      <td>14.4</td>\n",
       "      <td>1837</td>\n",
       "      <td>0.88</td>\n",
       "      <td>РефлешнСоверинг</td>\n",
       "      <td>Холмистое</td>\n",
       "      <td>Соверин</td>\n",
       "      <td>3.64</td>\n",
       "      <td>3.075</td>\n",
       "      <td>не вкусно</td>\n",
       "      <td>более_2_лет</td>\n",
       "    </tr>\n",
       "    <tr>\n",
       "      <th>632</th>\n",
       "      <td>627</td>\n",
       "      <td>5970</td>\n",
       "      <td>14.4</td>\n",
       "      <td>1837</td>\n",
       "      <td>0.88</td>\n",
       "      <td>РефлешнСоверинг</td>\n",
       "      <td>Холмистое</td>\n",
       "      <td>Соверин</td>\n",
       "      <td>3.64</td>\n",
       "      <td>3.075</td>\n",
       "      <td>не вкусно</td>\n",
       "      <td>более_2_лет</td>\n",
       "    </tr>\n",
       "    <tr>\n",
       "      <th>633</th>\n",
       "      <td>627</td>\n",
       "      <td>5970</td>\n",
       "      <td>14.4</td>\n",
       "      <td>1837</td>\n",
       "      <td>0.88</td>\n",
       "      <td>РефлешнСоверинг</td>\n",
       "      <td>Холмистое</td>\n",
       "      <td>Соверин</td>\n",
       "      <td>3.64</td>\n",
       "      <td>3.075</td>\n",
       "      <td>не вкусно</td>\n",
       "      <td>более_2_лет</td>\n",
       "    </tr>\n",
       "  </tbody>\n",
       "</table>\n",
       "</div>"
      ],
      "text/plain": [
       "      id  milk_yield  energy_feed_unit  raw_protein  sugar_protein_ratio  \\\n",
       "629  627        5970              14.4         1837                 0.88   \n",
       "630  627        5970              14.4         1837                 0.88   \n",
       "631  627        5970              14.4         1837                 0.88   \n",
       "632  627        5970              14.4         1837                 0.88   \n",
       "633  627        5970              14.4         1837                 0.88   \n",
       "\n",
       "               breed pasture_type dad_breed  fat_content  protein      taste  \\\n",
       "629  РефлешнСоверинг    Холмистое   Соверин         3.64    3.075  не вкусно   \n",
       "630  РефлешнСоверинг    Холмистое   Соверин         3.64    3.075  не вкусно   \n",
       "631  РефлешнСоверинг    Холмистое   Соверин         3.64    3.075  не вкусно   \n",
       "632  РефлешнСоверинг    Холмистое   Соверин         3.64    3.075  не вкусно   \n",
       "633  РефлешнСоверинг    Холмистое   Соверин         3.64    3.075  не вкусно   \n",
       "\n",
       "             age  \n",
       "629  более_2_лет  \n",
       "630  более_2_лет  \n",
       "631  более_2_лет  \n",
       "632  более_2_лет  \n",
       "633  более_2_лет  "
      ]
     },
     "execution_count": 77,
     "metadata": {},
     "output_type": "execute_result"
    }
   ],
   "source": [
    "ferma_main[ferma_main.duplicated()]"
   ]
  },
  {
   "cell_type": "code",
   "execution_count": 78,
   "id": "a0b8211e",
   "metadata": {},
   "outputs": [],
   "source": [
    "ferma_main.drop_duplicates(ignore_index=True, inplace=True)"
   ]
  },
  {
   "cell_type": "code",
   "execution_count": 79,
   "id": "a23c4314",
   "metadata": {},
   "outputs": [
    {
     "data": {
      "text/html": [
       "<div>\n",
       "<style scoped>\n",
       "    .dataframe tbody tr th:only-of-type {\n",
       "        vertical-align: middle;\n",
       "    }\n",
       "\n",
       "    .dataframe tbody tr th {\n",
       "        vertical-align: top;\n",
       "    }\n",
       "\n",
       "    .dataframe thead th {\n",
       "        text-align: right;\n",
       "    }\n",
       "</style>\n",
       "<table border=\"1\" class=\"dataframe\">\n",
       "  <thead>\n",
       "    <tr style=\"text-align: right;\">\n",
       "      <th></th>\n",
       "      <th>id</th>\n",
       "      <th>dad_name</th>\n",
       "    </tr>\n",
       "  </thead>\n",
       "  <tbody>\n",
       "  </tbody>\n",
       "</table>\n",
       "</div>"
      ],
      "text/plain": [
       "Empty DataFrame\n",
       "Columns: [id, dad_name]\n",
       "Index: []"
      ]
     },
     "execution_count": 79,
     "metadata": {},
     "output_type": "execute_result"
    }
   ],
   "source": [
    "ferma_dad[ferma_dad.duplicated()]"
   ]
  },
  {
   "cell_type": "code",
   "execution_count": 80,
   "id": "a8116422",
   "metadata": {},
   "outputs": [
    {
     "data": {
      "text/html": [
       "<div>\n",
       "<style scoped>\n",
       "    .dataframe tbody tr th:only-of-type {\n",
       "        vertical-align: middle;\n",
       "    }\n",
       "\n",
       "    .dataframe tbody tr th {\n",
       "        vertical-align: top;\n",
       "    }\n",
       "\n",
       "    .dataframe thead th {\n",
       "        text-align: right;\n",
       "    }\n",
       "</style>\n",
       "<table border=\"1\" class=\"dataframe\">\n",
       "  <thead>\n",
       "    <tr style=\"text-align: right;\">\n",
       "      <th></th>\n",
       "      <th>breed</th>\n",
       "      <th>pasture_type</th>\n",
       "      <th>dad_breed</th>\n",
       "      <th>dad_name</th>\n",
       "      <th>current_fat_content</th>\n",
       "      <th>current_protein</th>\n",
       "      <th>age</th>\n",
       "    </tr>\n",
       "  </thead>\n",
       "  <tbody>\n",
       "    <tr>\n",
       "      <th>6</th>\n",
       "      <td>Вис Бик Айдиал</td>\n",
       "      <td>холмистое</td>\n",
       "      <td>Айдиал</td>\n",
       "      <td>Геркулес</td>\n",
       "      <td>3.58</td>\n",
       "      <td>3.076</td>\n",
       "      <td>более_2_лет</td>\n",
       "    </tr>\n",
       "    <tr>\n",
       "      <th>8</th>\n",
       "      <td>РефлешнСоверинг</td>\n",
       "      <td>равнинное</td>\n",
       "      <td>Соверин</td>\n",
       "      <td>Барин</td>\n",
       "      <td>3.59</td>\n",
       "      <td>3.074</td>\n",
       "      <td>более_2_лет</td>\n",
       "    </tr>\n",
       "    <tr>\n",
       "      <th>14</th>\n",
       "      <td>РефлешнСоверинг</td>\n",
       "      <td>равнинное</td>\n",
       "      <td>Соверин</td>\n",
       "      <td>Барин</td>\n",
       "      <td>3.59</td>\n",
       "      <td>3.074</td>\n",
       "      <td>более_2_лет</td>\n",
       "    </tr>\n",
       "    <tr>\n",
       "      <th>19</th>\n",
       "      <td>РефлешнСоверинг</td>\n",
       "      <td>равнинное</td>\n",
       "      <td>Айдиал</td>\n",
       "      <td>Буйный</td>\n",
       "      <td>3.64</td>\n",
       "      <td>3.074</td>\n",
       "      <td>более_2_лет</td>\n",
       "    </tr>\n",
       "  </tbody>\n",
       "</table>\n",
       "</div>"
      ],
      "text/plain": [
       "              breed pasture_type dad_breed  dad_name  current_fat_content  \\\n",
       "6    Вис Бик Айдиал    холмистое    Айдиал  Геркулес                 3.58   \n",
       "8   РефлешнСоверинг    равнинное   Соверин     Барин                 3.59   \n",
       "14  РефлешнСоверинг    равнинное   Соверин     Барин                 3.59   \n",
       "19  РефлешнСоверинг    равнинное    Айдиал    Буйный                 3.64   \n",
       "\n",
       "    current_protein          age  \n",
       "6             3.076  более_2_лет  \n",
       "8             3.074  более_2_лет  \n",
       "14            3.074  более_2_лет  \n",
       "19            3.074  более_2_лет  "
      ]
     },
     "execution_count": 80,
     "metadata": {},
     "output_type": "execute_result"
    }
   ],
   "source": [
    "cow_buy[cow_buy.duplicated()]"
   ]
  },
  {
   "cell_type": "markdown",
   "id": "2aa6f6c6",
   "metadata": {},
   "source": [
    "Дубликаты в данных о коровах «ЭкоФермы» присутствуют, но здесь нет уверенности, что это одни и те же сущности"
   ]
  },
  {
   "cell_type": "code",
   "execution_count": 97,
   "id": "5852adca",
   "metadata": {},
   "outputs": [
    {
     "data": {
      "text/html": [
       "<div>\n",
       "<style scoped>\n",
       "    .dataframe tbody tr th:only-of-type {\n",
       "        vertical-align: middle;\n",
       "    }\n",
       "\n",
       "    .dataframe tbody tr th {\n",
       "        vertical-align: top;\n",
       "    }\n",
       "\n",
       "    .dataframe thead th {\n",
       "        text-align: right;\n",
       "    }\n",
       "</style>\n",
       "<table border=\"1\" class=\"dataframe\">\n",
       "  <thead>\n",
       "    <tr style=\"text-align: right;\">\n",
       "      <th></th>\n",
       "      <th>id</th>\n",
       "      <th>milk_yield</th>\n",
       "      <th>energy_feed_unit</th>\n",
       "      <th>raw_protein</th>\n",
       "      <th>sugar_protein_ratio</th>\n",
       "      <th>breed</th>\n",
       "      <th>pasture_type</th>\n",
       "      <th>dad_breed</th>\n",
       "      <th>fat_content</th>\n",
       "      <th>protein</th>\n",
       "      <th>taste</th>\n",
       "      <th>age</th>\n",
       "    </tr>\n",
       "  </thead>\n",
       "  <tbody>\n",
       "    <tr>\n",
       "      <th>16</th>\n",
       "      <td>17</td>\n",
       "      <td>45616</td>\n",
       "      <td>11.5</td>\n",
       "      <td>1675</td>\n",
       "      <td>0.93</td>\n",
       "      <td>Вис Бик Айдиал</td>\n",
       "      <td>Холмистое</td>\n",
       "      <td>Айдиалл</td>\n",
       "      <td>3.22</td>\n",
       "      <td>3.076</td>\n",
       "      <td>вкусно</td>\n",
       "      <td>более_2_лет</td>\n",
       "    </tr>\n",
       "  </tbody>\n",
       "</table>\n",
       "</div>"
      ],
      "text/plain": [
       "    id  milk_yield  energy_feed_unit  raw_protein  sugar_protein_ratio  \\\n",
       "16  17       45616              11.5         1675                 0.93   \n",
       "\n",
       "             breed pasture_type dad_breed  fat_content  protein   taste  \\\n",
       "16  Вис Бик Айдиал    Холмистое   Айдиалл         3.22    3.076  вкусно   \n",
       "\n",
       "            age  \n",
       "16  более_2_лет  "
      ]
     },
     "execution_count": 97,
     "metadata": {},
     "output_type": "execute_result"
    }
   ],
   "source": [
    "ferma_main[ferma_main['milk_yield'] > 20000]"
   ]
  }
 ],
 "metadata": {
  "kernelspec": {
   "display_name": "Python 3",
   "language": "python",
   "name": "python3"
  },
  "language_info": {
   "codemirror_mode": {
    "name": "ipython",
    "version": 3
   },
   "file_extension": ".py",
   "mimetype": "text/x-python",
   "name": "python",
   "nbconvert_exporter": "python",
   "pygments_lexer": "ipython3",
   "version": "3.8.8"
  }
 },
 "nbformat": 4,
 "nbformat_minor": 5
}
