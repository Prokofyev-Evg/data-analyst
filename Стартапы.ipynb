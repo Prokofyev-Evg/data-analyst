{
 "cells": [
  {
   "cell_type": "markdown",
   "id": "4a6e6179",
   "metadata": {},
   "source": [
    "# Стартапы"
   ]
  },
  {
   "cell_type": "markdown",
   "id": "bde65811",
   "metadata": {},
   "source": [
    "### Описание"
   ]
  },
  {
   "cell_type": "markdown",
   "id": "d4c32d20",
   "metadata": {},
   "source": [
    "Исследование посвящено данными о стартапах, функционировавших в период с 1970 по 2018 годы. Необходимо предсказать, какие из них закроются."
   ]
  },
  {
   "cell_type": "markdown",
   "id": "a1cc5fe5",
   "metadata": {},
   "source": [
    "В ходе работы необходимо выполнить следующее:\n",
    "- загрузка и ознакомление с данными,\n",
    "- предварительная обработка,\n",
    "- полноценный разведочный анализ,\n",
    "- разработка новых синтетических признаков,\n",
    "- проверка на мультиколлинеарность,\n",
    "- отбор финального набора обучающих признаков,\n",
    "- выбор и обучение моделей,\n",
    "- итоговая оценка качества предсказания лучшей модели,\n",
    "- анализ важности ее признаков,\n",
    "- подготовка отчета по исследованию."
   ]
  },
  {
   "cell_type": "markdown",
   "id": "0bd68cd6",
   "metadata": {},
   "source": [
    "### Импорт библиотек"
   ]
  },
  {
   "cell_type": "code",
   "execution_count": 1,
   "id": "8264135b",
   "metadata": {},
   "outputs": [],
   "source": [
    "!pip install phik -q\n",
    "!pip install lightgbm -q"
   ]
  },
  {
   "cell_type": "code",
   "execution_count": 2,
   "id": "aac5d978",
   "metadata": {},
   "outputs": [],
   "source": [
    "import numpy as np\n",
    "import pandas as pd\n",
    "import seaborn as sns\n",
    "import matplotlib.pyplot as plt\n",
    "from sklearn.model_selection import train_test_split\n",
    "from phik.report import plot_correlation_matrix\n",
    "from phik import report\n",
    "\n",
    "# загружаем класс pipeline\n",
    "from sklearn.pipeline import Pipeline\n",
    "\n",
    "# загружаем классы для подготовки данных\n",
    "from sklearn.preprocessing import (\n",
    "    OneHotEncoder,\n",
    "    OrdinalEncoder, \n",
    "    LabelEncoder, \n",
    "    StandardScaler, \n",
    "    MinMaxScaler, \n",
    "    RobustScaler, \n",
    "    PolynomialFeatures\n",
    ")\n",
    "from sklearn.compose import ColumnTransformer\n",
    "\n",
    "# загружаем класс для работы с пропусками\n",
    "from sklearn.impute import SimpleImputer\n",
    "\n",
    "# загружаем функцию для работы с метриками\n",
    "from sklearn.metrics import roc_auc_score, f1_score, make_scorer\n",
    "\n",
    "# импортируем класс RandomizedSearchCV\n",
    "from sklearn.model_selection import RandomizedSearchCV, GridSearchCV\n",
    "\n",
    "# загружаем нужные модели\n",
    "from sklearn.linear_model import LogisticRegression\n",
    "from sklearn.neighbors import KNeighborsClassifier\n",
    "from sklearn.tree import DecisionTreeClassifier\n",
    "from sklearn.svm import SVC\n",
    "import lightgbm as lgb"
   ]
  },
  {
   "cell_type": "markdown",
   "id": "52eb416f",
   "metadata": {},
   "source": [
    "### Загрузка данных"
   ]
  },
  {
   "cell_type": "code",
   "execution_count": 3,
   "id": "4a61c7c0",
   "metadata": {},
   "outputs": [],
   "source": [
    "def primary_information(df):\n",
    "    print(f\"Размерность: {df.shape}\")\n",
    "    display(df.info())\n",
    "    display(df.head())"
   ]
  },
  {
   "cell_type": "code",
   "execution_count": 4,
   "id": "0f43f2b3",
   "metadata": {},
   "outputs": [],
   "source": [
    "startups_train = pd.read_csv('data/kaggle_startups_train_27042024.csv')\n",
    "startups_test = pd.read_csv('data/kaggle_startups_test_27042024.csv')"
   ]
  },
  {
   "cell_type": "code",
   "execution_count": 5,
   "id": "37b2ef41",
   "metadata": {
    "scrolled": false
   },
   "outputs": [
    {
     "name": "stdout",
     "output_type": "stream",
     "text": [
      "Размерность: (52514, 13)\n",
      "<class 'pandas.core.frame.DataFrame'>\n",
      "RangeIndex: 52514 entries, 0 to 52513\n",
      "Data columns (total 13 columns):\n",
      " #   Column             Non-Null Count  Dtype  \n",
      "---  ------             --------------  -----  \n",
      " 0   name               52513 non-null  object \n",
      " 1   category_list      50049 non-null  object \n",
      " 2   funding_total_usd  42445 non-null  float64\n",
      " 3   status             52514 non-null  object \n",
      " 4   country_code       47013 non-null  object \n",
      " 5   state_code         45752 non-null  object \n",
      " 6   region             46156 non-null  object \n",
      " 7   city               46156 non-null  object \n",
      " 8   funding_rounds     52514 non-null  int64  \n",
      " 9   founded_at         52514 non-null  object \n",
      " 10  first_funding_at   52514 non-null  object \n",
      " 11  last_funding_at    52514 non-null  object \n",
      " 12  closed_at          4915 non-null   object \n",
      "dtypes: float64(1), int64(1), object(11)\n",
      "memory usage: 5.2+ MB\n"
     ]
    },
    {
     "data": {
      "text/plain": [
       "None"
      ]
     },
     "metadata": {},
     "output_type": "display_data"
    },
    {
     "data": {
      "text/html": [
       "<div>\n",
       "<style scoped>\n",
       "    .dataframe tbody tr th:only-of-type {\n",
       "        vertical-align: middle;\n",
       "    }\n",
       "\n",
       "    .dataframe tbody tr th {\n",
       "        vertical-align: top;\n",
       "    }\n",
       "\n",
       "    .dataframe thead th {\n",
       "        text-align: right;\n",
       "    }\n",
       "</style>\n",
       "<table border=\"1\" class=\"dataframe\">\n",
       "  <thead>\n",
       "    <tr style=\"text-align: right;\">\n",
       "      <th></th>\n",
       "      <th>name</th>\n",
       "      <th>category_list</th>\n",
       "      <th>funding_total_usd</th>\n",
       "      <th>status</th>\n",
       "      <th>country_code</th>\n",
       "      <th>state_code</th>\n",
       "      <th>region</th>\n",
       "      <th>city</th>\n",
       "      <th>funding_rounds</th>\n",
       "      <th>founded_at</th>\n",
       "      <th>first_funding_at</th>\n",
       "      <th>last_funding_at</th>\n",
       "      <th>closed_at</th>\n",
       "    </tr>\n",
       "  </thead>\n",
       "  <tbody>\n",
       "    <tr>\n",
       "      <th>0</th>\n",
       "      <td>Lunchgate</td>\n",
       "      <td>Online Reservations|Restaurants</td>\n",
       "      <td>828626.0</td>\n",
       "      <td>operating</td>\n",
       "      <td>CHE</td>\n",
       "      <td>25</td>\n",
       "      <td>Zurich</td>\n",
       "      <td>Zürich</td>\n",
       "      <td>2</td>\n",
       "      <td>2009-12-31</td>\n",
       "      <td>2011-05-01</td>\n",
       "      <td>2014-12-01</td>\n",
       "      <td>NaN</td>\n",
       "    </tr>\n",
       "    <tr>\n",
       "      <th>1</th>\n",
       "      <td>EarLens</td>\n",
       "      <td>Manufacturing|Medical|Medical Devices</td>\n",
       "      <td>42935019.0</td>\n",
       "      <td>operating</td>\n",
       "      <td>USA</td>\n",
       "      <td>CA</td>\n",
       "      <td>SF Bay Area</td>\n",
       "      <td>Redwood City</td>\n",
       "      <td>4</td>\n",
       "      <td>2005-01-01</td>\n",
       "      <td>2010-05-04</td>\n",
       "      <td>2014-02-25</td>\n",
       "      <td>NaN</td>\n",
       "    </tr>\n",
       "    <tr>\n",
       "      <th>2</th>\n",
       "      <td>Reviva Pharmaceuticals</td>\n",
       "      <td>Biotechnology</td>\n",
       "      <td>35456381.0</td>\n",
       "      <td>operating</td>\n",
       "      <td>USA</td>\n",
       "      <td>CA</td>\n",
       "      <td>SF Bay Area</td>\n",
       "      <td>San Jose</td>\n",
       "      <td>3</td>\n",
       "      <td>2006-01-01</td>\n",
       "      <td>2012-08-20</td>\n",
       "      <td>2014-07-02</td>\n",
       "      <td>NaN</td>\n",
       "    </tr>\n",
       "    <tr>\n",
       "      <th>3</th>\n",
       "      <td>Sancilio and Company</td>\n",
       "      <td>Health Care</td>\n",
       "      <td>22250000.0</td>\n",
       "      <td>operating</td>\n",
       "      <td>NaN</td>\n",
       "      <td>NaN</td>\n",
       "      <td>NaN</td>\n",
       "      <td>NaN</td>\n",
       "      <td>3</td>\n",
       "      <td>2004-01-01</td>\n",
       "      <td>2011-09-01</td>\n",
       "      <td>2014-07-18</td>\n",
       "      <td>NaN</td>\n",
       "    </tr>\n",
       "    <tr>\n",
       "      <th>4</th>\n",
       "      <td>WireTough Cylinders</td>\n",
       "      <td>Manufacturing</td>\n",
       "      <td>NaN</td>\n",
       "      <td>operating</td>\n",
       "      <td>USA</td>\n",
       "      <td>VA</td>\n",
       "      <td>VA - Other</td>\n",
       "      <td>Bristol</td>\n",
       "      <td>1</td>\n",
       "      <td>2010-09-30</td>\n",
       "      <td>2012-02-01</td>\n",
       "      <td>2012-02-01</td>\n",
       "      <td>NaN</td>\n",
       "    </tr>\n",
       "  </tbody>\n",
       "</table>\n",
       "</div>"
      ],
      "text/plain": [
       "                     name                          category_list  \\\n",
       "0               Lunchgate        Online Reservations|Restaurants   \n",
       "1                 EarLens  Manufacturing|Medical|Medical Devices   \n",
       "2  Reviva Pharmaceuticals                          Biotechnology   \n",
       "3    Sancilio and Company                            Health Care   \n",
       "4     WireTough Cylinders                          Manufacturing   \n",
       "\n",
       "   funding_total_usd     status country_code state_code       region  \\\n",
       "0           828626.0  operating          CHE         25       Zurich   \n",
       "1         42935019.0  operating          USA         CA  SF Bay Area   \n",
       "2         35456381.0  operating          USA         CA  SF Bay Area   \n",
       "3         22250000.0  operating          NaN        NaN          NaN   \n",
       "4                NaN  operating          USA         VA   VA - Other   \n",
       "\n",
       "           city  funding_rounds  founded_at first_funding_at last_funding_at  \\\n",
       "0        Zürich               2  2009-12-31       2011-05-01      2014-12-01   \n",
       "1  Redwood City               4  2005-01-01       2010-05-04      2014-02-25   \n",
       "2      San Jose               3  2006-01-01       2012-08-20      2014-07-02   \n",
       "3           NaN               3  2004-01-01       2011-09-01      2014-07-18   \n",
       "4       Bristol               1  2010-09-30       2012-02-01      2012-02-01   \n",
       "\n",
       "  closed_at  \n",
       "0       NaN  \n",
       "1       NaN  \n",
       "2       NaN  \n",
       "3       NaN  \n",
       "4       NaN  "
      ]
     },
     "metadata": {},
     "output_type": "display_data"
    },
    {
     "name": "stdout",
     "output_type": "stream",
     "text": [
      "Размерность: (13125, 12)\n",
      "<class 'pandas.core.frame.DataFrame'>\n",
      "RangeIndex: 13125 entries, 0 to 13124\n",
      "Data columns (total 12 columns):\n",
      " #   Column             Non-Null Count  Dtype  \n",
      "---  ------             --------------  -----  \n",
      " 0   name               13125 non-null  object \n",
      " 1   category_list      12534 non-null  object \n",
      " 2   funding_total_usd  10547 non-null  float64\n",
      " 3   country_code       11743 non-null  object \n",
      " 4   state_code         11430 non-null  object \n",
      " 5   region             11536 non-null  object \n",
      " 6   city               11538 non-null  object \n",
      " 7   funding_rounds     13125 non-null  int64  \n",
      " 8   founded_at         13125 non-null  object \n",
      " 9   first_funding_at   13125 non-null  object \n",
      " 10  last_funding_at    13125 non-null  object \n",
      " 11  lifetime           13125 non-null  int64  \n",
      "dtypes: float64(1), int64(2), object(9)\n",
      "memory usage: 1.2+ MB\n"
     ]
    },
    {
     "data": {
      "text/plain": [
       "None"
      ]
     },
     "metadata": {},
     "output_type": "display_data"
    },
    {
     "data": {
      "text/html": [
       "<div>\n",
       "<style scoped>\n",
       "    .dataframe tbody tr th:only-of-type {\n",
       "        vertical-align: middle;\n",
       "    }\n",
       "\n",
       "    .dataframe tbody tr th {\n",
       "        vertical-align: top;\n",
       "    }\n",
       "\n",
       "    .dataframe thead th {\n",
       "        text-align: right;\n",
       "    }\n",
       "</style>\n",
       "<table border=\"1\" class=\"dataframe\">\n",
       "  <thead>\n",
       "    <tr style=\"text-align: right;\">\n",
       "      <th></th>\n",
       "      <th>name</th>\n",
       "      <th>category_list</th>\n",
       "      <th>funding_total_usd</th>\n",
       "      <th>country_code</th>\n",
       "      <th>state_code</th>\n",
       "      <th>region</th>\n",
       "      <th>city</th>\n",
       "      <th>funding_rounds</th>\n",
       "      <th>founded_at</th>\n",
       "      <th>first_funding_at</th>\n",
       "      <th>last_funding_at</th>\n",
       "      <th>lifetime</th>\n",
       "    </tr>\n",
       "  </thead>\n",
       "  <tbody>\n",
       "    <tr>\n",
       "      <th>0</th>\n",
       "      <td>Crystalsol</td>\n",
       "      <td>Clean Technology</td>\n",
       "      <td>2819200.0</td>\n",
       "      <td>NIC</td>\n",
       "      <td>17</td>\n",
       "      <td>NaN</td>\n",
       "      <td>NaN</td>\n",
       "      <td>1</td>\n",
       "      <td>2008-06-01</td>\n",
       "      <td>2009-07-01</td>\n",
       "      <td>2009-07-01</td>\n",
       "      <td>3501</td>\n",
       "    </tr>\n",
       "    <tr>\n",
       "      <th>1</th>\n",
       "      <td>JBI Fish &amp; Wings</td>\n",
       "      <td>Hospitality</td>\n",
       "      <td>NaN</td>\n",
       "      <td>USA</td>\n",
       "      <td>TN</td>\n",
       "      <td>TN - Other</td>\n",
       "      <td>Humboldt</td>\n",
       "      <td>1</td>\n",
       "      <td>2010-07-25</td>\n",
       "      <td>2010-07-28</td>\n",
       "      <td>2010-07-28</td>\n",
       "      <td>2717</td>\n",
       "    </tr>\n",
       "    <tr>\n",
       "      <th>2</th>\n",
       "      <td>COINPLUS</td>\n",
       "      <td>Finance</td>\n",
       "      <td>428257.0</td>\n",
       "      <td>LUX</td>\n",
       "      <td>3</td>\n",
       "      <td>Esch-sur-alzette</td>\n",
       "      <td>Esch-sur-alzette</td>\n",
       "      <td>2</td>\n",
       "      <td>2014-06-16</td>\n",
       "      <td>2014-05-15</td>\n",
       "      <td>2014-09-18</td>\n",
       "      <td>1295</td>\n",
       "    </tr>\n",
       "    <tr>\n",
       "      <th>3</th>\n",
       "      <td>Imagine Communications</td>\n",
       "      <td>Software|Video|Video Streaming</td>\n",
       "      <td>34700000.0</td>\n",
       "      <td>USA</td>\n",
       "      <td>CA</td>\n",
       "      <td>San Diego</td>\n",
       "      <td>San Diego</td>\n",
       "      <td>4</td>\n",
       "      <td>2005-01-01</td>\n",
       "      <td>2005-01-01</td>\n",
       "      <td>2010-04-20</td>\n",
       "      <td>4748</td>\n",
       "    </tr>\n",
       "    <tr>\n",
       "      <th>4</th>\n",
       "      <td>DNA13</td>\n",
       "      <td>Software</td>\n",
       "      <td>4530000.0</td>\n",
       "      <td>CAN</td>\n",
       "      <td>ON</td>\n",
       "      <td>Ottawa</td>\n",
       "      <td>Ottawa</td>\n",
       "      <td>1</td>\n",
       "      <td>2001-01-01</td>\n",
       "      <td>2007-05-08</td>\n",
       "      <td>2007-05-08</td>\n",
       "      <td>6209</td>\n",
       "    </tr>\n",
       "  </tbody>\n",
       "</table>\n",
       "</div>"
      ],
      "text/plain": [
       "                     name                   category_list  funding_total_usd  \\\n",
       "0              Crystalsol                Clean Technology          2819200.0   \n",
       "1        JBI Fish & Wings                     Hospitality                NaN   \n",
       "2                COINPLUS                         Finance           428257.0   \n",
       "3  Imagine Communications  Software|Video|Video Streaming         34700000.0   \n",
       "4                   DNA13                        Software          4530000.0   \n",
       "\n",
       "  country_code state_code            region              city  funding_rounds  \\\n",
       "0          NIC         17               NaN               NaN               1   \n",
       "1          USA         TN        TN - Other          Humboldt               1   \n",
       "2          LUX          3  Esch-sur-alzette  Esch-sur-alzette               2   \n",
       "3          USA         CA         San Diego         San Diego               4   \n",
       "4          CAN         ON            Ottawa            Ottawa               1   \n",
       "\n",
       "   founded_at first_funding_at last_funding_at  lifetime  \n",
       "0  2008-06-01       2009-07-01      2009-07-01      3501  \n",
       "1  2010-07-25       2010-07-28      2010-07-28      2717  \n",
       "2  2014-06-16       2014-05-15      2014-09-18      1295  \n",
       "3  2005-01-01       2005-01-01      2010-04-20      4748  \n",
       "4  2001-01-01       2007-05-08      2007-05-08      6209  "
      ]
     },
     "metadata": {},
     "output_type": "display_data"
    }
   ],
   "source": [
    "primary_information(startups_train)\n",
    "primary_information(startups_test)"
   ]
  },
  {
   "cell_type": "markdown",
   "id": "fa5494d9",
   "metadata": {},
   "source": [
    "### Приведем поля с датой к соответствующему типу данных"
   ]
  },
  {
   "cell_type": "code",
   "execution_count": 6,
   "id": "85b4f159",
   "metadata": {},
   "outputs": [],
   "source": [
    "def cast_datetime(df):\n",
    "    df['founded_at'] = pd.to_datetime(\n",
    "        df['founded_at'], format=\"%Y-%m-%d\"\n",
    "    )\n",
    "    df['first_funding_at'] = pd.to_datetime(\n",
    "        df['first_funding_at'], format=\"%Y-%m-%d\"\n",
    "    )\n",
    "    df['last_funding_at'] = pd.to_datetime(\n",
    "        df['last_funding_at'], format=\"%Y-%m-%d\"\n",
    "    )"
   ]
  },
  {
   "cell_type": "code",
   "execution_count": 7,
   "id": "2318067c",
   "metadata": {},
   "outputs": [],
   "source": [
    "cast_datetime(startups_train)\n",
    "cast_datetime(startups_test)\n",
    "\n",
    "# Пропущенные значения в поле closed_at означают, что стартап не закрыт, поэтому заполним текущей датой\n",
    "# для корректного расчета времени существования стартапа в днях\n",
    "startups_train['closed_at'] = startups_train['closed_at'].fillna('2018-01-01')\n",
    "startups_train['closed_at'] = pd.to_datetime(\n",
    "    startups_train['closed_at'], format=\"%Y-%m-%d\"\n",
    ")"
   ]
  },
  {
   "cell_type": "code",
   "execution_count": 100,
   "id": "4c1545b2",
   "metadata": {},
   "outputs": [],
   "source": [
    "startups_train['lifetime'] = (startups_train['closed_at'] - startups_train['founded_at']).dt.days\n",
    "startups_train['funding_period'] = (startups_train['last_funding_at'] - startups_train['first_funding_at']).dt.days\n",
    "startups_test['funding_period'] = (startups_test['last_funding_at'] - startups_test['first_funding_at']).dt.days"
   ]
  },
  {
   "cell_type": "markdown",
   "id": "1f54bf4a",
   "metadata": {},
   "source": [
    "### Проверим датасет на наличие дубликатов"
   ]
  },
  {
   "cell_type": "code",
   "execution_count": 9,
   "id": "d7cc1382",
   "metadata": {},
   "outputs": [
    {
     "data": {
      "text/html": [
       "<div>\n",
       "<style scoped>\n",
       "    .dataframe tbody tr th:only-of-type {\n",
       "        vertical-align: middle;\n",
       "    }\n",
       "\n",
       "    .dataframe tbody tr th {\n",
       "        vertical-align: top;\n",
       "    }\n",
       "\n",
       "    .dataframe thead th {\n",
       "        text-align: right;\n",
       "    }\n",
       "</style>\n",
       "<table border=\"1\" class=\"dataframe\">\n",
       "  <thead>\n",
       "    <tr style=\"text-align: right;\">\n",
       "      <th></th>\n",
       "      <th>name</th>\n",
       "      <th>category_list</th>\n",
       "      <th>funding_total_usd</th>\n",
       "      <th>status</th>\n",
       "      <th>country_code</th>\n",
       "      <th>state_code</th>\n",
       "      <th>region</th>\n",
       "      <th>city</th>\n",
       "      <th>funding_rounds</th>\n",
       "      <th>founded_at</th>\n",
       "      <th>first_funding_at</th>\n",
       "      <th>last_funding_at</th>\n",
       "      <th>closed_at</th>\n",
       "      <th>lifetime</th>\n",
       "    </tr>\n",
       "  </thead>\n",
       "  <tbody>\n",
       "  </tbody>\n",
       "</table>\n",
       "</div>"
      ],
      "text/plain": [
       "Empty DataFrame\n",
       "Columns: [name, category_list, funding_total_usd, status, country_code, state_code, region, city, funding_rounds, founded_at, first_funding_at, last_funding_at, closed_at, lifetime]\n",
       "Index: []"
      ]
     },
     "execution_count": 9,
     "metadata": {},
     "output_type": "execute_result"
    }
   ],
   "source": [
    "startups_train[startups_train.duplicated()]"
   ]
  },
  {
   "cell_type": "markdown",
   "id": "e88af06f",
   "metadata": {},
   "source": [
    "Дубликаты отсутствуют"
   ]
  },
  {
   "cell_type": "markdown",
   "id": "6f1b6f5e",
   "metadata": {},
   "source": [
    "### Посмотрим количество пропусков в данных"
   ]
  },
  {
   "cell_type": "code",
   "execution_count": 10,
   "id": "80ecba36",
   "metadata": {},
   "outputs": [
    {
     "data": {
      "text/plain": [
       "name                     1\n",
       "category_list         2465\n",
       "funding_total_usd    10069\n",
       "status                   0\n",
       "country_code          5501\n",
       "state_code            6762\n",
       "region                6358\n",
       "city                  6358\n",
       "funding_rounds           0\n",
       "founded_at               0\n",
       "first_funding_at         0\n",
       "last_funding_at          0\n",
       "closed_at                0\n",
       "lifetime                 0\n",
       "dtype: int64"
      ]
     },
     "execution_count": 10,
     "metadata": {},
     "output_type": "execute_result"
    }
   ],
   "source": [
    "startups_train.isna().sum()"
   ]
  },
  {
   "cell_type": "code",
   "execution_count": 11,
   "id": "452b681a",
   "metadata": {
    "scrolled": true
   },
   "outputs": [
    {
     "data": {
      "text/plain": [
       "name                    0\n",
       "category_list         591\n",
       "funding_total_usd    2578\n",
       "country_code         1382\n",
       "state_code           1695\n",
       "region               1589\n",
       "city                 1587\n",
       "funding_rounds          0\n",
       "founded_at              0\n",
       "first_funding_at        0\n",
       "last_funding_at         0\n",
       "lifetime                0\n",
       "dtype: int64"
      ]
     },
     "execution_count": 11,
     "metadata": {},
     "output_type": "execute_result"
    }
   ],
   "source": [
    "startups_test.isna().sum()"
   ]
  },
  {
   "cell_type": "markdown",
   "id": "392cbae2",
   "metadata": {},
   "source": [
    "Пропуски в поле name в тренировочных данных удалим"
   ]
  },
  {
   "cell_type": "code",
   "execution_count": 12,
   "id": "f6371d1f",
   "metadata": {},
   "outputs": [],
   "source": [
    "startups_train = startups_train.dropna(subset=['name'])"
   ]
  },
  {
   "cell_type": "code",
   "execution_count": 13,
   "id": "c38e437c",
   "metadata": {},
   "outputs": [],
   "source": [
    "startups_train['country_code']= startups_train['country_code'].fillna('tbd')\n",
    "startups_test['country_code'] = startups_test['country_code'].fillna('tbd')\n",
    "startups_train['region']= startups_train['region'].fillna('tbd')\n",
    "startups_test['region'] = startups_test['region'].fillna('tbd')"
   ]
  },
  {
   "cell_type": "code",
   "execution_count": 14,
   "id": "3ca9874e",
   "metadata": {},
   "outputs": [],
   "source": [
    "def fill_median_by_group(df, value, group):\n",
    "    for t in df[group].unique():\n",
    "        df.loc[(df[group] == t) & (df[value].isna()), value] = df.loc[(df[group] == t), value].median()\n",
    "    df.loc[df[value].isna(), value] = df[value].median()"
   ]
  },
  {
   "cell_type": "code",
   "execution_count": 15,
   "id": "eebd5d04",
   "metadata": {},
   "outputs": [],
   "source": [
    "fill_median_by_group(startups_train, 'funding_total_usd', 'country_code')\n",
    "fill_median_by_group(startups_test, 'funding_total_usd', 'country_code')"
   ]
  },
  {
   "cell_type": "code",
   "execution_count": 16,
   "id": "a8e31e6b",
   "metadata": {},
   "outputs": [
    {
     "data": {
      "text/html": [
       "<div>\n",
       "<style scoped>\n",
       "    .dataframe tbody tr th:only-of-type {\n",
       "        vertical-align: middle;\n",
       "    }\n",
       "\n",
       "    .dataframe tbody tr th {\n",
       "        vertical-align: top;\n",
       "    }\n",
       "\n",
       "    .dataframe thead th {\n",
       "        text-align: right;\n",
       "    }\n",
       "</style>\n",
       "<table border=\"1\" class=\"dataframe\">\n",
       "  <thead>\n",
       "    <tr style=\"text-align: right;\">\n",
       "      <th></th>\n",
       "      <th>country_code</th>\n",
       "      <th>state_code</th>\n",
       "      <th>city</th>\n",
       "    </tr>\n",
       "  </thead>\n",
       "  <tbody>\n",
       "    <tr>\n",
       "      <th>300</th>\n",
       "      <td>SGP</td>\n",
       "      <td>NaN</td>\n",
       "      <td>Singapore</td>\n",
       "    </tr>\n",
       "    <tr>\n",
       "      <th>491</th>\n",
       "      <td>VNM</td>\n",
       "      <td>NaN</td>\n",
       "      <td>Ho Chi Minh City</td>\n",
       "    </tr>\n",
       "    <tr>\n",
       "      <th>599</th>\n",
       "      <td>SGP</td>\n",
       "      <td>NaN</td>\n",
       "      <td>Singapore</td>\n",
       "    </tr>\n",
       "    <tr>\n",
       "      <th>703</th>\n",
       "      <td>SGP</td>\n",
       "      <td>NaN</td>\n",
       "      <td>Singapore</td>\n",
       "    </tr>\n",
       "    <tr>\n",
       "      <th>848</th>\n",
       "      <td>HKG</td>\n",
       "      <td>NaN</td>\n",
       "      <td>Central</td>\n",
       "    </tr>\n",
       "    <tr>\n",
       "      <th>...</th>\n",
       "      <td>...</td>\n",
       "      <td>...</td>\n",
       "      <td>...</td>\n",
       "    </tr>\n",
       "    <tr>\n",
       "      <th>52115</th>\n",
       "      <td>SGP</td>\n",
       "      <td>NaN</td>\n",
       "      <td>Singapore</td>\n",
       "    </tr>\n",
       "    <tr>\n",
       "      <th>52360</th>\n",
       "      <td>SGP</td>\n",
       "      <td>NaN</td>\n",
       "      <td>Singapore</td>\n",
       "    </tr>\n",
       "    <tr>\n",
       "      <th>52380</th>\n",
       "      <td>HKG</td>\n",
       "      <td>NaN</td>\n",
       "      <td>Yuen Long</td>\n",
       "    </tr>\n",
       "    <tr>\n",
       "      <th>52405</th>\n",
       "      <td>MLT</td>\n",
       "      <td>NaN</td>\n",
       "      <td>Valletta</td>\n",
       "    </tr>\n",
       "    <tr>\n",
       "      <th>52506</th>\n",
       "      <td>HKG</td>\n",
       "      <td>NaN</td>\n",
       "      <td>Hong Kong</td>\n",
       "    </tr>\n",
       "  </tbody>\n",
       "</table>\n",
       "<p>638 rows × 3 columns</p>\n",
       "</div>"
      ],
      "text/plain": [
       "      country_code state_code              city\n",
       "300            SGP        NaN         Singapore\n",
       "491            VNM        NaN  Ho Chi Minh City\n",
       "599            SGP        NaN         Singapore\n",
       "703            SGP        NaN         Singapore\n",
       "848            HKG        NaN           Central\n",
       "...            ...        ...               ...\n",
       "52115          SGP        NaN         Singapore\n",
       "52360          SGP        NaN         Singapore\n",
       "52380          HKG        NaN         Yuen Long\n",
       "52405          MLT        NaN          Valletta\n",
       "52506          HKG        NaN         Hong Kong\n",
       "\n",
       "[638 rows x 3 columns]"
      ]
     },
     "execution_count": 16,
     "metadata": {},
     "output_type": "execute_result"
    }
   ],
   "source": [
    "startups_train[startups_train['state_code'].isna() & startups_train['city'].notna()][['country_code', 'state_code', 'city']]"
   ]
  },
  {
   "cell_type": "code",
   "execution_count": 17,
   "id": "caea79a2",
   "metadata": {},
   "outputs": [
    {
     "data": {
      "text/plain": [
       "array([], dtype=object)"
      ]
     },
     "execution_count": 17,
     "metadata": {},
     "output_type": "execute_result"
    }
   ],
   "source": [
    "startups_train[startups_train['funding_total_usd'].isna()]['country_code'].unique()"
   ]
  },
  {
   "cell_type": "code",
   "execution_count": 18,
   "id": "78a15d20",
   "metadata": {},
   "outputs": [
    {
     "data": {
      "text/plain": [
       "array(['CHE', 'USA', 'tbd', 'GBR', 'RUS', 'ESP', 'FRA', 'SWE', 'IND',\n",
       "       'KOR', 'AUS', 'TWN', 'CHN', 'HUN', 'CAN', 'FIN', 'BRA', 'EGY',\n",
       "       'PRT', 'ISR', 'CHL', 'SVK', 'NLD', 'ARG', 'ARE', 'JPN', 'IRL',\n",
       "       'DEU', 'LBN', 'EST', 'IDN', 'BEL', 'MEX', 'DNK', 'ITA', 'GRC',\n",
       "       'ROM', 'TUR', 'SGP', 'SAU', 'MYS', 'NGA', 'QAT', 'VNM', 'BGR',\n",
       "       'GHA', 'UGA', 'JOR', 'AUT', 'PAK', 'NZL', 'HKG', 'ZAF', 'LVA',\n",
       "       'NOR', 'HRV', 'VEN', 'PER', 'LUX', 'SVN', 'POL', 'PHL', 'NIC',\n",
       "       'CZE', 'ISL', 'PAN', 'URY', 'BGD', 'MCO', 'GTM', 'THA', 'TTO',\n",
       "       'UKR', 'KEN', 'CRI', 'DZA', 'LTU', 'CYM', 'MUS', 'BLR', 'SLV',\n",
       "       'COL', 'MLT', 'PSE', 'BLZ', 'CYP', 'MMR', 'MKD', 'KHM', 'GIB',\n",
       "       'SRB', 'DOM', 'BWA', 'BLM', 'PRY', 'BMU', 'TAN', 'LIE', 'GRD',\n",
       "       'UZB', 'GEO', 'SEN', 'ALB', 'ECU', 'MOZ', 'LKA', 'LAO', 'TUN',\n",
       "       'HND', 'ZWE', 'BAH', 'MDA', 'MAF', 'BHR', 'AZE', 'MAR', 'KWT',\n",
       "       'IRN', 'GGY', 'KNA', 'PRI', 'OMN', 'KAZ', 'JAM', 'NPL', 'ARM',\n",
       "       'TGO', 'RWA', 'BRN', 'JEY', 'SOM', 'CMR', 'MNE', 'SYC', 'ZMB'],\n",
       "      dtype=object)"
      ]
     },
     "execution_count": 18,
     "metadata": {},
     "output_type": "execute_result"
    }
   ],
   "source": [
    "startups_train['country_code'].unique()"
   ]
  },
  {
   "cell_type": "code",
   "execution_count": 67,
   "id": "e2b6a026",
   "metadata": {},
   "outputs": [],
   "source": [
    "def fill_categories_by_first(df):\n",
    "    df['category_list']= df['category_list'].fillna('tbd')\n",
    "    for t in df['category_list'].unique():\n",
    "        df.loc[(df['category_list'] == t), 'category_list'] = t.split('|')[0]"
   ]
  },
  {
   "cell_type": "code",
   "execution_count": 71,
   "id": "79b296e9",
   "metadata": {},
   "outputs": [],
   "source": [
    "fill_categories_by_first(startups_train)"
   ]
  },
  {
   "cell_type": "code",
   "execution_count": 72,
   "id": "00fbb149",
   "metadata": {},
   "outputs": [
    {
     "data": {
      "text/plain": [
       "708"
      ]
     },
     "execution_count": 72,
     "metadata": {},
     "output_type": "execute_result"
    }
   ],
   "source": [
    "len(startups_train['category_list'].unique())"
   ]
  },
  {
   "cell_type": "code",
   "execution_count": 20,
   "id": "83844cad",
   "metadata": {},
   "outputs": [],
   "source": [
    "startups_train = startups_train.dropna(subset=['name'])"
   ]
  },
  {
   "cell_type": "code",
   "execution_count": 21,
   "id": "7ab719fe",
   "metadata": {},
   "outputs": [],
   "source": [
    "def draw_boxplots(df, cols, title):\n",
    "    fig, axs = plt.subplots(ncols=len(cols), nrows=1, figsize=(16, 4))\n",
    "    for i in range(len(cols)):\n",
    "        sns.boxplot(data = df, y=cols[i], ax=axs[i])\n",
    "        axs[i].set_xlabel(cols[i])\n",
    "        axs[i].set_ylabel('')\n",
    "    fig.suptitle(title, fontsize=30);"
   ]
  },
  {
   "cell_type": "code",
   "execution_count": 101,
   "id": "89c62b05",
   "metadata": {
    "scrolled": true
   },
   "outputs": [
    {
     "data": {
      "image/png": "[encoded data removed]",
      "text/plain": [
       "<Figure size 1600x400 with 4 Axes>"
      ]
     },
     "metadata": {},
     "output_type": "display_data"
    }
   ],
   "source": [
    "draw_boxplots(startups_train, ['funding_total_usd', 'funding_rounds', 'funding_period', 'lifetime'], '')"
   ]
  },
  {
   "cell_type": "code",
   "execution_count": 102,
   "id": "ed8e173f",
   "metadata": {},
   "outputs": [],
   "source": [
    "RANDOM_STATE = 42\n",
    "TEST_SIZE = 0.25\n",
    "ohe_columns = ['region', 'category_list']\n",
    "ord_columns = []\n",
    "num_columns = ['funding_total_usd', 'funding_rounds', 'lifetime', 'funding_period']"
   ]
  },
  {
   "cell_type": "code",
   "execution_count": 103,
   "id": "6b61d076",
   "metadata": {},
   "outputs": [
    {
     "name": "stderr",
     "output_type": "stream",
     "text": [
      "C:\\Users\\Zhenya-PC\\anaconda3\\lib\\site-packages\\phik\\data_quality.py:59: UserWarning: The number of unique values of variable region is large: 1037. Are you sure this is not an interval variable? Analysis for pairs of variables including region can be slow.\n",
      "  warnings.warn(\n"
     ]
    },
    {
     "data": {
      "image/png": "[encoded data removed]",
      "text/plain": [
       "<Figure size 1500x1200 with 2 Axes>"
      ]
     },
     "metadata": {},
     "output_type": "display_data"
    }
   ],
   "source": [
    "phik_overview = startups_train[num_columns + ohe_columns + ['status']].phik_matrix(interval_cols=num_columns)\n",
    "\n",
    "plot_correlation_matrix(\n",
    "    phik_overview.values,\n",
    "    x_labels=phik_overview.columns,\n",
    "    y_labels=phik_overview.index,\n",
    "    title=r\"correlation $\\phi_K$ тренировочная выборка\",\n",
    "    fontsize_factor=1.5,\n",
    "    figsize=(15, 12)\n",
    ");"
   ]
  },
  {
   "cell_type": "code",
   "execution_count": 104,
   "id": "cac051c6",
   "metadata": {},
   "outputs": [
    {
     "data": {
      "text/plain": [
       "((39384, 6), (13129, 6), (39384,), (13129,))"
      ]
     },
     "execution_count": 104,
     "metadata": {},
     "output_type": "execute_result"
    }
   ],
   "source": [
    "X_train, X_test, y_train, y_test = train_test_split(\n",
    "    startups_train[ohe_columns+ord_columns+num_columns],\n",
    "    startups_train['status'],\n",
    "    test_size = TEST_SIZE, \n",
    "    random_state = RANDOM_STATE,\n",
    "    stratify = startups_train['status'])\n",
    "\n",
    "label_encoder = LabelEncoder()\n",
    "y_train = label_encoder.fit_transform(y_train)\n",
    "y_test = label_encoder.transform(y_test)\n",
    "\n",
    "X_train.shape, X_test.shape, y_train.shape, y_test.shape"
   ]
  },
  {
   "cell_type": "code",
   "execution_count": 105,
   "id": "28390f24",
   "metadata": {},
   "outputs": [],
   "source": [
    "ohe_pipe = Pipeline(\n",
    "    [('simpleImputer_ohe', SimpleImputer(missing_values=np.nan, strategy='most_frequent')),\n",
    "     ('ohe', OneHotEncoder(drop='first', handle_unknown='ignore', sparse=True))\n",
    "    ]\n",
    ")"
   ]
  },
  {
   "cell_type": "code",
   "execution_count": 106,
   "id": "356812dc",
   "metadata": {},
   "outputs": [],
   "source": [
    "data_preprocessor = ColumnTransformer(\n",
    "    [('ohe', ohe_pipe, ohe_columns),\n",
    "     ('num', StandardScaler(), num_columns),\n",
    "    ], \n",
    "    remainder='passthrough'\n",
    ")"
   ]
  },
  {
   "cell_type": "code",
   "execution_count": 107,
   "id": "41fe0656",
   "metadata": {},
   "outputs": [],
   "source": [
    "pipe_final = Pipeline([\n",
    "    ('preprocessor', data_preprocessor),\n",
    "    ('models', DecisionTreeClassifier(random_state=RANDOM_STATE))\n",
    "])"
   ]
  },
  {
   "cell_type": "code",
   "execution_count": 108,
   "id": "1c21439e",
   "metadata": {},
   "outputs": [],
   "source": [
    "param_grid = [\n",
    "    # словарь для модели KNeighborsClassifier() \n",
    "    {\n",
    "        'models': [KNeighborsClassifier()],\n",
    "        'models__n_neighbors': range(1, 20),\n",
    "        'preprocessor__num': [StandardScaler(), MinMaxScaler()]   \n",
    "    },\n",
    "    # словарь для модели DecisionTreeClassifier()\n",
    "    {\n",
    "        'models': [DecisionTreeClassifier(random_state=RANDOM_STATE)],\n",
    "        'models__max_depth': range(2, 11),\n",
    "        'models__max_features': range(2, 5),\n",
    "        'preprocessor__num': [StandardScaler(), MinMaxScaler(), 'passthrough']  \n",
    "    },\n",
    "    # словарь для модели SVC()\n",
    "    {\n",
    "        'models': [SVC(random_state=RANDOM_STATE, probability=True)],\n",
    "        'preprocessor__num': [StandardScaler(), MinMaxScaler(), 'passthrough']  \n",
    "\n",
    "    },\n",
    "    # словарь для модели LogisticRegression()\n",
    "    {\n",
    "        'models': [LogisticRegression(\n",
    "            random_state=RANDOM_STATE,\n",
    "            solver='liblinear',\n",
    "            penalty='l1'\n",
    "        )],\n",
    "        'models__C': range(1, 5),\n",
    "        'preprocessor__num': [StandardScaler(), MinMaxScaler(), 'passthrough']  \n",
    "    },\n",
    "    # словарь для модели LGBMRegressor()\n",
    "    # {\n",
    "    #     'models': [lgb.LGBMRegressor()],\n",
    "    #     'preprocessor__num': [StandardScaler(), MinMaxScaler(), 'passthrough']  \n",
    "    # }\n",
    "]"
   ]
  },
  {
   "cell_type": "code",
   "execution_count": 109,
   "id": "61ae7a9e",
   "metadata": {},
   "outputs": [
    {
     "name": "stderr",
     "output_type": "stream",
     "text": [
      "C:\\Users\\Zhenya-PC\\anaconda3\\lib\\site-packages\\sklearn\\model_selection\\_search.py:969: UserWarning: One or more of the test scores are non-finite: [       nan        nan        nan        nan        nan        nan\n",
      "        nan        nan        nan        nan        nan        nan\n",
      "        nan        nan        nan        nan        nan        nan\n",
      "        nan        nan        nan        nan        nan        nan\n",
      "        nan        nan        nan        nan        nan        nan\n",
      "        nan        nan        nan        nan        nan        nan\n",
      "        nan        nan 0.95086508 0.95086508 0.95086508 0.95085111\n",
      " 0.95085111 0.95085111 0.95087906 0.95087906 0.95087906 0.95089303\n",
      " 0.95089303 0.95089303 0.95087906 0.95087906 0.95087906 0.95087906\n",
      " 0.95087906 0.95087906 0.95087906 0.95087906 0.95087906 0.95085111\n",
      " 0.95085111 0.95085111 0.95086509 0.95086509 0.95086509 0.95087906\n",
      " 0.95087906 0.95087906 0.95092098 0.95092098 0.95092098 0.95089303\n",
      " 0.95089303 0.95089303 0.95092098 0.95092098 0.95092098 0.95093234\n",
      " 0.95093234 0.95093234 0.95086508 0.95086508 0.95086508 0.95089304\n",
      " 0.95089304 0.95089304 0.95089041 0.95089041 0.95089041 0.95085111\n",
      " 0.95085111 0.95085111 0.95090439 0.95090439 0.95090439 0.95090701\n",
      " 0.95090701 0.95090701 0.95089041 0.95089041 0.95089041 0.95093365\n",
      " 0.95093365 0.95093365 0.95088649 0.95088649 0.95088649 0.95086378\n",
      " 0.95086378 0.95086378 0.95088911 0.95088911 0.95088911 0.95087906\n",
      " 0.95087906 0.95087906 0.95087514 0.95087514 0.95087514 0.97281519\n",
      " 0.95454439 0.95092098 0.96529872 0.96494812 0.96529879 0.96522915\n",
      " 0.96504874 0.96494483 0.96499772 0.96493576 0.96474795 0.96475411\n",
      " 0.96467896 0.96458204]\n",
      "  warnings.warn(\n"
     ]
    },
    {
     "name": "stdout",
     "output_type": "stream",
     "text": [
      "Лучшая модель и её параметры:\n",
      "\n",
      " Pipeline(steps=[('preprocessor',\n",
      "                 ColumnTransformer(remainder='passthrough',\n",
      "                                   transformers=[('ohe',\n",
      "                                                  Pipeline(steps=[('simpleImputer_ohe',\n",
      "                                                                   SimpleImputer(strategy='most_frequent')),\n",
      "                                                                  ('ohe',\n",
      "                                                                   OneHotEncoder(drop='first',\n",
      "                                                                                 handle_unknown='ignore'))]),\n",
      "                                                  ['region', 'category_list']),\n",
      "                                                 ('num', StandardScaler(),\n",
      "                                                  ['funding_total_usd',\n",
      "                                                   'funding_rounds', 'lifetime',\n",
      "                                                   'funding_period'])])),\n",
      "                ('models', SVC(probability=True, random_state=42))])\n",
      "Метрика лучшей модели на тренировочной выборке: 0.9728151899031067\n"
     ]
    }
   ],
   "source": [
    "rand_search = GridSearchCV(\n",
    "    pipe_final, \n",
    "    param_grid, \n",
    "    cv=5,\n",
    "    scoring='f1',\n",
    "    n_jobs=-1\n",
    ")\n",
    "rand_search.fit(X_train, y_train)\n",
    "\n",
    "print('Лучшая модель и её параметры:\\n\\n', rand_search.best_estimator_)\n",
    "print ('Метрика лучшей модели на тренировочной выборке:', rand_search.best_score_)"
   ]
  },
  {
   "cell_type": "code",
   "execution_count": 110,
   "id": "29228192",
   "metadata": {},
   "outputs": [
    {
     "name": "stderr",
     "output_type": "stream",
     "text": [
      "C:\\Users\\Zhenya-PC\\anaconda3\\lib\\site-packages\\sklearn\\preprocessing\\_encoders.py:170: UserWarning: Found unknown categories in columns [0, 1] during transform. These unknown categories will be encoded as all zeros\n",
      "  warnings.warn(\n"
     ]
    }
   ],
   "source": [
    "y_test_pred = rand_search.predict(X_test)"
   ]
  },
  {
   "cell_type": "code",
   "execution_count": 111,
   "id": "53535fce",
   "metadata": {},
   "outputs": [
    {
     "name": "stdout",
     "output_type": "stream",
     "text": [
      "Метрика F1 score на тестовой выборке: 0.9754047707329131\n"
     ]
    }
   ],
   "source": [
    "print(f\"Метрика F1 score на тестовой выборке: {f1_score(y_test, y_test_pred)}\")"
   ]
  },
  {
   "cell_type": "code",
   "execution_count": 112,
   "id": "182417bd",
   "metadata": {},
   "outputs": [],
   "source": [
    "best_model = rand_search.best_estimator_.named_steps['models']\n",
    "preprocessor = rand_search.best_estimator_.named_steps['preprocessor']"
   ]
  },
  {
   "cell_type": "code",
   "execution_count": 113,
   "id": "741903d5",
   "metadata": {},
   "outputs": [
    {
     "name": "stderr",
     "output_type": "stream",
     "text": [
      "C:\\Users\\Zhenya-PC\\anaconda3\\lib\\site-packages\\sklearn\\preprocessing\\_encoders.py:170: UserWarning: Found unknown categories in columns [0, 1] during transform. These unknown categories will be encoded as all zeros\n",
      "  warnings.warn(\n"
     ]
    }
   ],
   "source": [
    "X_test = preprocessor.transform(startups_test[ohe_columns+ord_columns+num_columns])"
   ]
  },
  {
   "cell_type": "code",
   "execution_count": 114,
   "id": "3bcf0509",
   "metadata": {},
   "outputs": [],
   "source": [
    "predict_status = best_model.predict(X_test)"
   ]
  },
  {
   "cell_type": "code",
   "execution_count": 115,
   "id": "ce413043",
   "metadata": {},
   "outputs": [],
   "source": [
    "(\n",
    "    pd.DataFrame({'name': startups_test['name'], 'status': label_encoder.inverse_transform(predict_status)})\n",
    "      .to_csv('data/kaggle_startups.csv', index=False)\n",
    ")"
   ]
  },
  {
   "cell_type": "code",
   "execution_count": null,
   "id": "c3ce50ef",
   "metadata": {},
   "outputs": [],
   "source": []
  }
 ],
 "metadata": {
  "kernelspec": {
   "display_name": "Python 3 (ipykernel)",
   "language": "python",
   "name": "python3"
  },
  "language_info": {
   "codemirror_mode": {
    "name": "ipython",
    "version": 3
   },
   "file_extension": ".py",
   "mimetype": "text/x-python",
   "name": "python",
   "nbconvert_exporter": "python",
   "pygments_lexer": "ipython3",
   "version": "3.9.18"
  },
  "varInspector": {
   "cols": {
    "lenName": 16,
    "lenType": 16,
    "lenVar": 40
   },
   "kernels_config": {
    "python": {
     "delete_cmd_postfix": "",
     "delete_cmd_prefix": "del ",
     "library": "var_list.py",
     "varRefreshCmd": "print(var_dic_list())"
    },
    "r": {
     "delete_cmd_postfix": ") ",
     "delete_cmd_prefix": "rm(",
     "library": "var_list.r",
     "varRefreshCmd": "cat(var_dic_list()) "
    }
   },
   "types_to_exclude": [
    "module",
    "function",
    "builtin_function_or_method",
    "instance",
    "_Feature"
   ],
   "window_display": false
  }
 },
 "nbformat": 4,
 "nbformat_minor": 5
}
