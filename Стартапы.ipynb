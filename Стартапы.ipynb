{
 "cells": [
  {
   "cell_type": "markdown",
   "id": "4a6e6179",
   "metadata": {},
   "source": [
    "# Стартапы"
   ]
  },
  {
   "cell_type": "markdown",
   "id": "bde65811",
   "metadata": {},
   "source": [
    "### Описание"
   ]
  },
  {
   "cell_type": "markdown",
   "id": "d4c32d20",
   "metadata": {},
   "source": [
    "Исследование посвящено данными о стартапах, функционировавших в период с 1970 по 2018 годы. Необходимо предсказать, какие из них закроются."
   ]
  },
  {
   "cell_type": "markdown",
   "id": "a1cc5fe5",
   "metadata": {},
   "source": [
    "В ходе работы необходимо выполнить следующее:\n",
    "- загрузка и ознакомление с данными,\n",
    "- предварительная обработка,\n",
    "- полноценный разведочный анализ,\n",
    "- разработка новых синтетических признаков,\n",
    "- проверка на мультиколлинеарность,\n",
    "- отбор финального набора обучающих признаков,\n",
    "- выбор и обучение моделей,\n",
    "- итоговая оценка качества предсказания лучшей модели,\n",
    "- анализ важности ее признаков,\n",
    "- подготовка отчета по исследованию."
   ]
  },
  {
   "cell_type": "markdown",
   "id": "0bd68cd6",
   "metadata": {},
   "source": [
    "### Импорт библиотек"
   ]
  },
  {
   "cell_type": "code",
   "execution_count": 80,
   "id": "aac5d978",
   "metadata": {},
   "outputs": [],
   "source": [
    "import datetime\n",
    "import pandas as pd\n",
    "import numpy as np\n",
    "import matplotlib.pyplot as plt\n",
    "import seaborn as sns\n",
    "from sklearn.linear_model import LinearRegression\n",
    "from sklearn.model_selection import train_test_split\n",
    "from sklearn.metrics import mean_squared_error\n",
    "from sklearn.preprocessing import StandardScaler"
   ]
  },
  {
   "cell_type": "markdown",
   "id": "52eb416f",
   "metadata": {},
   "source": [
    "### Загрузка данных"
   ]
  },
  {
   "cell_type": "code",
   "execution_count": 81,
   "id": "4a61c7c0",
   "metadata": {},
   "outputs": [],
   "source": [
    "def primary_information(df):\n",
    "    print(f\"Размерность: {df.shape}\")\n",
    "    display(df.info())\n",
    "    display(df.head())"
   ]
  },
  {
   "cell_type": "code",
   "execution_count": 82,
   "id": "0f43f2b3",
   "metadata": {},
   "outputs": [],
   "source": [
    "startups_train = pd.read_csv('data/kaggle_startups_train_27042024.csv')\n",
    "startups_test = pd.read_csv('data/kaggle_startups_test_27042024.csv')"
   ]
  },
  {
   "cell_type": "code",
   "execution_count": 87,
   "id": "37b2ef41",
   "metadata": {
    "scrolled": false
   },
   "outputs": [
    {
     "name": "stdout",
     "output_type": "stream",
     "text": [
      "Размерность: (52514, 13)\n",
      "<class 'pandas.core.frame.DataFrame'>\n",
      "RangeIndex: 52514 entries, 0 to 52513\n",
      "Data columns (total 13 columns):\n",
      " #   Column             Non-Null Count  Dtype         \n",
      "---  ------             --------------  -----         \n",
      " 0   name               52513 non-null  object        \n",
      " 1   category_list      50049 non-null  object        \n",
      " 2   funding_total_usd  42445 non-null  float64       \n",
      " 3   status             52514 non-null  object        \n",
      " 4   country_code       47013 non-null  object        \n",
      " 5   state_code         45752 non-null  object        \n",
      " 6   region             46156 non-null  object        \n",
      " 7   city               46156 non-null  object        \n",
      " 8   funding_rounds     52514 non-null  int64         \n",
      " 9   founded_at         52514 non-null  datetime64[ns]\n",
      " 10  first_funding_at   52514 non-null  datetime64[ns]\n",
      " 11  last_funding_at    52514 non-null  datetime64[ns]\n",
      " 12  closed_at          4915 non-null   datetime64[ns]\n",
      "dtypes: datetime64[ns](4), float64(1), int64(1), object(7)\n",
      "memory usage: 5.2+ MB\n"
     ]
    },
    {
     "data": {
      "text/plain": [
       "None"
      ]
     },
     "metadata": {},
     "output_type": "display_data"
    },
    {
     "data": {
      "text/html": [
       "<div>\n",
       "<style scoped>\n",
       "    .dataframe tbody tr th:only-of-type {\n",
       "        vertical-align: middle;\n",
       "    }\n",
       "\n",
       "    .dataframe tbody tr th {\n",
       "        vertical-align: top;\n",
       "    }\n",
       "\n",
       "    .dataframe thead th {\n",
       "        text-align: right;\n",
       "    }\n",
       "</style>\n",
       "<table border=\"1\" class=\"dataframe\">\n",
       "  <thead>\n",
       "    <tr style=\"text-align: right;\">\n",
       "      <th></th>\n",
       "      <th>name</th>\n",
       "      <th>category_list</th>\n",
       "      <th>funding_total_usd</th>\n",
       "      <th>status</th>\n",
       "      <th>country_code</th>\n",
       "      <th>state_code</th>\n",
       "      <th>region</th>\n",
       "      <th>city</th>\n",
       "      <th>funding_rounds</th>\n",
       "      <th>founded_at</th>\n",
       "      <th>first_funding_at</th>\n",
       "      <th>last_funding_at</th>\n",
       "      <th>closed_at</th>\n",
       "    </tr>\n",
       "  </thead>\n",
       "  <tbody>\n",
       "    <tr>\n",
       "      <th>0</th>\n",
       "      <td>Lunchgate</td>\n",
       "      <td>Online Reservations|Restaurants</td>\n",
       "      <td>828626.0</td>\n",
       "      <td>operating</td>\n",
       "      <td>CHE</td>\n",
       "      <td>25</td>\n",
       "      <td>Zurich</td>\n",
       "      <td>Zürich</td>\n",
       "      <td>2</td>\n",
       "      <td>2009-12-31</td>\n",
       "      <td>2011-05-01</td>\n",
       "      <td>2014-12-01</td>\n",
       "      <td>NaT</td>\n",
       "    </tr>\n",
       "    <tr>\n",
       "      <th>1</th>\n",
       "      <td>EarLens</td>\n",
       "      <td>Manufacturing|Medical|Medical Devices</td>\n",
       "      <td>42935019.0</td>\n",
       "      <td>operating</td>\n",
       "      <td>USA</td>\n",
       "      <td>CA</td>\n",
       "      <td>SF Bay Area</td>\n",
       "      <td>Redwood City</td>\n",
       "      <td>4</td>\n",
       "      <td>2005-01-01</td>\n",
       "      <td>2010-05-04</td>\n",
       "      <td>2014-02-25</td>\n",
       "      <td>NaT</td>\n",
       "    </tr>\n",
       "    <tr>\n",
       "      <th>2</th>\n",
       "      <td>Reviva Pharmaceuticals</td>\n",
       "      <td>Biotechnology</td>\n",
       "      <td>35456381.0</td>\n",
       "      <td>operating</td>\n",
       "      <td>USA</td>\n",
       "      <td>CA</td>\n",
       "      <td>SF Bay Area</td>\n",
       "      <td>San Jose</td>\n",
       "      <td>3</td>\n",
       "      <td>2006-01-01</td>\n",
       "      <td>2012-08-20</td>\n",
       "      <td>2014-07-02</td>\n",
       "      <td>NaT</td>\n",
       "    </tr>\n",
       "    <tr>\n",
       "      <th>3</th>\n",
       "      <td>Sancilio and Company</td>\n",
       "      <td>Health Care</td>\n",
       "      <td>22250000.0</td>\n",
       "      <td>operating</td>\n",
       "      <td>NaN</td>\n",
       "      <td>NaN</td>\n",
       "      <td>NaN</td>\n",
       "      <td>NaN</td>\n",
       "      <td>3</td>\n",
       "      <td>2004-01-01</td>\n",
       "      <td>2011-09-01</td>\n",
       "      <td>2014-07-18</td>\n",
       "      <td>NaT</td>\n",
       "    </tr>\n",
       "    <tr>\n",
       "      <th>4</th>\n",
       "      <td>WireTough Cylinders</td>\n",
       "      <td>Manufacturing</td>\n",
       "      <td>NaN</td>\n",
       "      <td>operating</td>\n",
       "      <td>USA</td>\n",
       "      <td>VA</td>\n",
       "      <td>VA - Other</td>\n",
       "      <td>Bristol</td>\n",
       "      <td>1</td>\n",
       "      <td>2010-09-30</td>\n",
       "      <td>2012-02-01</td>\n",
       "      <td>2012-02-01</td>\n",
       "      <td>NaT</td>\n",
       "    </tr>\n",
       "  </tbody>\n",
       "</table>\n",
       "</div>"
      ],
      "text/plain": [
       "                     name                          category_list  \\\n",
       "0               Lunchgate        Online Reservations|Restaurants   \n",
       "1                 EarLens  Manufacturing|Medical|Medical Devices   \n",
       "2  Reviva Pharmaceuticals                          Biotechnology   \n",
       "3    Sancilio and Company                            Health Care   \n",
       "4     WireTough Cylinders                          Manufacturing   \n",
       "\n",
       "   funding_total_usd     status country_code state_code       region  \\\n",
       "0           828626.0  operating          CHE         25       Zurich   \n",
       "1         42935019.0  operating          USA         CA  SF Bay Area   \n",
       "2         35456381.0  operating          USA         CA  SF Bay Area   \n",
       "3         22250000.0  operating          NaN        NaN          NaN   \n",
       "4                NaN  operating          USA         VA   VA - Other   \n",
       "\n",
       "           city  funding_rounds founded_at first_funding_at last_funding_at  \\\n",
       "0        Zürich               2 2009-12-31       2011-05-01      2014-12-01   \n",
       "1  Redwood City               4 2005-01-01       2010-05-04      2014-02-25   \n",
       "2      San Jose               3 2006-01-01       2012-08-20      2014-07-02   \n",
       "3           NaN               3 2004-01-01       2011-09-01      2014-07-18   \n",
       "4       Bristol               1 2010-09-30       2012-02-01      2012-02-01   \n",
       "\n",
       "  closed_at  \n",
       "0       NaT  \n",
       "1       NaT  \n",
       "2       NaT  \n",
       "3       NaT  \n",
       "4       NaT  "
      ]
     },
     "metadata": {},
     "output_type": "display_data"
    },
    {
     "name": "stdout",
     "output_type": "stream",
     "text": [
      "Размерность: (13125, 12)\n",
      "<class 'pandas.core.frame.DataFrame'>\n",
      "RangeIndex: 13125 entries, 0 to 13124\n",
      "Data columns (total 12 columns):\n",
      " #   Column             Non-Null Count  Dtype         \n",
      "---  ------             --------------  -----         \n",
      " 0   name               13125 non-null  object        \n",
      " 1   category_list      12534 non-null  object        \n",
      " 2   funding_total_usd  10547 non-null  float64       \n",
      " 3   country_code       11743 non-null  object        \n",
      " 4   state_code         11430 non-null  object        \n",
      " 5   region             11536 non-null  object        \n",
      " 6   city               11538 non-null  object        \n",
      " 7   funding_rounds     13125 non-null  int64         \n",
      " 8   founded_at         13125 non-null  datetime64[ns]\n",
      " 9   first_funding_at   13125 non-null  datetime64[ns]\n",
      " 10  last_funding_at    13125 non-null  datetime64[ns]\n",
      " 11  lifetime           13125 non-null  int64         \n",
      "dtypes: datetime64[ns](3), float64(1), int64(2), object(6)\n",
      "memory usage: 1.2+ MB\n"
     ]
    },
    {
     "data": {
      "text/plain": [
       "None"
      ]
     },
     "metadata": {},
     "output_type": "display_data"
    },
    {
     "data": {
      "text/html": [
       "<div>\n",
       "<style scoped>\n",
       "    .dataframe tbody tr th:only-of-type {\n",
       "        vertical-align: middle;\n",
       "    }\n",
       "\n",
       "    .dataframe tbody tr th {\n",
       "        vertical-align: top;\n",
       "    }\n",
       "\n",
       "    .dataframe thead th {\n",
       "        text-align: right;\n",
       "    }\n",
       "</style>\n",
       "<table border=\"1\" class=\"dataframe\">\n",
       "  <thead>\n",
       "    <tr style=\"text-align: right;\">\n",
       "      <th></th>\n",
       "      <th>name</th>\n",
       "      <th>category_list</th>\n",
       "      <th>funding_total_usd</th>\n",
       "      <th>country_code</th>\n",
       "      <th>state_code</th>\n",
       "      <th>region</th>\n",
       "      <th>city</th>\n",
       "      <th>funding_rounds</th>\n",
       "      <th>founded_at</th>\n",
       "      <th>first_funding_at</th>\n",
       "      <th>last_funding_at</th>\n",
       "      <th>lifetime</th>\n",
       "    </tr>\n",
       "  </thead>\n",
       "  <tbody>\n",
       "    <tr>\n",
       "      <th>0</th>\n",
       "      <td>Crystalsol</td>\n",
       "      <td>Clean Technology</td>\n",
       "      <td>2819200.0</td>\n",
       "      <td>NIC</td>\n",
       "      <td>17</td>\n",
       "      <td>NaN</td>\n",
       "      <td>NaN</td>\n",
       "      <td>1</td>\n",
       "      <td>2008-06-01</td>\n",
       "      <td>2009-07-01</td>\n",
       "      <td>2009-07-01</td>\n",
       "      <td>3501</td>\n",
       "    </tr>\n",
       "    <tr>\n",
       "      <th>1</th>\n",
       "      <td>JBI Fish &amp; Wings</td>\n",
       "      <td>Hospitality</td>\n",
       "      <td>NaN</td>\n",
       "      <td>USA</td>\n",
       "      <td>TN</td>\n",
       "      <td>TN - Other</td>\n",
       "      <td>Humboldt</td>\n",
       "      <td>1</td>\n",
       "      <td>2010-07-25</td>\n",
       "      <td>2010-07-28</td>\n",
       "      <td>2010-07-28</td>\n",
       "      <td>2717</td>\n",
       "    </tr>\n",
       "    <tr>\n",
       "      <th>2</th>\n",
       "      <td>COINPLUS</td>\n",
       "      <td>Finance</td>\n",
       "      <td>428257.0</td>\n",
       "      <td>LUX</td>\n",
       "      <td>3</td>\n",
       "      <td>Esch-sur-alzette</td>\n",
       "      <td>Esch-sur-alzette</td>\n",
       "      <td>2</td>\n",
       "      <td>2014-06-16</td>\n",
       "      <td>2014-05-15</td>\n",
       "      <td>2014-09-18</td>\n",
       "      <td>1295</td>\n",
       "    </tr>\n",
       "    <tr>\n",
       "      <th>3</th>\n",
       "      <td>Imagine Communications</td>\n",
       "      <td>Software|Video|Video Streaming</td>\n",
       "      <td>34700000.0</td>\n",
       "      <td>USA</td>\n",
       "      <td>CA</td>\n",
       "      <td>San Diego</td>\n",
       "      <td>San Diego</td>\n",
       "      <td>4</td>\n",
       "      <td>2005-01-01</td>\n",
       "      <td>2005-01-01</td>\n",
       "      <td>2010-04-20</td>\n",
       "      <td>4748</td>\n",
       "    </tr>\n",
       "    <tr>\n",
       "      <th>4</th>\n",
       "      <td>DNA13</td>\n",
       "      <td>Software</td>\n",
       "      <td>4530000.0</td>\n",
       "      <td>CAN</td>\n",
       "      <td>ON</td>\n",
       "      <td>Ottawa</td>\n",
       "      <td>Ottawa</td>\n",
       "      <td>1</td>\n",
       "      <td>2001-01-01</td>\n",
       "      <td>2007-05-08</td>\n",
       "      <td>2007-05-08</td>\n",
       "      <td>6209</td>\n",
       "    </tr>\n",
       "  </tbody>\n",
       "</table>\n",
       "</div>"
      ],
      "text/plain": [
       "                     name                   category_list  funding_total_usd  \\\n",
       "0              Crystalsol                Clean Technology          2819200.0   \n",
       "1        JBI Fish & Wings                     Hospitality                NaN   \n",
       "2                COINPLUS                         Finance           428257.0   \n",
       "3  Imagine Communications  Software|Video|Video Streaming         34700000.0   \n",
       "4                   DNA13                        Software          4530000.0   \n",
       "\n",
       "  country_code state_code            region              city  funding_rounds  \\\n",
       "0          NIC         17               NaN               NaN               1   \n",
       "1          USA         TN        TN - Other          Humboldt               1   \n",
       "2          LUX          3  Esch-sur-alzette  Esch-sur-alzette               2   \n",
       "3          USA         CA         San Diego         San Diego               4   \n",
       "4          CAN         ON            Ottawa            Ottawa               1   \n",
       "\n",
       "  founded_at first_funding_at last_funding_at  lifetime  \n",
       "0 2008-06-01       2009-07-01      2009-07-01      3501  \n",
       "1 2010-07-25       2010-07-28      2010-07-28      2717  \n",
       "2 2014-06-16       2014-05-15      2014-09-18      1295  \n",
       "3 2005-01-01       2005-01-01      2010-04-20      4748  \n",
       "4 2001-01-01       2007-05-08      2007-05-08      6209  "
      ]
     },
     "metadata": {},
     "output_type": "display_data"
    }
   ],
   "source": [
    "primary_information(startups_train)\n",
    "primary_information(startups_test)"
   ]
  },
  {
   "cell_type": "code",
   "execution_count": 84,
   "id": "80ecba36",
   "metadata": {},
   "outputs": [
    {
     "data": {
      "text/plain": [
       "name                     1\n",
       "category_list         2465\n",
       "funding_total_usd    10069\n",
       "status                   0\n",
       "country_code          5501\n",
       "state_code            6762\n",
       "region                6358\n",
       "city                  6358\n",
       "funding_rounds           0\n",
       "founded_at               0\n",
       "first_funding_at         0\n",
       "last_funding_at          0\n",
       "closed_at            47599\n",
       "dtype: int64"
      ]
     },
     "execution_count": 84,
     "metadata": {},
     "output_type": "execute_result"
    }
   ],
   "source": [
    "startups_train.isna().sum()"
   ]
  },
  {
   "cell_type": "code",
   "execution_count": 85,
   "id": "85b4f159",
   "metadata": {},
   "outputs": [],
   "source": [
    "def cast_datetime(df):\n",
    "    df['founded_at'] = pd.to_datetime(\n",
    "        df['founded_at'], format=\"%Y-%m-%d\"\n",
    "    )\n",
    "    df['first_funding_at'] = pd.to_datetime(\n",
    "        df['first_funding_at'], format=\"%Y-%m-%d\"\n",
    "    )\n",
    "    df['last_funding_at'] = pd.to_datetime(\n",
    "        df['last_funding_at'], format=\"%Y-%m-%d\"\n",
    "    )"
   ]
  },
  {
   "cell_type": "code",
   "execution_count": 86,
   "id": "2318067c",
   "metadata": {},
   "outputs": [],
   "source": [
    "cast_datetime(startups_train)\n",
    "cast_datetime(startups_test)\n",
    "\n",
    "# Пропущенные значения в поле closed_at означают, что стартап не закрыт, поэтому заполним текущей датой\n",
    "# для корректного расчета времени существования стартапа в днях\n",
    "startups_train['closed_at'].fillna(datetime.date.today())\n",
    "startups_train['closed_at'] = pd.to_datetime(\n",
    "    startups_train['closed_at'], format=\"%Y-%m-%d\"\n",
    ")"
   ]
  },
  {
   "cell_type": "code",
   "execution_count": 88,
   "id": "7ab719fe",
   "metadata": {},
   "outputs": [],
   "source": [
    "def draw_boxplots(df, cols, title):\n",
    "    fig, axs = plt.subplots(ncols=len(cols), nrows=1, figsize=(16, 4))\n",
    "    for i in range(len(cols)):\n",
    "        sns.boxplot(data = df, y=cols[i], ax=axs[i])\n",
    "        axs[i].set_xlabel(cols[i])\n",
    "        axs[i].set_ylabel('')\n",
    "    fig.suptitle(title, fontsize=30);"
   ]
  },
  {
   "cell_type": "code",
   "execution_count": 90,
   "id": "89c62b05",
   "metadata": {},
   "outputs": [
    {
     "data": {
      "image/png": "[encoded data removed]",
      "text/plain": [
       "<Figure size 1152x288 with 2 Axes>"
      ]
     },
     "metadata": {
      "needs_background": "light"
     },
     "output_type": "display_data"
    }
   ],
   "source": [
    "draw_boxplots(startups_train, ['funding_total_usd', 'funding_rounds'], '')"
   ]
  },
  {
   "cell_type": "code",
   "execution_count": 41,
   "id": "7146b7e1",
   "metadata": {},
   "outputs": [
    {
     "data": {
      "text/plain": [
       "Software                            3207\n",
       "Biotechnology                       2905\n",
       "E-Commerce                          1063\n",
       "Mobile                               920\n",
       "Clean Technology                     892\n",
       "Curated Web                          851\n",
       "Health Care                          744\n",
       "Hardware + Software                  733\n",
       "Games                                681\n",
       "Enterprise Software                  671\n",
       "Health and Wellness                  613\n",
       "Manufacturing                        604\n",
       "Advertising                          554\n",
       "Education                            422\n",
       "Semiconductors                       400\n",
       "Real Estate                          338\n",
       "Finance                              338\n",
       "Consulting                           330\n",
       "Social Media                         326\n",
       "Security                             317\n",
       "Hospitality                          278\n",
       "Web Hosting                          277\n",
       "Analytics                            261\n",
       "Fashion                              254\n",
       "Technology                           217\n",
       "Medical                              198\n",
       "Travel                               190\n",
       "Biotechnology|Health Diagnostics     186\n",
       "Internet                             168\n",
       "News                                 165\n",
       "Sports                               151\n",
       "Music                                151\n",
       "Apps                                 142\n",
       "Messaging                            132\n",
       "Pharmaceuticals                      130\n",
       "EdTech|Education                     129\n",
       "Financial Services                   128\n",
       "Medical Devices                      128\n",
       "Information Technology               123\n",
       "Finance|FinTech                      123\n",
       "Public Relations                     117\n",
       "Automotive                           116\n",
       "Entertainment|Games                  114\n",
       "Search                               108\n",
       "Transportation                       102\n",
       "Photography                           95\n",
       "Biotechnology|Health Care             93\n",
       "Nanotechnology                        78\n",
       "Services                              76\n",
       "Design                                73\n",
       "Public Transportation                 72\n",
       "Consumer Electronics                  70\n",
       "Telecommunications                    70\n",
       "Nonprofits                            65\n",
       "Entertainment                         64\n",
       "Food Processing                       60\n",
       "Finance|Venture Capital               57\n",
       "Legal                                 53\n",
       "Media|News                            49\n",
       "Retail                                49\n",
       "Name: category_list, dtype: int64"
      ]
     },
     "execution_count": 41,
     "metadata": {},
     "output_type": "execute_result"
    }
   ],
   "source": [
    "startups_train['category_list'].value_counts()[:60]"
   ]
  },
  {
   "cell_type": "code",
   "execution_count": 33,
   "id": "530ee2cd",
   "metadata": {},
   "outputs": [
    {
     "data": {
      "text/plain": [
       "10253"
      ]
     },
     "execution_count": 33,
     "metadata": {},
     "output_type": "execute_result"
    }
   ],
   "source": [
    "startups_train['category_list'].str.contains('Software', na=False).sum()"
   ]
  },
  {
   "cell_type": "code",
   "execution_count": 42,
   "id": "e62eafc2",
   "metadata": {},
   "outputs": [
    {
     "data": {
      "text/plain": [
       "6        Analytics|Business Analytics|Social CRM|Social...\n",
       "7                                                 Software\n",
       "10                                                Software\n",
       "13                                                Software\n",
       "17       Analytics|Cloud Data Services|Computers|Networ...\n",
       "                               ...                        \n",
       "52484                                  Hardware + Software\n",
       "52486               Information Services|Services|Software\n",
       "52494                                  Hardware + Software\n",
       "52499                                             Software\n",
       "52511                Email|Messaging|Productivity Software\n",
       "Name: category_list, Length: 10253, dtype: object"
      ]
     },
     "execution_count": 42,
     "metadata": {},
     "output_type": "execute_result"
    }
   ],
   "source": [
    "startups_train[startups_train['category_list'].str.contains('Software', na=False)]['category_list']"
   ]
  },
  {
   "cell_type": "code",
   "execution_count": 50,
   "id": "da35dce2",
   "metadata": {},
   "outputs": [],
   "source": []
  },
  {
   "cell_type": "code",
   "execution_count": 52,
   "id": "5f312534",
   "metadata": {},
   "outputs": [
    {
     "data": {
      "text/plain": [
       "0     2024-06-07\n",
       "1     2024-06-07\n",
       "2     2024-06-07\n",
       "3     2024-06-07\n",
       "4     2024-06-07\n",
       "5     2024-06-07\n",
       "6     2024-06-07\n",
       "7     2024-06-07\n",
       "8     2024-06-07\n",
       "9     2024-06-07\n",
       "10    2024-06-07\n",
       "11    2024-06-07\n",
       "12    2015-07-25\n",
       "13    2024-06-07\n",
       "14    2024-06-07\n",
       "15    2024-06-07\n",
       "16    2014-11-02\n",
       "17    2024-06-07\n",
       "18    2024-06-07\n",
       "19    2024-06-07\n",
       "Name: closed_at, dtype: object"
      ]
     },
     "execution_count": 52,
     "metadata": {},
     "output_type": "execute_result"
    }
   ],
   "source": []
  }
 ],
 "metadata": {
  "kernelspec": {
   "display_name": "Python 3",
   "language": "python",
   "name": "python3"
  },
  "language_info": {
   "codemirror_mode": {
    "name": "ipython",
    "version": 3
   },
   "file_extension": ".py",
   "mimetype": "text/x-python",
   "name": "python",
   "nbconvert_exporter": "python",
   "pygments_lexer": "ipython3",
   "version": "3.8.8"
  }
 },
 "nbformat": 4,
 "nbformat_minor": 5
}
