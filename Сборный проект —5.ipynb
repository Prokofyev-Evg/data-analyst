{
 "cells": [
  {
   "cell_type": "markdown",
   "id": "CUQuYmMs-mKK",
   "metadata": {
    "deletable": false,
    "editable": false,
    "id": "CUQuYmMs-mKK",
    "tags": [
     "21a32eca-7494-4096-b202-21be1b7f0a7d"
    ]
   },
   "source": []
  },
  {
   "cell_type": "markdown",
   "id": "1ff1020a",
   "metadata": {
    "cellId": "pbwq209p45adtxfy5ofecd",
    "execution_id": "7cb94123-6481-41de-973a-91abe63db303",
    "id": "1ff1020a"
   },
   "source": [
    "# Прекод\n",
    "\n",
    "# Сборный проект-5\n",
    "\n",
    "Вам поручено разработать демонстрационную версию поиска изображений по запросу.\n",
    "\n",
    "Для демонстрационной версии нужно обучить модель, которая получит векторное представление изображения, векторное представление текста, а на выходе выдаст число от 0 до 1 — покажет, насколько текст и картинка подходят друг другу.\n",
    "\n",
    "### Описание данных\n",
    "\n",
    "Данные доступны по [ссылке](https://code.s3.yandex.net/datasets/dsplus_integrated_project_4.zip).\n",
    "\n",
    "В файле `train_dataset.csv` находится информация, необходимая для обучения: имя файла изображения, идентификатор описания и текст описания. Для одной картинки может быть доступно до 5 описаний. Идентификатор описания имеет формат `<имя файла изображения>#<порядковый номер описания>`.\n",
    "\n",
    "В папке `train_images` содержатся изображения для тренировки модели.\n",
    "\n",
    "В файле `CrowdAnnotations.tsv` — данные по соответствию изображения и описания, полученные с помощью краудсорсинга. Номера колонок и соответствующий тип данных:\n",
    "\n",
    "1. Имя файла изображения.\n",
    "2. Идентификатор описания.\n",
    "3. Доля людей, подтвердивших, что описание соответствует изображению.\n",
    "4. Количество человек, подтвердивших, что описание соответствует изображению.\n",
    "5. Количество человек, подтвердивших, что описание не соответствует изображению.\n",
    "\n",
    "В файле `ExpertAnnotations.tsv` содержатся данные по соответствию изображения и описания, полученные в результате опроса экспертов. Номера колонок и соответствующий тип данных:\n",
    "\n",
    "1. Имя файла изображения.\n",
    "2. Идентификатор описания.\n",
    "\n",
    "3, 4, 5 — оценки трёх экспертов.\n",
    "\n",
    "Эксперты ставят оценки по шкале от 1 до 4, где 1 — изображение и запрос совершенно не соответствуют друг другу, 2 — запрос содержит элементы описания изображения, но в целом запрос тексту не соответствует, 3 — запрос и текст соответствуют с точностью до некоторых деталей, 4 — запрос и текст соответствуют полностью.\n",
    "\n",
    "В файле `test_queries.csv` находится информация, необходимая для тестирования: идентификатор запроса, текст запроса и релевантное изображение. Для одной картинки может быть доступно до 5 описаний. Идентификатор описания имеет формат `<имя файла изображения>#<порядковый номер описания>`.\n",
    "\n",
    "В папке `test_images` содержатся изображения для тестирования модели."
   ]
  },
  {
   "cell_type": "code",
   "execution_count": 3,
   "id": "a2dad3c3-65ed-40ee-87fa-b756665e3cf9",
   "metadata": {},
   "outputs": [],
   "source": [
    "# !pip install torchvision transformers "
   ]
  },
  {
   "cell_type": "code",
   "execution_count": 4,
   "id": "7b356cf0-4c88-4642-90e7-1569053d1632",
   "metadata": {},
   "outputs": [],
   "source": [
    "import os\n",
    "import math\n",
    "import requests\n",
    "import zipfile\n",
    "import numpy as np\n",
    "import pandas as pd\n",
    "import matplotlib.pyplot as plt\n",
    "import seaborn as sns\n",
    "import nltk\n",
    "import re\n",
    "from PIL import Image\n",
    "import copy\n",
    "import random\n",
    "\n",
    "# импортируем библиотеки для работы с progress bar\n",
    "from tqdm import *\n",
    "from tqdm.notebook import tqdm\n",
    "tqdm.pandas()\n",
    "\n",
    "# импортируем pytorch\n",
    "import torch\n",
    "import torch.nn as nn\n",
    "from torchvision import transforms, models\n",
    "\n",
    "# импортируем библиотеки для работы с текстом\n",
    "from nltk.corpus import wordnet\n",
    "from nltk.corpus import stopwords as nltk_stopwords\n",
    "from nltk.tokenize import word_tokenize\n",
    "from nltk import pos_tag\n",
    "from nltk.stem import WordNetLemmatizer\n",
    "from transformers import BertTokenizer\n",
    "\n",
    "# импортируем класс GridSearchCV\n",
    "from sklearn.model_selection import GridSearchCV\n",
    "\n",
    "# загружаем нужные модели\n",
    "from sklearn.feature_extraction.text import TfidfVectorizer\n",
    "from sklearn.linear_model import LinearRegression\n",
    "from sklearn.pipeline import Pipeline\n",
    "# import lightgbm as lgb"
   ]
  },
  {
   "cell_type": "code",
   "execution_count": 5,
   "id": "920afca6",
   "metadata": {},
   "outputs": [],
   "source": [
    "def set_seed(seed: int = 42) -> None:\n",
    "    np.random.seed(seed)\n",
    "    random.seed(seed)\n",
    "    torch.manual_seed(seed)\n",
    "    torch.cuda.manual_seed(seed)\n",
    "    # When running on the CuDNN backend, two further options must be set\n",
    "    torch.backends.cudnn.deterministic = True\n",
    "    torch.backends.cudnn.benchmark = False\n",
    "    # Set a fixed value for the hash seed\n",
    "    os.environ[\"PYTHONHASHSEED\"] = str(seed)\n",
    "    print(f\"Random seed set as {seed}\")"
   ]
  },
  {
   "cell_type": "code",
   "execution_count": 6,
   "id": "93898b5f",
   "metadata": {},
   "outputs": [
    {
     "name": "stdout",
     "output_type": "stream",
     "text": [
      "Random seed set as 42\n"
     ]
    }
   ],
   "source": [
    "set_seed(42)"
   ]
  },
  {
   "cell_type": "code",
   "execution_count": 7,
   "id": "7c180649-4d1f-40a4-9e7e-8a6b78cd657e",
   "metadata": {},
   "outputs": [],
   "source": [
    "os.environ['TORCH_HOME'] = 'models/resnet' #setting the environment variable\\n"
   ]
  },
  {
   "cell_type": "code",
   "execution_count": 8,
   "id": "c864fbab-1026-4a26-8c2b-b46268b675fa",
   "metadata": {},
   "outputs": [
    {
     "name": "stdout",
     "output_type": "stream",
     "text": [
      "NVIDIA GeForce RTX 3060\n"
     ]
    }
   ],
   "source": [
    "if torch.cuda.is_available():\n",
    "    device = 'cuda'\n",
    "    print(torch.cuda.get_device_name(0))\n",
    "else:\n",
    "    device = 'cpu'\n",
    "    print('CPU')"
   ]
  },
  {
   "cell_type": "code",
   "execution_count": 9,
   "id": "9fbb7ac4-cad6-47bd-ad37-5e27303c427b",
   "metadata": {},
   "outputs": [],
   "source": [
    "# device = 'cpu'"
   ]
  },
  {
   "cell_type": "markdown",
   "id": "883957fe",
   "metadata": {},
   "source": [
    "Объявим константы для работы с проектом"
   ]
  },
  {
   "cell_type": "code",
   "execution_count": 11,
   "id": "5afa8202",
   "metadata": {},
   "outputs": [],
   "source": [
    "DATA_FILENAME = \"dsplus_integrated_project_4.zip\"\n",
    "DATA_URL = \"https://code.s3.yandex.net/datasets/\" + DATA_FILENAME\n",
    "DATA_ROOT_FOLDER = \"data/to_upload/\"\n",
    "TRAIN_IMG_PATH = DATA_ROOT_FOLDER + \"train_images\"\n",
    "TEST_IMG_PATH =  DATA_ROOT_FOLDER + \"test_images\""
   ]
  },
  {
   "cell_type": "code",
   "execution_count": 12,
   "id": "39be03fa",
   "metadata": {},
   "outputs": [],
   "source": [
    "def download_file(url, filename, path_to_file):\n",
    "  with requests.get(url, stream=True) as r:\n",
    "      r.raise_for_status()\n",
    "      with open(filename, 'wb') as f:\n",
    "          pbar = tqdm(total=int(r.headers['Content-Length']))\n",
    "          for chunk in r.iter_content(chunk_size=8192):\n",
    "              if chunk:\n",
    "                  f.write(chunk)\n",
    "                  pbar.update(len(chunk))"
   ]
  },
  {
   "cell_type": "code",
   "execution_count": 13,
   "id": "a7c6237a",
   "metadata": {},
   "outputs": [],
   "source": [
    "def extract_file(path_to_zip_file, directory_to_extract_to):\n",
    "  with zipfile.ZipFile(path_to_zip_file, 'r') as zip_ref:\n",
    "      zip_ref.extractall(directory_to_extract_to)"
   ]
  },
  {
   "cell_type": "code",
   "execution_count": 14,
   "id": "8b4fa497",
   "metadata": {},
   "outputs": [],
   "source": [
    "if not os.path.isfile(DATA_FILENAME):\n",
    "    download_file(DATA_URL, DATA_FILENAME, DATA_ROOT_FOLDER)"
   ]
  },
  {
   "cell_type": "code",
   "execution_count": 15,
   "id": "d07e5a7e",
   "metadata": {},
   "outputs": [],
   "source": [
    "extract_file(DATA_FILENAME, DATA_ROOT_FOLDER)"
   ]
  },
  {
   "cell_type": "markdown",
   "id": "99489b26",
   "metadata": {
    "cellId": "n6vkjcacwu39w29bfocxt",
    "execution_id": "1b731a18-3394-4b62-b3f7-018692c2d6de",
    "id": "99489b26"
   },
   "source": [
    "## 1. Исследовательский анализ данных\n",
    "\n",
    "Наш датасет содержит экспертные и краудсорсинговые оценки соответствия текста и изображения.\n",
    "\n",
    "В файле с экспертными мнениями для каждой пары изображение-текст имеются оценки от трёх специалистов. Для решения задачи вы должны эти оценки агрегировать — превратить в одну. Существует несколько способов агрегации оценок, самый простой — голосование большинства: за какую оценку проголосовала большая часть экспертов (в нашем случае 2 или 3), та оценка и ставится как итоговая. Поскольку число экспертов меньше числа классов, может случиться, что каждый эксперт поставит разные оценки, например: 1, 4, 2. В таком случае данную пару изображение-текст можно исключить из датасета.\n",
    "\n",
    "Вы можете воспользоваться другим методом агрегации оценок или придумать свой.\n",
    "\n",
    "В файле с краудсорсинговыми оценками информация расположена в таком порядке:\n",
    "\n",
    "1. Доля исполнителей, подтвердивших, что текст **соответствует** картинке.\n",
    "2. Количество исполнителей, подтвердивших, что текст **соответствует** картинке.\n",
    "3. Количество исполнителей, подтвердивших, что текст **не соответствует** картинке.\n",
    "\n",
    "После анализа экспертных и краудсорсинговых оценок выберите либо одну из них, либо объедините их в одну по какому-то критерию: например, оценка эксперта принимается с коэффициентом 0.6, а крауда — с коэффициентом 0.4.\n",
    "\n",
    "Ваша модель должна возвращать на выходе вероятность соответствия изображения тексту, поэтому целевая переменная должна иметь значения от 0 до 1.\n"
   ]
  },
  {
   "cell_type": "code",
   "execution_count": 17,
   "id": "2d946021-0965-4ca4-9012-86cd01a1d7c0",
   "metadata": {},
   "outputs": [],
   "source": [
    "def primary_information(df):\n",
    "    display(df.info())\n",
    "    display(df.head())"
   ]
  },
  {
   "cell_type": "code",
   "execution_count": 18,
   "id": "c14a3631",
   "metadata": {},
   "outputs": [
    {
     "name": "stdout",
     "output_type": "stream",
     "text": [
      "<class 'pandas.core.frame.DataFrame'>\n",
      "RangeIndex: 5822 entries, 0 to 5821\n",
      "Data columns (total 3 columns):\n",
      " #   Column      Non-Null Count  Dtype \n",
      "---  ------      --------------  ----- \n",
      " 0   image       5822 non-null   object\n",
      " 1   query_id    5822 non-null   object\n",
      " 2   query_text  5822 non-null   object\n",
      "dtypes: object(3)\n",
      "memory usage: 136.6+ KB\n"
     ]
    },
    {
     "data": {
      "text/plain": [
       "None"
      ]
     },
     "metadata": {},
     "output_type": "display_data"
    },
    {
     "data": {
      "text/html": [
       "<div>\n",
       "<style scoped>\n",
       "    .dataframe tbody tr th:only-of-type {\n",
       "        vertical-align: middle;\n",
       "    }\n",
       "\n",
       "    .dataframe tbody tr th {\n",
       "        vertical-align: top;\n",
       "    }\n",
       "\n",
       "    .dataframe thead th {\n",
       "        text-align: right;\n",
       "    }\n",
       "</style>\n",
       "<table border=\"1\" class=\"dataframe\">\n",
       "  <thead>\n",
       "    <tr style=\"text-align: right;\">\n",
       "      <th></th>\n",
       "      <th>image</th>\n",
       "      <th>query_id</th>\n",
       "      <th>query_text</th>\n",
       "    </tr>\n",
       "  </thead>\n",
       "  <tbody>\n",
       "    <tr>\n",
       "      <th>0</th>\n",
       "      <td>1056338697_4f7d7ce270.jpg</td>\n",
       "      <td>2549968784_39bfbe44f9.jpg#2</td>\n",
       "      <td>A young child is wearing blue goggles and sitt...</td>\n",
       "    </tr>\n",
       "    <tr>\n",
       "      <th>1</th>\n",
       "      <td>1262583859_653f1469a9.jpg</td>\n",
       "      <td>2549968784_39bfbe44f9.jpg#2</td>\n",
       "      <td>A young child is wearing blue goggles and sitt...</td>\n",
       "    </tr>\n",
       "    <tr>\n",
       "      <th>2</th>\n",
       "      <td>2447284966_d6bbdb4b6e.jpg</td>\n",
       "      <td>2549968784_39bfbe44f9.jpg#2</td>\n",
       "      <td>A young child is wearing blue goggles and sitt...</td>\n",
       "    </tr>\n",
       "    <tr>\n",
       "      <th>3</th>\n",
       "      <td>2549968784_39bfbe44f9.jpg</td>\n",
       "      <td>2549968784_39bfbe44f9.jpg#2</td>\n",
       "      <td>A young child is wearing blue goggles and sitt...</td>\n",
       "    </tr>\n",
       "    <tr>\n",
       "      <th>4</th>\n",
       "      <td>2621415349_ef1a7e73be.jpg</td>\n",
       "      <td>2549968784_39bfbe44f9.jpg#2</td>\n",
       "      <td>A young child is wearing blue goggles and sitt...</td>\n",
       "    </tr>\n",
       "  </tbody>\n",
       "</table>\n",
       "</div>"
      ],
      "text/plain": [
       "                       image                     query_id  \\\n",
       "0  1056338697_4f7d7ce270.jpg  2549968784_39bfbe44f9.jpg#2   \n",
       "1  1262583859_653f1469a9.jpg  2549968784_39bfbe44f9.jpg#2   \n",
       "2  2447284966_d6bbdb4b6e.jpg  2549968784_39bfbe44f9.jpg#2   \n",
       "3  2549968784_39bfbe44f9.jpg  2549968784_39bfbe44f9.jpg#2   \n",
       "4  2621415349_ef1a7e73be.jpg  2549968784_39bfbe44f9.jpg#2   \n",
       "\n",
       "                                          query_text  \n",
       "0  A young child is wearing blue goggles and sitt...  \n",
       "1  A young child is wearing blue goggles and sitt...  \n",
       "2  A young child is wearing blue goggles and sitt...  \n",
       "3  A young child is wearing blue goggles and sitt...  \n",
       "4  A young child is wearing blue goggles and sitt...  "
      ]
     },
     "metadata": {},
     "output_type": "display_data"
    }
   ],
   "source": [
    "train_df = pd.read_csv(DATA_ROOT_FOLDER + \"to_upload/train_dataset.csv\")\n",
    "primary_information(train_df)"
   ]
  },
  {
   "cell_type": "code",
   "execution_count": 19,
   "id": "79250670",
   "metadata": {
    "cellId": "exl6m83oldxqlu1vq1s6",
    "id": "79250670"
   },
   "outputs": [
    {
     "name": "stdout",
     "output_type": "stream",
     "text": [
      "<class 'pandas.core.frame.DataFrame'>\n",
      "RangeIndex: 47830 entries, 0 to 47829\n",
      "Data columns (total 5 columns):\n",
      " #   Column                Non-Null Count  Dtype  \n",
      "---  ------                --------------  -----  \n",
      " 0   filename              47830 non-null  object \n",
      " 1   description_id        47830 non-null  object \n",
      " 2   confirmed_percentage  47830 non-null  float64\n",
      " 3   confirmed_qty         47830 non-null  int64  \n",
      " 4   disconfirmed_qty      47830 non-null  int64  \n",
      "dtypes: float64(1), int64(2), object(2)\n",
      "memory usage: 1.8+ MB\n"
     ]
    },
    {
     "data": {
      "text/plain": [
       "None"
      ]
     },
     "metadata": {},
     "output_type": "display_data"
    },
    {
     "data": {
      "text/html": [
       "<div>\n",
       "<style scoped>\n",
       "    .dataframe tbody tr th:only-of-type {\n",
       "        vertical-align: middle;\n",
       "    }\n",
       "\n",
       "    .dataframe tbody tr th {\n",
       "        vertical-align: top;\n",
       "    }\n",
       "\n",
       "    .dataframe thead th {\n",
       "        text-align: right;\n",
       "    }\n",
       "</style>\n",
       "<table border=\"1\" class=\"dataframe\">\n",
       "  <thead>\n",
       "    <tr style=\"text-align: right;\">\n",
       "      <th></th>\n",
       "      <th>filename</th>\n",
       "      <th>description_id</th>\n",
       "      <th>confirmed_percentage</th>\n",
       "      <th>confirmed_qty</th>\n",
       "      <th>disconfirmed_qty</th>\n",
       "    </tr>\n",
       "  </thead>\n",
       "  <tbody>\n",
       "    <tr>\n",
       "      <th>0</th>\n",
       "      <td>1056338697_4f7d7ce270.jpg</td>\n",
       "      <td>1056338697_4f7d7ce270.jpg#2</td>\n",
       "      <td>1.0</td>\n",
       "      <td>3</td>\n",
       "      <td>0</td>\n",
       "    </tr>\n",
       "    <tr>\n",
       "      <th>1</th>\n",
       "      <td>1056338697_4f7d7ce270.jpg</td>\n",
       "      <td>114051287_dd85625a04.jpg#2</td>\n",
       "      <td>0.0</td>\n",
       "      <td>0</td>\n",
       "      <td>3</td>\n",
       "    </tr>\n",
       "    <tr>\n",
       "      <th>2</th>\n",
       "      <td>1056338697_4f7d7ce270.jpg</td>\n",
       "      <td>1427391496_ea512cbe7f.jpg#2</td>\n",
       "      <td>0.0</td>\n",
       "      <td>0</td>\n",
       "      <td>3</td>\n",
       "    </tr>\n",
       "    <tr>\n",
       "      <th>3</th>\n",
       "      <td>1056338697_4f7d7ce270.jpg</td>\n",
       "      <td>2073964624_52da3a0fc4.jpg#2</td>\n",
       "      <td>0.0</td>\n",
       "      <td>0</td>\n",
       "      <td>3</td>\n",
       "    </tr>\n",
       "    <tr>\n",
       "      <th>4</th>\n",
       "      <td>1056338697_4f7d7ce270.jpg</td>\n",
       "      <td>2083434441_a93bc6306b.jpg#2</td>\n",
       "      <td>0.0</td>\n",
       "      <td>0</td>\n",
       "      <td>3</td>\n",
       "    </tr>\n",
       "  </tbody>\n",
       "</table>\n",
       "</div>"
      ],
      "text/plain": [
       "                    filename               description_id  \\\n",
       "0  1056338697_4f7d7ce270.jpg  1056338697_4f7d7ce270.jpg#2   \n",
       "1  1056338697_4f7d7ce270.jpg   114051287_dd85625a04.jpg#2   \n",
       "2  1056338697_4f7d7ce270.jpg  1427391496_ea512cbe7f.jpg#2   \n",
       "3  1056338697_4f7d7ce270.jpg  2073964624_52da3a0fc4.jpg#2   \n",
       "4  1056338697_4f7d7ce270.jpg  2083434441_a93bc6306b.jpg#2   \n",
       "\n",
       "   confirmed_percentage  confirmed_qty  disconfirmed_qty  \n",
       "0                   1.0              3                 0  \n",
       "1                   0.0              0                 3  \n",
       "2                   0.0              0                 3  \n",
       "3                   0.0              0                 3  \n",
       "4                   0.0              0                 3  "
      ]
     },
     "metadata": {},
     "output_type": "display_data"
    }
   ],
   "source": [
    "crowd_df = pd.read_csv(DATA_ROOT_FOLDER + \"CrowdAnnotations.tsv\", sep=\"\\t\", names=[\n",
    "    \"filename\", \"description_id\", \"confirmed_percentage\", \"confirmed_qty\", \"disconfirmed_qty\"\n",
    "])\n",
    "primary_information(crowd_df)"
   ]
  },
  {
   "cell_type": "markdown",
   "id": "3b5136f1-37ba-41e9-81a8-c7a0e356eee7",
   "metadata": {},
   "source": [
    "Файл с краудсорсинговыми оценками содержит 47830 строк, пропущенных значений нет"
   ]
  },
  {
   "cell_type": "code",
   "execution_count": 21,
   "id": "900a0503-85a4-49a9-b815-a85157408cc8",
   "metadata": {},
   "outputs": [
    {
     "name": "stdout",
     "output_type": "stream",
     "text": [
      "<class 'pandas.core.frame.DataFrame'>\n",
      "RangeIndex: 5822 entries, 0 to 5821\n",
      "Data columns (total 5 columns):\n",
      " #   Column          Non-Null Count  Dtype \n",
      "---  ------          --------------  ----- \n",
      " 0   filename        5822 non-null   object\n",
      " 1   description_id  5822 non-null   object\n",
      " 2   exp1            5822 non-null   int64 \n",
      " 3   exp2            5822 non-null   int64 \n",
      " 4   exp3            5822 non-null   int64 \n",
      "dtypes: int64(3), object(2)\n",
      "memory usage: 227.6+ KB\n"
     ]
    },
    {
     "data": {
      "text/plain": [
       "None"
      ]
     },
     "metadata": {},
     "output_type": "display_data"
    },
    {
     "data": {
      "text/html": [
       "<div>\n",
       "<style scoped>\n",
       "    .dataframe tbody tr th:only-of-type {\n",
       "        vertical-align: middle;\n",
       "    }\n",
       "\n",
       "    .dataframe tbody tr th {\n",
       "        vertical-align: top;\n",
       "    }\n",
       "\n",
       "    .dataframe thead th {\n",
       "        text-align: right;\n",
       "    }\n",
       "</style>\n",
       "<table border=\"1\" class=\"dataframe\">\n",
       "  <thead>\n",
       "    <tr style=\"text-align: right;\">\n",
       "      <th></th>\n",
       "      <th>filename</th>\n",
       "      <th>description_id</th>\n",
       "      <th>exp1</th>\n",
       "      <th>exp2</th>\n",
       "      <th>exp3</th>\n",
       "    </tr>\n",
       "  </thead>\n",
       "  <tbody>\n",
       "    <tr>\n",
       "      <th>0</th>\n",
       "      <td>1056338697_4f7d7ce270.jpg</td>\n",
       "      <td>2549968784_39bfbe44f9.jpg#2</td>\n",
       "      <td>1</td>\n",
       "      <td>1</td>\n",
       "      <td>1</td>\n",
       "    </tr>\n",
       "    <tr>\n",
       "      <th>1</th>\n",
       "      <td>1056338697_4f7d7ce270.jpg</td>\n",
       "      <td>2718495608_d8533e3ac5.jpg#2</td>\n",
       "      <td>1</td>\n",
       "      <td>1</td>\n",
       "      <td>2</td>\n",
       "    </tr>\n",
       "    <tr>\n",
       "      <th>2</th>\n",
       "      <td>1056338697_4f7d7ce270.jpg</td>\n",
       "      <td>3181701312_70a379ab6e.jpg#2</td>\n",
       "      <td>1</td>\n",
       "      <td>1</td>\n",
       "      <td>2</td>\n",
       "    </tr>\n",
       "    <tr>\n",
       "      <th>3</th>\n",
       "      <td>1056338697_4f7d7ce270.jpg</td>\n",
       "      <td>3207358897_bfa61fa3c6.jpg#2</td>\n",
       "      <td>1</td>\n",
       "      <td>2</td>\n",
       "      <td>2</td>\n",
       "    </tr>\n",
       "    <tr>\n",
       "      <th>4</th>\n",
       "      <td>1056338697_4f7d7ce270.jpg</td>\n",
       "      <td>3286822339_5535af6b93.jpg#2</td>\n",
       "      <td>1</td>\n",
       "      <td>1</td>\n",
       "      <td>2</td>\n",
       "    </tr>\n",
       "  </tbody>\n",
       "</table>\n",
       "</div>"
      ],
      "text/plain": [
       "                    filename               description_id  exp1  exp2  exp3\n",
       "0  1056338697_4f7d7ce270.jpg  2549968784_39bfbe44f9.jpg#2     1     1     1\n",
       "1  1056338697_4f7d7ce270.jpg  2718495608_d8533e3ac5.jpg#2     1     1     2\n",
       "2  1056338697_4f7d7ce270.jpg  3181701312_70a379ab6e.jpg#2     1     1     2\n",
       "3  1056338697_4f7d7ce270.jpg  3207358897_bfa61fa3c6.jpg#2     1     2     2\n",
       "4  1056338697_4f7d7ce270.jpg  3286822339_5535af6b93.jpg#2     1     1     2"
      ]
     },
     "metadata": {},
     "output_type": "display_data"
    }
   ],
   "source": [
    "expert_df = pd.read_csv(DATA_ROOT_FOLDER + \"ExpertAnnotations.tsv\", sep=\"\\t\", names=[\n",
    "    \"filename\", \"description_id\", \"exp1\", \"exp2\", \"exp3\"\n",
    "])\n",
    "primary_information(expert_df)"
   ]
  },
  {
   "cell_type": "markdown",
   "id": "6aec0ec5-b6c4-4ccc-a9c8-5c1f3d56582a",
   "metadata": {},
   "source": [
    "Файл с экспертными оценками содержит 5822 строки, пропущенных значений нет"
   ]
  },
  {
   "cell_type": "code",
   "execution_count": 23,
   "id": "6b444fb7-2716-4ad4-8a74-603edfc47dd0",
   "metadata": {},
   "outputs": [
    {
     "name": "stdout",
     "output_type": "stream",
     "text": [
      "<class 'pandas.core.frame.DataFrame'>\n",
      "RangeIndex: 5822 entries, 0 to 5821\n",
      "Data columns (total 8 columns):\n",
      " #   Column                Non-Null Count  Dtype  \n",
      "---  ------                --------------  -----  \n",
      " 0   filename              5822 non-null   object \n",
      " 1   description_id        5822 non-null   object \n",
      " 2   exp1                  5822 non-null   int64  \n",
      " 3   exp2                  5822 non-null   int64  \n",
      " 4   exp3                  5822 non-null   int64  \n",
      " 5   confirmed_percentage  2329 non-null   float64\n",
      " 6   confirmed_qty         2329 non-null   float64\n",
      " 7   disconfirmed_qty      2329 non-null   float64\n",
      "dtypes: float64(3), int64(3), object(2)\n",
      "memory usage: 364.0+ KB\n"
     ]
    },
    {
     "data": {
      "text/plain": [
       "None"
      ]
     },
     "metadata": {},
     "output_type": "display_data"
    },
    {
     "data": {
      "text/html": [
       "<div>\n",
       "<style scoped>\n",
       "    .dataframe tbody tr th:only-of-type {\n",
       "        vertical-align: middle;\n",
       "    }\n",
       "\n",
       "    .dataframe tbody tr th {\n",
       "        vertical-align: top;\n",
       "    }\n",
       "\n",
       "    .dataframe thead th {\n",
       "        text-align: right;\n",
       "    }\n",
       "</style>\n",
       "<table border=\"1\" class=\"dataframe\">\n",
       "  <thead>\n",
       "    <tr style=\"text-align: right;\">\n",
       "      <th></th>\n",
       "      <th>filename</th>\n",
       "      <th>description_id</th>\n",
       "      <th>exp1</th>\n",
       "      <th>exp2</th>\n",
       "      <th>exp3</th>\n",
       "      <th>confirmed_percentage</th>\n",
       "      <th>confirmed_qty</th>\n",
       "      <th>disconfirmed_qty</th>\n",
       "    </tr>\n",
       "  </thead>\n",
       "  <tbody>\n",
       "    <tr>\n",
       "      <th>0</th>\n",
       "      <td>1056338697_4f7d7ce270.jpg</td>\n",
       "      <td>2549968784_39bfbe44f9.jpg#2</td>\n",
       "      <td>1</td>\n",
       "      <td>1</td>\n",
       "      <td>1</td>\n",
       "      <td>0.0</td>\n",
       "      <td>0.0</td>\n",
       "      <td>3.0</td>\n",
       "    </tr>\n",
       "    <tr>\n",
       "      <th>1</th>\n",
       "      <td>1056338697_4f7d7ce270.jpg</td>\n",
       "      <td>2718495608_d8533e3ac5.jpg#2</td>\n",
       "      <td>1</td>\n",
       "      <td>1</td>\n",
       "      <td>2</td>\n",
       "      <td>0.0</td>\n",
       "      <td>0.0</td>\n",
       "      <td>3.0</td>\n",
       "    </tr>\n",
       "    <tr>\n",
       "      <th>2</th>\n",
       "      <td>1056338697_4f7d7ce270.jpg</td>\n",
       "      <td>3181701312_70a379ab6e.jpg#2</td>\n",
       "      <td>1</td>\n",
       "      <td>1</td>\n",
       "      <td>2</td>\n",
       "      <td>NaN</td>\n",
       "      <td>NaN</td>\n",
       "      <td>NaN</td>\n",
       "    </tr>\n",
       "    <tr>\n",
       "      <th>3</th>\n",
       "      <td>1056338697_4f7d7ce270.jpg</td>\n",
       "      <td>3207358897_bfa61fa3c6.jpg#2</td>\n",
       "      <td>1</td>\n",
       "      <td>2</td>\n",
       "      <td>2</td>\n",
       "      <td>NaN</td>\n",
       "      <td>NaN</td>\n",
       "      <td>NaN</td>\n",
       "    </tr>\n",
       "    <tr>\n",
       "      <th>4</th>\n",
       "      <td>1056338697_4f7d7ce270.jpg</td>\n",
       "      <td>3286822339_5535af6b93.jpg#2</td>\n",
       "      <td>1</td>\n",
       "      <td>1</td>\n",
       "      <td>2</td>\n",
       "      <td>NaN</td>\n",
       "      <td>NaN</td>\n",
       "      <td>NaN</td>\n",
       "    </tr>\n",
       "  </tbody>\n",
       "</table>\n",
       "</div>"
      ],
      "text/plain": [
       "                    filename               description_id  exp1  exp2  exp3  \\\n",
       "0  1056338697_4f7d7ce270.jpg  2549968784_39bfbe44f9.jpg#2     1     1     1   \n",
       "1  1056338697_4f7d7ce270.jpg  2718495608_d8533e3ac5.jpg#2     1     1     2   \n",
       "2  1056338697_4f7d7ce270.jpg  3181701312_70a379ab6e.jpg#2     1     1     2   \n",
       "3  1056338697_4f7d7ce270.jpg  3207358897_bfa61fa3c6.jpg#2     1     2     2   \n",
       "4  1056338697_4f7d7ce270.jpg  3286822339_5535af6b93.jpg#2     1     1     2   \n",
       "\n",
       "   confirmed_percentage  confirmed_qty  disconfirmed_qty  \n",
       "0                   0.0            0.0               3.0  \n",
       "1                   0.0            0.0               3.0  \n",
       "2                   NaN            NaN               NaN  \n",
       "3                   NaN            NaN               NaN  \n",
       "4                   NaN            NaN               NaN  "
      ]
     },
     "metadata": {},
     "output_type": "display_data"
    }
   ],
   "source": [
    "annotations_df = pd.merge(\n",
    "    left=expert_df,\n",
    "    right=crowd_df,\n",
    "    how='left',\n",
    "    left_on=['filename', 'description_id'],\n",
    "    right_on=['filename', 'description_id'],\n",
    ")\n",
    "primary_information(annotations_df)"
   ]
  },
  {
   "cell_type": "markdown",
   "id": "e140b810",
   "metadata": {},
   "source": [
    "Сделали левое объединение, получили 5822 строки. Если делать внутренние объединение, записей будет очень мало, а если внешние, то придется опираться на краудсорсинговые оценки, которые достаточно низкого качества. Поэтому левое объединение считаю наиболее оптимальным решением."
   ]
  },
  {
   "cell_type": "code",
   "execution_count": 25,
   "id": "ca9d8479",
   "metadata": {},
   "outputs": [],
   "source": [
    "def target_calc(x):\n",
    "    vals = [x['exp1'], x['exp2'], x['exp3']]\n",
    "    diff = abs(sum(vals) - min(vals) - max(vals) - sum(vals) / 3.)\n",
    "    if diff < 0.5:\n",
    "        if math.isnan(x['confirmed_percentage']):\n",
    "            return (sum(vals) / 3. - 1) / 3.\n",
    "        else:\n",
    "            return x['confirmed_percentage'] * 0.4 + (sum(vals) / 3. - 1) / 3. * 0.6\n",
    "    if x['confirmed_percentage'] in [0, 1]:\n",
    "        return x['confirmed_percentage']\n",
    "    else:\n",
    "        return None"
   ]
  },
  {
   "cell_type": "markdown",
   "id": "77e89542",
   "metadata": {},
   "source": [
    "С помощью функции `target_calc` посчитаем целевой признак, с учетом оценок экспертов и крауда в соотношении 3:2. Если мнения экспертов существенно разошлись, то в качестве таргета возьмем оценку крауда, но только в том случае, если эта оценка единогласная."
   ]
  },
  {
   "cell_type": "code",
   "execution_count": 27,
   "id": "bafa304e",
   "metadata": {},
   "outputs": [],
   "source": [
    "annotations_df['target'] = annotations_df.apply(target_calc, axis=1)"
   ]
  },
  {
   "cell_type": "markdown",
   "id": "5e208580",
   "metadata": {},
   "source": [
    "Посмотрим записи, которым неудалось присвоить таргет:"
   ]
  },
  {
   "cell_type": "code",
   "execution_count": 29,
   "id": "07311d54",
   "metadata": {},
   "outputs": [
    {
     "data": {
      "text/html": [
       "<div>\n",
       "<style scoped>\n",
       "    .dataframe tbody tr th:only-of-type {\n",
       "        vertical-align: middle;\n",
       "    }\n",
       "\n",
       "    .dataframe tbody tr th {\n",
       "        vertical-align: top;\n",
       "    }\n",
       "\n",
       "    .dataframe thead th {\n",
       "        text-align: right;\n",
       "    }\n",
       "</style>\n",
       "<table border=\"1\" class=\"dataframe\">\n",
       "  <thead>\n",
       "    <tr style=\"text-align: right;\">\n",
       "      <th></th>\n",
       "      <th>filename</th>\n",
       "      <th>description_id</th>\n",
       "      <th>exp1</th>\n",
       "      <th>exp2</th>\n",
       "      <th>exp3</th>\n",
       "      <th>confirmed_percentage</th>\n",
       "      <th>confirmed_qty</th>\n",
       "      <th>disconfirmed_qty</th>\n",
       "      <th>target</th>\n",
       "    </tr>\n",
       "  </thead>\n",
       "  <tbody>\n",
       "    <tr>\n",
       "      <th>490</th>\n",
       "      <td>1584315962_5b0b45d02d.jpg</td>\n",
       "      <td>3494394662_3edfd4a34c.jpg#2</td>\n",
       "      <td>1</td>\n",
       "      <td>3</td>\n",
       "      <td>3</td>\n",
       "      <td>NaN</td>\n",
       "      <td>NaN</td>\n",
       "      <td>NaN</td>\n",
       "      <td>NaN</td>\n",
       "    </tr>\n",
       "    <tr>\n",
       "      <th>1405</th>\n",
       "      <td>2445283938_ff477c7952.jpg</td>\n",
       "      <td>3280052365_c4644bf0a5.jpg#2</td>\n",
       "      <td>1</td>\n",
       "      <td>1</td>\n",
       "      <td>3</td>\n",
       "      <td>NaN</td>\n",
       "      <td>NaN</td>\n",
       "      <td>NaN</td>\n",
       "      <td>NaN</td>\n",
       "    </tr>\n",
       "    <tr>\n",
       "      <th>1667</th>\n",
       "      <td>2529116152_4331dabf50.jpg</td>\n",
       "      <td>3187395715_f2940c2b72.jpg#2</td>\n",
       "      <td>1</td>\n",
       "      <td>1</td>\n",
       "      <td>3</td>\n",
       "      <td>NaN</td>\n",
       "      <td>NaN</td>\n",
       "      <td>NaN</td>\n",
       "      <td>NaN</td>\n",
       "    </tr>\n",
       "    <tr>\n",
       "      <th>2122</th>\n",
       "      <td>2735558076_0d7bbc18fc.jpg</td>\n",
       "      <td>1536774449_e16b1b6382.jpg#2</td>\n",
       "      <td>2</td>\n",
       "      <td>4</td>\n",
       "      <td>4</td>\n",
       "      <td>0.333333</td>\n",
       "      <td>1.0</td>\n",
       "      <td>2.0</td>\n",
       "      <td>NaN</td>\n",
       "    </tr>\n",
       "    <tr>\n",
       "      <th>2336</th>\n",
       "      <td>2862004252_53894bb28b.jpg</td>\n",
       "      <td>1267711451_e2a754b4f8.jpg#2</td>\n",
       "      <td>1</td>\n",
       "      <td>3</td>\n",
       "      <td>3</td>\n",
       "      <td>0.333333</td>\n",
       "      <td>1.0</td>\n",
       "      <td>2.0</td>\n",
       "      <td>NaN</td>\n",
       "    </tr>\n",
       "    <tr>\n",
       "      <th>2342</th>\n",
       "      <td>2866254827_9a8f592017.jpg</td>\n",
       "      <td>2533424347_cf2f84872b.jpg#2</td>\n",
       "      <td>1</td>\n",
       "      <td>1</td>\n",
       "      <td>3</td>\n",
       "      <td>NaN</td>\n",
       "      <td>NaN</td>\n",
       "      <td>NaN</td>\n",
       "      <td>NaN</td>\n",
       "    </tr>\n",
       "    <tr>\n",
       "      <th>2628</th>\n",
       "      <td>2945036454_280fa5b29f.jpg</td>\n",
       "      <td>3613800013_5a54968ab0.jpg#2</td>\n",
       "      <td>1</td>\n",
       "      <td>3</td>\n",
       "      <td>3</td>\n",
       "      <td>NaN</td>\n",
       "      <td>NaN</td>\n",
       "      <td>NaN</td>\n",
       "      <td>NaN</td>\n",
       "    </tr>\n",
       "    <tr>\n",
       "      <th>2713</th>\n",
       "      <td>300314926_0b2e4b64f5.jpg</td>\n",
       "      <td>3214885227_2be09e7cfb.jpg#2</td>\n",
       "      <td>1</td>\n",
       "      <td>3</td>\n",
       "      <td>3</td>\n",
       "      <td>NaN</td>\n",
       "      <td>NaN</td>\n",
       "      <td>NaN</td>\n",
       "      <td>NaN</td>\n",
       "    </tr>\n",
       "    <tr>\n",
       "      <th>2755</th>\n",
       "      <td>3015863181_92ff43f4d8.jpg</td>\n",
       "      <td>2861932486_52befd8592.jpg#2</td>\n",
       "      <td>1</td>\n",
       "      <td>1</td>\n",
       "      <td>3</td>\n",
       "      <td>NaN</td>\n",
       "      <td>NaN</td>\n",
       "      <td>NaN</td>\n",
       "      <td>NaN</td>\n",
       "    </tr>\n",
       "    <tr>\n",
       "      <th>3001</th>\n",
       "      <td>3107513635_fe8a21f148.jpg</td>\n",
       "      <td>3213992947_3f3f967a9f.jpg#2</td>\n",
       "      <td>1</td>\n",
       "      <td>3</td>\n",
       "      <td>3</td>\n",
       "      <td>NaN</td>\n",
       "      <td>NaN</td>\n",
       "      <td>NaN</td>\n",
       "      <td>NaN</td>\n",
       "    </tr>\n",
       "    <tr>\n",
       "      <th>3020</th>\n",
       "      <td>3109704348_c6416244ce.jpg</td>\n",
       "      <td>2856080862_95d793fa9d.jpg#2</td>\n",
       "      <td>1</td>\n",
       "      <td>3</td>\n",
       "      <td>3</td>\n",
       "      <td>0.666667</td>\n",
       "      <td>2.0</td>\n",
       "      <td>1.0</td>\n",
       "      <td>NaN</td>\n",
       "    </tr>\n",
       "    <tr>\n",
       "      <th>3357</th>\n",
       "      <td>3214237686_6566b8b52f.jpg</td>\n",
       "      <td>3255482333_5bcee79f7e.jpg#2</td>\n",
       "      <td>1</td>\n",
       "      <td>3</td>\n",
       "      <td>3</td>\n",
       "      <td>NaN</td>\n",
       "      <td>NaN</td>\n",
       "      <td>NaN</td>\n",
       "      <td>NaN</td>\n",
       "    </tr>\n",
       "    <tr>\n",
       "      <th>3534</th>\n",
       "      <td>3245460937_2710a82709.jpg</td>\n",
       "      <td>2470486377_c3a39ccb7b.jpg#2</td>\n",
       "      <td>1</td>\n",
       "      <td>3</td>\n",
       "      <td>3</td>\n",
       "      <td>NaN</td>\n",
       "      <td>NaN</td>\n",
       "      <td>NaN</td>\n",
       "      <td>NaN</td>\n",
       "    </tr>\n",
       "    <tr>\n",
       "      <th>4530</th>\n",
       "      <td>3554634863_5f6f616639.jpg</td>\n",
       "      <td>370713359_7560808550.jpg#2</td>\n",
       "      <td>1</td>\n",
       "      <td>1</td>\n",
       "      <td>3</td>\n",
       "      <td>NaN</td>\n",
       "      <td>NaN</td>\n",
       "      <td>NaN</td>\n",
       "      <td>NaN</td>\n",
       "    </tr>\n",
       "    <tr>\n",
       "      <th>4922</th>\n",
       "      <td>3694093650_547259731e.jpg</td>\n",
       "      <td>1536774449_e16b1b6382.jpg#2</td>\n",
       "      <td>2</td>\n",
       "      <td>4</td>\n",
       "      <td>4</td>\n",
       "      <td>0.666667</td>\n",
       "      <td>2.0</td>\n",
       "      <td>1.0</td>\n",
       "      <td>NaN</td>\n",
       "    </tr>\n",
       "    <tr>\n",
       "      <th>5473</th>\n",
       "      <td>523985664_c866af4850.jpg</td>\n",
       "      <td>1536774449_e16b1b6382.jpg#2</td>\n",
       "      <td>2</td>\n",
       "      <td>2</td>\n",
       "      <td>4</td>\n",
       "      <td>NaN</td>\n",
       "      <td>NaN</td>\n",
       "      <td>NaN</td>\n",
       "      <td>NaN</td>\n",
       "    </tr>\n",
       "    <tr>\n",
       "      <th>5573</th>\n",
       "      <td>542317719_ed4dd95dc2.jpg</td>\n",
       "      <td>542317719_ed4dd95dc2.jpg#2</td>\n",
       "      <td>1</td>\n",
       "      <td>4</td>\n",
       "      <td>4</td>\n",
       "      <td>0.666667</td>\n",
       "      <td>2.0</td>\n",
       "      <td>1.0</td>\n",
       "      <td>NaN</td>\n",
       "    </tr>\n",
       "  </tbody>\n",
       "</table>\n",
       "</div>"
      ],
      "text/plain": [
       "                       filename               description_id  exp1  exp2  \\\n",
       "490   1584315962_5b0b45d02d.jpg  3494394662_3edfd4a34c.jpg#2     1     3   \n",
       "1405  2445283938_ff477c7952.jpg  3280052365_c4644bf0a5.jpg#2     1     1   \n",
       "1667  2529116152_4331dabf50.jpg  3187395715_f2940c2b72.jpg#2     1     1   \n",
       "2122  2735558076_0d7bbc18fc.jpg  1536774449_e16b1b6382.jpg#2     2     4   \n",
       "2336  2862004252_53894bb28b.jpg  1267711451_e2a754b4f8.jpg#2     1     3   \n",
       "2342  2866254827_9a8f592017.jpg  2533424347_cf2f84872b.jpg#2     1     1   \n",
       "2628  2945036454_280fa5b29f.jpg  3613800013_5a54968ab0.jpg#2     1     3   \n",
       "2713   300314926_0b2e4b64f5.jpg  3214885227_2be09e7cfb.jpg#2     1     3   \n",
       "2755  3015863181_92ff43f4d8.jpg  2861932486_52befd8592.jpg#2     1     1   \n",
       "3001  3107513635_fe8a21f148.jpg  3213992947_3f3f967a9f.jpg#2     1     3   \n",
       "3020  3109704348_c6416244ce.jpg  2856080862_95d793fa9d.jpg#2     1     3   \n",
       "3357  3214237686_6566b8b52f.jpg  3255482333_5bcee79f7e.jpg#2     1     3   \n",
       "3534  3245460937_2710a82709.jpg  2470486377_c3a39ccb7b.jpg#2     1     3   \n",
       "4530  3554634863_5f6f616639.jpg   370713359_7560808550.jpg#2     1     1   \n",
       "4922  3694093650_547259731e.jpg  1536774449_e16b1b6382.jpg#2     2     4   \n",
       "5473   523985664_c866af4850.jpg  1536774449_e16b1b6382.jpg#2     2     2   \n",
       "5573   542317719_ed4dd95dc2.jpg   542317719_ed4dd95dc2.jpg#2     1     4   \n",
       "\n",
       "      exp3  confirmed_percentage  confirmed_qty  disconfirmed_qty  target  \n",
       "490      3                   NaN            NaN               NaN     NaN  \n",
       "1405     3                   NaN            NaN               NaN     NaN  \n",
       "1667     3                   NaN            NaN               NaN     NaN  \n",
       "2122     4              0.333333            1.0               2.0     NaN  \n",
       "2336     3              0.333333            1.0               2.0     NaN  \n",
       "2342     3                   NaN            NaN               NaN     NaN  \n",
       "2628     3                   NaN            NaN               NaN     NaN  \n",
       "2713     3                   NaN            NaN               NaN     NaN  \n",
       "2755     3                   NaN            NaN               NaN     NaN  \n",
       "3001     3                   NaN            NaN               NaN     NaN  \n",
       "3020     3              0.666667            2.0               1.0     NaN  \n",
       "3357     3                   NaN            NaN               NaN     NaN  \n",
       "3534     3                   NaN            NaN               NaN     NaN  \n",
       "4530     3                   NaN            NaN               NaN     NaN  \n",
       "4922     4              0.666667            2.0               1.0     NaN  \n",
       "5473     4                   NaN            NaN               NaN     NaN  \n",
       "5573     4              0.666667            2.0               1.0     NaN  "
      ]
     },
     "execution_count": 29,
     "metadata": {},
     "output_type": "execute_result"
    }
   ],
   "source": [
    "annotations_df[annotations_df['target'].isna()]"
   ]
  },
  {
   "cell_type": "markdown",
   "id": "8d143850",
   "metadata": {},
   "source": [
    "Таких записей немного, поэтому можно их удалить"
   ]
  },
  {
   "cell_type": "code",
   "execution_count": 31,
   "id": "9d93c030",
   "metadata": {},
   "outputs": [],
   "source": [
    "annotations_df = annotations_df.dropna(subset=['target']).reset_index()[['filename', 'description_id', 'target']]"
   ]
  },
  {
   "cell_type": "code",
   "execution_count": 32,
   "id": "34dd0e40",
   "metadata": {},
   "outputs": [
    {
     "data": {
      "image/png": "[encoded data removed]",
      "text/plain": [
       "<Figure size 640x480 with 1 Axes>"
      ]
     },
     "metadata": {},
     "output_type": "display_data"
    }
   ],
   "source": [
    "annotations_df['target'].plot(kind='hist', bins=20, title='target')\n",
    "plt.gca().spines[['top', 'right',]].set_visible(False)"
   ]
  },
  {
   "cell_type": "markdown",
   "id": "7cbaa861",
   "metadata": {
    "cellId": "9h91oxwx86d7i8rqt5miv4",
    "execution_id": "4401a0e8-fd2b-479b-9e84-6ffafbcead47",
    "id": "7cbaa861"
   },
   "source": [
    "## 2. Проверка данных\n",
    "\n",
    "В некоторых странах, где работает ваша компания, действуют ограничения по обработке изображений: поисковым сервисам и сервисам, предоставляющим возможность поиска, запрещено без разрешения родителей или законных представителей предоставлять любую информацию, в том числе, но не исключительно тексты, изображения, видео и аудио, содержащие описание, изображение или запись голоса детей. Ребёнком считается любой человек, не достигший 16 лет.\n",
    "\n",
    "В вашем сервисе строго следуют законам стран, в которых работают. Поэтому при попытке посмотреть изображения, запрещённые законодательством, вместо картинок показывается дисклеймер:\n",
    "\n",
    "> This image is unavailable in your country in compliance with local laws\n",
    ">\n",
    "\n",
    "Однако у вас в PoC нет возможности воспользоваться данным функционалом. Поэтому все изображения, которые нарушают данный закон, нужно удалить из обучающей выборки."
   ]
  },
  {
   "cell_type": "code",
   "execution_count": 34,
   "id": "ccec4fbe",
   "metadata": {},
   "outputs": [],
   "source": [
    "disclaimer_stopwords = ['child', 'boy', 'boys', 'girl', 'girls', 'kid', 'kids', 'children', 'baby', 'babies']"
   ]
  },
  {
   "cell_type": "code",
   "execution_count": 35,
   "id": "1048d565",
   "metadata": {},
   "outputs": [
    {
     "name": "stdout",
     "output_type": "stream",
     "text": [
      "Количество записей, попадающих под дисклеймер: 1553\n"
     ]
    }
   ],
   "source": [
    "idx = train_df[train_df['query_text'].str.lower().str.extract(f\"({'|'.join(disclaimer_stopwords)})\").notna()[0]].index\n",
    "print(f\"Количество записей, попадающих под дисклеймер: {len(idx)}\")\n",
    "train_df = train_df.drop(idx).reset_index(drop=True)"
   ]
  },
  {
   "cell_type": "code",
   "execution_count": 36,
   "id": "b352d2cd",
   "metadata": {
    "cellId": "6j23jr8qr9wgyyqkm2puj",
    "id": "b352d2cd"
   },
   "outputs": [
    {
     "name": "stdout",
     "output_type": "stream",
     "text": [
      "<class 'pandas.core.frame.DataFrame'>\n",
      "RangeIndex: 4269 entries, 0 to 4268\n",
      "Data columns (total 3 columns):\n",
      " #   Column      Non-Null Count  Dtype \n",
      "---  ------      --------------  ----- \n",
      " 0   image       4269 non-null   object\n",
      " 1   query_id    4269 non-null   object\n",
      " 2   query_text  4269 non-null   object\n",
      "dtypes: object(3)\n",
      "memory usage: 100.2+ KB\n"
     ]
    },
    {
     "data": {
      "text/plain": [
       "None"
      ]
     },
     "metadata": {},
     "output_type": "display_data"
    },
    {
     "data": {
      "text/html": [
       "<div>\n",
       "<style scoped>\n",
       "    .dataframe tbody tr th:only-of-type {\n",
       "        vertical-align: middle;\n",
       "    }\n",
       "\n",
       "    .dataframe tbody tr th {\n",
       "        vertical-align: top;\n",
       "    }\n",
       "\n",
       "    .dataframe thead th {\n",
       "        text-align: right;\n",
       "    }\n",
       "</style>\n",
       "<table border=\"1\" class=\"dataframe\">\n",
       "  <thead>\n",
       "    <tr style=\"text-align: right;\">\n",
       "      <th></th>\n",
       "      <th>image</th>\n",
       "      <th>query_id</th>\n",
       "      <th>query_text</th>\n",
       "    </tr>\n",
       "  </thead>\n",
       "  <tbody>\n",
       "    <tr>\n",
       "      <th>0</th>\n",
       "      <td>1056338697_4f7d7ce270.jpg</td>\n",
       "      <td>3181701312_70a379ab6e.jpg#2</td>\n",
       "      <td>A man sleeps under a blanket on a city street .</td>\n",
       "    </tr>\n",
       "    <tr>\n",
       "      <th>1</th>\n",
       "      <td>3187395715_f2940c2b72.jpg</td>\n",
       "      <td>3181701312_70a379ab6e.jpg#2</td>\n",
       "      <td>A man sleeps under a blanket on a city street .</td>\n",
       "    </tr>\n",
       "    <tr>\n",
       "      <th>2</th>\n",
       "      <td>463978865_c87c6ca84c.jpg</td>\n",
       "      <td>3181701312_70a379ab6e.jpg#2</td>\n",
       "      <td>A man sleeps under a blanket on a city street .</td>\n",
       "    </tr>\n",
       "    <tr>\n",
       "      <th>3</th>\n",
       "      <td>488590040_35a3e96c89.jpg</td>\n",
       "      <td>3181701312_70a379ab6e.jpg#2</td>\n",
       "      <td>A man sleeps under a blanket on a city street .</td>\n",
       "    </tr>\n",
       "    <tr>\n",
       "      <th>4</th>\n",
       "      <td>534875358_6ea30d3091.jpg</td>\n",
       "      <td>3181701312_70a379ab6e.jpg#2</td>\n",
       "      <td>A man sleeps under a blanket on a city street .</td>\n",
       "    </tr>\n",
       "  </tbody>\n",
       "</table>\n",
       "</div>"
      ],
      "text/plain": [
       "                       image                     query_id  \\\n",
       "0  1056338697_4f7d7ce270.jpg  3181701312_70a379ab6e.jpg#2   \n",
       "1  3187395715_f2940c2b72.jpg  3181701312_70a379ab6e.jpg#2   \n",
       "2   463978865_c87c6ca84c.jpg  3181701312_70a379ab6e.jpg#2   \n",
       "3   488590040_35a3e96c89.jpg  3181701312_70a379ab6e.jpg#2   \n",
       "4   534875358_6ea30d3091.jpg  3181701312_70a379ab6e.jpg#2   \n",
       "\n",
       "                                        query_text  \n",
       "0  A man sleeps under a blanket on a city street .  \n",
       "1  A man sleeps under a blanket on a city street .  \n",
       "2  A man sleeps under a blanket on a city street .  \n",
       "3  A man sleeps under a blanket on a city street .  \n",
       "4  A man sleeps under a blanket on a city street .  "
      ]
     },
     "metadata": {},
     "output_type": "display_data"
    }
   ],
   "source": [
    "primary_information(train_df)"
   ]
  },
  {
   "cell_type": "markdown",
   "id": "1d4ef807",
   "metadata": {
    "cellId": "ggxcvhmhcm9rshysbjoo4n",
    "execution_id": "d7935f99-48c0-42b8-a227-dd2b2d9b70fc",
    "id": "1d4ef807"
   },
   "source": [
    "## 3. Векторизация изображений\n",
    "\n",
    "Перейдём к векторизации изображений.\n",
    "\n",
    "Самый примитивный способ — прочесть изображение и превратить полученную матрицу в вектор. Такой способ нам не подходит: длина векторов может быть сильно разной, так как размеры изображений разные. Поэтому стоит обратиться к свёрточным сетям: они позволяют \"выделить\" главные компоненты изображений. Как это сделать? Нужно выбрать какую-либо архитектуру, например ResNet-18, посмотреть на слои и исключить полносвязные слои, которые отвечают за конечное предсказание. При этом можно загрузить модель данной архитектуры, предварительно натренированную на датасете ImageNet."
   ]
  },
  {
   "cell_type": "code",
   "execution_count": 38,
   "id": "0167b804",
   "metadata": {
    "cellId": "4wiflhqkew9mq1gq5927e",
    "id": "0167b804",
    "scrolled": true
   },
   "outputs": [
    {
     "name": "stderr",
     "output_type": "stream",
     "text": [
      "C:\\Users\\Evgeniy\\anaconda3\\Lib\\site-packages\\torchvision\\models\\_utils.py:208: UserWarning: The parameter 'pretrained' is deprecated since 0.13 and may be removed in the future, please use 'weights' instead.\n",
      "  warnings.warn(\n",
      "C:\\Users\\Evgeniy\\anaconda3\\Lib\\site-packages\\torchvision\\models\\_utils.py:223: UserWarning: Arguments other than a weight enum or `None` for 'weights' are deprecated since 0.13 and may be removed in the future. The current behavior is equivalent to passing `weights=ResNet18_Weights.IMAGENET1K_V1`. You can also use `weights=ResNet18_Weights.DEFAULT` to get the most up-to-date weights.\n",
      "  warnings.warn(msg)\n"
     ]
    }
   ],
   "source": [
    "resnet = models.resnet18(pretrained=True) #загружаем претренированную модель\n",
    "if device == 'cuda':\n",
    "    resnet = resnet.cuda()\n",
    "for param in resnet.parameters():\n",
    "    param.requires_grad_(False)"
   ]
  },
  {
   "cell_type": "code",
   "execution_count": 39,
   "id": "a8cf7fb4-f519-4a97-af82-97a49cef62c8",
   "metadata": {},
   "outputs": [],
   "source": [
    "modules = list(resnet.children())[:-1]\n",
    "resnet = nn.Sequential(*modules) "
   ]
  },
  {
   "cell_type": "code",
   "execution_count": 40,
   "id": "f31fbbee-5dce-4195-9dae-fbd35ba3733f",
   "metadata": {},
   "outputs": [
    {
     "data": {
      "text/plain": [
       "Sequential(\n",
       "  (0): Conv2d(3, 64, kernel_size=(7, 7), stride=(2, 2), padding=(3, 3), bias=False)\n",
       "  (1): BatchNorm2d(64, eps=1e-05, momentum=0.1, affine=True, track_running_stats=True)\n",
       "  (2): ReLU(inplace=True)\n",
       "  (3): MaxPool2d(kernel_size=3, stride=2, padding=1, dilation=1, ceil_mode=False)\n",
       "  (4): Sequential(\n",
       "    (0): BasicBlock(\n",
       "      (conv1): Conv2d(64, 64, kernel_size=(3, 3), stride=(1, 1), padding=(1, 1), bias=False)\n",
       "      (bn1): BatchNorm2d(64, eps=1e-05, momentum=0.1, affine=True, track_running_stats=True)\n",
       "      (relu): ReLU(inplace=True)\n",
       "      (conv2): Conv2d(64, 64, kernel_size=(3, 3), stride=(1, 1), padding=(1, 1), bias=False)\n",
       "      (bn2): BatchNorm2d(64, eps=1e-05, momentum=0.1, affine=True, track_running_stats=True)\n",
       "    )\n",
       "    (1): BasicBlock(\n",
       "      (conv1): Conv2d(64, 64, kernel_size=(3, 3), stride=(1, 1), padding=(1, 1), bias=False)\n",
       "      (bn1): BatchNorm2d(64, eps=1e-05, momentum=0.1, affine=True, track_running_stats=True)\n",
       "      (relu): ReLU(inplace=True)\n",
       "      (conv2): Conv2d(64, 64, kernel_size=(3, 3), stride=(1, 1), padding=(1, 1), bias=False)\n",
       "      (bn2): BatchNorm2d(64, eps=1e-05, momentum=0.1, affine=True, track_running_stats=True)\n",
       "    )\n",
       "  )\n",
       "  (5): Sequential(\n",
       "    (0): BasicBlock(\n",
       "      (conv1): Conv2d(64, 128, kernel_size=(3, 3), stride=(2, 2), padding=(1, 1), bias=False)\n",
       "      (bn1): BatchNorm2d(128, eps=1e-05, momentum=0.1, affine=True, track_running_stats=True)\n",
       "      (relu): ReLU(inplace=True)\n",
       "      (conv2): Conv2d(128, 128, kernel_size=(3, 3), stride=(1, 1), padding=(1, 1), bias=False)\n",
       "      (bn2): BatchNorm2d(128, eps=1e-05, momentum=0.1, affine=True, track_running_stats=True)\n",
       "      (downsample): Sequential(\n",
       "        (0): Conv2d(64, 128, kernel_size=(1, 1), stride=(2, 2), bias=False)\n",
       "        (1): BatchNorm2d(128, eps=1e-05, momentum=0.1, affine=True, track_running_stats=True)\n",
       "      )\n",
       "    )\n",
       "    (1): BasicBlock(\n",
       "      (conv1): Conv2d(128, 128, kernel_size=(3, 3), stride=(1, 1), padding=(1, 1), bias=False)\n",
       "      (bn1): BatchNorm2d(128, eps=1e-05, momentum=0.1, affine=True, track_running_stats=True)\n",
       "      (relu): ReLU(inplace=True)\n",
       "      (conv2): Conv2d(128, 128, kernel_size=(3, 3), stride=(1, 1), padding=(1, 1), bias=False)\n",
       "      (bn2): BatchNorm2d(128, eps=1e-05, momentum=0.1, affine=True, track_running_stats=True)\n",
       "    )\n",
       "  )\n",
       "  (6): Sequential(\n",
       "    (0): BasicBlock(\n",
       "      (conv1): Conv2d(128, 256, kernel_size=(3, 3), stride=(2, 2), padding=(1, 1), bias=False)\n",
       "      (bn1): BatchNorm2d(256, eps=1e-05, momentum=0.1, affine=True, track_running_stats=True)\n",
       "      (relu): ReLU(inplace=True)\n",
       "      (conv2): Conv2d(256, 256, kernel_size=(3, 3), stride=(1, 1), padding=(1, 1), bias=False)\n",
       "      (bn2): BatchNorm2d(256, eps=1e-05, momentum=0.1, affine=True, track_running_stats=True)\n",
       "      (downsample): Sequential(\n",
       "        (0): Conv2d(128, 256, kernel_size=(1, 1), stride=(2, 2), bias=False)\n",
       "        (1): BatchNorm2d(256, eps=1e-05, momentum=0.1, affine=True, track_running_stats=True)\n",
       "      )\n",
       "    )\n",
       "    (1): BasicBlock(\n",
       "      (conv1): Conv2d(256, 256, kernel_size=(3, 3), stride=(1, 1), padding=(1, 1), bias=False)\n",
       "      (bn1): BatchNorm2d(256, eps=1e-05, momentum=0.1, affine=True, track_running_stats=True)\n",
       "      (relu): ReLU(inplace=True)\n",
       "      (conv2): Conv2d(256, 256, kernel_size=(3, 3), stride=(1, 1), padding=(1, 1), bias=False)\n",
       "      (bn2): BatchNorm2d(256, eps=1e-05, momentum=0.1, affine=True, track_running_stats=True)\n",
       "    )\n",
       "  )\n",
       "  (7): Sequential(\n",
       "    (0): BasicBlock(\n",
       "      (conv1): Conv2d(256, 512, kernel_size=(3, 3), stride=(2, 2), padding=(1, 1), bias=False)\n",
       "      (bn1): BatchNorm2d(512, eps=1e-05, momentum=0.1, affine=True, track_running_stats=True)\n",
       "      (relu): ReLU(inplace=True)\n",
       "      (conv2): Conv2d(512, 512, kernel_size=(3, 3), stride=(1, 1), padding=(1, 1), bias=False)\n",
       "      (bn2): BatchNorm2d(512, eps=1e-05, momentum=0.1, affine=True, track_running_stats=True)\n",
       "      (downsample): Sequential(\n",
       "        (0): Conv2d(256, 512, kernel_size=(1, 1), stride=(2, 2), bias=False)\n",
       "        (1): BatchNorm2d(512, eps=1e-05, momentum=0.1, affine=True, track_running_stats=True)\n",
       "      )\n",
       "    )\n",
       "    (1): BasicBlock(\n",
       "      (conv1): Conv2d(512, 512, kernel_size=(3, 3), stride=(1, 1), padding=(1, 1), bias=False)\n",
       "      (bn1): BatchNorm2d(512, eps=1e-05, momentum=0.1, affine=True, track_running_stats=True)\n",
       "      (relu): ReLU(inplace=True)\n",
       "      (conv2): Conv2d(512, 512, kernel_size=(3, 3), stride=(1, 1), padding=(1, 1), bias=False)\n",
       "      (bn2): BatchNorm2d(512, eps=1e-05, momentum=0.1, affine=True, track_running_stats=True)\n",
       "    )\n",
       "  )\n",
       "  (8): AdaptiveAvgPool2d(output_size=(1, 1))\n",
       ")"
      ]
     },
     "execution_count": 40,
     "metadata": {},
     "output_type": "execute_result"
    }
   ],
   "source": [
    "resnet.eval()"
   ]
  },
  {
   "cell_type": "code",
   "execution_count": 41,
   "id": "a9778643-32b8-494e-9785-de9412818874",
   "metadata": {},
   "outputs": [],
   "source": [
    "preprocess = transforms.Compose([\n",
    "    transforms.Resize(256),\n",
    "    transforms.CenterCrop(224),\n",
    "    transforms.ToTensor(),\n",
    "    transforms.Normalize(\n",
    "        mean=[0.485, 0.456, 0.406], \n",
    "        std=[0.229, 0.224, 0.225]\n",
    "    ),\n",
    "])"
   ]
  },
  {
   "cell_type": "code",
   "execution_count": 42,
   "id": "734b5378-3927-4425-b3db-271fb209916e",
   "metadata": {},
   "outputs": [],
   "source": [
    "def create_embeddings(x):\n",
    "    img = Image.open(f\"{TRAIN_IMG_PATH}/{x}\").convert('RGB')\n",
    "    return resnet(preprocess(img).unsqueeze(0).to(device)).flatten()"
   ]
  },
  {
   "cell_type": "code",
   "execution_count": 43,
   "id": "2879b425-a2a8-4b43-a132-96a06c7ca7bd",
   "metadata": {},
   "outputs": [
    {
     "data": {
      "application/vnd.jupyter.widget-view+json": {
       "model_id": "bb26efac28484b30b1b0f2c2d33aace2",
       "version_major": 2,
       "version_minor": 0
      },
      "text/plain": [
       "  0%|          | 0/4269 [00:00<?, ?it/s]"
      ]
     },
     "metadata": {},
     "output_type": "display_data"
    },
    {
     "name": "stdout",
     "output_type": "stream",
     "text": [
      "CPU times: total: 3min 30s\n",
      "Wall time: 53.3 s\n"
     ]
    }
   ],
   "source": [
    "%%time\n",
    "train_df['image_embedding'] = train_df['image'].progress_apply(create_embeddings)"
   ]
  },
  {
   "cell_type": "code",
   "execution_count": 44,
   "id": "8419a460",
   "metadata": {},
   "outputs": [
    {
     "data": {
      "text/plain": [
       "512"
      ]
     },
     "execution_count": 44,
     "metadata": {},
     "output_type": "execute_result"
    }
   ],
   "source": [
    "len(train_df['image_embedding'].iloc[1])"
   ]
  },
  {
   "cell_type": "code",
   "execution_count": 45,
   "id": "c92f50b2",
   "metadata": {},
   "outputs": [
    {
     "data": {
      "text/plain": [
       "tensor([2.7228e-01, 1.6798e+00, 1.7105e-01, 9.2752e-01, 4.9477e-01, 1.0603e-01,\n",
       "        1.3575e+00, 3.7073e-01, 1.4779e+00, 2.1082e-01, 1.1823e+00, 2.6978e-01,\n",
       "        1.0645e+00, 2.7368e-01, 4.1767e-01, 5.8265e-01, 1.4356e-01, 1.7117e+00,\n",
       "        3.1139e-01, 1.5164e+00, 1.0483e-02, 6.3983e-01, 5.0064e-01, 1.7841e+00,\n",
       "        7.9382e-01, 1.7028e+00, 1.2749e+00, 6.2404e-01, 1.9511e+00, 6.8458e-01,\n",
       "        8.3707e-01, 6.8739e-01, 3.8078e-01, 4.8536e-01, 1.1158e-01, 8.0597e-02,\n",
       "        2.4868e-01, 1.9625e-01, 6.1745e-02, 6.4108e-02, 5.6468e-01, 2.2953e-01,\n",
       "        1.2177e+00, 1.7002e+00, 3.1761e-01, 5.8253e-01, 1.4659e+00, 6.1938e-01,\n",
       "        5.4274e-01, 1.4128e-01, 8.3523e-02, 1.3135e+00, 8.4890e-01, 8.4290e-01,\n",
       "        6.3899e-01, 1.0113e+00, 1.1783e+00, 0.0000e+00, 1.1624e+00, 3.5481e-01,\n",
       "        4.7842e-01, 5.4373e-01, 2.3480e+00, 3.3073e-01, 2.7048e+00, 1.6050e+00,\n",
       "        1.0270e+00, 1.4130e+00, 2.8432e-01, 1.0111e+00, 1.8795e-01, 6.1350e-01,\n",
       "        8.7650e-03, 1.5232e-01, 4.0100e-01, 7.6646e-01, 5.8606e-02, 7.5551e-03,\n",
       "        3.9909e-02, 7.4329e-01, 1.9712e+00, 7.5670e-01, 1.6102e+00, 9.3619e-01,\n",
       "        6.3298e-01, 9.4032e-01, 4.6960e-01, 1.2672e-03, 2.3322e+00, 1.6997e+00,\n",
       "        6.3137e-01, 1.6691e+00, 2.0469e-01, 2.1650e-01, 1.3456e+00, 1.7905e-01,\n",
       "        2.0451e+00, 1.5253e+00, 1.2697e+00, 4.0672e-01, 2.1747e-01, 9.6802e-01,\n",
       "        4.5092e-01, 2.8991e-02, 8.4718e-01, 6.0933e-02, 8.1624e-01, 0.0000e+00,\n",
       "        1.0659e+00, 4.4095e-01, 2.3869e+00, 9.5544e-02, 5.2573e-01, 2.5245e-01,\n",
       "        7.0896e-02, 1.8076e+00, 1.0048e+00, 1.0100e+00, 1.2790e+00, 2.8687e-02,\n",
       "        9.4271e-01, 9.0371e-01, 1.5679e+00, 1.6582e+00, 2.4359e-01, 1.4036e+00,\n",
       "        1.0085e+00, 9.4818e-01, 2.9708e+00, 2.4243e-02, 7.6785e-01, 6.0762e-01,\n",
       "        4.8386e-01, 5.5130e-01, 4.6548e-01, 7.1146e-01, 3.2374e-01, 5.8009e-01,\n",
       "        1.4831e+00, 1.8364e+00, 1.7853e+00, 8.4522e-01, 2.8366e+00, 2.3053e+00,\n",
       "        1.1269e+00, 3.1369e-01, 4.4700e-01, 3.7544e+00, 3.6436e-01, 1.4946e+00,\n",
       "        5.6676e-01, 3.4829e-02, 2.6267e+00, 2.0524e-01, 2.0532e-02, 5.2358e-01,\n",
       "        1.1837e-01, 4.3231e-01, 1.1378e+00, 1.4732e+00, 7.6717e-02, 4.8616e-01,\n",
       "        5.3202e-02, 1.3740e-01, 1.5398e-01, 8.4541e-02, 6.1919e-01, 5.3172e-01,\n",
       "        4.8304e-01, 2.5957e-01, 5.1672e-01, 4.6809e-01, 1.2814e+00, 1.5742e-02,\n",
       "        2.6495e+00, 1.8162e+00, 2.1845e+00, 1.5229e+00, 2.4809e+00, 2.3688e+00,\n",
       "        1.6323e+00, 7.0096e-01, 4.0343e+00, 1.3177e+00, 2.2116e+00, 3.5451e-01,\n",
       "        1.0383e+00, 1.6555e-01, 1.2831e+00, 2.2967e+00, 1.1578e+00, 8.1879e-01,\n",
       "        3.5238e-01, 2.5932e-01, 7.8085e-01, 3.3013e-01, 8.9121e-02, 3.2926e+00,\n",
       "        7.7484e-02, 1.4060e+00, 6.5210e-01, 1.2193e-01, 1.1231e+00, 8.2977e-01,\n",
       "        6.0892e-01, 3.3501e-01, 6.1046e-01, 2.2236e-01, 4.8161e+00, 1.2888e+00,\n",
       "        7.1436e-02, 2.2271e+00, 2.9220e-01, 1.0985e+00, 1.0275e+00, 4.6325e-01,\n",
       "        3.6144e+00, 7.5645e-01, 1.3753e+00, 1.7186e+00, 9.9504e-01, 1.0419e+00,\n",
       "        7.2756e-01, 1.9352e-01, 8.4950e-01, 8.3680e-01, 3.5662e+00, 1.5711e-01,\n",
       "        5.7506e-01, 1.0048e+00, 2.8668e+00, 1.7403e-01, 2.0164e+00, 7.6771e-02,\n",
       "        1.3022e-01, 1.5562e-01, 1.5630e+00, 9.3585e-01, 1.7051e-01, 6.3146e-01,\n",
       "        5.9519e-01, 7.6078e-01, 3.6317e-01, 2.7866e-02, 1.7100e-02, 1.1411e+00,\n",
       "        8.1121e-01, 3.4841e-01, 1.1362e+00, 2.1784e+00, 5.7557e-01, 0.0000e+00,\n",
       "        1.4258e-02, 1.7573e-01, 1.5894e+00, 9.4653e-01, 1.1196e+00, 4.8177e-01,\n",
       "        1.5786e+00, 2.5847e+00, 1.4446e+00, 1.2823e-01, 1.8173e+00, 8.0995e-02,\n",
       "        3.1025e-01, 3.5189e-01, 1.0003e+00, 1.1625e-01, 1.8433e+00, 1.8071e+00,\n",
       "        4.3307e-01, 8.3929e-01, 7.4965e-01, 2.5484e+00, 1.4188e+00, 1.8176e+00,\n",
       "        9.4466e-02, 1.1662e+00, 7.1603e-01, 8.2887e-01, 1.2979e+00, 7.3351e-01,\n",
       "        2.9215e-01, 1.8998e-02, 7.0784e-01, 1.8523e+00, 8.8693e-03, 4.7266e-01,\n",
       "        1.8686e+00, 1.2668e+00, 9.6851e-01, 1.7841e+00, 1.1432e+00, 9.5723e-01,\n",
       "        1.3685e+00, 4.0946e-01, 8.1006e-01, 6.9153e-01, 1.1363e+00, 9.7293e-01,\n",
       "        0.0000e+00, 3.2391e-01, 3.2761e-01, 1.6428e-01, 5.4783e+00, 2.0206e-01,\n",
       "        2.2468e-01, 1.1391e-01, 8.0027e-01, 3.7468e-01, 2.0551e-01, 2.3165e+00,\n",
       "        3.0719e+00, 1.2646e-01, 2.3747e-01, 1.1714e+00, 2.8083e+00, 1.9906e-01,\n",
       "        1.0874e+00, 4.4705e-01, 8.3446e-01, 1.2314e+00, 3.7893e-02, 4.1325e-01,\n",
       "        8.3936e-02, 1.7624e-01, 5.5966e-01, 4.8887e-01, 9.3147e-01, 5.7950e-01,\n",
       "        2.9121e+00, 2.5715e-02, 1.5736e-01, 1.4101e+00, 4.0786e-01, 2.7708e-01,\n",
       "        2.1967e+00, 1.0949e-01, 5.0801e-02, 1.3041e+00, 9.5691e-01, 1.9056e+00,\n",
       "        6.8113e-01, 2.5361e-01, 3.7394e+00, 0.0000e+00, 6.7758e-01, 5.7313e-03,\n",
       "        8.8948e-01, 1.8433e+00, 1.0405e+00, 4.3321e-01, 2.0378e+00, 1.7390e-02,\n",
       "        3.1797e-01, 4.1578e-01, 6.1436e-01, 3.1557e-01, 3.8252e-01, 9.6332e-01,\n",
       "        1.6515e-01, 8.6217e-01, 1.0251e-01, 1.7656e+00, 5.3027e-01, 9.1424e-01,\n",
       "        7.8114e-01, 6.0798e-02, 1.6079e+00, 1.0043e+00, 2.4010e-01, 6.3129e-01,\n",
       "        1.0354e+00, 5.6984e-01, 2.7584e+00, 3.5475e+00, 2.6681e-01, 2.6457e+00,\n",
       "        3.9728e-01, 6.4381e-01, 2.7945e-01, 6.5406e-01, 2.4173e+00, 2.4200e+00,\n",
       "        1.1053e+00, 7.5485e-01, 3.2454e-01, 6.8922e-01, 1.5241e-01, 1.5310e+00,\n",
       "        1.5580e-01, 2.0576e+00, 3.8927e-01, 3.1506e-01, 1.7797e-01, 1.2729e-01,\n",
       "        1.8184e-02, 2.6864e-01, 9.7726e-01, 1.0214e+00, 1.4431e-01, 1.7152e-01,\n",
       "        1.9000e+00, 1.6442e+00, 3.0647e+00, 1.6116e-01, 1.6960e+00, 8.4248e-01,\n",
       "        3.3143e-01, 1.0022e+00, 1.2006e+00, 1.8125e+00, 1.1087e+00, 5.2287e-01,\n",
       "        1.9323e+00, 7.2960e-01, 9.8981e-01, 4.4759e-01, 2.8634e-01, 9.8180e-01,\n",
       "        8.5235e-01, 9.4206e-01, 2.5445e+00, 3.6515e-01, 4.6273e-01, 1.1015e+00,\n",
       "        5.7199e-01, 3.1897e-01, 3.1160e-01, 4.1873e-01, 8.8179e-01, 1.2032e+00,\n",
       "        7.5619e-01, 1.6278e+00, 4.2599e-01, 1.6080e+00, 2.6365e-01, 9.2760e-01,\n",
       "        4.2725e-02, 3.8193e-01, 5.2298e-01, 1.3226e+00, 2.7090e-01, 1.2947e+00,\n",
       "        3.8751e-01, 2.8138e-01, 1.4071e+00, 2.8354e-01, 2.6607e-01, 7.5102e-01,\n",
       "        1.1945e+00, 1.1071e+00, 1.9958e-01, 1.4840e+00, 4.0005e-01, 1.4309e+00,\n",
       "        2.0403e+00, 5.5205e-01, 4.2601e-04, 5.0150e-02, 9.4084e-01, 2.0944e+00,\n",
       "        7.2965e-01, 8.7557e-01, 1.5179e+00, 1.2939e+00, 5.9872e-01, 3.1028e-01,\n",
       "        1.2863e+00, 5.0539e-01, 4.2298e-01, 8.3288e-01, 1.7605e+00, 1.4357e+00,\n",
       "        7.6507e-02, 2.1726e+00, 7.5104e-01, 2.7755e-01, 8.7282e-01, 3.6738e-01,\n",
       "        2.1885e-01, 1.5802e+00, 1.5792e-01, 1.1674e+00, 2.4425e-01, 1.9572e+00,\n",
       "        1.0040e+00, 1.4972e+00, 5.6186e-01, 0.0000e+00, 2.6955e-01, 3.6635e+00,\n",
       "        4.1687e-01, 1.0255e+00, 1.0348e+00, 8.8700e-01, 1.6117e-01, 6.3295e-01,\n",
       "        2.9833e-01, 5.0995e-01, 3.7035e-01, 1.1097e+00, 3.8602e-01, 3.0668e-01,\n",
       "        1.8280e-01, 2.3315e-01, 4.8884e-01, 5.1662e-01, 7.7454e-01, 2.1954e+00,\n",
       "        5.3419e-01, 2.7584e+00], device='cuda:0')"
      ]
     },
     "execution_count": 45,
     "metadata": {},
     "output_type": "execute_result"
    }
   ],
   "source": [
    "train_df.sample(1).image_embedding.values[0]"
   ]
  },
  {
   "cell_type": "markdown",
   "id": "aea53bf6",
   "metadata": {
    "cellId": "z8evfugfch8wpstvnxv0t",
    "execution_id": "028ade1d-49fe-4110-8b13-3c1aecdaa142",
    "id": "aea53bf6"
   },
   "source": [
    "## 4. Векторизация текстов\n",
    "\n",
    "Следующий этап — векторизация текстов. Вы можете поэкспериментировать с несколькими способами векторизации текстов:\n",
    "\n",
    "- tf-idf\n",
    "- word2vec\n",
    "- \\*трансформеры (например Bert)\n",
    "\n",
    "\\* — если вы изучали трансформеры в спринте Машинное обучение для текстов.\n"
   ]
  },
  {
   "cell_type": "markdown",
   "id": "9063e9e0",
   "metadata": {},
   "source": [
    "Произведем обработку текста"
   ]
  },
  {
   "cell_type": "code",
   "execution_count": 48,
   "id": "d807dccc",
   "metadata": {},
   "outputs": [],
   "source": [
    "def create_text_embeddings(x):\n",
    "    encoded_val = tokenizer.encode(x, padding='max_length')\n",
    "    if device == 'cuda':\n",
    "        encoded_val = torch.cuda.FloatTensor(encoded_val)\n",
    "    return encoded_val"
   ]
  },
  {
   "cell_type": "code",
   "execution_count": 49,
   "id": "9f29cb5c",
   "metadata": {},
   "outputs": [
    {
     "data": {
      "application/vnd.jupyter.widget-view+json": {
       "model_id": "761e8b171a00472c8a32bf3f1abe8407",
       "version_major": 2,
       "version_minor": 0
      },
      "text/plain": [
       "  0%|          | 0/4269 [00:00<?, ?it/s]"
      ]
     },
     "metadata": {},
     "output_type": "display_data"
    },
    {
     "name": "stderr",
     "output_type": "stream",
     "text": [
      "C:\\Users\\Evgeniy\\AppData\\Local\\Temp\\ipykernel_14976\\638806807.py:4: UserWarning: The torch.cuda.*DtypeTensor constructors are no longer recommended. It's best to use methods such as torch.tensor(data, dtype=*, device='cuda') to create tensors. (Triggered internally at C:\\cb\\pytorch_1000000000000\\work\\torch\\csrc\\tensor\\python_tensor.cpp:80.)\n",
      "  encoded_val = torch.cuda.FloatTensor(encoded_val)\n"
     ]
    },
    {
     "data": {
      "text/html": [
       "<div>\n",
       "<style scoped>\n",
       "    .dataframe tbody tr th:only-of-type {\n",
       "        vertical-align: middle;\n",
       "    }\n",
       "\n",
       "    .dataframe tbody tr th {\n",
       "        vertical-align: top;\n",
       "    }\n",
       "\n",
       "    .dataframe thead th {\n",
       "        text-align: right;\n",
       "    }\n",
       "</style>\n",
       "<table border=\"1\" class=\"dataframe\">\n",
       "  <thead>\n",
       "    <tr style=\"text-align: right;\">\n",
       "      <th></th>\n",
       "      <th>image</th>\n",
       "      <th>query_id</th>\n",
       "      <th>query_text</th>\n",
       "      <th>image_embedding</th>\n",
       "      <th>text_embedding</th>\n",
       "    </tr>\n",
       "  </thead>\n",
       "  <tbody>\n",
       "    <tr>\n",
       "      <th>0</th>\n",
       "      <td>1056338697_4f7d7ce270.jpg</td>\n",
       "      <td>3181701312_70a379ab6e.jpg#2</td>\n",
       "      <td>A man sleeps under a blanket on a city street .</td>\n",
       "      <td>[tensor(0.6939, device='cuda:0'), tensor(3.032...</td>\n",
       "      <td>[tensor(101., device='cuda:0'), tensor(1037., ...</td>\n",
       "    </tr>\n",
       "    <tr>\n",
       "      <th>1</th>\n",
       "      <td>3187395715_f2940c2b72.jpg</td>\n",
       "      <td>3181701312_70a379ab6e.jpg#2</td>\n",
       "      <td>A man sleeps under a blanket on a city street .</td>\n",
       "      <td>[tensor(0.2729, device='cuda:0'), tensor(2.481...</td>\n",
       "      <td>[tensor(101., device='cuda:0'), tensor(1037., ...</td>\n",
       "    </tr>\n",
       "    <tr>\n",
       "      <th>2</th>\n",
       "      <td>463978865_c87c6ca84c.jpg</td>\n",
       "      <td>3181701312_70a379ab6e.jpg#2</td>\n",
       "      <td>A man sleeps under a blanket on a city street .</td>\n",
       "      <td>[tensor(0.9805, device='cuda:0'), tensor(3.829...</td>\n",
       "      <td>[tensor(101., device='cuda:0'), tensor(1037., ...</td>\n",
       "    </tr>\n",
       "    <tr>\n",
       "      <th>3</th>\n",
       "      <td>488590040_35a3e96c89.jpg</td>\n",
       "      <td>3181701312_70a379ab6e.jpg#2</td>\n",
       "      <td>A man sleeps under a blanket on a city street .</td>\n",
       "      <td>[tensor(1.5199, device='cuda:0'), tensor(1.071...</td>\n",
       "      <td>[tensor(101., device='cuda:0'), tensor(1037., ...</td>\n",
       "    </tr>\n",
       "    <tr>\n",
       "      <th>4</th>\n",
       "      <td>534875358_6ea30d3091.jpg</td>\n",
       "      <td>3181701312_70a379ab6e.jpg#2</td>\n",
       "      <td>A man sleeps under a blanket on a city street .</td>\n",
       "      <td>[tensor(0.3415, device='cuda:0'), tensor(3.860...</td>\n",
       "      <td>[tensor(101., device='cuda:0'), tensor(1037., ...</td>\n",
       "    </tr>\n",
       "  </tbody>\n",
       "</table>\n",
       "</div>"
      ],
      "text/plain": [
       "                       image                     query_id  \\\n",
       "0  1056338697_4f7d7ce270.jpg  3181701312_70a379ab6e.jpg#2   \n",
       "1  3187395715_f2940c2b72.jpg  3181701312_70a379ab6e.jpg#2   \n",
       "2   463978865_c87c6ca84c.jpg  3181701312_70a379ab6e.jpg#2   \n",
       "3   488590040_35a3e96c89.jpg  3181701312_70a379ab6e.jpg#2   \n",
       "4   534875358_6ea30d3091.jpg  3181701312_70a379ab6e.jpg#2   \n",
       "\n",
       "                                        query_text  \\\n",
       "0  A man sleeps under a blanket on a city street .   \n",
       "1  A man sleeps under a blanket on a city street .   \n",
       "2  A man sleeps under a blanket on a city street .   \n",
       "3  A man sleeps under a blanket on a city street .   \n",
       "4  A man sleeps under a blanket on a city street .   \n",
       "\n",
       "                                     image_embedding  \\\n",
       "0  [tensor(0.6939, device='cuda:0'), tensor(3.032...   \n",
       "1  [tensor(0.2729, device='cuda:0'), tensor(2.481...   \n",
       "2  [tensor(0.9805, device='cuda:0'), tensor(3.829...   \n",
       "3  [tensor(1.5199, device='cuda:0'), tensor(1.071...   \n",
       "4  [tensor(0.3415, device='cuda:0'), tensor(3.860...   \n",
       "\n",
       "                                      text_embedding  \n",
       "0  [tensor(101., device='cuda:0'), tensor(1037., ...  \n",
       "1  [tensor(101., device='cuda:0'), tensor(1037., ...  \n",
       "2  [tensor(101., device='cuda:0'), tensor(1037., ...  \n",
       "3  [tensor(101., device='cuda:0'), tensor(1037., ...  \n",
       "4  [tensor(101., device='cuda:0'), tensor(1037., ...  "
      ]
     },
     "execution_count": 49,
     "metadata": {},
     "output_type": "execute_result"
    }
   ],
   "source": [
    "tokenizer = BertTokenizer.from_pretrained(\"bert-base-uncased\")\n",
    "train_df['text_embedding'] = train_df.query_text.progress_apply(create_text_embeddings)\n",
    "train_df.head()"
   ]
  },
  {
   "cell_type": "code",
   "execution_count": 50,
   "id": "27d97a6d",
   "metadata": {},
   "outputs": [
    {
     "data": {
      "text/plain": [
       "512"
      ]
     },
     "execution_count": 50,
     "metadata": {},
     "output_type": "execute_result"
    }
   ],
   "source": [
    "len(train_df['text_embedding'].iloc[1])"
   ]
  },
  {
   "cell_type": "code",
   "execution_count": 51,
   "id": "57c430c6",
   "metadata": {
    "scrolled": true
   },
   "outputs": [
    {
     "data": {
      "text/plain": [
       "tensor([ 101., 2158., 1999., 2829., 6598., 2877., 2304., 3586.,  102.,    0.,\n",
       "           0.,    0.,    0.,    0.,    0.,    0.,    0.,    0.,    0.,    0.,\n",
       "           0.,    0.,    0.,    0.,    0.,    0.,    0.,    0.,    0.,    0.,\n",
       "           0.,    0.,    0.,    0.,    0.,    0.,    0.,    0.,    0.,    0.,\n",
       "           0.,    0.,    0.,    0.,    0.,    0.,    0.,    0.,    0.,    0.,\n",
       "           0.,    0.,    0.,    0.,    0.,    0.,    0.,    0.,    0.,    0.,\n",
       "           0.,    0.,    0.,    0.,    0.,    0.,    0.,    0.,    0.,    0.,\n",
       "           0.,    0.,    0.,    0.,    0.,    0.,    0.,    0.,    0.,    0.,\n",
       "           0.,    0.,    0.,    0.,    0.,    0.,    0.,    0.,    0.,    0.,\n",
       "           0.,    0.,    0.,    0.,    0.,    0.,    0.,    0.,    0.,    0.,\n",
       "           0.,    0.,    0.,    0.,    0.,    0.,    0.,    0.,    0.,    0.,\n",
       "           0.,    0.,    0.,    0.,    0.,    0.,    0.,    0.,    0.,    0.,\n",
       "           0.,    0.,    0.,    0.,    0.,    0.,    0.,    0.,    0.,    0.,\n",
       "           0.,    0.,    0.,    0.,    0.,    0.,    0.,    0.,    0.,    0.,\n",
       "           0.,    0.,    0.,    0.,    0.,    0.,    0.,    0.,    0.,    0.,\n",
       "           0.,    0.,    0.,    0.,    0.,    0.,    0.,    0.,    0.,    0.,\n",
       "           0.,    0.,    0.,    0.,    0.,    0.,    0.,    0.,    0.,    0.,\n",
       "           0.,    0.,    0.,    0.,    0.,    0.,    0.,    0.,    0.,    0.,\n",
       "           0.,    0.,    0.,    0.,    0.,    0.,    0.,    0.,    0.,    0.,\n",
       "           0.,    0.,    0.,    0.,    0.,    0.,    0.,    0.,    0.,    0.,\n",
       "           0.,    0.,    0.,    0.,    0.,    0.,    0.,    0.,    0.,    0.,\n",
       "           0.,    0.,    0.,    0.,    0.,    0.,    0.,    0.,    0.,    0.,\n",
       "           0.,    0.,    0.,    0.,    0.,    0.,    0.,    0.,    0.,    0.,\n",
       "           0.,    0.,    0.,    0.,    0.,    0.,    0.,    0.,    0.,    0.,\n",
       "           0.,    0.,    0.,    0.,    0.,    0.,    0.,    0.,    0.,    0.,\n",
       "           0.,    0.,    0.,    0.,    0.,    0.,    0.,    0.,    0.,    0.,\n",
       "           0.,    0.,    0.,    0.,    0.,    0.,    0.,    0.,    0.,    0.,\n",
       "           0.,    0.,    0.,    0.,    0.,    0.,    0.,    0.,    0.,    0.,\n",
       "           0.,    0.,    0.,    0.,    0.,    0.,    0.,    0.,    0.,    0.,\n",
       "           0.,    0.,    0.,    0.,    0.,    0.,    0.,    0.,    0.,    0.,\n",
       "           0.,    0.,    0.,    0.,    0.,    0.,    0.,    0.,    0.,    0.,\n",
       "           0.,    0.,    0.,    0.,    0.,    0.,    0.,    0.,    0.,    0.,\n",
       "           0.,    0.,    0.,    0.,    0.,    0.,    0.,    0.,    0.,    0.,\n",
       "           0.,    0.,    0.,    0.,    0.,    0.,    0.,    0.,    0.,    0.,\n",
       "           0.,    0.,    0.,    0.,    0.,    0.,    0.,    0.,    0.,    0.,\n",
       "           0.,    0.,    0.,    0.,    0.,    0.,    0.,    0.,    0.,    0.,\n",
       "           0.,    0.,    0.,    0.,    0.,    0.,    0.,    0.,    0.,    0.,\n",
       "           0.,    0.,    0.,    0.,    0.,    0.,    0.,    0.,    0.,    0.,\n",
       "           0.,    0.,    0.,    0.,    0.,    0.,    0.,    0.,    0.,    0.,\n",
       "           0.,    0.,    0.,    0.,    0.,    0.,    0.,    0.,    0.,    0.,\n",
       "           0.,    0.,    0.,    0.,    0.,    0.,    0.,    0.,    0.,    0.,\n",
       "           0.,    0.,    0.,    0.,    0.,    0.,    0.,    0.,    0.,    0.,\n",
       "           0.,    0.,    0.,    0.,    0.,    0.,    0.,    0.,    0.,    0.,\n",
       "           0.,    0.,    0.,    0.,    0.,    0.,    0.,    0.,    0.,    0.,\n",
       "           0.,    0.,    0.,    0.,    0.,    0.,    0.,    0.,    0.,    0.,\n",
       "           0.,    0.,    0.,    0.,    0.,    0.,    0.,    0.,    0.,    0.,\n",
       "           0.,    0.,    0.,    0.,    0.,    0.,    0.,    0.,    0.,    0.,\n",
       "           0.,    0.,    0.,    0.,    0.,    0.,    0.,    0.,    0.,    0.,\n",
       "           0.,    0.,    0.,    0.,    0.,    0.,    0.,    0.,    0.,    0.,\n",
       "           0.,    0.,    0.,    0.,    0.,    0.,    0.,    0.,    0.,    0.,\n",
       "           0.,    0.,    0.,    0.,    0.,    0.,    0.,    0.,    0.,    0.,\n",
       "           0.,    0.], device='cuda:0')"
      ]
     },
     "execution_count": 51,
     "metadata": {},
     "output_type": "execute_result"
    }
   ],
   "source": [
    "train_df.sample(1).text_embedding.values[0]"
   ]
  },
  {
   "cell_type": "markdown",
   "id": "760c0ccd",
   "metadata": {
    "cellId": "yci1zcmnsacl720fr75sb",
    "execution_id": "5ecfa9d5-3913-4fb3-a33e-99bab3798577",
    "id": "760c0ccd"
   },
   "source": [
    "## 5. Объединение векторов\n",
    "\n",
    "Подготовьте данные для обучения: объедините векторы изображений и векторы текстов с целевой переменной."
   ]
  },
  {
   "cell_type": "code",
   "execution_count": 53,
   "id": "b747671f",
   "metadata": {
    "cellId": "n64cmotqegij9arvbc7sxf",
    "id": "b747671f"
   },
   "outputs": [],
   "source": [
    "df = pd.merge(\n",
    "    left=train_df, \n",
    "    right=annotations_df,\n",
    "    how='inner',\n",
    "    left_on=['image', 'query_id'],\n",
    "    right_on=['filename', 'description_id'],\n",
    ")[['image', 'image_embedding', 'text_embedding', 'target']]"
   ]
  },
  {
   "cell_type": "code",
   "execution_count": 54,
   "id": "037dc738-202e-4099-a26e-ab9e9de94246",
   "metadata": {},
   "outputs": [
    {
     "data": {
      "text/html": [
       "<div>\n",
       "<style scoped>\n",
       "    .dataframe tbody tr th:only-of-type {\n",
       "        vertical-align: middle;\n",
       "    }\n",
       "\n",
       "    .dataframe tbody tr th {\n",
       "        vertical-align: top;\n",
       "    }\n",
       "\n",
       "    .dataframe thead th {\n",
       "        text-align: right;\n",
       "    }\n",
       "</style>\n",
       "<table border=\"1\" class=\"dataframe\">\n",
       "  <thead>\n",
       "    <tr style=\"text-align: right;\">\n",
       "      <th></th>\n",
       "      <th>image</th>\n",
       "      <th>image_embedding</th>\n",
       "      <th>text_embedding</th>\n",
       "      <th>target</th>\n",
       "    </tr>\n",
       "  </thead>\n",
       "  <tbody>\n",
       "    <tr>\n",
       "      <th>0</th>\n",
       "      <td>1056338697_4f7d7ce270.jpg</td>\n",
       "      <td>[tensor(0.6939, device='cuda:0'), tensor(3.032...</td>\n",
       "      <td>[tensor(101., device='cuda:0'), tensor(1037., ...</td>\n",
       "      <td>0.111111</td>\n",
       "    </tr>\n",
       "    <tr>\n",
       "      <th>1</th>\n",
       "      <td>3187395715_f2940c2b72.jpg</td>\n",
       "      <td>[tensor(0.2729, device='cuda:0'), tensor(2.481...</td>\n",
       "      <td>[tensor(101., device='cuda:0'), tensor(1037., ...</td>\n",
       "      <td>0.222222</td>\n",
       "    </tr>\n",
       "    <tr>\n",
       "      <th>2</th>\n",
       "      <td>463978865_c87c6ca84c.jpg</td>\n",
       "      <td>[tensor(0.9805, device='cuda:0'), tensor(3.829...</td>\n",
       "      <td>[tensor(101., device='cuda:0'), tensor(1037., ...</td>\n",
       "      <td>0.200000</td>\n",
       "    </tr>\n",
       "    <tr>\n",
       "      <th>3</th>\n",
       "      <td>488590040_35a3e96c89.jpg</td>\n",
       "      <td>[tensor(1.5199, device='cuda:0'), tensor(1.071...</td>\n",
       "      <td>[tensor(101., device='cuda:0'), tensor(1037., ...</td>\n",
       "      <td>0.222222</td>\n",
       "    </tr>\n",
       "    <tr>\n",
       "      <th>4</th>\n",
       "      <td>534875358_6ea30d3091.jpg</td>\n",
       "      <td>[tensor(0.3415, device='cuda:0'), tensor(3.860...</td>\n",
       "      <td>[tensor(101., device='cuda:0'), tensor(1037., ...</td>\n",
       "      <td>0.111111</td>\n",
       "    </tr>\n",
       "    <tr>\n",
       "      <th>...</th>\n",
       "      <td>...</td>\n",
       "      <td>...</td>\n",
       "      <td>...</td>\n",
       "      <td>...</td>\n",
       "    </tr>\n",
       "    <tr>\n",
       "      <th>4250</th>\n",
       "      <td>799486353_f665d7b0f0.jpg</td>\n",
       "      <td>[tensor(0.9154, device='cuda:0'), tensor(0.411...</td>\n",
       "      <td>[tensor(101., device='cuda:0'), tensor(1037., ...</td>\n",
       "      <td>0.000000</td>\n",
       "    </tr>\n",
       "    <tr>\n",
       "      <th>4251</th>\n",
       "      <td>799486353_f665d7b0f0.jpg</td>\n",
       "      <td>[tensor(0.9154, device='cuda:0'), tensor(0.411...</td>\n",
       "      <td>[tensor(101., device='cuda:0'), tensor(1037., ...</td>\n",
       "      <td>0.000000</td>\n",
       "    </tr>\n",
       "    <tr>\n",
       "      <th>4252</th>\n",
       "      <td>909808296_23c427022d.jpg</td>\n",
       "      <td>[tensor(1.2750, device='cuda:0'), tensor(0.301...</td>\n",
       "      <td>[tensor(101., device='cuda:0'), tensor(1037., ...</td>\n",
       "      <td>0.333333</td>\n",
       "    </tr>\n",
       "    <tr>\n",
       "      <th>4253</th>\n",
       "      <td>929679367_ff8c7df2ee.jpg</td>\n",
       "      <td>[tensor(0.3788, device='cuda:0'), tensor(1.054...</td>\n",
       "      <td>[tensor(101., device='cuda:0'), tensor(1037., ...</td>\n",
       "      <td>0.333333</td>\n",
       "    </tr>\n",
       "    <tr>\n",
       "      <th>4254</th>\n",
       "      <td>968081289_cdba83ce2e.jpg</td>\n",
       "      <td>[tensor(0.4135, device='cuda:0'), tensor(0.921...</td>\n",
       "      <td>[tensor(101., device='cuda:0'), tensor(1037., ...</td>\n",
       "      <td>0.000000</td>\n",
       "    </tr>\n",
       "  </tbody>\n",
       "</table>\n",
       "<p>4255 rows × 4 columns</p>\n",
       "</div>"
      ],
      "text/plain": [
       "                          image  \\\n",
       "0     1056338697_4f7d7ce270.jpg   \n",
       "1     3187395715_f2940c2b72.jpg   \n",
       "2      463978865_c87c6ca84c.jpg   \n",
       "3      488590040_35a3e96c89.jpg   \n",
       "4      534875358_6ea30d3091.jpg   \n",
       "...                         ...   \n",
       "4250   799486353_f665d7b0f0.jpg   \n",
       "4251   799486353_f665d7b0f0.jpg   \n",
       "4252   909808296_23c427022d.jpg   \n",
       "4253   929679367_ff8c7df2ee.jpg   \n",
       "4254   968081289_cdba83ce2e.jpg   \n",
       "\n",
       "                                        image_embedding  \\\n",
       "0     [tensor(0.6939, device='cuda:0'), tensor(3.032...   \n",
       "1     [tensor(0.2729, device='cuda:0'), tensor(2.481...   \n",
       "2     [tensor(0.9805, device='cuda:0'), tensor(3.829...   \n",
       "3     [tensor(1.5199, device='cuda:0'), tensor(1.071...   \n",
       "4     [tensor(0.3415, device='cuda:0'), tensor(3.860...   \n",
       "...                                                 ...   \n",
       "4250  [tensor(0.9154, device='cuda:0'), tensor(0.411...   \n",
       "4251  [tensor(0.9154, device='cuda:0'), tensor(0.411...   \n",
       "4252  [tensor(1.2750, device='cuda:0'), tensor(0.301...   \n",
       "4253  [tensor(0.3788, device='cuda:0'), tensor(1.054...   \n",
       "4254  [tensor(0.4135, device='cuda:0'), tensor(0.921...   \n",
       "\n",
       "                                         text_embedding    target  \n",
       "0     [tensor(101., device='cuda:0'), tensor(1037., ...  0.111111  \n",
       "1     [tensor(101., device='cuda:0'), tensor(1037., ...  0.222222  \n",
       "2     [tensor(101., device='cuda:0'), tensor(1037., ...  0.200000  \n",
       "3     [tensor(101., device='cuda:0'), tensor(1037., ...  0.222222  \n",
       "4     [tensor(101., device='cuda:0'), tensor(1037., ...  0.111111  \n",
       "...                                                 ...       ...  \n",
       "4250  [tensor(101., device='cuda:0'), tensor(1037., ...  0.000000  \n",
       "4251  [tensor(101., device='cuda:0'), tensor(1037., ...  0.000000  \n",
       "4252  [tensor(101., device='cuda:0'), tensor(1037., ...  0.333333  \n",
       "4253  [tensor(101., device='cuda:0'), tensor(1037., ...  0.333333  \n",
       "4254  [tensor(101., device='cuda:0'), tensor(1037., ...  0.000000  \n",
       "\n",
       "[4255 rows x 4 columns]"
      ]
     },
     "execution_count": 54,
     "metadata": {},
     "output_type": "execute_result"
    }
   ],
   "source": [
    "df"
   ]
  },
  {
   "cell_type": "code",
   "execution_count": 59,
   "id": "4a71d442-2d6e-4af0-ac9c-e6a4c2eb29b4",
   "metadata": {},
   "outputs": [],
   "source": [
    "def concat_tensors(x):\n",
    "    if device == 'cuda':\n",
    "        val = torch.cat((x['image_embedding'], x['text_embedding']), 0).cpu()\n",
    "    else:\n",
    "        val = np.hstack((x['image_embedding'], x['text_embedding']))\n",
    "    return val "
   ]
  },
  {
   "cell_type": "code",
   "execution_count": 61,
   "id": "691c0733",
   "metadata": {},
   "outputs": [],
   "source": [
    "df['embedding'] = df.apply(concat_tensors, axis=1)"
   ]
  },
  {
   "cell_type": "code",
   "execution_count": 63,
   "id": "ad9acce1",
   "metadata": {},
   "outputs": [
    {
     "name": "stdout",
     "output_type": "stream",
     "text": [
      "<class 'pandas.core.frame.DataFrame'>\n",
      "RangeIndex: 4255 entries, 0 to 4254\n",
      "Data columns (total 5 columns):\n",
      " #   Column           Non-Null Count  Dtype  \n",
      "---  ------           --------------  -----  \n",
      " 0   image            4255 non-null   object \n",
      " 1   image_embedding  4255 non-null   object \n",
      " 2   text_embedding   4255 non-null   object \n",
      " 3   target           4255 non-null   float64\n",
      " 4   embedding        4255 non-null   object \n",
      "dtypes: float64(1), object(4)\n",
      "memory usage: 166.3+ KB\n"
     ]
    },
    {
     "data": {
      "text/plain": [
       "None"
      ]
     },
     "metadata": {},
     "output_type": "display_data"
    },
    {
     "data": {
      "text/html": [
       "<div>\n",
       "<style scoped>\n",
       "    .dataframe tbody tr th:only-of-type {\n",
       "        vertical-align: middle;\n",
       "    }\n",
       "\n",
       "    .dataframe tbody tr th {\n",
       "        vertical-align: top;\n",
       "    }\n",
       "\n",
       "    .dataframe thead th {\n",
       "        text-align: right;\n",
       "    }\n",
       "</style>\n",
       "<table border=\"1\" class=\"dataframe\">\n",
       "  <thead>\n",
       "    <tr style=\"text-align: right;\">\n",
       "      <th></th>\n",
       "      <th>image</th>\n",
       "      <th>image_embedding</th>\n",
       "      <th>text_embedding</th>\n",
       "      <th>target</th>\n",
       "      <th>embedding</th>\n",
       "    </tr>\n",
       "  </thead>\n",
       "  <tbody>\n",
       "    <tr>\n",
       "      <th>0</th>\n",
       "      <td>1056338697_4f7d7ce270.jpg</td>\n",
       "      <td>[tensor(0.6939, device='cuda:0'), tensor(3.032...</td>\n",
       "      <td>[tensor(101., device='cuda:0'), tensor(1037., ...</td>\n",
       "      <td>0.111111</td>\n",
       "      <td>[tensor(0.6939), tensor(3.0321), tensor(2.9175...</td>\n",
       "    </tr>\n",
       "    <tr>\n",
       "      <th>1</th>\n",
       "      <td>3187395715_f2940c2b72.jpg</td>\n",
       "      <td>[tensor(0.2729, device='cuda:0'), tensor(2.481...</td>\n",
       "      <td>[tensor(101., device='cuda:0'), tensor(1037., ...</td>\n",
       "      <td>0.222222</td>\n",
       "      <td>[tensor(0.2729), tensor(2.4816), tensor(1.6200...</td>\n",
       "    </tr>\n",
       "    <tr>\n",
       "      <th>2</th>\n",
       "      <td>463978865_c87c6ca84c.jpg</td>\n",
       "      <td>[tensor(0.9805, device='cuda:0'), tensor(3.829...</td>\n",
       "      <td>[tensor(101., device='cuda:0'), tensor(1037., ...</td>\n",
       "      <td>0.200000</td>\n",
       "      <td>[tensor(0.9805), tensor(3.8290), tensor(1.2965...</td>\n",
       "    </tr>\n",
       "    <tr>\n",
       "      <th>3</th>\n",
       "      <td>488590040_35a3e96c89.jpg</td>\n",
       "      <td>[tensor(1.5199, device='cuda:0'), tensor(1.071...</td>\n",
       "      <td>[tensor(101., device='cuda:0'), tensor(1037., ...</td>\n",
       "      <td>0.222222</td>\n",
       "      <td>[tensor(1.5199), tensor(1.0717), tensor(0.1786...</td>\n",
       "    </tr>\n",
       "    <tr>\n",
       "      <th>4</th>\n",
       "      <td>534875358_6ea30d3091.jpg</td>\n",
       "      <td>[tensor(0.3415, device='cuda:0'), tensor(3.860...</td>\n",
       "      <td>[tensor(101., device='cuda:0'), tensor(1037., ...</td>\n",
       "      <td>0.111111</td>\n",
       "      <td>[tensor(0.3415), tensor(3.8600), tensor(1.1731...</td>\n",
       "    </tr>\n",
       "  </tbody>\n",
       "</table>\n",
       "</div>"
      ],
      "text/plain": [
       "                       image  \\\n",
       "0  1056338697_4f7d7ce270.jpg   \n",
       "1  3187395715_f2940c2b72.jpg   \n",
       "2   463978865_c87c6ca84c.jpg   \n",
       "3   488590040_35a3e96c89.jpg   \n",
       "4   534875358_6ea30d3091.jpg   \n",
       "\n",
       "                                     image_embedding  \\\n",
       "0  [tensor(0.6939, device='cuda:0'), tensor(3.032...   \n",
       "1  [tensor(0.2729, device='cuda:0'), tensor(2.481...   \n",
       "2  [tensor(0.9805, device='cuda:0'), tensor(3.829...   \n",
       "3  [tensor(1.5199, device='cuda:0'), tensor(1.071...   \n",
       "4  [tensor(0.3415, device='cuda:0'), tensor(3.860...   \n",
       "\n",
       "                                      text_embedding    target  \\\n",
       "0  [tensor(101., device='cuda:0'), tensor(1037., ...  0.111111   \n",
       "1  [tensor(101., device='cuda:0'), tensor(1037., ...  0.222222   \n",
       "2  [tensor(101., device='cuda:0'), tensor(1037., ...  0.200000   \n",
       "3  [tensor(101., device='cuda:0'), tensor(1037., ...  0.222222   \n",
       "4  [tensor(101., device='cuda:0'), tensor(1037., ...  0.111111   \n",
       "\n",
       "                                           embedding  \n",
       "0  [tensor(0.6939), tensor(3.0321), tensor(2.9175...  \n",
       "1  [tensor(0.2729), tensor(2.4816), tensor(1.6200...  \n",
       "2  [tensor(0.9805), tensor(3.8290), tensor(1.2965...  \n",
       "3  [tensor(1.5199), tensor(1.0717), tensor(0.1786...  \n",
       "4  [tensor(0.3415), tensor(3.8600), tensor(1.1731...  "
      ]
     },
     "metadata": {},
     "output_type": "display_data"
    }
   ],
   "source": [
    "primary_information(df)"
   ]
  },
  {
   "cell_type": "code",
   "execution_count": 65,
   "id": "cc9d56c8",
   "metadata": {},
   "outputs": [
    {
     "data": {
      "text/plain": [
       "torch.Size([1024])"
      ]
     },
     "execution_count": 65,
     "metadata": {},
     "output_type": "execute_result"
    }
   ],
   "source": [
    "df['embedding'].sample(1).values[0].shape"
   ]
  },
  {
   "cell_type": "markdown",
   "id": "60bc5668",
   "metadata": {
    "cellId": "97c9jj3s2zjj62vznivsk",
    "execution_id": "1a2d7233-0c79-479a-be63-5787145e3b48",
    "id": "60bc5668"
   },
   "source": [
    "## 6. Обучение модели предсказания соответствия\n",
    "\n",
    "Для обучения разделите датасет на тренировочную и тестовую выборки. Простое случайное разбиение не подходит: нужно исключить попадание изображения и в обучающую, и в тестовую выборки.\n",
    "Для того чтобы учесть изображения при разбиении, можно воспользоваться классом [GroupShuffleSplit](https://scikit-learn.org/stable/modules/generated/sklearn.model_selection.GroupShuffleSplit.html) из библиотеки sklearn.model_selection.\n",
    "\n",
    "Код ниже разбивает датасет на тренировочную и тестовую выборки в пропорции 7:3 так, что строки с одинаковым значением 'group_column' будут содержаться либо в тестовом, либо в тренировочном датасете.\n",
    "\n",
    "```\n",
    "from sklearn.model_selection import GroupShuffleSplit\n",
    "gss = GroupShuffleSplit(n_splits=1, train_size=.7, random_state=42)\n",
    "train_indices, test_indices = next(gss.split(X=df.drop(columns=['target']), y=df['target'], groups=df['group_column']))\n",
    "train_df, test_df = df.loc[train_indices], df.loc[test_indices]\n",
    "\n",
    "```\n",
    "\n",
    "Какую модель использовать — выберите самостоятельно. Также вам предстоит выбрать метрику качества либо реализовать свою."
   ]
  },
  {
   "cell_type": "code",
   "execution_count": 68,
   "id": "a723a8ad",
   "metadata": {
    "cellId": "v1ntb27jt4z9fazi1y8me",
    "id": "a723a8ad"
   },
   "outputs": [],
   "source": [
    "from sklearn.model_selection import GroupShuffleSplit\n",
    "gss = GroupShuffleSplit(n_splits=1, train_size=.7, random_state=42)\n",
    "train_indices, test_indices = next(gss.split(X=df.drop(columns=['target']), y=df['target'], groups=df['image']))\n",
    "train_df, test_df = df.loc[train_indices], df.loc[test_indices]"
   ]
  },
  {
   "cell_type": "code",
   "execution_count": 70,
   "id": "1f80bea1",
   "metadata": {},
   "outputs": [],
   "source": [
    "X_train = torch.FloatTensor(np.array(train_df['embedding'].values.tolist()))\n",
    "y_train = torch.FloatTensor(np.array(train_df['target'].values.tolist()))\n",
    "X_test = torch.FloatTensor(np.array(test_df['embedding'].values.tolist()))\n",
    "y_test = torch.FloatTensor(np.array(test_df['target'].values.tolist()))"
   ]
  },
  {
   "cell_type": "code",
   "execution_count": 72,
   "id": "114cea33",
   "metadata": {},
   "outputs": [],
   "source": [
    "class Net(nn.Module):\n",
    "    def __init__(self, n_in_neurons, n_hidden_neurons_1, n_hidden_neurons_2, n_out_neurons):\n",
    "        super(Net, self).__init__()\n",
    "        self.fc1 = nn.Linear(n_in_neurons, n_hidden_neurons_1)\n",
    "        self.fc2 = nn.Linear(n_hidden_neurons_1, n_hidden_neurons_2) \n",
    "        self.fc3 = nn.Linear(n_hidden_neurons_2, n_out_neurons) \n",
    "    \n",
    "    def forward(self, x):\n",
    "        out = self.fc1(x)\n",
    "        out = torch.relu(out)\n",
    "        out = self.fc2(out)\n",
    "        out = torch.tanh(out)\n",
    "        out = self.fc3(out)\n",
    "        out = torch.sigmoid(out)        \n",
    "        return out"
   ]
  },
  {
   "cell_type": "code",
   "execution_count": 74,
   "id": "d3a24af8",
   "metadata": {},
   "outputs": [],
   "source": [
    "n_in_neurons = X_train.shape[1]\n",
    "n_hidden_neurons_1 = int(X_train.shape[1]/3*2)\n",
    "n_hidden_neurons_2 = int(X_train.shape[1]/4.0)\n",
    "n_out_neurons = 1 "
   ]
  },
  {
   "cell_type": "code",
   "execution_count": 90,
   "id": "d1887fe5",
   "metadata": {},
   "outputs": [],
   "source": [
    "lr=0.001\n",
    "num_epochs = 500\n",
    "per_epochs = 10"
   ]
  },
  {
   "cell_type": "code",
   "execution_count": 92,
   "id": "9bef6392",
   "metadata": {},
   "outputs": [],
   "source": [
    "def RMSELoss(yhat,y):\n",
    "    return torch.sqrt(torch.mean((yhat-y)**2))"
   ]
  },
  {
   "cell_type": "code",
   "execution_count": 94,
   "id": "701ec3c3",
   "metadata": {},
   "outputs": [
    {
     "name": "stdout",
     "output_type": "stream",
     "text": [
      "Epoch 0/500, RMSE = 0.30970922112464905, best RMSE = 0.30970922112464905\n",
      "Epoch 10/500, RMSE = 0.3107399642467499, best RMSE = 0.30970922112464905\n",
      "Epoch 20/500, RMSE = 0.2940272092819214, best RMSE = 0.2940272092819214\n",
      "Epoch 30/500, RMSE = 0.26374539732933044, best RMSE = 0.26374539732933044\n",
      "Epoch 40/500, RMSE = 0.25378894805908203, best RMSE = 0.25378894805908203\n",
      "Epoch 50/500, RMSE = 0.2515803873538971, best RMSE = 0.2515803873538971\n",
      "Epoch 60/500, RMSE = 0.24999478459358215, best RMSE = 0.24999478459358215\n",
      "Epoch 70/500, RMSE = 0.2497146874666214, best RMSE = 0.2497146874666214\n",
      "Epoch 80/500, RMSE = 0.24900171160697937, best RMSE = 0.24900171160697937\n",
      "Epoch 90/500, RMSE = 0.2489757239818573, best RMSE = 0.2489757239818573\n",
      "Epoch 100/500, RMSE = 0.24949733912944794, best RMSE = 0.2489757239818573\n",
      "Epoch 110/500, RMSE = 0.24973954260349274, best RMSE = 0.2489757239818573\n",
      "Epoch 120/500, RMSE = 0.24947784841060638, best RMSE = 0.2489757239818573\n",
      "Epoch 130/500, RMSE = 0.24987885355949402, best RMSE = 0.2489757239818573\n",
      "Epoch 140/500, RMSE = 0.2498708814382553, best RMSE = 0.2489757239818573\n",
      "Epoch 150/500, RMSE = 0.24940714240074158, best RMSE = 0.2489757239818573\n",
      "Epoch 160/500, RMSE = 0.24921266734600067, best RMSE = 0.2489757239818573\n",
      "Epoch 170/500, RMSE = 0.24872764945030212, best RMSE = 0.24872764945030212\n",
      "Epoch 180/500, RMSE = 0.24934570491313934, best RMSE = 0.24872764945030212\n",
      "Epoch 190/500, RMSE = 0.24907495081424713, best RMSE = 0.24872764945030212\n",
      "Epoch 200/500, RMSE = 0.2490626871585846, best RMSE = 0.24872764945030212\n",
      "Epoch 210/500, RMSE = 0.249421164393425, best RMSE = 0.24872764945030212\n",
      "Epoch 220/500, RMSE = 0.2491956651210785, best RMSE = 0.24872764945030212\n",
      "Epoch 230/500, RMSE = 0.24895228445529938, best RMSE = 0.24872764945030212\n",
      "Epoch 240/500, RMSE = 0.24857035279273987, best RMSE = 0.24857035279273987\n",
      "Epoch 250/500, RMSE = 0.24906277656555176, best RMSE = 0.24857035279273987\n",
      "Epoch 260/500, RMSE = 0.2491622418165207, best RMSE = 0.24857035279273987\n",
      "Epoch 270/500, RMSE = 0.24872373044490814, best RMSE = 0.24857035279273987\n",
      "Epoch 280/500, RMSE = 0.2492976039648056, best RMSE = 0.24857035279273987\n",
      "Epoch 290/500, RMSE = 0.24994848668575287, best RMSE = 0.24857035279273987\n",
      "Epoch 300/500, RMSE = 0.24995626509189606, best RMSE = 0.24857035279273987\n",
      "Epoch 310/500, RMSE = 0.2493283450603485, best RMSE = 0.24857035279273987\n",
      "Epoch 320/500, RMSE = 0.24968083202838898, best RMSE = 0.24857035279273987\n",
      "Epoch 330/500, RMSE = 0.24973444640636444, best RMSE = 0.24857035279273987\n",
      "Epoch 340/500, RMSE = 0.24858202040195465, best RMSE = 0.24857035279273987\n",
      "Epoch 350/500, RMSE = 0.24910254776477814, best RMSE = 0.24857035279273987\n",
      "Epoch 360/500, RMSE = 0.24951449036598206, best RMSE = 0.24857035279273987\n",
      "Epoch 370/500, RMSE = 0.24967245757579803, best RMSE = 0.24857035279273987\n",
      "Epoch 380/500, RMSE = 0.24935701489448547, best RMSE = 0.24857035279273987\n",
      "Epoch 390/500, RMSE = 0.24917437136173248, best RMSE = 0.24857035279273987\n",
      "Epoch 400/500, RMSE = 0.24785764515399933, best RMSE = 0.24785764515399933\n",
      "Epoch 410/500, RMSE = 0.24783648550510406, best RMSE = 0.24783648550510406\n",
      "Epoch 420/500, RMSE = 0.2480073869228363, best RMSE = 0.24783648550510406\n",
      "Epoch 430/500, RMSE = 0.24835975468158722, best RMSE = 0.24783648550510406\n",
      "Epoch 440/500, RMSE = 0.2481357753276825, best RMSE = 0.24783648550510406\n",
      "Epoch 450/500, RMSE = 0.24721378087997437, best RMSE = 0.24721378087997437\n",
      "Epoch 460/500, RMSE = 0.24827821552753448, best RMSE = 0.24721378087997437\n",
      "Epoch 470/500, RMSE = 0.2479359656572342, best RMSE = 0.24721378087997437\n",
      "Epoch 480/500, RMSE = 0.24826622009277344, best RMSE = 0.24721378087997437\n",
      "Epoch 490/500, RMSE = 0.24851477146148682, best RMSE = 0.24721378087997437\n",
      "Epoch 499/500, RMSE = 0.24773648381233215, best RMSE = 0.24721378087997437\n"
     ]
    }
   ],
   "source": [
    "net = Net(n_in_neurons, n_hidden_neurons_1, n_hidden_neurons_2, n_out_neurons)\n",
    "optimizer = torch.optim.Adam(net.parameters(), lr=lr)\n",
    "\n",
    "loss = RMSELoss\n",
    "rmse_min = float('inf')\n",
    "best_params = None\n",
    "\n",
    "for epoch in range(num_epochs):\n",
    "    optimizer.zero_grad()\n",
    "    preds = net.forward(X_train).flatten()\n",
    "    loss_value = loss(preds, y_train)\n",
    "    loss_value.backward()\n",
    "    optimizer.step()\n",
    "\n",
    "    if epoch % per_epochs == 0 or epoch == num_epochs - 1:\n",
    "        net.eval()\n",
    "        test_preds = net.forward(X_test).flatten()\n",
    "        rmse = loss(test_preds, y_test)\n",
    "        if rmse_min > rmse:\n",
    "            rmse_min = rmse\n",
    "            best_params = copy.deepcopy(net.state_dict())\n",
    "        print(f\"Epoch {epoch}/{num_epochs}, RMSE = {rmse}, best RMSE = {rmse_min}\")"
   ]
  },
  {
   "cell_type": "code",
   "execution_count": 96,
   "id": "ae585f69",
   "metadata": {},
   "outputs": [
    {
     "name": "stdout",
     "output_type": "stream",
     "text": [
      "Лучшая метрика: 0.247\n"
     ]
    }
   ],
   "source": [
    "print(f\"Лучшая метрика: {rmse_min:.3f}\")"
   ]
  },
  {
   "cell_type": "code",
   "execution_count": 98,
   "id": "00a50ed8",
   "metadata": {},
   "outputs": [
    {
     "data": {
      "text/plain": [
       "<All keys matched successfully>"
      ]
     },
     "execution_count": 98,
     "metadata": {},
     "output_type": "execute_result"
    }
   ],
   "source": [
    "net.load_state_dict(best_params)"
   ]
  },
  {
   "cell_type": "code",
   "execution_count": 100,
   "id": "44a05e48",
   "metadata": {},
   "outputs": [
    {
     "data": {
      "text/plain": [
       "242.1406382843852"
      ]
     },
     "execution_count": 100,
     "metadata": {},
     "output_type": "execute_result"
    }
   ],
   "source": [
    "sum(test_preds.detach().numpy())"
   ]
  },
  {
   "cell_type": "code",
   "execution_count": 102,
   "id": "dc15e8d6",
   "metadata": {},
   "outputs": [
    {
     "data": {
      "text/plain": [
       "Text(0.5, 0, 'Image')"
      ]
     },
     "execution_count": 102,
     "metadata": {},
     "output_type": "execute_result"
    },
    {
     "data": {
      "image/png": "[encoded data removed]",
      "text/plain": [
       "<Figure size 2000x500 with 1 Axes>"
      ]
     },
     "metadata": {},
     "output_type": "display_data"
    }
   ],
   "source": [
    "test_preds = net.forward(X_test).flatten()\n",
    "y_test_df = pd.DataFrame(y_test.detach().numpy())\n",
    "test_preds_df = pd.DataFrame(test_preds.detach().numpy())\n",
    "res_df = pd.concat([y_test_df, test_preds_df], axis=1)[:50]\n",
    "fig = res_df.plot(kind='bar', figsize=(20, 5))\n",
    "fig.legend(['Значения', 'Предсказания'])\n",
    "fig.set_ylabel('Probability')\n",
    "fig.set_xlabel('Image')"
   ]
  },
  {
   "cell_type": "markdown",
   "id": "2f870d77",
   "metadata": {
    "cellId": "tbnfwg686jpxjdsw7cqbl",
    "execution_id": "5e14c3be-a481-438e-a979-0f4621acea44",
    "id": "2f870d77"
   },
   "source": [
    "## 7. Тестирование модели\n",
    "\n",
    "Настало время протестировать модель. Для этого получите эмбеддинги для всех тестовых изображений из папки `test_images`, выберите случайные 10 запросов из файла `test_queries.csv` и для каждого запроса выведите наиболее релевантное изображение. Сравните визуально качество поиска."
   ]
  },
  {
   "cell_type": "code",
   "execution_count": 108,
   "id": "ea28fafb-8c1b-4c09-b4c7-d97dc7b68ae7",
   "metadata": {},
   "outputs": [
    {
     "name": "stdout",
     "output_type": "stream",
     "text": [
      "<class 'pandas.core.frame.DataFrame'>\n",
      "RangeIndex: 100 entries, 0 to 99\n",
      "Data columns (total 1 columns):\n",
      " #   Column  Non-Null Count  Dtype \n",
      "---  ------  --------------  ----- \n",
      " 0   image   100 non-null    object\n",
      "dtypes: object(1)\n",
      "memory usage: 932.0+ bytes\n"
     ]
    },
    {
     "data": {
      "text/plain": [
       "None"
      ]
     },
     "metadata": {},
     "output_type": "display_data"
    },
    {
     "data": {
      "text/html": [
       "<div>\n",
       "<style scoped>\n",
       "    .dataframe tbody tr th:only-of-type {\n",
       "        vertical-align: middle;\n",
       "    }\n",
       "\n",
       "    .dataframe tbody tr th {\n",
       "        vertical-align: top;\n",
       "    }\n",
       "\n",
       "    .dataframe thead th {\n",
       "        text-align: right;\n",
       "    }\n",
       "</style>\n",
       "<table border=\"1\" class=\"dataframe\">\n",
       "  <thead>\n",
       "    <tr style=\"text-align: right;\">\n",
       "      <th></th>\n",
       "      <th>image</th>\n",
       "    </tr>\n",
       "  </thead>\n",
       "  <tbody>\n",
       "    <tr>\n",
       "      <th>0</th>\n",
       "      <td>3356748019_2251399314.jpg</td>\n",
       "    </tr>\n",
       "    <tr>\n",
       "      <th>1</th>\n",
       "      <td>2887171449_f54a2b9f39.jpg</td>\n",
       "    </tr>\n",
       "    <tr>\n",
       "      <th>2</th>\n",
       "      <td>3089107423_81a24eaf18.jpg</td>\n",
       "    </tr>\n",
       "    <tr>\n",
       "      <th>3</th>\n",
       "      <td>1429546659_44cb09cbe2.jpg</td>\n",
       "    </tr>\n",
       "    <tr>\n",
       "      <th>4</th>\n",
       "      <td>1177994172_10d143cb8d.jpg</td>\n",
       "    </tr>\n",
       "  </tbody>\n",
       "</table>\n",
       "</div>"
      ],
      "text/plain": [
       "                       image\n",
       "0  3356748019_2251399314.jpg\n",
       "1  2887171449_f54a2b9f39.jpg\n",
       "2  3089107423_81a24eaf18.jpg\n",
       "3  1429546659_44cb09cbe2.jpg\n",
       "4  1177994172_10d143cb8d.jpg"
      ]
     },
     "metadata": {},
     "output_type": "display_data"
    }
   ],
   "source": [
    "test_images = pd.read_csv(DATA_ROOT_FOLDER + 'test_images.csv')\n",
    "primary_information(test_images)"
   ]
  },
  {
   "cell_type": "code",
   "execution_count": 110,
   "id": "801e0c32",
   "metadata": {
    "cellId": "q6sn9kh039f4a6xvu66y7",
    "id": "801e0c32"
   },
   "outputs": [
    {
     "name": "stdout",
     "output_type": "stream",
     "text": [
      "<class 'pandas.core.frame.DataFrame'>\n",
      "RangeIndex: 500 entries, 0 to 499\n",
      "Data columns (total 4 columns):\n",
      " #   Column      Non-Null Count  Dtype \n",
      "---  ------      --------------  ----- \n",
      " 0   Unnamed: 0  500 non-null    int64 \n",
      " 1   query_id    500 non-null    object\n",
      " 2   query_text  500 non-null    object\n",
      " 3   image       500 non-null    object\n",
      "dtypes: int64(1), object(3)\n",
      "memory usage: 15.8+ KB\n"
     ]
    },
    {
     "data": {
      "text/plain": [
       "None"
      ]
     },
     "metadata": {},
     "output_type": "display_data"
    },
    {
     "data": {
      "text/html": [
       "<div>\n",
       "<style scoped>\n",
       "    .dataframe tbody tr th:only-of-type {\n",
       "        vertical-align: middle;\n",
       "    }\n",
       "\n",
       "    .dataframe tbody tr th {\n",
       "        vertical-align: top;\n",
       "    }\n",
       "\n",
       "    .dataframe thead th {\n",
       "        text-align: right;\n",
       "    }\n",
       "</style>\n",
       "<table border=\"1\" class=\"dataframe\">\n",
       "  <thead>\n",
       "    <tr style=\"text-align: right;\">\n",
       "      <th></th>\n",
       "      <th>Unnamed: 0</th>\n",
       "      <th>query_id</th>\n",
       "      <th>query_text</th>\n",
       "      <th>image</th>\n",
       "    </tr>\n",
       "  </thead>\n",
       "  <tbody>\n",
       "    <tr>\n",
       "      <th>0</th>\n",
       "      <td>0</td>\n",
       "      <td>1177994172_10d143cb8d.jpg#0</td>\n",
       "      <td>Two blonde boys , one in a camouflage shirt an...</td>\n",
       "      <td>1177994172_10d143cb8d.jpg</td>\n",
       "    </tr>\n",
       "    <tr>\n",
       "      <th>1</th>\n",
       "      <td>1</td>\n",
       "      <td>1177994172_10d143cb8d.jpg#1</td>\n",
       "      <td>Two boys are squirting water guns at each other .</td>\n",
       "      <td>1177994172_10d143cb8d.jpg</td>\n",
       "    </tr>\n",
       "    <tr>\n",
       "      <th>2</th>\n",
       "      <td>2</td>\n",
       "      <td>1177994172_10d143cb8d.jpg#2</td>\n",
       "      <td>Two boys spraying each other with water</td>\n",
       "      <td>1177994172_10d143cb8d.jpg</td>\n",
       "    </tr>\n",
       "    <tr>\n",
       "      <th>3</th>\n",
       "      <td>3</td>\n",
       "      <td>1177994172_10d143cb8d.jpg#3</td>\n",
       "      <td>Two children wearing jeans squirt water at eac...</td>\n",
       "      <td>1177994172_10d143cb8d.jpg</td>\n",
       "    </tr>\n",
       "    <tr>\n",
       "      <th>4</th>\n",
       "      <td>4</td>\n",
       "      <td>1177994172_10d143cb8d.jpg#4</td>\n",
       "      <td>Two young boys are squirting water at each oth...</td>\n",
       "      <td>1177994172_10d143cb8d.jpg</td>\n",
       "    </tr>\n",
       "  </tbody>\n",
       "</table>\n",
       "</div>"
      ],
      "text/plain": [
       "   Unnamed: 0                     query_id  \\\n",
       "0           0  1177994172_10d143cb8d.jpg#0   \n",
       "1           1  1177994172_10d143cb8d.jpg#1   \n",
       "2           2  1177994172_10d143cb8d.jpg#2   \n",
       "3           3  1177994172_10d143cb8d.jpg#3   \n",
       "4           4  1177994172_10d143cb8d.jpg#4   \n",
       "\n",
       "                                          query_text  \\\n",
       "0  Two blonde boys , one in a camouflage shirt an...   \n",
       "1  Two boys are squirting water guns at each other .   \n",
       "2            Two boys spraying each other with water   \n",
       "3  Two children wearing jeans squirt water at eac...   \n",
       "4  Two young boys are squirting water at each oth...   \n",
       "\n",
       "                       image  \n",
       "0  1177994172_10d143cb8d.jpg  \n",
       "1  1177994172_10d143cb8d.jpg  \n",
       "2  1177994172_10d143cb8d.jpg  \n",
       "3  1177994172_10d143cb8d.jpg  \n",
       "4  1177994172_10d143cb8d.jpg  "
      ]
     },
     "metadata": {},
     "output_type": "display_data"
    }
   ],
   "source": [
    "test_queries_df = pd.read_csv(DATA_ROOT_FOLDER + \"test_queries.csv\", sep=\"|\")\n",
    "primary_information(test_queries_df)"
   ]
  },
  {
   "cell_type": "markdown",
   "id": "fab1345a",
   "metadata": {
    "cellId": "dnvdkzzxdpet1yc4m64cx",
    "execution_id": "3e367f6a-97e3-4ed7-9b73-39ed363fd2b7",
    "id": "fab1345a"
   },
   "source": [
    "## 8. Выводы\n",
    "\n",
    "- [x]  Jupyter Notebook открыт\n",
    "- [ ]  Весь код выполняется без ошибок\n",
    "- [ ]  Ячейки с кодом расположены в порядке исполнения\n",
    "- [ ]  Исследовательский анализ данных выполнен\n",
    "- [ ]  Проверены экспертные оценки и краудсорсинговые оценки\n",
    "- [ ]  Из датасета исключены те объекты, которые выходят за рамки юридических ограничений\n",
    "- [ ]  Изображения векторизованы\n",
    "- [ ]  Текстовые запросы векторизованы\n",
    "- [ ]  Данные корректно разбиты на тренировочную и тестовую выборки\n",
    "- [ ]  Предложена метрика качества работы модели\n",
    "- [ ]  Предложена модель схожести изображений и текстового запроса\n",
    "- [ ]  Модель обучена\n",
    "- [ ]  По итогам обучения модели сделаны выводы\n",
    "- [ ]  Проведено тестирование работы модели\n",
    "- [ ]  По итогам тестирования визуально сравнили качество поиска"
   ]
  },
  {
   "cell_type": "code",
   "execution_count": null,
   "id": "952cb0ba-aa1d-452e-ae2a-cba02bfa4ef5",
   "metadata": {},
   "outputs": [],
   "source": []
  }
 ],
 "metadata": {
  "celltoolbar": "Отсутствует",
  "colab": {
   "provenance": []
  },
  "kernelspec": {
   "display_name": "Python [conda env:base] *",
   "language": "python",
   "name": "conda-base-py"
  },
  "language_info": {
   "codemirror_mode": {
    "name": "ipython",
    "version": 3
   },
   "file_extension": ".py",
   "mimetype": "text/x-python",
   "name": "python",
   "nbconvert_exporter": "python",
   "pygments_lexer": "ipython3",
   "version": "3.12.7"
  },
  "notebookId": "e47b60f7-b2b4-44ee-beb3-b44a93eaf068",
  "notebookPath": "precode.ipynb",
  "toc": {
   "base_numbering": 1,
   "nav_menu": {},
   "number_sections": true,
   "sideBar": true,
   "skip_h1_title": true,
   "title_cell": "Table of Contents",
   "title_sidebar": "Contents",
   "toc_cell": false,
   "toc_position": {},
   "toc_section_display": true,
   "toc_window_display": false
  }
 },
 "nbformat": 4,
 "nbformat_minor": 5
}
