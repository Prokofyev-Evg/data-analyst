{
 "cells": [
  {
   "cell_type": "markdown",
   "id": "60478f93",
   "metadata": {},
   "source": [
    "# Описание проекта\n",
    "Необходимо создать систему, которая могла бы оценить риск ДТП по выбранному маршруту движения. Под риском понимается вероятность ДТП с любым повреждением транспортного средства. Как только водитель забронировал автомобиль, сел за руль и выбрал маршрут, система должна оценить уровень риска. Если уровень риска высок, водитель увидит предупреждение и рекомендации по маршруту."
   ]
  },
  {
   "cell_type": "markdown",
   "id": "70399b7e",
   "metadata": {},
   "source": [
    "# Схема таблиц"
   ]
  },
  {
   "cell_type": "markdown",
   "id": "ee165d50",
   "metadata": {},
   "source": [
    "![Схема таблиц](https://pictures.s3.yandex.net/resources/PPROD-4019_1725013595.png)"
   ]
  },
  {
   "cell_type": "markdown",
   "id": "5bf46f08",
   "metadata": {},
   "source": [
    "# Краткое описание таблиц\n",
    "- **collisions — общая информация о ДТП**\\\n",
    "Имеет уникальный case_id. Эта таблица описывает общую информацию о ДТП. Например, где оно произошло и когда.\n",
    "\n",
    "- **parties — информация об участниках ДТП**\\\n",
    "Имеет неуникальный case_id, который сопоставляется с соответствующим ДТП в таблице collisions. Каждая строка здесь описывает одну из сторон, участвующих в ДТП. Если столкнулись две машины, в этой таблице должно быть две строки с совпадением case_id. Если нужен уникальный идентификатор, это case_id and party_number.\n",
    "\n",
    "- **vehicles — информация о пострадавших машинах**\\\n",
    "Имеет неуникальные case_id и неуникальные party_number, которые сопоставляются с таблицей collisions и таблицей parties. Если нужен уникальный идентификатор, это case_id and party_number."
   ]
  },
  {
   "cell_type": "code",
   "execution_count": 1,
   "id": "766564d1",
   "metadata": {},
   "outputs": [
    {
     "name": "stdout",
     "output_type": "stream",
     "text": [
      "Requirement already satisfied: sqlalchemy in /home/iuser24/anaconda3/lib/python3.8/site-packages (1.4.15)\n",
      "Requirement already satisfied: greenlet!=0.4.17 in /home/iuser24/anaconda3/lib/python3.8/site-packages (from sqlalchemy) (1.0.0)\n",
      "Requirement already satisfied: phik in /home/iuser24/anaconda3/lib/python3.8/site-packages (0.12.4)\n",
      "Requirement already satisfied: joblib>=0.14.1 in /home/iuser24/anaconda3/lib/python3.8/site-packages (from phik) (1.4.2)\n",
      "Requirement already satisfied: matplotlib>=2.2.3 in /home/iuser24/anaconda3/lib/python3.8/site-packages (from phik) (3.7.5)\n",
      "Requirement already satisfied: numpy>=1.18.0 in /home/iuser24/anaconda3/lib/python3.8/site-packages (from phik) (1.24.4)\n",
      "Requirement already satisfied: pandas>=0.25.1 in /home/iuser24/anaconda3/lib/python3.8/site-packages (from phik) (1.2.4)\n",
      "Requirement already satisfied: scipy>=1.5.2 in /home/iuser24/anaconda3/lib/python3.8/site-packages (from phik) (1.10.1)\n",
      "Requirement already satisfied: python-dateutil>=2.7 in /home/iuser24/anaconda3/lib/python3.8/site-packages (from matplotlib>=2.2.3->phik) (2.8.1)\n",
      "Requirement already satisfied: importlib-resources>=3.2.0 in /home/iuser24/anaconda3/lib/python3.8/site-packages (from matplotlib>=2.2.3->phik) (6.4.0)\n",
      "Requirement already satisfied: fonttools>=4.22.0 in /home/iuser24/anaconda3/lib/python3.8/site-packages (from matplotlib>=2.2.3->phik) (4.53.1)\n",
      "Requirement already satisfied: pyparsing>=2.3.1 in /home/iuser24/anaconda3/lib/python3.8/site-packages (from matplotlib>=2.2.3->phik) (2.4.7)\n",
      "Requirement already satisfied: contourpy>=1.0.1 in /home/iuser24/anaconda3/lib/python3.8/site-packages (from matplotlib>=2.2.3->phik) (1.1.1)\n",
      "Requirement already satisfied: packaging>=20.0 in /home/iuser24/anaconda3/lib/python3.8/site-packages (from matplotlib>=2.2.3->phik) (23.2)\n",
      "Requirement already satisfied: cycler>=0.10 in /home/iuser24/anaconda3/lib/python3.8/site-packages (from matplotlib>=2.2.3->phik) (0.10.0)\n",
      "Requirement already satisfied: pillow>=6.2.0 in /home/iuser24/anaconda3/lib/python3.8/site-packages (from matplotlib>=2.2.3->phik) (8.2.0)\n",
      "Requirement already satisfied: kiwisolver>=1.0.1 in /home/iuser24/anaconda3/lib/python3.8/site-packages (from matplotlib>=2.2.3->phik) (1.3.1)\n",
      "Requirement already satisfied: six in /home/iuser24/anaconda3/lib/python3.8/site-packages (from cycler>=0.10->matplotlib>=2.2.3->phik) (1.15.0)\n",
      "Requirement already satisfied: zipp>=3.1.0 in /home/iuser24/anaconda3/lib/python3.8/site-packages (from importlib-resources>=3.2.0->matplotlib>=2.2.3->phik) (3.4.1)\n",
      "Requirement already satisfied: pytz>=2017.3 in /home/iuser24/anaconda3/lib/python3.8/site-packages (from pandas>=0.25.1->phik) (2021.1)\n",
      "Requirement already satisfied: psycopg2-binary in /home/iuser24/anaconda3/lib/python3.8/site-packages (2.9.9)\n"
     ]
    }
   ],
   "source": [
    "!pip install sqlalchemy\n",
    "!pip install phik\n",
    "!pip install psycopg2-binary\n",
    "!pip install shap"
   ]
  },
  {
   "cell_type": "code",
   "execution_count": 2,
   "id": "5ac2efb1",
   "metadata": {},
   "outputs": [],
   "source": [
    "import numpy as np\n",
    "import pandas as pd\n",
    "import matplotlib.pyplot as plt\n",
    "import seaborn as sns\n",
    "from sqlalchemy import create_engine, MetaData\n",
    "from IPython.display import Markdown, display\n",
    "def printmd(string):\n",
    "    display(Markdown(string))\n",
    "\n",
    "from sklearn.model_selection import train_test_split\n",
    "from phik.report import plot_correlation_matrix\n",
    "from phik import report\n",
    "\n",
    "# загружаем класс pipeline\n",
    "from sklearn.pipeline import Pipeline\n",
    "\n",
    "# загружаем классы для подготовки данных\n",
    "from sklearn.preprocessing import (\n",
    "    OneHotEncoder,\n",
    "    OrdinalEncoder, \n",
    "    LabelEncoder, \n",
    "    StandardScaler, \n",
    "    MinMaxScaler, \n",
    "    RobustScaler, \n",
    "    PolynomialFeatures\n",
    ")\n",
    "from sklearn.compose import ColumnTransformer\n",
    "from sklearn.metrics import (\n",
    "    f1_score, \n",
    "    roc_auc_score,\n",
    "    confusion_matrix, \n",
    "    ConfusionMatrixDisplay, \n",
    "    recall_score, \n",
    "    precision_score\n",
    ")\n",
    "\n",
    "# загружаем класс для работы с пропусками\n",
    "from sklearn.impute import SimpleImputer\n",
    "\n",
    "# импортируем класс RandomizedSearchCV\n",
    "from sklearn.model_selection import RandomizedSearchCV, GridSearchCV\n",
    "\n",
    "# загружаем нужные модели\n",
    "from sklearn.linear_model import LogisticRegression\n",
    "from sklearn.neighbors import KNeighborsClassifier\n",
    "from sklearn.tree import DecisionTreeClassifier\n",
    "from sklearn.svm import SVC\n",
    "import lightgbm as lgb"
   ]
  },
  {
   "cell_type": "markdown",
   "id": "6c75aaf7",
   "metadata": {
    "ExecuteTime": {
     "end_time": "2022-05-05T04:58:05.692448Z",
     "start_time": "2022-05-05T04:58:05.688565Z"
    }
   },
   "source": [
    "## Подключитесь к базе. Загрузите таблицы sql"
   ]
  },
  {
   "cell_type": "markdown",
   "id": "eb30740a",
   "metadata": {},
   "source": [
    "Объявим учетные данные для подключения к базе данных"
   ]
  },
  {
   "cell_type": "code",
   "execution_count": 3,
   "id": "8f24dcbd",
   "metadata": {},
   "outputs": [],
   "source": [
    "db_config = {\n",
    "    'user': 'praktikum_student', # имя пользователя,\n",
    "    'pwd': 'Sdf4$2;d-d30pp', # пароль,\n",
    "    'host': 'rc1b-wcoijxj3yxfsf3fs.mdb.yandexcloud.net',\n",
    "    'port': 6432, # порт подключения,\n",
    "    'db': 'data-science-vehicle-db' # название базы данных,\n",
    "} "
   ]
  },
  {
   "cell_type": "code",
   "execution_count": 4,
   "id": "6f24b9bc",
   "metadata": {},
   "outputs": [],
   "source": [
    "connection_string = 'postgresql://{}:{}@{}:{}/{}'.format(\n",
    "    db_config['user'],\n",
    "    db_config['pwd'],\n",
    "    db_config['host'],\n",
    "    db_config['port'],\n",
    "    db_config['db'],\n",
    ")"
   ]
  },
  {
   "cell_type": "code",
   "execution_count": 5,
   "id": "1555ea11",
   "metadata": {},
   "outputs": [],
   "source": [
    "engine = create_engine(connection_string)"
   ]
  },
  {
   "cell_type": "markdown",
   "id": "0d6c7f75",
   "metadata": {},
   "source": [
    "## Проведите первичное исследование таблиц"
   ]
  },
  {
   "cell_type": "code",
   "execution_count": 6,
   "id": "59ea1688",
   "metadata": {},
   "outputs": [],
   "source": [
    "def primary_information(table):\n",
    "    select_10_query = '''\n",
    "    SELECT *\n",
    "    FROM {}\n",
    "    LIMIT 10\n",
    "    '''\n",
    "    count_all_query = '''\n",
    "    SELECT COUNT(*)\n",
    "    FROM {}\n",
    "    '''\n",
    "    printmd(f\"Количество строк: {pd.read_sql_query(count_all_query.format(table), con = engine)['count'][0]}\")\n",
    "    df = pd.read_sql_query(select_10_query.format(table), con = engine)\n",
    "    display(df.info())\n",
    "    display(df.head())"
   ]
  },
  {
   "cell_type": "markdown",
   "id": "820813f4",
   "metadata": {},
   "source": [
    "Получим первичную информацию о таблицах"
   ]
  },
  {
   "cell_type": "code",
   "execution_count": 7,
   "id": "c7201d07",
   "metadata": {
    "scrolled": false
   },
   "outputs": [
    {
     "data": {
      "text/markdown": [
       "**Таблица vehicles**"
      ],
      "text/plain": [
       "<IPython.core.display.Markdown object>"
      ]
     },
     "metadata": {},
     "output_type": "display_data"
    },
    {
     "data": {
      "text/markdown": [
       "Количество строк: 1021234"
      ],
      "text/plain": [
       "<IPython.core.display.Markdown object>"
      ]
     },
     "metadata": {},
     "output_type": "display_data"
    },
    {
     "name": "stdout",
     "output_type": "stream",
     "text": [
      "<class 'pandas.core.frame.DataFrame'>\n",
      "RangeIndex: 10 entries, 0 to 9\n",
      "Data columns (total 6 columns):\n",
      " #   Column                Non-Null Count  Dtype \n",
      "---  ------                --------------  ----- \n",
      " 0   id                    10 non-null     int64 \n",
      " 1   case_id               10 non-null     object\n",
      " 2   party_number          10 non-null     int64 \n",
      " 3   vehicle_type          10 non-null     object\n",
      " 4   vehicle_transmission  10 non-null     object\n",
      " 5   vehicle_age           10 non-null     int64 \n",
      "dtypes: int64(3), object(3)\n",
      "memory usage: 608.0+ bytes\n"
     ]
    },
    {
     "data": {
      "text/plain": [
       "None"
      ]
     },
     "metadata": {},
     "output_type": "display_data"
    },
    {
     "data": {
      "text/html": [
       "<div>\n",
       "<style scoped>\n",
       "    .dataframe tbody tr th:only-of-type {\n",
       "        vertical-align: middle;\n",
       "    }\n",
       "\n",
       "    .dataframe tbody tr th {\n",
       "        vertical-align: top;\n",
       "    }\n",
       "\n",
       "    .dataframe thead th {\n",
       "        text-align: right;\n",
       "    }\n",
       "</style>\n",
       "<table border=\"1\" class=\"dataframe\">\n",
       "  <thead>\n",
       "    <tr style=\"text-align: right;\">\n",
       "      <th></th>\n",
       "      <th>id</th>\n",
       "      <th>case_id</th>\n",
       "      <th>party_number</th>\n",
       "      <th>vehicle_type</th>\n",
       "      <th>vehicle_transmission</th>\n",
       "      <th>vehicle_age</th>\n",
       "    </tr>\n",
       "  </thead>\n",
       "  <tbody>\n",
       "    <tr>\n",
       "      <th>0</th>\n",
       "      <td>1175713</td>\n",
       "      <td>5305032</td>\n",
       "      <td>2</td>\n",
       "      <td>sedan</td>\n",
       "      <td>manual</td>\n",
       "      <td>3</td>\n",
       "    </tr>\n",
       "    <tr>\n",
       "      <th>1</th>\n",
       "      <td>1</td>\n",
       "      <td>3858022</td>\n",
       "      <td>1</td>\n",
       "      <td>sedan</td>\n",
       "      <td>auto</td>\n",
       "      <td>3</td>\n",
       "    </tr>\n",
       "    <tr>\n",
       "      <th>2</th>\n",
       "      <td>1175712</td>\n",
       "      <td>5305030</td>\n",
       "      <td>1</td>\n",
       "      <td>sedan</td>\n",
       "      <td>auto</td>\n",
       "      <td>3</td>\n",
       "    </tr>\n",
       "    <tr>\n",
       "      <th>3</th>\n",
       "      <td>1175717</td>\n",
       "      <td>5305033</td>\n",
       "      <td>3</td>\n",
       "      <td>sedan</td>\n",
       "      <td>auto</td>\n",
       "      <td>5</td>\n",
       "    </tr>\n",
       "    <tr>\n",
       "      <th>4</th>\n",
       "      <td>1175722</td>\n",
       "      <td>5305034</td>\n",
       "      <td>2</td>\n",
       "      <td>sedan</td>\n",
       "      <td>auto</td>\n",
       "      <td>5</td>\n",
       "    </tr>\n",
       "  </tbody>\n",
       "</table>\n",
       "</div>"
      ],
      "text/plain": [
       "        id  case_id  party_number vehicle_type vehicle_transmission  \\\n",
       "0  1175713  5305032             2        sedan               manual   \n",
       "1        1  3858022             1        sedan                 auto   \n",
       "2  1175712  5305030             1        sedan                 auto   \n",
       "3  1175717  5305033             3        sedan                 auto   \n",
       "4  1175722  5305034             2        sedan                 auto   \n",
       "\n",
       "   vehicle_age  \n",
       "0            3  \n",
       "1            3  \n",
       "2            3  \n",
       "3            5  \n",
       "4            5  "
      ]
     },
     "metadata": {},
     "output_type": "display_data"
    },
    {
     "data": {
      "text/markdown": [
       "**Таблица collisions**"
      ],
      "text/plain": [
       "<IPython.core.display.Markdown object>"
      ]
     },
     "metadata": {},
     "output_type": "display_data"
    },
    {
     "data": {
      "text/markdown": [
       "Количество строк: 1400000"
      ],
      "text/plain": [
       "<IPython.core.display.Markdown object>"
      ]
     },
     "metadata": {},
     "output_type": "display_data"
    },
    {
     "name": "stdout",
     "output_type": "stream",
     "text": [
      "<class 'pandas.core.frame.DataFrame'>\n",
      "RangeIndex: 10 entries, 0 to 9\n",
      "Data columns (total 20 columns):\n",
      " #   Column                       Non-Null Count  Dtype  \n",
      "---  ------                       --------------  -----  \n",
      " 0   case_id                      10 non-null     object \n",
      " 1   county_city_location         10 non-null     object \n",
      " 2   county_location              10 non-null     object \n",
      " 3   distance                     10 non-null     float64\n",
      " 4   direction                    4 non-null      object \n",
      " 5   intersection                 10 non-null     int64  \n",
      " 6   weather_1                    10 non-null     object \n",
      " 7   location_type                5 non-null      object \n",
      " 8   collision_damage             10 non-null     object \n",
      " 9   party_count                  10 non-null     int64  \n",
      " 10  primary_collision_factor     10 non-null     object \n",
      " 11  pcf_violation_category       9 non-null      object \n",
      " 12  type_of_collision            10 non-null     object \n",
      " 13  motor_vehicle_involved_with  10 non-null     object \n",
      " 14  road_surface                 10 non-null     object \n",
      " 15  road_condition_1             9 non-null      object \n",
      " 16  lighting                     10 non-null     object \n",
      " 17  control_device               10 non-null     object \n",
      " 18  collision_date               10 non-null     object \n",
      " 19  collision_time               10 non-null     object \n",
      "dtypes: float64(1), int64(2), object(17)\n",
      "memory usage: 1.7+ KB\n"
     ]
    },
    {
     "data": {
      "text/plain": [
       "None"
      ]
     },
     "metadata": {},
     "output_type": "display_data"
    },
    {
     "data": {
      "text/html": [
       "<div>\n",
       "<style scoped>\n",
       "    .dataframe tbody tr th:only-of-type {\n",
       "        vertical-align: middle;\n",
       "    }\n",
       "\n",
       "    .dataframe tbody tr th {\n",
       "        vertical-align: top;\n",
       "    }\n",
       "\n",
       "    .dataframe thead th {\n",
       "        text-align: right;\n",
       "    }\n",
       "</style>\n",
       "<table border=\"1\" class=\"dataframe\">\n",
       "  <thead>\n",
       "    <tr style=\"text-align: right;\">\n",
       "      <th></th>\n",
       "      <th>case_id</th>\n",
       "      <th>county_city_location</th>\n",
       "      <th>county_location</th>\n",
       "      <th>distance</th>\n",
       "      <th>direction</th>\n",
       "      <th>intersection</th>\n",
       "      <th>weather_1</th>\n",
       "      <th>location_type</th>\n",
       "      <th>collision_damage</th>\n",
       "      <th>party_count</th>\n",
       "      <th>primary_collision_factor</th>\n",
       "      <th>pcf_violation_category</th>\n",
       "      <th>type_of_collision</th>\n",
       "      <th>motor_vehicle_involved_with</th>\n",
       "      <th>road_surface</th>\n",
       "      <th>road_condition_1</th>\n",
       "      <th>lighting</th>\n",
       "      <th>control_device</th>\n",
       "      <th>collision_date</th>\n",
       "      <th>collision_time</th>\n",
       "    </tr>\n",
       "  </thead>\n",
       "  <tbody>\n",
       "    <tr>\n",
       "      <th>0</th>\n",
       "      <td>4083072</td>\n",
       "      <td>1942</td>\n",
       "      <td>los angeles</td>\n",
       "      <td>528.0</td>\n",
       "      <td>north</td>\n",
       "      <td>0</td>\n",
       "      <td>cloudy</td>\n",
       "      <td>highway</td>\n",
       "      <td>small damage</td>\n",
       "      <td>2</td>\n",
       "      <td>vehicle code violation</td>\n",
       "      <td>unsafe lane change</td>\n",
       "      <td>sideswipe</td>\n",
       "      <td>other motor vehicle</td>\n",
       "      <td>wet</td>\n",
       "      <td>normal</td>\n",
       "      <td>daylight</td>\n",
       "      <td>none</td>\n",
       "      <td>2009-01-22</td>\n",
       "      <td>07:25:00</td>\n",
       "    </tr>\n",
       "    <tr>\n",
       "      <th>1</th>\n",
       "      <td>4083075</td>\n",
       "      <td>4313</td>\n",
       "      <td>santa clara</td>\n",
       "      <td>0.0</td>\n",
       "      <td>None</td>\n",
       "      <td>1</td>\n",
       "      <td>clear</td>\n",
       "      <td>None</td>\n",
       "      <td>small damage</td>\n",
       "      <td>1</td>\n",
       "      <td>vehicle code violation</td>\n",
       "      <td>improper passing</td>\n",
       "      <td>hit object</td>\n",
       "      <td>fixed object</td>\n",
       "      <td>dry</td>\n",
       "      <td>normal</td>\n",
       "      <td>dark with street lights</td>\n",
       "      <td>functioning</td>\n",
       "      <td>2009-01-03</td>\n",
       "      <td>02:26:00</td>\n",
       "    </tr>\n",
       "    <tr>\n",
       "      <th>2</th>\n",
       "      <td>4083073</td>\n",
       "      <td>0109</td>\n",
       "      <td>alameda</td>\n",
       "      <td>0.0</td>\n",
       "      <td>None</td>\n",
       "      <td>1</td>\n",
       "      <td>clear</td>\n",
       "      <td>None</td>\n",
       "      <td>scratch</td>\n",
       "      <td>2</td>\n",
       "      <td>vehicle code violation</td>\n",
       "      <td>improper turning</td>\n",
       "      <td>broadside</td>\n",
       "      <td>other motor vehicle</td>\n",
       "      <td>dry</td>\n",
       "      <td>normal</td>\n",
       "      <td>dark with street lights</td>\n",
       "      <td>functioning</td>\n",
       "      <td>2009-01-11</td>\n",
       "      <td>03:32:00</td>\n",
       "    </tr>\n",
       "    <tr>\n",
       "      <th>3</th>\n",
       "      <td>4083077</td>\n",
       "      <td>0109</td>\n",
       "      <td>alameda</td>\n",
       "      <td>0.0</td>\n",
       "      <td>None</td>\n",
       "      <td>1</td>\n",
       "      <td>clear</td>\n",
       "      <td>None</td>\n",
       "      <td>scratch</td>\n",
       "      <td>2</td>\n",
       "      <td>vehicle code violation</td>\n",
       "      <td>automobile right of way</td>\n",
       "      <td>broadside</td>\n",
       "      <td>other motor vehicle</td>\n",
       "      <td>dry</td>\n",
       "      <td>normal</td>\n",
       "      <td>daylight</td>\n",
       "      <td>functioning</td>\n",
       "      <td>2009-01-11</td>\n",
       "      <td>10:35:00</td>\n",
       "    </tr>\n",
       "    <tr>\n",
       "      <th>4</th>\n",
       "      <td>4083087</td>\n",
       "      <td>4313</td>\n",
       "      <td>santa clara</td>\n",
       "      <td>0.0</td>\n",
       "      <td>None</td>\n",
       "      <td>1</td>\n",
       "      <td>clear</td>\n",
       "      <td>None</td>\n",
       "      <td>scratch</td>\n",
       "      <td>2</td>\n",
       "      <td>vehicle code violation</td>\n",
       "      <td>speeding</td>\n",
       "      <td>rear end</td>\n",
       "      <td>other motor vehicle</td>\n",
       "      <td>dry</td>\n",
       "      <td>None</td>\n",
       "      <td>dark with street lights</td>\n",
       "      <td>functioning</td>\n",
       "      <td>2009-01-02</td>\n",
       "      <td>22:43:00</td>\n",
       "    </tr>\n",
       "  </tbody>\n",
       "</table>\n",
       "</div>"
      ],
      "text/plain": [
       "   case_id county_city_location county_location  distance direction  \\\n",
       "0  4083072                 1942     los angeles     528.0     north   \n",
       "1  4083075                 4313     santa clara       0.0      None   \n",
       "2  4083073                 0109         alameda       0.0      None   \n",
       "3  4083077                 0109         alameda       0.0      None   \n",
       "4  4083087                 4313     santa clara       0.0      None   \n",
       "\n",
       "   intersection weather_1 location_type collision_damage  party_count  \\\n",
       "0             0    cloudy       highway     small damage            2   \n",
       "1             1     clear          None     small damage            1   \n",
       "2             1     clear          None          scratch            2   \n",
       "3             1     clear          None          scratch            2   \n",
       "4             1     clear          None          scratch            2   \n",
       "\n",
       "  primary_collision_factor   pcf_violation_category type_of_collision  \\\n",
       "0   vehicle code violation       unsafe lane change         sideswipe   \n",
       "1   vehicle code violation         improper passing        hit object   \n",
       "2   vehicle code violation         improper turning         broadside   \n",
       "3   vehicle code violation  automobile right of way         broadside   \n",
       "4   vehicle code violation                 speeding          rear end   \n",
       "\n",
       "  motor_vehicle_involved_with road_surface road_condition_1  \\\n",
       "0         other motor vehicle          wet           normal   \n",
       "1                fixed object          dry           normal   \n",
       "2         other motor vehicle          dry           normal   \n",
       "3         other motor vehicle          dry           normal   \n",
       "4         other motor vehicle          dry             None   \n",
       "\n",
       "                  lighting control_device collision_date collision_time  \n",
       "0                 daylight           none     2009-01-22       07:25:00  \n",
       "1  dark with street lights    functioning     2009-01-03       02:26:00  \n",
       "2  dark with street lights    functioning     2009-01-11       03:32:00  \n",
       "3                 daylight    functioning     2009-01-11       10:35:00  \n",
       "4  dark with street lights    functioning     2009-01-02       22:43:00  "
      ]
     },
     "metadata": {},
     "output_type": "display_data"
    },
    {
     "data": {
      "text/markdown": [
       "**Таблица parties**"
      ],
      "text/plain": [
       "<IPython.core.display.Markdown object>"
      ]
     },
     "metadata": {},
     "output_type": "display_data"
    },
    {
     "data": {
      "text/markdown": [
       "Количество строк: 2752408"
      ],
      "text/plain": [
       "<IPython.core.display.Markdown object>"
      ]
     },
     "metadata": {},
     "output_type": "display_data"
    },
    {
     "name": "stdout",
     "output_type": "stream",
     "text": [
      "<class 'pandas.core.frame.DataFrame'>\n",
      "RangeIndex: 10 entries, 0 to 9\n",
      "Data columns (total 9 columns):\n",
      " #   Column               Non-Null Count  Dtype  \n",
      "---  ------               --------------  -----  \n",
      " 0   id                   10 non-null     int64  \n",
      " 1   case_id              10 non-null     object \n",
      " 2   party_number         10 non-null     int64  \n",
      " 3   party_type           10 non-null     object \n",
      " 4   at_fault             10 non-null     int64  \n",
      " 5   insurance_premium    4 non-null      float64\n",
      " 6   party_sobriety       10 non-null     object \n",
      " 7   party_drug_physical  4 non-null      object \n",
      " 8   cellphone_in_use     9 non-null      float64\n",
      "dtypes: float64(2), int64(3), object(4)\n",
      "memory usage: 848.0+ bytes\n"
     ]
    },
    {
     "data": {
      "text/plain": [
       "None"
      ]
     },
     "metadata": {},
     "output_type": "display_data"
    },
    {
     "data": {
      "text/html": [
       "<div>\n",
       "<style scoped>\n",
       "    .dataframe tbody tr th:only-of-type {\n",
       "        vertical-align: middle;\n",
       "    }\n",
       "\n",
       "    .dataframe tbody tr th {\n",
       "        vertical-align: top;\n",
       "    }\n",
       "\n",
       "    .dataframe thead th {\n",
       "        text-align: right;\n",
       "    }\n",
       "</style>\n",
       "<table border=\"1\" class=\"dataframe\">\n",
       "  <thead>\n",
       "    <tr style=\"text-align: right;\">\n",
       "      <th></th>\n",
       "      <th>id</th>\n",
       "      <th>case_id</th>\n",
       "      <th>party_number</th>\n",
       "      <th>party_type</th>\n",
       "      <th>at_fault</th>\n",
       "      <th>insurance_premium</th>\n",
       "      <th>party_sobriety</th>\n",
       "      <th>party_drug_physical</th>\n",
       "      <th>cellphone_in_use</th>\n",
       "    </tr>\n",
       "  </thead>\n",
       "  <tbody>\n",
       "    <tr>\n",
       "      <th>0</th>\n",
       "      <td>22</td>\n",
       "      <td>3899454</td>\n",
       "      <td>1</td>\n",
       "      <td>road signs</td>\n",
       "      <td>1</td>\n",
       "      <td>29.0</td>\n",
       "      <td>had not been drinking</td>\n",
       "      <td>None</td>\n",
       "      <td>0.0</td>\n",
       "    </tr>\n",
       "    <tr>\n",
       "      <th>1</th>\n",
       "      <td>23</td>\n",
       "      <td>3899454</td>\n",
       "      <td>2</td>\n",
       "      <td>road signs</td>\n",
       "      <td>0</td>\n",
       "      <td>7.0</td>\n",
       "      <td>had not been drinking</td>\n",
       "      <td>None</td>\n",
       "      <td>0.0</td>\n",
       "    </tr>\n",
       "    <tr>\n",
       "      <th>2</th>\n",
       "      <td>29</td>\n",
       "      <td>3899462</td>\n",
       "      <td>2</td>\n",
       "      <td>car</td>\n",
       "      <td>0</td>\n",
       "      <td>21.0</td>\n",
       "      <td>had not been drinking</td>\n",
       "      <td>None</td>\n",
       "      <td>0.0</td>\n",
       "    </tr>\n",
       "    <tr>\n",
       "      <th>3</th>\n",
       "      <td>31</td>\n",
       "      <td>3899465</td>\n",
       "      <td>2</td>\n",
       "      <td>road signs</td>\n",
       "      <td>0</td>\n",
       "      <td>24.0</td>\n",
       "      <td>had not been drinking</td>\n",
       "      <td>None</td>\n",
       "      <td>0.0</td>\n",
       "    </tr>\n",
       "    <tr>\n",
       "      <th>4</th>\n",
       "      <td>41</td>\n",
       "      <td>3899478</td>\n",
       "      <td>2</td>\n",
       "      <td>road bumper</td>\n",
       "      <td>0</td>\n",
       "      <td>NaN</td>\n",
       "      <td>not applicable</td>\n",
       "      <td>not applicable</td>\n",
       "      <td>0.0</td>\n",
       "    </tr>\n",
       "  </tbody>\n",
       "</table>\n",
       "</div>"
      ],
      "text/plain": [
       "   id  case_id  party_number   party_type  at_fault  insurance_premium  \\\n",
       "0  22  3899454             1   road signs         1               29.0   \n",
       "1  23  3899454             2   road signs         0                7.0   \n",
       "2  29  3899462             2          car         0               21.0   \n",
       "3  31  3899465             2   road signs         0               24.0   \n",
       "4  41  3899478             2  road bumper         0                NaN   \n",
       "\n",
       "          party_sobriety party_drug_physical  cellphone_in_use  \n",
       "0  had not been drinking                None               0.0  \n",
       "1  had not been drinking                None               0.0  \n",
       "2  had not been drinking                None               0.0  \n",
       "3  had not been drinking                None               0.0  \n",
       "4         not applicable      not applicable               0.0  "
      ]
     },
     "metadata": {},
     "output_type": "display_data"
    }
   ],
   "source": [
    "printmd(\"**Таблица vehicles**\")\n",
    "primary_information('vehicles')\n",
    "printmd(\"**Таблица collisions**\")\n",
    "primary_information('collisions')\n",
    "printmd(\"**Таблица parties**\")\n",
    "primary_information('parties')"
   ]
  },
  {
   "cell_type": "markdown",
   "id": "62bd4d40",
   "metadata": {},
   "source": [
    "Таблицы соответствуют описанию. Все таблицы имеют общий ключ ```case_id```"
   ]
  },
  {
   "cell_type": "markdown",
   "id": "ce475d40",
   "metadata": {},
   "source": [
    "##  Проведите статистический анализ факторов ДТП"
   ]
  },
  {
   "cell_type": "markdown",
   "id": "6138a2b7",
   "metadata": {},
   "source": [
    "Выясним, в какие месяцы происходит наибольшее количество аварий."
   ]
  },
  {
   "cell_type": "code",
   "execution_count": 8,
   "id": "ae294c03",
   "metadata": {},
   "outputs": [
    {
     "data": {
      "image/png": "[encoded data removed]",
      "text/plain": [
       "<Figure size 1440x360 with 1 Axes>"
      ]
     },
     "metadata": {
      "needs_background": "light"
     },
     "output_type": "display_data"
    }
   ],
   "source": [
    "query = '''\n",
    "SELECT EXTRACT(MONTH FROM collision_date)::INT,\n",
    "       to_char(collision_date, 'TMMonth') as month,\n",
    "       COUNT(case_id)\n",
    "FROM collisions\n",
    "GROUP BY EXTRACT(MONTH FROM collision_date)::INT, to_char(collision_date, 'TMMonth');\n",
    "'''\n",
    "df = pd.read_sql_query(query, con = engine)\n",
    "df.plot(kind='bar', x='month', y='count', figsize=(20, 5))\n",
    "plt.title('Распределение ДТП по месяцам', fontsize=32)\n",
    "plt.xlabel('Месяц', fontsize=18)\n",
    "plt.ylabel('Количество ДТП', fontsize=18)\n",
    "plt.xticks(fontsize=20, rotation=40, horizontalalignment='right')\n",
    "plt.legend().remove();"
   ]
  },
  {
   "cell_type": "markdown",
   "id": "dce238d1",
   "metadata": {},
   "source": [
    "Согласно распределению ДТП по месяцам можно сделать вывод, что период зима-весна наиболее аварийноопасный"
   ]
  },
  {
   "cell_type": "markdown",
   "id": "ba91b6bd",
   "metadata": {},
   "source": [
    "На повестке первого совещания рабочей группы, проработаем подходящие аналитические задачи:\n",
    "- Провести анализ серьёзности повреждений транспортного средства, исходя из состояния дороги в момент ДТП (таблица collisions);\n",
    "- Найдите самые частые причины ДТП (таблица parties);\n",
    "- Найдите аврийноопасное время (таблица collisions);\n",
    "- Провести анализ серьёзности повреждений транспортного средства, исходя из погоды в момент ДТП (таблица collisions);\n",
    "- Одной из причин аварий бывает ослепление водителей заходящим и восходящим солнцем на горизонте. Проверить теорию, связав время суток и направление движения ТС на момент ДТП (таблица collisions);\n",
    "- Проанализировать какую долю ДТП занимают ДТП с участниками в алкогольном опьянении (связать collisions и parties)\n",
    "- Проанализировать какую долю ДТП занимают ДТП с участниками в сонном состоянии (связать collisions и parties)\n",
    "- Сравнить количество ДТП с разным типом КПП (связать collisions, parties и vehicles);"
   ]
  },
  {
   "cell_type": "markdown",
   "id": "24c21b53",
   "metadata": {},
   "source": [
    "Проведем анализ серьёзности повреждений транспортного средства, исходя из состояния дороги в момент ДТП"
   ]
  },
  {
   "cell_type": "code",
   "execution_count": 9,
   "id": "dd41a0b5",
   "metadata": {},
   "outputs": [
    {
     "data": {
      "text/html": [
       "<div>\n",
       "<style scoped>\n",
       "    .dataframe tbody tr th:only-of-type {\n",
       "        vertical-align: middle;\n",
       "    }\n",
       "\n",
       "    .dataframe tbody tr th {\n",
       "        vertical-align: top;\n",
       "    }\n",
       "\n",
       "    .dataframe thead th {\n",
       "        text-align: right;\n",
       "    }\n",
       "</style>\n",
       "<table border=\"1\" class=\"dataframe\">\n",
       "  <thead>\n",
       "    <tr style=\"text-align: right;\">\n",
       "      <th>road_surface</th>\n",
       "      <th>dry</th>\n",
       "      <th>slippery</th>\n",
       "      <th>snowy</th>\n",
       "      <th>wet</th>\n",
       "    </tr>\n",
       "    <tr>\n",
       "      <th>collision_damage</th>\n",
       "      <th></th>\n",
       "      <th></th>\n",
       "      <th></th>\n",
       "      <th></th>\n",
       "    </tr>\n",
       "  </thead>\n",
       "  <tbody>\n",
       "    <tr>\n",
       "      <th>fatal</th>\n",
       "      <td>9823</td>\n",
       "      <td>12</td>\n",
       "      <td>46</td>\n",
       "      <td>857</td>\n",
       "    </tr>\n",
       "    <tr>\n",
       "      <th>middle damage</th>\n",
       "      <td>151015</td>\n",
       "      <td>238</td>\n",
       "      <td>762</td>\n",
       "      <td>13190</td>\n",
       "    </tr>\n",
       "    <tr>\n",
       "      <th>scratch</th>\n",
       "      <td>307963</td>\n",
       "      <td>308</td>\n",
       "      <td>1259</td>\n",
       "      <td>33301</td>\n",
       "    </tr>\n",
       "    <tr>\n",
       "      <th>severe damage</th>\n",
       "      <td>27827</td>\n",
       "      <td>64</td>\n",
       "      <td>157</td>\n",
       "      <td>2470</td>\n",
       "    </tr>\n",
       "    <tr>\n",
       "      <th>small damage</th>\n",
       "      <td>745398</td>\n",
       "      <td>762</td>\n",
       "      <td>5037</td>\n",
       "      <td>86418</td>\n",
       "    </tr>\n",
       "  </tbody>\n",
       "</table>\n",
       "</div>"
      ],
      "text/plain": [
       "road_surface         dry  slippery  snowy    wet\n",
       "collision_damage                                \n",
       "fatal               9823        12     46    857\n",
       "middle damage     151015       238    762  13190\n",
       "scratch           307963       308   1259  33301\n",
       "severe damage      27827        64    157   2470\n",
       "small damage      745398       762   5037  86418"
      ]
     },
     "execution_count": 9,
     "metadata": {},
     "output_type": "execute_result"
    }
   ],
   "source": [
    "query = '''\n",
    "SELECT COUNT(DISTINCT case_id),\n",
    "       collision_damage,\n",
    "       road_surface \n",
    "FROM collisions\n",
    "GROUP BY collision_damage, road_surface;\n",
    "'''\n",
    "df = pd.read_sql_query(query, con = engine)\n",
    "df = df.dropna()\n",
    "df_pivot = df.pivot(index='collision_damage', \n",
    "                          columns='road_surface',\n",
    "                          values='count')\n",
    "df_pivot"
   ]
  },
  {
   "cell_type": "code",
   "execution_count": 10,
   "id": "1ff993d3",
   "metadata": {},
   "outputs": [],
   "source": [
    "def show_pie(df, columns, main_title, colors=None):\n",
    "    fig, axes = plt.subplots(nrows=1, ncols=len(columns), sharey=True, figsize=(18, 6))\n",
    "    palette_color = sns.color_palette('pastel') \n",
    "    if len(columns) == 1:\n",
    "        (\n",
    "            df[columns[0]].plot.pie(autopct='%1.f%%', legend=False, colors=palette_color,\n",
    "                wedgeprops = {\"edgecolor\" : \"white\", \n",
    "                              'linewidth': 2, \n",
    "                              'antialiased': True})\n",
    "        )\n",
    "    else:\n",
    "        idx = 0\n",
    "        for column in columns:    \n",
    "            (\n",
    "                df[column].plot.pie(ax=axes[idx], autopct='%1.f%%', legend=False, colors=palette_color,\n",
    "                    wedgeprops = {\"edgecolor\" : \"white\", \n",
    "                                  'linewidth': 2, \n",
    "                                  'antialiased': True})\n",
    "            )\n",
    "            axes[idx].title.set_text(columns[idx])\n",
    "            idx+=1\n",
    "    fig.suptitle(main_title, fontsize=30)"
   ]
  },
  {
   "cell_type": "code",
   "execution_count": 11,
   "id": "ebf95636",
   "metadata": {},
   "outputs": [
    {
     "data": {
      "image/png": "[encoded data removed]",
      "text/plain": [
       "<Figure size 1296x432 with 4 Axes>"
      ]
     },
     "metadata": {},
     "output_type": "display_data"
    }
   ],
   "source": [
    "show_pie(df_pivot, df_pivot.columns, \"Степень повреждения в зависимости от состояния дороги\")"
   ]
  },
  {
   "cell_type": "code",
   "execution_count": 12,
   "id": "49b9e256",
   "metadata": {},
   "outputs": [
    {
     "data": {
      "image/png": "[encoded data removed]",
      "text/plain": [
       "<Figure size 1440x720 with 1 Axes>"
      ]
     },
     "metadata": {
      "needs_background": "light"
     },
     "output_type": "display_data"
    }
   ],
   "source": [
    "for col in df_pivot.columns:\n",
    "    df_pivot[col] = df_pivot[col] / df_pivot[col].sum()\n",
    "df_pivot.plot(kind='bar', figsize=(20, 10))\n",
    "plt.xlabel('Степень повреждения', fontsize=18);\n",
    "plt.xticks(fontsize=20, rotation=40, horizontalalignment='right')\n",
    "plt.ylabel('% от общего числа ДТП в одинаковых условиях ', fontsize=18);\n",
    "plt.legend(title=\"Состояние дороги\");"
   ]
  },
  {
   "cell_type": "markdown",
   "id": "caff8cb9",
   "metadata": {},
   "source": [
    "В соответствии с диаграммами можно сделать вывод, по статистике, ДТП с наиболее тяжелыми последствиями происходят на скользкой дороге. ДТП с небольшими повреждениями чаще случаются на влажном и снежном покрытии."
   ]
  },
  {
   "cell_type": "markdown",
   "id": "8b1f5797",
   "metadata": {},
   "source": [
    "Теперь проанализируем какую долю ДТП занимают ДТП с участниками в алкогольном опьянении"
   ]
  },
  {
   "cell_type": "code",
   "execution_count": 13,
   "id": "58e5cf21",
   "metadata": {},
   "outputs": [
    {
     "data": {
      "text/html": [
       "<div>\n",
       "<style scoped>\n",
       "    .dataframe tbody tr th:only-of-type {\n",
       "        vertical-align: middle;\n",
       "    }\n",
       "\n",
       "    .dataframe tbody tr th {\n",
       "        vertical-align: top;\n",
       "    }\n",
       "\n",
       "    .dataframe thead th {\n",
       "        text-align: right;\n",
       "    }\n",
       "</style>\n",
       "<table border=\"1\" class=\"dataframe\">\n",
       "  <thead>\n",
       "    <tr style=\"text-align: right;\">\n",
       "      <th></th>\n",
       "      <th>count</th>\n",
       "    </tr>\n",
       "    <tr>\n",
       "      <th>party_sobriety</th>\n",
       "      <th></th>\n",
       "    </tr>\n",
       "  </thead>\n",
       "  <tbody>\n",
       "    <tr>\n",
       "      <th>had been drinking, impairment unknown</th>\n",
       "      <td>20975</td>\n",
       "    </tr>\n",
       "    <tr>\n",
       "      <th>had been drinking, not under influence</th>\n",
       "      <td>15967</td>\n",
       "    </tr>\n",
       "    <tr>\n",
       "      <th>had been drinking, under influence</th>\n",
       "      <td>111559</td>\n",
       "    </tr>\n",
       "    <tr>\n",
       "      <th>had not been drinking</th>\n",
       "      <td>1185724</td>\n",
       "    </tr>\n",
       "    <tr>\n",
       "      <th>impairment unknown</th>\n",
       "      <td>224079</td>\n",
       "    </tr>\n",
       "    <tr>\n",
       "      <th>not applicable</th>\n",
       "      <td>129640</td>\n",
       "    </tr>\n",
       "  </tbody>\n",
       "</table>\n",
       "</div>"
      ],
      "text/plain": [
       "                                          count\n",
       "party_sobriety                                 \n",
       "had been drinking, impairment unknown     20975\n",
       "had been drinking, not under influence    15967\n",
       "had been drinking, under influence       111559\n",
       "had not been drinking                   1185724\n",
       "impairment unknown                       224079\n",
       "not applicable                           129640"
      ]
     },
     "execution_count": 13,
     "metadata": {},
     "output_type": "execute_result"
    }
   ],
   "source": [
    "query = '''\n",
    "SELECT COUNT(DISTINCT c.case_id),\n",
    "       p.party_sobriety\n",
    "FROM collisions c\n",
    "JOIN parties p ON c.case_id=p.case_id\n",
    "GROUP BY p.party_sobriety;\n",
    "'''\n",
    "df = pd.read_sql_query(query, con = engine)\n",
    "df = df.dropna()\n",
    "df.set_index('party_sobriety', inplace=True)\n",
    "df"
   ]
  },
  {
   "cell_type": "code",
   "execution_count": 14,
   "id": "cdad193e",
   "metadata": {},
   "outputs": [
    {
     "data": {
      "image/png": "[encoded data removed]",
      "text/plain": [
       "<Figure size 1296x432 with 1 Axes>"
      ]
     },
     "metadata": {},
     "output_type": "display_data"
    }
   ],
   "source": [
    "show_pie(df, ['count'], \"Состояние водителя\")"
   ]
  },
  {
   "cell_type": "markdown",
   "id": "c19d3a7c",
   "metadata": {},
   "source": [
    "Количество ДТП с участниками, находившимися в состоянии алкогольного опьянения, не такое большое, но все-таки занимает значительную часть от общего числа ДТП."
   ]
  },
  {
   "cell_type": "markdown",
   "id": "e89c5249",
   "metadata": {},
   "source": [
    "Построим еще один график для понимания в какое время суток происходит наибольшее количество ДТП."
   ]
  },
  {
   "cell_type": "code",
   "execution_count": 15,
   "id": "3b77a5d5",
   "metadata": {},
   "outputs": [
    {
     "data": {
      "image/png": "[encoded data removed]",
      "text/plain": [
       "<Figure size 1440x360 with 1 Axes>"
      ]
     },
     "metadata": {
      "needs_background": "light"
     },
     "output_type": "display_data"
    }
   ],
   "source": [
    "query = '''\n",
    "WITH collision_hour_time AS (\n",
    "    SELECT EXTRACT(HOUR FROM collision_time)::int as hr,\n",
    "           COUNT(case_id) OVER (PARTITION BY EXTRACT(HOUR FROM collision_time)) as cnt,\n",
    "           ROW_NUMBER() OVER (PARTITION BY EXTRACT(HOUR FROM collision_time)) as rn\n",
    "    FROM collisions\n",
    ")\n",
    "SELECT *\n",
    "FROM collision_hour_time\n",
    "WHERE rn = 1;\n",
    "'''\n",
    "df = pd.read_sql_query(query, con = engine)\n",
    "df = df.dropna()\n",
    "df['hr'] = df['hr'].astype(int)\n",
    "df.plot(kind='bar', x='hr', y='cnt', grid=True, figsize=(20, 5))\n",
    "plt.title('Распределение ДТП по времени', fontsize=32)\n",
    "plt.xlabel('Час', fontsize=18)\n",
    "plt.ylabel('Количество ДТП', fontsize=18)\n",
    "plt.xticks(fontsize=20, rotation=40, horizontalalignment='right')\n",
    "plt.legend().remove();"
   ]
  },
  {
   "cell_type": "markdown",
   "id": "d32ef6ab",
   "metadata": {},
   "source": [
    "График распределения ДТП по времени суток показывает, что больше всего аварий происходит в часы пик, когда большое количество людей едут на работу или с работы."
   ]
  },
  {
   "cell_type": "code",
   "execution_count": 16,
   "id": "b8371b81",
   "metadata": {},
   "outputs": [
    {
     "data": {
      "image/png": "[encoded data removed]",
      "text/plain": [
       "<Figure size 1296x432 with 1 Axes>"
      ]
     },
     "metadata": {},
     "output_type": "display_data"
    }
   ],
   "source": [
    "query = '''\n",
    "SELECT COUNT(c.case_id),\n",
    "       v.vehicle_transmission\n",
    "FROM collisions c\n",
    "JOIN vehicles v ON c.case_id=v.case_id\n",
    "JOIN parties p ON c.case_id=p.case_id\n",
    "WHERE p.at_fault=1\n",
    "GROUP BY v.vehicle_transmission;\n",
    "'''\n",
    "df = pd.read_sql_query(query, con = engine)\n",
    "df = df.dropna()\n",
    "df.set_index('vehicle_transmission', inplace=True)\n",
    "show_pie(df, ['count'], \"Влияние типа КПП на количество ДТП среди виновников\")"
   ]
  },
  {
   "cell_type": "markdown",
   "id": "1266a7a2",
   "metadata": {},
   "source": [
    "Тип КПП на вероятность ДТП не влияет."
   ]
  },
  {
   "cell_type": "markdown",
   "id": "86ae0cd1",
   "metadata": {},
   "source": [
    "Одной из причин аварий бывает ослепление водителей заходящим и восходящим солнцем на горизонте. Проверим теорию, связав время суток и направление движения ТС на момент ДТП"
   ]
  },
  {
   "cell_type": "code",
   "execution_count": 17,
   "id": "1ca35003",
   "metadata": {},
   "outputs": [
    {
     "data": {
      "image/png": "[encoded data removed]",
      "text/plain": [
       "<Figure size 1440x360 with 1 Axes>"
      ]
     },
     "metadata": {
      "needs_background": "light"
     },
     "output_type": "display_data"
    }
   ],
   "source": [
    "query = '''\n",
    "WITH collision_hour_time AS (\n",
    "    SELECT EXTRACT(HOUR FROM c.collision_time)::int as hr,\n",
    "           COUNT(c.case_id) OVER (PARTITION BY EXTRACT(HOUR FROM c.collision_time), c.direction) as cnt,\n",
    "           ROW_NUMBER() OVER (PARTITION BY EXTRACT(HOUR FROM c.collision_time), c.direction) as rn,\n",
    "           c.direction as direction\n",
    "    FROM collisions c\n",
    "    JOIN parties p ON c.case_id=p.case_id\n",
    "    WHERE p.at_fault=1\n",
    ")\n",
    "SELECT *\n",
    "FROM collision_hour_time\n",
    "WHERE rn = 1;\n",
    "'''\n",
    "df = pd.read_sql_query(query, con = engine)\n",
    "df = df.dropna()\n",
    "df['hr'] = df['hr'].astype(int)\n",
    "\n",
    "df_pivot = df.pivot(index='hr', \n",
    "                    columns='direction',\n",
    "                    values='cnt')\n",
    "df_pivot.plot(figsize=(20, 5), grid=True)\n",
    "plt.title('Количество ДТП по времени в зависимости от направления движения', fontsize=32)\n",
    "plt.xlabel('Час', fontsize=18)\n",
    "plt.ylabel('Количество ДТП', fontsize=18)\n",
    "plt.xticks(fontsize=20, rotation=40, horizontalalignment='right')\n",
    "plt.legend().remove();"
   ]
  },
  {
   "cell_type": "markdown",
   "id": "bd31c638",
   "metadata": {},
   "source": [
    "Теория не подтвердилась. Однако направление на север или юг в любое время суток более аварийноопасное, примем это к сведению."
   ]
  },
  {
   "cell_type": "code",
   "execution_count": 18,
   "id": "ca2513b1",
   "metadata": {},
   "outputs": [
    {
     "data": {
      "image/png": "[encoded data removed]",
      "text/plain": [
       "<Figure size 1440x360 with 1 Axes>"
      ]
     },
     "metadata": {
      "needs_background": "light"
     },
     "output_type": "display_data"
    }
   ],
   "source": [
    "query = '''\n",
    "SELECT COUNT(case_id), \n",
    "       county_location\n",
    "FROM collisions\n",
    "GROUP BY county_location\n",
    "ORDER BY COUNT(case_id) DESC;\n",
    "'''\n",
    "df = pd.read_sql_query(query, con = engine)\n",
    "df = df.dropna()\n",
    "\n",
    "df.plot(kind='bar', x='county_location', y='count', grid=True, figsize=(20, 5))\n",
    "plt.title('Распределение ДТП по городам', fontsize=32)\n",
    "plt.xlabel('Город', fontsize=18)\n",
    "plt.ylabel('Количество ДТП', fontsize=18)\n",
    "plt.xticks(fontsize=12, rotation=40, horizontalalignment='right')\n",
    "plt.legend().remove();"
   ]
  },
  {
   "cell_type": "markdown",
   "id": "a50880f1",
   "metadata": {},
   "source": [
    "В разных городах разный трафик. Поэтому и вероятность ДТП зависит от города"
   ]
  },
  {
   "cell_type": "markdown",
   "id": "de69628d",
   "metadata": {},
   "source": [
    "## Создайте модель для оценки водительского риска"
   ]
  },
  {
   "cell_type": "markdown",
   "id": "8b8b8fd5",
   "metadata": {},
   "source": [
    "Создадим модель предсказания ДТП (целевое значение — at_fault (виновник) в таблице parties)\n",
    "- Для модели выбрать тип виновника — только машина (car).\n",
    "- Выбрать случаи, когда ДТП привело к любым повреждениям транспортного средства, кроме типа SCRATCH (царапина).\n",
    "- Для моделирования ограничиться данными за 2012 год — они самые свежие.\n",
    "- Обязательное условие — учесть фактор возраста автомобиля."
   ]
  },
  {
   "cell_type": "code",
   "execution_count": 19,
   "id": "4159877f",
   "metadata": {},
   "outputs": [],
   "source": [
    "query = '''\n",
    "SELECT *\n",
    "FROM collisions c\n",
    "JOIN parties p ON c.case_id=p.case_id\n",
    "JOIN vehicles v ON c.case_id=v.case_id\n",
    "WHERE p.party_type='car' AND\n",
    "      c.collision_damage!='scratch' AND\n",
    "      EXTRACT(YEAR FROM c.collision_date)=2012;\n",
    "'''\n",
    "df = pd.read_sql_query(query, con = engine)"
   ]
  },
  {
   "cell_type": "code",
   "execution_count": 20,
   "id": "a2e20280",
   "metadata": {
    "scrolled": false
   },
   "outputs": [
    {
     "name": "stdout",
     "output_type": "stream",
     "text": [
      "<class 'pandas.core.frame.DataFrame'>\n",
      "RangeIndex: 118411 entries, 0 to 118410\n",
      "Data columns (total 35 columns):\n",
      " #   Column                       Non-Null Count   Dtype  \n",
      "---  ------                       --------------   -----  \n",
      " 0   case_id                      118411 non-null  object \n",
      " 1   county_city_location         118411 non-null  object \n",
      " 2   county_location              118411 non-null  object \n",
      " 3   distance                     118411 non-null  float64\n",
      " 4   direction                    89466 non-null   object \n",
      " 5   intersection                 118043 non-null  float64\n",
      " 6   weather_1                    118022 non-null  object \n",
      " 7   location_type                55137 non-null   object \n",
      " 8   collision_damage             118411 non-null  object \n",
      " 9   party_count                  118411 non-null  int64  \n",
      " 10  primary_collision_factor     118147 non-null  object \n",
      " 11  pcf_violation_category       116686 non-null  object \n",
      " 12  type_of_collision            117771 non-null  object \n",
      " 13  motor_vehicle_involved_with  118079 non-null  object \n",
      " 14  road_surface                 117645 non-null  object \n",
      " 15  road_condition_1             117843 non-null  object \n",
      " 16  lighting                     118080 non-null  object \n",
      " 17  control_device               117957 non-null  object \n",
      " 18  collision_date               118411 non-null  object \n",
      " 19  collision_time               118283 non-null  object \n",
      " 20  id                           118411 non-null  int64  \n",
      " 21  case_id                      118411 non-null  object \n",
      " 22  party_number                 118411 non-null  int64  \n",
      " 23  party_type                   118411 non-null  object \n",
      " 24  at_fault                     118411 non-null  int64  \n",
      " 25  insurance_premium            113289 non-null  float64\n",
      " 26  party_sobriety               116682 non-null  object \n",
      " 27  party_drug_physical          8695 non-null    object \n",
      " 28  cellphone_in_use             107507 non-null  float64\n",
      " 29  id                           118411 non-null  int64  \n",
      " 30  case_id                      118411 non-null  object \n",
      " 31  party_number                 118411 non-null  int64  \n",
      " 32  vehicle_type                 118411 non-null  object \n",
      " 33  vehicle_transmission         116545 non-null  object \n",
      " 34  vehicle_age                  115046 non-null  float64\n",
      "dtypes: float64(5), int64(6), object(24)\n",
      "memory usage: 31.6+ MB\n"
     ]
    },
    {
     "data": {
      "text/plain": [
       "None"
      ]
     },
     "metadata": {},
     "output_type": "display_data"
    },
    {
     "data": {
      "text/html": [
       "<div>\n",
       "<style scoped>\n",
       "    .dataframe tbody tr th:only-of-type {\n",
       "        vertical-align: middle;\n",
       "    }\n",
       "\n",
       "    .dataframe tbody tr th {\n",
       "        vertical-align: top;\n",
       "    }\n",
       "\n",
       "    .dataframe thead th {\n",
       "        text-align: right;\n",
       "    }\n",
       "</style>\n",
       "<table border=\"1\" class=\"dataframe\">\n",
       "  <thead>\n",
       "    <tr style=\"text-align: right;\">\n",
       "      <th></th>\n",
       "      <th>case_id</th>\n",
       "      <th>county_city_location</th>\n",
       "      <th>county_location</th>\n",
       "      <th>distance</th>\n",
       "      <th>direction</th>\n",
       "      <th>intersection</th>\n",
       "      <th>weather_1</th>\n",
       "      <th>location_type</th>\n",
       "      <th>collision_damage</th>\n",
       "      <th>party_count</th>\n",
       "      <th>...</th>\n",
       "      <th>insurance_premium</th>\n",
       "      <th>party_sobriety</th>\n",
       "      <th>party_drug_physical</th>\n",
       "      <th>cellphone_in_use</th>\n",
       "      <th>id</th>\n",
       "      <th>case_id</th>\n",
       "      <th>party_number</th>\n",
       "      <th>vehicle_type</th>\n",
       "      <th>vehicle_transmission</th>\n",
       "      <th>vehicle_age</th>\n",
       "    </tr>\n",
       "  </thead>\n",
       "  <tbody>\n",
       "    <tr>\n",
       "      <th>0</th>\n",
       "      <td>5403341</td>\n",
       "      <td>1900</td>\n",
       "      <td>los angeles</td>\n",
       "      <td>1079.0</td>\n",
       "      <td>north</td>\n",
       "      <td>0.0</td>\n",
       "      <td>clear</td>\n",
       "      <td>None</td>\n",
       "      <td>fatal</td>\n",
       "      <td>2</td>\n",
       "      <td>...</td>\n",
       "      <td>53.0</td>\n",
       "      <td>had not been drinking</td>\n",
       "      <td>None</td>\n",
       "      <td>0.0</td>\n",
       "      <td>1275428</td>\n",
       "      <td>5403341</td>\n",
       "      <td>2</td>\n",
       "      <td>sedan</td>\n",
       "      <td>manual</td>\n",
       "      <td>3.0</td>\n",
       "    </tr>\n",
       "    <tr>\n",
       "      <th>1</th>\n",
       "      <td>5403341</td>\n",
       "      <td>1900</td>\n",
       "      <td>los angeles</td>\n",
       "      <td>1079.0</td>\n",
       "      <td>north</td>\n",
       "      <td>0.0</td>\n",
       "      <td>clear</td>\n",
       "      <td>None</td>\n",
       "      <td>fatal</td>\n",
       "      <td>2</td>\n",
       "      <td>...</td>\n",
       "      <td>53.0</td>\n",
       "      <td>had not been drinking</td>\n",
       "      <td>None</td>\n",
       "      <td>0.0</td>\n",
       "      <td>1275427</td>\n",
       "      <td>5403341</td>\n",
       "      <td>1</td>\n",
       "      <td>coupe</td>\n",
       "      <td>manual</td>\n",
       "      <td>5.0</td>\n",
       "    </tr>\n",
       "    <tr>\n",
       "      <th>2</th>\n",
       "      <td>5459631</td>\n",
       "      <td>5400</td>\n",
       "      <td>tulare</td>\n",
       "      <td>2112.0</td>\n",
       "      <td>west</td>\n",
       "      <td>0.0</td>\n",
       "      <td>cloudy</td>\n",
       "      <td>None</td>\n",
       "      <td>middle damage</td>\n",
       "      <td>2</td>\n",
       "      <td>...</td>\n",
       "      <td>67.0</td>\n",
       "      <td>had not been drinking</td>\n",
       "      <td>None</td>\n",
       "      <td>0.0</td>\n",
       "      <td>1330991</td>\n",
       "      <td>5459631</td>\n",
       "      <td>1</td>\n",
       "      <td>sedan</td>\n",
       "      <td>auto</td>\n",
       "      <td>5.0</td>\n",
       "    </tr>\n",
       "    <tr>\n",
       "      <th>3</th>\n",
       "      <td>5459631</td>\n",
       "      <td>5400</td>\n",
       "      <td>tulare</td>\n",
       "      <td>2112.0</td>\n",
       "      <td>west</td>\n",
       "      <td>0.0</td>\n",
       "      <td>cloudy</td>\n",
       "      <td>None</td>\n",
       "      <td>middle damage</td>\n",
       "      <td>2</td>\n",
       "      <td>...</td>\n",
       "      <td>67.0</td>\n",
       "      <td>had not been drinking</td>\n",
       "      <td>None</td>\n",
       "      <td>0.0</td>\n",
       "      <td>1330992</td>\n",
       "      <td>5459631</td>\n",
       "      <td>2</td>\n",
       "      <td>coupe</td>\n",
       "      <td>auto</td>\n",
       "      <td>10.0</td>\n",
       "    </tr>\n",
       "    <tr>\n",
       "      <th>4</th>\n",
       "      <td>5459847</td>\n",
       "      <td>1992</td>\n",
       "      <td>los angeles</td>\n",
       "      <td>0.0</td>\n",
       "      <td>None</td>\n",
       "      <td>1.0</td>\n",
       "      <td>clear</td>\n",
       "      <td>None</td>\n",
       "      <td>middle damage</td>\n",
       "      <td>2</td>\n",
       "      <td>...</td>\n",
       "      <td>18.0</td>\n",
       "      <td>had not been drinking</td>\n",
       "      <td>None</td>\n",
       "      <td>NaN</td>\n",
       "      <td>1331228</td>\n",
       "      <td>5459847</td>\n",
       "      <td>2</td>\n",
       "      <td>sedan</td>\n",
       "      <td>auto</td>\n",
       "      <td>4.0</td>\n",
       "    </tr>\n",
       "  </tbody>\n",
       "</table>\n",
       "<p>5 rows × 35 columns</p>\n",
       "</div>"
      ],
      "text/plain": [
       "   case_id county_city_location county_location  distance direction  \\\n",
       "0  5403341                 1900     los angeles    1079.0     north   \n",
       "1  5403341                 1900     los angeles    1079.0     north   \n",
       "2  5459631                 5400          tulare    2112.0      west   \n",
       "3  5459631                 5400          tulare    2112.0      west   \n",
       "4  5459847                 1992     los angeles       0.0      None   \n",
       "\n",
       "   intersection weather_1 location_type collision_damage  party_count  ...  \\\n",
       "0           0.0     clear          None            fatal            2  ...   \n",
       "1           0.0     clear          None            fatal            2  ...   \n",
       "2           0.0    cloudy          None    middle damage            2  ...   \n",
       "3           0.0    cloudy          None    middle damage            2  ...   \n",
       "4           1.0     clear          None    middle damage            2  ...   \n",
       "\n",
       "  insurance_premium         party_sobriety party_drug_physical  \\\n",
       "0              53.0  had not been drinking                None   \n",
       "1              53.0  had not been drinking                None   \n",
       "2              67.0  had not been drinking                None   \n",
       "3              67.0  had not been drinking                None   \n",
       "4              18.0  had not been drinking                None   \n",
       "\n",
       "  cellphone_in_use       id  case_id party_number vehicle_type  \\\n",
       "0              0.0  1275428  5403341            2        sedan   \n",
       "1              0.0  1275427  5403341            1        coupe   \n",
       "2              0.0  1330991  5459631            1        sedan   \n",
       "3              0.0  1330992  5459631            2        coupe   \n",
       "4              NaN  1331228  5459847            2        sedan   \n",
       "\n",
       "  vehicle_transmission vehicle_age  \n",
       "0               manual         3.0  \n",
       "1               manual         5.0  \n",
       "2                 auto         5.0  \n",
       "3                 auto        10.0  \n",
       "4                 auto         4.0  \n",
       "\n",
       "[5 rows x 35 columns]"
      ]
     },
     "metadata": {},
     "output_type": "display_data"
    }
   ],
   "source": [
    "display(df.info())\n",
    "display(df.head())"
   ]
  },
  {
   "cell_type": "code",
   "execution_count": 21,
   "id": "fe2adc2f",
   "metadata": {},
   "outputs": [],
   "source": [
    "columns = [\n",
    "    'county_location', # В разных городах разный трафик. Поэтому и вероятность ДТП зависит от города\n",
    "    'direction', # Исследование показало, что направление на север и югболее аварийноопасное\n",
    "    'weather_1', # Погода влияет на много факторо, такие как видимость, сцепление с дорогой\n",
    "    'road_surface', # Состояние дороги влияет на вероятность ДТП и на степень повреждений\n",
    "    'road_condition_1', \n",
    "    'collision_date', # Согласно анализу, зима и весна более аварийноопасные времена \n",
    "    'collision_time', # Согласно анализу, час пик более аварийноопасное время\n",
    "    'at_fault', # Целевой признак\n",
    "    'party_sobriety', # Один из вариантов заказчика оборудовать ТС алкотестером, поэтому \n",
    "    'vehicle_age' # Возраст автомобиля влияет на его техническое состояние и как следствие на вероятность ДТП \n",
    "]"
   ]
  },
  {
   "cell_type": "code",
   "execution_count": 22,
   "id": "d5a3e1eb",
   "metadata": {},
   "outputs": [],
   "source": [
    "df_collisions = df[columns]\n",
    "del df"
   ]
  },
  {
   "cell_type": "code",
   "execution_count": 23,
   "id": "11e8e857",
   "metadata": {},
   "outputs": [
    {
     "data": {
      "text/html": [
       "<div>\n",
       "<style scoped>\n",
       "    .dataframe tbody tr th:only-of-type {\n",
       "        vertical-align: middle;\n",
       "    }\n",
       "\n",
       "    .dataframe tbody tr th {\n",
       "        vertical-align: top;\n",
       "    }\n",
       "\n",
       "    .dataframe thead th {\n",
       "        text-align: right;\n",
       "    }\n",
       "</style>\n",
       "<table border=\"1\" class=\"dataframe\">\n",
       "  <thead>\n",
       "    <tr style=\"text-align: right;\">\n",
       "      <th></th>\n",
       "      <th>county_location</th>\n",
       "      <th>direction</th>\n",
       "      <th>weather_1</th>\n",
       "      <th>road_surface</th>\n",
       "      <th>road_condition_1</th>\n",
       "      <th>collision_date</th>\n",
       "      <th>collision_time</th>\n",
       "      <th>at_fault</th>\n",
       "      <th>party_sobriety</th>\n",
       "      <th>vehicle_age</th>\n",
       "    </tr>\n",
       "  </thead>\n",
       "  <tbody>\n",
       "    <tr>\n",
       "      <th>0</th>\n",
       "      <td>los angeles</td>\n",
       "      <td>north</td>\n",
       "      <td>clear</td>\n",
       "      <td>dry</td>\n",
       "      <td>normal</td>\n",
       "      <td>2012-01-01</td>\n",
       "      <td>10:40:00</td>\n",
       "      <td>0</td>\n",
       "      <td>had not been drinking</td>\n",
       "      <td>3.0</td>\n",
       "    </tr>\n",
       "    <tr>\n",
       "      <th>1</th>\n",
       "      <td>los angeles</td>\n",
       "      <td>north</td>\n",
       "      <td>clear</td>\n",
       "      <td>dry</td>\n",
       "      <td>normal</td>\n",
       "      <td>2012-01-01</td>\n",
       "      <td>10:40:00</td>\n",
       "      <td>0</td>\n",
       "      <td>had not been drinking</td>\n",
       "      <td>5.0</td>\n",
       "    </tr>\n",
       "    <tr>\n",
       "      <th>2</th>\n",
       "      <td>tulare</td>\n",
       "      <td>west</td>\n",
       "      <td>cloudy</td>\n",
       "      <td>wet</td>\n",
       "      <td>normal</td>\n",
       "      <td>2012-02-07</td>\n",
       "      <td>15:00:00</td>\n",
       "      <td>0</td>\n",
       "      <td>had not been drinking</td>\n",
       "      <td>5.0</td>\n",
       "    </tr>\n",
       "    <tr>\n",
       "      <th>3</th>\n",
       "      <td>tulare</td>\n",
       "      <td>west</td>\n",
       "      <td>cloudy</td>\n",
       "      <td>wet</td>\n",
       "      <td>normal</td>\n",
       "      <td>2012-02-07</td>\n",
       "      <td>15:00:00</td>\n",
       "      <td>0</td>\n",
       "      <td>had not been drinking</td>\n",
       "      <td>10.0</td>\n",
       "    </tr>\n",
       "    <tr>\n",
       "      <th>4</th>\n",
       "      <td>los angeles</td>\n",
       "      <td>None</td>\n",
       "      <td>clear</td>\n",
       "      <td>dry</td>\n",
       "      <td>normal</td>\n",
       "      <td>2012-02-14</td>\n",
       "      <td>17:45:00</td>\n",
       "      <td>1</td>\n",
       "      <td>had not been drinking</td>\n",
       "      <td>4.0</td>\n",
       "    </tr>\n",
       "  </tbody>\n",
       "</table>\n",
       "</div>"
      ],
      "text/plain": [
       "  county_location direction weather_1 road_surface road_condition_1  \\\n",
       "0     los angeles     north     clear          dry           normal   \n",
       "1     los angeles     north     clear          dry           normal   \n",
       "2          tulare      west    cloudy          wet           normal   \n",
       "3          tulare      west    cloudy          wet           normal   \n",
       "4     los angeles      None     clear          dry           normal   \n",
       "\n",
       "  collision_date collision_time  at_fault         party_sobriety  vehicle_age  \n",
       "0     2012-01-01       10:40:00         0  had not been drinking          3.0  \n",
       "1     2012-01-01       10:40:00         0  had not been drinking          5.0  \n",
       "2     2012-02-07       15:00:00         0  had not been drinking          5.0  \n",
       "3     2012-02-07       15:00:00         0  had not been drinking         10.0  \n",
       "4     2012-02-14       17:45:00         1  had not been drinking          4.0  "
      ]
     },
     "execution_count": 23,
     "metadata": {},
     "output_type": "execute_result"
    }
   ],
   "source": [
    "df_collisions.head()"
   ]
  },
  {
   "cell_type": "code",
   "execution_count": 24,
   "id": "502395db",
   "metadata": {},
   "outputs": [],
   "source": [
    "df_collisions['collision_time'] = pd.to_datetime(df_collisions['collision_time'], format='%H:%M:%S')\n",
    "df_collisions['collision_date'] = pd.to_datetime(df_collisions['collision_date'], format='%Y-%m-%d')\n",
    "df_collisions['hour'] = df_collisions['collision_time'].dt.hour\n",
    "df_collisions['month'] = df_collisions['collision_date'].dt.month"
   ]
  },
  {
   "cell_type": "code",
   "execution_count": 25,
   "id": "8edbda40",
   "metadata": {},
   "outputs": [],
   "source": [
    "df_collisions.drop(['collision_date', 'collision_time'], inplace = True, axis=1)"
   ]
  },
  {
   "cell_type": "markdown",
   "id": "6d5d01b9",
   "metadata": {},
   "source": [
    "После отбора признаков, проверим датасет на дубликаты"
   ]
  },
  {
   "cell_type": "code",
   "execution_count": 26,
   "id": "8c152b2c",
   "metadata": {},
   "outputs": [
    {
     "data": {
      "text/html": [
       "<div>\n",
       "<style scoped>\n",
       "    .dataframe tbody tr th:only-of-type {\n",
       "        vertical-align: middle;\n",
       "    }\n",
       "\n",
       "    .dataframe tbody tr th {\n",
       "        vertical-align: top;\n",
       "    }\n",
       "\n",
       "    .dataframe thead th {\n",
       "        text-align: right;\n",
       "    }\n",
       "</style>\n",
       "<table border=\"1\" class=\"dataframe\">\n",
       "  <thead>\n",
       "    <tr style=\"text-align: right;\">\n",
       "      <th></th>\n",
       "      <th>county_location</th>\n",
       "      <th>direction</th>\n",
       "      <th>weather_1</th>\n",
       "      <th>road_surface</th>\n",
       "      <th>road_condition_1</th>\n",
       "      <th>at_fault</th>\n",
       "      <th>party_sobriety</th>\n",
       "      <th>vehicle_age</th>\n",
       "      <th>hour</th>\n",
       "      <th>month</th>\n",
       "    </tr>\n",
       "  </thead>\n",
       "  <tbody>\n",
       "    <tr>\n",
       "      <th>15</th>\n",
       "      <td>los angeles</td>\n",
       "      <td>None</td>\n",
       "      <td>clear</td>\n",
       "      <td>dry</td>\n",
       "      <td>normal</td>\n",
       "      <td>0</td>\n",
       "      <td>had not been drinking</td>\n",
       "      <td>NaN</td>\n",
       "      <td>8.0</td>\n",
       "      <td>1</td>\n",
       "    </tr>\n",
       "    <tr>\n",
       "      <th>16</th>\n",
       "      <td>los angeles</td>\n",
       "      <td>None</td>\n",
       "      <td>clear</td>\n",
       "      <td>dry</td>\n",
       "      <td>normal</td>\n",
       "      <td>0</td>\n",
       "      <td>had not been drinking</td>\n",
       "      <td>7.0</td>\n",
       "      <td>8.0</td>\n",
       "      <td>1</td>\n",
       "    </tr>\n",
       "    <tr>\n",
       "      <th>58</th>\n",
       "      <td>san francisco</td>\n",
       "      <td>None</td>\n",
       "      <td>clear</td>\n",
       "      <td>dry</td>\n",
       "      <td>normal</td>\n",
       "      <td>1</td>\n",
       "      <td>had not been drinking</td>\n",
       "      <td>3.0</td>\n",
       "      <td>21.0</td>\n",
       "      <td>2</td>\n",
       "    </tr>\n",
       "    <tr>\n",
       "      <th>71</th>\n",
       "      <td>los angeles</td>\n",
       "      <td>north</td>\n",
       "      <td>clear</td>\n",
       "      <td>dry</td>\n",
       "      <td>normal</td>\n",
       "      <td>0</td>\n",
       "      <td>impairment unknown</td>\n",
       "      <td>5.0</td>\n",
       "      <td>17.0</td>\n",
       "      <td>3</td>\n",
       "    </tr>\n",
       "    <tr>\n",
       "      <th>94</th>\n",
       "      <td>orange</td>\n",
       "      <td>north</td>\n",
       "      <td>clear</td>\n",
       "      <td>dry</td>\n",
       "      <td>normal</td>\n",
       "      <td>0</td>\n",
       "      <td>had not been drinking</td>\n",
       "      <td>4.0</td>\n",
       "      <td>15.0</td>\n",
       "      <td>1</td>\n",
       "    </tr>\n",
       "    <tr>\n",
       "      <th>...</th>\n",
       "      <td>...</td>\n",
       "      <td>...</td>\n",
       "      <td>...</td>\n",
       "      <td>...</td>\n",
       "      <td>...</td>\n",
       "      <td>...</td>\n",
       "      <td>...</td>\n",
       "      <td>...</td>\n",
       "      <td>...</td>\n",
       "      <td>...</td>\n",
       "    </tr>\n",
       "    <tr>\n",
       "      <th>118403</th>\n",
       "      <td>riverside</td>\n",
       "      <td>east</td>\n",
       "      <td>clear</td>\n",
       "      <td>dry</td>\n",
       "      <td>normal</td>\n",
       "      <td>0</td>\n",
       "      <td>had not been drinking</td>\n",
       "      <td>8.0</td>\n",
       "      <td>16.0</td>\n",
       "      <td>1</td>\n",
       "    </tr>\n",
       "    <tr>\n",
       "      <th>118405</th>\n",
       "      <td>orange</td>\n",
       "      <td>east</td>\n",
       "      <td>clear</td>\n",
       "      <td>dry</td>\n",
       "      <td>normal</td>\n",
       "      <td>1</td>\n",
       "      <td>had not been drinking</td>\n",
       "      <td>3.0</td>\n",
       "      <td>14.0</td>\n",
       "      <td>1</td>\n",
       "    </tr>\n",
       "    <tr>\n",
       "      <th>118408</th>\n",
       "      <td>san bernardino</td>\n",
       "      <td>east</td>\n",
       "      <td>clear</td>\n",
       "      <td>dry</td>\n",
       "      <td>normal</td>\n",
       "      <td>0</td>\n",
       "      <td>had not been drinking</td>\n",
       "      <td>4.0</td>\n",
       "      <td>16.0</td>\n",
       "      <td>1</td>\n",
       "    </tr>\n",
       "    <tr>\n",
       "      <th>118409</th>\n",
       "      <td>san bernardino</td>\n",
       "      <td>east</td>\n",
       "      <td>clear</td>\n",
       "      <td>dry</td>\n",
       "      <td>normal</td>\n",
       "      <td>0</td>\n",
       "      <td>had not been drinking</td>\n",
       "      <td>4.0</td>\n",
       "      <td>16.0</td>\n",
       "      <td>1</td>\n",
       "    </tr>\n",
       "    <tr>\n",
       "      <th>118410</th>\n",
       "      <td>san bernardino</td>\n",
       "      <td>east</td>\n",
       "      <td>clear</td>\n",
       "      <td>dry</td>\n",
       "      <td>normal</td>\n",
       "      <td>0</td>\n",
       "      <td>had not been drinking</td>\n",
       "      <td>7.0</td>\n",
       "      <td>16.0</td>\n",
       "      <td>1</td>\n",
       "    </tr>\n",
       "  </tbody>\n",
       "</table>\n",
       "<p>35930 rows × 10 columns</p>\n",
       "</div>"
      ],
      "text/plain": [
       "       county_location direction weather_1 road_surface road_condition_1  \\\n",
       "15         los angeles      None     clear          dry           normal   \n",
       "16         los angeles      None     clear          dry           normal   \n",
       "58       san francisco      None     clear          dry           normal   \n",
       "71         los angeles     north     clear          dry           normal   \n",
       "94              orange     north     clear          dry           normal   \n",
       "...                ...       ...       ...          ...              ...   \n",
       "118403       riverside      east     clear          dry           normal   \n",
       "118405          orange      east     clear          dry           normal   \n",
       "118408  san bernardino      east     clear          dry           normal   \n",
       "118409  san bernardino      east     clear          dry           normal   \n",
       "118410  san bernardino      east     clear          dry           normal   \n",
       "\n",
       "        at_fault         party_sobriety  vehicle_age  hour  month  \n",
       "15             0  had not been drinking          NaN   8.0      1  \n",
       "16             0  had not been drinking          7.0   8.0      1  \n",
       "58             1  had not been drinking          3.0  21.0      2  \n",
       "71             0     impairment unknown          5.0  17.0      3  \n",
       "94             0  had not been drinking          4.0  15.0      1  \n",
       "...          ...                    ...          ...   ...    ...  \n",
       "118403         0  had not been drinking          8.0  16.0      1  \n",
       "118405         1  had not been drinking          3.0  14.0      1  \n",
       "118408         0  had not been drinking          4.0  16.0      1  \n",
       "118409         0  had not been drinking          4.0  16.0      1  \n",
       "118410         0  had not been drinking          7.0  16.0      1  \n",
       "\n",
       "[35930 rows x 10 columns]"
      ]
     },
     "execution_count": 26,
     "metadata": {},
     "output_type": "execute_result"
    }
   ],
   "source": [
    "df_collisions[df_collisions.duplicated()]"
   ]
  },
  {
   "cell_type": "code",
   "execution_count": 27,
   "id": "f2aad970",
   "metadata": {},
   "outputs": [],
   "source": [
    "df_collisions.drop_duplicates(inplace = True)"
   ]
  },
  {
   "cell_type": "code",
   "execution_count": 28,
   "id": "3fdce7dc",
   "metadata": {},
   "outputs": [
    {
     "name": "stdout",
     "output_type": "stream",
     "text": [
      "<class 'pandas.core.frame.DataFrame'>\n",
      "Int64Index: 82481 entries, 0 to 118407\n",
      "Data columns (total 10 columns):\n",
      " #   Column            Non-Null Count  Dtype  \n",
      "---  ------            --------------  -----  \n",
      " 0   county_location   82481 non-null  object \n",
      " 1   direction         62570 non-null  object \n",
      " 2   weather_1         82173 non-null  object \n",
      " 3   road_surface      81870 non-null  object \n",
      " 4   road_condition_1  82032 non-null  object \n",
      " 5   at_fault          82481 non-null  int64  \n",
      " 6   party_sobriety    80917 non-null  object \n",
      " 7   vehicle_age       79889 non-null  float64\n",
      " 8   hour              82361 non-null  float64\n",
      " 9   month             82481 non-null  int64  \n",
      "dtypes: float64(2), int64(2), object(6)\n",
      "memory usage: 6.9+ MB\n"
     ]
    }
   ],
   "source": [
    "df_collisions.info()"
   ]
  },
  {
   "cell_type": "code",
   "execution_count": 29,
   "id": "1f3aaa18",
   "metadata": {},
   "outputs": [],
   "source": [
    "def pass_value_barh(df):\n",
    "    try:\n",
    "        (\n",
    "            (df.isna().mean()*100)\n",
    "            .to_frame()\n",
    "            .rename(columns = {0:'space'})\n",
    "            .query('space > 0')\n",
    "            .sort_values(by = 'space', ascending = True)\n",
    "            .plot(kind = 'barh', figsize = (19,6), rot = -5, legend = False, fontsize = 16)\n",
    "            .set_title('Процент пропусков' + \"\\n\", fontsize = 22, color = 'SteelBlue')\n",
    "        );\n",
    "    except:\n",
    "        print('Пропусков нет')"
   ]
  },
  {
   "cell_type": "code",
   "execution_count": 30,
   "id": "42feee8f",
   "metadata": {},
   "outputs": [
    {
     "data": {
      "image/png": "[encoded data removed]",
      "text/plain": [
       "<Figure size 1368x432 with 1 Axes>"
      ]
     },
     "metadata": {
      "needs_background": "light"
     },
     "output_type": "display_data"
    }
   ],
   "source": [
    "pass_value_barh(df_collisions)"
   ]
  },
  {
   "cell_type": "markdown",
   "id": "b58ff2cb",
   "metadata": {},
   "source": [
    "Записи с пропусками в полях удалим."
   ]
  },
  {
   "cell_type": "code",
   "execution_count": 31,
   "id": "ef3b00fa",
   "metadata": {},
   "outputs": [],
   "source": [
    "df_collisions = df_collisions.dropna()"
   ]
  },
  {
   "cell_type": "code",
   "execution_count": 32,
   "id": "dd877bf0",
   "metadata": {},
   "outputs": [
    {
     "name": "stdout",
     "output_type": "stream",
     "text": [
      "interval columns not set, guessing: ['at_fault', 'vehicle_age', 'hour', 'month']\n"
     ]
    },
    {
     "data": {
      "image/png": "[encoded data removed]",
      "text/plain": [
       "<Figure size 1080x864 with 2 Axes>"
      ]
     },
     "metadata": {
      "needs_background": "light"
     },
     "output_type": "display_data"
    }
   ],
   "source": [
    "phik_overview = df_collisions.sample(1000).phik_matrix()\n",
    "\n",
    "plot_correlation_matrix(\n",
    "    phik_overview.values,\n",
    "    x_labels=phik_overview.columns,\n",
    "    y_labels=phik_overview.index,\n",
    "    title=r\"correlation $\\phi_K$\",\n",
    "    fontsize_factor=1.5,\n",
    "    figsize=(15, 12)\n",
    ");"
   ]
  },
  {
   "cell_type": "markdown",
   "id": "5753e040",
   "metadata": {},
   "source": [
    "### Подготовка пайплайна к обучению"
   ]
  },
  {
   "cell_type": "code",
   "execution_count": 33,
   "id": "0cd53461",
   "metadata": {},
   "outputs": [],
   "source": [
    "RANDOM_STATE = 42\n",
    "TEST_SIZE = 0.25"
   ]
  },
  {
   "cell_type": "code",
   "execution_count": 34,
   "id": "9df62041",
   "metadata": {},
   "outputs": [],
   "source": [
    "num_columns = [\n",
    "    'month',\n",
    "    'hour',\n",
    "    'vehicle_age'\n",
    "]\n",
    "ohe_columns = [\n",
    "    'county_location',\n",
    "    'direction',\n",
    "    'weather_1',\n",
    "    'road_surface',\n",
    "    'road_condition_1', \n",
    "    'party_sobriety', \n",
    "]\n",
    "target_column = 'at_fault'"
   ]
  },
  {
   "cell_type": "code",
   "execution_count": 35,
   "id": "e3afaef4",
   "metadata": {},
   "outputs": [
    {
     "data": {
      "text/plain": [
       "((44185, 9), (14729, 9), (44185,), (14729,))"
      ]
     },
     "execution_count": 35,
     "metadata": {},
     "output_type": "execute_result"
    }
   ],
   "source": [
    "X_train, X_test, y_train, y_test = train_test_split(\n",
    "    df_collisions[ohe_columns+num_columns],\n",
    "    df_collisions[target_column],\n",
    "    test_size = TEST_SIZE, \n",
    "    random_state = RANDOM_STATE,\n",
    "    stratify = df_collisions[target_column])\n",
    "\n",
    "label_encoder = LabelEncoder()\n",
    "y_train = label_encoder.fit_transform(y_train)\n",
    "y_test = label_encoder.transform(y_test)\n",
    "\n",
    "X_train.shape, X_test.shape, y_train.shape, y_test.shape"
   ]
  },
  {
   "cell_type": "code",
   "execution_count": 36,
   "id": "70452f27",
   "metadata": {},
   "outputs": [],
   "source": [
    "ohe_pipe = Pipeline(\n",
    "    [('simpleImputer_ohe', SimpleImputer(missing_values=np.nan, strategy='most_frequent')),\n",
    "     ('ohe', OneHotEncoder(drop='first', handle_unknown='ignore', sparse=False))\n",
    "    ]\n",
    ")"
   ]
  },
  {
   "cell_type": "code",
   "execution_count": 37,
   "id": "408459d7",
   "metadata": {},
   "outputs": [],
   "source": [
    "data_preprocessor = ColumnTransformer(\n",
    "    [('ohe', ohe_pipe, ohe_columns),\n",
    "     ('num', StandardScaler(), num_columns),\n",
    "    ], \n",
    "    remainder='passthrough'\n",
    ")"
   ]
  },
  {
   "cell_type": "code",
   "execution_count": 38,
   "id": "4e987527",
   "metadata": {},
   "outputs": [],
   "source": [
    "pipe_final = Pipeline([\n",
    "    ('preprocessor', data_preprocessor),\n",
    "    ('models', DecisionTreeClassifier(random_state=RANDOM_STATE))\n",
    "])"
   ]
  },
  {
   "cell_type": "code",
   "execution_count": 39,
   "id": "181f08b8",
   "metadata": {},
   "outputs": [],
   "source": [
    "param_grid = [\n",
    "    # словарь для модели DecisionTreeClassifier()\n",
    "    {\n",
    "        'models': [DecisionTreeClassifier(random_state=RANDOM_STATE)],\n",
    "        'preprocessor__num': [StandardScaler(), MinMaxScaler(), 'passthrough']  \n",
    "    },\n",
    "    # словарь для модели LogisticRegression()\n",
    "    {\n",
    "        'models': [LogisticRegression(\n",
    "            random_state=RANDOM_STATE,\n",
    "            solver='liblinear',\n",
    "            penalty='l1'\n",
    "        )],\n",
    "        'models__C': [1, 2, 4],\n",
    "        'preprocessor__num': [StandardScaler(), MinMaxScaler(), 'passthrough']  \n",
    "    },\n",
    "    # словарь для модели LGBMClassifier()\n",
    "    {\n",
    "        'models': [lgb.LGBMClassifier()],\n",
    "        'models__num_leaves': [2, 4, 8],\n",
    "        'preprocessor__num': [StandardScaler(), MinMaxScaler(), 'passthrough']  \n",
    "    }\n",
    "]"
   ]
  },
  {
   "cell_type": "markdown",
   "id": "51952a04",
   "metadata": {},
   "source": [
    "### Обучение моделей"
   ]
  },
  {
   "cell_type": "code",
   "execution_count": 40,
   "id": "6004798d",
   "metadata": {},
   "outputs": [
    {
     "name": "stderr",
     "output_type": "stream",
     "text": [
      "/home/iuser24/anaconda3/lib/python3.8/site-packages/sklearn/preprocessing/_encoders.py:972: FutureWarning: `sparse` was renamed to `sparse_output` in version 1.2 and will be removed in 1.4. `sparse_output` is ignored unless you leave `sparse` to its default value.\n",
      "  warnings.warn(\n"
     ]
    },
    {
     "name": "stdout",
     "output_type": "stream",
     "text": [
      "[LightGBM] [Info] Number of positive: 24555, number of negative: 19630\n",
      "[LightGBM] [Info] Auto-choosing row-wise multi-threading, the overhead of testing was 0.003509 seconds.\n",
      "You can set `force_row_wise=true` to remove the overhead.\n",
      "And if memory is not enough, you can set `force_col_wise=true`.\n",
      "[LightGBM] [Info] Total Bins 209\n",
      "[LightGBM] [Info] Number of data points in the train set: 44185, number of used features: 81\n",
      "[LightGBM] [Info] [binary:BoostFromScore]: pavg=0.555732 -> initscore=0.223856\n",
      "[LightGBM] [Info] Start training from score 0.223856\n",
      "Лучшая модель и её параметры:\n",
      "\n",
      " Pipeline(steps=[('preprocessor',\n",
      "                 ColumnTransformer(remainder='passthrough',\n",
      "                                   transformers=[('ohe',\n",
      "                                                  Pipeline(steps=[('simpleImputer_ohe',\n",
      "                                                                   SimpleImputer(strategy='most_frequent')),\n",
      "                                                                  ('ohe',\n",
      "                                                                   OneHotEncoder(drop='first',\n",
      "                                                                                 handle_unknown='ignore',\n",
      "                                                                                 sparse=False))]),\n",
      "                                                  ['county_location',\n",
      "                                                   'direction', 'weather_1',\n",
      "                                                   'road_surface',\n",
      "                                                   'road_condition_1',\n",
      "                                                   'party_sobriety']),\n",
      "                                                 ('num', MinMaxScaler(),\n",
      "                                                  ['month', 'hour',\n",
      "                                                   'vehicle_age'])])),\n",
      "                ('models', LGBMClassifier(num_leaves=4))])\n",
      "Метрика лучшей модели на тренировочной выборке: 0.6250880912022072\n"
     ]
    }
   ],
   "source": [
    "searchcv = RandomizedSearchCV(\n",
    "    pipe_final, \n",
    "    param_grid, \n",
    "    cv=5,\n",
    "    scoring='roc_auc',\n",
    "    n_jobs=-1\n",
    ")\n",
    "searchcv.fit(X_train, y_train)\n",
    "\n",
    "print('Лучшая модель и её параметры:\\n\\n', searchcv.best_estimator_)\n",
    "print ('Метрика лучшей модели на тренировочной выборке:', searchcv.best_score_)"
   ]
  },
  {
   "cell_type": "code",
   "execution_count": 41,
   "id": "c7b6c6d1",
   "metadata": {},
   "outputs": [],
   "source": [
    "y_test_pred = searchcv.predict(X_test)"
   ]
  },
  {
   "cell_type": "code",
   "execution_count": 42,
   "id": "35a3a5de",
   "metadata": {},
   "outputs": [
    {
     "name": "stdout",
     "output_type": "stream",
     "text": [
      "Метрика roc_auc score на тестовой выборке: 0.5704183083582138\n"
     ]
    }
   ],
   "source": [
    "print(f\"Метрика roc_auc score на тестовой выборке: {roc_auc_score(y_test, y_test_pred)}\")"
   ]
  },
  {
   "cell_type": "code",
   "execution_count": 43,
   "id": "7ab6198e",
   "metadata": {},
   "outputs": [
    {
     "data": {
      "image/png": "[encoded data removed]",
      "text/plain": [
       "<Figure size 432x288 with 2 Axes>"
      ]
     },
     "metadata": {
      "needs_background": "light"
     },
     "output_type": "display_data"
    }
   ],
   "source": [
    "c_matrix = confusion_matrix(y_test, y_test_pred)\n",
    "cm_display = ConfusionMatrixDisplay(confusion_matrix = c_matrix, display_labels = [0, 1])\n",
    "cm_display.plot()\n",
    "plt.show()"
   ]
  },
  {
   "cell_type": "code",
   "execution_count": 44,
   "id": "dd6c494b",
   "metadata": {},
   "outputs": [
    {
     "name": "stdout",
     "output_type": "stream",
     "text": [
      "recall=0.6412950519242516)\n",
      "precision=0.6157907085875176)\n"
     ]
    }
   ],
   "source": [
    "print(f\"recall={recall_score(y_test, y_test_pred)})\")\n",
    "print(f\"precision={precision_score(y_test, y_test_pred)})\")"
   ]
  },
  {
   "cell_type": "markdown",
   "id": "4293faa1",
   "metadata": {},
   "source": [
    "Лучше всего модель предсказывает TP. Это говорит о том, что редко ошибается с предсказанием вероятности виновника ДТП."
   ]
  },
  {
   "cell_type": "markdown",
   "id": "d6b88f9e",
   "metadata": {},
   "source": [
    "## Проведите анализ важности факторов ДТП"
   ]
  },
  {
   "cell_type": "code",
   "execution_count": 45,
   "id": "1c9968fe",
   "metadata": {},
   "outputs": [],
   "source": [
    "best_model = searchcv.best_estimator_.named_steps['models']\n",
    "preprocessor = searchcv.best_estimator_.named_steps['preprocessor']"
   ]
  },
  {
   "cell_type": "code",
   "execution_count": 46,
   "id": "409a3bad",
   "metadata": {},
   "outputs": [],
   "source": [
    "import shap\n",
    "SAMPLE_COUNT = 20"
   ]
  },
  {
   "cell_type": "code",
   "execution_count": 47,
   "id": "95f18762",
   "metadata": {},
   "outputs": [],
   "source": [
    "X_train_preprocessed = preprocessor.transform(X_train)\n",
    "X_test_preprocessed = preprocessor.transform(X_test)"
   ]
  },
  {
   "cell_type": "code",
   "execution_count": 48,
   "id": "808024a6",
   "metadata": {},
   "outputs": [],
   "source": [
    "X_train_preprocessed_sample = shap.sample(X_train_preprocessed, SAMPLE_COUNT, random_state=RANDOM_STATE)\n",
    "X_test_preprocessed_sample = shap.sample(X_test_preprocessed, SAMPLE_COUNT, random_state=RANDOM_STATE)"
   ]
  },
  {
   "cell_type": "code",
   "execution_count": 49,
   "id": "79cb244e",
   "metadata": {},
   "outputs": [
    {
     "data": {
      "application/vnd.jupyter.widget-view+json": {
       "model_id": "7b2b50887d344e11bd13a31570075808",
       "version_major": 2,
       "version_minor": 0
      },
      "text/plain": [
       "  0%|          | 0/20 [00:00<?, ?it/s]"
      ]
     },
     "metadata": {},
     "output_type": "display_data"
    }
   ],
   "source": [
    "explainer = shap.KernelExplainer(best_model.predict_proba, X_train_preprocessed_sample)\n",
    "shap_values = explainer.shap_values(X_test_preprocessed_sample)"
   ]
  },
  {
   "cell_type": "code",
   "execution_count": 50,
   "id": "f9a7d0b7",
   "metadata": {},
   "outputs": [],
   "source": [
    "features_names = searchcv.best_estimator_.named_steps['preprocessor'].transformers_[0][1]\\\n",
    "                            .named_steps['ohe'].get_feature_names_out(ohe_columns)"
   ]
  },
  {
   "cell_type": "code",
   "execution_count": 51,
   "id": "bab51af7",
   "metadata": {},
   "outputs": [
    {
     "data": {
      "image/png": "[encoded data removed]",
      "text/plain": [
       "<Figure size 576x684 with 1 Axes>"
      ]
     },
     "metadata": {
      "needs_background": "light"
     },
     "output_type": "display_data"
    }
   ],
   "source": [
    "shap.summary_plot(shap_values, feature_names=list(features_names)+num_columns) "
   ]
  },
  {
   "cell_type": "markdown",
   "id": "9b617805",
   "metadata": {},
   "source": [
    "Наиболее влиятельные факторы это:\n",
    "- состояние алкогольного опьянения\n",
    "- возраст автомобиля\n",
    "- время суток\n",
    "- время года\n",
    "- город\n",
    "\n",
    "Предлагается:\n",
    "- оборудовать автомобиль анализатором алкогольного опьянения\n",
    "- регулировать цены на аренду в зависимости от времени суток, времени года и города\n",
    "- чаще обновлять автопарк"
   ]
  },
  {
   "cell_type": "markdown",
   "id": "043dc9ea",
   "metadata": {},
   "source": [
    "## Выводы"
   ]
  },
  {
   "cell_type": "markdown",
   "id": "c6b2bd23",
   "metadata": {},
   "source": [
    "В ходе работы было выполнено подключение к базе данных и получены таблицы для работы. Таблицы соответствуют описанию. Все таблицы имеют общий ключ ```case_id```. Для анализа были поставлены следующие задачи:\n",
    "- Найти самые частые причины ДТП\n",
    "- Найдите аврийноопасное время\n",
    "- Провести анализ серьёзности повреждений транспортного средства, исходя из погоды в момент ДТП\n",
    "- Проанализировать какую долю ДТП занимают ДТП с участниками в алкогольном опьянении\n",
    "- Сравнить количество ДТП с разным типом КПП (связать collisions, parties и vehicles)\n",
    "\n",
    "Поставленные задачи были успешно проанализированы и на основе их результатов было выгружен датасет для обучения моделей. Были обучены модели:\n",
    "- DecisionTreeClassifier\n",
    "- LogisticRegression\n",
    "- LGBMClassifier\n",
    "\n",
    "Наилучшую метрику показала модель LGBMClassifier. Исходя из результатов обучения были выявлены аиболее влиятельные факторы на вероятность ДТП:\n",
    "- состояние алкогольного опьянения\n",
    "- возраст автомобиля\n",
    "- время суток\n",
    "- время года\n",
    "- город\n",
    "\n",
    "Предлагается:\n",
    "- оборудовать автомобиль анализатором алкогольного опьянения\n",
    "- регулировать цены на аренду в зависимости от времени суток, времени года и города\n",
    "- чаще обновлять автопарк"
   ]
  }
 ],
 "metadata": {
  "ExecuteTimeLog": [
   {
    "duration": 12,
    "start_time": "2024-09-28T22:00:40.337Z"
   },
   {
    "duration": 3,
    "start_time": "2024-09-28T22:01:00.625Z"
   },
   {
    "duration": 45,
    "start_time": "2024-09-28T22:01:10.417Z"
   },
   {
    "duration": 2828,
    "start_time": "2024-09-28T22:01:37.865Z"
   },
   {
    "duration": 1075,
    "start_time": "2024-09-28T22:01:45.071Z"
   },
   {
    "duration": 7287,
    "start_time": "2024-09-28T22:01:49.071Z"
   },
   {
    "duration": 3,
    "start_time": "2024-09-28T22:03:34.807Z"
   },
   {
    "duration": 4093,
    "start_time": "2024-09-28T22:03:50.726Z"
   },
   {
    "duration": 4217,
    "start_time": "2024-09-28T22:03:59.335Z"
   },
   {
    "duration": 3477,
    "start_time": "2024-09-28T22:04:17.495Z"
   },
   {
    "duration": 2,
    "start_time": "2024-09-28T22:04:53.183Z"
   },
   {
    "duration": 172,
    "start_time": "2024-09-28T22:04:55.089Z"
   },
   {
    "duration": 2,
    "start_time": "2024-09-28T22:05:01.504Z"
   },
   {
    "duration": 2,
    "start_time": "2024-09-28T22:05:02.320Z"
   },
   {
    "duration": 350,
    "start_time": "2024-09-28T22:05:02.664Z"
   },
   {
    "duration": 3,
    "start_time": "2024-09-28T22:05:16.264Z"
   },
   {
    "duration": 4381,
    "start_time": "2024-09-28T22:05:16.607Z"
   },
   {
    "duration": 4674,
    "start_time": "2024-09-28T22:05:34.719Z"
   },
   {
    "duration": 2670,
    "start_time": "2024-09-30T09:46:55.270Z"
   },
   {
    "duration": 819,
    "start_time": "2024-09-30T09:46:57.943Z"
   },
   {
    "duration": 4,
    "start_time": "2024-09-30T09:46:58.763Z"
   },
   {
    "duration": 9,
    "start_time": "2024-09-30T09:46:58.768Z"
   },
   {
    "duration": 5457,
    "start_time": "2024-09-30T09:46:58.779Z"
   },
   {
    "duration": 3,
    "start_time": "2024-09-30T09:47:04.237Z"
   },
   {
    "duration": 3883,
    "start_time": "2024-09-30T09:47:04.241Z"
   },
   {
    "duration": 3,
    "start_time": "2024-09-30T11:03:20.761Z"
   },
   {
    "duration": 2,
    "start_time": "2024-09-30T11:03:45.626Z"
   },
   {
    "duration": 4230,
    "start_time": "2024-09-30T11:03:46.871Z"
   },
   {
    "duration": 181,
    "start_time": "2024-09-30T11:04:20.655Z"
   },
   {
    "duration": 61,
    "start_time": "2024-09-30T11:04:28.720Z"
   },
   {
    "duration": 3824,
    "start_time": "2024-09-30T11:04:48.442Z"
   },
   {
    "duration": 18286,
    "start_time": "2024-09-30T11:39:04.351Z"
   },
   {
    "duration": 2354,
    "start_time": "2024-09-30T11:40:08.680Z"
   },
   {
    "duration": 670,
    "start_time": "2024-09-30T11:40:11.035Z"
   },
   {
    "duration": 3,
    "start_time": "2024-09-30T11:40:11.706Z"
   },
   {
    "duration": 10,
    "start_time": "2024-09-30T11:40:11.710Z"
   },
   {
    "duration": 5544,
    "start_time": "2024-09-30T11:40:11.722Z"
   },
   {
    "duration": 2,
    "start_time": "2024-09-30T11:40:17.268Z"
   },
   {
    "duration": 3754,
    "start_time": "2024-09-30T11:40:17.271Z"
   },
   {
    "duration": 3879,
    "start_time": "2024-09-30T11:40:21.027Z"
   },
   {
    "duration": 18506,
    "start_time": "2024-09-30T11:40:24.908Z"
   },
   {
    "duration": 709,
    "start_time": "2024-09-30T11:40:57.202Z"
   },
   {
    "duration": 2,
    "start_time": "2024-09-30T11:40:59.820Z"
   },
   {
    "duration": 3,
    "start_time": "2024-09-30T11:41:00.977Z"
   },
   {
    "duration": 5486,
    "start_time": "2024-09-30T11:41:02.044Z"
   },
   {
    "duration": 3,
    "start_time": "2024-09-30T11:41:07.531Z"
   },
   {
    "duration": 11529,
    "start_time": "2024-09-30T11:41:07.535Z"
   },
   {
    "duration": 2,
    "start_time": "2024-09-30T12:30:35.482Z"
   },
   {
    "duration": 75,
    "start_time": "2024-09-30T12:30:58.160Z"
   },
   {
    "duration": 3,
    "start_time": "2024-09-30T12:31:05.299Z"
   },
   {
    "duration": 7,
    "start_time": "2024-09-30T12:31:09.198Z"
   },
   {
    "duration": 4,
    "start_time": "2024-09-30T12:31:16.188Z"
   },
   {
    "duration": 3,
    "start_time": "2024-09-30T12:31:22.914Z"
   },
   {
    "duration": 7,
    "start_time": "2024-09-30T12:31:31.470Z"
   },
   {
    "duration": 7,
    "start_time": "2024-09-30T12:32:01.207Z"
   },
   {
    "duration": 3,
    "start_time": "2024-09-30T12:39:20.723Z"
   },
   {
    "duration": 71,
    "start_time": "2024-09-30T12:39:26.457Z"
   },
   {
    "duration": 3,
    "start_time": "2024-09-30T12:39:45.071Z"
   },
   {
    "duration": 38,
    "start_time": "2024-09-30T12:39:47.003Z"
   },
   {
    "duration": 811,
    "start_time": "2024-09-30T12:49:05.169Z"
   },
   {
    "duration": 815,
    "start_time": "2024-09-30T12:49:19.186Z"
   },
   {
    "duration": 795,
    "start_time": "2024-09-30T12:50:19.316Z"
   },
   {
    "duration": 804,
    "start_time": "2024-09-30T12:50:47.754Z"
   },
   {
    "duration": 12,
    "start_time": "2024-09-30T13:58:49.619Z"
   },
   {
    "duration": 3412,
    "start_time": "2024-09-30T13:58:53.018Z"
   },
   {
    "duration": 5,
    "start_time": "2024-09-30T13:58:58.368Z"
   },
   {
    "duration": 149,
    "start_time": "2024-09-30T13:59:05.526Z"
   },
   {
    "duration": 3,
    "start_time": "2024-09-30T14:03:57.370Z"
   },
   {
    "duration": 2291,
    "start_time": "2024-09-30T14:04:34.603Z"
   },
   {
    "duration": 695,
    "start_time": "2024-09-30T14:04:36.896Z"
   },
   {
    "duration": 3,
    "start_time": "2024-09-30T14:04:37.594Z"
   },
   {
    "duration": 4,
    "start_time": "2024-09-30T14:04:37.599Z"
   },
   {
    "duration": 5250,
    "start_time": "2024-09-30T14:04:37.604Z"
   },
   {
    "duration": 3,
    "start_time": "2024-09-30T14:04:42.855Z"
   },
   {
    "duration": 4,
    "start_time": "2024-09-30T14:04:42.859Z"
   },
   {
    "duration": 33632,
    "start_time": "2024-09-30T14:04:42.865Z"
   },
   {
    "duration": 3,
    "start_time": "2024-09-30T14:07:27.213Z"
   },
   {
    "duration": 34420,
    "start_time": "2024-09-30T14:08:14.624Z"
   },
   {
    "duration": 3,
    "start_time": "2024-09-30T14:20:38.461Z"
   },
   {
    "duration": 3,
    "start_time": "2024-09-30T14:20:39.457Z"
   },
   {
    "duration": 35721,
    "start_time": "2024-09-30T14:20:40.120Z"
   },
   {
    "duration": 3,
    "start_time": "2024-09-30T14:24:11.322Z"
   },
   {
    "duration": 37375,
    "start_time": "2024-09-30T14:24:13.106Z"
   },
   {
    "duration": 2195,
    "start_time": "2024-10-01T12:47:32.549Z"
   },
   {
    "duration": 634,
    "start_time": "2024-10-01T12:47:34.746Z"
   },
   {
    "duration": 3,
    "start_time": "2024-10-01T12:47:35.382Z"
   },
   {
    "duration": 17,
    "start_time": "2024-10-01T12:47:35.390Z"
   },
   {
    "duration": 5344,
    "start_time": "2024-10-01T12:47:35.409Z"
   },
   {
    "duration": 2,
    "start_time": "2024-10-01T12:47:40.755Z"
   },
   {
    "duration": 6,
    "start_time": "2024-10-01T12:47:40.759Z"
   },
   {
    "duration": 340,
    "start_time": "2024-10-01T12:47:40.766Z"
   },
   {
    "duration": 2,
    "start_time": "2024-10-01T12:47:41.107Z"
   },
   {
    "duration": 2,
    "start_time": "2024-10-01T13:42:21.568Z"
   },
   {
    "duration": 46,
    "start_time": "2024-10-01T13:42:36.902Z"
   },
   {
    "duration": 1020,
    "start_time": "2024-10-01T13:42:49.097Z"
   },
   {
    "duration": 45,
    "start_time": "2024-10-01T13:42:57.370Z"
   },
   {
    "duration": 42,
    "start_time": "2024-10-01T13:43:16.338Z"
   },
   {
    "duration": 44,
    "start_time": "2024-10-01T13:43:27.740Z"
   },
   {
    "duration": 45,
    "start_time": "2024-10-01T13:43:32.441Z"
   },
   {
    "duration": 44,
    "start_time": "2024-10-01T13:43:36.026Z"
   },
   {
    "duration": 3,
    "start_time": "2024-10-01T13:46:27.316Z"
   },
   {
    "duration": 486,
    "start_time": "2024-10-01T13:46:28.801Z"
   },
   {
    "duration": 3,
    "start_time": "2024-10-01T13:46:35.343Z"
   },
   {
    "duration": 474,
    "start_time": "2024-10-01T13:46:40.854Z"
   },
   {
    "duration": 4,
    "start_time": "2024-10-01T14:00:05.462Z"
   },
   {
    "duration": 433,
    "start_time": "2024-10-01T14:00:06.066Z"
   },
   {
    "duration": 4,
    "start_time": "2024-10-01T14:01:27.130Z"
   },
   {
    "duration": 3,
    "start_time": "2024-10-01T14:01:27.648Z"
   },
   {
    "duration": 4,
    "start_time": "2024-10-01T14:01:28.559Z"
   },
   {
    "duration": 3,
    "start_time": "2024-10-01T14:01:33.453Z"
   },
   {
    "duration": 143,
    "start_time": "2024-10-01T14:01:35.434Z"
   },
   {
    "duration": 2,
    "start_time": "2024-10-01T14:01:42.997Z"
   },
   {
    "duration": 3,
    "start_time": "2024-10-01T14:33:28.552Z"
   },
   {
    "duration": 3,
    "start_time": "2024-10-01T14:33:28.903Z"
   },
   {
    "duration": 3,
    "start_time": "2024-10-01T14:33:29.281Z"
   },
   {
    "duration": 2,
    "start_time": "2024-10-01T14:33:29.840Z"
   },
   {
    "duration": 3,
    "start_time": "2024-10-01T14:33:30.518Z"
   },
   {
    "duration": 3,
    "start_time": "2024-10-01T14:33:31.040Z"
   },
   {
    "duration": 458,
    "start_time": "2024-10-01T14:33:31.575Z"
   },
   {
    "duration": 3,
    "start_time": "2024-10-01T14:34:59.711Z"
   },
   {
    "duration": 425,
    "start_time": "2024-10-01T14:35:01.239Z"
   },
   {
    "duration": 33314,
    "start_time": "2024-10-01T14:48:57.204Z"
   },
   {
    "duration": 70,
    "start_time": "2024-10-01T14:50:10.254Z"
   },
   {
    "duration": 63,
    "start_time": "2024-10-01T14:50:20.478Z"
   },
   {
    "duration": 62,
    "start_time": "2024-10-01T14:50:23.803Z"
   },
   {
    "duration": 237,
    "start_time": "2024-10-01T14:50:32.389Z"
   },
   {
    "duration": 228,
    "start_time": "2024-10-01T14:50:44.557Z"
   },
   {
    "duration": 412,
    "start_time": "2024-10-01T14:51:01.074Z"
   },
   {
    "duration": 226,
    "start_time": "2024-10-01T14:51:11.116Z"
   },
   {
    "duration": 225,
    "start_time": "2024-10-01T14:51:39.852Z"
   },
   {
    "duration": 335,
    "start_time": "2024-10-01T14:51:55.283Z"
   },
   {
    "duration": 234,
    "start_time": "2024-10-01T14:52:21.273Z"
   },
   {
    "duration": 358,
    "start_time": "2024-10-01T14:52:31.543Z"
   },
   {
    "duration": 366,
    "start_time": "2024-10-01T14:53:08.182Z"
   },
   {
    "duration": 66,
    "start_time": "2024-10-01T14:54:58.218Z"
   },
   {
    "duration": 62,
    "start_time": "2024-10-01T14:55:23.052Z"
   },
   {
    "duration": 370,
    "start_time": "2024-10-01T14:55:35.023Z"
   },
   {
    "duration": 1188,
    "start_time": "2024-10-02T06:54:09.980Z"
   },
   {
    "duration": 1256,
    "start_time": "2024-10-02T06:54:34.064Z"
   },
   {
    "duration": 93,
    "start_time": "2024-10-02T06:55:05.902Z"
   },
   {
    "duration": 1217,
    "start_time": "2024-10-02T06:55:14.715Z"
   },
   {
    "duration": 65,
    "start_time": "2024-10-02T06:56:14.407Z"
   },
   {
    "duration": 1367,
    "start_time": "2024-10-02T06:56:19.832Z"
   },
   {
    "duration": 576,
    "start_time": "2024-10-02T06:56:42.408Z"
   },
   {
    "duration": 605,
    "start_time": "2024-10-02T06:57:11.487Z"
   },
   {
    "duration": 602,
    "start_time": "2024-10-02T06:57:18.606Z"
   },
   {
    "duration": 617,
    "start_time": "2024-10-02T06:58:24.904Z"
   },
   {
    "duration": 613,
    "start_time": "2024-10-02T06:59:38.697Z"
   },
   {
    "duration": 631,
    "start_time": "2024-10-02T06:59:42.378Z"
   },
   {
    "duration": 630,
    "start_time": "2024-10-02T07:00:22.826Z"
   },
   {
    "duration": 1017,
    "start_time": "2024-10-02T07:00:31.156Z"
   },
   {
    "duration": 612,
    "start_time": "2024-10-02T07:01:22.421Z"
   },
   {
    "duration": 641,
    "start_time": "2024-10-02T07:02:22.708Z"
   },
   {
    "duration": 697,
    "start_time": "2024-10-02T07:02:34.770Z"
   },
   {
    "duration": 660,
    "start_time": "2024-10-02T07:03:11.373Z"
   },
   {
    "duration": 632,
    "start_time": "2024-10-02T07:03:19.381Z"
   },
   {
    "duration": 656,
    "start_time": "2024-10-02T07:03:36.222Z"
   },
   {
    "duration": 848,
    "start_time": "2024-10-02T07:04:08.213Z"
   },
   {
    "duration": 853,
    "start_time": "2024-10-02T07:05:49.681Z"
   },
   {
    "duration": 913,
    "start_time": "2024-10-02T07:05:59.323Z"
   },
   {
    "duration": 831,
    "start_time": "2024-10-02T07:06:07.709Z"
   },
   {
    "duration": 16838,
    "start_time": "2024-10-02T08:25:21.091Z"
   },
   {
    "duration": 3712,
    "start_time": "2024-10-02T09:00:25.616Z"
   },
   {
    "duration": 804,
    "start_time": "2024-10-02T09:00:50.351Z"
   },
   {
    "duration": 6,
    "start_time": "2024-10-02T09:01:12.758Z"
   },
   {
    "duration": 5099,
    "start_time": "2024-10-02T09:01:18.757Z"
   },
   {
    "duration": 7,
    "start_time": "2024-10-02T09:01:28.354Z"
   },
   {
    "duration": 936,
    "start_time": "2024-10-02T09:03:14.362Z"
   },
   {
    "duration": 65,
    "start_time": "2024-10-02T09:10:46.602Z"
   },
   {
    "duration": 71,
    "start_time": "2024-10-02T09:11:16.949Z"
   },
   {
    "duration": 70,
    "start_time": "2024-10-02T09:11:29.025Z"
   },
   {
    "duration": 369,
    "start_time": "2024-10-02T09:12:22.829Z"
   },
   {
    "duration": 1667,
    "start_time": "2024-10-02T09:14:46.771Z"
   },
   {
    "duration": 1668,
    "start_time": "2024-10-02T09:15:18.330Z"
   },
   {
    "duration": 1694,
    "start_time": "2024-10-02T09:16:22.990Z"
   },
   {
    "duration": 1701,
    "start_time": "2024-10-02T09:16:40.062Z"
   },
   {
    "duration": 93,
    "start_time": "2024-10-02T09:20:13.324Z"
   },
   {
    "duration": 8,
    "start_time": "2024-10-02T09:20:25.084Z"
   },
   {
    "duration": 8,
    "start_time": "2024-10-02T09:20:28.563Z"
   },
   {
    "duration": 91,
    "start_time": "2024-10-02T09:20:33.313Z"
   },
   {
    "duration": 126,
    "start_time": "2024-10-02T09:20:41.340Z"
   },
   {
    "duration": 87,
    "start_time": "2024-10-02T09:20:54.254Z"
   },
   {
    "duration": 65,
    "start_time": "2024-10-02T09:24:03.978Z"
   },
   {
    "duration": 85,
    "start_time": "2024-10-02T09:24:13.518Z"
   },
   {
    "duration": 95,
    "start_time": "2024-10-02T09:24:27.016Z"
   },
   {
    "duration": 84,
    "start_time": "2024-10-02T09:24:31.868Z"
   },
   {
    "duration": 1728,
    "start_time": "2024-10-02T09:25:25.948Z"
   },
   {
    "duration": 69,
    "start_time": "2024-10-02T09:25:39.450Z"
   },
   {
    "duration": 1762,
    "start_time": "2024-10-02T09:25:44.747Z"
   },
   {
    "duration": 9,
    "start_time": "2024-10-02T09:29:11.797Z"
   },
   {
    "duration": 10,
    "start_time": "2024-10-02T09:29:17.739Z"
   },
   {
    "duration": 275,
    "start_time": "2024-10-02T09:30:08.517Z"
   },
   {
    "duration": 46,
    "start_time": "2024-10-02T09:32:20.759Z"
   },
   {
    "duration": 140,
    "start_time": "2024-10-02T09:35:47.021Z"
   },
   {
    "duration": 323,
    "start_time": "2024-10-02T09:36:00.573Z"
   },
   {
    "duration": 9,
    "start_time": "2024-10-02T09:36:30.339Z"
   },
   {
    "duration": 12,
    "start_time": "2024-10-02T09:39:09.605Z"
   },
   {
    "duration": 10,
    "start_time": "2024-10-02T09:39:51.300Z"
   },
   {
    "duration": 2984,
    "start_time": "2024-10-02T09:40:30.098Z"
   },
   {
    "duration": 2214,
    "start_time": "2024-10-02T09:41:20.994Z"
   },
   {
    "duration": 5,
    "start_time": "2024-10-02T09:41:30.460Z"
   },
   {
    "duration": 10,
    "start_time": "2024-10-02T09:41:41.815Z"
   },
   {
    "duration": 87,
    "start_time": "2024-10-02T09:41:50.416Z"
   },
   {
    "duration": 2598,
    "start_time": "2024-10-02T09:42:09.362Z"
   },
   {
    "duration": 104,
    "start_time": "2024-10-02T09:42:20.153Z"
   },
   {
    "duration": 4,
    "start_time": "2024-10-02T09:44:14.922Z"
   },
   {
    "duration": 4,
    "start_time": "2024-10-02T09:44:37.184Z"
   },
   {
    "duration": 495,
    "start_time": "2024-10-02T09:45:00.252Z"
   },
   {
    "duration": 463,
    "start_time": "2024-10-02T09:45:18.435Z"
   },
   {
    "duration": 407,
    "start_time": "2024-10-02T09:45:27.358Z"
   },
   {
    "duration": 4,
    "start_time": "2024-10-02T09:45:38.068Z"
   },
   {
    "duration": 509,
    "start_time": "2024-10-02T09:45:39.748Z"
   },
   {
    "duration": 4,
    "start_time": "2024-10-02T09:47:33.694Z"
   },
   {
    "duration": 363,
    "start_time": "2024-10-02T09:47:37.702Z"
   },
   {
    "duration": 5,
    "start_time": "2024-10-02T09:50:44.163Z"
   },
   {
    "duration": 477,
    "start_time": "2024-10-02T09:50:53.177Z"
   },
   {
    "duration": 4,
    "start_time": "2024-10-02T09:51:26.837Z"
   },
   {
    "duration": 449,
    "start_time": "2024-10-02T09:51:28.592Z"
   },
   {
    "duration": 5,
    "start_time": "2024-10-02T09:51:37.346Z"
   },
   {
    "duration": 768,
    "start_time": "2024-10-02T09:51:38.962Z"
   },
   {
    "duration": 1685,
    "start_time": "2024-10-02T09:52:25.008Z"
   },
   {
    "duration": 4,
    "start_time": "2024-10-02T09:52:27.733Z"
   },
   {
    "duration": 617,
    "start_time": "2024-10-02T09:52:28.553Z"
   },
   {
    "duration": 2642,
    "start_time": "2024-10-02T09:53:35.804Z"
   },
   {
    "duration": 624,
    "start_time": "2024-10-02T09:53:40.361Z"
   },
   {
    "duration": 81,
    "start_time": "2024-10-02T09:56:43.293Z"
   },
   {
    "duration": 4,
    "start_time": "2024-10-02T09:56:50.933Z"
   },
   {
    "duration": 6,
    "start_time": "2024-10-02T09:57:03.352Z"
   },
   {
    "duration": 4,
    "start_time": "2024-10-02T09:57:08.709Z"
   },
   {
    "duration": 7,
    "start_time": "2024-10-02T09:57:27.439Z"
   },
   {
    "duration": 1653,
    "start_time": "2024-10-02T09:57:29.151Z"
   },
   {
    "duration": 13,
    "start_time": "2024-10-02T09:57:36.096Z"
   },
   {
    "duration": 658,
    "start_time": "2024-10-02T09:57:43.551Z"
   },
   {
    "duration": 683,
    "start_time": "2024-10-02T09:58:07.801Z"
   },
   {
    "duration": 14,
    "start_time": "2024-10-02T09:59:22.816Z"
   },
   {
    "duration": 11,
    "start_time": "2024-10-02T09:59:55.036Z"
   },
   {
    "duration": 5,
    "start_time": "2024-10-02T09:59:57.476Z"
   },
   {
    "duration": 782,
    "start_time": "2024-10-02T09:59:58.970Z"
   },
   {
    "duration": 638,
    "start_time": "2024-10-02T10:00:22.142Z"
   },
   {
    "duration": 56,
    "start_time": "2024-10-02T10:00:56.919Z"
   },
   {
    "duration": 192,
    "start_time": "2024-10-02T10:01:06.419Z"
   },
   {
    "duration": 112,
    "start_time": "2024-10-02T10:01:27.878Z"
   },
   {
    "duration": 209,
    "start_time": "2024-10-02T10:01:34.128Z"
   },
   {
    "duration": 644,
    "start_time": "2024-10-02T10:02:23.684Z"
   },
   {
    "duration": 2408,
    "start_time": "2024-10-02T10:03:08.506Z"
   },
   {
    "duration": 1181,
    "start_time": "2024-10-02T10:03:10.916Z"
   },
   {
    "duration": 3,
    "start_time": "2024-10-02T10:03:12.099Z"
   },
   {
    "duration": 5,
    "start_time": "2024-10-02T10:03:12.104Z"
   },
   {
    "duration": 5810,
    "start_time": "2024-10-02T10:03:12.110Z"
   },
   {
    "duration": 4,
    "start_time": "2024-10-02T10:03:17.922Z"
   },
   {
    "duration": 467,
    "start_time": "2024-10-02T10:03:17.927Z"
   },
   {
    "duration": 867,
    "start_time": "2024-10-02T10:03:18.396Z"
   },
   {
    "duration": 172,
    "start_time": "2024-10-02T10:03:19.265Z"
   },
   {
    "duration": 0,
    "start_time": "2024-10-02T10:03:19.439Z"
   },
   {
    "duration": 0,
    "start_time": "2024-10-02T10:03:19.440Z"
   },
   {
    "duration": 0,
    "start_time": "2024-10-02T10:03:19.441Z"
   },
   {
    "duration": 0,
    "start_time": "2024-10-02T10:03:19.442Z"
   },
   {
    "duration": 2623,
    "start_time": "2024-10-02T10:03:39.259Z"
   },
   {
    "duration": 4,
    "start_time": "2024-10-02T10:03:41.884Z"
   },
   {
    "duration": 672,
    "start_time": "2024-10-02T10:03:44.990Z"
   },
   {
    "duration": 297,
    "start_time": "2024-10-02T10:03:46.994Z"
   },
   {
    "duration": 10,
    "start_time": "2024-10-02T10:04:19.737Z"
   },
   {
    "duration": 2610,
    "start_time": "2024-10-02T10:05:22.419Z"
   },
   {
    "duration": 222,
    "start_time": "2024-10-02T10:05:39.794Z"
   },
   {
    "duration": 159,
    "start_time": "2024-10-02T10:05:57.161Z"
   },
   {
    "duration": 233,
    "start_time": "2024-10-02T10:06:43.001Z"
   },
   {
    "duration": 9,
    "start_time": "2024-10-02T10:07:07.544Z"
   },
   {
    "duration": 234,
    "start_time": "2024-10-02T10:07:39.440Z"
   },
   {
    "duration": 244,
    "start_time": "2024-10-02T10:07:40.921Z"
   },
   {
    "duration": 249,
    "start_time": "2024-10-02T10:07:41.914Z"
   },
   {
    "duration": 273,
    "start_time": "2024-10-02T10:07:42.986Z"
   },
   {
    "duration": 227,
    "start_time": "2024-10-02T10:07:44.649Z"
   },
   {
    "duration": 254,
    "start_time": "2024-10-02T10:08:00.859Z"
   },
   {
    "duration": 2295,
    "start_time": "2024-10-02T10:08:57.539Z"
   },
   {
    "duration": 1247,
    "start_time": "2024-10-02T10:08:59.836Z"
   },
   {
    "duration": 3,
    "start_time": "2024-10-02T10:09:01.084Z"
   },
   {
    "duration": 47,
    "start_time": "2024-10-02T10:09:01.089Z"
   },
   {
    "duration": 5297,
    "start_time": "2024-10-02T10:09:01.137Z"
   },
   {
    "duration": 3,
    "start_time": "2024-10-02T10:09:06.436Z"
   },
   {
    "duration": 437,
    "start_time": "2024-10-02T10:09:06.441Z"
   },
   {
    "duration": 860,
    "start_time": "2024-10-02T10:09:06.880Z"
   },
   {
    "duration": 1691,
    "start_time": "2024-10-02T10:09:07.742Z"
   },
   {
    "duration": 4,
    "start_time": "2024-10-02T10:09:09.435Z"
   },
   {
    "duration": 694,
    "start_time": "2024-10-02T10:09:09.440Z"
   },
   {
    "duration": 355,
    "start_time": "2024-10-02T10:09:10.136Z"
   },
   {
    "duration": 255,
    "start_time": "2024-10-02T10:09:17.461Z"
   },
   {
    "duration": 58,
    "start_time": "2024-10-02T10:12:38.504Z"
   },
   {
    "duration": 248,
    "start_time": "2024-10-02T10:12:41.321Z"
   },
   {
    "duration": 257,
    "start_time": "2024-10-02T10:13:28.379Z"
   },
   {
    "duration": 286,
    "start_time": "2024-10-02T10:13:58.339Z"
   },
   {
    "duration": 291,
    "start_time": "2024-10-02T10:16:15.869Z"
   },
   {
    "duration": 333,
    "start_time": "2024-10-02T10:16:29.990Z"
   },
   {
    "duration": 294,
    "start_time": "2024-10-02T10:16:35.597Z"
   },
   {
    "duration": 312,
    "start_time": "2024-10-02T10:16:39.941Z"
   },
   {
    "duration": 311,
    "start_time": "2024-10-02T10:17:02.525Z"
   },
   {
    "duration": 286,
    "start_time": "2024-10-02T10:19:22.864Z"
   },
   {
    "duration": 401,
    "start_time": "2024-10-02T10:19:45.057Z"
   },
   {
    "duration": 281,
    "start_time": "2024-10-02T10:19:51.367Z"
   },
   {
    "duration": 1778,
    "start_time": "2024-10-02T10:25:18.652Z"
   },
   {
    "duration": 1690,
    "start_time": "2024-10-02T10:25:34.094Z"
   },
   {
    "duration": 3828,
    "start_time": "2024-10-02T10:26:06.280Z"
   },
   {
    "duration": 2743,
    "start_time": "2024-10-02T10:26:33.602Z"
   },
   {
    "duration": 4,
    "start_time": "2024-10-02T10:26:41.502Z"
   },
   {
    "duration": 425,
    "start_time": "2024-10-02T10:26:42.126Z"
   },
   {
    "duration": 282,
    "start_time": "2024-10-02T10:26:45.559Z"
   },
   {
    "duration": 72,
    "start_time": "2024-10-02T10:33:41.631Z"
   },
   {
    "duration": 68,
    "start_time": "2024-10-02T10:33:49.303Z"
   },
   {
    "duration": 66,
    "start_time": "2024-10-02T10:34:11.346Z"
   },
   {
    "duration": 68,
    "start_time": "2024-10-02T10:34:37.051Z"
   },
   {
    "duration": 66,
    "start_time": "2024-10-02T10:34:46.374Z"
   },
   {
    "duration": 67,
    "start_time": "2024-10-02T10:34:52.801Z"
   },
   {
    "duration": 71,
    "start_time": "2024-10-02T10:35:04.428Z"
   },
   {
    "duration": 13015,
    "start_time": "2024-10-02T10:35:11.858Z"
   },
   {
    "duration": 11879,
    "start_time": "2024-10-02T10:35:49.282Z"
   },
   {
    "duration": 12430,
    "start_time": "2024-10-02T10:36:09.210Z"
   },
   {
    "duration": 2321,
    "start_time": "2024-10-02T10:38:47.970Z"
   },
   {
    "duration": 1196,
    "start_time": "2024-10-02T10:38:50.293Z"
   },
   {
    "duration": 3,
    "start_time": "2024-10-02T10:38:51.491Z"
   },
   {
    "duration": 3,
    "start_time": "2024-10-02T10:38:51.497Z"
   },
   {
    "duration": 5886,
    "start_time": "2024-10-02T10:38:51.501Z"
   },
   {
    "duration": 4,
    "start_time": "2024-10-02T10:38:57.388Z"
   },
   {
    "duration": 431,
    "start_time": "2024-10-02T10:38:57.393Z"
   },
   {
    "duration": 913,
    "start_time": "2024-10-02T10:38:57.826Z"
   },
   {
    "duration": 1690,
    "start_time": "2024-10-02T10:38:58.741Z"
   },
   {
    "duration": 5,
    "start_time": "2024-10-02T10:39:00.434Z"
   },
   {
    "duration": 445,
    "start_time": "2024-10-02T10:39:00.441Z"
   },
   {
    "duration": 285,
    "start_time": "2024-10-02T10:39:00.888Z"
   },
   {
    "duration": 11757,
    "start_time": "2024-10-02T10:39:01.175Z"
   },
   {
    "duration": 218,
    "start_time": "2024-10-02T10:39:12.933Z"
   },
   {
    "duration": 1692,
    "start_time": "2024-10-02T10:39:20.910Z"
   },
   {
    "duration": 5,
    "start_time": "2024-10-02T10:39:27.052Z"
   },
   {
    "duration": 436,
    "start_time": "2024-10-02T10:39:28.642Z"
   },
   {
    "duration": 277,
    "start_time": "2024-10-02T10:39:30.694Z"
   },
   {
    "duration": 14050,
    "start_time": "2024-10-02T10:39:32.469Z"
   },
   {
    "duration": 473,
    "start_time": "2024-10-02T10:39:46.520Z"
   },
   {
    "duration": 11625,
    "start_time": "2024-10-02T10:40:34.742Z"
   },
   {
    "duration": 355,
    "start_time": "2024-10-02T10:40:50.664Z"
   },
   {
    "duration": 118,
    "start_time": "2024-10-02T10:41:18.465Z"
   },
   {
    "duration": 6,
    "start_time": "2024-10-02T10:42:51.402Z"
   },
   {
    "duration": 9,
    "start_time": "2024-10-02T10:43:05.795Z"
   },
   {
    "duration": 12522,
    "start_time": "2024-10-02T10:43:29.520Z"
   },
   {
    "duration": 123,
    "start_time": "2024-10-02T10:43:44.913Z"
   },
   {
    "duration": 56,
    "start_time": "2024-10-02T10:43:49.227Z"
   },
   {
    "duration": 196,
    "start_time": "2024-10-02T10:43:57.626Z"
   },
   {
    "duration": 245,
    "start_time": "2024-10-02T10:44:07.057Z"
   },
   {
    "duration": 208,
    "start_time": "2024-10-02T10:46:10.018Z"
   },
   {
    "duration": 193,
    "start_time": "2024-10-02T10:46:30.859Z"
   },
   {
    "duration": 305,
    "start_time": "2024-10-02T10:46:45.103Z"
   },
   {
    "duration": 11516,
    "start_time": "2024-10-02T10:47:35.867Z"
   },
   {
    "duration": 187,
    "start_time": "2024-10-02T10:47:47.554Z"
   },
   {
    "duration": 123,
    "start_time": "2024-10-02T10:47:57.227Z"
   },
   {
    "duration": 11468,
    "start_time": "2024-10-02T10:48:36.963Z"
   },
   {
    "duration": 11845,
    "start_time": "2024-10-02T10:50:45.320Z"
   },
   {
    "duration": 120,
    "start_time": "2024-10-02T10:51:00.747Z"
   },
   {
    "duration": 6,
    "start_time": "2024-10-02T10:51:05.550Z"
   },
   {
    "duration": 11201,
    "start_time": "2024-10-02T10:51:18.218Z"
   },
   {
    "duration": 4,
    "start_time": "2024-10-02T10:51:31.192Z"
   },
   {
    "duration": 11,
    "start_time": "2024-10-02T10:51:38.928Z"
   },
   {
    "duration": 4,
    "start_time": "2024-10-02T10:55:20.133Z"
   },
   {
    "duration": 9,
    "start_time": "2024-10-02T10:55:41.577Z"
   },
   {
    "duration": 235,
    "start_time": "2024-10-02T10:55:55.240Z"
   },
   {
    "duration": 192,
    "start_time": "2024-10-02T10:56:06.633Z"
   },
   {
    "duration": 24779,
    "start_time": "2024-10-02T10:56:22.843Z"
   },
   {
    "duration": 112,
    "start_time": "2024-10-02T10:56:48.351Z"
   },
   {
    "duration": 184,
    "start_time": "2024-10-02T10:57:35.731Z"
   },
   {
    "duration": 218,
    "start_time": "2024-10-02T10:57:49.888Z"
   },
   {
    "duration": 13,
    "start_time": "2024-10-02T10:58:06.919Z"
   },
   {
    "duration": 9,
    "start_time": "2024-10-02T10:58:19.362Z"
   },
   {
    "duration": 100,
    "start_time": "2024-10-02T10:58:25.440Z"
   },
   {
    "duration": 100,
    "start_time": "2024-10-02T10:58:31.120Z"
   },
   {
    "duration": 9,
    "start_time": "2024-10-02T10:59:01.419Z"
   },
   {
    "duration": 109,
    "start_time": "2024-10-02T10:59:07.033Z"
   },
   {
    "duration": 113,
    "start_time": "2024-10-02T10:59:32.210Z"
   },
   {
    "duration": 112,
    "start_time": "2024-10-02T10:59:38.978Z"
   },
   {
    "duration": 10,
    "start_time": "2024-10-02T11:00:57.723Z"
   },
   {
    "duration": 124,
    "start_time": "2024-10-02T11:01:21.422Z"
   },
   {
    "duration": 217,
    "start_time": "2024-10-02T11:01:32.140Z"
   },
   {
    "duration": 117,
    "start_time": "2024-10-02T11:01:38.971Z"
   },
   {
    "duration": 121,
    "start_time": "2024-10-02T11:01:49.149Z"
   },
   {
    "duration": 121,
    "start_time": "2024-10-02T11:02:00.437Z"
   },
   {
    "duration": 123,
    "start_time": "2024-10-02T11:02:08.235Z"
   },
   {
    "duration": 119,
    "start_time": "2024-10-02T11:02:14.190Z"
   },
   {
    "duration": 4,
    "start_time": "2024-10-02T11:02:25.653Z"
   },
   {
    "duration": 5,
    "start_time": "2024-10-02T11:02:39.861Z"
   },
   {
    "duration": 121,
    "start_time": "2024-10-02T11:02:58.639Z"
   },
   {
    "duration": 9,
    "start_time": "2024-10-02T11:03:24.182Z"
   },
   {
    "duration": 117,
    "start_time": "2024-10-02T11:03:35.454Z"
   },
   {
    "duration": 118,
    "start_time": "2024-10-02T11:03:52.240Z"
   },
   {
    "duration": 115,
    "start_time": "2024-10-02T11:03:58.911Z"
   },
   {
    "duration": 102,
    "start_time": "2024-10-02T11:04:09.805Z"
   },
   {
    "duration": 121,
    "start_time": "2024-10-02T11:04:13.094Z"
   },
   {
    "duration": 122,
    "start_time": "2024-10-02T11:08:12.316Z"
   },
   {
    "duration": 120,
    "start_time": "2024-10-02T11:08:22.676Z"
   },
   {
    "duration": 138,
    "start_time": "2024-10-02T11:08:46.086Z"
   },
   {
    "duration": 139,
    "start_time": "2024-10-02T11:10:00.612Z"
   },
   {
    "duration": 254,
    "start_time": "2024-10-02T11:10:07.836Z"
   },
   {
    "duration": 139,
    "start_time": "2024-10-02T11:10:12.980Z"
   },
   {
    "duration": 149,
    "start_time": "2024-10-02T11:10:23.118Z"
   },
   {
    "duration": 123,
    "start_time": "2024-10-02T11:10:27.747Z"
   },
   {
    "duration": 128,
    "start_time": "2024-10-02T11:10:35.948Z"
   },
   {
    "duration": 123,
    "start_time": "2024-10-02T11:10:53.534Z"
   },
   {
    "duration": 123,
    "start_time": "2024-10-02T11:10:57.532Z"
   },
   {
    "duration": 12755,
    "start_time": "2024-10-02T11:14:17.954Z"
   },
   {
    "duration": 149,
    "start_time": "2024-10-02T11:14:33.270Z"
   },
   {
    "duration": 7,
    "start_time": "2024-10-02T11:15:42.123Z"
   },
   {
    "duration": 173,
    "start_time": "2024-10-02T11:15:45.485Z"
   },
   {
    "duration": 5,
    "start_time": "2024-10-02T11:15:56.973Z"
   },
   {
    "duration": 142,
    "start_time": "2024-10-02T11:16:00.345Z"
   },
   {
    "duration": 24823,
    "start_time": "2024-10-02T11:16:12.155Z"
   },
   {
    "duration": 12592,
    "start_time": "2024-10-02T11:38:24.371Z"
   },
   {
    "duration": 4,
    "start_time": "2024-10-02T11:39:08.597Z"
   },
   {
    "duration": 137,
    "start_time": "2024-10-02T11:39:12.299Z"
   },
   {
    "duration": 66,
    "start_time": "2024-10-02T11:49:21.810Z"
   },
   {
    "duration": 77,
    "start_time": "2024-10-02T11:49:32.747Z"
   },
   {
    "duration": 65,
    "start_time": "2024-10-02T11:49:42.312Z"
   },
   {
    "duration": 12347,
    "start_time": "2024-10-02T11:49:51.304Z"
   },
   {
    "duration": 10151,
    "start_time": "2024-10-02T11:50:49.291Z"
   },
   {
    "duration": 405,
    "start_time": "2024-10-02T11:51:38.586Z"
   },
   {
    "duration": 2468,
    "start_time": "2024-10-02T12:39:24.481Z"
   },
   {
    "duration": 1207,
    "start_time": "2024-10-02T12:39:26.951Z"
   },
   {
    "duration": 3,
    "start_time": "2024-10-02T12:39:28.160Z"
   },
   {
    "duration": 4,
    "start_time": "2024-10-02T12:39:28.164Z"
   },
   {
    "duration": 5639,
    "start_time": "2024-10-02T12:39:28.170Z"
   },
   {
    "duration": 5,
    "start_time": "2024-10-02T12:39:33.811Z"
   },
   {
    "duration": 451,
    "start_time": "2024-10-02T12:39:33.818Z"
   },
   {
    "duration": 899,
    "start_time": "2024-10-02T12:39:34.270Z"
   },
   {
    "duration": 1737,
    "start_time": "2024-10-02T12:39:35.171Z"
   },
   {
    "duration": 5,
    "start_time": "2024-10-02T12:39:36.912Z"
   },
   {
    "duration": 527,
    "start_time": "2024-10-02T12:39:36.919Z"
   },
   {
    "duration": 306,
    "start_time": "2024-10-02T12:39:37.448Z"
   },
   {
    "duration": 13007,
    "start_time": "2024-10-02T12:39:37.755Z"
   },
   {
    "duration": 251,
    "start_time": "2024-10-02T12:39:50.763Z"
   },
   {
    "duration": 9327,
    "start_time": "2024-10-02T12:39:51.016Z"
   },
   {
    "duration": 407,
    "start_time": "2024-10-02T12:40:00.345Z"
   },
   {
    "duration": 1400,
    "start_time": "2024-10-02T13:05:10.134Z"
   },
   {
    "duration": 4171,
    "start_time": "2024-10-02T13:10:52.404Z"
   },
   {
    "duration": 5859,
    "start_time": "2024-10-02T13:11:08.799Z"
   },
   {
    "duration": 7439,
    "start_time": "2024-10-02T13:11:33.418Z"
   },
   {
    "duration": 6243,
    "start_time": "2024-10-02T13:12:09.681Z"
   },
   {
    "duration": 95,
    "start_time": "2024-10-02T13:12:25.109Z"
   },
   {
    "duration": 5581,
    "start_time": "2024-10-02T13:15:36.583Z"
   },
   {
    "duration": 92,
    "start_time": "2024-10-02T13:16:30.764Z"
   },
   {
    "duration": 73,
    "start_time": "2024-10-02T13:16:37.864Z"
   },
   {
    "duration": 5735,
    "start_time": "2024-10-02T13:16:56.221Z"
   },
   {
    "duration": 4491,
    "start_time": "2024-10-02T13:17:13.800Z"
   },
   {
    "duration": 5614,
    "start_time": "2024-10-02T13:19:11.345Z"
   },
   {
    "duration": 67,
    "start_time": "2024-10-02T13:19:41.215Z"
   },
   {
    "duration": 64,
    "start_time": "2024-10-02T13:19:44.115Z"
   },
   {
    "duration": 68,
    "start_time": "2024-10-02T13:22:48.535Z"
   },
   {
    "duration": 67,
    "start_time": "2024-10-02T13:22:52.398Z"
   },
   {
    "duration": 6395,
    "start_time": "2024-10-02T13:23:25.395Z"
   },
   {
    "duration": 1440,
    "start_time": "2024-10-02T13:23:42.411Z"
   },
   {
    "duration": 1757,
    "start_time": "2024-10-02T13:24:32.827Z"
   },
   {
    "duration": 70,
    "start_time": "2024-10-02T13:27:40.881Z"
   },
   {
    "duration": 2869,
    "start_time": "2024-10-02T13:27:58.208Z"
   },
   {
    "duration": 2497,
    "start_time": "2024-10-02T13:28:41.460Z"
   },
   {
    "duration": 1908,
    "start_time": "2024-10-02T13:32:39.568Z"
   },
   {
    "duration": 2210,
    "start_time": "2024-10-02T13:32:47.553Z"
   },
   {
    "duration": 2501,
    "start_time": "2024-10-02T13:32:57.656Z"
   },
   {
    "duration": 3732,
    "start_time": "2024-10-02T13:33:08.172Z"
   },
   {
    "duration": 2564,
    "start_time": "2024-10-02T13:35:10.498Z"
   },
   {
    "duration": 9,
    "start_time": "2024-10-02T13:35:21.161Z"
   },
   {
    "duration": 9,
    "start_time": "2024-10-02T13:36:15.982Z"
   },
   {
    "duration": 5,
    "start_time": "2024-10-02T13:36:22.914Z"
   },
   {
    "duration": 3725,
    "start_time": "2024-10-02T13:36:32.323Z"
   },
   {
    "duration": 2466,
    "start_time": "2024-10-02T13:36:47.739Z"
   },
   {
    "duration": 1297,
    "start_time": "2024-10-02T13:36:50.209Z"
   },
   {
    "duration": 3,
    "start_time": "2024-10-02T13:36:51.507Z"
   },
   {
    "duration": 14,
    "start_time": "2024-10-02T13:36:51.512Z"
   },
   {
    "duration": 5577,
    "start_time": "2024-10-02T13:36:51.527Z"
   },
   {
    "duration": 4,
    "start_time": "2024-10-02T13:36:57.106Z"
   },
   {
    "duration": 451,
    "start_time": "2024-10-02T13:36:57.112Z"
   },
   {
    "duration": 905,
    "start_time": "2024-10-02T13:36:57.565Z"
   },
   {
    "duration": 1664,
    "start_time": "2024-10-02T13:36:58.472Z"
   },
   {
    "duration": 6,
    "start_time": "2024-10-02T13:37:00.139Z"
   },
   {
    "duration": 559,
    "start_time": "2024-10-02T13:37:00.147Z"
   },
   {
    "duration": 309,
    "start_time": "2024-10-02T13:37:00.708Z"
   },
   {
    "duration": 11866,
    "start_time": "2024-10-02T13:37:01.019Z"
   },
   {
    "duration": 234,
    "start_time": "2024-10-02T13:37:12.887Z"
   },
   {
    "duration": 2429,
    "start_time": "2024-10-02T13:37:13.122Z"
   },
   {
    "duration": 10660,
    "start_time": "2024-10-02T13:37:15.552Z"
   },
   {
    "duration": 398,
    "start_time": "2024-10-02T13:37:26.214Z"
   },
   {
    "duration": 61,
    "start_time": "2024-10-02T13:37:26.613Z"
   },
   {
    "duration": 535,
    "start_time": "2024-10-02T13:54:51.982Z"
   },
   {
    "duration": 482,
    "start_time": "2024-10-02T13:55:41.336Z"
   },
   {
    "duration": 467,
    "start_time": "2024-10-02T13:55:54.452Z"
   },
   {
    "duration": 481,
    "start_time": "2024-10-02T13:56:43.541Z"
   },
   {
    "duration": 486,
    "start_time": "2024-10-02T13:56:58.215Z"
   },
   {
    "duration": 646,
    "start_time": "2024-10-02T13:57:38.955Z"
   },
   {
    "duration": 649,
    "start_time": "2024-10-02T13:57:47.652Z"
   },
   {
    "duration": 461,
    "start_time": "2024-10-02T13:58:09.473Z"
   },
   {
    "duration": 380,
    "start_time": "2024-10-02T14:01:45.233Z"
   },
   {
    "duration": 53,
    "start_time": "2024-10-02T14:03:23.219Z"
   },
   {
    "duration": 5,
    "start_time": "2024-10-02T14:03:27.739Z"
   },
   {
    "duration": 312,
    "start_time": "2024-10-02T14:03:31.039Z"
   },
   {
    "duration": 5,
    "start_time": "2024-10-02T14:03:37.515Z"
   },
   {
    "duration": 574,
    "start_time": "2024-10-02T14:03:39.062Z"
   },
   {
    "duration": 5,
    "start_time": "2024-10-02T14:03:52.739Z"
   },
   {
    "duration": 471,
    "start_time": "2024-10-02T14:03:54.018Z"
   },
   {
    "duration": 5,
    "start_time": "2024-10-02T14:04:21.129Z"
   },
   {
    "duration": 460,
    "start_time": "2024-10-02T14:04:24.752Z"
   },
   {
    "duration": 90,
    "start_time": "2024-10-02T14:04:29.996Z"
   },
   {
    "duration": 483,
    "start_time": "2024-10-02T14:05:02.462Z"
   },
   {
    "duration": 77,
    "start_time": "2024-10-02T14:07:46.897Z"
   },
   {
    "duration": 4508,
    "start_time": "2024-10-02T14:07:51.851Z"
   },
   {
    "duration": 4415,
    "start_time": "2024-10-02T14:08:18.424Z"
   },
   {
    "duration": 4589,
    "start_time": "2024-10-02T14:08:31.880Z"
   },
   {
    "duration": 4557,
    "start_time": "2024-10-02T14:09:47.973Z"
   },
   {
    "duration": 76,
    "start_time": "2024-10-02T14:13:30.183Z"
   },
   {
    "duration": 74,
    "start_time": "2024-10-02T14:13:41.647Z"
   },
   {
    "duration": 269,
    "start_time": "2024-10-02T14:14:06.800Z"
   },
   {
    "duration": 269,
    "start_time": "2024-10-02T14:15:12.390Z"
   },
   {
    "duration": 290,
    "start_time": "2024-10-02T14:16:46.952Z"
   },
   {
    "duration": 344,
    "start_time": "2024-10-02T14:17:36.627Z"
   },
   {
    "duration": 2730,
    "start_time": "2024-10-02T14:20:02.421Z"
   },
   {
    "duration": 3554,
    "start_time": "2024-10-02T14:20:12.452Z"
   },
   {
    "duration": 3449,
    "start_time": "2024-10-02T14:20:43.542Z"
   },
   {
    "duration": 8461,
    "start_time": "2024-10-02T14:20:57.900Z"
   },
   {
    "duration": 61,
    "start_time": "2024-10-02T14:27:22.342Z"
   },
   {
    "duration": 70,
    "start_time": "2024-10-02T14:27:27.591Z"
   },
   {
    "duration": 4738,
    "start_time": "2024-10-02T14:28:29.255Z"
   },
   {
    "duration": 5623,
    "start_time": "2024-10-02T14:30:33.694Z"
   },
   {
    "duration": 4101,
    "start_time": "2024-10-02T14:31:26.547Z"
   },
   {
    "duration": 8321,
    "start_time": "2024-10-02T14:32:15.239Z"
   },
   {
    "duration": 8517,
    "start_time": "2024-10-02T14:34:01.333Z"
   },
   {
    "duration": 10123,
    "start_time": "2024-10-02T14:37:31.848Z"
   },
   {
    "duration": 45,
    "start_time": "2024-10-02T14:38:13.142Z"
   },
   {
    "duration": 49,
    "start_time": "2024-10-02T14:38:26.407Z"
   },
   {
    "duration": 1213,
    "start_time": "2024-10-02T14:41:22.548Z"
   },
   {
    "duration": 1259,
    "start_time": "2024-10-02T14:41:38.796Z"
   },
   {
    "duration": 3,
    "start_time": "2024-10-02T14:58:59.582Z"
   },
   {
    "duration": 3,
    "start_time": "2024-10-02T14:59:05.152Z"
   },
   {
    "duration": 2,
    "start_time": "2024-10-02T14:59:31.297Z"
   },
   {
    "duration": 13,
    "start_time": "2024-10-02T15:02:07.029Z"
   },
   {
    "duration": 3,
    "start_time": "2024-10-02T15:02:29.626Z"
   },
   {
    "duration": 4,
    "start_time": "2024-10-02T15:02:35.103Z"
   },
   {
    "duration": 6,
    "start_time": "2024-10-02T15:03:04.901Z"
   },
   {
    "duration": 13,
    "start_time": "2024-10-02T15:03:22.906Z"
   },
   {
    "duration": 10687,
    "start_time": "2024-10-02T15:03:40.842Z"
   },
   {
    "duration": 30,
    "start_time": "2024-10-02T15:03:55.819Z"
   },
   {
    "duration": 3,
    "start_time": "2024-10-02T15:03:59.509Z"
   },
   {
    "duration": 61,
    "start_time": "2024-10-02T15:04:03.498Z"
   },
   {
    "duration": 4,
    "start_time": "2024-10-02T15:05:28.781Z"
   },
   {
    "duration": 51,
    "start_time": "2024-10-02T15:05:31.018Z"
   },
   {
    "duration": 40,
    "start_time": "2024-10-02T15:05:41.876Z"
   },
   {
    "duration": 39,
    "start_time": "2024-10-02T15:06:40.799Z"
   },
   {
    "duration": 11,
    "start_time": "2024-10-02T15:07:23.334Z"
   },
   {
    "duration": 9,
    "start_time": "2024-10-02T15:07:56.663Z"
   },
   {
    "duration": 942,
    "start_time": "2024-10-02T15:08:21.926Z"
   },
   {
    "duration": 43,
    "start_time": "2024-10-02T15:09:04.825Z"
   },
   {
    "duration": 44,
    "start_time": "2024-10-02T15:09:10.391Z"
   },
   {
    "duration": 42,
    "start_time": "2024-10-02T15:09:35.464Z"
   },
   {
    "duration": 1318,
    "start_time": "2024-10-02T15:11:53.931Z"
   },
   {
    "duration": 4335,
    "start_time": "2024-10-02T15:12:10.805Z"
   },
   {
    "duration": 2427,
    "start_time": "2024-10-02T15:12:26.811Z"
   },
   {
    "duration": 62,
    "start_time": "2024-10-02T15:13:25.316Z"
   },
   {
    "duration": 22,
    "start_time": "2024-10-02T15:13:34.421Z"
   },
   {
    "duration": 79,
    "start_time": "2024-10-02T15:14:22.386Z"
   },
   {
    "duration": 34,
    "start_time": "2024-10-02T15:14:32.781Z"
   },
   {
    "duration": 22,
    "start_time": "2024-10-02T15:14:48.500Z"
   },
   {
    "duration": 131,
    "start_time": "2024-10-02T15:16:08.358Z"
   },
   {
    "duration": 51,
    "start_time": "2024-10-02T15:16:15.862Z"
   },
   {
    "duration": 41,
    "start_time": "2024-10-02T15:16:29.455Z"
   },
   {
    "duration": 43,
    "start_time": "2024-10-02T15:18:37.313Z"
   },
   {
    "duration": 26,
    "start_time": "2024-10-02T15:18:46.946Z"
   },
   {
    "duration": 247,
    "start_time": "2024-10-02T15:18:48.947Z"
   },
   {
    "duration": 12,
    "start_time": "2024-10-02T15:20:18.422Z"
   },
   {
    "duration": 9871,
    "start_time": "2024-10-02T15:20:25.027Z"
   },
   {
    "duration": 407,
    "start_time": "2024-10-02T15:20:38.872Z"
   },
   {
    "duration": 4,
    "start_time": "2024-10-02T15:20:43.213Z"
   },
   {
    "duration": 57,
    "start_time": "2024-10-02T15:20:44.893Z"
   },
   {
    "duration": 172,
    "start_time": "2024-10-02T15:20:47.338Z"
   },
   {
    "duration": 23,
    "start_time": "2024-10-02T15:21:10.028Z"
   },
   {
    "duration": 22,
    "start_time": "2024-10-02T15:21:15.340Z"
   },
   {
    "duration": 108,
    "start_time": "2024-10-02T15:21:23.422Z"
   },
   {
    "duration": 287,
    "start_time": "2024-10-02T15:21:30.014Z"
   },
   {
    "duration": 53,
    "start_time": "2024-10-02T15:21:48.836Z"
   },
   {
    "duration": 68,
    "start_time": "2024-10-02T15:22:10.757Z"
   },
   {
    "duration": 155,
    "start_time": "2024-10-02T15:22:43.182Z"
   },
   {
    "duration": 12,
    "start_time": "2024-10-02T15:22:58.986Z"
   },
   {
    "duration": 163,
    "start_time": "2024-10-02T15:23:03.395Z"
   },
   {
    "duration": 49,
    "start_time": "2024-10-02T15:23:12.790Z"
   },
   {
    "duration": 249,
    "start_time": "2024-10-02T15:23:21.606Z"
   },
   {
    "duration": 260,
    "start_time": "2024-10-02T15:24:07.042Z"
   },
   {
    "duration": 168,
    "start_time": "2024-10-02T15:24:09.850Z"
   },
   {
    "duration": 13,
    "start_time": "2024-10-02T15:24:19.239Z"
   },
   {
    "duration": 95,
    "start_time": "2024-10-02T15:24:34.325Z"
   },
   {
    "duration": 2767,
    "start_time": "2024-10-02T20:39:53.376Z"
   },
   {
    "duration": 1526,
    "start_time": "2024-10-02T20:39:56.146Z"
   },
   {
    "duration": 3,
    "start_time": "2024-10-02T20:39:57.674Z"
   },
   {
    "duration": 16,
    "start_time": "2024-10-02T20:39:57.679Z"
   },
   {
    "duration": 7266,
    "start_time": "2024-10-02T20:39:57.697Z"
   },
   {
    "duration": 4,
    "start_time": "2024-10-02T20:40:04.966Z"
   },
   {
    "duration": 897,
    "start_time": "2024-10-02T20:40:04.972Z"
   },
   {
    "duration": 964,
    "start_time": "2024-10-02T20:40:05.870Z"
   },
   {
    "duration": 1916,
    "start_time": "2024-10-02T20:40:06.846Z"
   },
   {
    "duration": 6,
    "start_time": "2024-10-02T20:40:08.764Z"
   },
   {
    "duration": 493,
    "start_time": "2024-10-02T20:40:08.772Z"
   },
   {
    "duration": 335,
    "start_time": "2024-10-02T20:40:09.267Z"
   },
   {
    "duration": 11139,
    "start_time": "2024-10-02T20:40:09.604Z"
   },
   {
    "duration": 224,
    "start_time": "2024-10-02T20:40:20.744Z"
   },
   {
    "duration": 2454,
    "start_time": "2024-10-02T20:40:20.970Z"
   },
   {
    "duration": 489,
    "start_time": "2024-10-02T20:40:23.425Z"
   },
   {
    "duration": 5695,
    "start_time": "2024-10-02T20:40:23.916Z"
   },
   {
    "duration": 1415,
    "start_time": "2024-10-02T20:40:29.613Z"
   },
   {
    "duration": 10697,
    "start_time": "2024-10-02T20:40:31.030Z"
   },
   {
    "duration": 382,
    "start_time": "2024-10-02T20:40:41.729Z"
   },
   {
    "duration": 4,
    "start_time": "2024-10-02T20:40:42.113Z"
   },
   {
    "duration": 138,
    "start_time": "2024-10-02T20:40:42.118Z"
   },
   {
    "duration": 14,
    "start_time": "2024-10-02T20:40:42.257Z"
   },
   {
    "duration": 174,
    "start_time": "2024-10-02T20:40:42.273Z"
   },
   {
    "duration": 45,
    "start_time": "2024-10-02T20:40:42.449Z"
   },
   {
    "duration": 309,
    "start_time": "2024-10-02T20:40:42.496Z"
   },
   {
    "duration": 256,
    "start_time": "2024-10-02T20:40:42.806Z"
   },
   {
    "duration": 101,
    "start_time": "2024-10-02T20:40:43.065Z"
   },
   {
    "duration": 4,
    "start_time": "2024-10-02T20:45:39.057Z"
   },
   {
    "duration": 275,
    "start_time": "2024-10-02T20:45:47.747Z"
   },
   {
    "duration": 2591,
    "start_time": "2024-10-03T07:56:48.374Z"
   },
   {
    "duration": 1309,
    "start_time": "2024-10-03T07:56:50.968Z"
   },
   {
    "duration": 4,
    "start_time": "2024-10-03T07:56:52.279Z"
   },
   {
    "duration": 8,
    "start_time": "2024-10-03T07:56:52.285Z"
   },
   {
    "duration": 6729,
    "start_time": "2024-10-03T07:56:52.294Z"
   },
   {
    "duration": 4,
    "start_time": "2024-10-03T07:56:59.024Z"
   },
   {
    "duration": 822,
    "start_time": "2024-10-03T07:56:59.029Z"
   },
   {
    "duration": 985,
    "start_time": "2024-10-03T07:56:59.852Z"
   },
   {
    "duration": 1749,
    "start_time": "2024-10-03T07:57:00.839Z"
   },
   {
    "duration": 6,
    "start_time": "2024-10-03T07:57:02.591Z"
   },
   {
    "duration": 530,
    "start_time": "2024-10-03T07:57:02.598Z"
   },
   {
    "duration": 338,
    "start_time": "2024-10-03T07:57:03.130Z"
   },
   {
    "duration": 11650,
    "start_time": "2024-10-03T07:57:03.470Z"
   },
   {
    "duration": 232,
    "start_time": "2024-10-03T07:57:15.122Z"
   },
   {
    "duration": 2574,
    "start_time": "2024-10-03T07:57:15.355Z"
   },
   {
    "duration": 521,
    "start_time": "2024-10-03T07:57:17.931Z"
   },
   {
    "duration": 4577,
    "start_time": "2024-10-03T07:57:18.455Z"
   },
   {
    "duration": 1384,
    "start_time": "2024-10-03T07:57:23.034Z"
   },
   {
    "duration": 11738,
    "start_time": "2024-10-03T07:57:24.419Z"
   },
   {
    "duration": 376,
    "start_time": "2024-10-03T07:57:36.158Z"
   },
   {
    "duration": 10,
    "start_time": "2024-10-03T07:57:36.536Z"
   },
   {
    "duration": 168,
    "start_time": "2024-10-03T07:57:36.548Z"
   },
   {
    "duration": 14,
    "start_time": "2024-10-03T07:57:36.718Z"
   },
   {
    "duration": 169,
    "start_time": "2024-10-03T07:57:36.745Z"
   },
   {
    "duration": 54,
    "start_time": "2024-10-03T07:57:36.915Z"
   },
   {
    "duration": 276,
    "start_time": "2024-10-03T07:57:36.971Z"
   },
   {
    "duration": 254,
    "start_time": "2024-10-03T07:57:37.249Z"
   },
   {
    "duration": 102,
    "start_time": "2024-10-03T07:57:37.507Z"
   },
   {
    "duration": 5,
    "start_time": "2024-10-03T07:57:37.611Z"
   },
   {
    "duration": 354,
    "start_time": "2024-10-03T07:57:37.618Z"
   },
   {
    "duration": 324,
    "start_time": "2024-10-03T08:31:49.971Z"
   },
   {
    "duration": 126,
    "start_time": "2024-10-03T08:32:30.648Z"
   },
   {
    "duration": 5684,
    "start_time": "2024-10-03T08:32:42.501Z"
   },
   {
    "duration": 71,
    "start_time": "2024-10-03T08:32:50.528Z"
   },
   {
    "duration": 214,
    "start_time": "2024-10-03T08:35:46.667Z"
   },
   {
    "duration": 218,
    "start_time": "2024-10-03T08:35:49.586Z"
   },
   {
    "duration": 5,
    "start_time": "2024-10-03T08:36:10.059Z"
   },
   {
    "duration": 211,
    "start_time": "2024-10-03T08:36:13.625Z"
   },
   {
    "duration": 143,
    "start_time": "2024-10-03T08:37:02.371Z"
   },
   {
    "duration": 221,
    "start_time": "2024-10-03T08:37:06.321Z"
   },
   {
    "duration": 5,
    "start_time": "2024-10-03T08:37:19.844Z"
   },
   {
    "duration": 220,
    "start_time": "2024-10-03T08:37:21.339Z"
   },
   {
    "duration": 1954,
    "start_time": "2024-10-03T08:39:50.581Z"
   },
   {
    "duration": 3,
    "start_time": "2024-10-03T08:42:33.501Z"
   },
   {
    "duration": 95,
    "start_time": "2024-10-03T08:43:20.034Z"
   },
   {
    "duration": 3,
    "start_time": "2024-10-03T08:46:47.949Z"
   },
   {
    "duration": 17,
    "start_time": "2024-10-03T08:46:56.103Z"
   },
   {
    "duration": 110,
    "start_time": "2024-10-03T08:47:29.135Z"
   },
   {
    "duration": 16,
    "start_time": "2024-10-03T08:48:19.749Z"
   },
   {
    "duration": 3,
    "start_time": "2024-10-03T08:48:31.450Z"
   },
   {
    "duration": 3,
    "start_time": "2024-10-03T08:48:37.089Z"
   },
   {
    "duration": 3,
    "start_time": "2024-10-03T08:48:39.061Z"
   },
   {
    "duration": 4,
    "start_time": "2024-10-03T08:48:45.274Z"
   },
   {
    "duration": 5,
    "start_time": "2024-10-03T08:48:55.991Z"
   },
   {
    "duration": 130880,
    "start_time": "2024-10-03T08:49:18.079Z"
   },
   {
    "duration": 11,
    "start_time": "2024-10-03T08:54:16.725Z"
   },
   {
    "duration": 8,
    "start_time": "2024-10-03T08:54:34.865Z"
   },
   {
    "duration": 4,
    "start_time": "2024-10-03T08:54:43.446Z"
   },
   {
    "duration": 3,
    "start_time": "2024-10-03T08:54:43.966Z"
   },
   {
    "duration": 3,
    "start_time": "2024-10-03T08:54:44.364Z"
   },
   {
    "duration": 6,
    "start_time": "2024-10-03T08:54:46.216Z"
   },
   {
    "duration": 8088,
    "start_time": "2024-10-03T08:54:51.416Z"
   },
   {
    "duration": 4,
    "start_time": "2024-10-03T08:55:11.604Z"
   },
   {
    "duration": 3,
    "start_time": "2024-10-03T08:55:13.547Z"
   },
   {
    "duration": 3,
    "start_time": "2024-10-03T08:55:13.908Z"
   },
   {
    "duration": 6,
    "start_time": "2024-10-03T08:55:14.477Z"
   },
   {
    "duration": 4729086,
    "start_time": "2024-10-03T08:55:17.985Z"
   },
   {
    "duration": 2257595,
    "start_time": "2024-10-03T10:14:16.500Z"
   },
   {
    "duration": 5,
    "start_time": "2024-10-03T10:52:49.884Z"
   },
   {
    "duration": 5575,
    "start_time": "2024-10-03T10:53:21.949Z"
   },
   {
    "duration": 1749,
    "start_time": "2024-10-03T10:53:27.527Z"
   },
   {
    "duration": 4,
    "start_time": "2024-10-03T10:53:29.278Z"
   },
   {
    "duration": 8,
    "start_time": "2024-10-03T10:53:29.284Z"
   },
   {
    "duration": 6865,
    "start_time": "2024-10-03T10:53:29.293Z"
   },
   {
    "duration": 4,
    "start_time": "2024-10-03T10:53:36.160Z"
   },
   {
    "duration": 1033,
    "start_time": "2024-10-03T10:53:36.165Z"
   },
   {
    "duration": 948,
    "start_time": "2024-10-03T10:53:37.200Z"
   },
   {
    "duration": 1764,
    "start_time": "2024-10-03T10:53:38.150Z"
   },
   {
    "duration": 5,
    "start_time": "2024-10-03T10:53:39.918Z"
   },
   {
    "duration": 527,
    "start_time": "2024-10-03T10:53:39.925Z"
   },
   {
    "duration": 346,
    "start_time": "2024-10-03T10:53:40.454Z"
   },
   {
    "duration": 11476,
    "start_time": "2024-10-03T10:53:40.802Z"
   },
   {
    "duration": 155,
    "start_time": "2024-10-03T10:53:52.279Z"
   },
   {
    "duration": 2604,
    "start_time": "2024-10-03T10:53:52.445Z"
   },
   {
    "duration": 537,
    "start_time": "2024-10-03T10:53:55.051Z"
   },
   {
    "duration": 5007,
    "start_time": "2024-10-03T10:53:55.590Z"
   },
   {
    "duration": 1430,
    "start_time": "2024-10-03T10:54:00.599Z"
   },
   {
    "duration": 9082,
    "start_time": "2024-10-03T10:54:02.031Z"
   },
   {
    "duration": 383,
    "start_time": "2024-10-03T10:54:11.115Z"
   },
   {
    "duration": 4,
    "start_time": "2024-10-03T10:54:11.500Z"
   },
   {
    "duration": 146,
    "start_time": "2024-10-03T10:54:11.506Z"
   },
   {
    "duration": 13,
    "start_time": "2024-10-03T10:54:11.654Z"
   },
   {
    "duration": 193,
    "start_time": "2024-10-03T10:54:11.668Z"
   },
   {
    "duration": 51,
    "start_time": "2024-10-03T10:54:11.863Z"
   },
   {
    "duration": 276,
    "start_time": "2024-10-03T10:54:11.916Z"
   },
   {
    "duration": 248,
    "start_time": "2024-10-03T10:54:12.194Z"
   },
   {
    "duration": 112,
    "start_time": "2024-10-03T10:54:12.445Z"
   },
   {
    "duration": 6,
    "start_time": "2024-10-03T10:54:12.559Z"
   },
   {
    "duration": 318,
    "start_time": "2024-10-03T10:54:12.567Z"
   },
   {
    "duration": 161,
    "start_time": "2024-10-03T10:54:12.887Z"
   },
   {
    "duration": 1952,
    "start_time": "2024-10-03T10:54:13.050Z"
   },
   {
    "duration": 3,
    "start_time": "2024-10-03T10:54:15.003Z"
   },
   {
    "duration": 52,
    "start_time": "2024-10-03T10:54:15.008Z"
   },
   {
    "duration": 115,
    "start_time": "2024-10-03T10:54:15.062Z"
   },
   {
    "duration": 2,
    "start_time": "2024-10-03T10:54:15.179Z"
   },
   {
    "duration": 32,
    "start_time": "2024-10-03T10:54:15.183Z"
   },
   {
    "duration": 42,
    "start_time": "2024-10-03T10:54:15.216Z"
   },
   {
    "duration": 29,
    "start_time": "2024-10-03T10:54:15.260Z"
   },
   {
    "duration": 14,
    "start_time": "2024-10-03T10:54:15.291Z"
   },
   {
    "duration": 5447,
    "start_time": "2024-10-03T11:00:14.574Z"
   },
   {
    "duration": 1772,
    "start_time": "2024-10-03T11:00:20.025Z"
   },
   {
    "duration": 3,
    "start_time": "2024-10-03T11:00:21.799Z"
   },
   {
    "duration": 21,
    "start_time": "2024-10-03T11:00:21.804Z"
   },
   {
    "duration": 8252,
    "start_time": "2024-10-03T11:00:21.826Z"
   },
   {
    "duration": 5,
    "start_time": "2024-10-03T11:00:30.080Z"
   },
   {
    "duration": 1018,
    "start_time": "2024-10-03T11:00:30.088Z"
   },
   {
    "duration": 1016,
    "start_time": "2024-10-03T11:00:31.108Z"
   },
   {
    "duration": 9475,
    "start_time": "2024-10-03T11:00:32.126Z"
   },
   {
    "duration": 8,
    "start_time": "2024-10-03T11:00:41.605Z"
   },
   {
    "duration": 557,
    "start_time": "2024-10-03T11:00:41.615Z"
   },
   {
    "duration": 325,
    "start_time": "2024-10-03T11:00:42.174Z"
   },
   {
    "duration": 19749,
    "start_time": "2024-10-03T11:00:42.501Z"
   },
   {
    "duration": 195,
    "start_time": "2024-10-03T11:01:02.253Z"
   },
   {
    "duration": 8218,
    "start_time": "2024-10-03T11:01:02.451Z"
   },
   {
    "duration": 558,
    "start_time": "2024-10-03T11:01:10.672Z"
   },
   {
    "duration": 4824,
    "start_time": "2024-10-03T11:01:11.232Z"
   },
   {
    "duration": 1478,
    "start_time": "2024-10-03T11:01:16.058Z"
   },
   {
    "duration": 9527,
    "start_time": "2024-10-03T11:01:17.538Z"
   },
   {
    "duration": 366,
    "start_time": "2024-10-03T11:01:27.067Z"
   },
   {
    "duration": 15,
    "start_time": "2024-10-03T11:01:27.434Z"
   },
   {
    "duration": 143,
    "start_time": "2024-10-03T11:01:27.451Z"
   },
   {
    "duration": 14,
    "start_time": "2024-10-03T11:01:27.596Z"
   },
   {
    "duration": 215,
    "start_time": "2024-10-03T11:01:27.612Z"
   },
   {
    "duration": 52,
    "start_time": "2024-10-03T11:01:27.829Z"
   },
   {
    "duration": 260,
    "start_time": "2024-10-03T11:01:27.882Z"
   },
   {
    "duration": 236,
    "start_time": "2024-10-03T11:01:28.146Z"
   },
   {
    "duration": 96,
    "start_time": "2024-10-03T11:01:28.386Z"
   },
   {
    "duration": 5,
    "start_time": "2024-10-03T11:01:28.484Z"
   },
   {
    "duration": 329,
    "start_time": "2024-10-03T11:01:28.491Z"
   },
   {
    "duration": 140,
    "start_time": "2024-10-03T11:01:28.822Z"
   },
   {
    "duration": 1990,
    "start_time": "2024-10-03T11:01:28.964Z"
   },
   {
    "duration": 3,
    "start_time": "2024-10-03T11:01:30.956Z"
   },
   {
    "duration": 23,
    "start_time": "2024-10-03T11:01:30.962Z"
   },
   {
    "duration": 108,
    "start_time": "2024-10-03T11:01:30.987Z"
   },
   {
    "duration": 4,
    "start_time": "2024-10-03T11:01:31.097Z"
   },
   {
    "duration": 24,
    "start_time": "2024-10-03T11:01:31.102Z"
   },
   {
    "duration": 27,
    "start_time": "2024-10-03T11:01:31.128Z"
   },
   {
    "duration": 7,
    "start_time": "2024-10-03T11:01:31.157Z"
   },
   {
    "duration": 26,
    "start_time": "2024-10-03T11:01:31.166Z"
   },
   {
    "duration": 144962,
    "start_time": "2024-10-03T11:01:31.194Z"
   },
   {
    "duration": 4,
    "start_time": "2024-10-03T11:04:25.552Z"
   },
   {
    "duration": 54026,
    "start_time": "2024-10-03T11:04:27.386Z"
   },
   {
    "duration": 4,
    "start_time": "2024-10-03T11:06:33.224Z"
   },
   {
    "duration": 1254432,
    "start_time": "2024-10-03T11:06:36.835Z"
   },
   {
    "duration": 3,
    "start_time": "2024-10-03T11:27:42.842Z"
   },
   {
    "duration": 141156,
    "start_time": "2024-10-03T11:27:45.830Z"
   },
   {
    "duration": 4,
    "start_time": "2024-10-03T11:30:18.701Z"
   }
  ],
  "kernelspec": {
   "display_name": "Python 3",
   "language": "python",
   "name": "python3"
  },
  "language_info": {
   "codemirror_mode": {
    "name": "ipython",
    "version": 3
   },
   "file_extension": ".py",
   "mimetype": "text/x-python",
   "name": "python",
   "nbconvert_exporter": "python",
   "pygments_lexer": "ipython3",
   "version": "3.8.8"
  },
  "toc": {
   "base_numbering": 1,
   "nav_menu": {},
   "number_sections": false,
   "sideBar": true,
   "skip_h1_title": false,
   "title_cell": "Table of Contents",
   "title_sidebar": "Contents",
   "toc_cell": false,
   "toc_position": {},
   "toc_section_display": true,
   "toc_window_display": false
  },
  "varInspector": {
   "cols": {
    "lenName": 16,
    "lenType": 16,
    "lenVar": 40
   },
   "kernels_config": {
    "python": {
     "delete_cmd_postfix": "",
     "delete_cmd_prefix": "del ",
     "library": "var_list.py",
     "varRefreshCmd": "print(var_dic_list())"
    },
    "r": {
     "delete_cmd_postfix": ") ",
     "delete_cmd_prefix": "rm(",
     "library": "var_list.r",
     "varRefreshCmd": "cat(var_dic_list()) "
    }
   },
   "types_to_exclude": [
    "module",
    "function",
    "builtin_function_or_method",
    "instance",
    "_Feature"
   ],
   "window_display": false
  }
 },
 "nbformat": 4,
 "nbformat_minor": 5
}
