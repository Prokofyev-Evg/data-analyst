{
 "cells": [
  {
   "cell_type": "markdown",
   "id": "5b87fb1e",
   "metadata": {},
   "source": [
    "# Описание проекта. Промышленность"
   ]
  },
  {
   "cell_type": "markdown",
   "id": "b4c7df17",
   "metadata": {},
   "source": [
    "Чтобы оптимизировать производственные расходы, металлургический комбинат «Стальная птица» решил уменьшить потребление электроэнергии на этапе обработки стали. Для этого комбинату нужно контролировать температуру сплава. Ваша задача — построить модель, которая будет её предсказывать. Заказчик хочет использовать разработанную модель для имитации технологического процесса. Изучите его, прежде чем генерировать новые признаки."
   ]
  },
  {
   "cell_type": "markdown",
   "id": "160472e1",
   "metadata": {},
   "source": [
    "## Описание процесса обработки"
   ]
  },
  {
   "cell_type": "markdown",
   "id": "6c2882f2",
   "metadata": {},
   "source": [
    "Сталь обрабатывают в металлическом ковше вместимостью около 100 тонн. Чтобы ковш выдерживал высокие температуры, изнутри его облицовывают огнеупорным кирпичом. Расплавленную сталь заливают в ковш и подогревают до нужной температуры графитовыми электродами. Они установлены на крышке ковша.\n",
    "\n",
    "Сначала происходит десульфурация — из стали выводят серу и корректируют её химический состав добавлением примесей. Затем сталь легируют — добавляют в неё куски сплава из бункера для сыпучих материалов или порошковую проволоку через специальный трайб-аппарат.\n",
    "\n",
    "Прежде чем в первый раз ввести легирующие добавки, специалисты производят химический анализ стали и измеряют её температуру. Потом температуру на несколько минут повышают, уже после этого добавляют легирующие материалы и продувают сталь инертным газом, чтобы перемешать, а затем снова проводят измерения. Такой цикл повторяется до тех пор, пока не будут достигнуты нужный химический состав стали и оптимальная температура плавки.\n",
    "\n",
    "Дальше расплавленная сталь отправляется на доводку металла или поступает в машину непрерывной разливки. Оттуда готовый продукт выходит в виде заготовок-слябов (англ. slab, «плита»)."
   ]
  },
  {
   "cell_type": "code",
   "execution_count": 1,
   "id": "61b0c852",
   "metadata": {},
   "outputs": [
    {
     "name": "stdout",
     "output_type": "stream",
     "text": [
      "Requirement already satisfied: catboost in /home/iuser24/anaconda3/lib/python3.8/site-packages (1.2.7)\n",
      "Requirement already satisfied: matplotlib in /home/iuser24/anaconda3/lib/python3.8/site-packages (from catboost) (3.7.5)\n",
      "Requirement already satisfied: pandas>=0.24 in /home/iuser24/anaconda3/lib/python3.8/site-packages (from catboost) (1.2.4)\n",
      "Requirement already satisfied: plotly in /home/iuser24/anaconda3/lib/python3.8/site-packages (from catboost) (5.22.0)\n",
      "Requirement already satisfied: graphviz in /home/iuser24/anaconda3/lib/python3.8/site-packages (from catboost) (0.20.3)\n",
      "Requirement already satisfied: numpy<2.0,>=1.16.0 in /home/iuser24/anaconda3/lib/python3.8/site-packages (from catboost) (1.24.3)\n",
      "Requirement already satisfied: scipy in /home/iuser24/anaconda3/lib/python3.8/site-packages (from catboost) (1.8.0)\n",
      "Requirement already satisfied: six in /home/iuser24/anaconda3/lib/python3.8/site-packages (from catboost) (1.15.0)\n",
      "Requirement already satisfied: python-dateutil>=2.7.3 in /home/iuser24/anaconda3/lib/python3.8/site-packages (from pandas>=0.24->catboost) (2.8.1)\n",
      "Requirement already satisfied: pytz>=2017.3 in /home/iuser24/anaconda3/lib/python3.8/site-packages (from pandas>=0.24->catboost) (2021.1)\n",
      "Requirement already satisfied: packaging>=20.0 in /home/iuser24/anaconda3/lib/python3.8/site-packages (from matplotlib->catboost) (23.2)\n",
      "Requirement already satisfied: pillow>=6.2.0 in /home/iuser24/anaconda3/lib/python3.8/site-packages (from matplotlib->catboost) (8.2.0)\n",
      "Requirement already satisfied: importlib-resources>=3.2.0 in /home/iuser24/anaconda3/lib/python3.8/site-packages (from matplotlib->catboost) (6.4.0)\n",
      "Requirement already satisfied: kiwisolver>=1.0.1 in /home/iuser24/anaconda3/lib/python3.8/site-packages (from matplotlib->catboost) (1.3.1)\n",
      "Requirement already satisfied: cycler>=0.10 in /home/iuser24/anaconda3/lib/python3.8/site-packages (from matplotlib->catboost) (0.10.0)\n",
      "Requirement already satisfied: fonttools>=4.22.0 in /home/iuser24/anaconda3/lib/python3.8/site-packages (from matplotlib->catboost) (4.53.1)\n",
      "Requirement already satisfied: pyparsing>=2.3.1 in /home/iuser24/anaconda3/lib/python3.8/site-packages (from matplotlib->catboost) (2.4.7)\n",
      "Requirement already satisfied: contourpy>=1.0.1 in /home/iuser24/anaconda3/lib/python3.8/site-packages (from matplotlib->catboost) (1.1.1)\n",
      "Requirement already satisfied: zipp>=3.1.0 in /home/iuser24/anaconda3/lib/python3.8/site-packages (from importlib-resources>=3.2.0->matplotlib->catboost) (3.4.1)\n",
      "Requirement already satisfied: tenacity>=6.2.0 in /home/iuser24/anaconda3/lib/python3.8/site-packages (from plotly->catboost) (8.2.3)\n"
     ]
    }
   ],
   "source": [
    "!pip install catboost"
   ]
  },
  {
   "cell_type": "code",
   "execution_count": 2,
   "id": "6177b303",
   "metadata": {},
   "outputs": [],
   "source": [
    "# Подключения библиотек\n",
    "import os\n",
    "import pandas as pd\n",
    "import seaborn as sns\n",
    "import matplotlib.pyplot as plt\n",
    "from sqlalchemy import create_engine\n",
    "\n",
    "# Импортируем модели\n",
    "from sklearn.ensemble import RandomForestRegressor\n",
    "from catboost import Pool, CatBoostRegressor\n",
    "\n",
    "# Импортируем класс GridSearchCV\n",
    "from sklearn.model_selection import GridSearchCV\n",
    "\n",
    "# Импортируем pytorch\n",
    "import torch\n",
    "import torch.nn as nn"
   ]
  },
  {
   "cell_type": "code",
   "execution_count": 3,
   "id": "7edc9f79",
   "metadata": {},
   "outputs": [],
   "source": [
    "from IPython.display import Markdown, display\n",
    "def printmd(string):\n",
    "    display(Markdown(string))"
   ]
  },
  {
   "cell_type": "markdown",
   "id": "2b86a724",
   "metadata": {},
   "source": [
    "Зафиксируем `RANDOM_STATE`"
   ]
  },
  {
   "cell_type": "code",
   "execution_count": 4,
   "id": "44de6730",
   "metadata": {},
   "outputs": [],
   "source": [
    "RANDOM_STATE = 170125"
   ]
  },
  {
   "cell_type": "markdown",
   "id": "047d1cc5",
   "metadata": {},
   "source": [
    "## Шаг 1. Загрузка данных"
   ]
  },
  {
   "cell_type": "markdown",
   "id": "7f7813fe",
   "metadata": {},
   "source": [
    "Данные хранятся в `Sqlite`  — СУБД, в которой база данных представлена одним файлом. Она состоит из нескольких таблиц:\n",
    "- `steel.data_arc` — данные об электродах;\n",
    "- `steel.data_bulk` — данные об объёме сыпучих материалов;\n",
    "- `steel.data_bulk`_time — данные о времени подачи сыпучих материалов;\n",
    "- `steel.data_gas` — данные о продувке сплава газом;\n",
    "- `steel.data_temp` — данные об измерениях температуры;\n",
    "- `steel.data_wire` — данные об объёме проволочных материалов;\n",
    "- `steel.data_wire_time` — данные о времени подачи проволочных материалов."
   ]
  },
  {
   "cell_type": "code",
   "execution_count": 5,
   "id": "4ef3e5cb",
   "metadata": {},
   "outputs": [],
   "source": [
    "DB_FILENAME = 'ds-plus-final.db'"
   ]
  },
  {
   "cell_type": "code",
   "execution_count": 6,
   "id": "a8db7ecd",
   "metadata": {},
   "outputs": [],
   "source": [
    "if not os.path.isfile(DB_FILENAME):\n",
    "    !wget https://code.s3.yandex.net/data-scientist/ds-plus-final.db"
   ]
  },
  {
   "cell_type": "markdown",
   "id": "32ff3acb",
   "metadata": {},
   "source": [
    "Объявим учетные данные для подключения к базе данных"
   ]
  },
  {
   "cell_type": "code",
   "execution_count": 7,
   "id": "a7f09f59",
   "metadata": {},
   "outputs": [],
   "source": [
    "engine = create_engine(f'sqlite:///{DB_FILENAME}', echo=False) "
   ]
  },
  {
   "cell_type": "code",
   "execution_count": 8,
   "id": "42f932fc",
   "metadata": {},
   "outputs": [],
   "source": [
    "def primary_table_information(engine, table, limit):\n",
    "    select_10_query = '''\n",
    "    SELECT *\n",
    "    FROM {}\n",
    "    LIMIT {}\n",
    "    '''\n",
    "    count_all_query = '''\n",
    "    SELECT COUNT(*)\n",
    "    FROM {}\n",
    "    '''\n",
    "    printmd(f\"Количество строк: {pd.read_sql_query(count_all_query.format(table), con = engine)['COUNT(*)'][0]}\")\n",
    "    df = pd.read_sql_query(select_10_query.format(table, limit), con = engine)\n",
    "    display(df.head(limit))"
   ]
  },
  {
   "cell_type": "markdown",
   "id": "69ec8567",
   "metadata": {},
   "source": [
    "### Таблица `steel.data_arc`\n",
    "- `key` — номер партии;\n",
    "- `BeginHeat` — время начала нагрева;\n",
    "- `EndHeat` — время окончания нагрева;\n",
    "- `ActivePower` — значение активной мощности;\n",
    "- `ReactivePower` — значение реактивной мощности."
   ]
  },
  {
   "cell_type": "code",
   "execution_count": 9,
   "id": "5ac75ad3",
   "metadata": {},
   "outputs": [
    {
     "data": {
      "text/markdown": [
       "Количество строк: 14876"
      ],
      "text/plain": [
       "<IPython.core.display.Markdown object>"
      ]
     },
     "metadata": {},
     "output_type": "display_data"
    },
    {
     "data": {
      "text/html": [
       "<div>\n",
       "<style scoped>\n",
       "    .dataframe tbody tr th:only-of-type {\n",
       "        vertical-align: middle;\n",
       "    }\n",
       "\n",
       "    .dataframe tbody tr th {\n",
       "        vertical-align: top;\n",
       "    }\n",
       "\n",
       "    .dataframe thead th {\n",
       "        text-align: right;\n",
       "    }\n",
       "</style>\n",
       "<table border=\"1\" class=\"dataframe\">\n",
       "  <thead>\n",
       "    <tr style=\"text-align: right;\">\n",
       "      <th></th>\n",
       "      <th>key</th>\n",
       "      <th>Начало нагрева дугой</th>\n",
       "      <th>Конец нагрева дугой</th>\n",
       "      <th>Активная мощность</th>\n",
       "      <th>Реактивная мощность</th>\n",
       "    </tr>\n",
       "  </thead>\n",
       "  <tbody>\n",
       "    <tr>\n",
       "      <th>0</th>\n",
       "      <td>1</td>\n",
       "      <td>2019-05-03 11:02:14</td>\n",
       "      <td>2019-05-03 11:06:02</td>\n",
       "      <td>0.305130</td>\n",
       "      <td>0.211253</td>\n",
       "    </tr>\n",
       "    <tr>\n",
       "      <th>1</th>\n",
       "      <td>1</td>\n",
       "      <td>2019-05-03 11:07:28</td>\n",
       "      <td>2019-05-03 11:10:33</td>\n",
       "      <td>0.765658</td>\n",
       "      <td>0.477438</td>\n",
       "    </tr>\n",
       "    <tr>\n",
       "      <th>2</th>\n",
       "      <td>1</td>\n",
       "      <td>2019-05-03 11:11:44</td>\n",
       "      <td>2019-05-03 11:14:36</td>\n",
       "      <td>0.580313</td>\n",
       "      <td>0.430460</td>\n",
       "    </tr>\n",
       "    <tr>\n",
       "      <th>3</th>\n",
       "      <td>1</td>\n",
       "      <td>2019-05-03 11:18:14</td>\n",
       "      <td>2019-05-03 11:24:19</td>\n",
       "      <td>0.518496</td>\n",
       "      <td>0.379979</td>\n",
       "    </tr>\n",
       "    <tr>\n",
       "      <th>4</th>\n",
       "      <td>1</td>\n",
       "      <td>2019-05-03 11:26:09</td>\n",
       "      <td>2019-05-03 11:28:37</td>\n",
       "      <td>0.867133</td>\n",
       "      <td>0.643691</td>\n",
       "    </tr>\n",
       "    <tr>\n",
       "      <th>5</th>\n",
       "      <td>2</td>\n",
       "      <td>2019-05-03 11:34:14</td>\n",
       "      <td>2019-05-03 11:36:31</td>\n",
       "      <td>0.381124</td>\n",
       "      <td>0.220351</td>\n",
       "    </tr>\n",
       "    <tr>\n",
       "      <th>6</th>\n",
       "      <td>2</td>\n",
       "      <td>2019-05-03 11:38:50</td>\n",
       "      <td>2019-05-03 11:44:28</td>\n",
       "      <td>0.261665</td>\n",
       "      <td>0.205527</td>\n",
       "    </tr>\n",
       "    <tr>\n",
       "      <th>7</th>\n",
       "      <td>2</td>\n",
       "      <td>2019-05-03 11:46:19</td>\n",
       "      <td>2019-05-03 11:48:25</td>\n",
       "      <td>0.710297</td>\n",
       "      <td>0.484962</td>\n",
       "    </tr>\n",
       "    <tr>\n",
       "      <th>8</th>\n",
       "      <td>2</td>\n",
       "      <td>2019-05-03 11:49:48</td>\n",
       "      <td>2019-05-03 11:53:18</td>\n",
       "      <td>0.786322</td>\n",
       "      <td>0.542517</td>\n",
       "    </tr>\n",
       "    <tr>\n",
       "      <th>9</th>\n",
       "      <td>3</td>\n",
       "      <td>2019-05-03 12:06:54</td>\n",
       "      <td>2019-05-03 12:11:34</td>\n",
       "      <td>1.101678</td>\n",
       "      <td>0.820856</td>\n",
       "    </tr>\n",
       "  </tbody>\n",
       "</table>\n",
       "</div>"
      ],
      "text/plain": [
       "   key Начало нагрева дугой  Конец нагрева дугой  Активная мощность  \\\n",
       "0    1  2019-05-03 11:02:14  2019-05-03 11:06:02           0.305130   \n",
       "1    1  2019-05-03 11:07:28  2019-05-03 11:10:33           0.765658   \n",
       "2    1  2019-05-03 11:11:44  2019-05-03 11:14:36           0.580313   \n",
       "3    1  2019-05-03 11:18:14  2019-05-03 11:24:19           0.518496   \n",
       "4    1  2019-05-03 11:26:09  2019-05-03 11:28:37           0.867133   \n",
       "5    2  2019-05-03 11:34:14  2019-05-03 11:36:31           0.381124   \n",
       "6    2  2019-05-03 11:38:50  2019-05-03 11:44:28           0.261665   \n",
       "7    2  2019-05-03 11:46:19  2019-05-03 11:48:25           0.710297   \n",
       "8    2  2019-05-03 11:49:48  2019-05-03 11:53:18           0.786322   \n",
       "9    3  2019-05-03 12:06:54  2019-05-03 12:11:34           1.101678   \n",
       "\n",
       "   Реактивная мощность  \n",
       "0             0.211253  \n",
       "1             0.477438  \n",
       "2             0.430460  \n",
       "3             0.379979  \n",
       "4             0.643691  \n",
       "5             0.220351  \n",
       "6             0.205527  \n",
       "7             0.484962  \n",
       "8             0.542517  \n",
       "9             0.820856  "
      ]
     },
     "metadata": {},
     "output_type": "display_data"
    }
   ],
   "source": [
    "primary_table_information(engine, 'data_arc', 10)"
   ]
  },
  {
   "cell_type": "markdown",
   "id": "8180ad64",
   "metadata": {},
   "source": [
    "### Таблица `steel.data_bulk`\n",
    "- `key` — номер партии;\n",
    "- `Bulk1 … Bulk15` — объём подаваемого материала."
   ]
  },
  {
   "cell_type": "code",
   "execution_count": 10,
   "id": "41607c65",
   "metadata": {},
   "outputs": [
    {
     "data": {
      "text/markdown": [
       "Количество строк: 3129"
      ],
      "text/plain": [
       "<IPython.core.display.Markdown object>"
      ]
     },
     "metadata": {},
     "output_type": "display_data"
    },
    {
     "data": {
      "text/html": [
       "<div>\n",
       "<style scoped>\n",
       "    .dataframe tbody tr th:only-of-type {\n",
       "        vertical-align: middle;\n",
       "    }\n",
       "\n",
       "    .dataframe tbody tr th {\n",
       "        vertical-align: top;\n",
       "    }\n",
       "\n",
       "    .dataframe thead th {\n",
       "        text-align: right;\n",
       "    }\n",
       "</style>\n",
       "<table border=\"1\" class=\"dataframe\">\n",
       "  <thead>\n",
       "    <tr style=\"text-align: right;\">\n",
       "      <th></th>\n",
       "      <th>key</th>\n",
       "      <th>Bulk 1</th>\n",
       "      <th>Bulk 2</th>\n",
       "      <th>Bulk 3</th>\n",
       "      <th>Bulk 4</th>\n",
       "      <th>Bulk 5</th>\n",
       "      <th>Bulk 6</th>\n",
       "      <th>Bulk 7</th>\n",
       "      <th>Bulk 8</th>\n",
       "      <th>Bulk 9</th>\n",
       "      <th>Bulk 10</th>\n",
       "      <th>Bulk 11</th>\n",
       "      <th>Bulk 12</th>\n",
       "      <th>Bulk 13</th>\n",
       "      <th>Bulk 14</th>\n",
       "      <th>Bulk 15</th>\n",
       "    </tr>\n",
       "  </thead>\n",
       "  <tbody>\n",
       "    <tr>\n",
       "      <th>0</th>\n",
       "      <td>1</td>\n",
       "      <td>None</td>\n",
       "      <td>None</td>\n",
       "      <td>None</td>\n",
       "      <td>43.0</td>\n",
       "      <td>None</td>\n",
       "      <td>None</td>\n",
       "      <td>None</td>\n",
       "      <td>None</td>\n",
       "      <td>None</td>\n",
       "      <td>None</td>\n",
       "      <td>None</td>\n",
       "      <td>206.0</td>\n",
       "      <td>None</td>\n",
       "      <td>150.0</td>\n",
       "      <td>154.0</td>\n",
       "    </tr>\n",
       "    <tr>\n",
       "      <th>1</th>\n",
       "      <td>2</td>\n",
       "      <td>None</td>\n",
       "      <td>None</td>\n",
       "      <td>None</td>\n",
       "      <td>73.0</td>\n",
       "      <td>None</td>\n",
       "      <td>None</td>\n",
       "      <td>None</td>\n",
       "      <td>None</td>\n",
       "      <td>None</td>\n",
       "      <td>None</td>\n",
       "      <td>None</td>\n",
       "      <td>206.0</td>\n",
       "      <td>None</td>\n",
       "      <td>149.0</td>\n",
       "      <td>154.0</td>\n",
       "    </tr>\n",
       "    <tr>\n",
       "      <th>2</th>\n",
       "      <td>3</td>\n",
       "      <td>None</td>\n",
       "      <td>None</td>\n",
       "      <td>None</td>\n",
       "      <td>34.0</td>\n",
       "      <td>None</td>\n",
       "      <td>None</td>\n",
       "      <td>None</td>\n",
       "      <td>None</td>\n",
       "      <td>None</td>\n",
       "      <td>None</td>\n",
       "      <td>None</td>\n",
       "      <td>205.0</td>\n",
       "      <td>None</td>\n",
       "      <td>152.0</td>\n",
       "      <td>153.0</td>\n",
       "    </tr>\n",
       "    <tr>\n",
       "      <th>3</th>\n",
       "      <td>4</td>\n",
       "      <td>None</td>\n",
       "      <td>None</td>\n",
       "      <td>None</td>\n",
       "      <td>81.0</td>\n",
       "      <td>None</td>\n",
       "      <td>None</td>\n",
       "      <td>None</td>\n",
       "      <td>None</td>\n",
       "      <td>None</td>\n",
       "      <td>None</td>\n",
       "      <td>None</td>\n",
       "      <td>207.0</td>\n",
       "      <td>None</td>\n",
       "      <td>153.0</td>\n",
       "      <td>154.0</td>\n",
       "    </tr>\n",
       "    <tr>\n",
       "      <th>4</th>\n",
       "      <td>5</td>\n",
       "      <td>None</td>\n",
       "      <td>None</td>\n",
       "      <td>None</td>\n",
       "      <td>78.0</td>\n",
       "      <td>None</td>\n",
       "      <td>None</td>\n",
       "      <td>None</td>\n",
       "      <td>None</td>\n",
       "      <td>None</td>\n",
       "      <td>None</td>\n",
       "      <td>None</td>\n",
       "      <td>203.0</td>\n",
       "      <td>None</td>\n",
       "      <td>151.0</td>\n",
       "      <td>152.0</td>\n",
       "    </tr>\n",
       "    <tr>\n",
       "      <th>5</th>\n",
       "      <td>6</td>\n",
       "      <td>None</td>\n",
       "      <td>None</td>\n",
       "      <td>None</td>\n",
       "      <td>117.0</td>\n",
       "      <td>None</td>\n",
       "      <td>None</td>\n",
       "      <td>None</td>\n",
       "      <td>None</td>\n",
       "      <td>None</td>\n",
       "      <td>None</td>\n",
       "      <td>None</td>\n",
       "      <td>204.0</td>\n",
       "      <td>None</td>\n",
       "      <td>201.0</td>\n",
       "      <td>154.0</td>\n",
       "    </tr>\n",
       "    <tr>\n",
       "      <th>6</th>\n",
       "      <td>7</td>\n",
       "      <td>None</td>\n",
       "      <td>None</td>\n",
       "      <td>None</td>\n",
       "      <td>117.0</td>\n",
       "      <td>None</td>\n",
       "      <td>None</td>\n",
       "      <td>None</td>\n",
       "      <td>None</td>\n",
       "      <td>None</td>\n",
       "      <td>None</td>\n",
       "      <td>None</td>\n",
       "      <td>204.0</td>\n",
       "      <td>None</td>\n",
       "      <td>152.0</td>\n",
       "      <td>154.0</td>\n",
       "    </tr>\n",
       "    <tr>\n",
       "      <th>7</th>\n",
       "      <td>8</td>\n",
       "      <td>None</td>\n",
       "      <td>None</td>\n",
       "      <td>None</td>\n",
       "      <td>99.0</td>\n",
       "      <td>None</td>\n",
       "      <td>None</td>\n",
       "      <td>None</td>\n",
       "      <td>None</td>\n",
       "      <td>None</td>\n",
       "      <td>None</td>\n",
       "      <td>None</td>\n",
       "      <td>410.0</td>\n",
       "      <td>None</td>\n",
       "      <td>252.0</td>\n",
       "      <td>153.0</td>\n",
       "    </tr>\n",
       "    <tr>\n",
       "      <th>8</th>\n",
       "      <td>9</td>\n",
       "      <td>None</td>\n",
       "      <td>None</td>\n",
       "      <td>None</td>\n",
       "      <td>117.0</td>\n",
       "      <td>None</td>\n",
       "      <td>None</td>\n",
       "      <td>None</td>\n",
       "      <td>None</td>\n",
       "      <td>None</td>\n",
       "      <td>None</td>\n",
       "      <td>None</td>\n",
       "      <td>107.0</td>\n",
       "      <td>None</td>\n",
       "      <td>99.0</td>\n",
       "      <td>203.0</td>\n",
       "    </tr>\n",
       "    <tr>\n",
       "      <th>9</th>\n",
       "      <td>10</td>\n",
       "      <td>None</td>\n",
       "      <td>None</td>\n",
       "      <td>None</td>\n",
       "      <td>NaN</td>\n",
       "      <td>None</td>\n",
       "      <td>None</td>\n",
       "      <td>None</td>\n",
       "      <td>None</td>\n",
       "      <td>None</td>\n",
       "      <td>None</td>\n",
       "      <td>None</td>\n",
       "      <td>203.0</td>\n",
       "      <td>None</td>\n",
       "      <td>102.0</td>\n",
       "      <td>204.0</td>\n",
       "    </tr>\n",
       "  </tbody>\n",
       "</table>\n",
       "</div>"
      ],
      "text/plain": [
       "   key Bulk 1 Bulk 2 Bulk 3  Bulk 4 Bulk 5 Bulk 6 Bulk 7 Bulk 8 Bulk 9  \\\n",
       "0    1   None   None   None    43.0   None   None   None   None   None   \n",
       "1    2   None   None   None    73.0   None   None   None   None   None   \n",
       "2    3   None   None   None    34.0   None   None   None   None   None   \n",
       "3    4   None   None   None    81.0   None   None   None   None   None   \n",
       "4    5   None   None   None    78.0   None   None   None   None   None   \n",
       "5    6   None   None   None   117.0   None   None   None   None   None   \n",
       "6    7   None   None   None   117.0   None   None   None   None   None   \n",
       "7    8   None   None   None    99.0   None   None   None   None   None   \n",
       "8    9   None   None   None   117.0   None   None   None   None   None   \n",
       "9   10   None   None   None     NaN   None   None   None   None   None   \n",
       "\n",
       "  Bulk 10 Bulk 11 Bulk 12 Bulk 13 Bulk 14 Bulk 15  \n",
       "0    None    None   206.0    None   150.0   154.0  \n",
       "1    None    None   206.0    None   149.0   154.0  \n",
       "2    None    None   205.0    None   152.0   153.0  \n",
       "3    None    None   207.0    None   153.0   154.0  \n",
       "4    None    None   203.0    None   151.0   152.0  \n",
       "5    None    None   204.0    None   201.0   154.0  \n",
       "6    None    None   204.0    None   152.0   154.0  \n",
       "7    None    None   410.0    None   252.0   153.0  \n",
       "8    None    None   107.0    None    99.0   203.0  \n",
       "9    None    None   203.0    None   102.0   204.0  "
      ]
     },
     "metadata": {},
     "output_type": "display_data"
    }
   ],
   "source": [
    "primary_table_information(engine, 'data_bulk', 10)"
   ]
  },
  {
   "cell_type": "markdown",
   "id": "9d36dcb3",
   "metadata": {},
   "source": [
    "### Таблица `steel.data_bulk_time`\n",
    "- `key` — номер партии;\n",
    "- `Bulk1 … Bulk15` — время подачи материала."
   ]
  },
  {
   "cell_type": "code",
   "execution_count": 11,
   "id": "1aa1c42e",
   "metadata": {},
   "outputs": [
    {
     "data": {
      "text/markdown": [
       "Количество строк: 3129"
      ],
      "text/plain": [
       "<IPython.core.display.Markdown object>"
      ]
     },
     "metadata": {},
     "output_type": "display_data"
    },
    {
     "data": {
      "text/html": [
       "<div>\n",
       "<style scoped>\n",
       "    .dataframe tbody tr th:only-of-type {\n",
       "        vertical-align: middle;\n",
       "    }\n",
       "\n",
       "    .dataframe tbody tr th {\n",
       "        vertical-align: top;\n",
       "    }\n",
       "\n",
       "    .dataframe thead th {\n",
       "        text-align: right;\n",
       "    }\n",
       "</style>\n",
       "<table border=\"1\" class=\"dataframe\">\n",
       "  <thead>\n",
       "    <tr style=\"text-align: right;\">\n",
       "      <th></th>\n",
       "      <th>key</th>\n",
       "      <th>Bulk 1</th>\n",
       "      <th>Bulk 2</th>\n",
       "      <th>Bulk 3</th>\n",
       "      <th>Bulk 4</th>\n",
       "      <th>Bulk 5</th>\n",
       "      <th>Bulk 6</th>\n",
       "      <th>Bulk 7</th>\n",
       "      <th>Bulk 8</th>\n",
       "      <th>Bulk 9</th>\n",
       "      <th>Bulk 10</th>\n",
       "      <th>Bulk 11</th>\n",
       "      <th>Bulk 12</th>\n",
       "      <th>Bulk 13</th>\n",
       "      <th>Bulk 14</th>\n",
       "      <th>Bulk 15</th>\n",
       "    </tr>\n",
       "  </thead>\n",
       "  <tbody>\n",
       "    <tr>\n",
       "      <th>0</th>\n",
       "      <td>1</td>\n",
       "      <td>None</td>\n",
       "      <td>None</td>\n",
       "      <td>None</td>\n",
       "      <td>2019-05-03 11:28:48</td>\n",
       "      <td>None</td>\n",
       "      <td>None</td>\n",
       "      <td>None</td>\n",
       "      <td>None</td>\n",
       "      <td>None</td>\n",
       "      <td>None</td>\n",
       "      <td>None</td>\n",
       "      <td>2019-05-03 11:24:31</td>\n",
       "      <td>None</td>\n",
       "      <td>2019-05-03 11:14:50</td>\n",
       "      <td>2019-05-03 11:10:43</td>\n",
       "    </tr>\n",
       "    <tr>\n",
       "      <th>1</th>\n",
       "      <td>2</td>\n",
       "      <td>None</td>\n",
       "      <td>None</td>\n",
       "      <td>None</td>\n",
       "      <td>2019-05-03 11:36:50</td>\n",
       "      <td>None</td>\n",
       "      <td>None</td>\n",
       "      <td>None</td>\n",
       "      <td>None</td>\n",
       "      <td>None</td>\n",
       "      <td>None</td>\n",
       "      <td>None</td>\n",
       "      <td>2019-05-03 11:53:30</td>\n",
       "      <td>None</td>\n",
       "      <td>2019-05-03 11:48:37</td>\n",
       "      <td>2019-05-03 11:44:39</td>\n",
       "    </tr>\n",
       "    <tr>\n",
       "      <th>2</th>\n",
       "      <td>3</td>\n",
       "      <td>None</td>\n",
       "      <td>None</td>\n",
       "      <td>None</td>\n",
       "      <td>2019-05-03 12:32:39</td>\n",
       "      <td>None</td>\n",
       "      <td>None</td>\n",
       "      <td>None</td>\n",
       "      <td>None</td>\n",
       "      <td>None</td>\n",
       "      <td>None</td>\n",
       "      <td>None</td>\n",
       "      <td>2019-05-03 12:27:13</td>\n",
       "      <td>None</td>\n",
       "      <td>2019-05-03 12:21:01</td>\n",
       "      <td>2019-05-03 12:16:16</td>\n",
       "    </tr>\n",
       "    <tr>\n",
       "      <th>3</th>\n",
       "      <td>4</td>\n",
       "      <td>None</td>\n",
       "      <td>None</td>\n",
       "      <td>None</td>\n",
       "      <td>2019-05-03 12:43:22</td>\n",
       "      <td>None</td>\n",
       "      <td>None</td>\n",
       "      <td>None</td>\n",
       "      <td>None</td>\n",
       "      <td>None</td>\n",
       "      <td>None</td>\n",
       "      <td>None</td>\n",
       "      <td>2019-05-03 12:58:00</td>\n",
       "      <td>None</td>\n",
       "      <td>2019-05-03 12:51:11</td>\n",
       "      <td>2019-05-03 12:46:36</td>\n",
       "    </tr>\n",
       "    <tr>\n",
       "      <th>4</th>\n",
       "      <td>5</td>\n",
       "      <td>None</td>\n",
       "      <td>None</td>\n",
       "      <td>None</td>\n",
       "      <td>2019-05-03 13:30:47</td>\n",
       "      <td>None</td>\n",
       "      <td>None</td>\n",
       "      <td>None</td>\n",
       "      <td>None</td>\n",
       "      <td>None</td>\n",
       "      <td>None</td>\n",
       "      <td>None</td>\n",
       "      <td>2019-05-03 13:30:47</td>\n",
       "      <td>None</td>\n",
       "      <td>2019-05-03 13:34:12</td>\n",
       "      <td>2019-05-03 13:30:47</td>\n",
       "    </tr>\n",
       "    <tr>\n",
       "      <th>5</th>\n",
       "      <td>6</td>\n",
       "      <td>None</td>\n",
       "      <td>None</td>\n",
       "      <td>None</td>\n",
       "      <td>2019-05-03 13:57:27</td>\n",
       "      <td>None</td>\n",
       "      <td>None</td>\n",
       "      <td>None</td>\n",
       "      <td>None</td>\n",
       "      <td>None</td>\n",
       "      <td>None</td>\n",
       "      <td>None</td>\n",
       "      <td>2019-05-03 13:48:52</td>\n",
       "      <td>None</td>\n",
       "      <td>2019-05-03 14:09:42</td>\n",
       "      <td>2019-05-03 14:03:15</td>\n",
       "    </tr>\n",
       "    <tr>\n",
       "      <th>6</th>\n",
       "      <td>7</td>\n",
       "      <td>None</td>\n",
       "      <td>None</td>\n",
       "      <td>None</td>\n",
       "      <td>2019-05-03 14:18:58</td>\n",
       "      <td>None</td>\n",
       "      <td>None</td>\n",
       "      <td>None</td>\n",
       "      <td>None</td>\n",
       "      <td>None</td>\n",
       "      <td>None</td>\n",
       "      <td>None</td>\n",
       "      <td>2019-05-03 14:41:26</td>\n",
       "      <td>None</td>\n",
       "      <td>2019-05-03 14:30:50</td>\n",
       "      <td>2019-05-03 14:27:16</td>\n",
       "    </tr>\n",
       "    <tr>\n",
       "      <th>7</th>\n",
       "      <td>8</td>\n",
       "      <td>None</td>\n",
       "      <td>None</td>\n",
       "      <td>None</td>\n",
       "      <td>2019-05-03 15:17:58</td>\n",
       "      <td>None</td>\n",
       "      <td>None</td>\n",
       "      <td>None</td>\n",
       "      <td>None</td>\n",
       "      <td>None</td>\n",
       "      <td>None</td>\n",
       "      <td>None</td>\n",
       "      <td>2019-05-03 15:17:58</td>\n",
       "      <td>None</td>\n",
       "      <td>2019-05-03 15:13:18</td>\n",
       "      <td>2019-05-03 15:05:33</td>\n",
       "    </tr>\n",
       "    <tr>\n",
       "      <th>8</th>\n",
       "      <td>9</td>\n",
       "      <td>None</td>\n",
       "      <td>None</td>\n",
       "      <td>None</td>\n",
       "      <td>2019-05-03 16:03:08</td>\n",
       "      <td>None</td>\n",
       "      <td>None</td>\n",
       "      <td>None</td>\n",
       "      <td>None</td>\n",
       "      <td>None</td>\n",
       "      <td>None</td>\n",
       "      <td>None</td>\n",
       "      <td>2019-05-03 16:03:08</td>\n",
       "      <td>None</td>\n",
       "      <td>2019-05-03 16:00:16</td>\n",
       "      <td>2019-05-03 15:52:39</td>\n",
       "    </tr>\n",
       "    <tr>\n",
       "      <th>9</th>\n",
       "      <td>10</td>\n",
       "      <td>None</td>\n",
       "      <td>None</td>\n",
       "      <td>None</td>\n",
       "      <td>None</td>\n",
       "      <td>None</td>\n",
       "      <td>None</td>\n",
       "      <td>None</td>\n",
       "      <td>None</td>\n",
       "      <td>None</td>\n",
       "      <td>None</td>\n",
       "      <td>None</td>\n",
       "      <td>2019-05-03 16:38:11</td>\n",
       "      <td>None</td>\n",
       "      <td>2019-05-03 16:34:24</td>\n",
       "      <td>2019-05-03 16:29:56</td>\n",
       "    </tr>\n",
       "  </tbody>\n",
       "</table>\n",
       "</div>"
      ],
      "text/plain": [
       "   key Bulk 1 Bulk 2 Bulk 3               Bulk 4 Bulk 5 Bulk 6 Bulk 7 Bulk 8  \\\n",
       "0    1   None   None   None  2019-05-03 11:28:48   None   None   None   None   \n",
       "1    2   None   None   None  2019-05-03 11:36:50   None   None   None   None   \n",
       "2    3   None   None   None  2019-05-03 12:32:39   None   None   None   None   \n",
       "3    4   None   None   None  2019-05-03 12:43:22   None   None   None   None   \n",
       "4    5   None   None   None  2019-05-03 13:30:47   None   None   None   None   \n",
       "5    6   None   None   None  2019-05-03 13:57:27   None   None   None   None   \n",
       "6    7   None   None   None  2019-05-03 14:18:58   None   None   None   None   \n",
       "7    8   None   None   None  2019-05-03 15:17:58   None   None   None   None   \n",
       "8    9   None   None   None  2019-05-03 16:03:08   None   None   None   None   \n",
       "9   10   None   None   None                 None   None   None   None   None   \n",
       "\n",
       "  Bulk 9 Bulk 10 Bulk 11              Bulk 12 Bulk 13              Bulk 14  \\\n",
       "0   None    None    None  2019-05-03 11:24:31    None  2019-05-03 11:14:50   \n",
       "1   None    None    None  2019-05-03 11:53:30    None  2019-05-03 11:48:37   \n",
       "2   None    None    None  2019-05-03 12:27:13    None  2019-05-03 12:21:01   \n",
       "3   None    None    None  2019-05-03 12:58:00    None  2019-05-03 12:51:11   \n",
       "4   None    None    None  2019-05-03 13:30:47    None  2019-05-03 13:34:12   \n",
       "5   None    None    None  2019-05-03 13:48:52    None  2019-05-03 14:09:42   \n",
       "6   None    None    None  2019-05-03 14:41:26    None  2019-05-03 14:30:50   \n",
       "7   None    None    None  2019-05-03 15:17:58    None  2019-05-03 15:13:18   \n",
       "8   None    None    None  2019-05-03 16:03:08    None  2019-05-03 16:00:16   \n",
       "9   None    None    None  2019-05-03 16:38:11    None  2019-05-03 16:34:24   \n",
       "\n",
       "               Bulk 15  \n",
       "0  2019-05-03 11:10:43  \n",
       "1  2019-05-03 11:44:39  \n",
       "2  2019-05-03 12:16:16  \n",
       "3  2019-05-03 12:46:36  \n",
       "4  2019-05-03 13:30:47  \n",
       "5  2019-05-03 14:03:15  \n",
       "6  2019-05-03 14:27:16  \n",
       "7  2019-05-03 15:05:33  \n",
       "8  2019-05-03 15:52:39  \n",
       "9  2019-05-03 16:29:56  "
      ]
     },
     "metadata": {},
     "output_type": "display_data"
    }
   ],
   "source": [
    "primary_table_information(engine, 'data_bulk_time', 10)"
   ]
  },
  {
   "cell_type": "markdown",
   "id": "fc9afc7b",
   "metadata": {},
   "source": [
    "### Таблица `steel.data_gas`\n",
    "- `key` — номер партии;\n",
    "- `gas` — объём подаваемого газа."
   ]
  },
  {
   "cell_type": "code",
   "execution_count": 12,
   "id": "97b51730",
   "metadata": {},
   "outputs": [
    {
     "data": {
      "text/markdown": [
       "Количество строк: 3239"
      ],
      "text/plain": [
       "<IPython.core.display.Markdown object>"
      ]
     },
     "metadata": {},
     "output_type": "display_data"
    },
    {
     "data": {
      "text/html": [
       "<div>\n",
       "<style scoped>\n",
       "    .dataframe tbody tr th:only-of-type {\n",
       "        vertical-align: middle;\n",
       "    }\n",
       "\n",
       "    .dataframe tbody tr th {\n",
       "        vertical-align: top;\n",
       "    }\n",
       "\n",
       "    .dataframe thead th {\n",
       "        text-align: right;\n",
       "    }\n",
       "</style>\n",
       "<table border=\"1\" class=\"dataframe\">\n",
       "  <thead>\n",
       "    <tr style=\"text-align: right;\">\n",
       "      <th></th>\n",
       "      <th>key</th>\n",
       "      <th>Газ 1</th>\n",
       "    </tr>\n",
       "  </thead>\n",
       "  <tbody>\n",
       "    <tr>\n",
       "      <th>0</th>\n",
       "      <td>1</td>\n",
       "      <td>29.749986</td>\n",
       "    </tr>\n",
       "    <tr>\n",
       "      <th>1</th>\n",
       "      <td>2</td>\n",
       "      <td>12.555561</td>\n",
       "    </tr>\n",
       "    <tr>\n",
       "      <th>2</th>\n",
       "      <td>3</td>\n",
       "      <td>28.554793</td>\n",
       "    </tr>\n",
       "    <tr>\n",
       "      <th>3</th>\n",
       "      <td>4</td>\n",
       "      <td>18.841219</td>\n",
       "    </tr>\n",
       "    <tr>\n",
       "      <th>4</th>\n",
       "      <td>5</td>\n",
       "      <td>5.413692</td>\n",
       "    </tr>\n",
       "    <tr>\n",
       "      <th>5</th>\n",
       "      <td>6</td>\n",
       "      <td>11.273392</td>\n",
       "    </tr>\n",
       "    <tr>\n",
       "      <th>6</th>\n",
       "      <td>7</td>\n",
       "      <td>9.836267</td>\n",
       "    </tr>\n",
       "    <tr>\n",
       "      <th>7</th>\n",
       "      <td>8</td>\n",
       "      <td>15.171553</td>\n",
       "    </tr>\n",
       "    <tr>\n",
       "      <th>8</th>\n",
       "      <td>9</td>\n",
       "      <td>8.216623</td>\n",
       "    </tr>\n",
       "    <tr>\n",
       "      <th>9</th>\n",
       "      <td>10</td>\n",
       "      <td>6.529891</td>\n",
       "    </tr>\n",
       "  </tbody>\n",
       "</table>\n",
       "</div>"
      ],
      "text/plain": [
       "   key      Газ 1\n",
       "0    1  29.749986\n",
       "1    2  12.555561\n",
       "2    3  28.554793\n",
       "3    4  18.841219\n",
       "4    5   5.413692\n",
       "5    6  11.273392\n",
       "6    7   9.836267\n",
       "7    8  15.171553\n",
       "8    9   8.216623\n",
       "9   10   6.529891"
      ]
     },
     "metadata": {},
     "output_type": "display_data"
    }
   ],
   "source": [
    "primary_table_information(engine, 'data_gas', 10)"
   ]
  },
  {
   "cell_type": "markdown",
   "id": "70dfef51",
   "metadata": {},
   "source": [
    "### Таблица steel.data_temp\n",
    "- `key` — номер партии;\n",
    "- `MesaureTime` — время замера;\n",
    "- `Temperature` — значение температуры."
   ]
  },
  {
   "cell_type": "code",
   "execution_count": 13,
   "id": "d99f16ad",
   "metadata": {},
   "outputs": [
    {
     "data": {
      "text/markdown": [
       "Количество строк: 18092"
      ],
      "text/plain": [
       "<IPython.core.display.Markdown object>"
      ]
     },
     "metadata": {},
     "output_type": "display_data"
    },
    {
     "data": {
      "text/html": [
       "<div>\n",
       "<style scoped>\n",
       "    .dataframe tbody tr th:only-of-type {\n",
       "        vertical-align: middle;\n",
       "    }\n",
       "\n",
       "    .dataframe tbody tr th {\n",
       "        vertical-align: top;\n",
       "    }\n",
       "\n",
       "    .dataframe thead th {\n",
       "        text-align: right;\n",
       "    }\n",
       "</style>\n",
       "<table border=\"1\" class=\"dataframe\">\n",
       "  <thead>\n",
       "    <tr style=\"text-align: right;\">\n",
       "      <th></th>\n",
       "      <th>key</th>\n",
       "      <th>Время замера</th>\n",
       "      <th>Температура</th>\n",
       "    </tr>\n",
       "  </thead>\n",
       "  <tbody>\n",
       "    <tr>\n",
       "      <th>0</th>\n",
       "      <td>1</td>\n",
       "      <td>2019-05-03 11:02:04</td>\n",
       "      <td>1571.0</td>\n",
       "    </tr>\n",
       "    <tr>\n",
       "      <th>1</th>\n",
       "      <td>1</td>\n",
       "      <td>2019-05-03 11:07:18</td>\n",
       "      <td>1604.0</td>\n",
       "    </tr>\n",
       "    <tr>\n",
       "      <th>2</th>\n",
       "      <td>1</td>\n",
       "      <td>2019-05-03 11:11:34</td>\n",
       "      <td>1618.0</td>\n",
       "    </tr>\n",
       "    <tr>\n",
       "      <th>3</th>\n",
       "      <td>1</td>\n",
       "      <td>2019-05-03 11:18:04</td>\n",
       "      <td>1601.0</td>\n",
       "    </tr>\n",
       "    <tr>\n",
       "      <th>4</th>\n",
       "      <td>1</td>\n",
       "      <td>2019-05-03 11:25:59</td>\n",
       "      <td>1606.0</td>\n",
       "    </tr>\n",
       "    <tr>\n",
       "      <th>5</th>\n",
       "      <td>1</td>\n",
       "      <td>2019-05-03 11:30:38</td>\n",
       "      <td>1613.0</td>\n",
       "    </tr>\n",
       "    <tr>\n",
       "      <th>6</th>\n",
       "      <td>2</td>\n",
       "      <td>2019-05-03 11:34:04</td>\n",
       "      <td>1581.0</td>\n",
       "    </tr>\n",
       "    <tr>\n",
       "      <th>7</th>\n",
       "      <td>2</td>\n",
       "      <td>2019-05-03 11:38:40</td>\n",
       "      <td>1577.0</td>\n",
       "    </tr>\n",
       "    <tr>\n",
       "      <th>8</th>\n",
       "      <td>2</td>\n",
       "      <td>2019-05-03 11:46:09</td>\n",
       "      <td>1589.0</td>\n",
       "    </tr>\n",
       "    <tr>\n",
       "      <th>9</th>\n",
       "      <td>2</td>\n",
       "      <td>2019-05-03 11:49:38</td>\n",
       "      <td>1604.0</td>\n",
       "    </tr>\n",
       "  </tbody>\n",
       "</table>\n",
       "</div>"
      ],
      "text/plain": [
       "   key         Время замера Температура\n",
       "0    1  2019-05-03 11:02:04      1571.0\n",
       "1    1  2019-05-03 11:07:18      1604.0\n",
       "2    1  2019-05-03 11:11:34      1618.0\n",
       "3    1  2019-05-03 11:18:04      1601.0\n",
       "4    1  2019-05-03 11:25:59      1606.0\n",
       "5    1  2019-05-03 11:30:38      1613.0\n",
       "6    2  2019-05-03 11:34:04      1581.0\n",
       "7    2  2019-05-03 11:38:40      1577.0\n",
       "8    2  2019-05-03 11:46:09      1589.0\n",
       "9    2  2019-05-03 11:49:38      1604.0"
      ]
     },
     "metadata": {},
     "output_type": "display_data"
    }
   ],
   "source": [
    "primary_table_information(engine, 'data_temp', 10)"
   ]
  },
  {
   "cell_type": "markdown",
   "id": "5afb764e",
   "metadata": {},
   "source": [
    "### Таблица `steel.data_wire`\n",
    "- `key` — номер партии;\n",
    "- `Wire1 … Wire9` — объём подаваемых проволочных материалов."
   ]
  },
  {
   "cell_type": "code",
   "execution_count": 14,
   "id": "4b53058d",
   "metadata": {},
   "outputs": [
    {
     "data": {
      "text/markdown": [
       "Количество строк: 3081"
      ],
      "text/plain": [
       "<IPython.core.display.Markdown object>"
      ]
     },
     "metadata": {},
     "output_type": "display_data"
    },
    {
     "data": {
      "text/html": [
       "<div>\n",
       "<style scoped>\n",
       "    .dataframe tbody tr th:only-of-type {\n",
       "        vertical-align: middle;\n",
       "    }\n",
       "\n",
       "    .dataframe tbody tr th {\n",
       "        vertical-align: top;\n",
       "    }\n",
       "\n",
       "    .dataframe thead th {\n",
       "        text-align: right;\n",
       "    }\n",
       "</style>\n",
       "<table border=\"1\" class=\"dataframe\">\n",
       "  <thead>\n",
       "    <tr style=\"text-align: right;\">\n",
       "      <th></th>\n",
       "      <th>key</th>\n",
       "      <th>Wire 1</th>\n",
       "      <th>Wire 2</th>\n",
       "      <th>Wire 3</th>\n",
       "      <th>Wire 4</th>\n",
       "      <th>Wire 5</th>\n",
       "      <th>Wire 6</th>\n",
       "      <th>Wire 7</th>\n",
       "      <th>Wire 8</th>\n",
       "      <th>Wire 9</th>\n",
       "    </tr>\n",
       "  </thead>\n",
       "  <tbody>\n",
       "    <tr>\n",
       "      <th>0</th>\n",
       "      <td>1</td>\n",
       "      <td>60.059998</td>\n",
       "      <td>None</td>\n",
       "      <td>None</td>\n",
       "      <td>None</td>\n",
       "      <td>None</td>\n",
       "      <td>None</td>\n",
       "      <td>None</td>\n",
       "      <td>None</td>\n",
       "      <td>None</td>\n",
       "    </tr>\n",
       "    <tr>\n",
       "      <th>1</th>\n",
       "      <td>2</td>\n",
       "      <td>96.052315</td>\n",
       "      <td>None</td>\n",
       "      <td>None</td>\n",
       "      <td>None</td>\n",
       "      <td>None</td>\n",
       "      <td>None</td>\n",
       "      <td>None</td>\n",
       "      <td>None</td>\n",
       "      <td>None</td>\n",
       "    </tr>\n",
       "    <tr>\n",
       "      <th>2</th>\n",
       "      <td>3</td>\n",
       "      <td>91.160157</td>\n",
       "      <td>None</td>\n",
       "      <td>None</td>\n",
       "      <td>None</td>\n",
       "      <td>None</td>\n",
       "      <td>None</td>\n",
       "      <td>None</td>\n",
       "      <td>None</td>\n",
       "      <td>None</td>\n",
       "    </tr>\n",
       "    <tr>\n",
       "      <th>3</th>\n",
       "      <td>4</td>\n",
       "      <td>89.063515</td>\n",
       "      <td>None</td>\n",
       "      <td>None</td>\n",
       "      <td>None</td>\n",
       "      <td>None</td>\n",
       "      <td>None</td>\n",
       "      <td>None</td>\n",
       "      <td>None</td>\n",
       "      <td>None</td>\n",
       "    </tr>\n",
       "    <tr>\n",
       "      <th>4</th>\n",
       "      <td>5</td>\n",
       "      <td>89.238236</td>\n",
       "      <td>9.11456</td>\n",
       "      <td>None</td>\n",
       "      <td>None</td>\n",
       "      <td>None</td>\n",
       "      <td>None</td>\n",
       "      <td>None</td>\n",
       "      <td>None</td>\n",
       "      <td>None</td>\n",
       "    </tr>\n",
       "    <tr>\n",
       "      <th>5</th>\n",
       "      <td>6</td>\n",
       "      <td>99.109917</td>\n",
       "      <td>9.11456</td>\n",
       "      <td>None</td>\n",
       "      <td>None</td>\n",
       "      <td>None</td>\n",
       "      <td>None</td>\n",
       "      <td>None</td>\n",
       "      <td>None</td>\n",
       "      <td>None</td>\n",
       "    </tr>\n",
       "    <tr>\n",
       "      <th>6</th>\n",
       "      <td>7</td>\n",
       "      <td>98.061600</td>\n",
       "      <td>None</td>\n",
       "      <td>None</td>\n",
       "      <td>None</td>\n",
       "      <td>None</td>\n",
       "      <td>None</td>\n",
       "      <td>None</td>\n",
       "      <td>None</td>\n",
       "      <td>None</td>\n",
       "    </tr>\n",
       "    <tr>\n",
       "      <th>7</th>\n",
       "      <td>8</td>\n",
       "      <td>155.282394</td>\n",
       "      <td>None</td>\n",
       "      <td>None</td>\n",
       "      <td>None</td>\n",
       "      <td>None</td>\n",
       "      <td>None</td>\n",
       "      <td>None</td>\n",
       "      <td>None</td>\n",
       "      <td>None</td>\n",
       "    </tr>\n",
       "    <tr>\n",
       "      <th>8</th>\n",
       "      <td>9</td>\n",
       "      <td>113.393279</td>\n",
       "      <td>9.143681</td>\n",
       "      <td>None</td>\n",
       "      <td>None</td>\n",
       "      <td>None</td>\n",
       "      <td>None</td>\n",
       "      <td>None</td>\n",
       "      <td>None</td>\n",
       "      <td>None</td>\n",
       "    </tr>\n",
       "    <tr>\n",
       "      <th>9</th>\n",
       "      <td>10</td>\n",
       "      <td>81.244796</td>\n",
       "      <td>12.376</td>\n",
       "      <td>None</td>\n",
       "      <td>None</td>\n",
       "      <td>None</td>\n",
       "      <td>None</td>\n",
       "      <td>None</td>\n",
       "      <td>None</td>\n",
       "      <td>None</td>\n",
       "    </tr>\n",
       "  </tbody>\n",
       "</table>\n",
       "</div>"
      ],
      "text/plain": [
       "   key      Wire 1    Wire 2 Wire 3 Wire 4 Wire 5 Wire 6 Wire 7 Wire 8 Wire 9\n",
       "0    1   60.059998      None   None   None   None   None   None   None   None\n",
       "1    2   96.052315      None   None   None   None   None   None   None   None\n",
       "2    3   91.160157      None   None   None   None   None   None   None   None\n",
       "3    4   89.063515      None   None   None   None   None   None   None   None\n",
       "4    5   89.238236   9.11456   None   None   None   None   None   None   None\n",
       "5    6   99.109917   9.11456   None   None   None   None   None   None   None\n",
       "6    7   98.061600      None   None   None   None   None   None   None   None\n",
       "7    8  155.282394      None   None   None   None   None   None   None   None\n",
       "8    9  113.393279  9.143681   None   None   None   None   None   None   None\n",
       "9   10   81.244796    12.376   None   None   None   None   None   None   None"
      ]
     },
     "metadata": {},
     "output_type": "display_data"
    }
   ],
   "source": [
    "primary_table_information(engine, 'data_wire', 10)"
   ]
  },
  {
   "cell_type": "markdown",
   "id": "c114879f",
   "metadata": {},
   "source": [
    "### Таблица `steel.data_wire_time`\n",
    "- `key` — номер партии;\n",
    "- `Wire1 … Wire9` — время подачи проволочных материалов."
   ]
  },
  {
   "cell_type": "code",
   "execution_count": 15,
   "id": "96ebea0f",
   "metadata": {},
   "outputs": [
    {
     "data": {
      "text/markdown": [
       "Количество строк: 3081"
      ],
      "text/plain": [
       "<IPython.core.display.Markdown object>"
      ]
     },
     "metadata": {},
     "output_type": "display_data"
    },
    {
     "data": {
      "text/html": [
       "<div>\n",
       "<style scoped>\n",
       "    .dataframe tbody tr th:only-of-type {\n",
       "        vertical-align: middle;\n",
       "    }\n",
       "\n",
       "    .dataframe tbody tr th {\n",
       "        vertical-align: top;\n",
       "    }\n",
       "\n",
       "    .dataframe thead th {\n",
       "        text-align: right;\n",
       "    }\n",
       "</style>\n",
       "<table border=\"1\" class=\"dataframe\">\n",
       "  <thead>\n",
       "    <tr style=\"text-align: right;\">\n",
       "      <th></th>\n",
       "      <th>key</th>\n",
       "      <th>Wire 1</th>\n",
       "      <th>Wire 2</th>\n",
       "      <th>Wire 3</th>\n",
       "      <th>Wire 4</th>\n",
       "      <th>Wire 5</th>\n",
       "      <th>Wire 6</th>\n",
       "      <th>Wire 7</th>\n",
       "      <th>Wire 8</th>\n",
       "      <th>Wire 9</th>\n",
       "    </tr>\n",
       "  </thead>\n",
       "  <tbody>\n",
       "    <tr>\n",
       "      <th>0</th>\n",
       "      <td>1</td>\n",
       "      <td>2019-05-03 11:06:19</td>\n",
       "      <td>None</td>\n",
       "      <td>None</td>\n",
       "      <td>None</td>\n",
       "      <td>None</td>\n",
       "      <td>None</td>\n",
       "      <td>None</td>\n",
       "      <td>None</td>\n",
       "      <td>None</td>\n",
       "    </tr>\n",
       "    <tr>\n",
       "      <th>1</th>\n",
       "      <td>2</td>\n",
       "      <td>2019-05-03 11:36:50</td>\n",
       "      <td>None</td>\n",
       "      <td>None</td>\n",
       "      <td>None</td>\n",
       "      <td>None</td>\n",
       "      <td>None</td>\n",
       "      <td>None</td>\n",
       "      <td>None</td>\n",
       "      <td>None</td>\n",
       "    </tr>\n",
       "    <tr>\n",
       "      <th>2</th>\n",
       "      <td>3</td>\n",
       "      <td>2019-05-03 12:11:46</td>\n",
       "      <td>None</td>\n",
       "      <td>None</td>\n",
       "      <td>None</td>\n",
       "      <td>None</td>\n",
       "      <td>None</td>\n",
       "      <td>None</td>\n",
       "      <td>None</td>\n",
       "      <td>None</td>\n",
       "    </tr>\n",
       "    <tr>\n",
       "      <th>3</th>\n",
       "      <td>4</td>\n",
       "      <td>2019-05-03 12:43:22</td>\n",
       "      <td>None</td>\n",
       "      <td>None</td>\n",
       "      <td>None</td>\n",
       "      <td>None</td>\n",
       "      <td>None</td>\n",
       "      <td>None</td>\n",
       "      <td>None</td>\n",
       "      <td>None</td>\n",
       "    </tr>\n",
       "    <tr>\n",
       "      <th>4</th>\n",
       "      <td>5</td>\n",
       "      <td>2019-05-03 13:20:44</td>\n",
       "      <td>2019-05-03 13:15:34</td>\n",
       "      <td>None</td>\n",
       "      <td>None</td>\n",
       "      <td>None</td>\n",
       "      <td>None</td>\n",
       "      <td>None</td>\n",
       "      <td>None</td>\n",
       "      <td>None</td>\n",
       "    </tr>\n",
       "    <tr>\n",
       "      <th>5</th>\n",
       "      <td>6</td>\n",
       "      <td>2019-05-03 13:57:27</td>\n",
       "      <td>2019-05-03 13:48:52</td>\n",
       "      <td>None</td>\n",
       "      <td>None</td>\n",
       "      <td>None</td>\n",
       "      <td>None</td>\n",
       "      <td>None</td>\n",
       "      <td>None</td>\n",
       "      <td>None</td>\n",
       "    </tr>\n",
       "    <tr>\n",
       "      <th>6</th>\n",
       "      <td>7</td>\n",
       "      <td>2019-05-03 14:18:58</td>\n",
       "      <td>None</td>\n",
       "      <td>None</td>\n",
       "      <td>None</td>\n",
       "      <td>None</td>\n",
       "      <td>None</td>\n",
       "      <td>None</td>\n",
       "      <td>None</td>\n",
       "      <td>None</td>\n",
       "    </tr>\n",
       "    <tr>\n",
       "      <th>7</th>\n",
       "      <td>8</td>\n",
       "      <td>2019-05-03 15:01:30</td>\n",
       "      <td>None</td>\n",
       "      <td>None</td>\n",
       "      <td>None</td>\n",
       "      <td>None</td>\n",
       "      <td>None</td>\n",
       "      <td>None</td>\n",
       "      <td>None</td>\n",
       "      <td>None</td>\n",
       "    </tr>\n",
       "    <tr>\n",
       "      <th>8</th>\n",
       "      <td>9</td>\n",
       "      <td>2019-05-03 15:45:44</td>\n",
       "      <td>2019-05-03 15:39:37</td>\n",
       "      <td>None</td>\n",
       "      <td>None</td>\n",
       "      <td>None</td>\n",
       "      <td>None</td>\n",
       "      <td>None</td>\n",
       "      <td>None</td>\n",
       "      <td>None</td>\n",
       "    </tr>\n",
       "    <tr>\n",
       "      <th>9</th>\n",
       "      <td>10</td>\n",
       "      <td>2019-05-03 16:27:00</td>\n",
       "      <td>2019-05-03 16:22:36</td>\n",
       "      <td>None</td>\n",
       "      <td>None</td>\n",
       "      <td>None</td>\n",
       "      <td>None</td>\n",
       "      <td>None</td>\n",
       "      <td>None</td>\n",
       "      <td>None</td>\n",
       "    </tr>\n",
       "  </tbody>\n",
       "</table>\n",
       "</div>"
      ],
      "text/plain": [
       "   key               Wire 1               Wire 2 Wire 3 Wire 4 Wire 5 Wire 6  \\\n",
       "0    1  2019-05-03 11:06:19                 None   None   None   None   None   \n",
       "1    2  2019-05-03 11:36:50                 None   None   None   None   None   \n",
       "2    3  2019-05-03 12:11:46                 None   None   None   None   None   \n",
       "3    4  2019-05-03 12:43:22                 None   None   None   None   None   \n",
       "4    5  2019-05-03 13:20:44  2019-05-03 13:15:34   None   None   None   None   \n",
       "5    6  2019-05-03 13:57:27  2019-05-03 13:48:52   None   None   None   None   \n",
       "6    7  2019-05-03 14:18:58                 None   None   None   None   None   \n",
       "7    8  2019-05-03 15:01:30                 None   None   None   None   None   \n",
       "8    9  2019-05-03 15:45:44  2019-05-03 15:39:37   None   None   None   None   \n",
       "9   10  2019-05-03 16:27:00  2019-05-03 16:22:36   None   None   None   None   \n",
       "\n",
       "  Wire 7 Wire 8 Wire 9  \n",
       "0   None   None   None  \n",
       "1   None   None   None  \n",
       "2   None   None   None  \n",
       "3   None   None   None  \n",
       "4   None   None   None  \n",
       "5   None   None   None  \n",
       "6   None   None   None  \n",
       "7   None   None   None  \n",
       "8   None   None   None  \n",
       "9   None   None   None  "
      ]
     },
     "metadata": {},
     "output_type": "display_data"
    }
   ],
   "source": [
    "primary_table_information(engine, 'data_wire_time', 10)"
   ]
  },
  {
   "cell_type": "markdown",
   "id": "a65d2416",
   "metadata": {},
   "source": [
    "Во всех файлах столбец `key` содержит номер партии. В таблицах может быть несколько строк с одинаковым значением `key`: они соответствуют разным итерациям обработки."
   ]
  },
  {
   "cell_type": "markdown",
   "id": "d525eb66",
   "metadata": {},
   "source": [
    "Объем данных позволяет загрузить их в DataFrame"
   ]
  },
  {
   "cell_type": "code",
   "execution_count": 16,
   "id": "3bf1708c",
   "metadata": {},
   "outputs": [],
   "source": [
    "data_arc_df = pd.read_sql_query(\"SELECT * FROM data_arc\", con = engine)\n",
    "data_bulk_df = pd.read_sql_query(\"SELECT * FROM data_bulk\", con = engine)\n",
    "data_bulk_time_df = pd.read_sql_query(\"SELECT * FROM data_bulk_time\", con = engine)\n",
    "data_gas_df = pd.read_sql_query(\"SELECT * FROM data_gas\", con = engine)\n",
    "data_temp_df = pd.read_sql_query(\"SELECT * FROM data_temp\", con = engine)\n",
    "data_wire_df = pd.read_sql_query(\"SELECT * FROM data_wire\", con = engine)\n",
    "data_wire_time_df = pd.read_sql_query(\"SELECT * FROM data_wire_time\", con = engine)"
   ]
  },
  {
   "cell_type": "markdown",
   "id": "3467c3e3",
   "metadata": {},
   "source": [
    "## Шаг 2. Исследовательский анализ и предобработка данных"
   ]
  },
  {
   "cell_type": "code",
   "execution_count": 17,
   "id": "03f3a58b",
   "metadata": {},
   "outputs": [],
   "source": [
    "def draw_boxplots(df, cols, labels, title):\n",
    "    fig, axs = plt.subplots(ncols=len(cols), nrows=1, figsize=(16, 4))\n",
    "    for i in range(len(cols)):\n",
    "        sns.boxplot(data = df, y=cols[i], ax=axs[i])\n",
    "        axs[i].set_xlabel(labels[i])\n",
    "        axs[i].set_ylabel(\"\")\n",
    "    fig.suptitle(title, fontsize=30);"
   ]
  },
  {
   "cell_type": "code",
   "execution_count": 18,
   "id": "d81522c2",
   "metadata": {},
   "outputs": [],
   "source": [
    "def draw_hists(df, cols, labels, title):\n",
    "    fig, axs = plt.subplots(ncols=len(cols), nrows=1, figsize=(16, 4))\n",
    "    for i in range(len(cols)):\n",
    "        df[cols[i]].hist(ax=axs[i])\n",
    "        axs[i].set_xlabel(labels[i])\n",
    "        axs[i].set_ylabel(\"\")\n",
    "    fig.suptitle(title, fontsize=30);\n",
    "    return fig, axs"
   ]
  },
  {
   "cell_type": "code",
   "execution_count": 19,
   "id": "e4d3c7ee",
   "metadata": {},
   "outputs": [],
   "source": [
    "def primary_info(df):\n",
    "    display(df.head())\n",
    "    display(df.info())\n",
    "    printmd(\"**Пропущенные значения**\")\n",
    "    display(df.isna().sum())\n",
    "    printmd(f\"**Количество дубликатов: {df.duplicated().sum()}**\")"
   ]
  },
  {
   "cell_type": "markdown",
   "id": "ce7a0977",
   "metadata": {},
   "source": [
    "### Проанализируйте исходные данные. Проверьте:\n",
    "- Все ли таблицы содержат данные.\n",
    "- Соответствует ли количество таблиц условию задачи."
   ]
  },
  {
   "cell_type": "code",
   "execution_count": null,
   "id": "0ef69149",
   "metadata": {},
   "outputs": [],
   "source": []
  },
  {
   "cell_type": "markdown",
   "id": "35dcfe6c",
   "metadata": {},
   "source": [
    "### Для таблицы steel.data_arc:\n",
    "- Проведите исследовательский анализ данных: проверьте наличие пропусков и аномалий, изучите распределение признаков.\n",
    "- Вам нужно либо удалить всю партию с аномальным значением, либо заменить аномальное значение, основываясь на нормальных наблюдениях.\n",
    "- Попробуйте сгенерировать новые признаки, которые могут пригодиться при обучении: длительность нагрева, общую мощность, соотношение активной мощности к реактивной, количество запуска нагрева электродами и другие.\n",
    "- При агрегировании наблюдений по ключу учитывайте порядок арифметических действий: сначала сгенерируйте новые признаки, затем уже агрегируйте наблюдения."
   ]
  },
  {
   "cell_type": "code",
   "execution_count": 20,
   "id": "32ff50be",
   "metadata": {},
   "outputs": [
    {
     "data": {
      "text/html": [
       "<div>\n",
       "<style scoped>\n",
       "    .dataframe tbody tr th:only-of-type {\n",
       "        vertical-align: middle;\n",
       "    }\n",
       "\n",
       "    .dataframe tbody tr th {\n",
       "        vertical-align: top;\n",
       "    }\n",
       "\n",
       "    .dataframe thead th {\n",
       "        text-align: right;\n",
       "    }\n",
       "</style>\n",
       "<table border=\"1\" class=\"dataframe\">\n",
       "  <thead>\n",
       "    <tr style=\"text-align: right;\">\n",
       "      <th></th>\n",
       "      <th>key</th>\n",
       "      <th>Начало нагрева дугой</th>\n",
       "      <th>Конец нагрева дугой</th>\n",
       "      <th>Активная мощность</th>\n",
       "      <th>Реактивная мощность</th>\n",
       "    </tr>\n",
       "  </thead>\n",
       "  <tbody>\n",
       "    <tr>\n",
       "      <th>0</th>\n",
       "      <td>1</td>\n",
       "      <td>2019-05-03 11:02:14</td>\n",
       "      <td>2019-05-03 11:06:02</td>\n",
       "      <td>0.305130</td>\n",
       "      <td>0.211253</td>\n",
       "    </tr>\n",
       "    <tr>\n",
       "      <th>1</th>\n",
       "      <td>1</td>\n",
       "      <td>2019-05-03 11:07:28</td>\n",
       "      <td>2019-05-03 11:10:33</td>\n",
       "      <td>0.765658</td>\n",
       "      <td>0.477438</td>\n",
       "    </tr>\n",
       "    <tr>\n",
       "      <th>2</th>\n",
       "      <td>1</td>\n",
       "      <td>2019-05-03 11:11:44</td>\n",
       "      <td>2019-05-03 11:14:36</td>\n",
       "      <td>0.580313</td>\n",
       "      <td>0.430460</td>\n",
       "    </tr>\n",
       "    <tr>\n",
       "      <th>3</th>\n",
       "      <td>1</td>\n",
       "      <td>2019-05-03 11:18:14</td>\n",
       "      <td>2019-05-03 11:24:19</td>\n",
       "      <td>0.518496</td>\n",
       "      <td>0.379979</td>\n",
       "    </tr>\n",
       "    <tr>\n",
       "      <th>4</th>\n",
       "      <td>1</td>\n",
       "      <td>2019-05-03 11:26:09</td>\n",
       "      <td>2019-05-03 11:28:37</td>\n",
       "      <td>0.867133</td>\n",
       "      <td>0.643691</td>\n",
       "    </tr>\n",
       "  </tbody>\n",
       "</table>\n",
       "</div>"
      ],
      "text/plain": [
       "   key Начало нагрева дугой  Конец нагрева дугой  Активная мощность  \\\n",
       "0    1  2019-05-03 11:02:14  2019-05-03 11:06:02           0.305130   \n",
       "1    1  2019-05-03 11:07:28  2019-05-03 11:10:33           0.765658   \n",
       "2    1  2019-05-03 11:11:44  2019-05-03 11:14:36           0.580313   \n",
       "3    1  2019-05-03 11:18:14  2019-05-03 11:24:19           0.518496   \n",
       "4    1  2019-05-03 11:26:09  2019-05-03 11:28:37           0.867133   \n",
       "\n",
       "   Реактивная мощность  \n",
       "0             0.211253  \n",
       "1             0.477438  \n",
       "2             0.430460  \n",
       "3             0.379979  \n",
       "4             0.643691  "
      ]
     },
     "metadata": {},
     "output_type": "display_data"
    },
    {
     "name": "stdout",
     "output_type": "stream",
     "text": [
      "<class 'pandas.core.frame.DataFrame'>\n",
      "RangeIndex: 14876 entries, 0 to 14875\n",
      "Data columns (total 5 columns):\n",
      " #   Column                Non-Null Count  Dtype  \n",
      "---  ------                --------------  -----  \n",
      " 0   key                   14876 non-null  int64  \n",
      " 1   Начало нагрева дугой  14876 non-null  object \n",
      " 2   Конец нагрева дугой   14876 non-null  object \n",
      " 3   Активная мощность     14876 non-null  float64\n",
      " 4   Реактивная мощность   14876 non-null  float64\n",
      "dtypes: float64(2), int64(1), object(2)\n",
      "memory usage: 581.2+ KB\n"
     ]
    },
    {
     "data": {
      "text/plain": [
       "None"
      ]
     },
     "metadata": {},
     "output_type": "display_data"
    },
    {
     "data": {
      "text/markdown": [
       "**Пропущенные значения**"
      ],
      "text/plain": [
       "<IPython.core.display.Markdown object>"
      ]
     },
     "metadata": {},
     "output_type": "display_data"
    },
    {
     "data": {
      "text/plain": [
       "key                     0\n",
       "Начало нагрева дугой    0\n",
       "Конец нагрева дугой     0\n",
       "Активная мощность       0\n",
       "Реактивная мощность     0\n",
       "dtype: int64"
      ]
     },
     "metadata": {},
     "output_type": "display_data"
    },
    {
     "data": {
      "text/markdown": [
       "**Количество дубликатов: 0**"
      ],
      "text/plain": [
       "<IPython.core.display.Markdown object>"
      ]
     },
     "metadata": {},
     "output_type": "display_data"
    }
   ],
   "source": [
    "primary_info(data_arc_df)"
   ]
  },
  {
   "cell_type": "markdown",
   "id": "7d5f1be6",
   "metadata": {},
   "source": [
    "Пропущенных значений и дубликатов нет. Сгенерируем дополнительные признаки"
   ]
  },
  {
   "cell_type": "code",
   "execution_count": 68,
   "id": "2b7a7a4b",
   "metadata": {},
   "outputs": [],
   "source": [
    "# Переименуем столбцы\n",
    "data_arc_df.rename(inplace=True, columns={\n",
    "    \"Начало нагрева дугой\": \"start_heat_time\", \n",
    "    \"Конец нагрева дугой\": \"stop_heat_time\", \n",
    "    \"Активная мощность\": \"active_power\", \n",
    "    \"Реактивная мощность\": \"reactive_power\"\n",
    "})\n",
    "\n",
    "# Приведем дату к типу datatime\n",
    "data_arc_df['start_heat_time'] = pd.to_datetime(data_arc_df['start_heat_time'], format=\"%Y-%m-%d %H:%M:%S\")\n",
    "data_arc_df['stop_heat_time'] = pd.to_datetime(data_arc_df['stop_heat_time'], format=\"%Y-%m-%d %H:%M:%S\")"
   ]
  },
  {
   "cell_type": "markdown",
   "id": "9d767ee8",
   "metadata": {},
   "source": [
    "Добавим новые признаки:\n",
    "- Длительность нагрева\n",
    "- Суммарная мощность\n",
    "- Отношение мощностей `Реактивная мощность/Активная мощность`"
   ]
  },
  {
   "cell_type": "code",
   "execution_count": 23,
   "id": "70b76301",
   "metadata": {},
   "outputs": [],
   "source": [
    "data_arc_df['heat_delta_seconds'] = (data_arc_df['stop_heat_time']-data_arc_df['start_heat_time']).dt.seconds\n",
    "data_arc_df['total_power'] = (data_arc_df['active_power']+data_arc_df['reactive_power'])\n",
    "data_arc_df['power_ratio'] = (data_arc_df['reactive_power']/data_arc_df['active_power'])"
   ]
  },
  {
   "cell_type": "code",
   "execution_count": 24,
   "id": "b2035419",
   "metadata": {},
   "outputs": [
    {
     "data": {
      "image/png": "[encoded data removed]",
      "text/plain": [
       "<Figure size 1152x288 with 5 Axes>"
      ]
     },
     "metadata": {
      "needs_background": "light"
     },
     "output_type": "display_data"
    }
   ],
   "source": [
    "draw_boxplots(data_arc_df, \n",
    "              ['heat_delta_seconds', 'active_power', 'reactive_power', 'total_power', 'power_ratio'], \n",
    "              ['Время нагрева (с)', 'Активная мощность', 'Реактивная мощность', \n",
    "               'Суммарная мощность', 'Отношение мощностей'],\n",
    "              \"Ящики с усами\")"
   ]
  },
  {
   "cell_type": "code",
   "execution_count": 25,
   "id": "1f8a68eb",
   "metadata": {},
   "outputs": [],
   "source": [
    "key = data_arc_df[data_arc_df['reactive_power'] < 0]['key']\n",
    "data_arc_df = data_arc_df[~data_arc_df['key'].isin(key)]"
   ]
  },
  {
   "cell_type": "code",
   "execution_count": 26,
   "id": "b509a20c",
   "metadata": {},
   "outputs": [
    {
     "data": {
      "image/png": "[encoded data removed]",
      "text/plain": [
       "<Figure size 1152x288 with 5 Axes>"
      ]
     },
     "metadata": {
      "needs_background": "light"
     },
     "output_type": "display_data"
    },
    {
     "data": {
      "image/png": "[encoded data removed]",
      "text/plain": [
       "<Figure size 1152x288 with 5 Axes>"
      ]
     },
     "metadata": {
      "needs_background": "light"
     },
     "output_type": "display_data"
    }
   ],
   "source": [
    "draw_boxplots(data_arc_df, \n",
    "              ['heat_delta_seconds', 'active_power', 'reactive_power', 'total_power', 'power_ratio'], \n",
    "              ['Время нагрева (с)', 'Активная мощность', 'Реактивная мощность', \n",
    "               'Суммарная мощность', 'Отношение мощностей'],\n",
    "              \"Ящики с усами\")\n",
    "draw_hists(data_arc_df, \n",
    "           ['heat_delta_seconds', 'active_power', 'reactive_power', 'total_power', 'power_ratio'], \n",
    "           ['Время нагрева (с)', 'Активная мощность', 'Реактивная мощность', \n",
    "            'Суммарная мощность', 'Отношение мощностей'],\n",
    "           \"Гистограммы\");"
   ]
  },
  {
   "cell_type": "code",
   "execution_count": 27,
   "id": "75ab8d0e",
   "metadata": {},
   "outputs": [
    {
     "data": {
      "text/html": [
       "<div>\n",
       "<style scoped>\n",
       "    .dataframe tbody tr th:only-of-type {\n",
       "        vertical-align: middle;\n",
       "    }\n",
       "\n",
       "    .dataframe tbody tr th {\n",
       "        vertical-align: top;\n",
       "    }\n",
       "\n",
       "    .dataframe thead th {\n",
       "        text-align: right;\n",
       "    }\n",
       "</style>\n",
       "<table border=\"1\" class=\"dataframe\">\n",
       "  <thead>\n",
       "    <tr style=\"text-align: right;\">\n",
       "      <th></th>\n",
       "      <th>active_power</th>\n",
       "      <th>reactive_power</th>\n",
       "      <th>total_power</th>\n",
       "      <th>power_ratio</th>\n",
       "      <th>key</th>\n",
       "    </tr>\n",
       "    <tr>\n",
       "      <th>key</th>\n",
       "      <th></th>\n",
       "      <th></th>\n",
       "      <th></th>\n",
       "      <th></th>\n",
       "      <th></th>\n",
       "    </tr>\n",
       "  </thead>\n",
       "  <tbody>\n",
       "    <tr>\n",
       "      <th>1</th>\n",
       "      <td>3.036730</td>\n",
       "      <td>2.142821</td>\n",
       "      <td>1.035910</td>\n",
       "      <td>0.706569</td>\n",
       "      <td>5</td>\n",
       "    </tr>\n",
       "    <tr>\n",
       "      <th>2</th>\n",
       "      <td>2.139408</td>\n",
       "      <td>1.453357</td>\n",
       "      <td>0.898191</td>\n",
       "      <td>0.684080</td>\n",
       "      <td>4</td>\n",
       "    </tr>\n",
       "    <tr>\n",
       "      <th>3</th>\n",
       "      <td>4.063641</td>\n",
       "      <td>2.937457</td>\n",
       "      <td>1.400220</td>\n",
       "      <td>0.725034</td>\n",
       "      <td>5</td>\n",
       "    </tr>\n",
       "    <tr>\n",
       "      <th>4</th>\n",
       "      <td>2.706489</td>\n",
       "      <td>2.056992</td>\n",
       "      <td>1.190870</td>\n",
       "      <td>0.765897</td>\n",
       "      <td>4</td>\n",
       "    </tr>\n",
       "    <tr>\n",
       "      <th>5</th>\n",
       "      <td>2.252950</td>\n",
       "      <td>1.687991</td>\n",
       "      <td>0.985235</td>\n",
       "      <td>0.758599</td>\n",
       "      <td>4</td>\n",
       "    </tr>\n",
       "    <tr>\n",
       "      <th>...</th>\n",
       "      <td>...</td>\n",
       "      <td>...</td>\n",
       "      <td>...</td>\n",
       "      <td>...</td>\n",
       "      <td>...</td>\n",
       "    </tr>\n",
       "    <tr>\n",
       "      <th>3237</th>\n",
       "      <td>2.541872</td>\n",
       "      <td>2.025417</td>\n",
       "      <td>0.913458</td>\n",
       "      <td>0.794276</td>\n",
       "      <td>5</td>\n",
       "    </tr>\n",
       "    <tr>\n",
       "      <th>3238</th>\n",
       "      <td>1.374821</td>\n",
       "      <td>1.038103</td>\n",
       "      <td>0.804308</td>\n",
       "      <td>0.757744</td>\n",
       "      <td>3</td>\n",
       "    </tr>\n",
       "    <tr>\n",
       "      <th>3239</th>\n",
       "      <td>4.848005</td>\n",
       "      <td>3.541541</td>\n",
       "      <td>1.048693</td>\n",
       "      <td>0.746212</td>\n",
       "      <td>8</td>\n",
       "    </tr>\n",
       "    <tr>\n",
       "      <th>3240</th>\n",
       "      <td>3.317679</td>\n",
       "      <td>2.373552</td>\n",
       "      <td>1.138246</td>\n",
       "      <td>0.712861</td>\n",
       "      <td>5</td>\n",
       "    </tr>\n",
       "    <tr>\n",
       "      <th>3241</th>\n",
       "      <td>3.045283</td>\n",
       "      <td>2.140011</td>\n",
       "      <td>1.037059</td>\n",
       "      <td>0.691568</td>\n",
       "      <td>5</td>\n",
       "    </tr>\n",
       "  </tbody>\n",
       "</table>\n",
       "<p>3213 rows × 5 columns</p>\n",
       "</div>"
      ],
      "text/plain": [
       "      active_power  reactive_power  total_power  power_ratio  key\n",
       "key                                                              \n",
       "1         3.036730        2.142821     1.035910     0.706569    5\n",
       "2         2.139408        1.453357     0.898191     0.684080    4\n",
       "3         4.063641        2.937457     1.400220     0.725034    5\n",
       "4         2.706489        2.056992     1.190870     0.765897    4\n",
       "5         2.252950        1.687991     0.985235     0.758599    4\n",
       "...            ...             ...          ...          ...  ...\n",
       "3237      2.541872        2.025417     0.913458     0.794276    5\n",
       "3238      1.374821        1.038103     0.804308     0.757744    3\n",
       "3239      4.848005        3.541541     1.048693     0.746212    8\n",
       "3240      3.317679        2.373552     1.138246     0.712861    5\n",
       "3241      3.045283        2.140011     1.037059     0.691568    5\n",
       "\n",
       "[3213 rows x 5 columns]"
      ]
     },
     "execution_count": 27,
     "metadata": {},
     "output_type": "execute_result"
    }
   ],
   "source": [
    "data_arc_df.groupby('key').agg({\n",
    "    'active_power': 'sum', \n",
    "    'reactive_power': 'sum',\n",
    "    'total_power': 'mean', \n",
    "    'power_ratio': 'mean', \n",
    "    'key': 'count'\n",
    "})"
   ]
  },
  {
   "cell_type": "markdown",
   "id": "6e00f7fe",
   "metadata": {},
   "source": [
    "### Для таблицы steel.data_bulk:\n",
    "- Проведите исследовательский анализ данных: проверьте наличие пропусков и аномалий, изучите распределение признаков.\n",
    "- Обработайте пропуски. Пропуск означает, что материал не добавляли в партию."
   ]
  },
  {
   "cell_type": "code",
   "execution_count": 28,
   "id": "171465ce",
   "metadata": {},
   "outputs": [
    {
     "data": {
      "text/html": [
       "<div>\n",
       "<style scoped>\n",
       "    .dataframe tbody tr th:only-of-type {\n",
       "        vertical-align: middle;\n",
       "    }\n",
       "\n",
       "    .dataframe tbody tr th {\n",
       "        vertical-align: top;\n",
       "    }\n",
       "\n",
       "    .dataframe thead th {\n",
       "        text-align: right;\n",
       "    }\n",
       "</style>\n",
       "<table border=\"1\" class=\"dataframe\">\n",
       "  <thead>\n",
       "    <tr style=\"text-align: right;\">\n",
       "      <th></th>\n",
       "      <th>key</th>\n",
       "      <th>Bulk 1</th>\n",
       "      <th>Bulk 2</th>\n",
       "      <th>Bulk 3</th>\n",
       "      <th>Bulk 4</th>\n",
       "      <th>Bulk 5</th>\n",
       "      <th>Bulk 6</th>\n",
       "      <th>Bulk 7</th>\n",
       "      <th>Bulk 8</th>\n",
       "      <th>Bulk 9</th>\n",
       "      <th>Bulk 10</th>\n",
       "      <th>Bulk 11</th>\n",
       "      <th>Bulk 12</th>\n",
       "      <th>Bulk 13</th>\n",
       "      <th>Bulk 14</th>\n",
       "      <th>Bulk 15</th>\n",
       "    </tr>\n",
       "  </thead>\n",
       "  <tbody>\n",
       "    <tr>\n",
       "      <th>0</th>\n",
       "      <td>1</td>\n",
       "      <td>NaN</td>\n",
       "      <td>NaN</td>\n",
       "      <td>NaN</td>\n",
       "      <td>43.0</td>\n",
       "      <td>None</td>\n",
       "      <td>None</td>\n",
       "      <td>None</td>\n",
       "      <td>None</td>\n",
       "      <td>None</td>\n",
       "      <td>None</td>\n",
       "      <td>None</td>\n",
       "      <td>206.0</td>\n",
       "      <td>None</td>\n",
       "      <td>150.0</td>\n",
       "      <td>154.0</td>\n",
       "    </tr>\n",
       "    <tr>\n",
       "      <th>1</th>\n",
       "      <td>2</td>\n",
       "      <td>NaN</td>\n",
       "      <td>NaN</td>\n",
       "      <td>NaN</td>\n",
       "      <td>73.0</td>\n",
       "      <td>None</td>\n",
       "      <td>None</td>\n",
       "      <td>None</td>\n",
       "      <td>None</td>\n",
       "      <td>None</td>\n",
       "      <td>None</td>\n",
       "      <td>None</td>\n",
       "      <td>206.0</td>\n",
       "      <td>None</td>\n",
       "      <td>149.0</td>\n",
       "      <td>154.0</td>\n",
       "    </tr>\n",
       "    <tr>\n",
       "      <th>2</th>\n",
       "      <td>3</td>\n",
       "      <td>NaN</td>\n",
       "      <td>NaN</td>\n",
       "      <td>NaN</td>\n",
       "      <td>34.0</td>\n",
       "      <td>None</td>\n",
       "      <td>None</td>\n",
       "      <td>None</td>\n",
       "      <td>None</td>\n",
       "      <td>None</td>\n",
       "      <td>None</td>\n",
       "      <td>None</td>\n",
       "      <td>205.0</td>\n",
       "      <td>None</td>\n",
       "      <td>152.0</td>\n",
       "      <td>153.0</td>\n",
       "    </tr>\n",
       "    <tr>\n",
       "      <th>3</th>\n",
       "      <td>4</td>\n",
       "      <td>NaN</td>\n",
       "      <td>NaN</td>\n",
       "      <td>NaN</td>\n",
       "      <td>81.0</td>\n",
       "      <td>None</td>\n",
       "      <td>None</td>\n",
       "      <td>None</td>\n",
       "      <td>None</td>\n",
       "      <td>None</td>\n",
       "      <td>None</td>\n",
       "      <td>None</td>\n",
       "      <td>207.0</td>\n",
       "      <td>None</td>\n",
       "      <td>153.0</td>\n",
       "      <td>154.0</td>\n",
       "    </tr>\n",
       "    <tr>\n",
       "      <th>4</th>\n",
       "      <td>5</td>\n",
       "      <td>NaN</td>\n",
       "      <td>NaN</td>\n",
       "      <td>NaN</td>\n",
       "      <td>78.0</td>\n",
       "      <td>None</td>\n",
       "      <td>None</td>\n",
       "      <td>None</td>\n",
       "      <td>None</td>\n",
       "      <td>None</td>\n",
       "      <td>None</td>\n",
       "      <td>None</td>\n",
       "      <td>203.0</td>\n",
       "      <td>None</td>\n",
       "      <td>151.0</td>\n",
       "      <td>152.0</td>\n",
       "    </tr>\n",
       "  </tbody>\n",
       "</table>\n",
       "</div>"
      ],
      "text/plain": [
       "   key  Bulk 1  Bulk 2  Bulk 3  Bulk 4 Bulk 5 Bulk 6 Bulk 7 Bulk 8 Bulk 9  \\\n",
       "0    1     NaN     NaN     NaN    43.0   None   None   None   None   None   \n",
       "1    2     NaN     NaN     NaN    73.0   None   None   None   None   None   \n",
       "2    3     NaN     NaN     NaN    34.0   None   None   None   None   None   \n",
       "3    4     NaN     NaN     NaN    81.0   None   None   None   None   None   \n",
       "4    5     NaN     NaN     NaN    78.0   None   None   None   None   None   \n",
       "\n",
       "  Bulk 10 Bulk 11 Bulk 12 Bulk 13 Bulk 14 Bulk 15  \n",
       "0    None    None   206.0    None   150.0   154.0  \n",
       "1    None    None   206.0    None   149.0   154.0  \n",
       "2    None    None   205.0    None   152.0   153.0  \n",
       "3    None    None   207.0    None   153.0   154.0  \n",
       "4    None    None   203.0    None   151.0   152.0  "
      ]
     },
     "metadata": {},
     "output_type": "display_data"
    },
    {
     "name": "stdout",
     "output_type": "stream",
     "text": [
      "<class 'pandas.core.frame.DataFrame'>\n",
      "RangeIndex: 3129 entries, 0 to 3128\n",
      "Data columns (total 16 columns):\n",
      " #   Column   Non-Null Count  Dtype  \n",
      "---  ------   --------------  -----  \n",
      " 0   key      3129 non-null   int64  \n",
      " 1   Bulk 1   252 non-null    float64\n",
      " 2   Bulk 2   22 non-null     float64\n",
      " 3   Bulk 3   1298 non-null   float64\n",
      " 4   Bulk 4   1014 non-null   float64\n",
      " 5   Bulk 5   77 non-null     object \n",
      " 6   Bulk 6   576 non-null    object \n",
      " 7   Bulk 7   25 non-null     object \n",
      " 8   Bulk 8   1 non-null      object \n",
      " 9   Bulk 9   19 non-null     object \n",
      " 10  Bulk 10  176 non-null    object \n",
      " 11  Bulk 11  177 non-null    object \n",
      " 12  Bulk 12  2450 non-null   object \n",
      " 13  Bulk 13  18 non-null     object \n",
      " 14  Bulk 14  2806 non-null   object \n",
      " 15  Bulk 15  2248 non-null   object \n",
      "dtypes: float64(4), int64(1), object(11)\n",
      "memory usage: 391.2+ KB\n"
     ]
    },
    {
     "data": {
      "text/plain": [
       "None"
      ]
     },
     "metadata": {},
     "output_type": "display_data"
    },
    {
     "data": {
      "text/markdown": [
       "**Пропущенные значения**"
      ],
      "text/plain": [
       "<IPython.core.display.Markdown object>"
      ]
     },
     "metadata": {},
     "output_type": "display_data"
    },
    {
     "data": {
      "text/plain": [
       "key           0\n",
       "Bulk 1     2877\n",
       "Bulk 2     3107\n",
       "Bulk 3     1831\n",
       "Bulk 4     2115\n",
       "Bulk 5     3052\n",
       "Bulk 6     2553\n",
       "Bulk 7     3104\n",
       "Bulk 8     3128\n",
       "Bulk 9     3110\n",
       "Bulk 10    2953\n",
       "Bulk 11    2952\n",
       "Bulk 12     679\n",
       "Bulk 13    3111\n",
       "Bulk 14     323\n",
       "Bulk 15     881\n",
       "dtype: int64"
      ]
     },
     "metadata": {},
     "output_type": "display_data"
    },
    {
     "data": {
      "text/markdown": [
       "**Количество дубликатов: 0**"
      ],
      "text/plain": [
       "<IPython.core.display.Markdown object>"
      ]
     },
     "metadata": {},
     "output_type": "display_data"
    }
   ],
   "source": [
    "primary_info(data_bulk_df)"
   ]
  },
  {
   "cell_type": "code",
   "execution_count": 66,
   "id": "9220172f",
   "metadata": {},
   "outputs": [],
   "source": [
    "bulk_idx = list([f\"bulk_{x}\" for x in range(1, 16)])\n",
    "\n",
    "# Переименуем столбцы\n",
    "data_bulk_df.rename(inplace=True, columns=dict(zip(\n",
    "    list([f\"Bulk {x}\" for x in range(1, 16)]),\n",
    "    bulk_idx\n",
    ")))\n",
    "\n",
    "# Приведем к типу float64\n",
    "data_bulk_df[bulk_idx] = data_bulk_df[bulk_idx].astype('float64')"
   ]
  },
  {
   "cell_type": "code",
   "execution_count": 32,
   "id": "0bc724d4",
   "metadata": {},
   "outputs": [
    {
     "data": {
      "image/png": "[encoded data removed]",
      "text/plain": [
       "<Figure size 1440x360 with 1 Axes>"
      ]
     },
     "metadata": {
      "needs_background": "light"
     },
     "output_type": "display_data"
    }
   ],
   "source": [
    "data_bulk_df.boxplot(column=bulk_idx, figsize=(20, 5));"
   ]
  },
  {
   "cell_type": "markdown",
   "id": "92ce80df",
   "metadata": {},
   "source": [
    "Удалим аномальные значения в `Bulk 12 > 1000` и `Bulk 5 > 500`"
   ]
  },
  {
   "cell_type": "code",
   "execution_count": 69,
   "id": "bbfbd355",
   "metadata": {},
   "outputs": [
    {
     "data": {
      "image/png": "[encoded data removed]",
      "text/plain": [
       "<Figure size 1440x360 with 1 Axes>"
      ]
     },
     "metadata": {
      "needs_background": "light"
     },
     "output_type": "display_data"
    }
   ],
   "source": [
    "key = data_bulk_df[(data_bulk_df['bulk_5'] > 500) | (data_bulk_df['bulk_12'] > 1000)]['key']\n",
    "data_bulk_df = data_bulk_df[~data_bulk_df['key'].isin(key)]\n",
    "data_bulk_df.boxplot(column=bulk_idx, figsize=(20, 5));"
   ]
  },
  {
   "cell_type": "code",
   "execution_count": 36,
   "id": "e32fa25c",
   "metadata": {},
   "outputs": [],
   "source": [
    "data_bulk_df = data_bulk_df.fillna(0)"
   ]
  },
  {
   "cell_type": "markdown",
   "id": "7cb8ba7b",
   "metadata": {},
   "source": [
    "### Для таблицы steel.data_bulk_time:\n",
    "- Проведите исследовательский анализ данных: проверьте наличие пропусков и аномалий, изучите распределение признаков.\n",
    "- Проверьте данные на адекватность: например, убедитесь, что подача материала не измеряется сутками. Обратите внимание: перед вами не стоит задача временных рядов."
   ]
  },
  {
   "cell_type": "code",
   "execution_count": 37,
   "id": "b1adeeb3",
   "metadata": {},
   "outputs": [
    {
     "data": {
      "text/html": [
       "<div>\n",
       "<style scoped>\n",
       "    .dataframe tbody tr th:only-of-type {\n",
       "        vertical-align: middle;\n",
       "    }\n",
       "\n",
       "    .dataframe tbody tr th {\n",
       "        vertical-align: top;\n",
       "    }\n",
       "\n",
       "    .dataframe thead th {\n",
       "        text-align: right;\n",
       "    }\n",
       "</style>\n",
       "<table border=\"1\" class=\"dataframe\">\n",
       "  <thead>\n",
       "    <tr style=\"text-align: right;\">\n",
       "      <th></th>\n",
       "      <th>key</th>\n",
       "      <th>Bulk 1</th>\n",
       "      <th>Bulk 2</th>\n",
       "      <th>Bulk 3</th>\n",
       "      <th>Bulk 4</th>\n",
       "      <th>Bulk 5</th>\n",
       "      <th>Bulk 6</th>\n",
       "      <th>Bulk 7</th>\n",
       "      <th>Bulk 8</th>\n",
       "      <th>Bulk 9</th>\n",
       "      <th>Bulk 10</th>\n",
       "      <th>Bulk 11</th>\n",
       "      <th>Bulk 12</th>\n",
       "      <th>Bulk 13</th>\n",
       "      <th>Bulk 14</th>\n",
       "      <th>Bulk 15</th>\n",
       "    </tr>\n",
       "  </thead>\n",
       "  <tbody>\n",
       "    <tr>\n",
       "      <th>0</th>\n",
       "      <td>1</td>\n",
       "      <td>None</td>\n",
       "      <td>None</td>\n",
       "      <td>None</td>\n",
       "      <td>2019-05-03 11:28:48</td>\n",
       "      <td>None</td>\n",
       "      <td>None</td>\n",
       "      <td>None</td>\n",
       "      <td>None</td>\n",
       "      <td>None</td>\n",
       "      <td>None</td>\n",
       "      <td>None</td>\n",
       "      <td>2019-05-03 11:24:31</td>\n",
       "      <td>None</td>\n",
       "      <td>2019-05-03 11:14:50</td>\n",
       "      <td>2019-05-03 11:10:43</td>\n",
       "    </tr>\n",
       "    <tr>\n",
       "      <th>1</th>\n",
       "      <td>2</td>\n",
       "      <td>None</td>\n",
       "      <td>None</td>\n",
       "      <td>None</td>\n",
       "      <td>2019-05-03 11:36:50</td>\n",
       "      <td>None</td>\n",
       "      <td>None</td>\n",
       "      <td>None</td>\n",
       "      <td>None</td>\n",
       "      <td>None</td>\n",
       "      <td>None</td>\n",
       "      <td>None</td>\n",
       "      <td>2019-05-03 11:53:30</td>\n",
       "      <td>None</td>\n",
       "      <td>2019-05-03 11:48:37</td>\n",
       "      <td>2019-05-03 11:44:39</td>\n",
       "    </tr>\n",
       "    <tr>\n",
       "      <th>2</th>\n",
       "      <td>3</td>\n",
       "      <td>None</td>\n",
       "      <td>None</td>\n",
       "      <td>None</td>\n",
       "      <td>2019-05-03 12:32:39</td>\n",
       "      <td>None</td>\n",
       "      <td>None</td>\n",
       "      <td>None</td>\n",
       "      <td>None</td>\n",
       "      <td>None</td>\n",
       "      <td>None</td>\n",
       "      <td>None</td>\n",
       "      <td>2019-05-03 12:27:13</td>\n",
       "      <td>None</td>\n",
       "      <td>2019-05-03 12:21:01</td>\n",
       "      <td>2019-05-03 12:16:16</td>\n",
       "    </tr>\n",
       "    <tr>\n",
       "      <th>3</th>\n",
       "      <td>4</td>\n",
       "      <td>None</td>\n",
       "      <td>None</td>\n",
       "      <td>None</td>\n",
       "      <td>2019-05-03 12:43:22</td>\n",
       "      <td>None</td>\n",
       "      <td>None</td>\n",
       "      <td>None</td>\n",
       "      <td>None</td>\n",
       "      <td>None</td>\n",
       "      <td>None</td>\n",
       "      <td>None</td>\n",
       "      <td>2019-05-03 12:58:00</td>\n",
       "      <td>None</td>\n",
       "      <td>2019-05-03 12:51:11</td>\n",
       "      <td>2019-05-03 12:46:36</td>\n",
       "    </tr>\n",
       "    <tr>\n",
       "      <th>4</th>\n",
       "      <td>5</td>\n",
       "      <td>None</td>\n",
       "      <td>None</td>\n",
       "      <td>None</td>\n",
       "      <td>2019-05-03 13:30:47</td>\n",
       "      <td>None</td>\n",
       "      <td>None</td>\n",
       "      <td>None</td>\n",
       "      <td>None</td>\n",
       "      <td>None</td>\n",
       "      <td>None</td>\n",
       "      <td>None</td>\n",
       "      <td>2019-05-03 13:30:47</td>\n",
       "      <td>None</td>\n",
       "      <td>2019-05-03 13:34:12</td>\n",
       "      <td>2019-05-03 13:30:47</td>\n",
       "    </tr>\n",
       "  </tbody>\n",
       "</table>\n",
       "</div>"
      ],
      "text/plain": [
       "   key Bulk 1 Bulk 2 Bulk 3               Bulk 4 Bulk 5 Bulk 6 Bulk 7 Bulk 8  \\\n",
       "0    1   None   None   None  2019-05-03 11:28:48   None   None   None   None   \n",
       "1    2   None   None   None  2019-05-03 11:36:50   None   None   None   None   \n",
       "2    3   None   None   None  2019-05-03 12:32:39   None   None   None   None   \n",
       "3    4   None   None   None  2019-05-03 12:43:22   None   None   None   None   \n",
       "4    5   None   None   None  2019-05-03 13:30:47   None   None   None   None   \n",
       "\n",
       "  Bulk 9 Bulk 10 Bulk 11              Bulk 12 Bulk 13              Bulk 14  \\\n",
       "0   None    None    None  2019-05-03 11:24:31    None  2019-05-03 11:14:50   \n",
       "1   None    None    None  2019-05-03 11:53:30    None  2019-05-03 11:48:37   \n",
       "2   None    None    None  2019-05-03 12:27:13    None  2019-05-03 12:21:01   \n",
       "3   None    None    None  2019-05-03 12:58:00    None  2019-05-03 12:51:11   \n",
       "4   None    None    None  2019-05-03 13:30:47    None  2019-05-03 13:34:12   \n",
       "\n",
       "               Bulk 15  \n",
       "0  2019-05-03 11:10:43  \n",
       "1  2019-05-03 11:44:39  \n",
       "2  2019-05-03 12:16:16  \n",
       "3  2019-05-03 12:46:36  \n",
       "4  2019-05-03 13:30:47  "
      ]
     },
     "metadata": {},
     "output_type": "display_data"
    },
    {
     "name": "stdout",
     "output_type": "stream",
     "text": [
      "<class 'pandas.core.frame.DataFrame'>\n",
      "RangeIndex: 3129 entries, 0 to 3128\n",
      "Data columns (total 16 columns):\n",
      " #   Column   Non-Null Count  Dtype \n",
      "---  ------   --------------  ----- \n",
      " 0   key      3129 non-null   int64 \n",
      " 1   Bulk 1   252 non-null    object\n",
      " 2   Bulk 2   22 non-null     object\n",
      " 3   Bulk 3   1298 non-null   object\n",
      " 4   Bulk 4   1014 non-null   object\n",
      " 5   Bulk 5   77 non-null     object\n",
      " 6   Bulk 6   576 non-null    object\n",
      " 7   Bulk 7   25 non-null     object\n",
      " 8   Bulk 8   1 non-null      object\n",
      " 9   Bulk 9   19 non-null     object\n",
      " 10  Bulk 10  176 non-null    object\n",
      " 11  Bulk 11  177 non-null    object\n",
      " 12  Bulk 12  2450 non-null   object\n",
      " 13  Bulk 13  18 non-null     object\n",
      " 14  Bulk 14  2806 non-null   object\n",
      " 15  Bulk 15  2248 non-null   object\n",
      "dtypes: int64(1), object(15)\n",
      "memory usage: 391.2+ KB\n"
     ]
    },
    {
     "data": {
      "text/plain": [
       "None"
      ]
     },
     "metadata": {},
     "output_type": "display_data"
    },
    {
     "data": {
      "text/markdown": [
       "**Пропущенные значения**"
      ],
      "text/plain": [
       "<IPython.core.display.Markdown object>"
      ]
     },
     "metadata": {},
     "output_type": "display_data"
    },
    {
     "data": {
      "text/plain": [
       "key           0\n",
       "Bulk 1     2877\n",
       "Bulk 2     3107\n",
       "Bulk 3     1831\n",
       "Bulk 4     2115\n",
       "Bulk 5     3052\n",
       "Bulk 6     2553\n",
       "Bulk 7     3104\n",
       "Bulk 8     3128\n",
       "Bulk 9     3110\n",
       "Bulk 10    2953\n",
       "Bulk 11    2952\n",
       "Bulk 12     679\n",
       "Bulk 13    3111\n",
       "Bulk 14     323\n",
       "Bulk 15     881\n",
       "dtype: int64"
      ]
     },
     "metadata": {},
     "output_type": "display_data"
    },
    {
     "data": {
      "text/markdown": [
       "**Количество дубликатов: 0**"
      ],
      "text/plain": [
       "<IPython.core.display.Markdown object>"
      ]
     },
     "metadata": {},
     "output_type": "display_data"
    }
   ],
   "source": [
    "primary_info(data_bulk_time_df)"
   ]
  },
  {
   "cell_type": "code",
   "execution_count": 62,
   "id": "e36bd52e",
   "metadata": {},
   "outputs": [],
   "source": [
    "# Переименуем столбцы\n",
    "data_bulk_time_df.rename(inplace=True, columns=dict(zip(\n",
    "    list([f\"Bulk {x}\" for x in range(1, 16)]),\n",
    "    bulk_idx\n",
    ")))\n",
    "\n",
    "# Приведем к типу datetime\n",
    "data_bulk_time_df[bulk_idx] = data_bulk_time_df[bulk_idx].apply(\n",
    "    (lambda x: pd.to_datetime(x, format=\"%Y-%m-%d %H:%M:%S\"))\n",
    ")"
   ]
  },
  {
   "cell_type": "code",
   "execution_count": 39,
   "id": "b3167e85",
   "metadata": {},
   "outputs": [],
   "source": []
  },
  {
   "cell_type": "markdown",
   "id": "a129cda9",
   "metadata": {},
   "source": [
    "### Для таблицы steel.data_gas:\n",
    "- Проведите исследовательский анализ данных: проверьте наличие пропусков и аномалий, изучите распределение признаков."
   ]
  },
  {
   "cell_type": "code",
   "execution_count": 41,
   "id": "95727591",
   "metadata": {},
   "outputs": [
    {
     "data": {
      "text/html": [
       "<div>\n",
       "<style scoped>\n",
       "    .dataframe tbody tr th:only-of-type {\n",
       "        vertical-align: middle;\n",
       "    }\n",
       "\n",
       "    .dataframe tbody tr th {\n",
       "        vertical-align: top;\n",
       "    }\n",
       "\n",
       "    .dataframe thead th {\n",
       "        text-align: right;\n",
       "    }\n",
       "</style>\n",
       "<table border=\"1\" class=\"dataframe\">\n",
       "  <thead>\n",
       "    <tr style=\"text-align: right;\">\n",
       "      <th></th>\n",
       "      <th>key</th>\n",
       "      <th>Газ 1</th>\n",
       "    </tr>\n",
       "  </thead>\n",
       "  <tbody>\n",
       "    <tr>\n",
       "      <th>0</th>\n",
       "      <td>1</td>\n",
       "      <td>29.749986</td>\n",
       "    </tr>\n",
       "    <tr>\n",
       "      <th>1</th>\n",
       "      <td>2</td>\n",
       "      <td>12.555561</td>\n",
       "    </tr>\n",
       "    <tr>\n",
       "      <th>2</th>\n",
       "      <td>3</td>\n",
       "      <td>28.554793</td>\n",
       "    </tr>\n",
       "    <tr>\n",
       "      <th>3</th>\n",
       "      <td>4</td>\n",
       "      <td>18.841219</td>\n",
       "    </tr>\n",
       "    <tr>\n",
       "      <th>4</th>\n",
       "      <td>5</td>\n",
       "      <td>5.413692</td>\n",
       "    </tr>\n",
       "  </tbody>\n",
       "</table>\n",
       "</div>"
      ],
      "text/plain": [
       "   key      Газ 1\n",
       "0    1  29.749986\n",
       "1    2  12.555561\n",
       "2    3  28.554793\n",
       "3    4  18.841219\n",
       "4    5   5.413692"
      ]
     },
     "metadata": {},
     "output_type": "display_data"
    },
    {
     "name": "stdout",
     "output_type": "stream",
     "text": [
      "<class 'pandas.core.frame.DataFrame'>\n",
      "RangeIndex: 3239 entries, 0 to 3238\n",
      "Data columns (total 2 columns):\n",
      " #   Column  Non-Null Count  Dtype  \n",
      "---  ------  --------------  -----  \n",
      " 0   key     3239 non-null   int64  \n",
      " 1   Газ 1   3239 non-null   float64\n",
      "dtypes: float64(1), int64(1)\n",
      "memory usage: 50.7 KB\n"
     ]
    },
    {
     "data": {
      "text/plain": [
       "None"
      ]
     },
     "metadata": {},
     "output_type": "display_data"
    },
    {
     "data": {
      "text/markdown": [
       "**Пропущенные значения**"
      ],
      "text/plain": [
       "<IPython.core.display.Markdown object>"
      ]
     },
     "metadata": {},
     "output_type": "display_data"
    },
    {
     "data": {
      "text/plain": [
       "key      0\n",
       "Газ 1    0\n",
       "dtype: int64"
      ]
     },
     "metadata": {},
     "output_type": "display_data"
    },
    {
     "data": {
      "text/markdown": [
       "**Количество дубликатов: 0**"
      ],
      "text/plain": [
       "<IPython.core.display.Markdown object>"
      ]
     },
     "metadata": {},
     "output_type": "display_data"
    }
   ],
   "source": [
    "primary_info(data_gas_df)"
   ]
  },
  {
   "cell_type": "code",
   "execution_count": 65,
   "id": "d504656b",
   "metadata": {},
   "outputs": [],
   "source": [
    "# Переименуем столбцы\n",
    "data_gas_df.rename(inplace=True, columns={'Газ 1': 'gas'})"
   ]
  },
  {
   "cell_type": "code",
   "execution_count": 47,
   "id": "730dfbc2",
   "metadata": {},
   "outputs": [
    {
     "data": {
      "image/png": "[encoded data removed]",
      "text/plain": [
       "<Figure size 360x360 with 1 Axes>"
      ]
     },
     "metadata": {
      "needs_background": "light"
     },
     "output_type": "display_data"
    }
   ],
   "source": [
    "data_gas_df.boxplot(column='gas', figsize=(5, 5));"
   ]
  },
  {
   "cell_type": "markdown",
   "id": "3e016092",
   "metadata": {},
   "source": [
    "### Для таблицы steel.data_temp:\n",
    "- Проведите исследовательский анализ данных: проверьте наличие пропусков и аномалий, изучите распределения признаков.\n",
    "- Целевой признак — последняя температура партии. Начальную температуру партии можно использовать как входной признак. Любые другие промежуточные значения температуры приведут к утечке целевого признака, их нельзя использовать как входные.\n",
    "- При агрегировании наблюдений используйте только ключи, у которых как минимум два наблюдения: первый и последний замеры температуры.\n",
    "- Заказчик предупредил, что значения температуры ниже 1500 градусов — аномальные."
   ]
  },
  {
   "cell_type": "code",
   "execution_count": 51,
   "id": "4fbbe12a",
   "metadata": {},
   "outputs": [
    {
     "data": {
      "text/html": [
       "<div>\n",
       "<style scoped>\n",
       "    .dataframe tbody tr th:only-of-type {\n",
       "        vertical-align: middle;\n",
       "    }\n",
       "\n",
       "    .dataframe tbody tr th {\n",
       "        vertical-align: top;\n",
       "    }\n",
       "\n",
       "    .dataframe thead th {\n",
       "        text-align: right;\n",
       "    }\n",
       "</style>\n",
       "<table border=\"1\" class=\"dataframe\">\n",
       "  <thead>\n",
       "    <tr style=\"text-align: right;\">\n",
       "      <th></th>\n",
       "      <th>key</th>\n",
       "      <th>Время замера</th>\n",
       "      <th>Температура</th>\n",
       "    </tr>\n",
       "  </thead>\n",
       "  <tbody>\n",
       "    <tr>\n",
       "      <th>0</th>\n",
       "      <td>1</td>\n",
       "      <td>2019-05-03 11:02:04</td>\n",
       "      <td>1571.0</td>\n",
       "    </tr>\n",
       "    <tr>\n",
       "      <th>1</th>\n",
       "      <td>1</td>\n",
       "      <td>2019-05-03 11:07:18</td>\n",
       "      <td>1604.0</td>\n",
       "    </tr>\n",
       "    <tr>\n",
       "      <th>2</th>\n",
       "      <td>1</td>\n",
       "      <td>2019-05-03 11:11:34</td>\n",
       "      <td>1618.0</td>\n",
       "    </tr>\n",
       "    <tr>\n",
       "      <th>3</th>\n",
       "      <td>1</td>\n",
       "      <td>2019-05-03 11:18:04</td>\n",
       "      <td>1601.0</td>\n",
       "    </tr>\n",
       "    <tr>\n",
       "      <th>4</th>\n",
       "      <td>1</td>\n",
       "      <td>2019-05-03 11:25:59</td>\n",
       "      <td>1606.0</td>\n",
       "    </tr>\n",
       "  </tbody>\n",
       "</table>\n",
       "</div>"
      ],
      "text/plain": [
       "   key         Время замера Температура\n",
       "0    1  2019-05-03 11:02:04      1571.0\n",
       "1    1  2019-05-03 11:07:18      1604.0\n",
       "2    1  2019-05-03 11:11:34      1618.0\n",
       "3    1  2019-05-03 11:18:04      1601.0\n",
       "4    1  2019-05-03 11:25:59      1606.0"
      ]
     },
     "metadata": {},
     "output_type": "display_data"
    },
    {
     "name": "stdout",
     "output_type": "stream",
     "text": [
      "<class 'pandas.core.frame.DataFrame'>\n",
      "RangeIndex: 18092 entries, 0 to 18091\n",
      "Data columns (total 3 columns):\n",
      " #   Column        Non-Null Count  Dtype \n",
      "---  ------        --------------  ----- \n",
      " 0   key           18092 non-null  int64 \n",
      " 1   Время замера  18092 non-null  object\n",
      " 2   Температура   14665 non-null  object\n",
      "dtypes: int64(1), object(2)\n",
      "memory usage: 424.2+ KB\n"
     ]
    },
    {
     "data": {
      "text/plain": [
       "None"
      ]
     },
     "metadata": {},
     "output_type": "display_data"
    },
    {
     "data": {
      "text/markdown": [
       "**Пропущенные значения**"
      ],
      "text/plain": [
       "<IPython.core.display.Markdown object>"
      ]
     },
     "metadata": {},
     "output_type": "display_data"
    },
    {
     "data": {
      "text/plain": [
       "key                0\n",
       "Время замера       0\n",
       "Температура     3427\n",
       "dtype: int64"
      ]
     },
     "metadata": {},
     "output_type": "display_data"
    },
    {
     "data": {
      "text/markdown": [
       "**Количество дубликатов: 0**"
      ],
      "text/plain": [
       "<IPython.core.display.Markdown object>"
      ]
     },
     "metadata": {},
     "output_type": "display_data"
    }
   ],
   "source": [
    "primary_info(data_temp_df)"
   ]
  },
  {
   "cell_type": "code",
   "execution_count": 55,
   "id": "00432d8f",
   "metadata": {},
   "outputs": [],
   "source": [
    "data_temp_df.rename(inplace=True, columns={\n",
    "    \"Время замера\": \"measure_time\", \n",
    "    \"Температура\": \"temperature\"\n",
    "})"
   ]
  },
  {
   "cell_type": "code",
   "execution_count": 56,
   "id": "4081ab84",
   "metadata": {},
   "outputs": [],
   "source": [
    "# Приведем дату к типу datatime\n",
    "data_temp_df['measure_time'] = pd.to_datetime(\n",
    "    data_temp_df['measure_time'], format=\"%Y-%m-%d %H:%M:%S\"\n",
    ")\n",
    "# Приведем температуру к типу float64\n",
    "data_temp_df['temperature'] = data_temp_df['temperature'].astype('float64')"
   ]
  },
  {
   "cell_type": "markdown",
   "id": "36559fc6",
   "metadata": {},
   "source": [
    "### Для таблицы steel.data_wire:\n",
    "- Обработайте пропуски. Пропуск означает, что материал не добавляли в эту партию."
   ]
  },
  {
   "cell_type": "code",
   "execution_count": 52,
   "id": "57880614",
   "metadata": {},
   "outputs": [
    {
     "data": {
      "text/html": [
       "<div>\n",
       "<style scoped>\n",
       "    .dataframe tbody tr th:only-of-type {\n",
       "        vertical-align: middle;\n",
       "    }\n",
       "\n",
       "    .dataframe tbody tr th {\n",
       "        vertical-align: top;\n",
       "    }\n",
       "\n",
       "    .dataframe thead th {\n",
       "        text-align: right;\n",
       "    }\n",
       "</style>\n",
       "<table border=\"1\" class=\"dataframe\">\n",
       "  <thead>\n",
       "    <tr style=\"text-align: right;\">\n",
       "      <th></th>\n",
       "      <th>key</th>\n",
       "      <th>Wire 1</th>\n",
       "      <th>Wire 2</th>\n",
       "      <th>Wire 3</th>\n",
       "      <th>Wire 4</th>\n",
       "      <th>Wire 5</th>\n",
       "      <th>Wire 6</th>\n",
       "      <th>Wire 7</th>\n",
       "      <th>Wire 8</th>\n",
       "      <th>Wire 9</th>\n",
       "    </tr>\n",
       "  </thead>\n",
       "  <tbody>\n",
       "    <tr>\n",
       "      <th>0</th>\n",
       "      <td>1</td>\n",
       "      <td>60.059998</td>\n",
       "      <td>None</td>\n",
       "      <td>None</td>\n",
       "      <td>None</td>\n",
       "      <td>None</td>\n",
       "      <td>None</td>\n",
       "      <td>None</td>\n",
       "      <td>None</td>\n",
       "      <td>None</td>\n",
       "    </tr>\n",
       "    <tr>\n",
       "      <th>1</th>\n",
       "      <td>2</td>\n",
       "      <td>96.052315</td>\n",
       "      <td>None</td>\n",
       "      <td>None</td>\n",
       "      <td>None</td>\n",
       "      <td>None</td>\n",
       "      <td>None</td>\n",
       "      <td>None</td>\n",
       "      <td>None</td>\n",
       "      <td>None</td>\n",
       "    </tr>\n",
       "    <tr>\n",
       "      <th>2</th>\n",
       "      <td>3</td>\n",
       "      <td>91.160157</td>\n",
       "      <td>None</td>\n",
       "      <td>None</td>\n",
       "      <td>None</td>\n",
       "      <td>None</td>\n",
       "      <td>None</td>\n",
       "      <td>None</td>\n",
       "      <td>None</td>\n",
       "      <td>None</td>\n",
       "    </tr>\n",
       "    <tr>\n",
       "      <th>3</th>\n",
       "      <td>4</td>\n",
       "      <td>89.063515</td>\n",
       "      <td>None</td>\n",
       "      <td>None</td>\n",
       "      <td>None</td>\n",
       "      <td>None</td>\n",
       "      <td>None</td>\n",
       "      <td>None</td>\n",
       "      <td>None</td>\n",
       "      <td>None</td>\n",
       "    </tr>\n",
       "    <tr>\n",
       "      <th>4</th>\n",
       "      <td>5</td>\n",
       "      <td>89.238236</td>\n",
       "      <td>9.11456</td>\n",
       "      <td>None</td>\n",
       "      <td>None</td>\n",
       "      <td>None</td>\n",
       "      <td>None</td>\n",
       "      <td>None</td>\n",
       "      <td>None</td>\n",
       "      <td>None</td>\n",
       "    </tr>\n",
       "  </tbody>\n",
       "</table>\n",
       "</div>"
      ],
      "text/plain": [
       "   key     Wire 1   Wire 2 Wire 3 Wire 4 Wire 5 Wire 6 Wire 7 Wire 8 Wire 9\n",
       "0    1  60.059998     None   None   None   None   None   None   None   None\n",
       "1    2  96.052315     None   None   None   None   None   None   None   None\n",
       "2    3  91.160157     None   None   None   None   None   None   None   None\n",
       "3    4  89.063515     None   None   None   None   None   None   None   None\n",
       "4    5  89.238236  9.11456   None   None   None   None   None   None   None"
      ]
     },
     "metadata": {},
     "output_type": "display_data"
    },
    {
     "name": "stdout",
     "output_type": "stream",
     "text": [
      "<class 'pandas.core.frame.DataFrame'>\n",
      "RangeIndex: 3081 entries, 0 to 3080\n",
      "Data columns (total 10 columns):\n",
      " #   Column  Non-Null Count  Dtype  \n",
      "---  ------  --------------  -----  \n",
      " 0   key     3081 non-null   int64  \n",
      " 1   Wire 1  3055 non-null   float64\n",
      " 2   Wire 2  1079 non-null   object \n",
      " 3   Wire 3  63 non-null     object \n",
      " 4   Wire 4  14 non-null     object \n",
      " 5   Wire 5  1 non-null      object \n",
      " 6   Wire 6  73 non-null     object \n",
      " 7   Wire 7  11 non-null     object \n",
      " 8   Wire 8  19 non-null     object \n",
      " 9   Wire 9  29 non-null     object \n",
      "dtypes: float64(1), int64(1), object(8)\n",
      "memory usage: 240.8+ KB\n"
     ]
    },
    {
     "data": {
      "text/plain": [
       "None"
      ]
     },
     "metadata": {},
     "output_type": "display_data"
    },
    {
     "data": {
      "text/markdown": [
       "**Пропущенные значения**"
      ],
      "text/plain": [
       "<IPython.core.display.Markdown object>"
      ]
     },
     "metadata": {},
     "output_type": "display_data"
    },
    {
     "data": {
      "text/plain": [
       "key          0\n",
       "Wire 1      26\n",
       "Wire 2    2002\n",
       "Wire 3    3018\n",
       "Wire 4    3067\n",
       "Wire 5    3080\n",
       "Wire 6    3008\n",
       "Wire 7    3070\n",
       "Wire 8    3062\n",
       "Wire 9    3052\n",
       "dtype: int64"
      ]
     },
     "metadata": {},
     "output_type": "display_data"
    },
    {
     "data": {
      "text/markdown": [
       "**Количество дубликатов: 0**"
      ],
      "text/plain": [
       "<IPython.core.display.Markdown object>"
      ]
     },
     "metadata": {},
     "output_type": "display_data"
    }
   ],
   "source": [
    "primary_info(data_wire_df)"
   ]
  },
  {
   "cell_type": "code",
   "execution_count": 61,
   "id": "732363ad",
   "metadata": {},
   "outputs": [],
   "source": [
    "wire_idx = list([f\"wire_{x}\" for x in range(1, 10)])\n",
    "\n",
    "# Переименуем столбцы\n",
    "data_wire_df.rename(inplace=True, columns=dict(zip(\n",
    "    list([f\"Wire {x}\" for x in range(1, 10)]),\n",
    "    wire_idx\n",
    ")))\n",
    "\n",
    "# Преобразуем к типу float64\n",
    "data_wire_df[wire_idx] = data_wire_df[wire_idx].astype('float64')"
   ]
  },
  {
   "cell_type": "code",
   "execution_count": null,
   "id": "93e51d15",
   "metadata": {},
   "outputs": [],
   "source": []
  },
  {
   "cell_type": "markdown",
   "id": "20d01ebf",
   "metadata": {},
   "source": [
    "### Для таблицы steel.data_wire_time:\n",
    "- Проведите исследовательский анализ данных: проверьте наличие пропусков и аномалий, изучите распределение признаков.\n",
    "- Проверьте данные на адекватность: например, убедитесь, что подача материала не измеряется сутками. Обратите внимание: перед вами не стоит задача временных рядов."
   ]
  },
  {
   "cell_type": "code",
   "execution_count": 64,
   "id": "742d2d8c",
   "metadata": {},
   "outputs": [
    {
     "data": {
      "text/html": [
       "<div>\n",
       "<style scoped>\n",
       "    .dataframe tbody tr th:only-of-type {\n",
       "        vertical-align: middle;\n",
       "    }\n",
       "\n",
       "    .dataframe tbody tr th {\n",
       "        vertical-align: top;\n",
       "    }\n",
       "\n",
       "    .dataframe thead th {\n",
       "        text-align: right;\n",
       "    }\n",
       "</style>\n",
       "<table border=\"1\" class=\"dataframe\">\n",
       "  <thead>\n",
       "    <tr style=\"text-align: right;\">\n",
       "      <th></th>\n",
       "      <th>key</th>\n",
       "      <th>wire_1</th>\n",
       "      <th>wire_2</th>\n",
       "      <th>wire_3</th>\n",
       "      <th>wire_4</th>\n",
       "      <th>wire_5</th>\n",
       "      <th>wire_6</th>\n",
       "      <th>wire_7</th>\n",
       "      <th>wire_8</th>\n",
       "      <th>wire_9</th>\n",
       "    </tr>\n",
       "  </thead>\n",
       "  <tbody>\n",
       "    <tr>\n",
       "      <th>0</th>\n",
       "      <td>1</td>\n",
       "      <td>2019-05-03 11:06:19</td>\n",
       "      <td>NaT</td>\n",
       "      <td>NaT</td>\n",
       "      <td>NaT</td>\n",
       "      <td>NaT</td>\n",
       "      <td>NaT</td>\n",
       "      <td>NaT</td>\n",
       "      <td>NaT</td>\n",
       "      <td>NaT</td>\n",
       "    </tr>\n",
       "    <tr>\n",
       "      <th>1</th>\n",
       "      <td>2</td>\n",
       "      <td>2019-05-03 11:36:50</td>\n",
       "      <td>NaT</td>\n",
       "      <td>NaT</td>\n",
       "      <td>NaT</td>\n",
       "      <td>NaT</td>\n",
       "      <td>NaT</td>\n",
       "      <td>NaT</td>\n",
       "      <td>NaT</td>\n",
       "      <td>NaT</td>\n",
       "    </tr>\n",
       "    <tr>\n",
       "      <th>2</th>\n",
       "      <td>3</td>\n",
       "      <td>2019-05-03 12:11:46</td>\n",
       "      <td>NaT</td>\n",
       "      <td>NaT</td>\n",
       "      <td>NaT</td>\n",
       "      <td>NaT</td>\n",
       "      <td>NaT</td>\n",
       "      <td>NaT</td>\n",
       "      <td>NaT</td>\n",
       "      <td>NaT</td>\n",
       "    </tr>\n",
       "    <tr>\n",
       "      <th>3</th>\n",
       "      <td>4</td>\n",
       "      <td>2019-05-03 12:43:22</td>\n",
       "      <td>NaT</td>\n",
       "      <td>NaT</td>\n",
       "      <td>NaT</td>\n",
       "      <td>NaT</td>\n",
       "      <td>NaT</td>\n",
       "      <td>NaT</td>\n",
       "      <td>NaT</td>\n",
       "      <td>NaT</td>\n",
       "    </tr>\n",
       "    <tr>\n",
       "      <th>4</th>\n",
       "      <td>5</td>\n",
       "      <td>2019-05-03 13:20:44</td>\n",
       "      <td>2019-05-03 13:15:34</td>\n",
       "      <td>NaT</td>\n",
       "      <td>NaT</td>\n",
       "      <td>NaT</td>\n",
       "      <td>NaT</td>\n",
       "      <td>NaT</td>\n",
       "      <td>NaT</td>\n",
       "      <td>NaT</td>\n",
       "    </tr>\n",
       "  </tbody>\n",
       "</table>\n",
       "</div>"
      ],
      "text/plain": [
       "   key              wire_1              wire_2 wire_3 wire_4 wire_5 wire_6  \\\n",
       "0    1 2019-05-03 11:06:19                 NaT    NaT    NaT    NaT    NaT   \n",
       "1    2 2019-05-03 11:36:50                 NaT    NaT    NaT    NaT    NaT   \n",
       "2    3 2019-05-03 12:11:46                 NaT    NaT    NaT    NaT    NaT   \n",
       "3    4 2019-05-03 12:43:22                 NaT    NaT    NaT    NaT    NaT   \n",
       "4    5 2019-05-03 13:20:44 2019-05-03 13:15:34    NaT    NaT    NaT    NaT   \n",
       "\n",
       "  wire_7 wire_8 wire_9  \n",
       "0    NaT    NaT    NaT  \n",
       "1    NaT    NaT    NaT  \n",
       "2    NaT    NaT    NaT  \n",
       "3    NaT    NaT    NaT  \n",
       "4    NaT    NaT    NaT  "
      ]
     },
     "metadata": {},
     "output_type": "display_data"
    },
    {
     "name": "stdout",
     "output_type": "stream",
     "text": [
      "<class 'pandas.core.frame.DataFrame'>\n",
      "RangeIndex: 3081 entries, 0 to 3080\n",
      "Data columns (total 10 columns):\n",
      " #   Column  Non-Null Count  Dtype         \n",
      "---  ------  --------------  -----         \n",
      " 0   key     3081 non-null   int64         \n",
      " 1   wire_1  3055 non-null   datetime64[ns]\n",
      " 2   wire_2  1079 non-null   datetime64[ns]\n",
      " 3   wire_3  63 non-null     datetime64[ns]\n",
      " 4   wire_4  14 non-null     datetime64[ns]\n",
      " 5   wire_5  1 non-null      datetime64[ns]\n",
      " 6   wire_6  73 non-null     datetime64[ns]\n",
      " 7   wire_7  11 non-null     datetime64[ns]\n",
      " 8   wire_8  19 non-null     datetime64[ns]\n",
      " 9   wire_9  29 non-null     datetime64[ns]\n",
      "dtypes: datetime64[ns](9), int64(1)\n",
      "memory usage: 240.8 KB\n"
     ]
    },
    {
     "data": {
      "text/plain": [
       "None"
      ]
     },
     "metadata": {},
     "output_type": "display_data"
    },
    {
     "data": {
      "text/markdown": [
       "**Пропущенные значения**"
      ],
      "text/plain": [
       "<IPython.core.display.Markdown object>"
      ]
     },
     "metadata": {},
     "output_type": "display_data"
    },
    {
     "data": {
      "text/plain": [
       "key          0\n",
       "wire_1      26\n",
       "wire_2    2002\n",
       "wire_3    3018\n",
       "wire_4    3067\n",
       "wire_5    3080\n",
       "wire_6    3008\n",
       "wire_7    3070\n",
       "wire_8    3062\n",
       "wire_9    3052\n",
       "dtype: int64"
      ]
     },
     "metadata": {},
     "output_type": "display_data"
    },
    {
     "data": {
      "text/markdown": [
       "**Количество дубликатов: 0**"
      ],
      "text/plain": [
       "<IPython.core.display.Markdown object>"
      ]
     },
     "metadata": {},
     "output_type": "display_data"
    }
   ],
   "source": [
    "primary_info(data_wire_time_df)"
   ]
  },
  {
   "cell_type": "code",
   "execution_count": 63,
   "id": "792688a1",
   "metadata": {},
   "outputs": [],
   "source": [
    "# Переименуем столбцы\n",
    "data_wire_time_df.rename(inplace=True, columns=dict(zip(\n",
    "    list([f\"Wire {x}\" for x in range(1, 10)]),\n",
    "    wire_idx\n",
    ")))\n",
    "\n",
    "# Приведем к типу datetime\n",
    "data_wire_time_df[wire_idx] = data_wire_time_df[wire_idx].apply(\n",
    "    (lambda x: pd.to_datetime(x, format=\"%Y-%m-%d %H:%M:%S\"))\n",
    ")"
   ]
  },
  {
   "cell_type": "code",
   "execution_count": null,
   "id": "84544a4f",
   "metadata": {},
   "outputs": [],
   "source": []
  },
  {
   "cell_type": "markdown",
   "id": "12d35317",
   "metadata": {},
   "source": [
    "### Объедините таблицы по ключу:\n",
    "- Каждой партии должно соответствовать одно наблюдение.\n",
    "- Учтите: во все партии точно добавлялись сыпучие и проволочные материалы, везде была выполнена продувка газом и сплав всегда нагревался.\n",
    "- Заказчик предупредил, что иногда наблюдается асинхронность в заданном времени разных датчиков. Если вы будете выстраивать хронологию процессов для разных партий, то можете столкнуться с тем, что полученная хронология не соответствует хронологии в описании. Не стоит воспринимать это как ошибку.\n",
    "- Проведите исследовательский анализ данных объединённой таблицы и визуализируйте распределение каждого признака, напишите выводы.\n",
    "- Проведите корреляционный анализ."
   ]
  },
  {
   "cell_type": "code",
   "execution_count": null,
   "id": "28342fb7",
   "metadata": {},
   "outputs": [],
   "source": []
  },
  {
   "cell_type": "markdown",
   "id": "65813cbc",
   "metadata": {},
   "source": [
    "### Подготовьте данные для обучения:\n",
    "- Выберите признаки, которые будете использовать для обучения, учитывайте особенности данных и выбранных моделей.\n",
    "- Разделите данные на тренировочную и тестовую выборки (test_size = 0.25).\n",
    "- Подготовьте выборки для обучения, учитывайте особенности выбранных моделей."
   ]
  },
  {
   "cell_type": "code",
   "execution_count": null,
   "id": "722cc2c0",
   "metadata": {},
   "outputs": [],
   "source": []
  },
  {
   "cell_type": "markdown",
   "id": "e7f80882",
   "metadata": {},
   "source": [
    "## Шаг 3. Обучение модели"
   ]
  },
  {
   "cell_type": "markdown",
   "id": "fe68df36",
   "metadata": {},
   "source": [
    "### Решающее дерево или случайный лес"
   ]
  },
  {
   "cell_type": "markdown",
   "id": "931d698f",
   "metadata": {},
   "source": [
    "### Бустинги"
   ]
  },
  {
   "cell_type": "markdown",
   "id": "15451b79",
   "metadata": {},
   "source": [
    "### Нейронные сети"
   ]
  },
  {
   "cell_type": "markdown",
   "id": "f50cf127",
   "metadata": {},
   "source": [
    "## Шаг 4. Тестирование модели и демонстрация её работы"
   ]
  },
  {
   "cell_type": "code",
   "execution_count": null,
   "id": "3cf2e2fc",
   "metadata": {},
   "outputs": [],
   "source": []
  },
  {
   "cell_type": "markdown",
   "id": "6a24bd71",
   "metadata": {},
   "source": [
    "## Шаг 5. Общий вывод по работе"
   ]
  },
  {
   "cell_type": "code",
   "execution_count": null,
   "id": "035ac199",
   "metadata": {},
   "outputs": [],
   "source": []
  }
 ],
 "metadata": {
  "kernelspec": {
   "display_name": "Python 3",
   "language": "python",
   "name": "python3"
  },
  "language_info": {
   "codemirror_mode": {
    "name": "ipython",
    "version": 3
   },
   "file_extension": ".py",
   "mimetype": "text/x-python",
   "name": "python",
   "nbconvert_exporter": "python",
   "pygments_lexer": "ipython3",
   "version": "3.8.8"
  }
 },
 "nbformat": 4,
 "nbformat_minor": 5
}
