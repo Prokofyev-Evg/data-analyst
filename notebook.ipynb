{
 "cells": [
  {
   "cell_type": "markdown",
   "id": "2ed37711",
   "metadata": {},
   "source": [
    "<div style=\"border:solid Chocolate 2px; padding: 40px\">\n",
    "\n",
    "<b>Привет!👋</b>\n",
    "\n",
    "Меня зовут Огурлиев Анзор, я буду ревьюером твоего проекта. Сразу хочу предложить тебе общаться на \"ты\", если тебе это неудобно, скажи мне об этом. Нам предстоит пройти с тобой через тернистый и от того интересный путь анализа данных! Можешь не переживать, я всегда помогу тебе, если у тебя возникнут вопросы)\n",
    "\n",
    "По ходу твоей работы я буду оставлять свои комментарии, по выполненным тобой шагам. Попрошу тебя не удалять их, так мне будет проще отслеживать твой прогресс в случае повторной проверки.\n",
    "\n",
    "Очень важно вести диалог и обсуждать те пункты, которые у тебя могли не получиться, поэтому, ты можешь оставлять свои комментарии, и мы обязательно во всем разберемся! Самое главное - выделяй свои комментарии удобным для тебя способом (цвет, рамка), но так, чтобы они отчетлитво отличались от моих комментариев. Так мы ни в чем не запутаемся)\n",
    "\n",
    "Свои комментарии я буду выделять так: <font color='green'>зеленый</font>, <font color='gold'>желтый</font> и <font color='red'>красный</font> цвет, например:\n",
    "\n",
    "<br/>\n",
    "\n",
    "<div class=\"alert alert-success\">\n",
    "<h2> Комментарий ревьюера V1<a class=\"tocSkip\"> </h2>\n",
    "\n",
    "<b>Все отлично!👍:</b> Этот комментарий я буду оставлять, если твое решение оптимально для данного шага.\n",
    "</div>\n",
    "\n",
    "<br/>\n",
    "\n",
    "<div class=\"alert alert-warning\">\n",
    "    <h2> Комментарий ревьюера V1<a class=\"tocSkip\"> </h2>\n",
    "\n",
    "<b>Некоторые замечания и рекомендации💡:</b> Это не означает, что ты совершил ошибку. Такими комментариями я буду отмечать места, где ты справился с задачей, но её можно решить ещё лучше. Также в таких комментариях я буду оставлять для тебя другие советы.\n",
    "</div>\n",
    "\n",
    "\n",
    "<br/>\n",
    "<div class=\"alert alert-block alert-danger\">\n",
    "<h2> Комментарий ревьюера V1<a class=\"tocSkip\"></h2>\n",
    "\n",
    "\n",
    "<b>На доработку🤔:</b>\n",
    "Если решение, которое ты применил на определенном шаге, требует значительных изменений, то я буду оставлять такой комментарий. Тебе нужно будет подумать еще раз как правильным образом решить данный этап. Если ревью содержит такие комментарии, то я не смогу принять проект с первого раза.\n",
    "</div>\n",
    "\n",
    "P.S. В оглавлении комментария ты увидишь `V1` (`V1`, `V2`, `V3`) - это версия моего комментария, которая понадобится нам с тобой, чтобы не запутаться, если потребуется оставить тебе комментарии после первой проверки."
   ]
  },
  {
   "cell_type": "markdown",
   "id": "b4cc7a2b",
   "metadata": {},
   "source": [
    "# Проект: Исследовательский анализ данных"
   ]
  },
  {
   "cell_type": "markdown",
   "id": "b0ddf8f3",
   "metadata": {},
   "source": [
    "<div class=\"alert alert-block alert-danger\">\n",
    "<h2> Комментарий ревьюера V1<a class=\"tocSkip\"></h2>\n",
    "\n",
    "\n",
    "<b>На доработку🤔:</b>\n",
    "Проект нужно всегда начинать с описания. За основу можно взять описание из задания. Распиши что за данные, какие цели и задачи, можно написать план выполнения проекта."
   ]
  },
  {
   "cell_type": "markdown",
   "id": "b877d057",
   "metadata": {},
   "source": [
    "Имея архив объявлений за несколько лет о продаже квартир в Санкт-Петербурге и соседних населённых пунктах, необходимо выполнить предобработку данных и изучить их, чтобы найти интересные особенности и зависимости, которые существуют на рынке недвижимости.\n",
    "О каждой квартире в базе содержится два типа данных: добавленные пользователем и картографические. Например, к первому типу относятся площадь квартиры, её этаж и количество балконов, ко второму — расстояния до центра города, аэропорта и ближайшего парка."
   ]
  },
  {
   "cell_type": "code",
   "execution_count": 1,
   "id": "02fa791c",
   "metadata": {},
   "outputs": [],
   "source": [
    "import pandas as pd\n",
    "import matplotlib.pyplot as plt\n",
    "import re"
   ]
  },
  {
   "cell_type": "markdown",
   "id": "2eaf5c22",
   "metadata": {},
   "source": [
    "### Шаг 1. Откройте файл с данными и изучите общую информацию"
   ]
  },
  {
   "cell_type": "code",
   "execution_count": 2,
   "id": "f7f2a980",
   "metadata": {},
   "outputs": [],
   "source": [
    "df = pd.read_csv('https://code.s3.yandex.net/datasets/real_estate_data.csv', sep='\\t')"
   ]
  },
  {
   "cell_type": "markdown",
   "id": "bea409c9",
   "metadata": {},
   "source": [
    "Ознакомимся с данными"
   ]
  },
  {
   "cell_type": "code",
   "execution_count": 3,
   "id": "ed55bee1",
   "metadata": {},
   "outputs": [
    {
     "data": {
      "text/html": [
       "<div>\n",
       "<style scoped>\n",
       "    .dataframe tbody tr th:only-of-type {\n",
       "        vertical-align: middle;\n",
       "    }\n",
       "\n",
       "    .dataframe tbody tr th {\n",
       "        vertical-align: top;\n",
       "    }\n",
       "\n",
       "    .dataframe thead th {\n",
       "        text-align: right;\n",
       "    }\n",
       "</style>\n",
       "<table border=\"1\" class=\"dataframe\">\n",
       "  <thead>\n",
       "    <tr style=\"text-align: right;\">\n",
       "      <th></th>\n",
       "      <th>total_images</th>\n",
       "      <th>last_price</th>\n",
       "      <th>total_area</th>\n",
       "      <th>first_day_exposition</th>\n",
       "      <th>rooms</th>\n",
       "      <th>ceiling_height</th>\n",
       "      <th>floors_total</th>\n",
       "      <th>living_area</th>\n",
       "      <th>floor</th>\n",
       "      <th>is_apartment</th>\n",
       "      <th>...</th>\n",
       "      <th>kitchen_area</th>\n",
       "      <th>balcony</th>\n",
       "      <th>locality_name</th>\n",
       "      <th>airports_nearest</th>\n",
       "      <th>cityCenters_nearest</th>\n",
       "      <th>parks_around3000</th>\n",
       "      <th>parks_nearest</th>\n",
       "      <th>ponds_around3000</th>\n",
       "      <th>ponds_nearest</th>\n",
       "      <th>days_exposition</th>\n",
       "    </tr>\n",
       "  </thead>\n",
       "  <tbody>\n",
       "    <tr>\n",
       "      <th>0</th>\n",
       "      <td>20</td>\n",
       "      <td>13000000.0</td>\n",
       "      <td>108.00</td>\n",
       "      <td>2019-03-07T00:00:00</td>\n",
       "      <td>3</td>\n",
       "      <td>2.70</td>\n",
       "      <td>16.0</td>\n",
       "      <td>51.00</td>\n",
       "      <td>8</td>\n",
       "      <td>NaN</td>\n",
       "      <td>...</td>\n",
       "      <td>25.00</td>\n",
       "      <td>NaN</td>\n",
       "      <td>Санкт-Петербург</td>\n",
       "      <td>18863.0</td>\n",
       "      <td>16028.0</td>\n",
       "      <td>1.0</td>\n",
       "      <td>482.0</td>\n",
       "      <td>2.0</td>\n",
       "      <td>755.0</td>\n",
       "      <td>NaN</td>\n",
       "    </tr>\n",
       "    <tr>\n",
       "      <th>1</th>\n",
       "      <td>7</td>\n",
       "      <td>3350000.0</td>\n",
       "      <td>40.40</td>\n",
       "      <td>2018-12-04T00:00:00</td>\n",
       "      <td>1</td>\n",
       "      <td>NaN</td>\n",
       "      <td>11.0</td>\n",
       "      <td>18.60</td>\n",
       "      <td>1</td>\n",
       "      <td>NaN</td>\n",
       "      <td>...</td>\n",
       "      <td>11.00</td>\n",
       "      <td>2.0</td>\n",
       "      <td>посёлок Шушары</td>\n",
       "      <td>12817.0</td>\n",
       "      <td>18603.0</td>\n",
       "      <td>0.0</td>\n",
       "      <td>NaN</td>\n",
       "      <td>0.0</td>\n",
       "      <td>NaN</td>\n",
       "      <td>81.0</td>\n",
       "    </tr>\n",
       "    <tr>\n",
       "      <th>2</th>\n",
       "      <td>10</td>\n",
       "      <td>5196000.0</td>\n",
       "      <td>56.00</td>\n",
       "      <td>2015-08-20T00:00:00</td>\n",
       "      <td>2</td>\n",
       "      <td>NaN</td>\n",
       "      <td>5.0</td>\n",
       "      <td>34.30</td>\n",
       "      <td>4</td>\n",
       "      <td>NaN</td>\n",
       "      <td>...</td>\n",
       "      <td>8.30</td>\n",
       "      <td>0.0</td>\n",
       "      <td>Санкт-Петербург</td>\n",
       "      <td>21741.0</td>\n",
       "      <td>13933.0</td>\n",
       "      <td>1.0</td>\n",
       "      <td>90.0</td>\n",
       "      <td>2.0</td>\n",
       "      <td>574.0</td>\n",
       "      <td>558.0</td>\n",
       "    </tr>\n",
       "    <tr>\n",
       "      <th>3</th>\n",
       "      <td>0</td>\n",
       "      <td>64900000.0</td>\n",
       "      <td>159.00</td>\n",
       "      <td>2015-07-24T00:00:00</td>\n",
       "      <td>3</td>\n",
       "      <td>NaN</td>\n",
       "      <td>14.0</td>\n",
       "      <td>NaN</td>\n",
       "      <td>9</td>\n",
       "      <td>NaN</td>\n",
       "      <td>...</td>\n",
       "      <td>NaN</td>\n",
       "      <td>0.0</td>\n",
       "      <td>Санкт-Петербург</td>\n",
       "      <td>28098.0</td>\n",
       "      <td>6800.0</td>\n",
       "      <td>2.0</td>\n",
       "      <td>84.0</td>\n",
       "      <td>3.0</td>\n",
       "      <td>234.0</td>\n",
       "      <td>424.0</td>\n",
       "    </tr>\n",
       "    <tr>\n",
       "      <th>4</th>\n",
       "      <td>2</td>\n",
       "      <td>10000000.0</td>\n",
       "      <td>100.00</td>\n",
       "      <td>2018-06-19T00:00:00</td>\n",
       "      <td>2</td>\n",
       "      <td>3.03</td>\n",
       "      <td>14.0</td>\n",
       "      <td>32.00</td>\n",
       "      <td>13</td>\n",
       "      <td>NaN</td>\n",
       "      <td>...</td>\n",
       "      <td>41.00</td>\n",
       "      <td>NaN</td>\n",
       "      <td>Санкт-Петербург</td>\n",
       "      <td>31856.0</td>\n",
       "      <td>8098.0</td>\n",
       "      <td>2.0</td>\n",
       "      <td>112.0</td>\n",
       "      <td>1.0</td>\n",
       "      <td>48.0</td>\n",
       "      <td>121.0</td>\n",
       "    </tr>\n",
       "    <tr>\n",
       "      <th>5</th>\n",
       "      <td>10</td>\n",
       "      <td>2890000.0</td>\n",
       "      <td>30.40</td>\n",
       "      <td>2018-09-10T00:00:00</td>\n",
       "      <td>1</td>\n",
       "      <td>NaN</td>\n",
       "      <td>12.0</td>\n",
       "      <td>14.40</td>\n",
       "      <td>5</td>\n",
       "      <td>NaN</td>\n",
       "      <td>...</td>\n",
       "      <td>9.10</td>\n",
       "      <td>NaN</td>\n",
       "      <td>городской посёлок Янино-1</td>\n",
       "      <td>NaN</td>\n",
       "      <td>NaN</td>\n",
       "      <td>NaN</td>\n",
       "      <td>NaN</td>\n",
       "      <td>NaN</td>\n",
       "      <td>NaN</td>\n",
       "      <td>55.0</td>\n",
       "    </tr>\n",
       "    <tr>\n",
       "      <th>6</th>\n",
       "      <td>6</td>\n",
       "      <td>3700000.0</td>\n",
       "      <td>37.30</td>\n",
       "      <td>2017-11-02T00:00:00</td>\n",
       "      <td>1</td>\n",
       "      <td>NaN</td>\n",
       "      <td>26.0</td>\n",
       "      <td>10.60</td>\n",
       "      <td>6</td>\n",
       "      <td>NaN</td>\n",
       "      <td>...</td>\n",
       "      <td>14.40</td>\n",
       "      <td>1.0</td>\n",
       "      <td>посёлок Парголово</td>\n",
       "      <td>52996.0</td>\n",
       "      <td>19143.0</td>\n",
       "      <td>0.0</td>\n",
       "      <td>NaN</td>\n",
       "      <td>0.0</td>\n",
       "      <td>NaN</td>\n",
       "      <td>155.0</td>\n",
       "    </tr>\n",
       "    <tr>\n",
       "      <th>7</th>\n",
       "      <td>5</td>\n",
       "      <td>7915000.0</td>\n",
       "      <td>71.60</td>\n",
       "      <td>2019-04-18T00:00:00</td>\n",
       "      <td>2</td>\n",
       "      <td>NaN</td>\n",
       "      <td>24.0</td>\n",
       "      <td>NaN</td>\n",
       "      <td>22</td>\n",
       "      <td>NaN</td>\n",
       "      <td>...</td>\n",
       "      <td>18.90</td>\n",
       "      <td>2.0</td>\n",
       "      <td>Санкт-Петербург</td>\n",
       "      <td>23982.0</td>\n",
       "      <td>11634.0</td>\n",
       "      <td>0.0</td>\n",
       "      <td>NaN</td>\n",
       "      <td>0.0</td>\n",
       "      <td>NaN</td>\n",
       "      <td>NaN</td>\n",
       "    </tr>\n",
       "    <tr>\n",
       "      <th>8</th>\n",
       "      <td>20</td>\n",
       "      <td>2900000.0</td>\n",
       "      <td>33.16</td>\n",
       "      <td>2018-05-23T00:00:00</td>\n",
       "      <td>1</td>\n",
       "      <td>NaN</td>\n",
       "      <td>27.0</td>\n",
       "      <td>15.43</td>\n",
       "      <td>26</td>\n",
       "      <td>NaN</td>\n",
       "      <td>...</td>\n",
       "      <td>8.81</td>\n",
       "      <td>NaN</td>\n",
       "      <td>посёлок Мурино</td>\n",
       "      <td>NaN</td>\n",
       "      <td>NaN</td>\n",
       "      <td>NaN</td>\n",
       "      <td>NaN</td>\n",
       "      <td>NaN</td>\n",
       "      <td>NaN</td>\n",
       "      <td>189.0</td>\n",
       "    </tr>\n",
       "    <tr>\n",
       "      <th>9</th>\n",
       "      <td>18</td>\n",
       "      <td>5400000.0</td>\n",
       "      <td>61.00</td>\n",
       "      <td>2017-02-26T00:00:00</td>\n",
       "      <td>3</td>\n",
       "      <td>2.50</td>\n",
       "      <td>9.0</td>\n",
       "      <td>43.60</td>\n",
       "      <td>7</td>\n",
       "      <td>NaN</td>\n",
       "      <td>...</td>\n",
       "      <td>6.50</td>\n",
       "      <td>2.0</td>\n",
       "      <td>Санкт-Петербург</td>\n",
       "      <td>50898.0</td>\n",
       "      <td>15008.0</td>\n",
       "      <td>0.0</td>\n",
       "      <td>NaN</td>\n",
       "      <td>0.0</td>\n",
       "      <td>NaN</td>\n",
       "      <td>289.0</td>\n",
       "    </tr>\n",
       "  </tbody>\n",
       "</table>\n",
       "<p>10 rows × 22 columns</p>\n",
       "</div>"
      ],
      "text/plain": [
       "   total_images  last_price  total_area first_day_exposition  rooms  \\\n",
       "0            20  13000000.0      108.00  2019-03-07T00:00:00      3   \n",
       "1             7   3350000.0       40.40  2018-12-04T00:00:00      1   \n",
       "2            10   5196000.0       56.00  2015-08-20T00:00:00      2   \n",
       "3             0  64900000.0      159.00  2015-07-24T00:00:00      3   \n",
       "4             2  10000000.0      100.00  2018-06-19T00:00:00      2   \n",
       "5            10   2890000.0       30.40  2018-09-10T00:00:00      1   \n",
       "6             6   3700000.0       37.30  2017-11-02T00:00:00      1   \n",
       "7             5   7915000.0       71.60  2019-04-18T00:00:00      2   \n",
       "8            20   2900000.0       33.16  2018-05-23T00:00:00      1   \n",
       "9            18   5400000.0       61.00  2017-02-26T00:00:00      3   \n",
       "\n",
       "   ceiling_height  floors_total  living_area  floor is_apartment  ...  \\\n",
       "0            2.70          16.0        51.00      8          NaN  ...   \n",
       "1             NaN          11.0        18.60      1          NaN  ...   \n",
       "2             NaN           5.0        34.30      4          NaN  ...   \n",
       "3             NaN          14.0          NaN      9          NaN  ...   \n",
       "4            3.03          14.0        32.00     13          NaN  ...   \n",
       "5             NaN          12.0        14.40      5          NaN  ...   \n",
       "6             NaN          26.0        10.60      6          NaN  ...   \n",
       "7             NaN          24.0          NaN     22          NaN  ...   \n",
       "8             NaN          27.0        15.43     26          NaN  ...   \n",
       "9            2.50           9.0        43.60      7          NaN  ...   \n",
       "\n",
       "   kitchen_area  balcony              locality_name  airports_nearest  \\\n",
       "0         25.00      NaN            Санкт-Петербург           18863.0   \n",
       "1         11.00      2.0             посёлок Шушары           12817.0   \n",
       "2          8.30      0.0            Санкт-Петербург           21741.0   \n",
       "3           NaN      0.0            Санкт-Петербург           28098.0   \n",
       "4         41.00      NaN            Санкт-Петербург           31856.0   \n",
       "5          9.10      NaN  городской посёлок Янино-1               NaN   \n",
       "6         14.40      1.0          посёлок Парголово           52996.0   \n",
       "7         18.90      2.0            Санкт-Петербург           23982.0   \n",
       "8          8.81      NaN             посёлок Мурино               NaN   \n",
       "9          6.50      2.0            Санкт-Петербург           50898.0   \n",
       "\n",
       "  cityCenters_nearest  parks_around3000  parks_nearest  ponds_around3000  \\\n",
       "0             16028.0               1.0          482.0               2.0   \n",
       "1             18603.0               0.0            NaN               0.0   \n",
       "2             13933.0               1.0           90.0               2.0   \n",
       "3              6800.0               2.0           84.0               3.0   \n",
       "4              8098.0               2.0          112.0               1.0   \n",
       "5                 NaN               NaN            NaN               NaN   \n",
       "6             19143.0               0.0            NaN               0.0   \n",
       "7             11634.0               0.0            NaN               0.0   \n",
       "8                 NaN               NaN            NaN               NaN   \n",
       "9             15008.0               0.0            NaN               0.0   \n",
       "\n",
       "   ponds_nearest  days_exposition  \n",
       "0          755.0              NaN  \n",
       "1            NaN             81.0  \n",
       "2          574.0            558.0  \n",
       "3          234.0            424.0  \n",
       "4           48.0            121.0  \n",
       "5            NaN             55.0  \n",
       "6            NaN            155.0  \n",
       "7            NaN              NaN  \n",
       "8            NaN            189.0  \n",
       "9            NaN            289.0  \n",
       "\n",
       "[10 rows x 22 columns]"
      ]
     },
     "execution_count": 3,
     "metadata": {},
     "output_type": "execute_result"
    }
   ],
   "source": [
    "df.head(10)"
   ]
  },
  {
   "cell_type": "markdown",
   "id": "c60cca67",
   "metadata": {},
   "source": [
    "Посмотрим описание столбцов"
   ]
  },
  {
   "cell_type": "code",
   "execution_count": 4,
   "id": "e788f497",
   "metadata": {},
   "outputs": [
    {
     "name": "stdout",
     "output_type": "stream",
     "text": [
      "<class 'pandas.core.frame.DataFrame'>\n",
      "RangeIndex: 23699 entries, 0 to 23698\n",
      "Data columns (total 22 columns):\n",
      " #   Column                Non-Null Count  Dtype  \n",
      "---  ------                --------------  -----  \n",
      " 0   total_images          23699 non-null  int64  \n",
      " 1   last_price            23699 non-null  float64\n",
      " 2   total_area            23699 non-null  float64\n",
      " 3   first_day_exposition  23699 non-null  object \n",
      " 4   rooms                 23699 non-null  int64  \n",
      " 5   ceiling_height        14504 non-null  float64\n",
      " 6   floors_total          23613 non-null  float64\n",
      " 7   living_area           21796 non-null  float64\n",
      " 8   floor                 23699 non-null  int64  \n",
      " 9   is_apartment          2775 non-null   object \n",
      " 10  studio                23699 non-null  bool   \n",
      " 11  open_plan             23699 non-null  bool   \n",
      " 12  kitchen_area          21421 non-null  float64\n",
      " 13  balcony               12180 non-null  float64\n",
      " 14  locality_name         23650 non-null  object \n",
      " 15  airports_nearest      18157 non-null  float64\n",
      " 16  cityCenters_nearest   18180 non-null  float64\n",
      " 17  parks_around3000      18181 non-null  float64\n",
      " 18  parks_nearest         8079 non-null   float64\n",
      " 19  ponds_around3000      18181 non-null  float64\n",
      " 20  ponds_nearest         9110 non-null   float64\n",
      " 21  days_exposition       20518 non-null  float64\n",
      "dtypes: bool(2), float64(14), int64(3), object(3)\n",
      "memory usage: 3.7+ MB\n"
     ]
    }
   ],
   "source": [
    "df.info()"
   ]
  },
  {
   "cell_type": "markdown",
   "id": "a824b5a4",
   "metadata": {},
   "source": [
    "Построим гистограммы каждого поля"
   ]
  },
  {
   "cell_type": "code",
   "execution_count": 5,
   "id": "92b31ced",
   "metadata": {},
   "outputs": [
    {
     "data": {
      "text/plain": [
       "array([[<AxesSubplot:title={'center':'total_images'}>,\n",
       "        <AxesSubplot:title={'center':'last_price'}>,\n",
       "        <AxesSubplot:title={'center':'total_area'}>,\n",
       "        <AxesSubplot:title={'center':'rooms'}>],\n",
       "       [<AxesSubplot:title={'center':'ceiling_height'}>,\n",
       "        <AxesSubplot:title={'center':'floors_total'}>,\n",
       "        <AxesSubplot:title={'center':'living_area'}>,\n",
       "        <AxesSubplot:title={'center':'floor'}>],\n",
       "       [<AxesSubplot:title={'center':'kitchen_area'}>,\n",
       "        <AxesSubplot:title={'center':'balcony'}>,\n",
       "        <AxesSubplot:title={'center':'airports_nearest'}>,\n",
       "        <AxesSubplot:title={'center':'cityCenters_nearest'}>],\n",
       "       [<AxesSubplot:title={'center':'parks_around3000'}>,\n",
       "        <AxesSubplot:title={'center':'parks_nearest'}>,\n",
       "        <AxesSubplot:title={'center':'ponds_around3000'}>,\n",
       "        <AxesSubplot:title={'center':'ponds_nearest'}>],\n",
       "       [<AxesSubplot:title={'center':'days_exposition'}>, <AxesSubplot:>,\n",
       "        <AxesSubplot:>, <AxesSubplot:>]], dtype=object)"
      ]
     },
     "execution_count": 5,
     "metadata": {},
     "output_type": "execute_result"
    },
    {
     "data": {
      "image/png": "[encoded data removed]",
      "text/plain": [
       "<Figure size 1080x1440 with 20 Axes>"
      ]
     },
     "metadata": {
      "needs_background": "light"
     },
     "output_type": "display_data"
    }
   ],
   "source": [
    "df.hist(figsize=(15, 20))"
   ]
  },
  {
   "cell_type": "markdown",
   "id": "d4e93ef7",
   "metadata": {},
   "source": [
    "<div class=\"alert alert-warning\">\n",
    "<h2> Комментарий ревьюера V1<a class=\"tocSkip\"> </h2>\n",
    "\n",
    "<b>Некоторые замечания и рекомендации💡:</b> После того, как ты рассмотрел данные, стоит составить их краткое описание."
   ]
  },
  {
   "cell_type": "markdown",
   "id": "488c6719",
   "metadata": {},
   "source": [
    "На первый взгляд некоторые гистограммы выглядят подозрительно, потому что значения сосредоточены в левой части графиков. Это может быть как особенность данного параметра, так и какие-либо аномалии в данных. С этим разберемся на следующих шагах."
   ]
  },
  {
   "cell_type": "markdown",
   "id": "033fcbda",
   "metadata": {},
   "source": [
    "### Шаг 2. Предобработка данных"
   ]
  },
  {
   "cell_type": "markdown",
   "id": "e68eab33",
   "metadata": {},
   "source": [
    "#### Пропуски"
   ]
  },
  {
   "cell_type": "markdown",
   "id": "37df4246",
   "metadata": {},
   "source": [
    "Посмотрим в каких полях содержаться пропущенные значения"
   ]
  },
  {
   "cell_type": "code",
   "execution_count": 6,
   "id": "a026c424",
   "metadata": {},
   "outputs": [
    {
     "data": {
      "text/plain": [
       "total_images                0\n",
       "last_price                  0\n",
       "total_area                  0\n",
       "first_day_exposition        0\n",
       "rooms                       0\n",
       "ceiling_height           9195\n",
       "floors_total               86\n",
       "living_area              1903\n",
       "floor                       0\n",
       "is_apartment            20924\n",
       "studio                      0\n",
       "open_plan                   0\n",
       "kitchen_area             2278\n",
       "balcony                 11519\n",
       "locality_name              49\n",
       "airports_nearest         5542\n",
       "cityCenters_nearest      5519\n",
       "parks_around3000         5518\n",
       "parks_nearest           15620\n",
       "ponds_around3000         5518\n",
       "ponds_nearest           14589\n",
       "days_exposition          3181\n",
       "dtype: int64"
      ]
     },
     "execution_count": 6,
     "metadata": {},
     "output_type": "execute_result"
    }
   ],
   "source": [
    "df.isna().sum()"
   ]
  },
  {
   "cell_type": "markdown",
   "id": "12700d46",
   "metadata": {},
   "source": [
    "Поля, в которых можно заполнить пропущенные значения\n",
    "- balcony если продавец не указал число балконов, то, скорее всего, в его квартире их нет и пропущенные значения можно заменить на 0\n",
    "- parks_around3000 если пропущено число парков, то, скорее всего, поблизости их нет и пропущенные значения можно заменить на 0\n",
    "- ponds_around3000 если пропущено число водоемов поблизости, то, скорее всего, поблизости их нет и пропущенные значения можно заменить на 0\n",
    "- is_apartment вероятнее всего, квартиры с пропущенными значениями не являются аппартаментами и продавец просто это не указывал, поэтому проппуски можно заполнить отрицательным значением\n",
    "- ceiling_height пропуски можно заполнить медианой\n",
    "- Пропуски в площади кухни и жилой площади заполним, с помощью коэффициента их отношения к общей площади"
   ]
  },
  {
   "cell_type": "code",
   "execution_count": 7,
   "id": "ccb866dc",
   "metadata": {},
   "outputs": [],
   "source": [
    "df['balcony'] = df['balcony'].fillna(value=0)\n",
    "df['parks_around3000'] = df['parks_around3000'].fillna(value=0)\n",
    "df['ponds_around3000'] = df['ponds_around3000'].fillna(value=0)\n",
    "df['is_apartment'] = df['is_apartment'].fillna(value=False)\n",
    "df.loc[df['ceiling_height'].isna(), 'ceiling_height'] = df['ceiling_height'].median()\n",
    "\n",
    "living_area_coef = df['living_area'].median() / df['total_area'].median()\n",
    "df.loc[df['living_area'].isna(), 'living_area'] = df['total_area'] * living_area_coef\n",
    "\n",
    "kitchen_area_coef = df['kitchen_area'].median() / df['total_area'].median()\n",
    "df.loc[df['kitchen_area'].isna(), 'kitchen_area'] = df['total_area'] * kitchen_area_coef"
   ]
  },
  {
   "cell_type": "markdown",
   "id": "d5ebe551",
   "metadata": {},
   "source": [
    "Поля, которые необходимо преобразовать в другой тип\n",
    "- first_day_exposition (object в datetime)\n",
    "- is_apartment (object в bool) потому что поле может принимать только два значения\n",
    "- balcony (float в int, потому что количество балконов целое число)\n",
    "- parks_around3000 (float в int, потому что количество парков поблизости целое число)\n",
    "- ponds_around3000 (float в int, потому что количество водоемов поблизости целое число)"
   ]
  },
  {
   "cell_type": "code",
   "execution_count": 8,
   "id": "50416201",
   "metadata": {},
   "outputs": [],
   "source": [
    "df['first_day_exposition'] = pd.to_datetime(\n",
    "    df['first_day_exposition'], format=\"%Y-%m-%dT%H:%M:%S\"\n",
    ")\n",
    "df['is_apartment'] = df['is_apartment'].astype('bool')\n",
    "df['balcony'] = df['balcony'].astype('int64')\n",
    "df['parks_around3000'] = df['parks_around3000'].astype('int64')\n",
    "df['ponds_around3000'] = df['ponds_around3000'].astype('int64')"
   ]
  },
  {
   "cell_type": "markdown",
   "id": "e653c14f",
   "metadata": {},
   "source": [
    "<div class=\"alert alert-success\">\n",
    "<h2> Комментарий ревьюера V1<a class=\"tocSkip\"> </h2>\n",
    "\n",
    "<b>Все отлично!👍:</b> Пропуски правильно обработал в параметрах выше, корректное предположение при заполнении пропусков. Типы данных тоже верно обработал."
   ]
  },
  {
   "cell_type": "markdown",
   "id": "eb592e32",
   "metadata": {},
   "source": [
    "<div class=\"alert alert-block alert-danger\">\n",
    "<h2> Комментарий ревьюера V1<a class=\"tocSkip\"></h2>\n",
    "\n",
    "\n",
    "<b>На доработку🤔:</b>\n",
    "Почему ты не обработал пропуски в других параметрах? Нужно объяснить почему пропуски нельзя обработать.\n",
    "    \n",
    "Пропуски в высоте потолков обработать можно, это типовые значения, пропуски можно заполнить медианой.\n",
    "    \n",
    "Пропуски в площади кухни и жилой площади также можно обработать. Эти параметры сильно коррелируют с общей площадью, можно посчитать коэффициент отношения жилой площади к общей и с его помощью восстановить пропуски. Аналогично и площадь кухни."
   ]
  },
  {
   "cell_type": "markdown",
   "id": "8d1458a5",
   "metadata": {},
   "source": [
    "#### Неявные дубликаты"
   ]
  },
  {
   "cell_type": "markdown",
   "id": "a0c93884",
   "metadata": {},
   "source": [
    "Изучим уникальные значения в столбце с названиями местоположения"
   ]
  },
  {
   "cell_type": "code",
   "execution_count": 9,
   "id": "ef94cb0f",
   "metadata": {},
   "outputs": [
    {
     "data": {
      "text/plain": [
       "array(['Санкт-Петербург', 'посёлок Шушары', 'городской посёлок Янино-1',\n",
       "       'посёлок Парголово', 'посёлок Мурино', 'Ломоносов', 'Сертолово',\n",
       "       'Петергоф', 'Пушкин', 'деревня Кудрово', 'Коммунар', 'Колпино',\n",
       "       'поселок городского типа Красный Бор', 'Гатчина', 'поселок Мурино',\n",
       "       'деревня Фёдоровское', 'Выборг', 'Кронштадт', 'Кировск',\n",
       "       'деревня Новое Девяткино', 'посёлок Металлострой',\n",
       "       'посёлок городского типа Лебяжье',\n",
       "       'посёлок городского типа Сиверский', 'поселок Молодцово',\n",
       "       'поселок городского типа Кузьмоловский',\n",
       "       'садовое товарищество Новая Ропша', 'Павловск',\n",
       "       'деревня Пикколово', 'Всеволожск', 'Волхов', 'Кингисепп',\n",
       "       'Приозерск', 'Сестрорецк', 'деревня Куттузи', 'посёлок Аннино',\n",
       "       'поселок городского типа Ефимовский', 'посёлок Плодовое',\n",
       "       'деревня Заклинье', 'поселок Торковичи', 'поселок Первомайское',\n",
       "       'Красное Село', 'посёлок Понтонный', 'Сясьстрой', 'деревня Старая',\n",
       "       'деревня Лесколово', 'посёлок Новый Свет', 'Сланцы',\n",
       "       'село Путилово', 'Ивангород', 'Мурино', 'Шлиссельбург',\n",
       "       'Никольское', 'Зеленогорск', 'Сосновый Бор', 'поселок Новый Свет',\n",
       "       'деревня Оржицы', 'деревня Кальтино', 'Кудрово',\n",
       "       'поселок Романовка', 'посёлок Бугры', 'поселок Бугры',\n",
       "       'поселок городского типа Рощино', 'Кириши', 'Луга', 'Волосово',\n",
       "       'Отрадное', 'село Павлово', 'поселок Оредеж', 'село Копорье',\n",
       "       'посёлок городского типа Красный Бор', 'посёлок Молодёжное',\n",
       "       'Тихвин', 'посёлок Победа', 'деревня Нурма',\n",
       "       'поселок городского типа Синявино', 'Тосно',\n",
       "       'посёлок городского типа Кузьмоловский', 'посёлок Стрельна',\n",
       "       'Бокситогорск', 'посёлок Александровская', 'деревня Лопухинка',\n",
       "       'Пикалёво', 'поселок Терволово',\n",
       "       'поселок городского типа Советский', 'Подпорожье',\n",
       "       'посёлок Петровское', 'посёлок городского типа Токсово',\n",
       "       'поселок Сельцо', 'посёлок городского типа Вырица',\n",
       "       'деревня Кипень', 'деревня Келози', 'деревня Вартемяги',\n",
       "       'посёлок Тельмана', 'поселок Севастьяново',\n",
       "       'городской поселок Большая Ижора', nan,\n",
       "       'городской посёлок Павлово', 'деревня Агалатово',\n",
       "       'посёлок Новогорелово', 'городской посёлок Лесогорский',\n",
       "       'деревня Лаголово', 'поселок Цвелодубово',\n",
       "       'поселок городского типа Рахья', 'поселок городского типа Вырица',\n",
       "       'деревня Белогорка', 'поселок Заводской',\n",
       "       'городской посёлок Новоселье', 'деревня Большие Колпаны',\n",
       "       'деревня Горбунки', 'деревня Батово', 'деревня Заневка',\n",
       "       'деревня Иссад', 'Приморск', 'городской посёлок Фёдоровское',\n",
       "       'деревня Мистолово', 'Новая Ладога', 'поселок Зимитицы',\n",
       "       'поселок Барышево', 'деревня Разметелево',\n",
       "       'поселок городского типа имени Свердлова', 'деревня Пеники',\n",
       "       'поселок Рябово', 'деревня Пудомяги', 'поселок станции Корнево',\n",
       "       'деревня Низино', 'деревня Бегуницы', 'посёлок Поляны',\n",
       "       'городской посёлок Мга', 'поселок Елизаветино',\n",
       "       'посёлок городского типа Кузнечное', 'деревня Колтуши',\n",
       "       'поселок Запорожское', 'посёлок городского типа Рощино',\n",
       "       'деревня Гостилицы', 'деревня Малое Карлино',\n",
       "       'посёлок Мичуринское', 'посёлок городского типа имени Морозова',\n",
       "       'посёлок Песочный', 'посёлок Сосново', 'деревня Аро',\n",
       "       'поселок Ильичёво', 'посёлок городского типа Тайцы',\n",
       "       'деревня Малое Верево', 'деревня Извара', 'поселок станции Вещево',\n",
       "       'село Паша', 'деревня Калитино',\n",
       "       'посёлок городского типа Ульяновка', 'деревня Чудской Бор',\n",
       "       'поселок городского типа Дубровка', 'деревня Мины',\n",
       "       'поселок Войсковицы', 'посёлок городского типа имени Свердлова',\n",
       "       'деревня Коркино', 'посёлок Ропша',\n",
       "       'поселок городского типа Приладожский', 'посёлок Щеглово',\n",
       "       'посёлок Гаврилово', 'Лодейное Поле', 'деревня Рабитицы',\n",
       "       'поселок городского типа Никольский', 'деревня Кузьмолово',\n",
       "       'деревня Малые Колпаны', 'поселок Тельмана',\n",
       "       'посёлок Петро-Славянка', 'городской посёлок Назия',\n",
       "       'посёлок Репино', 'посёлок Ильичёво', 'поселок Углово',\n",
       "       'поселок Старая Малукса', 'садовое товарищество Рахья',\n",
       "       'поселок Аннино', 'поселок Победа', 'деревня Меньково',\n",
       "       'деревня Старые Бегуницы', 'посёлок Сапёрный', 'поселок Семрино',\n",
       "       'поселок Гаврилово', 'поселок Глажево', 'поселок Кобринское',\n",
       "       'деревня Гарболово', 'деревня Юкки',\n",
       "       'поселок станции Приветнинское', 'деревня Мануйлово',\n",
       "       'деревня Пчева', 'поселок Поляны', 'поселок Цвылёво',\n",
       "       'поселок Мельниково', 'посёлок Пудость', 'посёлок Усть-Луга',\n",
       "       'Светогорск', 'Любань', 'поселок Селезнёво',\n",
       "       'поселок городского типа Рябово', 'Каменногорск', 'деревня Кривко',\n",
       "       'поселок Глебычево', 'деревня Парицы', 'поселок Жилпосёлок',\n",
       "       'посёлок городского типа Мга', 'городской поселок Янино-1',\n",
       "       'посёлок Войскорово', 'село Никольское', 'посёлок Терволово',\n",
       "       'поселок Стеклянный', 'посёлок городского типа Важины',\n",
       "       'посёлок Мыза-Ивановка', 'село Русско-Высоцкое',\n",
       "       'поселок городского типа Лебяжье',\n",
       "       'поселок городского типа Форносово', 'село Старая Ладога',\n",
       "       'поселок Житково', 'городской посёлок Виллози', 'деревня Лампово',\n",
       "       'деревня Шпаньково', 'деревня Лаврики', 'посёлок Сумино',\n",
       "       'посёлок Возрождение', 'деревня Старосиверская',\n",
       "       'посёлок Кикерино', 'поселок Возрождение',\n",
       "       'деревня Старое Хинколово', 'посёлок Пригородный',\n",
       "       'посёлок Торфяное', 'городской посёлок Будогощь',\n",
       "       'поселок Суходолье', 'поселок Красная Долина', 'деревня Хапо-Ое',\n",
       "       'поселок городского типа Дружная Горка', 'поселок Лисий Нос',\n",
       "       'деревня Яльгелево', 'посёлок Стеклянный', 'село Рождествено',\n",
       "       'деревня Старополье', 'посёлок Левашово', 'деревня Сяськелево',\n",
       "       'деревня Камышовка',\n",
       "       'садоводческое некоммерческое товарищество Лесная Поляна',\n",
       "       'деревня Хязельки', 'поселок Жилгородок',\n",
       "       'посёлок городского типа Павлово', 'деревня Ялгино',\n",
       "       'поселок Новый Учхоз', 'городской посёлок Рощино',\n",
       "       'поселок Гончарово', 'поселок Почап', 'посёлок Сапёрное',\n",
       "       'посёлок Платформа 69-й километр', 'поселок Каложицы',\n",
       "       'деревня Фалилеево', 'деревня Пельгора',\n",
       "       'поселок городского типа Лесогорский', 'деревня Торошковичи',\n",
       "       'посёлок Белоостров', 'посёлок Алексеевка', 'поселок Серебрянский',\n",
       "       'поселок Лукаши', 'поселок Петровское', 'деревня Щеглово',\n",
       "       'поселок Мичуринское', 'деревня Тарасово', 'поселок Кингисеппский',\n",
       "       'посёлок при железнодорожной станции Вещево', 'поселок Ушаки',\n",
       "       'деревня Котлы', 'деревня Сижно', 'деревня Торосово',\n",
       "       'посёлок Форт Красная Горка', 'поселок городского типа Токсово',\n",
       "       'деревня Новолисино', 'посёлок станции Громово', 'деревня Глинка',\n",
       "       'посёлок Мельниково', 'поселок городского типа Назия',\n",
       "       'деревня Старая Пустошь', 'поселок Коммунары', 'поселок Починок',\n",
       "       'посёлок городского типа Вознесенье', 'деревня Разбегаево',\n",
       "       'посёлок городского типа Рябово', 'поселок Гладкое',\n",
       "       'посёлок при железнодорожной станции Приветнинское',\n",
       "       'поселок Тёсово-4', 'посёлок Жилгородок', 'деревня Бор',\n",
       "       'посёлок Коробицыно', 'деревня Большая Вруда', 'деревня Курковицы',\n",
       "       'посёлок Лисий Нос', 'городской посёлок Советский',\n",
       "       'посёлок Кобралово', 'деревня Суоранда', 'поселок Кобралово',\n",
       "       'поселок городского типа Кондратьево',\n",
       "       'коттеджный поселок Счастье', 'поселок Любань', 'деревня Реброво',\n",
       "       'деревня Зимитицы', 'деревня Тойворово', 'поселок Семиозерье',\n",
       "       'поселок Лесное', 'поселок Совхозный', 'поселок Усть-Луга',\n",
       "       'посёлок Ленинское', 'посёлок Суйда',\n",
       "       'посёлок городского типа Форносово', 'деревня Нижние Осельки',\n",
       "       'посёлок станции Свирь', 'поселок Перово', 'Высоцк',\n",
       "       'поселок Гарболово', 'село Шум', 'поселок Котельский',\n",
       "       'поселок станции Лужайка', 'деревня Большая Пустомержа',\n",
       "       'поселок Красносельское', 'деревня Вахнова Кара', 'деревня Пижма',\n",
       "       'коттеджный поселок Кивеннапа Север', 'поселок Коробицыно',\n",
       "       'поселок Ромашки', 'посёлок Перово', 'деревня Каськово',\n",
       "       'деревня Куровицы', 'посёлок Плоское', 'поселок Сумино',\n",
       "       'поселок городского типа Большая Ижора', 'поселок Кирпичное',\n",
       "       'деревня Ям-Тесово', 'деревня Раздолье', 'деревня Терпилицы',\n",
       "       'посёлок Шугозеро', 'деревня Ваганово', 'поселок Пушное',\n",
       "       'садовое товарищество Садко', 'посёлок Усть-Ижора',\n",
       "       'деревня Выскатка', 'городской посёлок Свирьстрой',\n",
       "       'поселок Громово', 'деревня Кисельня', 'посёлок Старая Малукса',\n",
       "       'деревня Трубников Бор', 'поселок Калитино',\n",
       "       'посёлок Высокоключевой', 'садовое товарищество Приладожский',\n",
       "       'посёлок Пансионат Зелёный Бор', 'деревня Ненимяки',\n",
       "       'поселок Пансионат Зелёный Бор', 'деревня Снегирёвка',\n",
       "       'деревня Рапполово', 'деревня Пустынка', 'поселок Рабитицы',\n",
       "       'деревня Большой Сабск', 'деревня Русско', 'деревня Лупполово',\n",
       "       'деревня Большое Рейзино', 'деревня Малая Романовка',\n",
       "       'поселок Дружноселье', 'поселок Пчевжа', 'поселок Володарское',\n",
       "       'деревня Нижняя', 'коттеджный посёлок Лесное', 'деревня Тихковицы',\n",
       "       'деревня Борисова Грива', 'посёлок Дзержинского'], dtype=object)"
      ]
     },
     "execution_count": 9,
     "metadata": {},
     "output_type": "execute_result"
    }
   ],
   "source": [
    "df[\"locality_name\"].unique()"
   ]
  },
  {
   "cell_type": "markdown",
   "id": "e8cd8eb0",
   "metadata": {},
   "source": [
    "Видно, что содержится много дубликатов, причиной которых является использвание символов 'е' и 'ё'. Также есть дубликаты из-за разного указания статуса населенного пункта, например, «поселок Рябово» и «поселок городского типа Рябово». Чтобы исключить это, добавим новый столбец \"clean_name\", где будет содержатся только название населенных пунктов"
   ]
  },
  {
   "cell_type": "code",
   "execution_count": 10,
   "id": "27ff15af",
   "metadata": {},
   "outputs": [],
   "source": [
    "stopwords = ['городской', 'городского', 'типа', 'посёлок', 'коттеджный',\n",
    "             'поселок', 'деревня', 'при', 'железнодорожной', 'станции',\n",
    "            'садоводческое', 'некоммерческое', 'товарищество', 'садовое', 'село']\n",
    "new_words = []\n",
    "stopword_re = re.compile(\"|\".join(r\"\\b%s\\b\" % re.escape(word) for word in stopwords))\n",
    "df[\"clean_name\"] = df[\"locality_name\"].replace(stopword_re, \"\")\n",
    "df[\"clean_name\"] = df[~df[\"clean_name\"].isna()][\"clean_name\"].str.strip()"
   ]
  },
  {
   "cell_type": "markdown",
   "id": "7647fe98",
   "metadata": {},
   "source": [
    "<div class=\"alert alert-block alert-danger\">\n",
    "<h2> Комментарий ревьюера V1<a class=\"tocSkip\"></h2>\n",
    "\n",
    "\n",
    "<b>На доработку🤔:</b>\n",
    "Не хватает проверки обработки. Всегда после тогго, как ты обрабатываешь данные, нужно смотреть на результат обработки, вдруг что то отработало некорректно?"
   ]
  },
  {
   "cell_type": "code",
   "execution_count": 11,
   "id": "4c1710c5",
   "metadata": {},
   "outputs": [
    {
     "data": {
      "text/plain": [
       "array(['Санкт-Петербург', 'Шушары', 'Янино-1', 'Парголово', 'Мурино',\n",
       "       'Ломоносов', 'Сертолово', 'Петергоф', 'Пушкин', 'Кудрово',\n",
       "       'Коммунар', 'Колпино', 'Красный Бор', 'Гатчина', 'Фёдоровское',\n",
       "       'Выборг', 'Кронштадт', 'Кировск', 'Новое Девяткино',\n",
       "       'Металлострой', 'Лебяжье', 'Сиверский', 'Молодцово',\n",
       "       'Кузьмоловский', 'Новая Ропша', 'Павловск', 'Пикколово',\n",
       "       'Всеволожск', 'Волхов', 'Кингисепп', 'Приозерск', 'Сестрорецк',\n",
       "       'Куттузи', 'Аннино', 'Ефимовский', 'Плодовое', 'Заклинье',\n",
       "       'Торковичи', 'Первомайское', 'Красное Село', 'Понтонный',\n",
       "       'Сясьстрой', 'Старая', 'Лесколово', 'Новый Свет', 'Сланцы',\n",
       "       'Путилово', 'Ивангород', 'Шлиссельбург', 'Никольское',\n",
       "       'Зеленогорск', 'Сосновый Бор', 'Оржицы', 'Кальтино', 'Романовка',\n",
       "       'Бугры', 'Рощино', 'Кириши', 'Луга', 'Волосово', 'Отрадное',\n",
       "       'Павлово', 'Оредеж', 'Копорье', 'Молодёжное', 'Тихвин', 'Победа',\n",
       "       'Нурма', 'Синявино', 'Тосно', 'Стрельна', 'Бокситогорск',\n",
       "       'Александровская', 'Лопухинка', 'Пикалёво', 'Терволово',\n",
       "       'Советский', 'Подпорожье', 'Петровское', 'Токсово', 'Сельцо',\n",
       "       'Вырица', 'Кипень', 'Келози', 'Вартемяги', 'Тельмана',\n",
       "       'Севастьяново', 'Большая Ижора', nan, 'Агалатово', 'Новогорелово',\n",
       "       'Лесогорский', 'Лаголово', 'Цвелодубово', 'Рахья', 'Белогорка',\n",
       "       'Заводской', 'Новоселье', 'Большие Колпаны', 'Горбунки', 'Батово',\n",
       "       'Заневка', 'Иссад', 'Приморск', 'Мистолово', 'Новая Ладога',\n",
       "       'Зимитицы', 'Барышево', 'Разметелево', 'имени Свердлова', 'Пеники',\n",
       "       'Рябово', 'Пудомяги', 'Корнево', 'Низино', 'Бегуницы', 'Поляны',\n",
       "       'Мга', 'Елизаветино', 'Кузнечное', 'Колтуши', 'Запорожское',\n",
       "       'Гостилицы', 'Малое Карлино', 'Мичуринское', 'имени Морозова',\n",
       "       'Песочный', 'Сосново', 'Аро', 'Ильичёво', 'Тайцы', 'Малое Верево',\n",
       "       'Извара', 'Вещево', 'Паша', 'Калитино', 'Ульяновка', 'Чудской Бор',\n",
       "       'Дубровка', 'Мины', 'Войсковицы', 'Коркино', 'Ропша',\n",
       "       'Приладожский', 'Щеглово', 'Гаврилово', 'Лодейное Поле',\n",
       "       'Рабитицы', 'Никольский', 'Кузьмолово', 'Малые Колпаны',\n",
       "       'Петро-Славянка', 'Назия', 'Репино', 'Углово', 'Старая Малукса',\n",
       "       'Меньково', 'Старые Бегуницы', 'Сапёрный', 'Семрино', 'Глажево',\n",
       "       'Кобринское', 'Гарболово', 'Юкки', 'Приветнинское', 'Мануйлово',\n",
       "       'Пчева', 'Цвылёво', 'Мельниково', 'Пудость', 'Усть-Луга',\n",
       "       'Светогорск', 'Любань', 'Селезнёво', 'Каменногорск', 'Кривко',\n",
       "       'Глебычево', 'Парицы', 'Жилпосёлок', 'Войскорово', 'Стеклянный',\n",
       "       'Важины', 'Мыза-Ивановка', 'Русско-Высоцкое', 'Форносово',\n",
       "       'Старая Ладога', 'Житково', 'Виллози', 'Лампово', 'Шпаньково',\n",
       "       'Лаврики', 'Сумино', 'Возрождение', 'Старосиверская', 'Кикерино',\n",
       "       'Старое Хинколово', 'Пригородный', 'Торфяное', 'Будогощь',\n",
       "       'Суходолье', 'Красная Долина', 'Хапо-Ое', 'Дружная Горка',\n",
       "       'Лисий Нос', 'Яльгелево', 'Рождествено', 'Старополье', 'Левашово',\n",
       "       'Сяськелево', 'Камышовка', 'Лесная Поляна', 'Хязельки',\n",
       "       'Жилгородок', 'Ялгино', 'Новый Учхоз', 'Гончарово', 'Почап',\n",
       "       'Сапёрное', 'Платформа 69-й километр', 'Каложицы', 'Фалилеево',\n",
       "       'Пельгора', 'Торошковичи', 'Белоостров', 'Алексеевка',\n",
       "       'Серебрянский', 'Лукаши', 'Тарасово', 'Кингисеппский', 'Ушаки',\n",
       "       'Котлы', 'Сижно', 'Торосово', 'Форт Красная Горка', 'Новолисино',\n",
       "       'Громово', 'Глинка', 'Старая Пустошь', 'Коммунары', 'Починок',\n",
       "       'Вознесенье', 'Разбегаево', 'Гладкое', 'Тёсово-4', 'Бор',\n",
       "       'Коробицыно', 'Большая Вруда', 'Курковицы', 'Кобралово',\n",
       "       'Суоранда', 'Кондратьево', 'Счастье', 'Реброво', 'Тойворово',\n",
       "       'Семиозерье', 'Лесное', 'Совхозный', 'Ленинское', 'Суйда',\n",
       "       'Нижние Осельки', 'Свирь', 'Перово', 'Высоцк', 'Шум', 'Котельский',\n",
       "       'Лужайка', 'Большая Пустомержа', 'Красносельское', 'Вахнова Кара',\n",
       "       'Пижма', 'Кивеннапа Север', 'Ромашки', 'Каськово', 'Куровицы',\n",
       "       'Плоское', 'Кирпичное', 'Ям-Тесово', 'Раздолье', 'Терпилицы',\n",
       "       'Шугозеро', 'Ваганово', 'Пушное', 'Садко', 'Усть-Ижора',\n",
       "       'Выскатка', 'Свирьстрой', 'Кисельня', 'Трубников Бор',\n",
       "       'Высокоключевой', 'Пансионат Зелёный Бор', 'Ненимяки',\n",
       "       'Снегирёвка', 'Рапполово', 'Пустынка', 'Большой Сабск', 'Русско',\n",
       "       'Лупполово', 'Большое Рейзино', 'Малая Романовка', 'Дружноселье',\n",
       "       'Пчевжа', 'Володарское', 'Нижняя', 'Тихковицы', 'Борисова Грива',\n",
       "       'Дзержинского'], dtype=object)"
      ]
     },
     "execution_count": 11,
     "metadata": {},
     "output_type": "execute_result"
    }
   ],
   "source": [
    "df[\"clean_name\"].unique()"
   ]
  },
  {
   "cell_type": "markdown",
   "id": "a0b63059",
   "metadata": {},
   "source": [
    "Успех, удалось оставить только названия поселков."
   ]
  },
  {
   "cell_type": "markdown",
   "id": "44e8704d",
   "metadata": {},
   "source": [
    "#### Аномальные значения"
   ]
  },
  {
   "cell_type": "markdown",
   "id": "044e0015",
   "metadata": {},
   "source": [
    "Проанализировав гистограммы, можем предположить и исследовать на аномальные значения следующие поля:\n",
    "- last_price\n",
    "- total_area\n",
    "- rooms\n",
    "- ceiling_height\n",
    "- balcony"
   ]
  },
  {
   "cell_type": "markdown",
   "id": "9c34a28a",
   "metadata": {},
   "source": [
    "Проанализируем квартиры с высокими ценами на аномальность"
   ]
  },
  {
   "cell_type": "code",
   "execution_count": 12,
   "id": "88cf8dcc",
   "metadata": {},
   "outputs": [
    {
     "data": {
      "text/html": [
       "<div>\n",
       "<style scoped>\n",
       "    .dataframe tbody tr th:only-of-type {\n",
       "        vertical-align: middle;\n",
       "    }\n",
       "\n",
       "    .dataframe tbody tr th {\n",
       "        vertical-align: top;\n",
       "    }\n",
       "\n",
       "    .dataframe thead th {\n",
       "        text-align: right;\n",
       "    }\n",
       "</style>\n",
       "<table border=\"1\" class=\"dataframe\">\n",
       "  <thead>\n",
       "    <tr style=\"text-align: right;\">\n",
       "      <th></th>\n",
       "      <th>total_images</th>\n",
       "      <th>last_price</th>\n",
       "      <th>total_area</th>\n",
       "      <th>first_day_exposition</th>\n",
       "      <th>rooms</th>\n",
       "      <th>ceiling_height</th>\n",
       "      <th>floors_total</th>\n",
       "      <th>living_area</th>\n",
       "      <th>floor</th>\n",
       "      <th>is_apartment</th>\n",
       "      <th>...</th>\n",
       "      <th>balcony</th>\n",
       "      <th>locality_name</th>\n",
       "      <th>airports_nearest</th>\n",
       "      <th>cityCenters_nearest</th>\n",
       "      <th>parks_around3000</th>\n",
       "      <th>parks_nearest</th>\n",
       "      <th>ponds_around3000</th>\n",
       "      <th>ponds_nearest</th>\n",
       "      <th>days_exposition</th>\n",
       "      <th>clean_name</th>\n",
       "    </tr>\n",
       "  </thead>\n",
       "  <tbody>\n",
       "    <tr>\n",
       "      <th>1436</th>\n",
       "      <td>19</td>\n",
       "      <td>330000000.0</td>\n",
       "      <td>190.0</td>\n",
       "      <td>2018-04-04</td>\n",
       "      <td>3</td>\n",
       "      <td>3.50</td>\n",
       "      <td>7.0</td>\n",
       "      <td>95.000000</td>\n",
       "      <td>5</td>\n",
       "      <td>False</td>\n",
       "      <td>...</td>\n",
       "      <td>0</td>\n",
       "      <td>Санкт-Петербург</td>\n",
       "      <td>23011.0</td>\n",
       "      <td>1197.0</td>\n",
       "      <td>3</td>\n",
       "      <td>519.0</td>\n",
       "      <td>3</td>\n",
       "      <td>285.0</td>\n",
       "      <td>233.0</td>\n",
       "      <td>Санкт-Петербург</td>\n",
       "    </tr>\n",
       "    <tr>\n",
       "      <th>5893</th>\n",
       "      <td>3</td>\n",
       "      <td>230000000.0</td>\n",
       "      <td>500.0</td>\n",
       "      <td>2017-05-31</td>\n",
       "      <td>6</td>\n",
       "      <td>2.65</td>\n",
       "      <td>7.0</td>\n",
       "      <td>288.461538</td>\n",
       "      <td>7</td>\n",
       "      <td>False</td>\n",
       "      <td>...</td>\n",
       "      <td>0</td>\n",
       "      <td>Санкт-Петербург</td>\n",
       "      <td>32440.0</td>\n",
       "      <td>5297.0</td>\n",
       "      <td>0</td>\n",
       "      <td>NaN</td>\n",
       "      <td>2</td>\n",
       "      <td>198.0</td>\n",
       "      <td>50.0</td>\n",
       "      <td>Санкт-Петербург</td>\n",
       "    </tr>\n",
       "    <tr>\n",
       "      <th>12971</th>\n",
       "      <td>19</td>\n",
       "      <td>763000000.0</td>\n",
       "      <td>400.0</td>\n",
       "      <td>2017-09-30</td>\n",
       "      <td>7</td>\n",
       "      <td>2.65</td>\n",
       "      <td>10.0</td>\n",
       "      <td>250.000000</td>\n",
       "      <td>10</td>\n",
       "      <td>False</td>\n",
       "      <td>...</td>\n",
       "      <td>2</td>\n",
       "      <td>Санкт-Петербург</td>\n",
       "      <td>25108.0</td>\n",
       "      <td>3956.0</td>\n",
       "      <td>1</td>\n",
       "      <td>530.0</td>\n",
       "      <td>3</td>\n",
       "      <td>756.0</td>\n",
       "      <td>33.0</td>\n",
       "      <td>Санкт-Петербург</td>\n",
       "    </tr>\n",
       "    <tr>\n",
       "      <th>13749</th>\n",
       "      <td>7</td>\n",
       "      <td>240000000.0</td>\n",
       "      <td>410.0</td>\n",
       "      <td>2017-04-01</td>\n",
       "      <td>6</td>\n",
       "      <td>3.40</td>\n",
       "      <td>7.0</td>\n",
       "      <td>218.000000</td>\n",
       "      <td>7</td>\n",
       "      <td>False</td>\n",
       "      <td>...</td>\n",
       "      <td>0</td>\n",
       "      <td>Санкт-Петербург</td>\n",
       "      <td>32440.0</td>\n",
       "      <td>5297.0</td>\n",
       "      <td>0</td>\n",
       "      <td>NaN</td>\n",
       "      <td>2</td>\n",
       "      <td>198.0</td>\n",
       "      <td>199.0</td>\n",
       "      <td>Санкт-Петербург</td>\n",
       "    </tr>\n",
       "    <tr>\n",
       "      <th>14706</th>\n",
       "      <td>15</td>\n",
       "      <td>401300000.0</td>\n",
       "      <td>401.0</td>\n",
       "      <td>2016-02-20</td>\n",
       "      <td>5</td>\n",
       "      <td>2.65</td>\n",
       "      <td>9.0</td>\n",
       "      <td>204.000000</td>\n",
       "      <td>9</td>\n",
       "      <td>False</td>\n",
       "      <td>...</td>\n",
       "      <td>3</td>\n",
       "      <td>Санкт-Петербург</td>\n",
       "      <td>21912.0</td>\n",
       "      <td>2389.0</td>\n",
       "      <td>1</td>\n",
       "      <td>545.0</td>\n",
       "      <td>1</td>\n",
       "      <td>478.0</td>\n",
       "      <td>393.0</td>\n",
       "      <td>Санкт-Петербург</td>\n",
       "    </tr>\n",
       "    <tr>\n",
       "      <th>15651</th>\n",
       "      <td>20</td>\n",
       "      <td>300000000.0</td>\n",
       "      <td>618.0</td>\n",
       "      <td>2017-12-18</td>\n",
       "      <td>7</td>\n",
       "      <td>3.40</td>\n",
       "      <td>7.0</td>\n",
       "      <td>258.000000</td>\n",
       "      <td>5</td>\n",
       "      <td>False</td>\n",
       "      <td>...</td>\n",
       "      <td>0</td>\n",
       "      <td>Санкт-Петербург</td>\n",
       "      <td>32440.0</td>\n",
       "      <td>5297.0</td>\n",
       "      <td>0</td>\n",
       "      <td>NaN</td>\n",
       "      <td>2</td>\n",
       "      <td>198.0</td>\n",
       "      <td>111.0</td>\n",
       "      <td>Санкт-Петербург</td>\n",
       "    </tr>\n",
       "    <tr>\n",
       "      <th>16461</th>\n",
       "      <td>17</td>\n",
       "      <td>245000000.0</td>\n",
       "      <td>285.7</td>\n",
       "      <td>2017-04-10</td>\n",
       "      <td>6</td>\n",
       "      <td>3.35</td>\n",
       "      <td>7.0</td>\n",
       "      <td>182.800000</td>\n",
       "      <td>4</td>\n",
       "      <td>False</td>\n",
       "      <td>...</td>\n",
       "      <td>0</td>\n",
       "      <td>Санкт-Петербург</td>\n",
       "      <td>33143.0</td>\n",
       "      <td>6235.0</td>\n",
       "      <td>3</td>\n",
       "      <td>400.0</td>\n",
       "      <td>3</td>\n",
       "      <td>140.0</td>\n",
       "      <td>249.0</td>\n",
       "      <td>Санкт-Петербург</td>\n",
       "    </tr>\n",
       "    <tr>\n",
       "      <th>19540</th>\n",
       "      <td>8</td>\n",
       "      <td>420000000.0</td>\n",
       "      <td>900.0</td>\n",
       "      <td>2017-12-06</td>\n",
       "      <td>12</td>\n",
       "      <td>2.80</td>\n",
       "      <td>25.0</td>\n",
       "      <td>409.700000</td>\n",
       "      <td>25</td>\n",
       "      <td>False</td>\n",
       "      <td>...</td>\n",
       "      <td>0</td>\n",
       "      <td>Санкт-Петербург</td>\n",
       "      <td>30706.0</td>\n",
       "      <td>7877.0</td>\n",
       "      <td>0</td>\n",
       "      <td>NaN</td>\n",
       "      <td>2</td>\n",
       "      <td>318.0</td>\n",
       "      <td>106.0</td>\n",
       "      <td>Санкт-Петербург</td>\n",
       "    </tr>\n",
       "    <tr>\n",
       "      <th>22831</th>\n",
       "      <td>18</td>\n",
       "      <td>289238400.0</td>\n",
       "      <td>187.5</td>\n",
       "      <td>2019-03-19</td>\n",
       "      <td>2</td>\n",
       "      <td>3.37</td>\n",
       "      <td>6.0</td>\n",
       "      <td>63.700000</td>\n",
       "      <td>6</td>\n",
       "      <td>False</td>\n",
       "      <td>...</td>\n",
       "      <td>0</td>\n",
       "      <td>Санкт-Петербург</td>\n",
       "      <td>22494.0</td>\n",
       "      <td>1073.0</td>\n",
       "      <td>3</td>\n",
       "      <td>386.0</td>\n",
       "      <td>3</td>\n",
       "      <td>188.0</td>\n",
       "      <td>NaN</td>\n",
       "      <td>Санкт-Петербург</td>\n",
       "    </tr>\n",
       "  </tbody>\n",
       "</table>\n",
       "<p>9 rows × 23 columns</p>\n",
       "</div>"
      ],
      "text/plain": [
       "       total_images   last_price  total_area first_day_exposition  rooms  \\\n",
       "1436             19  330000000.0       190.0           2018-04-04      3   \n",
       "5893              3  230000000.0       500.0           2017-05-31      6   \n",
       "12971            19  763000000.0       400.0           2017-09-30      7   \n",
       "13749             7  240000000.0       410.0           2017-04-01      6   \n",
       "14706            15  401300000.0       401.0           2016-02-20      5   \n",
       "15651            20  300000000.0       618.0           2017-12-18      7   \n",
       "16461            17  245000000.0       285.7           2017-04-10      6   \n",
       "19540             8  420000000.0       900.0           2017-12-06     12   \n",
       "22831            18  289238400.0       187.5           2019-03-19      2   \n",
       "\n",
       "       ceiling_height  floors_total  living_area  floor  is_apartment  ...  \\\n",
       "1436             3.50           7.0    95.000000      5         False  ...   \n",
       "5893             2.65           7.0   288.461538      7         False  ...   \n",
       "12971            2.65          10.0   250.000000     10         False  ...   \n",
       "13749            3.40           7.0   218.000000      7         False  ...   \n",
       "14706            2.65           9.0   204.000000      9         False  ...   \n",
       "15651            3.40           7.0   258.000000      5         False  ...   \n",
       "16461            3.35           7.0   182.800000      4         False  ...   \n",
       "19540            2.80          25.0   409.700000     25         False  ...   \n",
       "22831            3.37           6.0    63.700000      6         False  ...   \n",
       "\n",
       "       balcony    locality_name  airports_nearest  cityCenters_nearest  \\\n",
       "1436         0  Санкт-Петербург           23011.0               1197.0   \n",
       "5893         0  Санкт-Петербург           32440.0               5297.0   \n",
       "12971        2  Санкт-Петербург           25108.0               3956.0   \n",
       "13749        0  Санкт-Петербург           32440.0               5297.0   \n",
       "14706        3  Санкт-Петербург           21912.0               2389.0   \n",
       "15651        0  Санкт-Петербург           32440.0               5297.0   \n",
       "16461        0  Санкт-Петербург           33143.0               6235.0   \n",
       "19540        0  Санкт-Петербург           30706.0               7877.0   \n",
       "22831        0  Санкт-Петербург           22494.0               1073.0   \n",
       "\n",
       "      parks_around3000  parks_nearest  ponds_around3000  ponds_nearest  \\\n",
       "1436                 3          519.0                 3          285.0   \n",
       "5893                 0            NaN                 2          198.0   \n",
       "12971                1          530.0                 3          756.0   \n",
       "13749                0            NaN                 2          198.0   \n",
       "14706                1          545.0                 1          478.0   \n",
       "15651                0            NaN                 2          198.0   \n",
       "16461                3          400.0                 3          140.0   \n",
       "19540                0            NaN                 2          318.0   \n",
       "22831                3          386.0                 3          188.0   \n",
       "\n",
       "       days_exposition       clean_name  \n",
       "1436             233.0  Санкт-Петербург  \n",
       "5893              50.0  Санкт-Петербург  \n",
       "12971             33.0  Санкт-Петербург  \n",
       "13749            199.0  Санкт-Петербург  \n",
       "14706            393.0  Санкт-Петербург  \n",
       "15651            111.0  Санкт-Петербург  \n",
       "16461            249.0  Санкт-Петербург  \n",
       "19540            106.0  Санкт-Петербург  \n",
       "22831              NaN  Санкт-Петербург  \n",
       "\n",
       "[9 rows x 23 columns]"
      ]
     },
     "execution_count": 12,
     "metadata": {},
     "output_type": "execute_result"
    }
   ],
   "source": [
    "df[df[\"last_price\"] > 2e8]"
   ]
  },
  {
   "cell_type": "markdown",
   "id": "187e86cf",
   "metadata": {},
   "source": [
    "Из выборки видно, что вероятнее всего это элитные квартиры, так как имеют большую площадь с высокими потолками, находятся в черте города. Однозначно сказать, что это выбросы нельзя, поэтому пока оставим как есть"
   ]
  },
  {
   "cell_type": "markdown",
   "id": "0d398ef8",
   "metadata": {},
   "source": [
    "Проанализируем квартиры с большими площадями на анамальность"
   ]
  },
  {
   "cell_type": "code",
   "execution_count": 13,
   "id": "e83f3e83",
   "metadata": {},
   "outputs": [
    {
     "data": {
      "text/html": [
       "<div>\n",
       "<style scoped>\n",
       "    .dataframe tbody tr th:only-of-type {\n",
       "        vertical-align: middle;\n",
       "    }\n",
       "\n",
       "    .dataframe tbody tr th {\n",
       "        vertical-align: top;\n",
       "    }\n",
       "\n",
       "    .dataframe thead th {\n",
       "        text-align: right;\n",
       "    }\n",
       "</style>\n",
       "<table border=\"1\" class=\"dataframe\">\n",
       "  <thead>\n",
       "    <tr style=\"text-align: right;\">\n",
       "      <th></th>\n",
       "      <th>total_images</th>\n",
       "      <th>last_price</th>\n",
       "      <th>total_area</th>\n",
       "      <th>first_day_exposition</th>\n",
       "      <th>rooms</th>\n",
       "      <th>ceiling_height</th>\n",
       "      <th>floors_total</th>\n",
       "      <th>living_area</th>\n",
       "      <th>floor</th>\n",
       "      <th>is_apartment</th>\n",
       "      <th>...</th>\n",
       "      <th>balcony</th>\n",
       "      <th>locality_name</th>\n",
       "      <th>airports_nearest</th>\n",
       "      <th>cityCenters_nearest</th>\n",
       "      <th>parks_around3000</th>\n",
       "      <th>parks_nearest</th>\n",
       "      <th>ponds_around3000</th>\n",
       "      <th>ponds_nearest</th>\n",
       "      <th>days_exposition</th>\n",
       "      <th>clean_name</th>\n",
       "    </tr>\n",
       "  </thead>\n",
       "  <tbody>\n",
       "    <tr>\n",
       "      <th>3117</th>\n",
       "      <td>19</td>\n",
       "      <td>140000000.0</td>\n",
       "      <td>631.0</td>\n",
       "      <td>2019-03-30</td>\n",
       "      <td>7</td>\n",
       "      <td>2.65</td>\n",
       "      <td>5.0</td>\n",
       "      <td>364.038462</td>\n",
       "      <td>5</td>\n",
       "      <td>False</td>\n",
       "      <td>...</td>\n",
       "      <td>0</td>\n",
       "      <td>Санкт-Петербург</td>\n",
       "      <td>25707.0</td>\n",
       "      <td>4972.0</td>\n",
       "      <td>0</td>\n",
       "      <td>NaN</td>\n",
       "      <td>2</td>\n",
       "      <td>210.0</td>\n",
       "      <td>NaN</td>\n",
       "      <td>Санкт-Петербург</td>\n",
       "    </tr>\n",
       "    <tr>\n",
       "      <th>4237</th>\n",
       "      <td>1</td>\n",
       "      <td>50000000.0</td>\n",
       "      <td>517.0</td>\n",
       "      <td>2017-10-14</td>\n",
       "      <td>7</td>\n",
       "      <td>2.65</td>\n",
       "      <td>4.0</td>\n",
       "      <td>332.000000</td>\n",
       "      <td>3</td>\n",
       "      <td>False</td>\n",
       "      <td>...</td>\n",
       "      <td>0</td>\n",
       "      <td>Санкт-Петербург</td>\n",
       "      <td>22835.0</td>\n",
       "      <td>1847.0</td>\n",
       "      <td>2</td>\n",
       "      <td>477.0</td>\n",
       "      <td>2</td>\n",
       "      <td>540.0</td>\n",
       "      <td>NaN</td>\n",
       "      <td>Санкт-Петербург</td>\n",
       "    </tr>\n",
       "    <tr>\n",
       "      <th>5358</th>\n",
       "      <td>20</td>\n",
       "      <td>65000000.0</td>\n",
       "      <td>590.0</td>\n",
       "      <td>2019-02-14</td>\n",
       "      <td>15</td>\n",
       "      <td>3.50</td>\n",
       "      <td>6.0</td>\n",
       "      <td>409.000000</td>\n",
       "      <td>3</td>\n",
       "      <td>False</td>\n",
       "      <td>...</td>\n",
       "      <td>0</td>\n",
       "      <td>Санкт-Петербург</td>\n",
       "      <td>24447.0</td>\n",
       "      <td>4666.0</td>\n",
       "      <td>1</td>\n",
       "      <td>767.0</td>\n",
       "      <td>0</td>\n",
       "      <td>NaN</td>\n",
       "      <td>14.0</td>\n",
       "      <td>Санкт-Петербург</td>\n",
       "    </tr>\n",
       "    <tr>\n",
       "      <th>8018</th>\n",
       "      <td>20</td>\n",
       "      <td>84000000.0</td>\n",
       "      <td>507.0</td>\n",
       "      <td>2015-12-17</td>\n",
       "      <td>5</td>\n",
       "      <td>4.45</td>\n",
       "      <td>7.0</td>\n",
       "      <td>301.500000</td>\n",
       "      <td>7</td>\n",
       "      <td>True</td>\n",
       "      <td>...</td>\n",
       "      <td>1</td>\n",
       "      <td>Санкт-Петербург</td>\n",
       "      <td>NaN</td>\n",
       "      <td>5735.0</td>\n",
       "      <td>2</td>\n",
       "      <td>110.0</td>\n",
       "      <td>0</td>\n",
       "      <td>NaN</td>\n",
       "      <td>1078.0</td>\n",
       "      <td>Санкт-Петербург</td>\n",
       "    </tr>\n",
       "    <tr>\n",
       "      <th>12859</th>\n",
       "      <td>20</td>\n",
       "      <td>140000000.0</td>\n",
       "      <td>631.2</td>\n",
       "      <td>2019-04-09</td>\n",
       "      <td>7</td>\n",
       "      <td>3.90</td>\n",
       "      <td>4.0</td>\n",
       "      <td>322.300000</td>\n",
       "      <td>4</td>\n",
       "      <td>False</td>\n",
       "      <td>...</td>\n",
       "      <td>1</td>\n",
       "      <td>Санкт-Петербург</td>\n",
       "      <td>25707.0</td>\n",
       "      <td>4972.0</td>\n",
       "      <td>0</td>\n",
       "      <td>NaN</td>\n",
       "      <td>2</td>\n",
       "      <td>210.0</td>\n",
       "      <td>NaN</td>\n",
       "      <td>Санкт-Петербург</td>\n",
       "    </tr>\n",
       "    <tr>\n",
       "      <th>15651</th>\n",
       "      <td>20</td>\n",
       "      <td>300000000.0</td>\n",
       "      <td>618.0</td>\n",
       "      <td>2017-12-18</td>\n",
       "      <td>7</td>\n",
       "      <td>3.40</td>\n",
       "      <td>7.0</td>\n",
       "      <td>258.000000</td>\n",
       "      <td>5</td>\n",
       "      <td>False</td>\n",
       "      <td>...</td>\n",
       "      <td>0</td>\n",
       "      <td>Санкт-Петербург</td>\n",
       "      <td>32440.0</td>\n",
       "      <td>5297.0</td>\n",
       "      <td>0</td>\n",
       "      <td>NaN</td>\n",
       "      <td>2</td>\n",
       "      <td>198.0</td>\n",
       "      <td>111.0</td>\n",
       "      <td>Санкт-Петербург</td>\n",
       "    </tr>\n",
       "    <tr>\n",
       "      <th>19540</th>\n",
       "      <td>8</td>\n",
       "      <td>420000000.0</td>\n",
       "      <td>900.0</td>\n",
       "      <td>2017-12-06</td>\n",
       "      <td>12</td>\n",
       "      <td>2.80</td>\n",
       "      <td>25.0</td>\n",
       "      <td>409.700000</td>\n",
       "      <td>25</td>\n",
       "      <td>False</td>\n",
       "      <td>...</td>\n",
       "      <td>0</td>\n",
       "      <td>Санкт-Петербург</td>\n",
       "      <td>30706.0</td>\n",
       "      <td>7877.0</td>\n",
       "      <td>0</td>\n",
       "      <td>NaN</td>\n",
       "      <td>2</td>\n",
       "      <td>318.0</td>\n",
       "      <td>106.0</td>\n",
       "      <td>Санкт-Петербург</td>\n",
       "    </tr>\n",
       "  </tbody>\n",
       "</table>\n",
       "<p>7 rows × 23 columns</p>\n",
       "</div>"
      ],
      "text/plain": [
       "       total_images   last_price  total_area first_day_exposition  rooms  \\\n",
       "3117             19  140000000.0       631.0           2019-03-30      7   \n",
       "4237              1   50000000.0       517.0           2017-10-14      7   \n",
       "5358             20   65000000.0       590.0           2019-02-14     15   \n",
       "8018             20   84000000.0       507.0           2015-12-17      5   \n",
       "12859            20  140000000.0       631.2           2019-04-09      7   \n",
       "15651            20  300000000.0       618.0           2017-12-18      7   \n",
       "19540             8  420000000.0       900.0           2017-12-06     12   \n",
       "\n",
       "       ceiling_height  floors_total  living_area  floor  is_apartment  ...  \\\n",
       "3117             2.65           5.0   364.038462      5         False  ...   \n",
       "4237             2.65           4.0   332.000000      3         False  ...   \n",
       "5358             3.50           6.0   409.000000      3         False  ...   \n",
       "8018             4.45           7.0   301.500000      7          True  ...   \n",
       "12859            3.90           4.0   322.300000      4         False  ...   \n",
       "15651            3.40           7.0   258.000000      5         False  ...   \n",
       "19540            2.80          25.0   409.700000     25         False  ...   \n",
       "\n",
       "       balcony    locality_name  airports_nearest  cityCenters_nearest  \\\n",
       "3117         0  Санкт-Петербург           25707.0               4972.0   \n",
       "4237         0  Санкт-Петербург           22835.0               1847.0   \n",
       "5358         0  Санкт-Петербург           24447.0               4666.0   \n",
       "8018         1  Санкт-Петербург               NaN               5735.0   \n",
       "12859        1  Санкт-Петербург           25707.0               4972.0   \n",
       "15651        0  Санкт-Петербург           32440.0               5297.0   \n",
       "19540        0  Санкт-Петербург           30706.0               7877.0   \n",
       "\n",
       "      parks_around3000  parks_nearest  ponds_around3000  ponds_nearest  \\\n",
       "3117                 0            NaN                 2          210.0   \n",
       "4237                 2          477.0                 2          540.0   \n",
       "5358                 1          767.0                 0            NaN   \n",
       "8018                 2          110.0                 0            NaN   \n",
       "12859                0            NaN                 2          210.0   \n",
       "15651                0            NaN                 2          198.0   \n",
       "19540                0            NaN                 2          318.0   \n",
       "\n",
       "       days_exposition       clean_name  \n",
       "3117               NaN  Санкт-Петербург  \n",
       "4237               NaN  Санкт-Петербург  \n",
       "5358              14.0  Санкт-Петербург  \n",
       "8018            1078.0  Санкт-Петербург  \n",
       "12859              NaN  Санкт-Петербург  \n",
       "15651            111.0  Санкт-Петербург  \n",
       "19540            106.0  Санкт-Петербург  \n",
       "\n",
       "[7 rows x 23 columns]"
      ]
     },
     "execution_count": 13,
     "metadata": {},
     "output_type": "execute_result"
    }
   ],
   "source": [
    "df[df[\"total_area\"] > 500]"
   ]
  },
  {
   "cell_type": "markdown",
   "id": "53e52ab9",
   "metadata": {},
   "source": [
    "С площадью такая же картина, как и с ценой. Оставим пока как есть"
   ]
  },
  {
   "cell_type": "markdown",
   "id": "442a77aa",
   "metadata": {},
   "source": [
    "Посмотрим на комнаты. Количество квартир с больше чем 7 комнат незначительное, да и варианты с бОльшим количеством комнат выглядят очень подозрительно, поэтому решено создать дополнительный столбец и объединить эти квартиры в группу 7+ комнат"
   ]
  },
  {
   "cell_type": "code",
   "execution_count": 14,
   "id": "22dfac48",
   "metadata": {
    "scrolled": true
   },
   "outputs": [],
   "source": [
    "df[\"rooms_count_group\"] = df[\"rooms\"]\n",
    "df['rooms_count_group'] = df['rooms_count_group'].astype('str')\n",
    "df.loc[(df[\"rooms\"] >= 7), 'rooms_count_group'] = '7+'"
   ]
  },
  {
   "cell_type": "markdown",
   "id": "f2bbd96b",
   "metadata": {},
   "source": [
    "Проанализируем высоту потолков. Найдем и удалим редкие и выбивающиеся значения. Потолки меньше 2.4-х и больше 32-х метров, а также в диапазоне (6, 20)"
   ]
  },
  {
   "cell_type": "markdown",
   "id": "bafca5fe",
   "metadata": {},
   "source": [
    "<div class=\"alert alert-block alert-danger\">\n",
    "<h2> Комментарий ревьюера V1<a class=\"tocSkip\"></h2>\n",
    "\n",
    "\n",
    "<b>На доработку🤔:</b>\n",
    "Выбросы нужно удалять из датафрейма, пытаться сохранять эти данные не стоит, их количество вряд ли поможет получить более корректные результаты, скорее наоборот получится искаженная картина."
   ]
  },
  {
   "cell_type": "code",
   "execution_count": 15,
   "id": "7af06574",
   "metadata": {},
   "outputs": [],
   "source": [
    "ceiling_condition = ((df[\"ceiling_height\"] < 2.4) | (df[\"ceiling_height\"] > 32)) | ((df[\"ceiling_height\"] >= 6) & (df[\"ceiling_height\"] <= 24))\n",
    "df.drop(df[ceiling_condition].index, inplace = True)"
   ]
  },
  {
   "cell_type": "markdown",
   "id": "9878ee7c",
   "metadata": {},
   "source": [
    "Поправим значения в диапазоне 24 - 32, вероятнее всего это диапазон 2.4 - 3.2"
   ]
  },
  {
   "cell_type": "code",
   "execution_count": 16,
   "id": "04e6f9af",
   "metadata": {},
   "outputs": [],
   "source": [
    "df.loc[(df[\"ceiling_height\"] > 24), 'ceiling_height'] = df.loc[(df['ceiling_height'] > 24), 'ceiling_height'] / 10"
   ]
  },
  {
   "cell_type": "markdown",
   "id": "6dc06207",
   "metadata": {},
   "source": [
    "<div class=\"alert alert-success\">\n",
    "<h2> Комментарий ревьюера V1<a class=\"tocSkip\"> </h2>\n",
    "\n",
    "<b>Все отлично!👍:</b> Возможные опечатки обработал правильно."
   ]
  },
  {
   "cell_type": "markdown",
   "id": "5bfe0945",
   "metadata": {},
   "source": [
    "### Шаг 3. Добавьте в таблицу новые столбцы"
   ]
  },
  {
   "cell_type": "markdown",
   "id": "6b165e78",
   "metadata": {},
   "source": [
    "Цена одного квадратного метра"
   ]
  },
  {
   "cell_type": "code",
   "execution_count": 17,
   "id": "f447400a",
   "metadata": {},
   "outputs": [],
   "source": [
    "df['price_per_meter'] = df['last_price'] / df['total_area']"
   ]
  },
  {
   "cell_type": "markdown",
   "id": "78c675f5",
   "metadata": {},
   "source": [
    "День недели публикации объявления (0 — понедельник, 1 — вторник и так далее)"
   ]
  },
  {
   "cell_type": "code",
   "execution_count": 18,
   "id": "bbe1c141",
   "metadata": {},
   "outputs": [],
   "source": [
    "df['weekday'] = df['first_day_exposition'].dt.weekday"
   ]
  },
  {
   "cell_type": "markdown",
   "id": "fc6c6b56",
   "metadata": {},
   "source": [
    "Месяц публикации объявления"
   ]
  },
  {
   "cell_type": "code",
   "execution_count": 19,
   "id": "36b215bf",
   "metadata": {},
   "outputs": [],
   "source": [
    "df['month'] = df['first_day_exposition'].dt.month"
   ]
  },
  {
   "cell_type": "markdown",
   "id": "b312cc05",
   "metadata": {},
   "source": [
    "Год публикации объявления"
   ]
  },
  {
   "cell_type": "code",
   "execution_count": 20,
   "id": "9c3b4809",
   "metadata": {},
   "outputs": [],
   "source": [
    "df['year'] = df['first_day_exposition'].dt.year"
   ]
  },
  {
   "cell_type": "markdown",
   "id": "de75297e",
   "metadata": {},
   "source": [
    "Тип этажа квартиры (значения — «‎первый», «последний», «другой»)"
   ]
  },
  {
   "cell_type": "code",
   "execution_count": 21,
   "id": "59249f06",
   "metadata": {},
   "outputs": [],
   "source": [
    "def floor_group(data):\n",
    "    \"\"\"\n",
    "    Возвращает тип этажа квартиры\n",
    "    \"\"\"\n",
    "    if data['floor'] == 1:\n",
    "        return 'первый'\n",
    "    if data['floor'] == data['floors_total']:\n",
    "        return 'последний'\n",
    "    return 'другой' \n",
    "\n",
    "df['floor_group'] = df.apply(floor_group, axis=1)"
   ]
  },
  {
   "cell_type": "markdown",
   "id": "3cef866e",
   "metadata": {},
   "source": [
    "Расстояние до центра города в километрах (переведите из м в км и округлите до целых значений)"
   ]
  },
  {
   "cell_type": "code",
   "execution_count": 22,
   "id": "eea5ee33",
   "metadata": {},
   "outputs": [],
   "source": [
    "df[\"cityCenters_nearest_km\"] = (df[\"cityCenters_nearest\"] / 1000).round()"
   ]
  },
  {
   "cell_type": "markdown",
   "id": "a0a27218",
   "metadata": {},
   "source": [
    "<div class=\"alert alert-success\">\n",
    "<h2> Комментарий ревьюера V1<a class=\"tocSkip\"> </h2>\n",
    "\n",
    "<b>Все отлично!👍:</b> Новые столбцы создал правильно, использовал подходящие методы для этого, так держать!"
   ]
  },
  {
   "cell_type": "markdown",
   "id": "454f41c8",
   "metadata": {},
   "source": [
    "### Шаг 4. Проведите исследовательский анализ данных:"
   ]
  },
  {
   "cell_type": "markdown",
   "id": "42f5cac0",
   "metadata": {},
   "source": [
    "#### Общая площадь"
   ]
  },
  {
   "cell_type": "code",
   "execution_count": 23,
   "id": "b77cbaad",
   "metadata": {
    "scrolled": false
   },
   "outputs": [
    {
     "data": {
      "text/plain": [
       "<AxesSubplot:>"
      ]
     },
     "execution_count": 23,
     "metadata": {},
     "output_type": "execute_result"
    },
    {
     "data": {
      "image/png": "[encoded data removed]",
      "text/plain": [
       "<Figure size 1080x360 with 1 Axes>"
      ]
     },
     "metadata": {
      "needs_background": "light"
     },
     "output_type": "display_data"
    }
   ],
   "source": [
    "df['total_area'].hist(bins=100, figsize=(15, 5))"
   ]
  },
  {
   "cell_type": "markdown",
   "id": "fac8298c",
   "metadata": {},
   "source": [
    "Здесь и далее, будем исключать из графика большие редкие значения, чтобы видеть более подробно картину распределения в наиболее частых случаях"
   ]
  },
  {
   "cell_type": "code",
   "execution_count": 24,
   "id": "0ab774f1",
   "metadata": {
    "scrolled": false
   },
   "outputs": [
    {
     "data": {
      "text/plain": [
       "<AxesSubplot:>"
      ]
     },
     "execution_count": 24,
     "metadata": {},
     "output_type": "execute_result"
    },
    {
     "data": {
      "image/png": "[encoded data removed]",
      "text/plain": [
       "<Figure size 1080x360 with 1 Axes>"
      ]
     },
     "metadata": {
      "needs_background": "light"
     },
     "output_type": "display_data"
    }
   ],
   "source": [
    "df['total_area'].hist(bins=50, figsize=(15, 5), range=(0, 300))"
   ]
  },
  {
   "cell_type": "code",
   "execution_count": 89,
   "id": "8803016d",
   "metadata": {},
   "outputs": [
    {
     "data": {
      "text/plain": [
       "count    23667.000000\n",
       "mean        60.359241\n",
       "std         35.661223\n",
       "min         12.000000\n",
       "25%         40.000000\n",
       "50%         52.000000\n",
       "75%         70.000000\n",
       "max        900.000000\n",
       "Name: total_area, dtype: float64"
      ]
     },
     "execution_count": 89,
     "metadata": {},
     "output_type": "execute_result"
    },
    {
     "data": {
      "image/png": "[encoded data removed]",
      "text/plain": [
       "<Figure size 360x360 with 1 Axes>"
      ]
     },
     "metadata": {
      "needs_background": "light"
     },
     "output_type": "display_data"
    }
   ],
   "source": [
    "df.boxplot(figsize=(5, 5), column='total_area')\n",
    "\n",
    "plt.ylim(0, 500)\n",
    "df['total_area'].describe()"
   ]
  },
  {
   "cell_type": "markdown",
   "id": "579c1d56",
   "metadata": {},
   "source": [
    "Среднее значение - 60, медиана - 52."
   ]
  },
  {
   "cell_type": "markdown",
   "id": "87b5f16e",
   "metadata": {},
   "source": [
    "#### Жилая площадь"
   ]
  },
  {
   "cell_type": "code",
   "execution_count": 26,
   "id": "4650e5ee",
   "metadata": {},
   "outputs": [
    {
     "data": {
      "text/plain": [
       "<AxesSubplot:>"
      ]
     },
     "execution_count": 26,
     "metadata": {},
     "output_type": "execute_result"
    },
    {
     "data": {
      "image/png": "[encoded data removed]",
      "text/plain": [
       "<Figure size 1080x360 with 1 Axes>"
      ]
     },
     "metadata": {
      "needs_background": "light"
     },
     "output_type": "display_data"
    }
   ],
   "source": [
    "df['living_area'].hist(bins=100, figsize=(15, 5), range=(0, 100))"
   ]
  },
  {
   "cell_type": "markdown",
   "id": "e88b9472",
   "metadata": {},
   "source": [
    "Неожиданно, в распределении видим несколько пиков. Можно предположить, что эти пики коррелируют с количеством комнат. Проверим, построим гистограмму, разделив цветами квартиры с разным количеством комнат"
   ]
  },
  {
   "cell_type": "code",
   "execution_count": 27,
   "id": "f54988a8",
   "metadata": {},
   "outputs": [
    {
     "data": {
      "text/plain": [
       "<AxesSubplot:ylabel='Frequency'>"
      ]
     },
     "execution_count": 27,
     "metadata": {},
     "output_type": "execute_result"
    },
    {
     "data": {
      "image/png": "[encoded data removed]",
      "text/plain": [
       "<Figure size 1080x360 with 1 Axes>"
      ]
     },
     "metadata": {
      "needs_background": "light"
     },
     "output_type": "display_data"
    }
   ],
   "source": [
    "df.pivot(columns='rooms_count_group', values='living_area').plot.hist(bins=100, figsize=(15, 5), range=(0, 100))"
   ]
  },
  {
   "cell_type": "code",
   "execution_count": 28,
   "id": "22032505",
   "metadata": {},
   "outputs": [
    {
     "name": "stdout",
     "output_type": "stream",
     "text": [
      "count    8034.000000\n",
      "mean       18.296884\n",
      "std         4.989622\n",
      "min         3.000000\n",
      "25%        16.100000\n",
      "50%        17.884615\n",
      "75%        19.300000\n",
      "max       285.057692\n",
      "Name: living_area, dtype: float64\n",
      "count    7930.000000\n",
      "mean       31.831460\n",
      "std         6.469018\n",
      "min         2.000000\n",
      "25%        28.000000\n",
      "50%        30.500000\n",
      "75%        34.000000\n",
      "max       113.076923\n",
      "Name: living_area, dtype: float64\n",
      "count    5806.000000\n",
      "mean       47.380411\n",
      "std        11.965042\n",
      "min         3.000000\n",
      "25%        40.907885\n",
      "50%        44.900000\n",
      "75%        51.300000\n",
      "max       209.480769\n",
      "Name: living_area, dtype: float64\n"
     ]
    }
   ],
   "source": [
    "print(df[df['rooms_count_group'] == '1']['living_area'].describe())\n",
    "print(df[df['rooms_count_group'] == '2']['living_area'].describe())\n",
    "print(df[df['rooms_count_group'] == '3']['living_area'].describe())"
   ]
  },
  {
   "cell_type": "markdown",
   "id": "a65182cc",
   "metadata": {},
   "source": [
    "Действительно, каждый пик - это отдельное распределение для квартир с разной \"комнатностью\". Пик для 1, 2-х и 3-х комнатные квартиры приходится на 18, 30 и 45 кв. м. соответсвенно. Однако в распределении с общей площадью, такая зависимость прослеживается слабо."
   ]
  },
  {
   "cell_type": "markdown",
   "id": "5996be5d",
   "metadata": {},
   "source": [
    "<div class=\"alert alert-success\">\n",
    "<h2> Комментарий ревьюера V1<a class=\"tocSkip\"> </h2>\n",
    "\n",
    "<b>Все отлично!👍:</b> Молодец, что дополнительно проверил эту зависимость, интересная закономерность объясняется количеством комнат."
   ]
  },
  {
   "cell_type": "markdown",
   "id": "a9c2ce37",
   "metadata": {},
   "source": [
    "#### Площадь кухни"
   ]
  },
  {
   "cell_type": "code",
   "execution_count": 85,
   "id": "4d815d0c",
   "metadata": {},
   "outputs": [
    {
     "data": {
      "text/plain": [
       "<AxesSubplot:>"
      ]
     },
     "execution_count": 85,
     "metadata": {},
     "output_type": "execute_result"
    },
    {
     "data": {
      "image/png": "[encoded data removed]",
      "text/plain": [
       "<Figure size 1080x360 with 1 Axes>"
      ]
     },
     "metadata": {
      "needs_background": "light"
     },
     "output_type": "display_data"
    }
   ],
   "source": [
    "df[df['living_area'] < 30]['kitchen_area'].hist(bins=100, figsize=(15, 5), range=(0, 50))"
   ]
  },
  {
   "cell_type": "code",
   "execution_count": 88,
   "id": "6faf3e88",
   "metadata": {},
   "outputs": [
    {
     "data": {
      "text/plain": [
       "count    23667.000000\n",
       "mean        10.508541\n",
       "std          6.042097\n",
       "min          1.300000\n",
       "25%          7.000000\n",
       "50%          9.000000\n",
       "75%         12.000000\n",
       "max        112.000000\n",
       "Name: kitchen_area, dtype: float64"
      ]
     },
     "execution_count": 88,
     "metadata": {},
     "output_type": "execute_result"
    },
    {
     "data": {
      "image/png": "[encoded data removed]",
      "text/plain": [
       "<Figure size 360x360 with 1 Axes>"
      ]
     },
     "metadata": {
      "needs_background": "light"
     },
     "output_type": "display_data"
    }
   ],
   "source": [
    "df.boxplot(figsize=(5, 5), column='kitchen_area')\n",
    "\n",
    "plt.ylim(0, 100)\n",
    "df['kitchen_area'].describe()"
   ]
  },
  {
   "cell_type": "markdown",
   "id": "4c3b9807",
   "metadata": {},
   "source": [
    "Распределение выглядит довольно странно, зубчато. Корреляции с комнатностью, этажностью найдено не было. Вероятно это особенности выгрузки"
   ]
  },
  {
   "cell_type": "markdown",
   "id": "7ba8b56f",
   "metadata": {},
   "source": [
    "#### Цена объекта"
   ]
  },
  {
   "cell_type": "code",
   "execution_count": 30,
   "id": "9b8a915f",
   "metadata": {},
   "outputs": [
    {
     "data": {
      "text/plain": [
       "<AxesSubplot:>"
      ]
     },
     "execution_count": 30,
     "metadata": {},
     "output_type": "execute_result"
    },
    {
     "data": {
      "image/png": "[encoded data removed]",
      "text/plain": [
       "<Figure size 1080x360 with 1 Axes>"
      ]
     },
     "metadata": {
      "needs_background": "light"
     },
     "output_type": "display_data"
    }
   ],
   "source": [
    "df['last_price'].hist(bins=100, figsize=(15, 5), range=(0, 5e7))"
   ]
  },
  {
   "cell_type": "code",
   "execution_count": 91,
   "id": "c49d2320",
   "metadata": {},
   "outputs": [
    {
     "data": {
      "text/plain": [
       "count    2.366700e+04\n",
       "mean     6.540098e+06\n",
       "std      1.086888e+07\n",
       "min      1.219000e+04\n",
       "25%      3.420000e+06\n",
       "50%      4.650000e+06\n",
       "75%      6.800000e+06\n",
       "max      7.630000e+08\n",
       "Name: last_price, dtype: float64"
      ]
     },
     "execution_count": 91,
     "metadata": {},
     "output_type": "execute_result"
    },
    {
     "data": {
      "image/png": "[encoded data removed]",
      "text/plain": [
       "<Figure size 360x360 with 1 Axes>"
      ]
     },
     "metadata": {
      "needs_background": "light"
     },
     "output_type": "display_data"
    }
   ],
   "source": [
    "df.boxplot(figsize=(5, 5), column='last_price')\n",
    "\n",
    "plt.ylim(0, 5e7)\n",
    "df['last_price'].describe()"
   ]
  },
  {
   "cell_type": "markdown",
   "id": "f0b2cae2",
   "metadata": {},
   "source": [
    "В среднем квартиры продаются за 6,5 млн., однако медианой является значение в 4,65 млн."
   ]
  },
  {
   "cell_type": "markdown",
   "id": "6998de0f",
   "metadata": {},
   "source": [
    "#### Количество комнат"
   ]
  },
  {
   "cell_type": "code",
   "execution_count": 32,
   "id": "44cdc099",
   "metadata": {},
   "outputs": [
    {
     "data": {
      "text/plain": [
       "<AxesSubplot:>"
      ]
     },
     "execution_count": 32,
     "metadata": {},
     "output_type": "execute_result"
    },
    {
     "data": {
      "image/png": "[encoded data removed]",
      "text/plain": [
       "<Figure size 1080x360 with 1 Axes>"
      ]
     },
     "metadata": {
      "needs_background": "light"
     },
     "output_type": "display_data"
    }
   ],
   "source": [
    "df['rooms_count_group'].hist(bins=10, figsize=(15, 5), range=(1, 10))"
   ]
  },
  {
   "cell_type": "code",
   "execution_count": 33,
   "id": "3a820c1e",
   "metadata": {},
   "outputs": [
    {
     "data": {
      "text/plain": [
       "count    23667.000000\n",
       "mean         2.070858\n",
       "std          1.078633\n",
       "min          0.000000\n",
       "25%          1.000000\n",
       "50%          2.000000\n",
       "75%          3.000000\n",
       "max         19.000000\n",
       "Name: rooms, dtype: float64"
      ]
     },
     "execution_count": 33,
     "metadata": {},
     "output_type": "execute_result"
    }
   ],
   "source": [
    "df['rooms'].describe()"
   ]
  },
  {
   "cell_type": "markdown",
   "id": "62018e75",
   "metadata": {},
   "source": [
    "Пик приходится на 1 и 2-х комнатные квартиры. Так и есть, это самые популярные квартиры"
   ]
  },
  {
   "cell_type": "markdown",
   "id": "cd07f2c3",
   "metadata": {},
   "source": [
    "#### Высота потолков"
   ]
  },
  {
   "cell_type": "code",
   "execution_count": 34,
   "id": "2dfdc1e6",
   "metadata": {},
   "outputs": [
    {
     "data": {
      "text/plain": [
       "<AxesSubplot:>"
      ]
     },
     "execution_count": 34,
     "metadata": {},
     "output_type": "execute_result"
    },
    {
     "data": {
      "image/png": "[encoded data removed]",
      "text/plain": [
       "<Figure size 1080x360 with 1 Axes>"
      ]
     },
     "metadata": {
      "needs_background": "light"
     },
     "output_type": "display_data"
    }
   ],
   "source": [
    "df['ceiling_height'].hist(bins=100, figsize=(15, 5), range=(2.4, 4))"
   ]
  },
  {
   "cell_type": "markdown",
   "id": "113db4c5",
   "metadata": {},
   "source": [
    "Набляюдаем несколько вершин. Эти пики сооответсвуют стандартам потолков 2.5, 2.6, 2.7, 2.8, 3 и 3.2 метра"
   ]
  },
  {
   "cell_type": "markdown",
   "id": "ad446b1b",
   "metadata": {},
   "source": [
    "#### Этаж квартиры"
   ]
  },
  {
   "cell_type": "code",
   "execution_count": 35,
   "id": "9bea3550",
   "metadata": {},
   "outputs": [
    {
     "data": {
      "text/plain": [
       "<AxesSubplot:>"
      ]
     },
     "execution_count": 35,
     "metadata": {},
     "output_type": "execute_result"
    },
    {
     "data": {
      "image/png": "[encoded data removed]",
      "text/plain": [
       "<Figure size 1080x360 with 1 Axes>"
      ]
     },
     "metadata": {
      "needs_background": "light"
     },
     "output_type": "display_data"
    }
   ],
   "source": [
    "df['floor'].hist(bins=100, figsize=(15, 5))"
   ]
  },
  {
   "cell_type": "markdown",
   "id": "2a5ff3ed",
   "metadata": {},
   "source": [
    "Вообще распределение этажа квартиры ожидалось равномерным. Но корректировки вносит этажность дома. Попробуем разделить гистограмму по этому показателю. Во избежание долгих расчетов, ограничемся 16-ю этажами."
   ]
  },
  {
   "cell_type": "code",
   "execution_count": 36,
   "id": "672f1a21",
   "metadata": {},
   "outputs": [
    {
     "data": {
      "text/plain": [
       "<AxesSubplot:ylabel='Frequency'>"
      ]
     },
     "execution_count": 36,
     "metadata": {},
     "output_type": "execute_result"
    },
    {
     "data": {
      "image/png": "[encoded data removed]",
      "text/plain": [
       "<Figure size 1080x360 with 1 Axes>"
      ]
     },
     "metadata": {
      "needs_background": "light"
     },
     "output_type": "display_data"
    }
   ],
   "source": [
    "df[df['floors_total'] <= 16].pivot(columns='floors_total', values='floor').plot.hist(bins=100, figsize=(15, 5))"
   ]
  },
  {
   "cell_type": "markdown",
   "id": "1a7aca0f",
   "metadata": {},
   "source": [
    "Действительно, распределение получилось равномерным для каждой этажности"
   ]
  },
  {
   "cell_type": "markdown",
   "id": "5aad85c2",
   "metadata": {},
   "source": [
    "#### Тип этажа квартиры («первый», «последний», «другой»)"
   ]
  },
  {
   "cell_type": "code",
   "execution_count": 37,
   "id": "c3c957d9",
   "metadata": {},
   "outputs": [
    {
     "data": {
      "text/plain": [
       "<AxesSubplot:>"
      ]
     },
     "execution_count": 37,
     "metadata": {},
     "output_type": "execute_result"
    },
    {
     "data": {
      "image/png": "[encoded data removed]",
      "text/plain": [
       "<Figure size 1080x360 with 1 Axes>"
      ]
     },
     "metadata": {
      "needs_background": "light"
     },
     "output_type": "display_data"
    }
   ],
   "source": [
    "df['floor_group'].hist(bins=100, figsize=(15, 5))"
   ]
  },
  {
   "cell_type": "markdown",
   "id": "97956aa3",
   "metadata": {},
   "source": [
    "\"Другой\" этаж встречается чаще чем первый и последний, ожидаемо..."
   ]
  },
  {
   "cell_type": "markdown",
   "id": "5d3a8df6",
   "metadata": {},
   "source": [
    "#### Общее количество этажей в доме"
   ]
  },
  {
   "cell_type": "code",
   "execution_count": 38,
   "id": "2dd6230f",
   "metadata": {},
   "outputs": [
    {
     "data": {
      "text/plain": [
       "<AxesSubplot:>"
      ]
     },
     "execution_count": 38,
     "metadata": {},
     "output_type": "execute_result"
    },
    {
     "data": {
      "image/png": "[encoded data removed]",
      "text/plain": [
       "<Figure size 1080x360 with 1 Axes>"
      ]
     },
     "metadata": {
      "needs_background": "light"
     },
     "output_type": "display_data"
    }
   ],
   "source": [
    "df['floors_total'].hist(bins=100, figsize=(15, 5))"
   ]
  },
  {
   "cell_type": "markdown",
   "id": "c4af6757",
   "metadata": {},
   "source": [
    "Здесь видим несколько пиков. Объясняется это тем, что какие-то типовые дома встречаются чаще, чем другие, напрмер, это 5-ти, 9-ти, 16-ти и 25-ти этажки."
   ]
  },
  {
   "cell_type": "markdown",
   "id": "b1e93c4f",
   "metadata": {},
   "source": [
    "#### Расстояние до центра города в метрах"
   ]
  },
  {
   "cell_type": "code",
   "execution_count": 82,
   "id": "29eae7f3",
   "metadata": {},
   "outputs": [
    {
     "data": {
      "text/plain": [
       "<AxesSubplot:>"
      ]
     },
     "execution_count": 82,
     "metadata": {},
     "output_type": "execute_result"
    },
    {
     "data": {
      "image/png": "[encoded data removed]",
      "text/plain": [
       "<Figure size 1080x360 with 1 Axes>"
      ]
     },
     "metadata": {
      "needs_background": "light"
     },
     "output_type": "display_data"
    }
   ],
   "source": [
    "df['cityCenters_nearest'].hist(bins=100, figsize=(15, 5))"
   ]
  },
  {
   "cell_type": "code",
   "execution_count": 94,
   "id": "1d9a679e",
   "metadata": {},
   "outputs": [
    {
     "data": {
      "text/plain": [
       "count    18164.000000\n",
       "mean     14191.590344\n",
       "std       8610.204600\n",
       "min        181.000000\n",
       "25%       9238.000000\n",
       "50%      13100.000000\n",
       "75%      16293.000000\n",
       "max      65968.000000\n",
       "Name: cityCenters_nearest, dtype: float64"
      ]
     },
     "execution_count": 94,
     "metadata": {},
     "output_type": "execute_result"
    },
    {
     "data": {
      "image/png": "[encoded data removed]",
      "text/plain": [
       "<Figure size 360x360 with 1 Axes>"
      ]
     },
     "metadata": {
      "needs_background": "light"
     },
     "output_type": "display_data"
    }
   ],
   "source": [
    "df.boxplot(figsize=(5, 5), column='cityCenters_nearest')\n",
    "df['cityCenters_nearest'].describe()"
   ]
  },
  {
   "cell_type": "markdown",
   "id": "d5c3abed",
   "metadata": {},
   "source": [
    "График не очень показательный, потому что это выборка из нескольких городов. В среднем это 14191 метр, а медиана 13100"
   ]
  },
  {
   "cell_type": "markdown",
   "id": "5432175f",
   "metadata": {},
   "source": [
    "#### Расстояние до ближайшего аэропорта"
   ]
  },
  {
   "cell_type": "code",
   "execution_count": 41,
   "id": "d9298c30",
   "metadata": {},
   "outputs": [
    {
     "data": {
      "text/plain": [
       "<AxesSubplot:>"
      ]
     },
     "execution_count": 41,
     "metadata": {},
     "output_type": "execute_result"
    },
    {
     "data": {
      "image/png": "[encoded data removed]",
      "text/plain": [
       "<Figure size 1080x360 with 1 Axes>"
      ]
     },
     "metadata": {
      "needs_background": "light"
     },
     "output_type": "display_data"
    }
   ],
   "source": [
    "df['airports_nearest'].hist(bins=100, figsize=(15, 5))"
   ]
  },
  {
   "cell_type": "code",
   "execution_count": 97,
   "id": "91a7ec24",
   "metadata": {},
   "outputs": [
    {
     "data": {
      "text/plain": [
       "count    18141.000000\n",
       "mean     28793.984620\n",
       "std      12633.396257\n",
       "min          0.000000\n",
       "25%      18582.000000\n",
       "50%      26726.000000\n",
       "75%      37277.000000\n",
       "max      84869.000000\n",
       "Name: airports_nearest, dtype: float64"
      ]
     },
     "execution_count": 97,
     "metadata": {},
     "output_type": "execute_result"
    },
    {
     "data": {
      "image/png": "[encoded data removed]",
      "text/plain": [
       "<Figure size 360x360 with 1 Axes>"
      ]
     },
     "metadata": {
      "needs_background": "light"
     },
     "output_type": "display_data"
    }
   ],
   "source": [
    "df.boxplot(figsize=(5, 5), column='airports_nearest')\n",
    "df['airports_nearest'].describe()"
   ]
  },
  {
   "cell_type": "markdown",
   "id": "8df5c77a",
   "metadata": {},
   "source": [
    "В среднем это 28793 метра, а медиана 26726"
   ]
  },
  {
   "cell_type": "markdown",
   "id": "30237422",
   "metadata": {},
   "source": [
    "#### Расстояние до ближайшего парка"
   ]
  },
  {
   "cell_type": "code",
   "execution_count": 43,
   "id": "cebd25a0",
   "metadata": {},
   "outputs": [
    {
     "data": {
      "text/plain": [
       "<AxesSubplot:>"
      ]
     },
     "execution_count": 43,
     "metadata": {},
     "output_type": "execute_result"
    },
    {
     "data": {
      "image/png": "[encoded data removed]",
      "text/plain": [
       "<Figure size 1080x360 with 1 Axes>"
      ]
     },
     "metadata": {
      "needs_background": "light"
     },
     "output_type": "display_data"
    }
   ],
   "source": [
    "df['parks_nearest'].hist(bins=100, figsize=(15, 5))"
   ]
  },
  {
   "cell_type": "code",
   "execution_count": 98,
   "id": "41e3c87b",
   "metadata": {},
   "outputs": [
    {
     "data": {
      "text/plain": [
       "count    8069.000000\n",
       "mean      490.780270\n",
       "std       342.455928\n",
       "min         1.000000\n",
       "25%       288.000000\n",
       "50%       455.000000\n",
       "75%       612.000000\n",
       "max      3190.000000\n",
       "Name: parks_nearest, dtype: float64"
      ]
     },
     "execution_count": 98,
     "metadata": {},
     "output_type": "execute_result"
    },
    {
     "data": {
      "image/png": "[encoded data removed]",
      "text/plain": [
       "<Figure size 360x360 with 1 Axes>"
      ]
     },
     "metadata": {
      "needs_background": "light"
     },
     "output_type": "display_data"
    }
   ],
   "source": [
    "df.boxplot(figsize=(5, 5), column='parks_nearest')\n",
    "df['parks_nearest'].describe()"
   ]
  },
  {
   "cell_type": "markdown",
   "id": "b4f99de6",
   "metadata": {},
   "source": [
    "В среднем это 490 метр, а медиана 455. С учетом того, что третий квартиль составляет 612 метров, можно сказать, что в принципе большинство квартир находятся в пешей доступности от парков"
   ]
  },
  {
   "cell_type": "markdown",
   "id": "43a16308",
   "metadata": {},
   "source": [
    "#### День и месяц публикации объявления"
   ]
  },
  {
   "cell_type": "code",
   "execution_count": 45,
   "id": "a9847555",
   "metadata": {},
   "outputs": [
    {
     "data": {
      "text/plain": [
       "<AxesSubplot:>"
      ]
     },
     "execution_count": 45,
     "metadata": {},
     "output_type": "execute_result"
    },
    {
     "data": {
      "image/png": "[encoded data removed]",
      "text/plain": [
       "<Figure size 1080x360 with 1 Axes>"
      ]
     },
     "metadata": {
      "needs_background": "light"
     },
     "output_type": "display_data"
    }
   ],
   "source": [
    "df['weekday'].hist(bins=7, figsize=(15, 5))"
   ]
  },
  {
   "cell_type": "markdown",
   "id": "cc7c1475",
   "metadata": {},
   "source": [
    "Объявления в выходные публикуются реже чем в будни. Думаю связано с тем, что продажу квартиры чаще доверяют риелторам, чем собственнники занимаются самостоятельной продажей. Соответственно, риелторы публикуют объявления в рабочее время"
   ]
  },
  {
   "cell_type": "code",
   "execution_count": 59,
   "id": "fba35723",
   "metadata": {},
   "outputs": [
    {
     "data": {
      "text/plain": [
       "<AxesSubplot:>"
      ]
     },
     "execution_count": 59,
     "metadata": {},
     "output_type": "execute_result"
    },
    {
     "data": {
      "image/png": "[encoded data removed]",
      "text/plain": [
       "<Figure size 1080x360 with 1 Axes>"
      ]
     },
     "metadata": {
      "needs_background": "light"
     },
     "output_type": "display_data"
    }
   ],
   "source": [
    "df['month'].hist(bins=12, figsize=(15, 5))"
   ]
  },
  {
   "cell_type": "markdown",
   "id": "e810a797",
   "metadata": {},
   "source": [
    "Заметны просадки в январе, мае и декабре. Это месяца с праздничными днями. Больше всего объявлений приходится на весну."
   ]
  },
  {
   "cell_type": "markdown",
   "id": "41f4d1a0",
   "metadata": {},
   "source": [
    "<div class=\"alert alert-warning\">\n",
    "<h2> Комментарий ревьюера V1<a class=\"tocSkip\"> </h2>\n",
    "\n",
    "<b>Некоторые замечания и рекомендации💡:</b> Все случайные величины рассмотрел правильно, молодец, что проверил статистики. Стоит всегда рассматривать данные максимально подробно, описывать статистики, предполагать почему они обладают такими значениями. Для наглядности можно построить диаграммы размаха."
   ]
  },
  {
   "cell_type": "markdown",
   "id": "064ccc06",
   "metadata": {},
   "source": [
    "Посмотрим как быстро продавались квартиры (столбец days_exposition). Этот параметр показывает, сколько дней было размещено каждое объявление. "
   ]
  },
  {
   "cell_type": "code",
   "execution_count": 47,
   "id": "34fe206a",
   "metadata": {},
   "outputs": [
    {
     "data": {
      "text/plain": [
       "<AxesSubplot:>"
      ]
     },
     "execution_count": 47,
     "metadata": {},
     "output_type": "execute_result"
    },
    {
     "data": {
      "image/png": "[encoded data removed]",
      "text/plain": [
       "<Figure size 1080x360 with 1 Axes>"
      ]
     },
     "metadata": {
      "needs_background": "light"
     },
     "output_type": "display_data"
    }
   ],
   "source": [
    "df['days_exposition'].hist(bins=100, figsize=(15, 5))"
   ]
  },
  {
   "cell_type": "code",
   "execution_count": 48,
   "id": "667eaf82",
   "metadata": {},
   "outputs": [
    {
     "data": {
      "text/plain": [
       "count    20490.000000\n",
       "mean       180.938995\n",
       "std        219.814180\n",
       "min          1.000000\n",
       "25%         45.000000\n",
       "50%         95.000000\n",
       "75%        232.000000\n",
       "max       1580.000000\n",
       "Name: days_exposition, dtype: float64"
      ]
     },
     "execution_count": 48,
     "metadata": {},
     "output_type": "execute_result"
    }
   ],
   "source": [
    "df['days_exposition'].describe()"
   ]
  },
  {
   "cell_type": "markdown",
   "id": "b1a31665",
   "metadata": {},
   "source": [
    "В среднем квартиры продаются за 180 дней, однако медианой является значение в 95 дней. Быстрыми можно назвать квартиры которые были проданы в первом квартиле (до 45 дней), а небычайно долгими в 3-м (более 232 дней)"
   ]
  },
  {
   "cell_type": "markdown",
   "id": "930a832c",
   "metadata": {},
   "source": [
    "<div class=\"alert alert-success\">\n",
    "<h2> Комментарий ревьюера V1<a class=\"tocSkip\"> </h2>\n",
    "\n",
    "<b>Все отлично!👍:</b> Именно так, все верно!"
   ]
  },
  {
   "cell_type": "markdown",
   "id": "0ee4e19f",
   "metadata": {},
   "source": [
    "#### Зависимость цены квартиры от общей площади:"
   ]
  },
  {
   "cell_type": "code",
   "execution_count": 49,
   "id": "b8dbc506",
   "metadata": {},
   "outputs": [
    {
     "data": {
      "text/plain": [
       "<AxesSubplot:xlabel='kitchen_area', ylabel='last_price'>"
      ]
     },
     "execution_count": 49,
     "metadata": {},
     "output_type": "execute_result"
    },
    {
     "data": {
      "image/png": "[encoded data removed]",
      "text/plain": [
       "<Figure size 1080x360 with 1 Axes>"
      ]
     },
     "metadata": {
      "needs_background": "light"
     },
     "output_type": "display_data"
    },
    {
     "data": {
      "image/png": "[encoded data removed]",
      "text/plain": [
       "<Figure size 1080x360 with 1 Axes>"
      ]
     },
     "metadata": {
      "needs_background": "light"
     },
     "output_type": "display_data"
    },
    {
     "data": {
      "image/png": "[encoded data removed]",
      "text/plain": [
       "<Figure size 1080x360 with 1 Axes>"
      ]
     },
     "metadata": {
      "needs_background": "light"
     },
     "output_type": "display_data"
    }
   ],
   "source": [
    "df.plot(x='total_area', y='last_price', kind='scatter', figsize=(15, 5), xlim=(0, 400), ylim=(0, 5e7))\n",
    "df.plot(x='living_area', y='last_price', kind='scatter', figsize=(15, 5), xlim=(0, 400), ylim=(0, 5e7))\n",
    "df.plot(x='kitchen_area', y='last_price', kind='scatter', figsize=(15, 5), xlim=(0, 400), ylim=(0, 5e7))"
   ]
  },
  {
   "cell_type": "code",
   "execution_count": 50,
   "id": "f9501fc0",
   "metadata": {
    "scrolled": false
   },
   "outputs": [
    {
     "data": {
      "text/plain": [
       "<AxesSubplot:xlabel='rooms_count_group'>"
      ]
     },
     "execution_count": 50,
     "metadata": {},
     "output_type": "execute_result"
    },
    {
     "data": {
      "image/png": "[encoded data removed]",
      "text/plain": [
       "<Figure size 1080x360 with 1 Axes>"
      ]
     },
     "metadata": {
      "needs_background": "light"
     },
     "output_type": "display_data"
    }
   ],
   "source": [
    "rooms_count_stat = pd.pivot_table(df, index='rooms_count_group', values='last_price', aggfunc='median')\n",
    "rooms_count_stat.plot(figsize=(15, 5))"
   ]
  },
  {
   "cell_type": "markdown",
   "id": "701172ed",
   "metadata": {},
   "source": [
    "Ожидаемо цена растет с увеличением количества комнат"
   ]
  },
  {
   "cell_type": "markdown",
   "id": "862dbccf",
   "metadata": {},
   "source": [
    "#### Зависимость цены квартиры от типа этажа:"
   ]
  },
  {
   "cell_type": "code",
   "execution_count": 51,
   "id": "189652fe",
   "metadata": {},
   "outputs": [
    {
     "data": {
      "text/html": [
       "<div>\n",
       "<style scoped>\n",
       "    .dataframe tbody tr th:only-of-type {\n",
       "        vertical-align: middle;\n",
       "    }\n",
       "\n",
       "    .dataframe tbody tr th {\n",
       "        vertical-align: top;\n",
       "    }\n",
       "\n",
       "    .dataframe thead th {\n",
       "        text-align: right;\n",
       "    }\n",
       "</style>\n",
       "<table border=\"1\" class=\"dataframe\">\n",
       "  <thead>\n",
       "    <tr style=\"text-align: right;\">\n",
       "      <th></th>\n",
       "      <th>last_price</th>\n",
       "    </tr>\n",
       "    <tr>\n",
       "      <th>floor_group</th>\n",
       "      <th></th>\n",
       "    </tr>\n",
       "  </thead>\n",
       "  <tbody>\n",
       "    <tr>\n",
       "      <th>другой</th>\n",
       "      <td>4850000.0</td>\n",
       "    </tr>\n",
       "    <tr>\n",
       "      <th>первый</th>\n",
       "      <td>3900000.0</td>\n",
       "    </tr>\n",
       "    <tr>\n",
       "      <th>последний</th>\n",
       "      <td>4300000.0</td>\n",
       "    </tr>\n",
       "  </tbody>\n",
       "</table>\n",
       "</div>"
      ],
      "text/plain": [
       "             last_price\n",
       "floor_group            \n",
       "другой        4850000.0\n",
       "первый        3900000.0\n",
       "последний     4300000.0"
      ]
     },
     "execution_count": 51,
     "metadata": {},
     "output_type": "execute_result"
    }
   ],
   "source": [
    "pd.pivot_table(df, index='floor_group', values='last_price', aggfunc='median')"
   ]
  },
  {
   "cell_type": "markdown",
   "id": "f0495c79",
   "metadata": {},
   "source": [
    "Стоимость квартир на первом этаже заметно ниже остальных"
   ]
  },
  {
   "cell_type": "markdown",
   "id": "9c5375bd",
   "metadata": {},
   "source": [
    "#### Зависимость цены квартиры от дня недели публикации объявления:"
   ]
  },
  {
   "cell_type": "code",
   "execution_count": 52,
   "id": "9b0caac0",
   "metadata": {},
   "outputs": [
    {
     "data": {
      "text/plain": [
       "<AxesSubplot:xlabel='weekday'>"
      ]
     },
     "execution_count": 52,
     "metadata": {},
     "output_type": "execute_result"
    },
    {
     "data": {
      "image/png": "[encoded data removed]",
      "text/plain": [
       "<Figure size 1080x360 with 1 Axes>"
      ]
     },
     "metadata": {
      "needs_background": "light"
     },
     "output_type": "display_data"
    }
   ],
   "source": [
    "pd.pivot_table(df, index='weekday', values='last_price', aggfunc='median').plot(figsize=(15, 5))"
   ]
  },
  {
   "cell_type": "markdown",
   "id": "fccbf172",
   "metadata": {},
   "source": [
    "Цены, в начале недели всегда выше, чем к концу недели. "
   ]
  },
  {
   "cell_type": "markdown",
   "id": "4a076e7c",
   "metadata": {},
   "source": [
    "#### Зависимость цены квартиры от месяца публикации объявления:"
   ]
  },
  {
   "cell_type": "code",
   "execution_count": 53,
   "id": "0be77c9a",
   "metadata": {
    "scrolled": false
   },
   "outputs": [
    {
     "data": {
      "text/plain": [
       "<AxesSubplot:xlabel='month'>"
      ]
     },
     "execution_count": 53,
     "metadata": {},
     "output_type": "execute_result"
    },
    {
     "data": {
      "image/png": "[encoded data removed]",
      "text/plain": [
       "<Figure size 1080x360 with 1 Axes>"
      ]
     },
     "metadata": {
      "needs_background": "light"
     },
     "output_type": "display_data"
    }
   ],
   "source": [
    "pd.pivot_table(df, index='month', values='last_price', aggfunc='median').plot(figsize=(15, 5))"
   ]
  },
  {
   "cell_type": "markdown",
   "id": "c3d08ad4",
   "metadata": {},
   "source": [
    "Цены, в мае-июне ниже, чем в остальные месяцы. "
   ]
  },
  {
   "cell_type": "markdown",
   "id": "bb120859",
   "metadata": {},
   "source": [
    "#### Зависимость цены квартиры от года публикации объявления:"
   ]
  },
  {
   "cell_type": "code",
   "execution_count": 54,
   "id": "3e1c6220",
   "metadata": {},
   "outputs": [
    {
     "data": {
      "text/plain": [
       "<AxesSubplot:xlabel='year'>"
      ]
     },
     "execution_count": 54,
     "metadata": {},
     "output_type": "execute_result"
    },
    {
     "data": {
      "image/png": "[encoded data removed]",
      "text/plain": [
       "<Figure size 1080x360 with 1 Axes>"
      ]
     },
     "metadata": {
      "needs_background": "light"
     },
     "output_type": "display_data"
    }
   ],
   "source": [
    "pd.pivot_table(df, index='year', values='last_price', aggfunc='median').plot(figsize=(15, 5))"
   ]
  },
  {
   "cell_type": "markdown",
   "id": "ed13da94",
   "metadata": {},
   "source": [
    "Начиная с 2014 по 2017 год цены на квартиры снижались, после 2017 года видна тенденция на увеличение стоимости"
   ]
  },
  {
   "cell_type": "markdown",
   "id": "1860e164",
   "metadata": {},
   "source": [
    "<div class=\"alert alert-success\">\n",
    "<h2> Комментарий ревьюера V1<a class=\"tocSkip\"> </h2>\n",
    "\n",
    "<b>Все отлично!👍:</b> Правильные типы диаграмм подобрал для анализа зависимости, все вывод сделал верные, продолжай в том же духе!"
   ]
  },
  {
   "cell_type": "markdown",
   "id": "92fca112",
   "metadata": {},
   "source": [
    "<div class=\"alert alert-block alert-danger\">\n",
    "<h2> Комментарий ревьюера V1<a class=\"tocSkip\"></h2>\n",
    "\n",
    "\n",
    "<b>На доработку🤔:</b>\n",
    "Нужно рассмотреть также коэффициенты корреляций между случайными величинами, для которых это будет корректно."
   ]
  },
  {
   "cell_type": "markdown",
   "id": "b206f444",
   "metadata": {},
   "source": [
    "#### Посчитаем коэффициенты корреляции площадей и цен"
   ]
  },
  {
   "cell_type": "code",
   "execution_count": 55,
   "id": "baf45608",
   "metadata": {},
   "outputs": [
    {
     "name": "stdout",
     "output_type": "stream",
     "text": [
      "Коэффициент корреляции общей площади и цены - 0.6538067139254671\n",
      "Коэффициент корреляции жилой площади и цены - 0.5854041424089604\n",
      "Коэффициент корреляции площади кухни и цены - 0.5148586069929717\n"
     ]
    }
   ],
   "source": [
    "print(f\"Коэффициент корреляции общей площади и цены - {df['total_area'].corr(df['last_price'])}\")\n",
    "print(f\"Коэффициент корреляции жилой площади и цены - {df['living_area'].corr(df['last_price'])}\")\n",
    "print(f\"Коэффициент корреляции площади кухни и цены - {df['kitchen_area'].corr(df['last_price'])}\")"
   ]
  },
  {
   "cell_type": "markdown",
   "id": "467d223e",
   "metadata": {},
   "source": [
    "Корреляция в 0.51-0.65 говорит о наличии связи, с ростом площади, стоимость квартиры ожидаемо растет."
   ]
  },
  {
   "cell_type": "markdown",
   "id": "2442053f",
   "metadata": {},
   "source": [
    "#### Посчитайте среднюю цену одного квадратного метра в 10 населённых пунктах с наибольшим числом объявлений. Выделите населённые пункты с самой высокой и низкой стоимостью квадратного метра. Эти данные можно найти по имени в столбце locality_name."
   ]
  },
  {
   "cell_type": "code",
   "execution_count": 56,
   "id": "fccba3f7",
   "metadata": {},
   "outputs": [
    {
     "data": {
      "text/html": [
       "<div>\n",
       "<style scoped>\n",
       "    .dataframe tbody tr th:only-of-type {\n",
       "        vertical-align: middle;\n",
       "    }\n",
       "\n",
       "    .dataframe tbody tr th {\n",
       "        vertical-align: top;\n",
       "    }\n",
       "\n",
       "    .dataframe thead th {\n",
       "        text-align: right;\n",
       "    }\n",
       "</style>\n",
       "<table border=\"1\" class=\"dataframe\">\n",
       "  <thead>\n",
       "    <tr style=\"text-align: right;\">\n",
       "      <th></th>\n",
       "      <th>price_per_meter</th>\n",
       "    </tr>\n",
       "    <tr>\n",
       "      <th>clean_name</th>\n",
       "      <th></th>\n",
       "    </tr>\n",
       "  </thead>\n",
       "  <tbody>\n",
       "    <tr>\n",
       "      <th>Санкт-Петербург</th>\n",
       "      <td>114792.951711</td>\n",
       "    </tr>\n",
       "    <tr>\n",
       "      <th>Пушкин</th>\n",
       "      <td>103125.819291</td>\n",
       "    </tr>\n",
       "    <tr>\n",
       "      <th>Кудрово</th>\n",
       "      <td>95326.179139</td>\n",
       "    </tr>\n",
       "    <tr>\n",
       "      <th>Парголово</th>\n",
       "      <td>90175.913458</td>\n",
       "    </tr>\n",
       "    <tr>\n",
       "      <th>Мурино</th>\n",
       "      <td>86087.512050</td>\n",
       "    </tr>\n",
       "    <tr>\n",
       "      <th>Шушары</th>\n",
       "      <td>78677.364217</td>\n",
       "    </tr>\n",
       "    <tr>\n",
       "      <th>Колпино</th>\n",
       "      <td>75424.579098</td>\n",
       "    </tr>\n",
       "    <tr>\n",
       "      <th>Гатчина</th>\n",
       "      <td>68746.146763</td>\n",
       "    </tr>\n",
       "    <tr>\n",
       "      <th>Всеволожск</th>\n",
       "      <td>68719.320400</td>\n",
       "    </tr>\n",
       "    <tr>\n",
       "      <th>Выборг</th>\n",
       "      <td>58238.143141</td>\n",
       "    </tr>\n",
       "  </tbody>\n",
       "</table>\n",
       "</div>"
      ],
      "text/plain": [
       "                 price_per_meter\n",
       "clean_name                      \n",
       "Санкт-Петербург    114792.951711\n",
       "Пушкин             103125.819291\n",
       "Кудрово             95326.179139\n",
       "Парголово           90175.913458\n",
       "Мурино              86087.512050\n",
       "Шушары              78677.364217\n",
       "Колпино             75424.579098\n",
       "Гатчина             68746.146763\n",
       "Всеволожск          68719.320400\n",
       "Выборг              58238.143141"
      ]
     },
     "execution_count": 56,
     "metadata": {},
     "output_type": "execute_result"
    }
   ],
   "source": [
    "cities = (df\n",
    "          .groupby('clean_name')\n",
    "          .agg('count')\n",
    "          .sort_values(['last_price'],ascending=False)['last_price'][:10]\n",
    "          .keys())\n",
    "cities_prices_per_meter = pd.pivot_table(df.query('clean_name in @cities'), index='clean_name', values='price_per_meter').sort_values(by=['price_per_meter'], ascending=False)\n",
    "cities_prices_per_meter"
   ]
  },
  {
   "cell_type": "code",
   "execution_count": 57,
   "id": "85ebc60d",
   "metadata": {},
   "outputs": [
    {
     "data": {
      "text/plain": [
       "<AxesSubplot:xlabel='clean_name'>"
      ]
     },
     "execution_count": 57,
     "metadata": {},
     "output_type": "execute_result"
    },
    {
     "data": {
      "image/png": "[encoded data removed]",
      "text/plain": [
       "<Figure size 1080x360 with 1 Axes>"
      ]
     },
     "metadata": {
      "needs_background": "light"
     },
     "output_type": "display_data"
    }
   ],
   "source": [
    "cities_prices_per_meter.plot(kind='bar', figsize=(15, 5))"
   ]
  },
  {
   "cell_type": "markdown",
   "id": "44a08852",
   "metadata": {},
   "source": [
    "Наиболее дорогая стоимость жилья в Санкт-Петербурге, 114'849 р. за кв. метр, наиболее доступное жилье в Выборге 58'141 р. за кв. метр"
   ]
  },
  {
   "cell_type": "markdown",
   "id": "5c3953aa",
   "metadata": {},
   "source": [
    "<div class=\"alert alert-success\">\n",
    "<h2> Комментарий ревьюера V1<a class=\"tocSkip\"> </h2>\n",
    "\n",
    "<b>Все отлично!👍:</b> Все верно!"
   ]
  },
  {
   "cell_type": "markdown",
   "id": "139bf2f1",
   "metadata": {},
   "source": [
    "#### Ранее вы посчитали расстояние до центра в километрах. Теперь выделите квартиры в Санкт-Петербурге с помощью столбца locality_name и вычислите среднюю цену каждого километра. Опишите, как стоимость объектов зависит от расстояния до центра города."
   ]
  },
  {
   "cell_type": "code",
   "execution_count": 58,
   "id": "1db70971",
   "metadata": {},
   "outputs": [
    {
     "data": {
      "text/plain": [
       "<AxesSubplot:xlabel='cityCenters_nearest_km'>"
      ]
     },
     "execution_count": 58,
     "metadata": {},
     "output_type": "execute_result"
    },
    {
     "data": {
      "image/png": "[encoded data removed]",
      "text/plain": [
       "<Figure size 1080x360 with 1 Axes>"
      ]
     },
     "metadata": {
      "needs_background": "light"
     },
     "output_type": "display_data"
    }
   ],
   "source": [
    "price_nearest_km = pd.pivot_table(df[df[\"clean_name\"] == \"Санкт-Петербург\"], index='cityCenters_nearest_km', values='last_price')\n",
    "price_nearest_km.plot(figsize=(15, 5))"
   ]
  },
  {
   "cell_type": "markdown",
   "id": "f51f9cc5",
   "metadata": {},
   "source": [
    "Зависимость напоминает гиперболу с некоторыми выбросами в районе 7-го и 27-го километра, возможно на этом удалении от центра расположены элитные ЖК, которые вносят аномалии. "
   ]
  },
  {
   "cell_type": "markdown",
   "id": "cc4fe674",
   "metadata": {},
   "source": [
    "<div class=\"alert alert-block alert-danger\">\n",
    "<h2> Комментарий ревьюера V1<a class=\"tocSkip\"></h2>\n",
    "\n",
    "\n",
    "<b>На доработку🤔:</b>\n",
    "В данном пункте нужно рассмотреть зависимость расстояния до центра от общей стоимости квартир, а не от цены за метр квадратный."
   ]
  },
  {
   "cell_type": "markdown",
   "id": "e5953aeb",
   "metadata": {},
   "source": [
    "# Вывод"
   ]
  },
  {
   "cell_type": "markdown",
   "id": "73cc3f0b",
   "metadata": {},
   "source": [
    "1. Был выгружен датасет с более чем 23000 объявлений о продаже квартир, содержащий 21 параметр: расстояние до ближайшего аэропорта в метрах, число балконов, высота потолков, расстояние до центра города, сколько дней было размещено объявление, дата публикации, этаж, всего этажей в доме, апартаменты, площадь кухни в квадратных метрах, цена на момент снятия с публикации, жилая площадь в квадратных метрах, название населённого пункта, свободная планировка,число парков в радиусе 3 км, расстояние до ближайшего парка, число водоёмов в радиусе 3 км, расстояние до ближайшего водоёма, число комнат, квартира-студия, общая площадь квартиры в квадратных метрах, число фотографий квартиры в объявлении\n",
    "2. В ходе анализа датасета был выявлен ряд проблем:\n",
    "    - отсутствие информации в некоторых полях, а именно: расстояние до ближайшего аэропорта в метрах, число балконов, высота потолков, расстояние до центра города, сколько дней было размещено объявление, всего этажей в доме, апартаменты, площадь кухни в квадратных метрах, жилая площадь в квадратных метрах, название населённого пункта, число парков в радиусе 3 км, расстояние до ближайшего парка, число водоёмов в радиусе 3 км, расстояние до ближайшего водоёма\n",
    "    - Неправильные типы данных в некоторых полях\n",
    "    - Аномальные значения в полях количество комнат, высота потолков и количество балконов\n",
    "    - Неявные дубликаты в названиях населенных пунктов\n",
    "3. После устранения указанных проблем, были изучены и отмечены следующие особенности в данных:\n",
    "    - Средняя жилая площадь сильно коррелирует с количеством комнат, чего нельзя сказать про общую площадь и площадь кухни\n",
    "    - Половину объявлений на рынке составляют 1 и 2-хкомнатные квартиры\n",
    "    - В распределении высоты потолков набляюдаем несколько вершин. Эти пики сооответсвуют стандартам потолков 2.5, 2.6, 2.7, 2.8, 3 и 3.2 метра\n",
    "    - Количество этажей в доме. Наблюдается несколько пиков, соответствующих типовым домам, это 5-ти, 9-ти, 16-ти и 25-ти этажки.\n",
    "    - Объявления в выходные публикуются реже чем в будни. Думаю связано с тем, что продажу квартиры чаще доверяют риелторам, чем собственнники занимаются самостоятельной продажей. Соответственно, риелторы публикуют объявления в рабочее время\n",
    "    - Заметны просадки в январе, мае и декабре. Это месяца с праздничными днями. Больше всего объявлений приходится на весну\n",
    "    - В среднем квартиры продаются за 180 дней, однако медианой является значение в 95 дней. Быстрыми можно назвать квартиры которые были проданы в первом квартиле (до 45 дней), а небычайно долгими в 3-м (более 232 дней)\n",
    "    - Цены, в начале недели всегда выше, чем к концу недели.\n",
    "    - Цены, в мае-июне ниже, чем в остальные месяцы.\n",
    "    - Начиная с 2014 по 2017 год цены на квартиры снижались, после 2017 года видна тенденция на увеличение стоимости\n",
    "    - Самая дорогая стоимость жилья за квадратный метр отмечается в Санкт-Петербурге и составляет 114849 р.\n",
    "    - Самое доступное жилье находится в Выборге 58141 р. за кв. м. Что вдвое ниже чем в Санкт-Петербурге\n",
    "    - Стоимость объектов зависит от расстояния до центра Санкт-Петербурга при удаленности до 5 км стоимость стремительно снижается. После 5 км это зависимость не так ощутима\n",
    "4. Рекомендации:\n",
    "    - Проанализировать данные по площади кухни. Постараться понять род зубчатой гистограммы\n",
    "    - Более подробно ознакомится с причиной появления высоких цен на квартиры в районе 7-го и 27-го километра от центра Санкт-Петербурга"
   ]
  },
  {
   "cell_type": "markdown",
   "id": "1e147c58",
   "metadata": {},
   "source": [
    "<div class=\"alert alert-warning\">\n",
    "<h2> Комментарий ревьюера V1<a class=\"tocSkip\"> </h2>\n",
    "\n",
    "<b>Некоторые замечания и рекомендации💡:</b> В итоговом выводе нужно достаточно подробно написать основные пункты выявленных зависимостей. Стоит доработать вывод с учетом моих комментариев по ходу работы. В итоговом выводе также старайся оставлять рекомендации для последующих шагов. Например рекомендации, что можно обработать и проанализировать другие признаки, на что твоим коллегам стоить обратить внимание."
   ]
  },
  {
   "cell_type": "markdown",
   "id": "f569d6b2",
   "metadata": {},
   "source": [
    "<div style=\"border:solid Chocolate 2px; padding: 40px\">\n",
    "\n",
    "**Общий вывод по проекту**\n",
    "\n",
    "Спасибо за твой проект! Я уверен, что ты приложил все усилия, чтобы сделать этот проект. Это видно по твоей работе, а сформулированные выводы отражают, насколько успешно ты осваиваешь материал.\n",
    "\n",
    "**Отмечу отдельные положительные моменты проекта🙂**:\n",
    "\n",
    "* Ты полностью следовал всем этапам выполнения задания и справился почти со всем. Хорошая работа!\n",
    "* Отдельно выделю некоторые выводы, которые ты смог сформулировать абсолютно точно!\n",
    "* У тебя опрятный и читаемый код. Возможно это звучит банально, однако при работе с чужим кодом это крайне важно)\n",
    "\n",
    "\n",
    "**На что стоит обратить внимание🤓**:\n",
    "\n",
    "* Важно доработать итоговый вывод.\n",
    "* Нужно корректно обработать все признаки.\n",
    "* Рассмотри коэффициенты корреляций между ценой и другими параметрами.\n",
    "* Остальные рекомендации ты найдешь в моих комментариях!\n",
    "\n",
    "\n",
    "**Желаю удачи и жду твой проект на повторное ревью!**😉"
   ]
  }
 ],
 "metadata": {
  "ExecuteTimeLog": [
   {
    "duration": 658,
    "start_time": "2023-07-16T14:17:36.640Z"
   },
   {
    "duration": 238,
    "start_time": "2023-07-16T14:17:37.300Z"
   },
   {
    "duration": 34,
    "start_time": "2023-07-16T14:17:37.540Z"
   },
   {
    "duration": 16,
    "start_time": "2023-07-16T14:17:37.576Z"
   },
   {
    "duration": 1860,
    "start_time": "2023-07-16T14:17:37.595Z"
   },
   {
    "duration": 11,
    "start_time": "2023-07-16T14:17:39.457Z"
   },
   {
    "duration": 43,
    "start_time": "2023-07-16T14:17:39.470Z"
   },
   {
    "duration": 52,
    "start_time": "2023-07-16T14:17:39.514Z"
   },
   {
    "duration": 11,
    "start_time": "2023-07-16T14:17:39.568Z"
   },
   {
    "duration": 82,
    "start_time": "2023-07-16T14:17:39.581Z"
   },
   {
    "duration": 27,
    "start_time": "2023-07-16T14:17:39.665Z"
   },
   {
    "duration": 28,
    "start_time": "2023-07-16T14:17:39.693Z"
   },
   {
    "duration": 43,
    "start_time": "2023-07-16T14:17:39.722Z"
   },
   {
    "duration": 6,
    "start_time": "2023-07-16T14:17:39.769Z"
   },
   {
    "duration": 10,
    "start_time": "2023-07-16T14:17:39.776Z"
   },
   {
    "duration": 9,
    "start_time": "2023-07-16T14:17:39.787Z"
   },
   {
    "duration": 17,
    "start_time": "2023-07-16T14:17:39.797Z"
   },
   {
    "duration": 34,
    "start_time": "2023-07-16T14:17:39.816Z"
   },
   {
    "duration": 13,
    "start_time": "2023-07-16T14:17:39.852Z"
   },
   {
    "duration": 368,
    "start_time": "2023-07-16T14:17:39.866Z"
   },
   {
    "duration": 5,
    "start_time": "2023-07-16T14:17:40.236Z"
   },
   {
    "duration": 234,
    "start_time": "2023-07-16T14:17:40.242Z"
   },
   {
    "duration": 196,
    "start_time": "2023-07-16T14:17:40.478Z"
   },
   {
    "duration": 8,
    "start_time": "2023-07-16T14:17:40.675Z"
   },
   {
    "duration": 351,
    "start_time": "2023-07-16T14:17:40.685Z"
   },
   {
    "duration": 1393,
    "start_time": "2023-07-16T14:17:41.038Z"
   },
   {
    "duration": 24,
    "start_time": "2023-07-16T14:17:42.433Z"
   },
   {
    "duration": 238,
    "start_time": "2023-07-16T14:17:42.459Z"
   },
   {
    "duration": 245,
    "start_time": "2023-07-16T14:17:42.699Z"
   },
   {
    "duration": 9,
    "start_time": "2023-07-16T14:17:42.946Z"
   },
   {
    "duration": 176,
    "start_time": "2023-07-16T14:17:42.956Z"
   },
   {
    "duration": 8,
    "start_time": "2023-07-16T14:17:43.135Z"
   },
   {
    "duration": 290,
    "start_time": "2023-07-16T14:17:43.144Z"
   },
   {
    "duration": 248,
    "start_time": "2023-07-16T14:17:43.435Z"
   },
   {
    "duration": 2645,
    "start_time": "2023-07-16T14:17:43.685Z"
   },
   {
    "duration": 351,
    "start_time": "2023-07-16T14:17:46.332Z"
   },
   {
    "duration": 219,
    "start_time": "2023-07-16T14:17:46.684Z"
   },
   {
    "duration": 224,
    "start_time": "2023-07-16T14:17:46.904Z"
   },
   {
    "duration": 9,
    "start_time": "2023-07-16T14:17:47.130Z"
   },
   {
    "duration": 219,
    "start_time": "2023-07-16T14:17:47.141Z"
   },
   {
    "duration": 8,
    "start_time": "2023-07-16T14:17:47.364Z"
   },
   {
    "duration": 216,
    "start_time": "2023-07-16T14:17:47.373Z"
   },
   {
    "duration": 8,
    "start_time": "2023-07-16T14:17:47.590Z"
   },
   {
    "duration": 133,
    "start_time": "2023-07-16T14:17:47.599Z"
   },
   {
    "duration": 129,
    "start_time": "2023-07-16T14:17:47.734Z"
   },
   {
    "duration": 230,
    "start_time": "2023-07-16T14:17:47.865Z"
   },
   {
    "duration": 10,
    "start_time": "2023-07-16T14:17:48.097Z"
   },
   {
    "duration": 561,
    "start_time": "2023-07-16T14:17:48.109Z"
   },
   {
    "duration": 144,
    "start_time": "2023-07-16T14:17:48.671Z"
   },
   {
    "duration": 26,
    "start_time": "2023-07-16T14:17:48.816Z"
   },
   {
    "duration": 186,
    "start_time": "2023-07-16T14:17:48.844Z"
   },
   {
    "duration": 147,
    "start_time": "2023-07-16T14:17:49.035Z"
   },
   {
    "duration": 157,
    "start_time": "2023-07-16T14:17:49.183Z"
   },
   {
    "duration": 26,
    "start_time": "2023-07-16T14:17:49.342Z"
   },
   {
    "duration": 186,
    "start_time": "2023-07-16T14:17:49.370Z"
   },
   {
    "duration": 156,
    "start_time": "2023-07-16T14:17:49.558Z"
   },
   {
    "duration": 860,
    "start_time": "2023-07-16T17:42:01.300Z"
   },
   {
    "duration": 247,
    "start_time": "2023-07-16T17:42:02.164Z"
   },
   {
    "duration": 54,
    "start_time": "2023-07-16T17:42:02.416Z"
   },
   {
    "duration": 23,
    "start_time": "2023-07-16T17:42:02.473Z"
   },
   {
    "duration": 2149,
    "start_time": "2023-07-16T17:42:02.498Z"
   },
   {
    "duration": 15,
    "start_time": "2023-07-16T17:42:04.649Z"
   },
   {
    "duration": 10,
    "start_time": "2023-07-16T17:42:04.666Z"
   },
   {
    "duration": 17,
    "start_time": "2023-07-16T17:42:04.678Z"
   },
   {
    "duration": 6,
    "start_time": "2023-07-16T17:42:04.697Z"
   },
   {
    "duration": 88,
    "start_time": "2023-07-16T17:42:04.705Z"
   },
   {
    "duration": 47,
    "start_time": "2023-07-16T17:42:04.795Z"
   },
   {
    "duration": 43,
    "start_time": "2023-07-16T17:42:04.852Z"
   },
   {
    "duration": 21,
    "start_time": "2023-07-16T17:42:04.900Z"
   },
   {
    "duration": 32,
    "start_time": "2023-07-16T17:42:04.923Z"
   },
   {
    "duration": 6,
    "start_time": "2023-07-16T17:42:04.957Z"
   },
   {
    "duration": 12,
    "start_time": "2023-07-16T17:42:04.965Z"
   },
   {
    "duration": 24,
    "start_time": "2023-07-16T17:42:04.979Z"
   },
   {
    "duration": 9,
    "start_time": "2023-07-16T17:42:05.005Z"
   },
   {
    "duration": 9,
    "start_time": "2023-07-16T17:42:05.015Z"
   },
   {
    "duration": 377,
    "start_time": "2023-07-16T17:42:05.026Z"
   },
   {
    "duration": 8,
    "start_time": "2023-07-16T17:42:05.405Z"
   },
   {
    "duration": 266,
    "start_time": "2023-07-16T17:42:05.415Z"
   },
   {
    "duration": 227,
    "start_time": "2023-07-16T17:42:05.683Z"
   },
   {
    "duration": 9,
    "start_time": "2023-07-16T17:42:05.912Z"
   },
   {
    "duration": 392,
    "start_time": "2023-07-16T17:42:05.923Z"
   },
   {
    "duration": 1723,
    "start_time": "2023-07-16T17:42:06.317Z"
   },
   {
    "duration": 43,
    "start_time": "2023-07-16T17:42:08.042Z"
   },
   {
    "duration": 365,
    "start_time": "2023-07-16T17:42:08.088Z"
   },
   {
    "duration": 340,
    "start_time": "2023-07-16T17:42:08.456Z"
   },
   {
    "duration": 11,
    "start_time": "2023-07-16T17:42:08.798Z"
   },
   {
    "duration": 206,
    "start_time": "2023-07-16T17:42:08.811Z"
   },
   {
    "duration": 12,
    "start_time": "2023-07-16T17:42:09.019Z"
   },
   {
    "duration": 357,
    "start_time": "2023-07-16T17:42:09.033Z"
   },
   {
    "duration": 281,
    "start_time": "2023-07-16T17:42:09.392Z"
   },
   {
    "duration": 3766,
    "start_time": "2023-07-16T17:42:09.675Z"
   },
   {
    "duration": 495,
    "start_time": "2023-07-16T17:42:13.443Z"
   },
   {
    "duration": 303,
    "start_time": "2023-07-16T17:42:13.940Z"
   },
   {
    "duration": 345,
    "start_time": "2023-07-16T17:42:14.246Z"
   },
   {
    "duration": 14,
    "start_time": "2023-07-16T17:42:14.593Z"
   },
   {
    "duration": 301,
    "start_time": "2023-07-16T17:42:14.613Z"
   },
   {
    "duration": 11,
    "start_time": "2023-07-16T17:42:14.917Z"
   },
   {
    "duration": 310,
    "start_time": "2023-07-16T17:42:14.930Z"
   },
   {
    "duration": 19,
    "start_time": "2023-07-16T17:42:15.242Z"
   },
   {
    "duration": 241,
    "start_time": "2023-07-16T17:42:15.263Z"
   },
   {
    "duration": 265,
    "start_time": "2023-07-16T17:42:15.506Z"
   },
   {
    "duration": 470,
    "start_time": "2023-07-16T17:42:15.774Z"
   },
   {
    "duration": 16,
    "start_time": "2023-07-16T17:42:16.248Z"
   },
   {
    "duration": 830,
    "start_time": "2023-07-16T17:42:16.266Z"
   },
   {
    "duration": 250,
    "start_time": "2023-07-16T17:42:17.097Z"
   },
   {
    "duration": 21,
    "start_time": "2023-07-16T17:42:17.349Z"
   },
   {
    "duration": 254,
    "start_time": "2023-07-16T17:42:17.372Z"
   },
   {
    "duration": 242,
    "start_time": "2023-07-16T17:42:17.628Z"
   },
   {
    "duration": 264,
    "start_time": "2023-07-16T17:42:17.873Z"
   },
   {
    "duration": 60,
    "start_time": "2023-07-16T17:42:18.140Z"
   },
   {
    "duration": 468,
    "start_time": "2023-07-16T17:42:18.203Z"
   },
   {
    "duration": 296,
    "start_time": "2023-07-16T17:42:18.674Z"
   },
   {
    "duration": 48,
    "start_time": "2023-07-16T17:48:12.207Z"
   }
  ],
  "kernelspec": {
   "display_name": "Python 3",
   "language": "python",
   "name": "python3"
  },
  "language_info": {
   "codemirror_mode": {
    "name": "ipython",
    "version": 3
   },
   "file_extension": ".py",
   "mimetype": "text/x-python",
   "name": "python",
   "nbconvert_exporter": "python",
   "pygments_lexer": "ipython3",
   "version": "3.8.8"
  },
  "toc": {
   "base_numbering": 1,
   "nav_menu": {},
   "number_sections": true,
   "sideBar": true,
   "skip_h1_title": true,
   "title_cell": "Table of Contents",
   "title_sidebar": "Contents",
   "toc_cell": false,
   "toc_position": {},
   "toc_section_display": true,
   "toc_window_display": false
  },
  "varInspector": {
   "cols": {
    "lenName": 16,
    "lenType": 16,
    "lenVar": 40
   },
   "kernels_config": {
    "python": {
     "delete_cmd_postfix": "",
     "delete_cmd_prefix": "del ",
     "library": "var_list.py",
     "varRefreshCmd": "print(var_dic_list())"
    },
    "r": {
     "delete_cmd_postfix": ") ",
     "delete_cmd_prefix": "rm(",
     "library": "var_list.r",
     "varRefreshCmd": "cat(var_dic_list()) "
    }
   },
   "types_to_exclude": [
    "module",
    "function",
    "builtin_function_or_method",
    "instance",
    "_Feature"
   ],
   "window_display": false
  }
 },
 "nbformat": 4,
 "nbformat_minor": 5
}
