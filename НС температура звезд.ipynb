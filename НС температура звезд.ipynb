{
 "cells": [
  {
   "cell_type": "markdown",
   "id": "7706e31e",
   "metadata": {},
   "source": [
    "  <div class=\"alert alert-info\">\n",
    "  Привет, Евгений! Меня зовут Светлана Чих и я буду проверять твой проект. Моя основная цель — не указать на совершенные тобою ошибки, а поделиться своим опытом и помочь тебе. Предлагаю общаться на «ты». Но если это не удобно - дай знать, и мы перейдем на «вы».\n",
    "\n",
    "  <div class=\"alert alert-success\">\n",
    "  <b>👍 Успех:</b> Зелёным цветом отмечены удачные и элегантные решения, на которые можно опираться в будущих проектах.\n",
    "  </div>\n",
    "  <div class=\"alert alert-warning\">\n",
    "  <b>🤔 Рекомендация:</b> Жёлтым цветом выделено то, что в следующий раз можно сделать по-другому. Ты можешь учесть эти комментарии при выполнении будущих заданий или доработать проект сейчас (однако это не обязательно).\n",
    "  </div>\n",
    "  <div class=\"alert alert-danger\">\n",
    "  <b>😔 Необходимо исправить:</b> Красным цветом выделены комментарии, без исправления которых, я не смогу принять проект :(\n",
    "  </div>\n",
    "  <div class=\"alert alert-info\">\n",
    "  <b>👂 Совет:</b> Какие-то дополнительные материалы\n",
    "  </div>\n",
    "  Давай работать над проектом в диалоге: если ты что-то меняешь в проекте по моим рекомендациям — пиши об этом.\n",
    "  Мне будет легче отследить изменения, если ты выделишь свои комментарии:\n",
    "  <div class=\"alert alert-info\"> <b>🎓 Комментарий студента:</b> Например, вот так.</div>\n",
    "  Пожалуйста, не перемещай, не изменяй и не удаляй мои комментарии. Всё это поможет выполнить повторную проверку твоего проекта быстрее.\n",
    "   </div>"
   ]
  },
  {
   "cell_type": "markdown",
   "id": "73956cd3",
   "metadata": {},
   "source": [
    "# Проект: Прогнозирование температуры звезды"
   ]
  },
  {
   "cell_type": "markdown",
   "id": "3d272ea2",
   "metadata": {},
   "source": [
    "## Описание проекта"
   ]
  },
  {
   "cell_type": "markdown",
   "id": "f2317837",
   "metadata": {},
   "source": [
    "Задача от обсерватории «Небо на ладони» с помощью нейросети определять температуру на поверхности обнаруженных звёзд. Обычно для расчёта температуры учёные пользуются следующими методами:\n",
    "\n",
    "\n",
    "- Закон смещения Вина.\n",
    "- Закон Стефана-Больцмана.\n",
    "- Спектральный анализ.\n",
    "\n",
    "\n",
    "Каждый из них имеет плюсы и минусы. Обсерватория хочет внедрить технологии машинного обучения для предсказания температуры звёзд, надеясь, что этот метод будет наиболее точным и удобным.\n",
    "В базе обсерватории есть характеристики уже изученных 240 звёзд."
   ]
  },
  {
   "cell_type": "markdown",
   "id": "02e7217f",
   "metadata": {},
   "source": [
    "## Описание данных"
   ]
  },
  {
   "cell_type": "markdown",
   "id": "a7d87019",
   "metadata": {},
   "source": [
    "- `Temperature (K)` - Абсолютная температура T(K) — температура на поверхности звезды в Кельвинах.\n",
    "- `Luminosity(L/Lo)\t` - Относительная светимость L/Lo — светимость звезды относительно Солнца.\n",
    "- `Radius(R/Ro)` - Относительный радиус R/Ro — радиус звезды относительно радиуса Солнца.\n",
    "- `Absolute magnitude(Mv)` - Абсолютная звёздная величина Mv — физическая величина, характеризующая блеск звезды.\n",
    "- `Star type` - Тип звезды.\n",
    "    - 0 - Коричневый карлик\t0\n",
    "    - 1 - Красный карлик\n",
    "    - 2 - Белый карлик\n",
    "    - 3 - Звёзды главной последовательности\n",
    "    - 4 - Сверхгигант\n",
    "    - 5 - Гипергигант\n",
    "- `Star color` - Звёздный цвет (white, red, blue, yellow, yellow-orange и др.) — цвет звезды, который определяют на основе спектрального анализа."
   ]
  },
  {
   "cell_type": "code",
   "execution_count": 1,
   "id": "25c38b6f",
   "metadata": {},
   "outputs": [
    {
     "name": "stdout",
     "output_type": "stream",
     "text": [
      "Requirement already satisfied: optuna in /opt/conda/lib/python3.9/site-packages (4.0.0)\n",
      "Requirement already satisfied: PyYAML in /opt/conda/lib/python3.9/site-packages (from optuna) (6.0)\n",
      "Requirement already satisfied: tqdm in /opt/conda/lib/python3.9/site-packages (from optuna) (4.61.2)\n",
      "Requirement already satisfied: colorlog in /opt/conda/lib/python3.9/site-packages (from optuna) (6.8.2)\n",
      "Requirement already satisfied: sqlalchemy>=1.3.0 in /opt/conda/lib/python3.9/site-packages (from optuna) (1.4.20)\n",
      "Requirement already satisfied: packaging>=20.0 in /opt/conda/lib/python3.9/site-packages (from optuna) (21.3)\n",
      "Requirement already satisfied: numpy in /opt/conda/lib/python3.9/site-packages (from optuna) (1.21.1)\n",
      "Requirement already satisfied: alembic>=1.5.0 in /opt/conda/lib/python3.9/site-packages (from optuna) (1.6.5)\n",
      "Requirement already satisfied: python-editor>=0.3 in /opt/conda/lib/python3.9/site-packages (from alembic>=1.5.0->optuna) (1.0.4)\n",
      "Requirement already satisfied: Mako in /opt/conda/lib/python3.9/site-packages (from alembic>=1.5.0->optuna) (1.1.4)\n",
      "Requirement already satisfied: python-dateutil in /opt/conda/lib/python3.9/site-packages (from alembic>=1.5.0->optuna) (2.8.1)\n",
      "Requirement already satisfied: pyparsing!=3.0.5,>=2.0.2 in /opt/conda/lib/python3.9/site-packages (from packaging>=20.0->optuna) (2.4.7)\n",
      "Requirement already satisfied: greenlet!=0.4.17 in /opt/conda/lib/python3.9/site-packages (from sqlalchemy>=1.3.0->optuna) (1.1.0)\n",
      "Requirement already satisfied: MarkupSafe>=0.9.2 in /opt/conda/lib/python3.9/site-packages (from Mako->alembic>=1.5.0->optuna) (2.1.1)\n",
      "Requirement already satisfied: six>=1.5 in /opt/conda/lib/python3.9/site-packages (from python-dateutil->alembic>=1.5.0->optuna) (1.16.0)\n"
     ]
    }
   ],
   "source": [
    "!pip install optuna"
   ]
  },
  {
   "cell_type": "code",
   "execution_count": 2,
   "id": "b2d53485",
   "metadata": {},
   "outputs": [],
   "source": [
    "import pandas as pd\n",
    "import matplotlib.pyplot as plt\n",
    "import seaborn as sns\n",
    "import torch\n",
    "import torch.nn as nn\n",
    "import optuna\n",
    "from optuna.samplers import TPESampler\n",
    "import copy\n",
    "import random\n",
    "import os\n",
    "from sklearn.model_selection import train_test_split\n",
    "from sklearn.preprocessing import StandardScaler, OneHotEncoder, RobustScaler\n",
    "import numpy as np"
   ]
  },
  {
   "cell_type": "code",
   "execution_count": 3,
   "id": "4847bca1",
   "metadata": {},
   "outputs": [],
   "source": [
    "def set_seed(seed: int = 42) -> None:\n",
    "    np.random.seed(seed)\n",
    "    random.seed(seed)\n",
    "    torch.manual_seed(seed)\n",
    "    torch.cuda.manual_seed(seed)\n",
    "    # When running on the CuDNN backend, two further options must be set\n",
    "    torch.backends.cudnn.deterministic = True\n",
    "    torch.backends.cudnn.benchmark = False\n",
    "    # Set a fixed value for the hash seed\n",
    "    os.environ[\"PYTHONHASHSEED\"] = str(seed)\n",
    "    print(f\"Random seed set as {seed}\")"
   ]
  },
  {
   "cell_type": "code",
   "execution_count": 4,
   "id": "a94f0b20",
   "metadata": {},
   "outputs": [
    {
     "name": "stdout",
     "output_type": "stream",
     "text": [
      "Random seed set as 25\n"
     ]
    }
   ],
   "source": [
    "set_seed(25)\n",
    "sampler = TPESampler(seed=25)"
   ]
  },
  {
   "cell_type": "markdown",
   "id": "7550916c",
   "metadata": {},
   "source": [
    "<div class=\"alert alert-success\">\n",
    "<b>👍 Успех:</b> Импортированы нужные библиотеки!\n",
    "</div>"
   ]
  },
  {
   "cell_type": "markdown",
   "id": "corresponding-armstrong",
   "metadata": {
    "ExecuteTime": {
     "end_time": "2022-05-05T04:58:05.692448Z",
     "start_time": "2022-05-05T04:58:05.688565Z"
    }
   },
   "source": [
    "## Загрузка данных"
   ]
  },
  {
   "cell_type": "code",
   "execution_count": 5,
   "id": "spectacular-folder",
   "metadata": {},
   "outputs": [],
   "source": [
    "df = pd.read_csv('/datasets/6_class.csv', index_col='Unnamed: 0')"
   ]
  },
  {
   "cell_type": "code",
   "execution_count": 6,
   "id": "d143cbbc",
   "metadata": {},
   "outputs": [],
   "source": [
    "def primary_information(df):\n",
    "    print(f\"Размерность: {df.shape}\")\n",
    "    display(df.info())\n",
    "    display(df.head())"
   ]
  },
  {
   "cell_type": "code",
   "execution_count": 7,
   "id": "ac93e51a",
   "metadata": {},
   "outputs": [
    {
     "name": "stdout",
     "output_type": "stream",
     "text": [
      "Размерность: (240, 6)\n",
      "<class 'pandas.core.frame.DataFrame'>\n",
      "Int64Index: 240 entries, 0 to 239\n",
      "Data columns (total 6 columns):\n",
      " #   Column                  Non-Null Count  Dtype  \n",
      "---  ------                  --------------  -----  \n",
      " 0   Temperature (K)         240 non-null    int64  \n",
      " 1   Luminosity(L/Lo)        240 non-null    float64\n",
      " 2   Radius(R/Ro)            240 non-null    float64\n",
      " 3   Absolute magnitude(Mv)  240 non-null    float64\n",
      " 4   Star type               240 non-null    int64  \n",
      " 5   Star color              240 non-null    object \n",
      "dtypes: float64(3), int64(2), object(1)\n",
      "memory usage: 13.1+ KB\n"
     ]
    },
    {
     "data": {
      "text/plain": [
       "None"
      ]
     },
     "metadata": {},
     "output_type": "display_data"
    },
    {
     "data": {
      "text/html": [
       "<div>\n",
       "<style scoped>\n",
       "    .dataframe tbody tr th:only-of-type {\n",
       "        vertical-align: middle;\n",
       "    }\n",
       "\n",
       "    .dataframe tbody tr th {\n",
       "        vertical-align: top;\n",
       "    }\n",
       "\n",
       "    .dataframe thead th {\n",
       "        text-align: right;\n",
       "    }\n",
       "</style>\n",
       "<table border=\"1\" class=\"dataframe\">\n",
       "  <thead>\n",
       "    <tr style=\"text-align: right;\">\n",
       "      <th></th>\n",
       "      <th>Temperature (K)</th>\n",
       "      <th>Luminosity(L/Lo)</th>\n",
       "      <th>Radius(R/Ro)</th>\n",
       "      <th>Absolute magnitude(Mv)</th>\n",
       "      <th>Star type</th>\n",
       "      <th>Star color</th>\n",
       "    </tr>\n",
       "  </thead>\n",
       "  <tbody>\n",
       "    <tr>\n",
       "      <th>0</th>\n",
       "      <td>3068</td>\n",
       "      <td>0.002400</td>\n",
       "      <td>0.1700</td>\n",
       "      <td>16.12</td>\n",
       "      <td>0</td>\n",
       "      <td>Red</td>\n",
       "    </tr>\n",
       "    <tr>\n",
       "      <th>1</th>\n",
       "      <td>3042</td>\n",
       "      <td>0.000500</td>\n",
       "      <td>0.1542</td>\n",
       "      <td>16.60</td>\n",
       "      <td>0</td>\n",
       "      <td>Red</td>\n",
       "    </tr>\n",
       "    <tr>\n",
       "      <th>2</th>\n",
       "      <td>2600</td>\n",
       "      <td>0.000300</td>\n",
       "      <td>0.1020</td>\n",
       "      <td>18.70</td>\n",
       "      <td>0</td>\n",
       "      <td>Red</td>\n",
       "    </tr>\n",
       "    <tr>\n",
       "      <th>3</th>\n",
       "      <td>2800</td>\n",
       "      <td>0.000200</td>\n",
       "      <td>0.1600</td>\n",
       "      <td>16.65</td>\n",
       "      <td>0</td>\n",
       "      <td>Red</td>\n",
       "    </tr>\n",
       "    <tr>\n",
       "      <th>4</th>\n",
       "      <td>1939</td>\n",
       "      <td>0.000138</td>\n",
       "      <td>0.1030</td>\n",
       "      <td>20.06</td>\n",
       "      <td>0</td>\n",
       "      <td>Red</td>\n",
       "    </tr>\n",
       "  </tbody>\n",
       "</table>\n",
       "</div>"
      ],
      "text/plain": [
       "   Temperature (K)  Luminosity(L/Lo)  Radius(R/Ro)  Absolute magnitude(Mv)  \\\n",
       "0             3068          0.002400        0.1700                   16.12   \n",
       "1             3042          0.000500        0.1542                   16.60   \n",
       "2             2600          0.000300        0.1020                   18.70   \n",
       "3             2800          0.000200        0.1600                   16.65   \n",
       "4             1939          0.000138        0.1030                   20.06   \n",
       "\n",
       "   Star type Star color  \n",
       "0          0        Red  \n",
       "1          0        Red  \n",
       "2          0        Red  \n",
       "3          0        Red  \n",
       "4          0        Red  "
      ]
     },
     "metadata": {},
     "output_type": "display_data"
    }
   ],
   "source": [
    "primary_information(df)"
   ]
  },
  {
   "cell_type": "code",
   "execution_count": 8,
   "id": "36897794",
   "metadata": {},
   "outputs": [
    {
     "data": {
      "text/plain": [
       "Temperature (K)           0\n",
       "Luminosity(L/Lo)          0\n",
       "Radius(R/Ro)              0\n",
       "Absolute magnitude(Mv)    0\n",
       "Star type                 0\n",
       "Star color                0\n",
       "dtype: int64"
      ]
     },
     "execution_count": 8,
     "metadata": {},
     "output_type": "execute_result"
    }
   ],
   "source": [
    "df.isna().sum()"
   ]
  },
  {
   "cell_type": "code",
   "execution_count": 9,
   "id": "247f6727",
   "metadata": {},
   "outputs": [
    {
     "data": {
      "text/html": [
       "<div>\n",
       "<style scoped>\n",
       "    .dataframe tbody tr th:only-of-type {\n",
       "        vertical-align: middle;\n",
       "    }\n",
       "\n",
       "    .dataframe tbody tr th {\n",
       "        vertical-align: top;\n",
       "    }\n",
       "\n",
       "    .dataframe thead th {\n",
       "        text-align: right;\n",
       "    }\n",
       "</style>\n",
       "<table border=\"1\" class=\"dataframe\">\n",
       "  <thead>\n",
       "    <tr style=\"text-align: right;\">\n",
       "      <th></th>\n",
       "      <th>Temperature (K)</th>\n",
       "      <th>Luminosity(L/Lo)</th>\n",
       "      <th>Radius(R/Ro)</th>\n",
       "      <th>Absolute magnitude(Mv)</th>\n",
       "      <th>Star type</th>\n",
       "      <th>Star color</th>\n",
       "    </tr>\n",
       "  </thead>\n",
       "  <tbody>\n",
       "  </tbody>\n",
       "</table>\n",
       "</div>"
      ],
      "text/plain": [
       "Empty DataFrame\n",
       "Columns: [Temperature (K), Luminosity(L/Lo), Radius(R/Ro), Absolute magnitude(Mv), Star type, Star color]\n",
       "Index: []"
      ]
     },
     "execution_count": 9,
     "metadata": {},
     "output_type": "execute_result"
    }
   ],
   "source": [
    "df[df.duplicated()]"
   ]
  },
  {
   "cell_type": "markdown",
   "id": "2c96cc30",
   "metadata": {},
   "source": [
    "### Промежуточный вывод\n",
    "\n",
    "Был успешно выгружен датасет, состоящий из 240 записей. Пропуски и полные дубликаты отсутствуют."
   ]
  },
  {
   "cell_type": "markdown",
   "id": "7a8bb05a",
   "metadata": {},
   "source": [
    "<div class=\"alert alert-success\">\n",
    "<b>👍 Успех:</b> Датасет загружен и просмотрен!\n",
    "</div>"
   ]
  },
  {
   "cell_type": "markdown",
   "id": "22e8e772",
   "metadata": {},
   "source": [
    "## Предобработка данных"
   ]
  },
  {
   "cell_type": "code",
   "execution_count": 10,
   "id": "de2a45a3",
   "metadata": {},
   "outputs": [
    {
     "data": {
      "text/plain": [
       "Red                   112\n",
       "Blue                   55\n",
       "Blue-white             26\n",
       "Blue White             10\n",
       "yellow-white            8\n",
       "White                   7\n",
       "white                   3\n",
       "Blue white              3\n",
       "Yellowish White         3\n",
       "yellowish               2\n",
       "Whitish                 2\n",
       "Orange                  2\n",
       "Orange-Red              1\n",
       "Yellowish               1\n",
       "Blue white              1\n",
       "Blue                    1\n",
       "White-Yellow            1\n",
       "Blue-White              1\n",
       "Pale yellow orange      1\n",
       "Name: Star color, dtype: int64"
      ]
     },
     "execution_count": 10,
     "metadata": {},
     "output_type": "execute_result"
    }
   ],
   "source": [
    "df['Star color'].value_counts()"
   ]
  },
  {
   "cell_type": "markdown",
   "id": "b9237983",
   "metadata": {},
   "source": [
    "Поле содержит 19 уникальных значений, некоторые из которых являются дубликатами или по смыслу, или в связи с разным орфографическим написанием. Приведем значения к единому регистру и устраним неявные дубликаты"
   ]
  },
  {
   "cell_type": "code",
   "execution_count": 11,
   "id": "6bf5a309",
   "metadata": {},
   "outputs": [],
   "source": [
    "df['Star color'] = df['Star color'].str.lower().str.replace('-', ' ').str.strip()"
   ]
  },
  {
   "cell_type": "code",
   "execution_count": 12,
   "id": "4e9b3339",
   "metadata": {},
   "outputs": [],
   "source": [
    "df.loc[df['Star color'] == 'white yellow', 'Star color'] = 'yellow white'\n",
    "df.loc[df['Star color'] == 'yellowish white', 'Star color'] = 'yellow white'\n",
    "df.loc[df['Star color'] == 'whitish', 'Star color'] = 'white'\n",
    "df.loc[df['Star color'] == 'yellowish', 'Star color'] = 'other'\n",
    "df.loc[df['Star color'] == 'pale yellow orange', 'Star color'] = 'other'\n",
    "df.loc[df['Star color'] == 'orange', 'Star color'] = 'other'\n",
    "df.loc[df['Star color'] == 'orange red', 'Star color'] = 'other'"
   ]
  },
  {
   "cell_type": "code",
   "execution_count": 13,
   "id": "5107b9d5",
   "metadata": {},
   "outputs": [
    {
     "data": {
      "text/plain": [
       "red             112\n",
       "blue             56\n",
       "blue white       41\n",
       "yellow white     12\n",
       "white            12\n",
       "other             7\n",
       "Name: Star color, dtype: int64"
      ]
     },
     "execution_count": 13,
     "metadata": {},
     "output_type": "execute_result"
    }
   ],
   "source": [
    "df['Star color'].value_counts()"
   ]
  },
  {
   "cell_type": "markdown",
   "id": "0b0b9187",
   "metadata": {},
   "source": [
    "Удалось с ократить количество категорий с 19-ти до 6-ти."
   ]
  },
  {
   "cell_type": "markdown",
   "id": "ae70a21a",
   "metadata": {},
   "source": [
    "<div class=\"alert alert-danger\">\n",
    "<s><b>😔 Необходимо исправить:</b> По Гарвардской классификации у звезд 7 цветов \n",
    "    \n",
    "- Голубой\n",
    "- Бело-голубой\n",
    "- Белый\n",
    "- Жёлто-белый\n",
    "- Жёлтый\n",
    "- Оранжевый\n",
    "- Красный\n",
    "\n",
    "У тебя странная замена 'pale yellow orange' в 'yellowish', а затем в 'yellow white'. Цвет orange представлен всего 3 звездами, то есть их очень мало и для обучения и для тестирования. Если после изменения преобразований цветов у тебя появятся другие малочисленные цвета, то их лучше объединить в отдельную категорию other, или просто удалить</s>\n",
    "\n",
    "</div>"
   ]
  },
  {
   "cell_type": "markdown",
   "id": "d60d655b",
   "metadata": {},
   "source": [
    "  <div class=\"alert alert-info\"> <b>🎓 Комментарий студента:</b> Исправил</div>"
   ]
  },
  {
   "cell_type": "markdown",
   "id": "35691dc6",
   "metadata": {},
   "source": [
    "<div class=\"alert alert-success\">\n",
    "<b>👍 Успех:</b> Все верно!\n",
    "</div>"
   ]
  },
  {
   "cell_type": "markdown",
   "id": "simple-subdivision",
   "metadata": {},
   "source": [
    "## Анализ данных"
   ]
  },
  {
   "cell_type": "code",
   "execution_count": 14,
   "id": "5fa80c26",
   "metadata": {},
   "outputs": [],
   "source": [
    "target = ['Temperature (K)']\n",
    "num_col_names = ['Luminosity(L/Lo)', 'Radius(R/Ro)', 'Absolute magnitude(Mv)']\n",
    "cat_col_names = ['Star color', 'Star type']"
   ]
  },
  {
   "cell_type": "code",
   "execution_count": 15,
   "id": "flush-dream",
   "metadata": {},
   "outputs": [],
   "source": [
    "def draw_boxplots(df, ncols, nrows, boxplot_cols, title):\n",
    "    fig, axs = plt.subplots(ncols=ncols, nrows=nrows, figsize=(16, 8))\n",
    "    for i in range(len(boxplot_cols)):\n",
    "        sns.boxplot(data=df, y=boxplot_cols[i], ax=axs[i // ncols][i % ncols])\n",
    "        axs[i // ncols][i % ncols].set_xlabel(boxplot_cols[i])\n",
    "        axs[i // ncols][i % ncols].set_ylabel('')\n",
    "    fig.suptitle(title, fontsize=30);"
   ]
  },
  {
   "cell_type": "code",
   "execution_count": 16,
   "id": "f4106546",
   "metadata": {},
   "outputs": [],
   "source": [
    "def show_scatterplot_with_temperature(df, y, columns, cols):\n",
    "    fig, axs = plt.subplots(ncols=cols, nrows=1, figsize=(18, 4))\n",
    "    for i in range(len(columns)):\n",
    "        sns.scatterplot(data=df, x='Temperature (K)', y=y, palette=\"deep\", hue=columns[i], ax=axs[i])\n",
    "    fig.suptitle(f\"Диаграммы рассеяния для {y} и температуры\", fontsize=30)\n",
    "    plt.legend(loc='upper right')"
   ]
  },
  {
   "cell_type": "code",
   "execution_count": 17,
   "id": "2f317297",
   "metadata": {},
   "outputs": [],
   "source": [
    "def show_hist(df, columns, cols, title):\n",
    "    rows = ((len(columns) + cols - 1) // cols)\n",
    "    fig, axs = plt.subplots(ncols=cols, nrows=rows, figsize=(18, 4 * rows))\n",
    "    for i in range(len(columns)):\n",
    "        sns.histplot(x = columns[i], data = df, multiple = \"dodge\", ax=axs[i // cols][i % cols])\n",
    "    fig.suptitle(title, fontsize=30)"
   ]
  },
  {
   "cell_type": "code",
   "execution_count": 18,
   "id": "f588e86d",
   "metadata": {},
   "outputs": [
    {
     "data": {
      "image/png": "[encoded data removed]",
      "text/plain": [
       "<Figure size 1296x288 with 2 Axes>"
      ]
     },
     "metadata": {},
     "output_type": "display_data"
    }
   ],
   "source": [
    "fig, axs = plt.subplots(ncols=2, nrows=1, figsize=(18, 4))\n",
    "df['Star color'].value_counts().plot.pie(\n",
    "    ax=axs[0], \n",
    "    autopct='%1.f%%', \n",
    "    legend=False,\n",
    "    wedgeprops = {\n",
    "        \"edgecolor\" : \"white\",\n",
    "        'linewidth': 2,\n",
    "        'antialiased': True\n",
    "    }\n",
    ")\n",
    "df['Star type'].value_counts().plot.pie(\n",
    "    ax=axs[1],\n",
    "    autopct='%1.f%%',\n",
    "    legend=False,\n",
    "    wedgeprops = {\n",
    "        \"edgecolor\" : \"white\",\n",
    "        'linewidth': 2,\n",
    "        'antialiased': True\n",
    "    }\n",
    ");"
   ]
  },
  {
   "cell_type": "markdown",
   "id": "1084cfd9",
   "metadata": {},
   "source": [
    "В датасете преобладают звезды с красным свечением, их количество сотсавляет 47% от всего датасета. Тип звезд же распределен равномерно."
   ]
  },
  {
   "cell_type": "code",
   "execution_count": 19,
   "id": "61618d30",
   "metadata": {},
   "outputs": [
    {
     "data": {
      "image/png": "[encoded data removed]",
      "text/plain": [
       "<Figure size 1296x288 with 2 Axes>"
      ]
     },
     "metadata": {
      "needs_background": "light"
     },
     "output_type": "display_data"
    },
    {
     "data": {
      "image/png": "[encoded data removed]",
      "text/plain": [
       "<Figure size 1296x288 with 2 Axes>"
      ]
     },
     "metadata": {
      "needs_background": "light"
     },
     "output_type": "display_data"
    },
    {
     "data": {
      "image/png": "[encoded data removed]",
      "text/plain": [
       "<Figure size 1296x288 with 2 Axes>"
      ]
     },
     "metadata": {
      "needs_background": "light"
     },
     "output_type": "display_data"
    }
   ],
   "source": [
    "for item in num_col_names:\n",
    "    show_scatterplot_with_temperature(df, item, cat_col_names, 2)"
   ]
  },
  {
   "cell_type": "markdown",
   "id": "07359b9c",
   "metadata": {},
   "source": [
    "На диаграммах рассеяния видно, что температура зависит от количественных переменных для разных типов и цветов звезд по разному. Звезды с маленькими температурами преимущественно имеют красное свечение и принадлежат к нулевому, первому и шестому типу. "
   ]
  },
  {
   "cell_type": "code",
   "execution_count": 20,
   "id": "c83d4971",
   "metadata": {},
   "outputs": [
    {
     "data": {
      "image/png": "[encoded data removed]",
      "text/plain": [
       "<Figure size 1152x576 with 4 Axes>"
      ]
     },
     "metadata": {
      "needs_background": "light"
     },
     "output_type": "display_data"
    }
   ],
   "source": [
    "boxplot_cols = [\n",
    "    'Temperature (K)', 'Luminosity(L/Lo)', 'Radius(R/Ro)', 'Absolute magnitude(Mv)'\n",
    "]\n",
    "draw_boxplots(df, 2, 2, boxplot_cols, 'Количественные переменные (Ящики с усами)')"
   ]
  },
  {
   "cell_type": "code",
   "execution_count": 21,
   "id": "3f0258d3",
   "metadata": {},
   "outputs": [
    {
     "data": {
      "image/png": "[encoded data removed]",
      "text/plain": [
       "<Figure size 1296x576 with 4 Axes>"
      ]
     },
     "metadata": {
      "needs_background": "light"
     },
     "output_type": "display_data"
    }
   ],
   "source": [
    "show_hist(\n",
    "    df, \n",
    "    num_col_names + target, \n",
    "    2,\n",
    "    f'Количественные переменные (Гистограммы)'\n",
    ")"
   ]
  },
  {
   "cell_type": "markdown",
   "id": "0873d627",
   "metadata": {},
   "source": [
    "По диаграммам можно сделать вывод, что данные делятся на две группы. Причем группа содержащая звезды с малым радиусом и низкой температурой более многочисленная. Это связано с тем, что датасет наполовину состоит из звезд с красным свечением, а звезды с этим типом свечения обладают низкими значениями температуры."
   ]
  },
  {
   "cell_type": "markdown",
   "id": "615f9317",
   "metadata": {},
   "source": [
    "<div class=\"alert alert-danger\">\n",
    "<s><b>😔 Необходимо исправить:</b> Все графики должны быть оформлены, то есть должен быть заголовок, подписи осей, при необходимости легеда. Нужно провести корреляционный анализ, построить диаграммы рассеяния, разделив даные цветам по типу звезд. Добписать выводы после каждой визуализации и общий вывод по разделу.\n",
    "    \n",
    "Исследование и подготовка самих данных это очень важный момент, которым не стоит пренебрегать, от этого часто зависит качество обучения и прогнозирования. </s>\n",
    "</div>"
   ]
  },
  {
   "cell_type": "markdown",
   "id": "60e5a388",
   "metadata": {},
   "source": [
    "  <div class=\"alert alert-info\"> <b>🎓 Комментарий студента:</b> Исправил</div>"
   ]
  },
  {
   "cell_type": "markdown",
   "id": "5eeca7c8",
   "metadata": {},
   "source": [
    "<div class=\"alert alert-success\">\n",
    "<b>👍 Успех:</b> Все верно! Отлично получилось!\n",
    "</div>"
   ]
  },
  {
   "cell_type": "markdown",
   "id": "funded-electric",
   "metadata": {},
   "source": [
    "## Построение базовой нейронной сети"
   ]
  },
  {
   "cell_type": "code",
   "execution_count": 22,
   "id": "82a08264",
   "metadata": {},
   "outputs": [],
   "source": [
    "scaler = RobustScaler()\n",
    "encoder = OneHotEncoder()"
   ]
  },
  {
   "cell_type": "code",
   "execution_count": 23,
   "id": "8deb4701",
   "metadata": {},
   "outputs": [],
   "source": [
    "X_scaled = scaler.fit_transform(df[num_col_names])\n",
    "X_scaled = pd.DataFrame(X_scaled, columns=num_col_names)\n",
    "X_ohe = encoder.fit_transform(df[cat_col_names]).toarray()\n",
    "encoder_col_names = encoder.get_feature_names() \n",
    "X_ohe = pd.DataFrame(X_ohe, columns=encoder_col_names)\n",
    "X = pd.concat([X_ohe, X_scaled], axis=1)"
   ]
  },
  {
   "cell_type": "code",
   "execution_count": 24,
   "id": "759004bf",
   "metadata": {},
   "outputs": [],
   "source": [
    "X_train, X_test, y_train, y_test = train_test_split(\n",
    "    X,\n",
    "    df['Temperature (K)'],\n",
    "    test_size=0.25,\n",
    "    shuffle=True,\n",
    "    random_state=25)\n",
    "\n",
    "X_train = torch.FloatTensor(X_train.values)\n",
    "X_test = torch.FloatTensor(X_test.values)\n",
    "y_train = torch.FloatTensor(y_train.values)\n",
    "y_test = torch.FloatTensor(y_test.values)"
   ]
  },
  {
   "cell_type": "code",
   "execution_count": 25,
   "id": "99883cc7",
   "metadata": {},
   "outputs": [],
   "source": [
    "class Net(nn.Module):\n",
    "    def __init__(self, n_in_neurons, n_hidden_neurons_1, n_hidden_neurons_2, n_hidden_neurons_3, n_out_neurons):\n",
    "        super(Net, self).__init__()\n",
    "        self.fc1 = nn.Linear(n_in_neurons, n_hidden_neurons_1)\n",
    "        self.fc2 = nn.Linear(n_hidden_neurons_1, n_hidden_neurons_2) \n",
    "        self.fc3 = nn.Linear(n_hidden_neurons_2, n_hidden_neurons_3) \n",
    "        self.fc4 = nn.Linear(n_hidden_neurons_3, n_out_neurons) \n",
    "    \n",
    "    def forward(self, x):\n",
    "        out = self.fc1(x)\n",
    "        out = torch.relu(out)\n",
    "        out = self.fc2(out)\n",
    "        out = torch.relu(out)\n",
    "        out = self.fc3(out)\n",
    "        out = torch.relu(out)\n",
    "        out = self.fc4(out)\n",
    "        out = torch.relu(out)\n",
    "        \n",
    "        return out"
   ]
  },
  {
   "cell_type": "code",
   "execution_count": 26,
   "id": "fba86335",
   "metadata": {},
   "outputs": [],
   "source": [
    "n_in_neurons = X_train.shape[1]\n",
    "n_hidden_neurons_1 = 12\n",
    "n_hidden_neurons_2 = 8\n",
    "n_hidden_neurons_3 = 4\n",
    "n_out_neurons = 1"
   ]
  },
  {
   "cell_type": "code",
   "execution_count": 27,
   "id": "bc04a770",
   "metadata": {},
   "outputs": [],
   "source": [
    "lr=0.001\n",
    "num_epochs = 10000\n",
    "per_epochs = 100"
   ]
  },
  {
   "cell_type": "code",
   "execution_count": 28,
   "id": "452e32c4",
   "metadata": {},
   "outputs": [],
   "source": [
    "def RMSELoss(yhat,y):\n",
    "    return torch.sqrt(torch.mean((yhat-y)**2))"
   ]
  },
  {
   "cell_type": "code",
   "execution_count": 29,
   "id": "17d4181c",
   "metadata": {},
   "outputs": [],
   "source": [
    "net = Net(n_in_neurons, n_hidden_neurons_1, n_hidden_neurons_2, n_hidden_neurons_3, n_out_neurons)\n",
    "optimizer = torch.optim.Adam(net.parameters(), lr=lr)\n",
    "\n",
    "loss = RMSELoss\n",
    "rmse_min = float('inf')\n",
    "best_params = None\n",
    "\n",
    "for epoch in range(num_epochs):\n",
    "    optimizer.zero_grad()\n",
    "    preds = net.forward(X_train).flatten()\n",
    "    loss_value = loss(preds, y_train)\n",
    "    loss_value.backward()\n",
    "    optimizer.step()\n",
    "\n",
    "    if epoch % per_epochs == 0 or epoch == num_epochs - 1:\n",
    "        net.eval()\n",
    "        test_preds = net.forward(X_test).flatten()\n",
    "        rmse = loss(test_preds, y_test)\n",
    "        if rmse_min > rmse:\n",
    "            rmse_min = rmse\n",
    "            best_params = copy.deepcopy(net.state_dict())"
   ]
  },
  {
   "cell_type": "code",
   "execution_count": 30,
   "id": "8c0f4610",
   "metadata": {},
   "outputs": [
    {
     "name": "stdout",
     "output_type": "stream",
     "text": [
      "Лучшая метрика: 3059\n"
     ]
    }
   ],
   "source": [
    "best_basic_rmse = rmse_min\n",
    "print(f\"Лучшая метрика: {best_basic_rmse:.0f}\")"
   ]
  },
  {
   "cell_type": "code",
   "execution_count": 31,
   "id": "cc00e95d",
   "metadata": {},
   "outputs": [
    {
     "data": {
      "text/plain": [
       "Text(0.5, 0, 'Звезда')"
      ]
     },
     "execution_count": 31,
     "metadata": {},
     "output_type": "execute_result"
    },
    {
     "data": {
      "image/png": "[encoded data removed]",
      "text/plain": [
       "<Figure size 1440x360 with 1 Axes>"
      ]
     },
     "metadata": {
      "needs_background": "light"
     },
     "output_type": "display_data"
    }
   ],
   "source": [
    "net.load_state_dict(best_params)\n",
    "test_preds = net.forward(X_test).flatten()\n",
    "y_test_df = pd.DataFrame(y_test.detach().numpy())\n",
    "test_preds_df = pd.DataFrame(test_preds.detach().numpy())\n",
    "res_df = pd.concat([y_test_df, test_preds_df], axis=1)\n",
    "fig = res_df.plot(kind='bar', figsize=(20, 5))\n",
    "fig.legend(['Значения', 'Предсказания'])\n",
    "fig.set_ylabel('Temperature (K)')\n",
    "fig.set_xlabel('Звезда')"
   ]
  },
  {
   "cell_type": "markdown",
   "id": "d6c8e94b",
   "metadata": {},
   "source": [
    "Можно увидеть, что на маленькие значения температуры сеть предсказывает более точно, в сравнении с большими значениями. Объяснить это можно тем, что датасет состоит из маленького количество данных и преимущественно содержит записи звезд с маленькими температурами, поэтому сеть на этих данных лучше обучилась."
   ]
  },
  {
   "cell_type": "markdown",
   "id": "3e60eecb",
   "metadata": {},
   "source": [
    "<div class=\"alert alert-success\">\n",
    "<b>👍 Успех:</b> Все верно!\n",
    "</div>"
   ]
  },
  {
   "cell_type": "markdown",
   "id": "growing-supply",
   "metadata": {},
   "source": [
    "## Улучшение нейронной сети"
   ]
  },
  {
   "cell_type": "markdown",
   "id": "da2b38bb",
   "metadata": {},
   "source": [
    "Создадим класс нейросети с гиперпараметрами"
   ]
  },
  {
   "cell_type": "code",
   "execution_count": 32,
   "id": "acceptable-forwarding",
   "metadata": {},
   "outputs": [],
   "source": [
    "class Net(nn.Module):\n",
    "    def __init__(self, n_in_neurons, n_hidden_neurons_1, n_hidden_neurons_2, n_hidden_neurons_3, n_out_neurons, \n",
    "                 dp1, dp2, dp3, bn1en, bn2en, bn3en):\n",
    "        super(Net, self).__init__()\n",
    "        self.fc1 = nn.Linear(n_in_neurons, n_hidden_neurons_1)\n",
    "        self.bn1en = bn1en\n",
    "        self.bn1 = nn.BatchNorm1d(n_hidden_neurons_1)\n",
    "        self.dp1 = nn.Dropout(p=dp1)\n",
    "        self.fc2 = nn.Linear(n_hidden_neurons_1, n_hidden_neurons_2) \n",
    "        self.bn2en = bn2en\n",
    "        self.bn2 = nn.BatchNorm1d(n_hidden_neurons_2)\n",
    "        self.dp2 = nn.Dropout(p=dp2)\n",
    "        self.fc3 = nn.Linear(n_hidden_neurons_2, n_hidden_neurons_3) \n",
    "        self.bn3en = bn3en\n",
    "        self.bn3 = nn.BatchNorm1d(n_hidden_neurons_3)\n",
    "        self.dp3 = nn.Dropout(p=dp3)\n",
    "        self.fc4 = nn.Linear(n_hidden_neurons_3, n_out_neurons) \n",
    "    \n",
    "    def forward(self, x):\n",
    "        out = self.fc1(x)\n",
    "        if self.bn1en:\n",
    "            out = self.bn1(out)\n",
    "        out = torch.relu(out)\n",
    "        out = self.dp1(out)\n",
    "        out = self.fc2(out)\n",
    "        if self.bn2en:\n",
    "            out = self.bn2(out)\n",
    "        out = torch.relu(out)\n",
    "        out = self.dp2(out)\n",
    "        out = self.fc3(out)\n",
    "        if self.bn3en:\n",
    "            out = self.bn3(out)\n",
    "        out = torch.relu(out)\n",
    "        out = self.dp3(out)\n",
    "        out = self.fc4(out)\n",
    "        out = torch.relu(out)\n",
    "        \n",
    "        return out"
   ]
  },
  {
   "cell_type": "code",
   "execution_count": 33,
   "id": "37799956",
   "metadata": {},
   "outputs": [],
   "source": [
    "def objective(trial):\n",
    "    # Гиперпараметры для настройки\n",
    "    dp1 = trial.suggest_float('dp1', 0.5, 0.8, step=0.1)\n",
    "    dp2 = trial.suggest_float('dp2', 0.5, 0.8, step=0.1)\n",
    "    dp3 = trial.suggest_float('dp3', 0.5, 0.8, step=0.1)\n",
    "    bn1en = trial.suggest_categorical('bn1en', [True, False])\n",
    "    bn2en = trial.suggest_categorical('bn2en', [True, False])\n",
    "    bn3en = trial.suggest_categorical('bn3en', [True, False])\n",
    "    \n",
    "    net = Net(n_in_neurons, \n",
    "              n_hidden_neurons_1, \n",
    "              n_hidden_neurons_2, \n",
    "              n_hidden_neurons_3, \n",
    "              n_out_neurons, \n",
    "              dp1, \n",
    "              dp2, \n",
    "              dp3,\n",
    "              bn1en,\n",
    "              bn2en,\n",
    "              bn3en)\n",
    "    \n",
    "    optimizer = torch.optim.Adam(net.parameters(), lr=lr)\n",
    "    loss = RMSELoss\n",
    "    rmse_min = float('inf')\n",
    "    best_params = None\n",
    "\n",
    "    for epoch in range(num_epochs):\n",
    "        optimizer.zero_grad()\n",
    "        preds = net.forward(X_train).flatten()\n",
    "        loss_value = loss(preds, y_train)\n",
    "        loss_value.backward()\n",
    "        optimizer.step()\n",
    "\n",
    "        if epoch % per_epochs == 0 or epoch == num_epochs - 1:\n",
    "            net.eval()\n",
    "            test_preds = net.forward(X_test).flatten()\n",
    "            rmse = loss(test_preds, y_test)\n",
    "            # Сохраним лучший результат\n",
    "            if rmse_min > rmse:\n",
    "                rmse_min = rmse\n",
    "                best_params = copy.deepcopy(net.state_dict())\n",
    "            # Ранняя остановка\n",
    "            if rmse - rmse_min > 100:\n",
    "                break\n",
    "    \n",
    "    net.load_state_dict(best_params)\n",
    "    return rmse_min"
   ]
  },
  {
   "cell_type": "code",
   "execution_count": 34,
   "id": "e893b26f",
   "metadata": {
    "scrolled": true
   },
   "outputs": [
    {
     "name": "stderr",
     "output_type": "stream",
     "text": [
      "[I 2024-09-28 12:37:20,546] A new study created in memory with name: no-name-14e2c511-6ef1-41f2-aec5-44a8f1d6f08e\n",
      "[I 2024-09-28 12:38:06,249] Trial 0 finished with value: 3347.8017578125 and parameters: {'dp1': 0.8, 'dp2': 0.7, 'dp3': 0.6, 'bn1en': False, 'bn2en': False, 'bn3en': False}. Best is trial 0 with value: 3347.8017578125.\n",
      "[I 2024-09-28 12:38:51,649] Trial 1 finished with value: 3116.631103515625 and parameters: {'dp1': 0.6, 'dp2': 0.6, 'dp3': 0.5, 'bn1en': False, 'bn2en': False, 'bn3en': False}. Best is trial 1 with value: 3116.631103515625.\n",
      "[I 2024-09-28 12:39:47,760] Trial 2 finished with value: 2382.104736328125 and parameters: {'dp1': 0.6, 'dp2': 0.8, 'dp3': 0.6, 'bn1en': True, 'bn2en': True, 'bn3en': True}. Best is trial 2 with value: 2382.104736328125.\n",
      "[I 2024-09-28 12:40:42,467] Trial 3 finished with value: 13332.564453125 and parameters: {'dp1': 0.7, 'dp2': 0.6, 'dp3': 0.6, 'bn1en': False, 'bn2en': True, 'bn3en': False}. Best is trial 2 with value: 2382.104736328125.\n",
      "[I 2024-09-28 12:41:44,157] Trial 4 finished with value: 2677.97021484375 and parameters: {'dp1': 0.7, 'dp2': 0.7, 'dp3': 0.8, 'bn1en': True, 'bn2en': True, 'bn3en': False}. Best is trial 2 with value: 2382.104736328125.\n",
      "[I 2024-09-28 12:42:30,067] Trial 5 finished with value: 13332.564453125 and parameters: {'dp1': 0.8, 'dp2': 0.6, 'dp3': 0.7, 'bn1en': False, 'bn2en': False, 'bn3en': False}. Best is trial 2 with value: 2382.104736328125.\n",
      "[I 2024-09-28 12:43:33,758] Trial 6 finished with value: 13332.564453125 and parameters: {'dp1': 0.7, 'dp2': 0.7, 'dp3': 0.7, 'bn1en': False, 'bn2en': True, 'bn3en': True}. Best is trial 2 with value: 2382.104736328125.\n",
      "[I 2024-09-28 12:44:29,146] Trial 7 finished with value: 2920.399658203125 and parameters: {'dp1': 0.5, 'dp2': 0.8, 'dp3': 0.6, 'bn1en': False, 'bn2en': True, 'bn3en': False}. Best is trial 2 with value: 2382.104736328125.\n",
      "[I 2024-09-28 12:45:25,558] Trial 8 finished with value: 2834.34423828125 and parameters: {'dp1': 0.7, 'dp2': 0.5, 'dp3': 0.8, 'bn1en': True, 'bn2en': True, 'bn3en': True}. Best is trial 2 with value: 2382.104736328125.\n",
      "[I 2024-09-28 12:46:11,751] Trial 9 finished with value: 3020.8984375 and parameters: {'dp1': 0.8, 'dp2': 0.8, 'dp3': 0.7, 'bn1en': False, 'bn2en': False, 'bn3en': False}. Best is trial 2 with value: 2382.104736328125.\n"
     ]
    },
    {
     "name": "stdout",
     "output_type": "stream",
     "text": [
      "Лучшая метрика: 2382.104736328125\n",
      "Лучшие гиперпараметры: {'dp1': 0.6, 'dp2': 0.8, 'dp3': 0.6, 'bn1en': True, 'bn2en': True, 'bn3en': True}\n"
     ]
    }
   ],
   "source": [
    "study = optuna.create_study(sampler=sampler, direction='minimize')\n",
    "study.optimize(objective, n_trials=10)\n",
    "print(\"Лучшая метрика:\", study.best_value)\n",
    "print(\"Лучшие гиперпараметры:\", study.best_params)"
   ]
  },
  {
   "cell_type": "markdown",
   "id": "e9622bc8",
   "metadata": {},
   "source": [
    "Обучим сеть с лучшими гиперпараметрами:"
   ]
  },
  {
   "cell_type": "code",
   "execution_count": 35,
   "id": "29b24900",
   "metadata": {},
   "outputs": [
    {
     "name": "stdout",
     "output_type": "stream",
     "text": [
      "Лучшая метрика: 2517\n"
     ]
    }
   ],
   "source": [
    "best_dp1 = study.best_trial.params['dp1']\n",
    "best_dp2 = study.best_trial.params['dp2']\n",
    "best_dp3 = study.best_trial.params['dp3']\n",
    "best_bn1en = study.best_trial.params['bn1en']\n",
    "best_bn2en = study.best_trial.params['bn2en']\n",
    "best_bn3en = study.best_trial.params['bn3en']\n",
    "\n",
    "net = Net(\n",
    "    n_in_neurons, \n",
    "    n_hidden_neurons_1, \n",
    "    n_hidden_neurons_2, \n",
    "    n_hidden_neurons_3, \n",
    "    n_out_neurons, \n",
    "    best_dp1, \n",
    "    best_dp2, \n",
    "    best_dp3,\n",
    "    best_bn1en,\n",
    "    best_bn2en,\n",
    "    best_bn3en)\n",
    "optimizer = torch.optim.Adam(net.parameters(), lr=lr)\n",
    "loss = RMSELoss\n",
    "rmse_min = float('inf')\n",
    "best_params = None\n",
    "\n",
    "for epoch in range(num_epochs):\n",
    "    optimizer.zero_grad()\n",
    "    preds = net.forward(X_train).flatten()\n",
    "    loss_value = loss(preds, y_train)\n",
    "    loss_value.backward()\n",
    "    optimizer.step()\n",
    "\n",
    "    if epoch % per_epochs == 0 or epoch == num_epochs - 1:\n",
    "        net.eval()\n",
    "        test_preds = net.forward(X_test).flatten()\n",
    "        rmse = loss(test_preds, y_test)\n",
    "        # Сохраним лучший результат\n",
    "        if rmse_min > rmse:\n",
    "            rmse_min = rmse\n",
    "            best_params = copy.deepcopy(net.state_dict())\n",
    "        # Ранняя остановка\n",
    "        if rmse - rmse_min > 100:\n",
    "            break\n",
    "print(f\"Лучшая метрика: {rmse_min:.0f}\")"
   ]
  },
  {
   "cell_type": "markdown",
   "id": "924a367d",
   "metadata": {},
   "source": [
    "<div class=\"alert alert-danger\">\n",
    "<s><b>😔 Необходимо исправить:</b> Здесь что-то не так с метрикой, для воспроизводимости нужно зафиксировать случайные значения. После построения графика факт-прогноз нужно сравнить его с предыдущим (что стало лучше, что хуже, что так и осталось)</s>\n",
    "</div>"
   ]
  },
  {
   "cell_type": "markdown",
   "id": "5d7b31c3",
   "metadata": {},
   "source": [
    "  <div class=\"alert alert-info\"> <b>🎓 Комментарий студента:</b> Исправил</div>"
   ]
  },
  {
   "cell_type": "markdown",
   "id": "3f129c6b",
   "metadata": {},
   "source": [
    "<div class=\"alert alert-success\">\n",
    "<b>👍 Успех:</b> Все верно!\n",
    "</div>"
   ]
  },
  {
   "cell_type": "code",
   "execution_count": 36,
   "id": "6181e970",
   "metadata": {},
   "outputs": [
    {
     "data": {
      "text/plain": [
       "Text(0.5, 0, 'Звезда')"
      ]
     },
     "execution_count": 36,
     "metadata": {},
     "output_type": "execute_result"
    },
    {
     "data": {
      "image/png": "[encoded data removed]",
      "text/plain": [
       "<Figure size 1440x360 with 1 Axes>"
      ]
     },
     "metadata": {
      "needs_background": "light"
     },
     "output_type": "display_data"
    }
   ],
   "source": [
    "net.load_state_dict(best_params)\n",
    "test_preds = net.forward(X_test).flatten()\n",
    "y_test_df = pd.DataFrame(y_test.detach().numpy())\n",
    "test_preds_df = pd.DataFrame(test_preds.detach().numpy())\n",
    "res_df = pd.concat([y_test_df, test_preds_df], axis=1)\n",
    "fig = res_df.plot(kind='bar', figsize=(20, 5))\n",
    "fig.legend(['Значения', 'Предсказания'])\n",
    "fig.set_ylabel('Temperature (K)')\n",
    "fig.set_xlabel('Звезда')"
   ]
  },
  {
   "cell_type": "markdown",
   "id": "7b13ae5b",
   "metadata": {},
   "source": [
    "По графику факт-прогноз улучшеной модели можно сделать вывод, что модель стала еще лучше предсказывать малые значения тмпературы, однако, на больших значениях все еще ошибается достаточно сильно, что объясняется недостатком данных для данной группы звезд."
   ]
  },
  {
   "cell_type": "markdown",
   "id": "0b39c891",
   "metadata": {},
   "source": [
    "<div class=\"alert alert-success\">\n",
    "<b>👍 Успех:</b> Все верно!\n",
    "</div>"
   ]
  },
  {
   "cell_type": "markdown",
   "id": "accurate-infrastructure",
   "metadata": {},
   "source": [
    "## Выводы\n",
    "Был успешно выгружен датасет, состоящий из 240 записей и следующих полей:\n",
    "- `Temperature (K)` - Абсолютная температура T(K) — температура на поверхности звезды в Кельвинах.\n",
    "- `Luminosity(L/Lo)\t` - Относительная светимость L/Lo — светимость звезды относительно Солнца.\n",
    "- `Radius(R/Ro)` - Относительный радиус R/Ro — радиус звезды относительно радиуса Солнца.\n",
    "- `Absolute magnitude(Mv)` - Абсолютная звёздная величина Mv — физическая величина, характеризующая блеск звезды.\n",
    "- `Star type` - Тип звезды.\n",
    "- `Star color` - Звёздный цвет (white, red, blue, yellow, yellow-orange и др.) — цвет звезды, который определяют на основе спектрального анализа.\n",
    "\n",
    "Первичный анализ показал, что пропуски и полные дубликаты отсутствуют. При более подробном анализе были обнаружены и устранены неявные дубликаты. \n",
    "\n",
    "Построенные диаграммы показали, что данные делятся на две группы. Причем группа содержащая звезды с малым радиусом и низкой температурой более многочисленная.\n",
    "\n",
    "Далее было вполнено кодирование категориальных и шкалирование количественных данных. Датасет был разбит на тренировочную и  тестовую выборки.\n",
    "\n",
    "Следующим шагом было построение базовой нейросети. Было принято решение использовать три скрытых слоя и функцию активацию ReLu. Обученная сеть показала метрику RMSE соответствующую ТЗ. При сравнении тестовых значений с предсказанными нейросетью видно, что маленькие значения температуры сеть предсказывает более точно, в сравнении с большими значениями. Объяснить это можно тем, что датасет состоит из маленького количество данных и преимущественно содержит записи звезд с маленькими температурами, поэтому сеть на этих данных лучше обучилась, а на больших температурах сильнее ошибается.\n",
    "\n",
    "Построение улучшенной нейросети с перебором гиперпараметров Dropout и BatchNorm на базе базовой НС позволило получить еще лучший результат метрики. Однако, на больших значениях все еще ошибается достаточно сильно, что объясняется недостатком данных для данной группы звезд.\n",
    "\n",
    "Для улучшения достоверности предсказания можно порекомендовать собрать датасет побольше или использовать аугментацию данных, но это уже выходит за рамки данного проекта."
   ]
  },
  {
   "cell_type": "markdown",
   "id": "f9f904fc",
   "metadata": {},
   "source": [
    "<div class=\"alert alert-success\">\n",
    "<b>👍 Успех:</b> Отличная работа! Было очень приятно проверять твой проект!\n",
    "\n",
    "Оставлю хороший учебник по ML:\n",
    "+  https://academy.yandex.ru/handbook/ml\n",
    "\n",
    "Немного новостей с мира DL(вдруг заинтересует):\n",
    "+  https://habr.com/ru/company/ods/blog/686962/\n",
    "\n",
    "Вот тут проходят всякие соревнования, можешь себя попробовать:\n",
    "+  https://hacks-ai.ru/\n",
    "\n",
    "\n",
    "Возможно, что нить пригодится:\n",
    "+  https://arxiv.org/ftp/arxiv/papers/2201/2201.00650.pdf\n",
    "+  https://github.com/slgero/testovoe\n",
    "\n",
    "\n",
    "Курс от МФТИ математика для DS:\n",
    "\n",
    "+  https://www.youtube.com/watch?v=xccjt6lOoow&list=PLk4h7dmY2eYHHTyfLyrl7HmP-H3mMAW08&index=1\n",
    "\n",
    "\n",
    "Тут много соревнований/лекций:\n",
    "\n",
    "+  https://ods.ai/\n",
    "\n",
    "stepic NLP/CV:\n",
    "\n",
    "+  https://stepik.org/course/54098/syllabus\n",
    "+  https://stepik.org/course/50352/syllabus\n",
    "\n",
    "Еще есть от ВШЭ:\n",
    "\n",
    "+  https://www.youtube.com/watch?v=mwjQaNt8qxk&list=PLEwK9wdS5g0og-DcF1apxutSM0GDLHz_3&ab_channel=%D0%A4%D0%9A%D0%9D%D0%92%D0%A8%D0%AD%E2%80%94%D0%B4%D0%B8%D1%81%D1%82%D0%B0%D0%BD%D1%86%D0%B8%D0%BE%D0%BD%D0%BD%D1%8B%D0%B5%D0%B7%D0%B0%D0%BD%D1%8F%D1%82%D0%B8%D1%8F\n",
    "+  https://github.com/hse-ds/iad-deep-learning\n",
    "\n",
    "Удачи в следующих проектах!!!\n",
    "</div>\n"
   ]
  },
  {
   "cell_type": "code",
   "execution_count": null,
   "id": "68c6aa38",
   "metadata": {},
   "outputs": [],
   "source": []
  }
 ],
 "metadata": {
  "ExecuteTimeLog": [
   {
    "duration": 350,
    "start_time": "2024-09-04T14:16:06.206Z"
   },
   {
    "duration": 81,
    "start_time": "2024-09-04T14:16:27.595Z"
   },
   {
    "duration": 14,
    "start_time": "2024-09-04T14:16:37.611Z"
   },
   {
    "duration": 10,
    "start_time": "2024-09-04T14:16:47.277Z"
   },
   {
    "duration": 60,
    "start_time": "2024-09-04T14:17:23.251Z"
   },
   {
    "duration": 13,
    "start_time": "2024-09-04T14:17:28.896Z"
   },
   {
    "duration": 11,
    "start_time": "2024-09-04T14:17:39.345Z"
   },
   {
    "duration": 13,
    "start_time": "2024-09-04T14:17:47.799Z"
   },
   {
    "duration": 15,
    "start_time": "2024-09-04T14:20:35.353Z"
   },
   {
    "duration": 13,
    "start_time": "2024-09-04T14:20:43.801Z"
   },
   {
    "duration": 18,
    "start_time": "2024-09-04T14:20:48.201Z"
   },
   {
    "duration": 2,
    "start_time": "2024-09-04T15:12:36.676Z"
   },
   {
    "duration": 16,
    "start_time": "2024-09-04T15:12:45.355Z"
   },
   {
    "duration": 6,
    "start_time": "2024-09-04T15:12:56.385Z"
   },
   {
    "duration": 31,
    "start_time": "2024-09-04T15:13:38.068Z"
   },
   {
    "duration": 27,
    "start_time": "2024-09-04T15:13:48.449Z"
   },
   {
    "duration": 17,
    "start_time": "2024-09-04T15:13:51.982Z"
   },
   {
    "duration": 4,
    "start_time": "2024-09-04T15:14:16.062Z"
   },
   {
    "duration": 26,
    "start_time": "2024-09-04T15:14:55.549Z"
   },
   {
    "duration": 14,
    "start_time": "2024-09-04T15:14:56.863Z"
   },
   {
    "duration": 4,
    "start_time": "2024-09-04T15:15:04.981Z"
   },
   {
    "duration": 2,
    "start_time": "2024-09-04T15:15:16.240Z"
   },
   {
    "duration": 8,
    "start_time": "2024-09-04T15:15:16.607Z"
   },
   {
    "duration": 2,
    "start_time": "2024-09-04T15:15:25.735Z"
   },
   {
    "duration": 16,
    "start_time": "2024-09-04T15:15:26.925Z"
   },
   {
    "duration": 2,
    "start_time": "2024-09-04T15:15:30.351Z"
   },
   {
    "duration": 11,
    "start_time": "2024-09-04T15:15:31.546Z"
   },
   {
    "duration": 2,
    "start_time": "2024-09-04T15:15:34.339Z"
   },
   {
    "duration": 15,
    "start_time": "2024-09-04T15:15:35.620Z"
   },
   {
    "duration": 3,
    "start_time": "2024-09-04T15:15:59.633Z"
   },
   {
    "duration": 4,
    "start_time": "2024-09-04T15:16:07.012Z"
   },
   {
    "duration": 5,
    "start_time": "2024-09-04T15:17:26.645Z"
   },
   {
    "duration": 7,
    "start_time": "2024-09-04T15:17:40.535Z"
   },
   {
    "duration": 3,
    "start_time": "2024-09-04T15:19:09.506Z"
   },
   {
    "duration": 4,
    "start_time": "2024-09-04T15:19:11.159Z"
   },
   {
    "duration": 3,
    "start_time": "2024-09-04T15:19:51.460Z"
   },
   {
    "duration": 3,
    "start_time": "2024-09-04T15:19:53.543Z"
   },
   {
    "duration": 4,
    "start_time": "2024-09-04T15:21:14.642Z"
   },
   {
    "duration": 7,
    "start_time": "2024-09-04T15:21:19.370Z"
   },
   {
    "duration": 506,
    "start_time": "2024-09-04T15:21:30.611Z"
   },
   {
    "duration": 5,
    "start_time": "2024-09-04T15:22:03.082Z"
   },
   {
    "duration": 27,
    "start_time": "2024-09-04T15:22:59.125Z"
   },
   {
    "duration": 3,
    "start_time": "2024-09-04T15:22:59.476Z"
   },
   {
    "duration": 17,
    "start_time": "2024-09-04T15:22:59.798Z"
   },
   {
    "duration": 5,
    "start_time": "2024-09-04T15:23:00.252Z"
   },
   {
    "duration": 6,
    "start_time": "2024-09-04T15:23:00.900Z"
   },
   {
    "duration": 5,
    "start_time": "2024-09-04T15:23:01.371Z"
   },
   {
    "duration": 3,
    "start_time": "2024-09-04T15:23:57.814Z"
   },
   {
    "duration": 4,
    "start_time": "2024-09-04T15:23:59.445Z"
   },
   {
    "duration": 4,
    "start_time": "2024-09-04T15:24:18.517Z"
   },
   {
    "duration": 13,
    "start_time": "2024-09-04T15:25:51.281Z"
   },
   {
    "duration": 8,
    "start_time": "2024-09-04T15:26:03.398Z"
   },
   {
    "duration": 8,
    "start_time": "2024-09-04T15:27:08.797Z"
   },
   {
    "duration": 5,
    "start_time": "2024-09-04T15:27:36.265Z"
   },
   {
    "duration": 3,
    "start_time": "2024-09-04T15:27:48.546Z"
   },
   {
    "duration": 4,
    "start_time": "2024-09-04T15:27:51.793Z"
   },
   {
    "duration": 3,
    "start_time": "2024-09-04T15:29:28.302Z"
   },
   {
    "duration": 5,
    "start_time": "2024-09-04T15:29:29.404Z"
   },
   {
    "duration": 4,
    "start_time": "2024-09-04T15:29:51.741Z"
   },
   {
    "duration": 5,
    "start_time": "2024-09-04T15:29:52.970Z"
   },
   {
    "duration": 5,
    "start_time": "2024-09-04T15:31:33.959Z"
   },
   {
    "duration": 5,
    "start_time": "2024-09-04T15:31:36.567Z"
   },
   {
    "duration": 6,
    "start_time": "2024-09-04T15:32:28.503Z"
   },
   {
    "duration": 4,
    "start_time": "2024-09-04T15:32:29.805Z"
   },
   {
    "duration": 5,
    "start_time": "2024-09-04T17:12:21.019Z"
   },
   {
    "duration": 18,
    "start_time": "2024-09-04T17:14:59.869Z"
   },
   {
    "duration": 2,
    "start_time": "2024-09-04T17:15:16.196Z"
   },
   {
    "duration": 289,
    "start_time": "2024-09-04T17:15:19.052Z"
   },
   {
    "duration": 453,
    "start_time": "2024-09-04T17:15:29.046Z"
   },
   {
    "duration": 306,
    "start_time": "2024-09-04T17:15:32.514Z"
   },
   {
    "duration": 175,
    "start_time": "2024-09-05T07:16:46.709Z"
   },
   {
    "duration": 159,
    "start_time": "2024-09-05T07:25:26.968Z"
   },
   {
    "duration": 574,
    "start_time": "2024-09-05T07:39:05.645Z"
   },
   {
    "duration": 6,
    "start_time": "2024-09-05T07:41:41.688Z"
   },
   {
    "duration": 3,
    "start_time": "2024-09-05T07:45:00.081Z"
   },
   {
    "duration": 58,
    "start_time": "2024-09-05T07:46:35.699Z"
   },
   {
    "duration": 67,
    "start_time": "2024-09-05T07:46:48.203Z"
   },
   {
    "duration": 15,
    "start_time": "2024-09-05T07:46:52.543Z"
   },
   {
    "duration": 11,
    "start_time": "2024-09-05T07:46:57.146Z"
   },
   {
    "duration": 3,
    "start_time": "2024-09-05T07:48:42.188Z"
   },
   {
    "duration": 2,
    "start_time": "2024-09-05T07:49:12.702Z"
   },
   {
    "duration": 9,
    "start_time": "2024-09-05T07:50:16.195Z"
   },
   {
    "duration": 8,
    "start_time": "2024-09-05T07:50:55.346Z"
   },
   {
    "duration": 70,
    "start_time": "2024-09-05T07:51:00.320Z"
   },
   {
    "duration": 9,
    "start_time": "2024-09-05T07:51:20.208Z"
   },
   {
    "duration": 3,
    "start_time": "2024-09-05T07:51:31.657Z"
   },
   {
    "duration": 3,
    "start_time": "2024-09-05T07:51:48.016Z"
   },
   {
    "duration": 7,
    "start_time": "2024-09-05T07:52:15.602Z"
   },
   {
    "duration": 3,
    "start_time": "2024-09-05T07:52:17.328Z"
   },
   {
    "duration": 7,
    "start_time": "2024-09-05T07:52:26.295Z"
   },
   {
    "duration": 3,
    "start_time": "2024-09-05T07:52:28.682Z"
   },
   {
    "duration": 12,
    "start_time": "2024-09-05T07:53:16.295Z"
   },
   {
    "duration": 18,
    "start_time": "2024-09-05T07:53:46.475Z"
   },
   {
    "duration": 16,
    "start_time": "2024-09-05T07:55:17.330Z"
   },
   {
    "duration": 15,
    "start_time": "2024-09-05T07:55:35.790Z"
   },
   {
    "duration": 24,
    "start_time": "2024-09-05T07:55:40.757Z"
   },
   {
    "duration": 840,
    "start_time": "2024-09-05T07:56:30.767Z"
   },
   {
    "duration": 3,
    "start_time": "2024-09-05T07:56:42.084Z"
   },
   {
    "duration": 5,
    "start_time": "2024-09-05T07:56:55.941Z"
   },
   {
    "duration": 12,
    "start_time": "2024-09-05T07:56:59.925Z"
   },
   {
    "duration": 6,
    "start_time": "2024-09-05T07:57:03.765Z"
   },
   {
    "duration": 8,
    "start_time": "2024-09-05T07:57:18.076Z"
   },
   {
    "duration": 2,
    "start_time": "2024-09-05T07:57:24.352Z"
   },
   {
    "duration": 15,
    "start_time": "2024-09-05T12:01:39.668Z"
   },
   {
    "duration": 9,
    "start_time": "2024-09-05T12:02:45.705Z"
   },
   {
    "duration": 13,
    "start_time": "2024-09-05T12:02:52.865Z"
   },
   {
    "duration": 10,
    "start_time": "2024-09-05T12:03:22.247Z"
   },
   {
    "duration": 2,
    "start_time": "2024-09-05T12:03:26.102Z"
   },
   {
    "duration": 13,
    "start_time": "2024-09-05T12:03:26.700Z"
   },
   {
    "duration": 2,
    "start_time": "2024-09-05T12:03:38.576Z"
   },
   {
    "duration": 15,
    "start_time": "2024-09-05T12:03:39.669Z"
   },
   {
    "duration": 29,
    "start_time": "2024-09-05T12:03:45.609Z"
   },
   {
    "duration": 4,
    "start_time": "2024-09-05T12:04:19.028Z"
   },
   {
    "duration": 9,
    "start_time": "2024-09-05T12:04:43.045Z"
   },
   {
    "duration": 4,
    "start_time": "2024-09-05T12:04:54.835Z"
   },
   {
    "duration": 3,
    "start_time": "2024-09-05T12:05:02.917Z"
   },
   {
    "duration": 16,
    "start_time": "2024-09-05T12:07:27.643Z"
   },
   {
    "duration": 30,
    "start_time": "2024-09-05T12:07:31.598Z"
   },
   {
    "duration": 9,
    "start_time": "2024-09-05T12:08:05.742Z"
   },
   {
    "duration": 11,
    "start_time": "2024-09-05T12:08:17.649Z"
   },
   {
    "duration": 26,
    "start_time": "2024-09-05T12:08:27.706Z"
   },
   {
    "duration": 15,
    "start_time": "2024-09-05T12:09:12.942Z"
   },
   {
    "duration": 27,
    "start_time": "2024-09-05T12:09:18.083Z"
   },
   {
    "duration": 9,
    "start_time": "2024-09-05T12:09:24.771Z"
   },
   {
    "duration": 21,
    "start_time": "2024-09-05T12:09:26.835Z"
   },
   {
    "duration": 6,
    "start_time": "2024-09-05T12:10:08.639Z"
   },
   {
    "duration": 6,
    "start_time": "2024-09-05T12:10:14.315Z"
   },
   {
    "duration": 8,
    "start_time": "2024-09-05T12:11:07.924Z"
   },
   {
    "duration": 3,
    "start_time": "2024-09-05T12:11:11.468Z"
   },
   {
    "duration": 3,
    "start_time": "2024-09-05T12:11:29.195Z"
   },
   {
    "duration": 5,
    "start_time": "2024-09-05T12:11:43.079Z"
   },
   {
    "duration": 8,
    "start_time": "2024-09-05T12:11:58.782Z"
   },
   {
    "duration": 6,
    "start_time": "2024-09-05T12:12:07.812Z"
   },
   {
    "duration": 3,
    "start_time": "2024-09-05T12:15:14.191Z"
   },
   {
    "duration": 915,
    "start_time": "2024-09-05T12:15:16.242Z"
   },
   {
    "duration": 3,
    "start_time": "2024-09-05T12:16:47.419Z"
   },
   {
    "duration": 36,
    "start_time": "2024-09-05T12:16:48.451Z"
   },
   {
    "duration": 3,
    "start_time": "2024-09-05T12:16:48.920Z"
   },
   {
    "duration": 15,
    "start_time": "2024-09-05T12:16:49.428Z"
   },
   {
    "duration": 5,
    "start_time": "2024-09-05T12:16:51.995Z"
   },
   {
    "duration": 7,
    "start_time": "2024-09-05T12:16:53.316Z"
   },
   {
    "duration": 6,
    "start_time": "2024-09-05T12:16:55.258Z"
   },
   {
    "duration": 6,
    "start_time": "2024-09-05T12:16:57.491Z"
   },
   {
    "duration": 5,
    "start_time": "2024-09-05T12:17:01.762Z"
   },
   {
    "duration": 6,
    "start_time": "2024-09-05T12:17:08.153Z"
   },
   {
    "duration": 10,
    "start_time": "2024-09-05T12:17:10.149Z"
   },
   {
    "duration": 192,
    "start_time": "2024-09-05T12:17:12.242Z"
   },
   {
    "duration": 4,
    "start_time": "2024-09-05T12:17:13.579Z"
   },
   {
    "duration": 5,
    "start_time": "2024-09-05T12:17:48.041Z"
   },
   {
    "duration": 2,
    "start_time": "2024-09-05T12:17:56.947Z"
   },
   {
    "duration": 2,
    "start_time": "2024-09-05T12:17:57.515Z"
   },
   {
    "duration": 2,
    "start_time": "2024-09-05T12:17:57.811Z"
   },
   {
    "duration": 9,
    "start_time": "2024-09-05T12:17:58.780Z"
   },
   {
    "duration": 21,
    "start_time": "2024-09-05T12:17:59.389Z"
   },
   {
    "duration": 5,
    "start_time": "2024-09-05T12:18:01.877Z"
   },
   {
    "duration": 3,
    "start_time": "2024-09-05T12:18:08.874Z"
   },
   {
    "duration": 3,
    "start_time": "2024-09-05T12:18:22.027Z"
   },
   {
    "duration": 805,
    "start_time": "2024-09-05T12:18:25.862Z"
   },
   {
    "duration": 3,
    "start_time": "2024-09-05T12:19:53.317Z"
   },
   {
    "duration": 378,
    "start_time": "2024-09-05T12:19:54.899Z"
   },
   {
    "duration": 3,
    "start_time": "2024-09-05T12:20:10.039Z"
   },
   {
    "duration": 4,
    "start_time": "2024-09-05T12:20:18.398Z"
   },
   {
    "duration": 301,
    "start_time": "2024-09-05T12:20:18.853Z"
   },
   {
    "duration": 56,
    "start_time": "2024-09-05T12:20:49.871Z"
   },
   {
    "duration": 8,
    "start_time": "2024-09-05T12:20:54.310Z"
   },
   {
    "duration": 59,
    "start_time": "2024-09-05T12:20:56.248Z"
   },
   {
    "duration": 3,
    "start_time": "2024-09-05T12:20:58.535Z"
   },
   {
    "duration": 4,
    "start_time": "2024-09-05T12:20:59.623Z"
   },
   {
    "duration": 308,
    "start_time": "2024-09-05T12:20:59.952Z"
   },
   {
    "duration": 5,
    "start_time": "2024-09-05T12:21:06.238Z"
   },
   {
    "duration": 3,
    "start_time": "2024-09-05T12:21:10.630Z"
   },
   {
    "duration": 2,
    "start_time": "2024-09-05T12:21:10.960Z"
   },
   {
    "duration": 12,
    "start_time": "2024-09-05T12:21:11.614Z"
   },
   {
    "duration": 21,
    "start_time": "2024-09-05T12:21:12.252Z"
   },
   {
    "duration": 5,
    "start_time": "2024-09-05T12:21:13.076Z"
   },
   {
    "duration": 2,
    "start_time": "2024-09-05T12:21:14.659Z"
   },
   {
    "duration": 3,
    "start_time": "2024-09-05T12:21:15.514Z"
   },
   {
    "duration": 689,
    "start_time": "2024-09-05T12:21:16.565Z"
   },
   {
    "duration": 5,
    "start_time": "2024-09-05T12:21:51.566Z"
   },
   {
    "duration": 4,
    "start_time": "2024-09-05T12:22:05.711Z"
   },
   {
    "duration": 2,
    "start_time": "2024-09-05T12:22:27.176Z"
   },
   {
    "duration": 2,
    "start_time": "2024-09-05T12:22:27.592Z"
   },
   {
    "duration": 20,
    "start_time": "2024-09-05T12:22:56.904Z"
   },
   {
    "duration": 5,
    "start_time": "2024-09-05T12:23:08.936Z"
   },
   {
    "duration": 4,
    "start_time": "2024-09-05T12:23:14.294Z"
   },
   {
    "duration": 24,
    "start_time": "2024-09-05T12:23:17.538Z"
   },
   {
    "duration": 21,
    "start_time": "2024-09-05T12:23:23.109Z"
   },
   {
    "duration": 8,
    "start_time": "2024-09-05T12:23:28.963Z"
   },
   {
    "duration": 7,
    "start_time": "2024-09-05T12:23:35.129Z"
   },
   {
    "duration": 3,
    "start_time": "2024-09-05T12:23:51.023Z"
   },
   {
    "duration": 10918,
    "start_time": "2024-09-05T12:23:52.354Z"
   },
   {
    "duration": 8,
    "start_time": "2024-09-05T12:24:12.106Z"
   },
   {
    "duration": 3,
    "start_time": "2024-09-05T12:24:27.209Z"
   },
   {
    "duration": 1013,
    "start_time": "2024-09-05T12:24:28.737Z"
   },
   {
    "duration": 6,
    "start_time": "2024-09-05T12:24:32.588Z"
   },
   {
    "duration": 7,
    "start_time": "2024-09-05T12:24:41.649Z"
   },
   {
    "duration": 862,
    "start_time": "2024-09-05T12:25:02.897Z"
   },
   {
    "duration": 6,
    "start_time": "2024-09-05T12:25:09.130Z"
   },
   {
    "duration": 3,
    "start_time": "2024-09-05T12:27:59.612Z"
   },
   {
    "duration": 2,
    "start_time": "2024-09-05T12:28:01.550Z"
   },
   {
    "duration": 3,
    "start_time": "2024-09-05T12:28:01.941Z"
   },
   {
    "duration": 9,
    "start_time": "2024-09-05T12:28:02.405Z"
   },
   {
    "duration": 20,
    "start_time": "2024-09-05T12:28:03.577Z"
   },
   {
    "duration": 5,
    "start_time": "2024-09-05T12:28:07.556Z"
   },
   {
    "duration": 5,
    "start_time": "2024-09-05T12:28:08.709Z"
   },
   {
    "duration": 6,
    "start_time": "2024-09-05T12:28:12.472Z"
   },
   {
    "duration": 3,
    "start_time": "2024-09-05T12:28:14.534Z"
   },
   {
    "duration": 3,
    "start_time": "2024-09-05T12:28:16.391Z"
   },
   {
    "duration": 161,
    "start_time": "2024-09-05T12:28:17.901Z"
   },
   {
    "duration": 2,
    "start_time": "2024-09-05T12:31:58.283Z"
   },
   {
    "duration": 537,
    "start_time": "2024-09-05T12:31:59.314Z"
   },
   {
    "duration": 6,
    "start_time": "2024-09-05T12:32:04.819Z"
   },
   {
    "duration": 3,
    "start_time": "2024-09-05T12:32:19.019Z"
   },
   {
    "duration": 6031,
    "start_time": "2024-09-05T12:32:19.744Z"
   },
   {
    "duration": 6,
    "start_time": "2024-09-05T12:32:31.896Z"
   },
   {
    "duration": 3,
    "start_time": "2024-09-05T12:33:10.001Z"
   },
   {
    "duration": 6,
    "start_time": "2024-09-05T12:33:22.925Z"
   },
   {
    "duration": 3,
    "start_time": "2024-09-05T12:33:55.107Z"
   },
   {
    "duration": 5177,
    "start_time": "2024-09-05T12:33:56.185Z"
   },
   {
    "duration": 3,
    "start_time": "2024-09-05T12:34:11.476Z"
   },
   {
    "duration": 55067,
    "start_time": "2024-09-05T12:34:12.099Z"
   },
   {
    "duration": 7,
    "start_time": "2024-09-05T12:35:13.357Z"
   },
   {
    "duration": 8,
    "start_time": "2024-09-05T12:35:29.046Z"
   },
   {
    "duration": 8,
    "start_time": "2024-09-05T12:41:31.766Z"
   },
   {
    "duration": 3,
    "start_time": "2024-09-05T12:41:43.570Z"
   },
   {
    "duration": 4,
    "start_time": "2024-09-05T12:42:25.020Z"
   },
   {
    "duration": 6,
    "start_time": "2024-09-05T12:42:29.507Z"
   },
   {
    "duration": 2,
    "start_time": "2024-09-05T12:42:33.365Z"
   },
   {
    "duration": 3,
    "start_time": "2024-09-05T12:42:35.587Z"
   },
   {
    "duration": 17,
    "start_time": "2024-09-05T12:42:40.235Z"
   },
   {
    "duration": 9,
    "start_time": "2024-09-05T12:43:28.876Z"
   },
   {
    "duration": 3,
    "start_time": "2024-09-05T12:44:44.558Z"
   },
   {
    "duration": 9,
    "start_time": "2024-09-05T12:44:56.946Z"
   },
   {
    "duration": 3,
    "start_time": "2024-09-05T12:44:59.829Z"
   },
   {
    "duration": 5956,
    "start_time": "2024-09-05T13:29:44.201Z"
   },
   {
    "duration": 5,
    "start_time": "2024-09-05T13:29:59.703Z"
   },
   {
    "duration": 2,
    "start_time": "2024-09-05T13:30:00.353Z"
   },
   {
    "duration": 2,
    "start_time": "2024-09-05T13:30:00.664Z"
   },
   {
    "duration": 10,
    "start_time": "2024-09-05T13:30:00.999Z"
   },
   {
    "duration": 21,
    "start_time": "2024-09-05T13:30:01.402Z"
   },
   {
    "duration": 5,
    "start_time": "2024-09-05T13:30:01.851Z"
   },
   {
    "duration": 6,
    "start_time": "2024-09-05T13:30:02.573Z"
   },
   {
    "duration": 5,
    "start_time": "2024-09-05T13:30:02.998Z"
   },
   {
    "duration": 2,
    "start_time": "2024-09-05T13:30:05.494Z"
   },
   {
    "duration": 2,
    "start_time": "2024-09-05T13:30:06.253Z"
   },
   {
    "duration": 5812,
    "start_time": "2024-09-05T13:30:08.055Z"
   },
   {
    "duration": 5,
    "start_time": "2024-09-05T13:32:59.433Z"
   },
   {
    "duration": 6,
    "start_time": "2024-09-05T13:33:03.639Z"
   },
   {
    "duration": 6,
    "start_time": "2024-09-05T13:33:10.078Z"
   },
   {
    "duration": 3,
    "start_time": "2024-09-05T13:33:13.255Z"
   },
   {
    "duration": 3,
    "start_time": "2024-09-05T13:33:13.670Z"
   },
   {
    "duration": 10,
    "start_time": "2024-09-05T13:33:14.315Z"
   },
   {
    "duration": 21,
    "start_time": "2024-09-05T13:33:14.458Z"
   },
   {
    "duration": 5,
    "start_time": "2024-09-05T13:33:14.966Z"
   },
   {
    "duration": 7,
    "start_time": "2024-09-05T13:33:15.602Z"
   },
   {
    "duration": 5,
    "start_time": "2024-09-05T13:33:16.506Z"
   },
   {
    "duration": 2,
    "start_time": "2024-09-05T13:33:19.853Z"
   },
   {
    "duration": 2,
    "start_time": "2024-09-05T13:33:20.330Z"
   },
   {
    "duration": 6187,
    "start_time": "2024-09-05T13:33:29.073Z"
   },
   {
    "duration": 5618,
    "start_time": "2024-09-05T13:36:07.240Z"
   },
   {
    "duration": 6,
    "start_time": "2024-09-05T13:36:16.601Z"
   },
   {
    "duration": 7,
    "start_time": "2024-09-05T13:36:26.467Z"
   },
   {
    "duration": 5,
    "start_time": "2024-09-05T13:36:31.439Z"
   },
   {
    "duration": 2,
    "start_time": "2024-09-05T13:36:32.349Z"
   },
   {
    "duration": 3,
    "start_time": "2024-09-05T13:36:32.575Z"
   },
   {
    "duration": 14,
    "start_time": "2024-09-05T13:36:32.773Z"
   },
   {
    "duration": 32,
    "start_time": "2024-09-05T13:36:33.031Z"
   },
   {
    "duration": 5,
    "start_time": "2024-09-05T13:36:33.604Z"
   },
   {
    "duration": 8,
    "start_time": "2024-09-05T13:36:33.611Z"
   },
   {
    "duration": 5,
    "start_time": "2024-09-05T13:36:34.989Z"
   },
   {
    "duration": 3,
    "start_time": "2024-09-05T13:36:36.438Z"
   },
   {
    "duration": 3,
    "start_time": "2024-09-05T13:36:36.855Z"
   },
   {
    "duration": 5984,
    "start_time": "2024-09-05T13:36:38.566Z"
   },
   {
    "duration": 5,
    "start_time": "2024-09-05T13:36:49.583Z"
   },
   {
    "duration": 6123,
    "start_time": "2024-09-05T13:37:07.748Z"
   },
   {
    "duration": 6,
    "start_time": "2024-09-05T13:37:16.118Z"
   },
   {
    "duration": 5,
    "start_time": "2024-09-05T13:37:33.895Z"
   },
   {
    "duration": 6,
    "start_time": "2024-09-05T13:37:34.500Z"
   },
   {
    "duration": 8,
    "start_time": "2024-09-05T13:37:35.430Z"
   },
   {
    "duration": 5,
    "start_time": "2024-09-05T13:37:35.870Z"
   },
   {
    "duration": 2,
    "start_time": "2024-09-05T13:37:36.487Z"
   },
   {
    "duration": 3,
    "start_time": "2024-09-05T13:37:37.284Z"
   },
   {
    "duration": 6235,
    "start_time": "2024-09-05T13:37:37.824Z"
   },
   {
    "duration": 3,
    "start_time": "2024-09-05T13:37:55.993Z"
   },
   {
    "duration": 1727,
    "start_time": "2024-09-05T13:38:05.527Z"
   },
   {
    "duration": 28,
    "start_time": "2024-09-05T13:38:07.256Z"
   },
   {
    "duration": 36,
    "start_time": "2024-09-05T13:38:07.285Z"
   },
   {
    "duration": 31,
    "start_time": "2024-09-05T13:38:07.322Z"
   },
   {
    "duration": 5,
    "start_time": "2024-09-05T13:38:07.354Z"
   },
   {
    "duration": 7,
    "start_time": "2024-09-05T13:38:07.360Z"
   },
   {
    "duration": 5,
    "start_time": "2024-09-05T13:38:07.368Z"
   },
   {
    "duration": 4,
    "start_time": "2024-09-05T13:38:07.374Z"
   },
   {
    "duration": 13,
    "start_time": "2024-09-05T13:38:07.379Z"
   },
   {
    "duration": 8,
    "start_time": "2024-09-05T13:38:07.393Z"
   },
   {
    "duration": 236,
    "start_time": "2024-09-05T13:38:07.403Z"
   },
   {
    "duration": 4,
    "start_time": "2024-09-05T13:38:07.640Z"
   },
   {
    "duration": 328,
    "start_time": "2024-09-05T13:38:07.645Z"
   },
   {
    "duration": 5,
    "start_time": "2024-09-05T13:38:07.976Z"
   },
   {
    "duration": 132,
    "start_time": "2024-09-05T13:38:07.983Z"
   },
   {
    "duration": 0,
    "start_time": "2024-09-05T13:38:08.116Z"
   },
   {
    "duration": 0,
    "start_time": "2024-09-05T13:38:08.117Z"
   },
   {
    "duration": 0,
    "start_time": "2024-09-05T13:38:08.118Z"
   },
   {
    "duration": 0,
    "start_time": "2024-09-05T13:38:08.119Z"
   },
   {
    "duration": 0,
    "start_time": "2024-09-05T13:38:08.120Z"
   },
   {
    "duration": 0,
    "start_time": "2024-09-05T13:38:08.121Z"
   },
   {
    "duration": 0,
    "start_time": "2024-09-05T13:38:08.121Z"
   },
   {
    "duration": 0,
    "start_time": "2024-09-05T13:38:08.122Z"
   },
   {
    "duration": 0,
    "start_time": "2024-09-05T13:38:08.123Z"
   },
   {
    "duration": 0,
    "start_time": "2024-09-05T13:38:08.124Z"
   },
   {
    "duration": 11,
    "start_time": "2024-09-05T13:38:42.008Z"
   },
   {
    "duration": 3,
    "start_time": "2024-09-05T13:39:08.338Z"
   },
   {
    "duration": 10,
    "start_time": "2024-09-05T13:39:08.795Z"
   },
   {
    "duration": 2,
    "start_time": "2024-09-05T13:39:22.220Z"
   },
   {
    "duration": 2,
    "start_time": "2024-09-05T13:39:22.593Z"
   },
   {
    "duration": 10,
    "start_time": "2024-09-05T13:39:23.185Z"
   },
   {
    "duration": 23,
    "start_time": "2024-09-05T13:39:24.532Z"
   },
   {
    "duration": 5,
    "start_time": "2024-09-05T13:39:27.491Z"
   },
   {
    "duration": 2,
    "start_time": "2024-09-05T13:39:29.602Z"
   },
   {
    "duration": 8,
    "start_time": "2024-09-05T13:39:31.483Z"
   },
   {
    "duration": 4,
    "start_time": "2024-09-05T13:39:31.881Z"
   },
   {
    "duration": 6,
    "start_time": "2024-09-05T13:39:33.437Z"
   },
   {
    "duration": 7,
    "start_time": "2024-09-05T13:39:35.679Z"
   },
   {
    "duration": 3,
    "start_time": "2024-09-05T13:40:43.810Z"
   },
   {
    "duration": 6716,
    "start_time": "2024-09-05T13:40:45.448Z"
   },
   {
    "duration": 6,
    "start_time": "2024-09-05T13:40:54.923Z"
   },
   {
    "duration": 5728,
    "start_time": "2024-09-05T13:40:59.340Z"
   },
   {
    "duration": 6,
    "start_time": "2024-09-05T13:41:07.392Z"
   },
   {
    "duration": 6204,
    "start_time": "2024-09-05T13:41:17.161Z"
   },
   {
    "duration": 5780,
    "start_time": "2024-09-05T13:41:27.480Z"
   },
   {
    "duration": 5996,
    "start_time": "2024-09-05T13:41:37.674Z"
   },
   {
    "duration": 7,
    "start_time": "2024-09-05T13:41:51.754Z"
   },
   {
    "duration": 6,
    "start_time": "2024-09-05T13:42:00.155Z"
   },
   {
    "duration": 8,
    "start_time": "2024-09-05T13:42:58.382Z"
   },
   {
    "duration": 3,
    "start_time": "2024-09-05T13:42:59.900Z"
   },
   {
    "duration": 4,
    "start_time": "2024-09-05T13:43:18.020Z"
   },
   {
    "duration": 7,
    "start_time": "2024-09-05T13:43:23.288Z"
   },
   {
    "duration": 3,
    "start_time": "2024-09-05T13:43:26.300Z"
   },
   {
    "duration": 7172,
    "start_time": "2024-09-05T13:43:27.779Z"
   },
   {
    "duration": 3,
    "start_time": "2024-09-05T13:43:49.590Z"
   },
   {
    "duration": 7677,
    "start_time": "2024-09-05T13:43:50.883Z"
   },
   {
    "duration": 3,
    "start_time": "2024-09-05T13:44:03.950Z"
   },
   {
    "duration": 7686,
    "start_time": "2024-09-05T13:44:04.476Z"
   },
   {
    "duration": 9,
    "start_time": "2024-09-05T13:48:32.371Z"
   },
   {
    "duration": 8,
    "start_time": "2024-09-05T13:48:51.539Z"
   },
   {
    "duration": 3,
    "start_time": "2024-09-05T13:49:11.471Z"
   },
   {
    "duration": 5,
    "start_time": "2024-09-05T13:49:13.507Z"
   },
   {
    "duration": 5,
    "start_time": "2024-09-05T13:49:15.332Z"
   },
   {
    "duration": 3,
    "start_time": "2024-09-05T13:49:17.403Z"
   },
   {
    "duration": 6073,
    "start_time": "2024-09-05T13:49:19.188Z"
   },
   {
    "duration": 6,
    "start_time": "2024-09-05T13:49:28.618Z"
   },
   {
    "duration": 5,
    "start_time": "2024-09-05T13:49:51.597Z"
   },
   {
    "duration": 6,
    "start_time": "2024-09-05T13:49:52.621Z"
   },
   {
    "duration": 4,
    "start_time": "2024-09-05T13:49:52.855Z"
   },
   {
    "duration": 3,
    "start_time": "2024-09-05T13:49:53.053Z"
   },
   {
    "duration": 5,
    "start_time": "2024-09-05T13:49:53.331Z"
   },
   {
    "duration": 7,
    "start_time": "2024-09-05T13:49:54.016Z"
   },
   {
    "duration": 3,
    "start_time": "2024-09-05T13:49:55.419Z"
   },
   {
    "duration": 5760,
    "start_time": "2024-09-05T13:49:56.011Z"
   },
   {
    "duration": 7,
    "start_time": "2024-09-05T13:50:03.362Z"
   },
   {
    "duration": 5771,
    "start_time": "2024-09-05T13:50:07.884Z"
   },
   {
    "duration": 9,
    "start_time": "2024-09-05T15:02:51.939Z"
   },
   {
    "duration": 3,
    "start_time": "2024-09-05T15:07:34.928Z"
   },
   {
    "duration": 6,
    "start_time": "2024-09-05T15:07:37.958Z"
   },
   {
    "duration": 7,
    "start_time": "2024-09-05T15:07:39.235Z"
   },
   {
    "duration": 2,
    "start_time": "2024-09-05T15:07:42.229Z"
   },
   {
    "duration": 6411,
    "start_time": "2024-09-05T15:07:43.251Z"
   },
   {
    "duration": 6072,
    "start_time": "2024-09-05T15:07:52.683Z"
   },
   {
    "duration": 374,
    "start_time": "2024-09-05T15:08:44.082Z"
   },
   {
    "duration": 378,
    "start_time": "2024-09-05T15:09:07.494Z"
   },
   {
    "duration": 2490,
    "start_time": "2024-09-11T07:17:51.086Z"
   },
   {
    "duration": 72,
    "start_time": "2024-09-11T07:17:53.579Z"
   },
   {
    "duration": 3,
    "start_time": "2024-09-11T07:17:53.654Z"
   },
   {
    "duration": 52,
    "start_time": "2024-09-11T07:17:53.658Z"
   },
   {
    "duration": 10,
    "start_time": "2024-09-11T07:17:53.716Z"
   },
   {
    "duration": 36,
    "start_time": "2024-09-11T07:17:53.728Z"
   },
   {
    "duration": 94,
    "start_time": "2024-09-11T07:17:53.765Z"
   },
   {
    "duration": 28,
    "start_time": "2024-09-11T07:17:53.861Z"
   },
   {
    "duration": 24,
    "start_time": "2024-09-11T07:17:53.891Z"
   },
   {
    "duration": 14,
    "start_time": "2024-09-11T07:17:53.917Z"
   },
   {
    "duration": 389,
    "start_time": "2024-09-11T07:17:53.933Z"
   },
   {
    "duration": 5,
    "start_time": "2024-09-11T07:17:54.324Z"
   },
   {
    "duration": 628,
    "start_time": "2024-09-11T07:17:54.331Z"
   },
   {
    "duration": 3,
    "start_time": "2024-09-11T07:17:54.962Z"
   },
   {
    "duration": 31,
    "start_time": "2024-09-11T07:17:54.967Z"
   },
   {
    "duration": 31,
    "start_time": "2024-09-11T07:17:54.999Z"
   },
   {
    "duration": 35,
    "start_time": "2024-09-11T07:17:55.032Z"
   },
   {
    "duration": 8,
    "start_time": "2024-09-11T07:17:55.068Z"
   },
   {
    "duration": 5,
    "start_time": "2024-09-11T07:17:55.077Z"
   },
   {
    "duration": 18,
    "start_time": "2024-09-11T07:17:55.083Z"
   },
   {
    "duration": 24,
    "start_time": "2024-09-11T07:17:55.103Z"
   },
   {
    "duration": 17,
    "start_time": "2024-09-11T07:17:55.128Z"
   },
   {
    "duration": 6,
    "start_time": "2024-09-11T07:17:55.147Z"
   },
   {
    "duration": 13272,
    "start_time": "2024-09-11T07:17:55.155Z"
   },
   {
    "duration": 8,
    "start_time": "2024-09-11T07:38:14.470Z"
   },
   {
    "duration": 50,
    "start_time": "2024-09-11T10:43:02.809Z"
   },
   {
    "duration": 2001,
    "start_time": "2024-09-11T10:43:06.566Z"
   },
   {
    "duration": 85,
    "start_time": "2024-09-11T10:43:08.569Z"
   },
   {
    "duration": 3,
    "start_time": "2024-09-11T10:43:08.655Z"
   },
   {
    "duration": 42,
    "start_time": "2024-09-11T10:43:08.660Z"
   },
   {
    "duration": 5,
    "start_time": "2024-09-11T10:43:08.704Z"
   },
   {
    "duration": 11,
    "start_time": "2024-09-11T10:43:08.711Z"
   },
   {
    "duration": 13,
    "start_time": "2024-09-11T10:43:08.723Z"
   },
   {
    "duration": 4,
    "start_time": "2024-09-11T10:43:08.737Z"
   },
   {
    "duration": 29,
    "start_time": "2024-09-11T10:43:08.742Z"
   },
   {
    "duration": 67,
    "start_time": "2024-09-11T10:43:08.773Z"
   },
   {
    "duration": 261,
    "start_time": "2024-09-11T10:43:08.841Z"
   },
   {
    "duration": 4,
    "start_time": "2024-09-11T10:43:09.103Z"
   },
   {
    "duration": 504,
    "start_time": "2024-09-11T10:43:09.108Z"
   },
   {
    "duration": 11,
    "start_time": "2024-09-11T10:43:09.615Z"
   },
   {
    "duration": 6,
    "start_time": "2024-09-11T10:43:09.628Z"
   },
   {
    "duration": 11,
    "start_time": "2024-09-11T10:43:09.635Z"
   },
   {
    "duration": 24,
    "start_time": "2024-09-11T10:43:09.647Z"
   },
   {
    "duration": 6,
    "start_time": "2024-09-11T10:43:09.672Z"
   },
   {
    "duration": 8,
    "start_time": "2024-09-11T10:43:09.679Z"
   },
   {
    "duration": 12,
    "start_time": "2024-09-11T10:43:09.689Z"
   },
   {
    "duration": 24,
    "start_time": "2024-09-11T10:43:09.702Z"
   },
   {
    "duration": 6,
    "start_time": "2024-09-11T10:43:09.728Z"
   },
   {
    "duration": 3,
    "start_time": "2024-09-11T10:43:09.736Z"
   },
   {
    "duration": 8702,
    "start_time": "2024-09-11T10:43:09.740Z"
   },
   {
    "duration": 149,
    "start_time": "2024-09-11T10:44:52.473Z"
   },
   {
    "duration": 6,
    "start_time": "2024-09-11T10:45:14.287Z"
   },
   {
    "duration": 16,
    "start_time": "2024-09-11T10:48:06.224Z"
   },
   {
    "duration": 6,
    "start_time": "2024-09-11T10:49:27.998Z"
   },
   {
    "duration": 135,
    "start_time": "2024-09-11T10:49:32.817Z"
   },
   {
    "duration": 119,
    "start_time": "2024-09-11T10:49:42.571Z"
   },
   {
    "duration": 136,
    "start_time": "2024-09-11T10:49:55.386Z"
   },
   {
    "duration": 133,
    "start_time": "2024-09-11T10:50:38.904Z"
   },
   {
    "duration": 138,
    "start_time": "2024-09-11T10:50:44.118Z"
   },
   {
    "duration": 338,
    "start_time": "2024-09-11T10:51:15.212Z"
   },
   {
    "duration": 144,
    "start_time": "2024-09-11T10:51:24.572Z"
   },
   {
    "duration": 197,
    "start_time": "2024-09-11T10:51:38.144Z"
   },
   {
    "duration": 175,
    "start_time": "2024-09-11T10:51:45.490Z"
   },
   {
    "duration": 199,
    "start_time": "2024-09-11T10:51:57.634Z"
   },
   {
    "duration": 263,
    "start_time": "2024-09-11T10:52:04.477Z"
   },
   {
    "duration": 371,
    "start_time": "2024-09-11T10:52:12.425Z"
   },
   {
    "duration": 228,
    "start_time": "2024-09-11T10:52:25.062Z"
   },
   {
    "duration": 157,
    "start_time": "2024-09-11T10:52:36.646Z"
   },
   {
    "duration": 29,
    "start_time": "2024-09-11T10:59:45.132Z"
   },
   {
    "duration": 9,
    "start_time": "2024-09-11T10:59:45.696Z"
   },
   {
    "duration": 30,
    "start_time": "2024-09-11T10:59:49.365Z"
   },
   {
    "duration": 4,
    "start_time": "2024-09-11T10:59:49.709Z"
   },
   {
    "duration": 30,
    "start_time": "2024-09-11T10:59:50.001Z"
   },
   {
    "duration": 8,
    "start_time": "2024-09-11T10:59:50.560Z"
   },
   {
    "duration": 12,
    "start_time": "2024-09-11T10:59:51.518Z"
   },
   {
    "duration": 8,
    "start_time": "2024-09-11T10:59:52.139Z"
   },
   {
    "duration": 7,
    "start_time": "2024-09-11T10:59:53.174Z"
   },
   {
    "duration": 10,
    "start_time": "2024-09-11T10:59:54.068Z"
   },
   {
    "duration": 7,
    "start_time": "2024-09-11T10:59:54.468Z"
   },
   {
    "duration": 214,
    "start_time": "2024-09-11T10:59:55.547Z"
   },
   {
    "duration": 5,
    "start_time": "2024-09-11T10:59:58.683Z"
   },
   {
    "duration": 400,
    "start_time": "2024-09-11T10:59:59.086Z"
   },
   {
    "duration": 162,
    "start_time": "2024-09-11T11:00:20.802Z"
   },
   {
    "duration": 156,
    "start_time": "2024-09-11T11:00:25.163Z"
   },
   {
    "duration": 4,
    "start_time": "2024-09-11T11:09:03.555Z"
   },
   {
    "duration": 6,
    "start_time": "2024-09-11T11:09:03.861Z"
   },
   {
    "duration": 7,
    "start_time": "2024-09-11T11:09:04.397Z"
   },
   {
    "duration": 3,
    "start_time": "2024-09-11T11:09:05.547Z"
   },
   {
    "duration": 8950,
    "start_time": "2024-09-11T11:09:07.198Z"
   },
   {
    "duration": 8414,
    "start_time": "2024-09-11T11:09:18.040Z"
   },
   {
    "duration": 8839,
    "start_time": "2024-09-11T11:09:27.399Z"
   },
   {
    "duration": 9168,
    "start_time": "2024-09-11T11:09:38.261Z"
   },
   {
    "duration": 4,
    "start_time": "2024-09-11T11:10:04.114Z"
   },
   {
    "duration": 6,
    "start_time": "2024-09-11T11:10:04.415Z"
   },
   {
    "duration": 6,
    "start_time": "2024-09-11T11:10:04.890Z"
   },
   {
    "duration": 4,
    "start_time": "2024-09-11T11:10:11.719Z"
   },
   {
    "duration": 966,
    "start_time": "2024-09-11T11:10:12.869Z"
   },
   {
    "duration": 898,
    "start_time": "2024-09-11T11:10:16.941Z"
   },
   {
    "duration": 1298,
    "start_time": "2024-09-11T11:10:18.536Z"
   },
   {
    "duration": 977,
    "start_time": "2024-09-11T11:10:20.151Z"
   },
   {
    "duration": 840,
    "start_time": "2024-09-11T11:10:21.605Z"
   },
   {
    "duration": 971,
    "start_time": "2024-09-11T11:10:22.968Z"
   },
   {
    "duration": 1017,
    "start_time": "2024-09-11T11:10:30.027Z"
   },
   {
    "duration": 7,
    "start_time": "2024-09-11T11:11:18.689Z"
   },
   {
    "duration": 7,
    "start_time": "2024-09-11T11:11:33.056Z"
   },
   {
    "duration": 4,
    "start_time": "2024-09-11T11:11:37.054Z"
   },
   {
    "duration": 7,
    "start_time": "2024-09-11T11:11:38.944Z"
   },
   {
    "duration": 139,
    "start_time": "2024-09-11T11:11:40.841Z"
   },
   {
    "duration": 6,
    "start_time": "2024-09-11T11:11:53.595Z"
   },
   {
    "duration": 14,
    "start_time": "2024-09-11T11:11:56.120Z"
   },
   {
    "duration": 5,
    "start_time": "2024-09-11T11:16:57.238Z"
   },
   {
    "duration": 13,
    "start_time": "2024-09-11T11:16:58.828Z"
   },
   {
    "duration": 4,
    "start_time": "2024-09-11T11:17:07.414Z"
   },
   {
    "duration": 3,
    "start_time": "2024-09-11T11:17:09.118Z"
   },
   {
    "duration": 7,
    "start_time": "2024-09-11T11:17:11.086Z"
   },
   {
    "duration": 7,
    "start_time": "2024-09-11T11:17:12.778Z"
   },
   {
    "duration": 3,
    "start_time": "2024-09-11T11:17:15.910Z"
   },
   {
    "duration": 737,
    "start_time": "2024-09-11T11:17:18.399Z"
   },
   {
    "duration": 889,
    "start_time": "2024-09-11T11:17:22.836Z"
   },
   {
    "duration": 3,
    "start_time": "2024-09-11T11:17:31.722Z"
   },
   {
    "duration": 7049,
    "start_time": "2024-09-11T11:17:32.294Z"
   },
   {
    "duration": 6775,
    "start_time": "2024-09-11T11:17:41.767Z"
   },
   {
    "duration": 3,
    "start_time": "2024-09-11T11:19:46.114Z"
   },
   {
    "duration": 6,
    "start_time": "2024-09-11T11:19:48.121Z"
   },
   {
    "duration": 20,
    "start_time": "2024-09-11T11:19:49.119Z"
   },
   {
    "duration": 4,
    "start_time": "2024-09-11T11:20:04.217Z"
   },
   {
    "duration": 6,
    "start_time": "2024-09-11T11:20:07.073Z"
   },
   {
    "duration": 8,
    "start_time": "2024-09-11T11:20:07.703Z"
   },
   {
    "duration": 3,
    "start_time": "2024-09-11T11:20:11.897Z"
   },
   {
    "duration": 6973,
    "start_time": "2024-09-11T11:20:12.880Z"
   },
   {
    "duration": 7359,
    "start_time": "2024-09-11T11:20:49.184Z"
   },
   {
    "duration": 7011,
    "start_time": "2024-09-11T11:21:33.429Z"
   },
   {
    "duration": 71319,
    "start_time": "2024-09-11T11:21:49.622Z"
   },
   {
    "duration": 14414,
    "start_time": "2024-09-11T11:23:38.934Z"
   },
   {
    "duration": 14056,
    "start_time": "2024-09-11T13:31:47.486Z"
   },
   {
    "duration": 8910,
    "start_time": "2024-09-11T13:32:05.126Z"
   },
   {
    "duration": 9895,
    "start_time": "2024-09-11T13:32:34.346Z"
   },
   {
    "duration": 9457,
    "start_time": "2024-09-11T13:33:14.487Z"
   },
   {
    "duration": 7,
    "start_time": "2024-09-11T13:33:39.351Z"
   },
   {
    "duration": 9600,
    "start_time": "2024-09-11T13:33:52.536Z"
   },
   {
    "duration": 9529,
    "start_time": "2024-09-11T13:34:38.200Z"
   },
   {
    "duration": 7,
    "start_time": "2024-09-11T13:35:19.502Z"
   },
   {
    "duration": 8993,
    "start_time": "2024-09-11T13:35:36.050Z"
   },
   {
    "duration": 3,
    "start_time": "2024-09-11T13:51:55.592Z"
   },
   {
    "duration": 2,
    "start_time": "2024-09-11T13:52:23.601Z"
   },
   {
    "duration": 17,
    "start_time": "2024-09-11T13:53:28.902Z"
   },
   {
    "duration": 3,
    "start_time": "2024-09-11T13:53:44.394Z"
   },
   {
    "duration": 3,
    "start_time": "2024-09-11T13:53:44.932Z"
   },
   {
    "duration": 3,
    "start_time": "2024-09-11T13:53:45.311Z"
   },
   {
    "duration": 13,
    "start_time": "2024-09-11T13:53:49.529Z"
   },
   {
    "duration": 26,
    "start_time": "2024-09-11T13:53:52.422Z"
   },
   {
    "duration": 6,
    "start_time": "2024-09-11T13:53:58.401Z"
   },
   {
    "duration": 6,
    "start_time": "2024-09-11T13:54:07.962Z"
   },
   {
    "duration": 9260,
    "start_time": "2024-09-11T13:54:21.485Z"
   },
   {
    "duration": 2005,
    "start_time": "2024-09-13T12:12:35.990Z"
   },
   {
    "duration": 85,
    "start_time": "2024-09-13T12:12:37.997Z"
   },
   {
    "duration": 3,
    "start_time": "2024-09-13T12:12:38.084Z"
   },
   {
    "duration": 39,
    "start_time": "2024-09-13T12:12:38.089Z"
   },
   {
    "duration": 6,
    "start_time": "2024-09-13T12:12:38.129Z"
   },
   {
    "duration": 9,
    "start_time": "2024-09-13T12:12:38.136Z"
   },
   {
    "duration": 4,
    "start_time": "2024-09-13T12:12:38.147Z"
   },
   {
    "duration": 5,
    "start_time": "2024-09-13T12:12:38.152Z"
   },
   {
    "duration": 18,
    "start_time": "2024-09-13T12:12:38.158Z"
   },
   {
    "duration": 5,
    "start_time": "2024-09-13T12:12:38.178Z"
   },
   {
    "duration": 224,
    "start_time": "2024-09-13T12:12:38.184Z"
   },
   {
    "duration": 4,
    "start_time": "2024-09-13T12:12:38.410Z"
   },
   {
    "duration": 389,
    "start_time": "2024-09-13T12:12:38.416Z"
   },
   {
    "duration": 168,
    "start_time": "2024-09-13T12:12:38.807Z"
   },
   {
    "duration": 149,
    "start_time": "2024-09-13T12:12:38.976Z"
   },
   {
    "duration": 3,
    "start_time": "2024-09-13T12:12:39.126Z"
   },
   {
    "duration": 17,
    "start_time": "2024-09-13T12:12:39.130Z"
   },
   {
    "duration": 15,
    "start_time": "2024-09-13T12:12:39.148Z"
   },
   {
    "duration": 26,
    "start_time": "2024-09-13T12:12:39.164Z"
   },
   {
    "duration": 6,
    "start_time": "2024-09-13T12:12:39.191Z"
   },
   {
    "duration": 4,
    "start_time": "2024-09-13T12:12:39.198Z"
   },
   {
    "duration": 23,
    "start_time": "2024-09-13T12:12:39.204Z"
   },
   {
    "duration": 19,
    "start_time": "2024-09-13T12:12:39.229Z"
   },
   {
    "duration": 5,
    "start_time": "2024-09-13T12:12:39.250Z"
   },
   {
    "duration": 20,
    "start_time": "2024-09-13T12:12:39.256Z"
   },
   {
    "duration": 7,
    "start_time": "2024-09-13T12:12:39.277Z"
   },
   {
    "duration": 3,
    "start_time": "2024-09-13T12:12:39.285Z"
   },
   {
    "duration": 7072,
    "start_time": "2024-09-13T12:12:39.291Z"
   },
   {
    "duration": 8390,
    "start_time": "2024-09-13T12:12:46.364Z"
   },
   {
    "duration": 4,
    "start_time": "2024-09-13T12:12:59.552Z"
   },
   {
    "duration": 7,
    "start_time": "2024-09-13T12:13:06.306Z"
   },
   {
    "duration": 8250,
    "start_time": "2024-09-13T12:13:18.918Z"
   },
   {
    "duration": 28,
    "start_time": "2024-09-13T13:24:51.559Z"
   },
   {
    "duration": 3,
    "start_time": "2024-09-13T13:24:51.992Z"
   },
   {
    "duration": 28,
    "start_time": "2024-09-13T13:24:53.087Z"
   },
   {
    "duration": 6,
    "start_time": "2024-09-13T13:24:56.048Z"
   },
   {
    "duration": 7,
    "start_time": "2024-09-13T13:24:57.739Z"
   },
   {
    "duration": 6,
    "start_time": "2024-09-13T13:24:59.144Z"
   },
   {
    "duration": 5,
    "start_time": "2024-09-13T13:25:08.108Z"
   },
   {
    "duration": 5,
    "start_time": "2024-09-13T13:25:11.239Z"
   },
   {
    "duration": 261,
    "start_time": "2024-09-13T13:25:18.815Z"
   },
   {
    "duration": 4,
    "start_time": "2024-09-13T13:25:24.482Z"
   },
   {
    "duration": 382,
    "start_time": "2024-09-13T13:25:25.261Z"
   },
   {
    "duration": 248,
    "start_time": "2024-09-13T13:25:29.637Z"
   },
   {
    "duration": 135,
    "start_time": "2024-09-13T13:25:31.330Z"
   },
   {
    "duration": 3,
    "start_time": "2024-09-13T13:25:35.338Z"
   },
   {
    "duration": 3,
    "start_time": "2024-09-13T13:25:35.738Z"
   },
   {
    "duration": 11,
    "start_time": "2024-09-13T13:25:36.303Z"
   },
   {
    "duration": 33,
    "start_time": "2024-09-13T13:25:38.077Z"
   },
   {
    "duration": 7,
    "start_time": "2024-09-13T13:25:46.109Z"
   },
   {
    "duration": 3,
    "start_time": "2024-09-13T13:25:46.898Z"
   },
   {
    "duration": 5,
    "start_time": "2024-09-13T13:25:48.203Z"
   },
   {
    "duration": 8729,
    "start_time": "2024-09-13T13:26:02.428Z"
   },
   {
    "duration": 8487,
    "start_time": "2024-09-13T13:26:14.771Z"
   },
   {
    "duration": 8893,
    "start_time": "2024-09-13T13:26:30.062Z"
   },
   {
    "duration": 1874,
    "start_time": "2024-09-13T13:51:21.593Z"
   },
   {
    "duration": 29,
    "start_time": "2024-09-13T13:51:23.470Z"
   },
   {
    "duration": 2,
    "start_time": "2024-09-13T13:51:23.501Z"
   },
   {
    "duration": 24,
    "start_time": "2024-09-13T13:51:23.505Z"
   },
   {
    "duration": 5,
    "start_time": "2024-09-13T13:51:23.530Z"
   },
   {
    "duration": 8,
    "start_time": "2024-09-13T13:51:23.537Z"
   },
   {
    "duration": 12,
    "start_time": "2024-09-13T13:51:23.547Z"
   },
   {
    "duration": 6,
    "start_time": "2024-09-13T13:51:23.560Z"
   },
   {
    "duration": 7,
    "start_time": "2024-09-13T13:51:23.567Z"
   },
   {
    "duration": 5,
    "start_time": "2024-09-13T13:51:23.577Z"
   },
   {
    "duration": 240,
    "start_time": "2024-09-13T13:51:23.583Z"
   },
   {
    "duration": 4,
    "start_time": "2024-09-13T13:51:23.824Z"
   },
   {
    "duration": 400,
    "start_time": "2024-09-13T13:51:23.830Z"
   },
   {
    "duration": 164,
    "start_time": "2024-09-13T13:51:24.232Z"
   },
   {
    "duration": 156,
    "start_time": "2024-09-13T13:51:24.397Z"
   },
   {
    "duration": 2,
    "start_time": "2024-09-13T13:51:24.555Z"
   },
   {
    "duration": 14,
    "start_time": "2024-09-13T13:51:24.559Z"
   },
   {
    "duration": 13,
    "start_time": "2024-09-13T13:51:24.574Z"
   },
   {
    "duration": 26,
    "start_time": "2024-09-13T13:51:24.588Z"
   },
   {
    "duration": 6,
    "start_time": "2024-09-13T13:51:24.615Z"
   },
   {
    "duration": 3,
    "start_time": "2024-09-13T13:51:24.622Z"
   },
   {
    "duration": 26,
    "start_time": "2024-09-13T13:51:24.627Z"
   },
   {
    "duration": 5,
    "start_time": "2024-09-13T13:51:24.655Z"
   },
   {
    "duration": 5,
    "start_time": "2024-09-13T13:51:24.661Z"
   },
   {
    "duration": 7,
    "start_time": "2024-09-13T13:51:24.668Z"
   },
   {
    "duration": 14,
    "start_time": "2024-09-13T13:51:24.676Z"
   },
   {
    "duration": 2,
    "start_time": "2024-09-13T13:51:24.692Z"
   },
   {
    "duration": 6869,
    "start_time": "2024-09-13T13:51:24.697Z"
   },
   {
    "duration": 8404,
    "start_time": "2024-09-13T13:51:31.568Z"
   },
   {
    "duration": 10867,
    "start_time": "2024-09-13T14:16:36.594Z"
   },
   {
    "duration": 9993,
    "start_time": "2024-09-13T14:16:57.359Z"
   },
   {
    "duration": 9487,
    "start_time": "2024-09-13T14:17:09.277Z"
   },
   {
    "duration": 1940,
    "start_time": "2024-09-17T08:06:12.837Z"
   },
   {
    "duration": 98,
    "start_time": "2024-09-17T08:06:14.779Z"
   },
   {
    "duration": 3,
    "start_time": "2024-09-17T08:06:14.878Z"
   },
   {
    "duration": 35,
    "start_time": "2024-09-17T08:06:14.883Z"
   },
   {
    "duration": 5,
    "start_time": "2024-09-17T08:06:14.919Z"
   },
   {
    "duration": 16,
    "start_time": "2024-09-17T08:06:14.925Z"
   },
   {
    "duration": 5,
    "start_time": "2024-09-17T08:06:14.942Z"
   },
   {
    "duration": 9,
    "start_time": "2024-09-17T08:06:14.949Z"
   },
   {
    "duration": 11,
    "start_time": "2024-09-17T08:06:14.959Z"
   },
   {
    "duration": 7,
    "start_time": "2024-09-17T08:06:14.973Z"
   },
   {
    "duration": 220,
    "start_time": "2024-09-17T08:06:14.981Z"
   },
   {
    "duration": 3,
    "start_time": "2024-09-17T08:06:15.203Z"
   },
   {
    "duration": 376,
    "start_time": "2024-09-17T08:06:15.208Z"
   },
   {
    "duration": 161,
    "start_time": "2024-09-17T08:06:15.589Z"
   },
   {
    "duration": 142,
    "start_time": "2024-09-17T08:06:15.751Z"
   },
   {
    "duration": 3,
    "start_time": "2024-09-17T08:06:15.894Z"
   },
   {
    "duration": 41,
    "start_time": "2024-09-17T08:06:15.898Z"
   },
   {
    "duration": 37,
    "start_time": "2024-09-17T08:06:15.941Z"
   },
   {
    "duration": 26,
    "start_time": "2024-09-17T08:06:15.980Z"
   },
   {
    "duration": 21,
    "start_time": "2024-09-17T08:06:16.007Z"
   },
   {
    "duration": 24,
    "start_time": "2024-09-17T08:06:16.029Z"
   },
   {
    "duration": 20,
    "start_time": "2024-09-17T08:06:16.054Z"
   },
   {
    "duration": 20,
    "start_time": "2024-09-17T08:06:16.076Z"
   },
   {
    "duration": 23,
    "start_time": "2024-09-17T08:06:16.097Z"
   },
   {
    "duration": 21,
    "start_time": "2024-09-17T08:06:16.122Z"
   },
   {
    "duration": 15,
    "start_time": "2024-09-17T08:06:16.144Z"
   },
   {
    "duration": 12,
    "start_time": "2024-09-17T08:06:16.160Z"
   },
   {
    "duration": 6324,
    "start_time": "2024-09-17T08:06:16.175Z"
   },
   {
    "duration": 9391,
    "start_time": "2024-09-17T08:06:22.500Z"
   },
   {
    "duration": 923,
    "start_time": "2024-09-17T08:06:40.683Z"
   },
   {
    "duration": 907,
    "start_time": "2024-09-17T08:06:46.511Z"
   },
   {
    "duration": 1196,
    "start_time": "2024-09-17T08:06:48.313Z"
   },
   {
    "duration": 974,
    "start_time": "2024-09-17T08:06:50.229Z"
   },
   {
    "duration": 1031,
    "start_time": "2024-09-17T08:06:52.162Z"
   },
   {
    "duration": 829,
    "start_time": "2024-09-17T13:36:56.780Z"
   },
   {
    "duration": 5,
    "start_time": "2024-09-17T14:15:52.197Z"
   },
   {
    "duration": 127,
    "start_time": "2024-09-17T14:16:05.723Z"
   },
   {
    "duration": 9,
    "start_time": "2024-09-17T14:18:15.339Z"
   },
   {
    "duration": 9,
    "start_time": "2024-09-17T14:18:25.683Z"
   },
   {
    "duration": 188,
    "start_time": "2024-09-17T14:19:47.503Z"
   },
   {
    "duration": 49,
    "start_time": "2024-09-17T14:24:19.481Z"
   },
   {
    "duration": 21,
    "start_time": "2024-09-17T14:24:27.550Z"
   },
   {
    "duration": 17,
    "start_time": "2024-09-17T14:28:57.723Z"
   },
   {
    "duration": 17,
    "start_time": "2024-09-17T14:29:10.282Z"
   },
   {
    "duration": 6,
    "start_time": "2024-09-17T14:29:21.720Z"
   },
   {
    "duration": 5,
    "start_time": "2024-09-17T14:29:26.851Z"
   },
   {
    "duration": 5,
    "start_time": "2024-09-17T14:29:31.081Z"
   },
   {
    "duration": 4,
    "start_time": "2024-09-17T14:29:37.846Z"
   },
   {
    "duration": 7,
    "start_time": "2024-09-17T14:29:43.899Z"
   },
   {
    "duration": 5,
    "start_time": "2024-09-17T14:29:48.129Z"
   },
   {
    "duration": 13,
    "start_time": "2024-09-17T14:34:00.341Z"
   },
   {
    "duration": 14,
    "start_time": "2024-09-17T14:34:17.352Z"
   },
   {
    "duration": 5,
    "start_time": "2024-09-17T14:34:36.755Z"
   },
   {
    "duration": 4,
    "start_time": "2024-09-17T14:34:42.657Z"
   },
   {
    "duration": 5,
    "start_time": "2024-09-17T14:34:48.279Z"
   },
   {
    "duration": 5,
    "start_time": "2024-09-17T14:34:51.328Z"
   },
   {
    "duration": 16,
    "start_time": "2024-09-17T14:35:15.010Z"
   },
   {
    "duration": 5,
    "start_time": "2024-09-17T14:35:55.866Z"
   },
   {
    "duration": 148,
    "start_time": "2024-09-17T14:36:03.962Z"
   },
   {
    "duration": 946,
    "start_time": "2024-09-17T14:36:14.492Z"
   },
   {
    "duration": 878,
    "start_time": "2024-09-17T14:36:30.411Z"
   },
   {
    "duration": 878,
    "start_time": "2024-09-17T14:36:35.271Z"
   },
   {
    "duration": 9357,
    "start_time": "2024-09-17T14:36:57.637Z"
   },
   {
    "duration": 886,
    "start_time": "2024-09-17T14:37:18.970Z"
   },
   {
    "duration": 27920,
    "start_time": "2024-09-17T14:38:00.204Z"
   },
   {
    "duration": 8812,
    "start_time": "2024-09-18T08:13:12.196Z"
   },
   {
    "duration": 2073,
    "start_time": "2024-09-25T10:38:56.283Z"
   },
   {
    "duration": 99,
    "start_time": "2024-09-25T10:38:58.821Z"
   },
   {
    "duration": 3,
    "start_time": "2024-09-25T10:38:59.434Z"
   },
   {
    "duration": 23,
    "start_time": "2024-09-25T10:38:59.886Z"
   },
   {
    "duration": 6,
    "start_time": "2024-09-25T10:39:00.308Z"
   },
   {
    "duration": 8,
    "start_time": "2024-09-25T10:39:00.797Z"
   },
   {
    "duration": 6,
    "start_time": "2024-09-25T10:39:02.150Z"
   },
   {
    "duration": 4,
    "start_time": "2024-09-25T10:39:03.188Z"
   },
   {
    "duration": 8,
    "start_time": "2024-09-25T10:39:03.549Z"
   },
   {
    "duration": 6,
    "start_time": "2024-09-25T10:39:03.976Z"
   },
   {
    "duration": 256,
    "start_time": "2024-09-25T10:39:57.188Z"
   },
   {
    "duration": 3,
    "start_time": "2024-09-25T10:40:24.334Z"
   },
   {
    "duration": 2,
    "start_time": "2024-09-25T10:40:25.214Z"
   },
   {
    "duration": 13,
    "start_time": "2024-09-25T10:40:25.829Z"
   },
   {
    "duration": 25,
    "start_time": "2024-09-25T10:40:27.735Z"
   },
   {
    "duration": 7,
    "start_time": "2024-09-25T10:40:31.682Z"
   },
   {
    "duration": 3,
    "start_time": "2024-09-25T10:40:34.770Z"
   },
   {
    "duration": 5,
    "start_time": "2024-09-25T10:40:35.318Z"
   },
   {
    "duration": 3,
    "start_time": "2024-09-25T10:40:35.730Z"
   },
   {
    "duration": 4,
    "start_time": "2024-09-25T10:40:36.166Z"
   },
   {
    "duration": 7,
    "start_time": "2024-09-25T10:40:36.676Z"
   },
   {
    "duration": 7,
    "start_time": "2024-09-25T10:40:38.747Z"
   },
   {
    "duration": 3,
    "start_time": "2024-09-25T10:40:41.469Z"
   },
   {
    "duration": 7162,
    "start_time": "2024-09-25T10:40:43.575Z"
   },
   {
    "duration": 9406,
    "start_time": "2024-09-25T10:40:55.118Z"
   },
   {
    "duration": 192,
    "start_time": "2024-09-25T10:41:09.570Z"
   },
   {
    "duration": 895,
    "start_time": "2024-09-25T10:41:11.940Z"
   },
   {
    "duration": 9,
    "start_time": "2024-09-25T10:41:21.816Z"
   },
   {
    "duration": 5,
    "start_time": "2024-09-25T11:44:02.361Z"
   },
   {
    "duration": 4,
    "start_time": "2024-09-25T11:44:22.796Z"
   },
   {
    "duration": 4,
    "start_time": "2024-09-25T11:44:33.200Z"
   },
   {
    "duration": 8,
    "start_time": "2024-09-25T11:44:41.327Z"
   },
   {
    "duration": 8,
    "start_time": "2024-09-25T11:44:44.230Z"
   },
   {
    "duration": 3,
    "start_time": "2024-09-25T11:44:48.912Z"
   },
   {
    "duration": 9163,
    "start_time": "2024-09-25T11:45:04.554Z"
   },
   {
    "duration": 4,
    "start_time": "2024-09-25T11:46:32.013Z"
   },
   {
    "duration": 146,
    "start_time": "2024-09-25T11:46:39.979Z"
   },
   {
    "duration": 4,
    "start_time": "2024-09-25T11:46:50.723Z"
   },
   {
    "duration": 4,
    "start_time": "2024-09-25T11:46:53.763Z"
   },
   {
    "duration": 4,
    "start_time": "2024-09-25T11:46:55.276Z"
   },
   {
    "duration": 16,
    "start_time": "2024-09-25T11:46:56.218Z"
   },
   {
    "duration": 5,
    "start_time": "2024-09-25T11:47:54.694Z"
   },
   {
    "duration": 3,
    "start_time": "2024-09-25T11:47:56.316Z"
   },
   {
    "duration": 3,
    "start_time": "2024-09-25T11:47:57.256Z"
   },
   {
    "duration": 10193,
    "start_time": "2024-09-25T11:47:58.234Z"
   },
   {
    "duration": 4,
    "start_time": "2024-09-25T11:48:13.188Z"
   },
   {
    "duration": 6,
    "start_time": "2024-09-25T11:48:27.676Z"
   },
   {
    "duration": 4,
    "start_time": "2024-09-25T11:48:29.459Z"
   },
   {
    "duration": 4,
    "start_time": "2024-09-25T11:48:30.579Z"
   },
   {
    "duration": 13364,
    "start_time": "2024-09-25T11:48:32.261Z"
   },
   {
    "duration": 3,
    "start_time": "2024-09-25T11:48:48.277Z"
   },
   {
    "duration": 3,
    "start_time": "2024-09-25T11:48:50.414Z"
   },
   {
    "duration": 3,
    "start_time": "2024-09-25T11:48:50.693Z"
   },
   {
    "duration": 1256,
    "start_time": "2024-09-25T11:48:51.277Z"
   },
   {
    "duration": 1316,
    "start_time": "2024-09-25T11:48:55.803Z"
   },
   {
    "duration": 8,
    "start_time": "2024-09-25T11:52:17.436Z"
   },
   {
    "duration": 6,
    "start_time": "2024-09-25T11:52:54.194Z"
   },
   {
    "duration": 3,
    "start_time": "2024-09-25T11:52:57.429Z"
   },
   {
    "duration": 3,
    "start_time": "2024-09-25T11:52:57.943Z"
   },
   {
    "duration": 1464,
    "start_time": "2024-09-25T11:52:58.663Z"
   },
   {
    "duration": 1577,
    "start_time": "2024-09-25T11:53:02.440Z"
   },
   {
    "duration": 1406,
    "start_time": "2024-09-25T11:53:05.928Z"
   },
   {
    "duration": 6,
    "start_time": "2024-09-25T11:54:01.544Z"
   },
   {
    "duration": 6,
    "start_time": "2024-09-25T11:54:11.362Z"
   },
   {
    "duration": 4,
    "start_time": "2024-09-25T11:54:13.712Z"
   },
   {
    "duration": 3,
    "start_time": "2024-09-25T11:54:15.369Z"
   },
   {
    "duration": 1531,
    "start_time": "2024-09-25T11:54:16.802Z"
   },
   {
    "duration": 1458,
    "start_time": "2024-09-25T11:54:20.168Z"
   },
   {
    "duration": 1508,
    "start_time": "2024-09-25T11:54:22.512Z"
   },
   {
    "duration": 6,
    "start_time": "2024-09-25T11:54:33.979Z"
   },
   {
    "duration": 5,
    "start_time": "2024-09-25T11:54:36.860Z"
   },
   {
    "duration": 5,
    "start_time": "2024-09-25T11:54:37.268Z"
   },
   {
    "duration": 3,
    "start_time": "2024-09-25T11:54:37.656Z"
   },
   {
    "duration": 1376,
    "start_time": "2024-09-25T11:54:38.052Z"
   },
   {
    "duration": 1453,
    "start_time": "2024-09-25T11:54:40.377Z"
   },
   {
    "duration": 1530,
    "start_time": "2024-09-25T11:54:42.496Z"
   },
   {
    "duration": 5,
    "start_time": "2024-09-25T11:54:53.154Z"
   },
   {
    "duration": 5,
    "start_time": "2024-09-25T11:54:57.095Z"
   },
   {
    "duration": 4,
    "start_time": "2024-09-25T11:54:59.780Z"
   },
   {
    "duration": 3,
    "start_time": "2024-09-25T11:55:00.087Z"
   },
   {
    "duration": 1576,
    "start_time": "2024-09-25T11:55:00.955Z"
   },
   {
    "duration": 1443,
    "start_time": "2024-09-25T11:55:03.675Z"
   },
   {
    "duration": 6,
    "start_time": "2024-09-25T12:22:41.864Z"
   },
   {
    "duration": 3,
    "start_time": "2024-09-25T12:23:21.778Z"
   },
   {
    "duration": 860,
    "start_time": "2024-09-25T12:23:22.567Z"
   },
   {
    "duration": 8310,
    "start_time": "2024-09-25T12:23:35.621Z"
   },
   {
    "duration": 632926,
    "start_time": "2024-09-25T12:23:56.702Z"
   },
   {
    "duration": 5,
    "start_time": "2024-09-25T12:34:37.517Z"
   },
   {
    "duration": 4,
    "start_time": "2024-09-25T12:34:38.840Z"
   },
   {
    "duration": 12,
    "start_time": "2024-09-25T12:34:40.868Z"
   },
   {
    "duration": 6,
    "start_time": "2024-09-25T12:34:53.483Z"
   },
   {
    "duration": 5,
    "start_time": "2024-09-25T12:35:12.396Z"
   },
   {
    "duration": 54828,
    "start_time": "2024-09-25T12:35:15.204Z"
   },
   {
    "duration": 4,
    "start_time": "2024-09-25T12:36:15.567Z"
   },
   {
    "duration": 757829,
    "start_time": "2024-09-25T12:36:19.706Z"
   },
   {
    "duration": 0,
    "start_time": "2024-09-25T12:48:57.537Z"
   },
   {
    "duration": 7,
    "start_time": "2024-09-25T12:48:59.546Z"
   },
   {
    "duration": 3,
    "start_time": "2024-09-25T12:49:27.007Z"
   },
   {
    "duration": 2,
    "start_time": "2024-09-25T12:49:27.533Z"
   },
   {
    "duration": 3,
    "start_time": "2024-09-25T12:49:28.061Z"
   },
   {
    "duration": 13,
    "start_time": "2024-09-25T12:49:35.899Z"
   },
   {
    "duration": 24,
    "start_time": "2024-09-25T12:49:36.784Z"
   },
   {
    "duration": 24,
    "start_time": "2024-09-25T12:49:41.427Z"
   },
   {
    "duration": 25,
    "start_time": "2024-09-25T12:49:42.235Z"
   },
   {
    "duration": 6,
    "start_time": "2024-09-25T12:49:43.356Z"
   },
   {
    "duration": 5,
    "start_time": "2024-09-25T12:49:44.337Z"
   },
   {
    "duration": 5,
    "start_time": "2024-09-25T12:49:47.951Z"
   },
   {
    "duration": 3,
    "start_time": "2024-09-25T12:49:52.507Z"
   },
   {
    "duration": 21535,
    "start_time": "2024-09-25T12:49:55.309Z"
   },
   {
    "duration": 3,
    "start_time": "2024-09-25T12:50:30.919Z"
   },
   {
    "duration": 2,
    "start_time": "2024-09-25T12:50:31.203Z"
   },
   {
    "duration": 15,
    "start_time": "2024-09-25T12:50:31.467Z"
   },
   {
    "duration": 26,
    "start_time": "2024-09-25T12:50:31.750Z"
   },
   {
    "duration": 6,
    "start_time": "2024-09-25T12:50:32.183Z"
   },
   {
    "duration": 6,
    "start_time": "2024-09-25T12:50:32.698Z"
   },
   {
    "duration": 5,
    "start_time": "2024-09-25T12:50:33.523Z"
   },
   {
    "duration": 5,
    "start_time": "2024-09-25T12:50:36.548Z"
   },
   {
    "duration": 3,
    "start_time": "2024-09-25T12:50:37.045Z"
   },
   {
    "duration": 12,
    "start_time": "2024-09-25T12:50:43.044Z"
   },
   {
    "duration": 3,
    "start_time": "2024-09-25T12:51:18.371Z"
   },
   {
    "duration": 13501,
    "start_time": "2024-09-25T12:51:20.236Z"
   },
   {
    "duration": 10012,
    "start_time": "2024-09-25T12:51:47.717Z"
   },
   {
    "duration": 4,
    "start_time": "2024-09-25T12:52:00.453Z"
   },
   {
    "duration": 52031,
    "start_time": "2024-09-25T12:52:01.007Z"
   },
   {
    "duration": 13,
    "start_time": "2024-09-25T12:55:41.923Z"
   },
   {
    "duration": 3,
    "start_time": "2024-09-25T12:56:25.820Z"
   },
   {
    "duration": 3,
    "start_time": "2024-09-25T12:56:28.687Z"
   },
   {
    "duration": 11,
    "start_time": "2024-09-25T12:56:35.609Z"
   },
   {
    "duration": 11,
    "start_time": "2024-09-25T12:56:55.099Z"
   },
   {
    "duration": 18025,
    "start_time": "2024-09-25T12:57:07.406Z"
   },
   {
    "duration": 49895,
    "start_time": "2024-09-25T12:59:02.925Z"
   },
   {
    "duration": 861,
    "start_time": "2024-09-25T13:00:15.780Z"
   },
   {
    "duration": 5,
    "start_time": "2024-09-25T13:00:55.774Z"
   },
   {
    "duration": 3,
    "start_time": "2024-09-25T13:01:04.239Z"
   },
   {
    "duration": 51715,
    "start_time": "2024-09-25T13:01:07.602Z"
   },
   {
    "duration": 1033,
    "start_time": "2024-09-25T13:02:06.862Z"
   },
   {
    "duration": 49180,
    "start_time": "2024-09-25T13:02:48.656Z"
   },
   {
    "duration": 49774,
    "start_time": "2024-09-25T13:04:07.163Z"
   },
   {
    "duration": 248618,
    "start_time": "2024-09-25T13:05:19.312Z"
   },
   {
    "duration": 938,
    "start_time": "2024-09-25T13:09:36.508Z"
   },
   {
    "duration": 933,
    "start_time": "2024-09-25T13:09:57.792Z"
   },
   {
    "duration": 9472,
    "start_time": "2024-09-25T13:10:05.656Z"
   },
   {
    "duration": 4,
    "start_time": "2024-09-25T13:10:17.090Z"
   },
   {
    "duration": 10587,
    "start_time": "2024-09-25T13:10:18.336Z"
   },
   {
    "duration": 917,
    "start_time": "2024-09-25T13:10:38.500Z"
   },
   {
    "duration": 9740,
    "start_time": "2024-09-25T13:10:50.392Z"
   },
   {
    "duration": 1027,
    "start_time": "2024-09-25T13:11:32.918Z"
   },
   {
    "duration": 9,
    "start_time": "2024-09-25T13:16:22.918Z"
   },
   {
    "duration": 8,
    "start_time": "2024-09-25T13:16:30.334Z"
   },
   {
    "duration": 5251,
    "start_time": "2024-09-25T13:22:42.876Z"
   },
   {
    "duration": 913,
    "start_time": "2024-09-25T13:22:53.668Z"
   },
   {
    "duration": 5,
    "start_time": "2024-09-25T13:46:20.346Z"
   },
   {
    "duration": 3,
    "start_time": "2024-09-25T13:46:25.870Z"
   },
   {
    "duration": 3,
    "start_time": "2024-09-25T13:46:26.225Z"
   },
   {
    "duration": 3,
    "start_time": "2024-09-25T13:46:27.481Z"
   },
   {
    "duration": 9423,
    "start_time": "2024-09-25T13:46:30.416Z"
   },
   {
    "duration": 9355,
    "start_time": "2024-09-25T13:46:43.065Z"
   },
   {
    "duration": 8950,
    "start_time": "2024-09-25T13:46:55.865Z"
   },
   {
    "duration": 8801,
    "start_time": "2024-09-25T13:47:09.617Z"
   },
   {
    "duration": 933,
    "start_time": "2024-09-25T13:47:24.998Z"
   },
   {
    "duration": 7622,
    "start_time": "2024-09-25T13:48:28.804Z"
   },
   {
    "duration": 392,
    "start_time": "2024-09-25T13:48:46.341Z"
   },
   {
    "duration": 351,
    "start_time": "2024-09-25T13:48:53.378Z"
   },
   {
    "duration": 9820,
    "start_time": "2024-09-25T13:51:22.712Z"
   },
   {
    "duration": 15029,
    "start_time": "2024-09-25T13:51:39.002Z"
   },
   {
    "duration": 983,
    "start_time": "2024-09-25T13:52:01.772Z"
   },
   {
    "duration": 7,
    "start_time": "2024-09-25T14:44:01.864Z"
   },
   {
    "duration": 8,
    "start_time": "2024-09-25T14:44:07.315Z"
   },
   {
    "duration": 27,
    "start_time": "2024-09-25T14:44:26.161Z"
   },
   {
    "duration": 6,
    "start_time": "2024-09-25T14:45:11.296Z"
   },
   {
    "duration": 4,
    "start_time": "2024-09-25T14:45:15.733Z"
   },
   {
    "duration": 12,
    "start_time": "2024-09-25T14:45:17.007Z"
   },
   {
    "duration": 85313,
    "start_time": "2024-09-25T14:45:28.509Z"
   },
   {
    "duration": 6,
    "start_time": "2024-09-25T14:47:47.073Z"
   },
   {
    "duration": 10,
    "start_time": "2024-09-25T14:48:01.716Z"
   },
   {
    "duration": 50344,
    "start_time": "2024-09-25T14:48:03.581Z"
   },
   {
    "duration": 13286,
    "start_time": "2024-09-25T14:49:22.054Z"
   },
   {
    "duration": 3582,
    "start_time": "2024-09-25T14:49:44.254Z"
   },
   {
    "duration": 7,
    "start_time": "2024-09-25T14:50:01.422Z"
   },
   {
    "duration": 5,
    "start_time": "2024-09-25T14:50:05.837Z"
   },
   {
    "duration": 71130,
    "start_time": "2024-09-25T14:50:08.991Z"
   },
   {
    "duration": 18731,
    "start_time": "2024-09-25T14:51:25.793Z"
   },
   {
    "duration": 134115,
    "start_time": "2024-09-25T14:51:57.825Z"
   },
   {
    "duration": 1133,
    "start_time": "2024-09-25T14:54:14.030Z"
   },
   {
    "duration": 2638,
    "start_time": "2024-09-25T14:56:11.046Z"
   },
   {
    "duration": 2064,
    "start_time": "2024-09-25T21:06:59.327Z"
   },
   {
    "duration": 81,
    "start_time": "2024-09-25T21:07:01.393Z"
   },
   {
    "duration": 3,
    "start_time": "2024-09-25T21:07:01.475Z"
   },
   {
    "duration": 41,
    "start_time": "2024-09-25T21:07:01.480Z"
   },
   {
    "duration": 6,
    "start_time": "2024-09-25T21:07:01.523Z"
   },
   {
    "duration": 38,
    "start_time": "2024-09-25T21:07:01.530Z"
   },
   {
    "duration": 25,
    "start_time": "2024-09-25T21:07:01.570Z"
   },
   {
    "duration": 15,
    "start_time": "2024-09-25T21:07:01.597Z"
   },
   {
    "duration": 29,
    "start_time": "2024-09-25T21:07:01.613Z"
   },
   {
    "duration": 80,
    "start_time": "2024-09-25T21:07:01.644Z"
   },
   {
    "duration": 216,
    "start_time": "2024-09-25T21:07:01.725Z"
   },
   {
    "duration": 4,
    "start_time": "2024-09-25T21:07:01.943Z"
   },
   {
    "duration": 370,
    "start_time": "2024-09-25T21:07:01.949Z"
   },
   {
    "duration": 173,
    "start_time": "2024-09-25T21:07:02.322Z"
   },
   {
    "duration": 3,
    "start_time": "2024-09-25T21:07:02.496Z"
   },
   {
    "duration": 22,
    "start_time": "2024-09-25T21:07:02.500Z"
   },
   {
    "duration": 38,
    "start_time": "2024-09-25T21:07:02.524Z"
   },
   {
    "duration": 46,
    "start_time": "2024-09-25T21:07:02.563Z"
   },
   {
    "duration": 29,
    "start_time": "2024-09-25T21:07:02.611Z"
   },
   {
    "duration": 110,
    "start_time": "2024-09-25T21:07:02.642Z"
   },
   {
    "duration": 20,
    "start_time": "2024-09-25T21:07:02.754Z"
   },
   {
    "duration": 49,
    "start_time": "2024-09-25T21:07:02.776Z"
   },
   {
    "duration": 89,
    "start_time": "2024-09-25T21:07:02.827Z"
   },
   {
    "duration": 26,
    "start_time": "2024-09-25T21:07:02.917Z"
   },
   {
    "duration": 159,
    "start_time": "2024-09-25T21:07:02.945Z"
   },
   {
    "duration": 0,
    "start_time": "2024-09-25T21:07:03.105Z"
   },
   {
    "duration": 0,
    "start_time": "2024-09-25T21:07:03.106Z"
   },
   {
    "duration": 0,
    "start_time": "2024-09-25T21:07:03.107Z"
   },
   {
    "duration": 0,
    "start_time": "2024-09-25T21:07:03.108Z"
   },
   {
    "duration": 6,
    "start_time": "2024-09-25T21:08:46.266Z"
   },
   {
    "duration": 4,
    "start_time": "2024-09-25T21:09:14.129Z"
   },
   {
    "duration": 3,
    "start_time": "2024-09-25T21:09:16.294Z"
   },
   {
    "duration": 4,
    "start_time": "2024-09-25T21:09:18.079Z"
   },
   {
    "duration": 30155,
    "start_time": "2024-09-25T21:09:20.098Z"
   },
   {
    "duration": 6,
    "start_time": "2024-09-25T21:10:08.857Z"
   },
   {
    "duration": 4,
    "start_time": "2024-09-25T21:10:09.624Z"
   },
   {
    "duration": 2,
    "start_time": "2024-09-25T21:10:11.039Z"
   },
   {
    "duration": 3,
    "start_time": "2024-09-25T21:10:12.079Z"
   },
   {
    "duration": 3,
    "start_time": "2024-09-25T21:10:12.319Z"
   },
   {
    "duration": 33953,
    "start_time": "2024-09-25T21:10:13.409Z"
   },
   {
    "duration": 4,
    "start_time": "2024-09-25T21:11:28.126Z"
   },
   {
    "duration": 23725,
    "start_time": "2024-09-25T21:11:28.527Z"
   },
   {
    "duration": 4035,
    "start_time": "2024-09-25T21:12:14.212Z"
   },
   {
    "duration": 900,
    "start_time": "2024-09-25T21:13:35.191Z"
   },
   {
    "duration": 984,
    "start_time": "2024-09-25T21:13:44.391Z"
   },
   {
    "duration": 3,
    "start_time": "2024-09-25T21:14:32.861Z"
   },
   {
    "duration": 2,
    "start_time": "2024-09-25T21:14:33.446Z"
   },
   {
    "duration": 12,
    "start_time": "2024-09-25T21:14:33.845Z"
   },
   {
    "duration": 6,
    "start_time": "2024-09-25T21:14:34.439Z"
   },
   {
    "duration": 4,
    "start_time": "2024-09-25T21:14:35.064Z"
   },
   {
    "duration": 2,
    "start_time": "2024-09-25T21:14:36.245Z"
   },
   {
    "duration": 3,
    "start_time": "2024-09-25T21:14:37.382Z"
   },
   {
    "duration": 4,
    "start_time": "2024-09-25T21:14:38.055Z"
   },
   {
    "duration": 30454,
    "start_time": "2024-09-25T21:14:39.896Z"
   },
   {
    "duration": 2,
    "start_time": "2024-09-25T21:15:22.621Z"
   },
   {
    "duration": 3,
    "start_time": "2024-09-25T21:15:23.509Z"
   },
   {
    "duration": 3,
    "start_time": "2024-09-25T21:15:23.965Z"
   },
   {
    "duration": 11,
    "start_time": "2024-09-25T21:15:24.423Z"
   },
   {
    "duration": 5,
    "start_time": "2024-09-25T21:15:24.878Z"
   },
   {
    "duration": 5,
    "start_time": "2024-09-25T21:15:25.542Z"
   },
   {
    "duration": 3,
    "start_time": "2024-09-25T21:15:26.701Z"
   },
   {
    "duration": 3,
    "start_time": "2024-09-25T21:15:28.495Z"
   },
   {
    "duration": 3,
    "start_time": "2024-09-25T21:15:28.838Z"
   },
   {
    "duration": 25307,
    "start_time": "2024-09-25T21:15:29.557Z"
   },
   {
    "duration": 6,
    "start_time": "2024-09-25T21:16:16.272Z"
   },
   {
    "duration": 1747,
    "start_time": "2024-09-25T21:16:31.400Z"
   },
   {
    "duration": 23488,
    "start_time": "2024-09-25T21:16:58.864Z"
   },
   {
    "duration": 6,
    "start_time": "2024-09-25T21:18:07.743Z"
   },
   {
    "duration": 13799,
    "start_time": "2024-09-25T21:18:08.270Z"
   },
   {
    "duration": 8,
    "start_time": "2024-09-25T21:18:43.880Z"
   },
   {
    "duration": 20851,
    "start_time": "2024-09-25T21:18:43.898Z"
   },
   {
    "duration": 5,
    "start_time": "2024-09-25T21:23:51.189Z"
   },
   {
    "duration": 18548,
    "start_time": "2024-09-25T21:24:02.617Z"
   },
   {
    "duration": 8,
    "start_time": "2024-09-25T21:24:39.970Z"
   },
   {
    "duration": 22250,
    "start_time": "2024-09-25T21:24:40.801Z"
   },
   {
    "duration": 6,
    "start_time": "2024-09-25T21:25:52.725Z"
   },
   {
    "duration": 27,
    "start_time": "2024-09-25T21:25:54.312Z"
   },
   {
    "duration": 9,
    "start_time": "2024-09-25T21:26:06.493Z"
   },
   {
    "duration": 7,
    "start_time": "2024-09-25T21:26:14.340Z"
   },
   {
    "duration": 146860,
    "start_time": "2024-09-25T21:26:15.895Z"
   },
   {
    "duration": 3724,
    "start_time": "2024-09-25T21:34:11.793Z"
   },
   {
    "duration": 46,
    "start_time": "2024-09-25T21:34:31.401Z"
   },
   {
    "duration": 6,
    "start_time": "2024-09-25T21:39:11.975Z"
   },
   {
    "duration": 8,
    "start_time": "2024-09-25T21:40:44.447Z"
   },
   {
    "duration": 6,
    "start_time": "2024-09-25T21:41:01.662Z"
   },
   {
    "duration": 34,
    "start_time": "2024-09-25T21:41:32.222Z"
   },
   {
    "duration": 5,
    "start_time": "2024-09-25T21:42:42.934Z"
   },
   {
    "duration": 28,
    "start_time": "2024-09-25T21:42:44.798Z"
   },
   {
    "duration": 5,
    "start_time": "2024-09-25T21:43:03.790Z"
   },
   {
    "duration": 30,
    "start_time": "2024-09-25T21:43:07.256Z"
   },
   {
    "duration": 5,
    "start_time": "2024-09-25T21:44:06.550Z"
   },
   {
    "duration": 26,
    "start_time": "2024-09-25T21:44:08.485Z"
   },
   {
    "duration": 8,
    "start_time": "2024-09-25T21:44:21.157Z"
   },
   {
    "duration": 25,
    "start_time": "2024-09-25T21:44:23.293Z"
   },
   {
    "duration": 4,
    "start_time": "2024-09-25T21:44:56.949Z"
   },
   {
    "duration": 63,
    "start_time": "2024-09-25T21:44:58.989Z"
   },
   {
    "duration": 5,
    "start_time": "2024-09-25T21:45:14.438Z"
   },
   {
    "duration": 11822,
    "start_time": "2024-09-25T21:45:16.149Z"
   },
   {
    "duration": 4,
    "start_time": "2024-09-25T21:45:31.141Z"
   },
   {
    "duration": 3801,
    "start_time": "2024-09-25T21:45:32.669Z"
   },
   {
    "duration": 5,
    "start_time": "2024-09-25T21:46:56.094Z"
   },
   {
    "duration": 40119,
    "start_time": "2024-09-25T21:46:57.645Z"
   },
   {
    "duration": 6,
    "start_time": "2024-09-25T21:49:49.709Z"
   },
   {
    "duration": 16245,
    "start_time": "2024-09-25T21:49:49.719Z"
   },
   {
    "duration": 17647,
    "start_time": "2024-09-25T21:56:59.515Z"
   },
   {
    "duration": 5,
    "start_time": "2024-09-25T21:57:24.684Z"
   },
   {
    "duration": 9884,
    "start_time": "2024-09-25T21:57:25.882Z"
   },
   {
    "duration": 5,
    "start_time": "2024-09-25T21:57:40.051Z"
   },
   {
    "duration": 8,
    "start_time": "2024-09-25T22:02:09.529Z"
   },
   {
    "duration": 40023,
    "start_time": "2024-09-25T22:02:11.121Z"
   },
   {
    "duration": 6,
    "start_time": "2024-09-25T22:04:18.593Z"
   },
   {
    "duration": 239,
    "start_time": "2024-09-25T22:04:22.128Z"
   },
   {
    "duration": 5,
    "start_time": "2024-09-25T22:04:42.537Z"
   },
   {
    "duration": 195,
    "start_time": "2024-09-25T22:04:43.656Z"
   },
   {
    "duration": 12,
    "start_time": "2024-09-25T22:05:03.081Z"
   },
   {
    "duration": 6,
    "start_time": "2024-09-25T22:05:12.417Z"
   },
   {
    "duration": 11,
    "start_time": "2024-09-25T22:05:13.465Z"
   },
   {
    "duration": 9,
    "start_time": "2024-09-25T22:05:33.376Z"
   },
   {
    "duration": 12,
    "start_time": "2024-09-25T22:05:36.713Z"
   },
   {
    "duration": 52724,
    "start_time": "2024-09-25T22:06:09.328Z"
   },
   {
    "duration": 3458,
    "start_time": "2024-09-25T22:07:05.488Z"
   },
   {
    "duration": 20006,
    "start_time": "2024-09-25T22:07:44.255Z"
   },
   {
    "duration": 5,
    "start_time": "2024-09-25T22:08:17.920Z"
   },
   {
    "duration": 140,
    "start_time": "2024-09-25T22:08:20.616Z"
   },
   {
    "duration": 5,
    "start_time": "2024-09-25T22:08:33.351Z"
   },
   {
    "duration": 15582,
    "start_time": "2024-09-25T22:08:35.479Z"
   },
   {
    "duration": 6,
    "start_time": "2024-09-25T22:09:29.544Z"
   },
   {
    "duration": 67826,
    "start_time": "2024-09-25T22:09:31.832Z"
   },
   {
    "duration": 14,
    "start_time": "2024-09-25T22:15:15.640Z"
   },
   {
    "duration": 34407,
    "start_time": "2024-09-25T22:15:21.171Z"
   },
   {
    "duration": 8,
    "start_time": "2024-09-25T22:16:58.686Z"
   },
   {
    "duration": 150994,
    "start_time": "2024-09-25T22:17:01.758Z"
   },
   {
    "duration": 6,
    "start_time": "2024-09-25T22:23:08.325Z"
   },
   {
    "duration": 33960,
    "start_time": "2024-09-25T22:23:11.484Z"
   },
   {
    "duration": 7,
    "start_time": "2024-09-25T22:24:18.388Z"
   },
   {
    "duration": 2,
    "start_time": "2024-09-25T22:24:26.260Z"
   },
   {
    "duration": 2,
    "start_time": "2024-09-25T22:24:27.148Z"
   },
   {
    "duration": 13,
    "start_time": "2024-09-25T22:24:27.356Z"
   },
   {
    "duration": 6,
    "start_time": "2024-09-25T22:24:27.652Z"
   },
   {
    "duration": 3,
    "start_time": "2024-09-25T22:24:32.668Z"
   },
   {
    "duration": 6,
    "start_time": "2024-09-25T22:24:39.548Z"
   },
   {
    "duration": 56216,
    "start_time": "2024-09-25T22:24:40.947Z"
   },
   {
    "duration": 7,
    "start_time": "2024-09-25T22:26:31.051Z"
   },
   {
    "duration": 6,
    "start_time": "2024-09-25T22:26:43.619Z"
   },
   {
    "duration": 54783,
    "start_time": "2024-09-25T22:26:44.363Z"
   },
   {
    "duration": 2461,
    "start_time": "2024-09-26T08:57:02.311Z"
   },
   {
    "duration": 1841,
    "start_time": "2024-09-26T08:57:04.775Z"
   },
   {
    "duration": 28,
    "start_time": "2024-09-26T08:57:06.618Z"
   },
   {
    "duration": 8,
    "start_time": "2024-09-26T08:57:06.648Z"
   },
   {
    "duration": 50,
    "start_time": "2024-09-26T08:57:06.657Z"
   },
   {
    "duration": 22,
    "start_time": "2024-09-26T08:57:06.709Z"
   },
   {
    "duration": 48,
    "start_time": "2024-09-26T08:57:06.732Z"
   },
   {
    "duration": 17,
    "start_time": "2024-09-26T08:57:06.782Z"
   },
   {
    "duration": 16,
    "start_time": "2024-09-26T08:57:06.801Z"
   },
   {
    "duration": 26,
    "start_time": "2024-09-26T08:57:06.820Z"
   },
   {
    "duration": 35,
    "start_time": "2024-09-26T08:57:06.847Z"
   },
   {
    "duration": 230,
    "start_time": "2024-09-26T08:57:06.883Z"
   },
   {
    "duration": 5,
    "start_time": "2024-09-26T08:57:07.114Z"
   },
   {
    "duration": 380,
    "start_time": "2024-09-26T08:57:07.120Z"
   },
   {
    "duration": 162,
    "start_time": "2024-09-26T08:57:07.501Z"
   },
   {
    "duration": 2,
    "start_time": "2024-09-26T08:57:07.664Z"
   },
   {
    "duration": 23,
    "start_time": "2024-09-26T08:57:07.668Z"
   },
   {
    "duration": 61,
    "start_time": "2024-09-26T08:57:07.692Z"
   },
   {
    "duration": 52,
    "start_time": "2024-09-26T08:57:07.755Z"
   },
   {
    "duration": 6,
    "start_time": "2024-09-26T08:57:07.808Z"
   },
   {
    "duration": 7,
    "start_time": "2024-09-26T08:57:07.816Z"
   },
   {
    "duration": 11,
    "start_time": "2024-09-26T08:57:07.825Z"
   },
   {
    "duration": 81434,
    "start_time": "2024-09-26T08:57:07.838Z"
   },
   {
    "duration": 1019,
    "start_time": "2024-09-26T08:58:29.274Z"
   },
   {
    "duration": 8,
    "start_time": "2024-09-26T08:58:30.295Z"
   },
   {
    "duration": 51,
    "start_time": "2024-09-26T08:58:30.305Z"
   },
   {
    "duration": 59001,
    "start_time": "2024-09-26T08:58:30.358Z"
   },
   {
    "duration": 6,
    "start_time": "2024-09-26T08:59:29.363Z"
   },
   {
    "duration": 26814,
    "start_time": "2024-09-26T08:59:29.442Z"
   },
   {
    "duration": 8,
    "start_time": "2024-09-26T09:55:34.073Z"
   },
   {
    "duration": 53345,
    "start_time": "2024-09-26T09:55:39.306Z"
   },
   {
    "duration": 6,
    "start_time": "2024-09-26T09:58:28.976Z"
   },
   {
    "duration": 6,
    "start_time": "2024-09-26T09:58:34.526Z"
   },
   {
    "duration": 634394,
    "start_time": "2024-09-26T09:58:41.156Z"
   },
   {
    "duration": 8,
    "start_time": "2024-09-26T10:41:40.492Z"
   },
   {
    "duration": 608853,
    "start_time": "2024-09-26T10:41:42.169Z"
   },
   {
    "duration": 0,
    "start_time": "2024-09-26T10:51:51.024Z"
   },
   {
    "duration": 6,
    "start_time": "2024-09-26T10:51:53.692Z"
   },
   {
    "duration": 330152,
    "start_time": "2024-09-26T10:51:56.407Z"
   },
   {
    "duration": 7,
    "start_time": "2024-09-26T11:43:53.953Z"
   },
   {
    "duration": 79577,
    "start_time": "2024-09-26T11:43:56.469Z"
   },
   {
    "duration": 6,
    "start_time": "2024-09-26T11:56:05.409Z"
   },
   {
    "duration": 4,
    "start_time": "2024-09-26T11:56:19.680Z"
   },
   {
    "duration": 5,
    "start_time": "2024-09-26T12:44:56.718Z"
   },
   {
    "duration": 8,
    "start_time": "2024-09-26T13:11:09.503Z"
   },
   {
    "duration": 35,
    "start_time": "2024-09-26T13:11:12.057Z"
   },
   {
    "duration": 6,
    "start_time": "2024-09-26T13:12:01.923Z"
   },
   {
    "duration": 49829,
    "start_time": "2024-09-26T13:12:04.337Z"
   },
   {
    "duration": 6,
    "start_time": "2024-09-26T13:13:18.886Z"
   },
   {
    "duration": 158443,
    "start_time": "2024-09-26T13:13:20.327Z"
   },
   {
    "duration": 8,
    "start_time": "2024-09-26T13:16:11.329Z"
   },
   {
    "duration": 35321,
    "start_time": "2024-09-26T13:16:12.644Z"
   },
   {
    "duration": 2465,
    "start_time": "2024-09-26T13:16:52.757Z"
   },
   {
    "duration": 1922,
    "start_time": "2024-09-26T13:16:55.224Z"
   },
   {
    "duration": 29,
    "start_time": "2024-09-26T13:16:57.147Z"
   },
   {
    "duration": 3,
    "start_time": "2024-09-26T13:16:57.178Z"
   },
   {
    "duration": 27,
    "start_time": "2024-09-26T13:16:57.183Z"
   },
   {
    "duration": 6,
    "start_time": "2024-09-26T13:16:57.211Z"
   },
   {
    "duration": 9,
    "start_time": "2024-09-26T13:16:57.218Z"
   },
   {
    "duration": 18,
    "start_time": "2024-09-26T13:16:57.228Z"
   },
   {
    "duration": 4,
    "start_time": "2024-09-26T13:16:57.248Z"
   },
   {
    "duration": 11,
    "start_time": "2024-09-26T13:16:57.255Z"
   },
   {
    "duration": 7,
    "start_time": "2024-09-26T13:16:57.267Z"
   },
   {
    "duration": 233,
    "start_time": "2024-09-26T13:16:57.276Z"
   },
   {
    "duration": 6,
    "start_time": "2024-09-26T13:16:57.510Z"
   },
   {
    "duration": 394,
    "start_time": "2024-09-26T13:16:57.518Z"
   },
   {
    "duration": 182,
    "start_time": "2024-09-26T13:16:57.914Z"
   },
   {
    "duration": 2,
    "start_time": "2024-09-26T13:16:58.098Z"
   },
   {
    "duration": 47,
    "start_time": "2024-09-26T13:16:58.102Z"
   },
   {
    "duration": 58,
    "start_time": "2024-09-26T13:16:58.151Z"
   },
   {
    "duration": 19,
    "start_time": "2024-09-26T13:16:58.211Z"
   },
   {
    "duration": 77,
    "start_time": "2024-09-26T13:16:58.232Z"
   },
   {
    "duration": 30,
    "start_time": "2024-09-26T13:16:58.311Z"
   },
   {
    "duration": 13,
    "start_time": "2024-09-26T13:16:58.343Z"
   },
   {
    "duration": 43208,
    "start_time": "2024-09-26T13:16:58.358Z"
   },
   {
    "duration": 976,
    "start_time": "2024-09-26T13:17:41.568Z"
   },
   {
    "duration": 7,
    "start_time": "2024-09-26T13:17:42.546Z"
   },
   {
    "duration": 92,
    "start_time": "2024-09-26T13:17:42.554Z"
   },
   {
    "duration": 22186,
    "start_time": "2024-09-26T13:17:42.648Z"
   },
   {
    "duration": 0,
    "start_time": "2024-09-26T13:18:04.836Z"
   },
   {
    "duration": 0,
    "start_time": "2024-09-26T13:18:04.843Z"
   },
   {
    "duration": 9,
    "start_time": "2024-09-26T13:18:12.775Z"
   },
   {
    "duration": 88393,
    "start_time": "2024-09-26T13:18:14.471Z"
   },
   {
    "duration": 8,
    "start_time": "2024-09-26T13:20:09.190Z"
   },
   {
    "duration": 29357,
    "start_time": "2024-09-26T13:20:11.107Z"
   },
   {
    "duration": 7,
    "start_time": "2024-09-26T13:21:18.592Z"
   },
   {
    "duration": 284339,
    "start_time": "2024-09-26T13:21:19.922Z"
   },
   {
    "duration": 4,
    "start_time": "2024-09-26T13:26:30.331Z"
   },
   {
    "duration": 14,
    "start_time": "2024-09-26T13:28:48.780Z"
   },
   {
    "duration": 4,
    "start_time": "2024-09-26T13:29:05.932Z"
   },
   {
    "duration": 4,
    "start_time": "2024-09-26T13:29:06.502Z"
   },
   {
    "duration": 3,
    "start_time": "2024-09-26T13:29:07.157Z"
   },
   {
    "duration": 3,
    "start_time": "2024-09-26T13:29:07.710Z"
   },
   {
    "duration": 88520,
    "start_time": "2024-09-26T13:29:08.431Z"
   },
   {
    "duration": 1012,
    "start_time": "2024-09-26T13:30:54.358Z"
   },
   {
    "duration": 9,
    "start_time": "2024-09-26T13:31:09.434Z"
   },
   {
    "duration": 4,
    "start_time": "2024-09-26T13:31:30.087Z"
   },
   {
    "duration": 5,
    "start_time": "2024-09-26T13:31:48.635Z"
   },
   {
    "duration": 4,
    "start_time": "2024-09-26T13:32:27.032Z"
   },
   {
    "duration": 3,
    "start_time": "2024-09-26T13:33:22.879Z"
   },
   {
    "duration": 7214,
    "start_time": "2024-09-26T13:33:58.054Z"
   },
   {
    "duration": 8,
    "start_time": "2024-09-26T13:34:11.397Z"
   },
   {
    "duration": 3,
    "start_time": "2024-09-26T13:34:11.692Z"
   },
   {
    "duration": 3,
    "start_time": "2024-09-26T13:34:12.083Z"
   },
   {
    "duration": 106700,
    "start_time": "2024-09-26T13:34:13.069Z"
   },
   {
    "duration": 4,
    "start_time": "2024-09-26T13:36:23.061Z"
   },
   {
    "duration": 5,
    "start_time": "2024-09-26T13:36:26.455Z"
   },
   {
    "duration": 951,
    "start_time": "2024-09-26T13:36:42.010Z"
   },
   {
    "duration": 229,
    "start_time": "2024-09-26T13:58:17.863Z"
   },
   {
    "duration": 214,
    "start_time": "2024-09-26T14:01:27.339Z"
   },
   {
    "duration": 21,
    "start_time": "2024-09-26T14:02:08.777Z"
   },
   {
    "duration": 6,
    "start_time": "2024-09-26T14:09:54.384Z"
   },
   {
    "duration": 4,
    "start_time": "2024-09-26T14:09:57.043Z"
   },
   {
    "duration": 34,
    "start_time": "2024-09-26T14:10:10.065Z"
   },
   {
    "duration": 4,
    "start_time": "2024-09-26T14:10:17.759Z"
   },
   {
    "duration": 7,
    "start_time": "2024-09-26T14:11:27.370Z"
   },
   {
    "duration": 24,
    "start_time": "2024-09-26T14:11:29.214Z"
   },
   {
    "duration": 6,
    "start_time": "2024-09-26T14:11:48.662Z"
   },
   {
    "duration": 6,
    "start_time": "2024-09-26T14:11:49.331Z"
   },
   {
    "duration": 77154,
    "start_time": "2024-09-26T14:11:51.412Z"
   },
   {
    "duration": 8,
    "start_time": "2024-09-26T14:13:27.151Z"
   },
   {
    "duration": 95286,
    "start_time": "2024-09-26T14:13:28.789Z"
   },
   {
    "duration": 6,
    "start_time": "2024-09-26T14:15:43.560Z"
   },
   {
    "duration": 331281,
    "start_time": "2024-09-26T14:15:45.494Z"
   },
   {
    "duration": 7,
    "start_time": "2024-09-26T14:21:22.579Z"
   },
   {
    "duration": 7,
    "start_time": "2024-09-26T14:22:30.338Z"
   },
   {
    "duration": 139943,
    "start_time": "2024-09-26T14:22:33.037Z"
   },
   {
    "duration": 7,
    "start_time": "2024-09-26T14:24:54.312Z"
   },
   {
    "duration": 177931,
    "start_time": "2024-09-26T14:24:55.841Z"
   },
   {
    "duration": 6,
    "start_time": "2024-09-26T14:27:58.015Z"
   },
   {
    "duration": 6,
    "start_time": "2024-09-26T14:27:58.692Z"
   },
   {
    "duration": 7868,
    "start_time": "2024-09-26T14:28:04.101Z"
   },
   {
    "duration": 8,
    "start_time": "2024-09-26T14:28:47.495Z"
   },
   {
    "duration": 75362,
    "start_time": "2024-09-26T14:28:51.209Z"
   },
   {
    "duration": 10,
    "start_time": "2024-09-26T14:30:07.360Z"
   },
   {
    "duration": 428600,
    "start_time": "2024-09-26T14:30:07.764Z"
   },
   {
    "duration": 0,
    "start_time": "2024-09-26T14:37:16.366Z"
   },
   {
    "duration": 7,
    "start_time": "2024-09-26T14:37:18.963Z"
   },
   {
    "duration": 356322,
    "start_time": "2024-09-26T14:37:22.847Z"
   },
   {
    "duration": 5,
    "start_time": "2024-09-26T14:43:21.044Z"
   },
   {
    "duration": 4,
    "start_time": "2024-09-26T14:43:22.095Z"
   },
   {
    "duration": 4,
    "start_time": "2024-09-26T14:46:55.673Z"
   },
   {
    "duration": 12,
    "start_time": "2024-09-26T14:48:16.826Z"
   },
   {
    "duration": 5,
    "start_time": "2024-09-26T14:48:34.107Z"
   },
   {
    "duration": 21278,
    "start_time": "2024-09-26T14:50:08.179Z"
   },
   {
    "duration": 1146,
    "start_time": "2024-09-26T14:51:04.244Z"
   },
   {
    "duration": 2548,
    "start_time": "2024-09-26T14:52:05.528Z"
   },
   {
    "duration": 1997,
    "start_time": "2024-09-26T14:52:08.078Z"
   },
   {
    "duration": 29,
    "start_time": "2024-09-26T14:52:10.077Z"
   },
   {
    "duration": 4,
    "start_time": "2024-09-26T14:52:10.108Z"
   },
   {
    "duration": 33,
    "start_time": "2024-09-26T14:52:10.114Z"
   },
   {
    "duration": 6,
    "start_time": "2024-09-26T14:52:10.148Z"
   },
   {
    "duration": 18,
    "start_time": "2024-09-26T14:52:10.156Z"
   },
   {
    "duration": 6,
    "start_time": "2024-09-26T14:52:10.175Z"
   },
   {
    "duration": 6,
    "start_time": "2024-09-26T14:52:10.183Z"
   },
   {
    "duration": 10,
    "start_time": "2024-09-26T14:52:10.193Z"
   },
   {
    "duration": 60,
    "start_time": "2024-09-26T14:52:10.204Z"
   },
   {
    "duration": 236,
    "start_time": "2024-09-26T14:52:10.266Z"
   },
   {
    "duration": 4,
    "start_time": "2024-09-26T14:52:10.504Z"
   },
   {
    "duration": 383,
    "start_time": "2024-09-26T14:52:10.510Z"
   },
   {
    "duration": 189,
    "start_time": "2024-09-26T14:52:10.894Z"
   },
   {
    "duration": 2,
    "start_time": "2024-09-26T14:52:11.085Z"
   },
   {
    "duration": 6,
    "start_time": "2024-09-26T14:52:11.089Z"
   },
   {
    "duration": 24,
    "start_time": "2024-09-26T14:52:11.096Z"
   },
   {
    "duration": 6,
    "start_time": "2024-09-26T14:52:11.121Z"
   },
   {
    "duration": 15,
    "start_time": "2024-09-26T14:52:11.128Z"
   },
   {
    "duration": 4,
    "start_time": "2024-09-26T14:52:11.145Z"
   },
   {
    "duration": 8,
    "start_time": "2024-09-26T14:52:11.151Z"
   },
   {
    "duration": 10003,
    "start_time": "2024-09-26T14:52:11.161Z"
   },
   {
    "duration": 980,
    "start_time": "2024-09-26T14:52:21.165Z"
   },
   {
    "duration": 9,
    "start_time": "2024-09-26T14:52:22.147Z"
   },
   {
    "duration": 18,
    "start_time": "2024-09-26T14:52:22.158Z"
   },
   {
    "duration": 467572,
    "start_time": "2024-09-26T14:52:22.181Z"
   },
   {
    "duration": 4,
    "start_time": "2024-09-26T15:00:09.757Z"
   },
   {
    "duration": 10,
    "start_time": "2024-09-26T15:00:09.764Z"
   },
   {
    "duration": 21676,
    "start_time": "2024-09-26T15:00:09.776Z"
   },
   {
    "duration": 1070,
    "start_time": "2024-09-26T15:00:31.454Z"
   },
   {
    "duration": 239,
    "start_time": "2024-09-26T15:00:32.526Z"
   },
   {
    "duration": 460,
    "start_time": "2024-09-26T15:00:32.767Z"
   },
   {
    "duration": 14,
    "start_time": "2024-09-26T15:00:33.229Z"
   },
   {
    "duration": 928,
    "start_time": "2024-09-26T15:00:33.245Z"
   },
   {
    "duration": 22401,
    "start_time": "2024-09-26T15:00:58.943Z"
   },
   {
    "duration": 5,
    "start_time": "2024-09-26T15:01:35.766Z"
   },
   {
    "duration": 944,
    "start_time": "2024-09-26T15:01:48.141Z"
   },
   {
    "duration": 14,
    "start_time": "2024-09-26T15:01:59.026Z"
   },
   {
    "duration": 7,
    "start_time": "2024-09-26T15:02:30.698Z"
   },
   {
    "duration": 6,
    "start_time": "2024-09-26T15:02:33.352Z"
   },
   {
    "duration": 76725,
    "start_time": "2024-09-26T15:02:36.218Z"
   },
   {
    "duration": 7,
    "start_time": "2024-09-26T15:04:24.587Z"
   },
   {
    "duration": 82274,
    "start_time": "2024-09-26T15:04:26.704Z"
   },
   {
    "duration": 7,
    "start_time": "2024-09-26T15:06:04.886Z"
   },
   {
    "duration": 45093,
    "start_time": "2024-09-26T15:06:06.279Z"
   },
   {
    "duration": 6,
    "start_time": "2024-09-26T15:06:57.703Z"
   },
   {
    "duration": 37083,
    "start_time": "2024-09-26T15:06:59.478Z"
   },
   {
    "duration": 7,
    "start_time": "2024-09-26T15:07:42.781Z"
   },
   {
    "duration": 1496,
    "start_time": "2024-09-26T15:07:44.774Z"
   },
   {
    "duration": 2407,
    "start_time": "2024-09-26T20:07:30.149Z"
   },
   {
    "duration": 1957,
    "start_time": "2024-09-26T20:07:32.558Z"
   },
   {
    "duration": 29,
    "start_time": "2024-09-26T20:07:34.517Z"
   },
   {
    "duration": 3,
    "start_time": "2024-09-26T20:07:34.547Z"
   },
   {
    "duration": 45,
    "start_time": "2024-09-26T20:07:34.551Z"
   },
   {
    "duration": 7,
    "start_time": "2024-09-26T20:07:34.597Z"
   },
   {
    "duration": 37,
    "start_time": "2024-09-26T20:07:34.605Z"
   },
   {
    "duration": 5,
    "start_time": "2024-09-26T20:07:34.644Z"
   },
   {
    "duration": 6,
    "start_time": "2024-09-26T20:07:34.651Z"
   },
   {
    "duration": 12,
    "start_time": "2024-09-26T20:07:34.660Z"
   },
   {
    "duration": 16,
    "start_time": "2024-09-26T20:07:34.674Z"
   },
   {
    "duration": 213,
    "start_time": "2024-09-26T20:07:34.692Z"
   },
   {
    "duration": 4,
    "start_time": "2024-09-26T20:07:34.907Z"
   },
   {
    "duration": 363,
    "start_time": "2024-09-26T20:07:34.913Z"
   },
   {
    "duration": 161,
    "start_time": "2024-09-26T20:07:35.278Z"
   },
   {
    "duration": 3,
    "start_time": "2024-09-26T20:07:35.442Z"
   },
   {
    "duration": 38,
    "start_time": "2024-09-26T20:07:35.446Z"
   },
   {
    "duration": 24,
    "start_time": "2024-09-26T20:07:35.486Z"
   },
   {
    "duration": 17,
    "start_time": "2024-09-26T20:07:35.512Z"
   },
   {
    "duration": 7,
    "start_time": "2024-09-26T20:07:35.531Z"
   },
   {
    "duration": 11,
    "start_time": "2024-09-26T20:07:35.539Z"
   },
   {
    "duration": 15,
    "start_time": "2024-09-26T20:07:35.551Z"
   },
   {
    "duration": 9698,
    "start_time": "2024-09-26T20:07:35.568Z"
   },
   {
    "duration": 964,
    "start_time": "2024-09-26T20:07:45.267Z"
   },
   {
    "duration": 11,
    "start_time": "2024-09-26T20:07:46.232Z"
   },
   {
    "duration": 11,
    "start_time": "2024-09-26T20:07:46.244Z"
   },
   {
    "duration": 697494,
    "start_time": "2024-09-26T20:07:46.256Z"
   },
   {
    "duration": 4,
    "start_time": "2024-09-26T20:19:23.755Z"
   },
   {
    "duration": 15,
    "start_time": "2024-09-26T20:19:23.760Z"
   },
   {
    "duration": 39592,
    "start_time": "2024-09-26T20:19:23.776Z"
   },
   {
    "duration": 1151,
    "start_time": "2024-09-26T20:20:03.370Z"
   },
   {
    "duration": 232,
    "start_time": "2024-09-26T20:20:04.523Z"
   },
   {
    "duration": 403,
    "start_time": "2024-09-26T20:20:04.757Z"
   },
   {
    "duration": 4,
    "start_time": "2024-09-26T20:20:05.162Z"
   },
   {
    "duration": 936,
    "start_time": "2024-09-26T20:20:05.168Z"
   },
   {
    "duration": 4,
    "start_time": "2024-09-26T21:38:00.156Z"
   },
   {
    "duration": 4,
    "start_time": "2024-09-26T21:38:00.752Z"
   },
   {
    "duration": 164,
    "start_time": "2024-09-26T21:38:02.698Z"
   },
   {
    "duration": 4,
    "start_time": "2024-09-26T21:38:07.282Z"
   },
   {
    "duration": 3,
    "start_time": "2024-09-26T21:38:07.687Z"
   },
   {
    "duration": 4,
    "start_time": "2024-09-26T21:38:08.025Z"
   },
   {
    "duration": 23545,
    "start_time": "2024-09-26T21:38:09.911Z"
   },
   {
    "duration": 46215,
    "start_time": "2024-09-26T21:38:42.538Z"
   },
   {
    "duration": 88869,
    "start_time": "2024-09-26T21:56:36.387Z"
   },
   {
    "duration": 897,
    "start_time": "2024-09-26T21:59:08.389Z"
   },
   {
    "duration": 7,
    "start_time": "2024-09-26T22:01:01.458Z"
   },
   {
    "duration": 7,
    "start_time": "2024-09-26T22:01:07.393Z"
   },
   {
    "duration": 206376,
    "start_time": "2024-09-26T22:01:13.610Z"
   },
   {
    "duration": 4,
    "start_time": "2024-09-26T22:04:42.329Z"
   },
   {
    "duration": 4,
    "start_time": "2024-09-26T22:04:44.129Z"
   },
   {
    "duration": 15111,
    "start_time": "2024-09-26T22:04:47.546Z"
   },
   {
    "duration": 15612,
    "start_time": "2024-09-26T22:05:13.443Z"
   },
   {
    "duration": 7093,
    "start_time": "2024-09-26T22:05:38.667Z"
   },
   {
    "duration": 34062,
    "start_time": "2024-09-26T22:06:22.593Z"
   },
   {
    "duration": 860,
    "start_time": "2024-09-26T22:07:07.825Z"
   },
   {
    "duration": 7,
    "start_time": "2024-09-26T22:08:11.410Z"
   },
   {
    "duration": 933465,
    "start_time": "2024-09-26T22:08:13.505Z"
   },
   {
    "duration": 14,
    "start_time": "2024-09-26T22:23:50.334Z"
   },
   {
    "duration": 218,
    "start_time": "2024-09-26T22:23:54.871Z"
   },
   {
    "duration": 6,
    "start_time": "2024-09-26T22:35:49.259Z"
   },
   {
    "duration": 3,
    "start_time": "2024-09-26T22:35:59.457Z"
   },
   {
    "duration": 6,
    "start_time": "2024-09-26T22:37:58.386Z"
   },
   {
    "duration": 485735,
    "start_time": "2024-09-26T22:38:08.129Z"
   },
   {
    "duration": 11,
    "start_time": "2024-09-26T22:46:39.302Z"
   },
   {
    "duration": 7,
    "start_time": "2024-09-26T22:48:20.935Z"
   },
   {
    "duration": 7,
    "start_time": "2024-09-26T22:48:21.757Z"
   },
   {
    "duration": 5,
    "start_time": "2024-09-26T22:48:40.927Z"
   },
   {
    "duration": 3,
    "start_time": "2024-09-26T22:48:42.470Z"
   },
   {
    "duration": 2,
    "start_time": "2024-09-26T22:48:43.974Z"
   },
   {
    "duration": 12655,
    "start_time": "2024-09-26T22:48:45.503Z"
   },
   {
    "duration": 6958,
    "start_time": "2024-09-26T22:49:04.993Z"
   },
   {
    "duration": 24701,
    "start_time": "2024-09-26T22:49:14.255Z"
   },
   {
    "duration": 25318,
    "start_time": "2024-09-26T22:49:43.337Z"
   },
   {
    "duration": 89453,
    "start_time": "2024-09-26T22:50:12.712Z"
   },
   {
    "duration": 3,
    "start_time": "2024-09-26T22:52:22.238Z"
   },
   {
    "duration": 3,
    "start_time": "2024-09-26T22:52:30.438Z"
   },
   {
    "duration": 3,
    "start_time": "2024-09-26T22:52:33.685Z"
   },
   {
    "duration": 888,
    "start_time": "2024-09-26T22:52:38.357Z"
   },
   {
    "duration": 7,
    "start_time": "2024-09-26T22:52:54.215Z"
   },
   {
    "duration": 6,
    "start_time": "2024-09-26T22:52:58.567Z"
   },
   {
    "duration": 0,
    "start_time": "2024-09-26T22:53:12.165Z"
   },
   {
    "duration": 415042,
    "start_time": "2024-09-26T22:53:13.822Z"
   },
   {
    "duration": 2356,
    "start_time": "2024-09-26T23:02:15.167Z"
   },
   {
    "duration": 1961,
    "start_time": "2024-09-26T23:02:17.525Z"
   },
   {
    "duration": 29,
    "start_time": "2024-09-26T23:02:19.488Z"
   },
   {
    "duration": 3,
    "start_time": "2024-09-26T23:02:19.519Z"
   },
   {
    "duration": 24,
    "start_time": "2024-09-26T23:02:19.525Z"
   },
   {
    "duration": 7,
    "start_time": "2024-09-26T23:02:19.551Z"
   },
   {
    "duration": 8,
    "start_time": "2024-09-26T23:02:19.560Z"
   },
   {
    "duration": 8,
    "start_time": "2024-09-26T23:02:19.570Z"
   },
   {
    "duration": 7,
    "start_time": "2024-09-26T23:02:19.580Z"
   },
   {
    "duration": 8,
    "start_time": "2024-09-26T23:02:19.588Z"
   },
   {
    "duration": 11,
    "start_time": "2024-09-26T23:02:19.597Z"
   },
   {
    "duration": 224,
    "start_time": "2024-09-26T23:02:19.609Z"
   },
   {
    "duration": 9,
    "start_time": "2024-09-26T23:02:19.834Z"
   },
   {
    "duration": 381,
    "start_time": "2024-09-26T23:02:19.846Z"
   },
   {
    "duration": 165,
    "start_time": "2024-09-26T23:02:20.229Z"
   },
   {
    "duration": 3,
    "start_time": "2024-09-26T23:02:20.395Z"
   },
   {
    "duration": 34,
    "start_time": "2024-09-26T23:02:20.399Z"
   },
   {
    "duration": 24,
    "start_time": "2024-09-26T23:02:20.435Z"
   },
   {
    "duration": 20,
    "start_time": "2024-09-26T23:02:20.461Z"
   },
   {
    "duration": 10,
    "start_time": "2024-09-26T23:02:20.483Z"
   },
   {
    "duration": 8,
    "start_time": "2024-09-26T23:02:20.495Z"
   },
   {
    "duration": 6,
    "start_time": "2024-09-26T23:02:20.504Z"
   },
   {
    "duration": 27440,
    "start_time": "2024-09-26T23:02:20.511Z"
   },
   {
    "duration": 3,
    "start_time": "2024-09-26T23:02:47.953Z"
   },
   {
    "duration": 903,
    "start_time": "2024-09-26T23:02:47.957Z"
   },
   {
    "duration": 7,
    "start_time": "2024-09-26T23:02:48.862Z"
   },
   {
    "duration": 7,
    "start_time": "2024-09-26T23:02:48.870Z"
   },
   {
    "duration": 315334,
    "start_time": "2024-09-26T23:02:48.879Z"
   },
   {
    "duration": 0,
    "start_time": "2024-09-26T23:08:04.215Z"
   },
   {
    "duration": 0,
    "start_time": "2024-09-26T23:08:04.216Z"
   },
   {
    "duration": 0,
    "start_time": "2024-09-26T23:08:04.217Z"
   },
   {
    "duration": 0,
    "start_time": "2024-09-26T23:08:04.218Z"
   },
   {
    "duration": 0,
    "start_time": "2024-09-26T23:08:04.219Z"
   },
   {
    "duration": 0,
    "start_time": "2024-09-26T23:08:04.220Z"
   },
   {
    "duration": 7,
    "start_time": "2024-09-26T23:08:19.681Z"
   },
   {
    "duration": 6,
    "start_time": "2024-09-26T23:08:21.610Z"
   },
   {
    "duration": 16029,
    "start_time": "2024-09-26T23:08:24.538Z"
   },
   {
    "duration": 8,
    "start_time": "2024-09-26T23:08:50.107Z"
   },
   {
    "duration": 37,
    "start_time": "2024-09-26T23:08:52.241Z"
   },
   {
    "duration": 6,
    "start_time": "2024-09-26T23:09:03.100Z"
   },
   {
    "duration": 10,
    "start_time": "2024-09-26T23:09:05.067Z"
   },
   {
    "duration": 35,
    "start_time": "2024-09-26T23:09:06.697Z"
   },
   {
    "duration": 7,
    "start_time": "2024-09-26T23:09:22.258Z"
   },
   {
    "duration": 6,
    "start_time": "2024-09-26T23:09:22.921Z"
   },
   {
    "duration": 7,
    "start_time": "2024-09-26T23:09:23.897Z"
   },
   {
    "duration": 35,
    "start_time": "2024-09-26T23:09:24.425Z"
   },
   {
    "duration": 7,
    "start_time": "2024-09-26T23:09:39.116Z"
   },
   {
    "duration": 13,
    "start_time": "2024-09-26T23:10:32.834Z"
   },
   {
    "duration": 5,
    "start_time": "2024-09-26T23:10:38.696Z"
   },
   {
    "duration": 3,
    "start_time": "2024-09-26T23:10:39.000Z"
   },
   {
    "duration": 3,
    "start_time": "2024-09-26T23:10:39.568Z"
   },
   {
    "duration": 8427,
    "start_time": "2024-09-26T23:10:40.240Z"
   },
   {
    "duration": 4,
    "start_time": "2024-09-26T23:10:51.584Z"
   },
   {
    "duration": 976,
    "start_time": "2024-09-26T23:10:53.329Z"
   },
   {
    "duration": 885,
    "start_time": "2024-09-26T23:10:58.008Z"
   },
   {
    "duration": 6,
    "start_time": "2024-09-26T23:11:11.315Z"
   },
   {
    "duration": 7,
    "start_time": "2024-09-26T23:11:30.427Z"
   },
   {
    "duration": 7,
    "start_time": "2024-09-26T23:11:31.632Z"
   },
   {
    "duration": 110601,
    "start_time": "2024-09-26T23:11:33.752Z"
   },
   {
    "duration": 255,
    "start_time": "2024-09-26T23:14:28.855Z"
   },
   {
    "duration": 7,
    "start_time": "2024-09-26T23:15:00.346Z"
   },
   {
    "duration": 63094,
    "start_time": "2024-09-26T23:15:00.793Z"
   },
   {
    "duration": 6,
    "start_time": "2024-09-26T23:16:24.657Z"
   },
   {
    "duration": 24282,
    "start_time": "2024-09-26T23:16:25.081Z"
   },
   {
    "duration": 8,
    "start_time": "2024-09-26T23:18:09.160Z"
   },
   {
    "duration": 6,
    "start_time": "2024-09-26T23:18:13.232Z"
   },
   {
    "duration": 15140,
    "start_time": "2024-09-26T23:18:14.223Z"
   },
   {
    "duration": 10,
    "start_time": "2024-09-26T23:18:32.670Z"
   },
   {
    "duration": 17,
    "start_time": "2024-09-26T23:18:42.510Z"
   },
   {
    "duration": 16,
    "start_time": "2024-09-26T23:18:45.624Z"
   },
   {
    "duration": 12193,
    "start_time": "2024-09-26T23:19:36.961Z"
   },
   {
    "duration": 32113,
    "start_time": "2024-09-26T23:20:00.247Z"
   },
   {
    "duration": 0,
    "start_time": "2024-09-26T23:20:32.362Z"
   },
   {
    "duration": 4,
    "start_time": "2024-09-26T23:20:33.390Z"
   },
   {
    "duration": 3,
    "start_time": "2024-09-26T23:20:35.661Z"
   },
   {
    "duration": 4,
    "start_time": "2024-09-26T23:20:37.871Z"
   },
   {
    "duration": 0,
    "start_time": "2024-09-26T23:20:53.155Z"
   },
   {
    "duration": 3531,
    "start_time": "2024-09-26T23:20:53.822Z"
   },
   {
    "duration": 20951,
    "start_time": "2024-09-26T23:20:58.310Z"
   },
   {
    "duration": 2343,
    "start_time": "2024-09-26T23:22:04.845Z"
   },
   {
    "duration": 1831,
    "start_time": "2024-09-26T23:22:07.190Z"
   },
   {
    "duration": 29,
    "start_time": "2024-09-26T23:22:09.022Z"
   },
   {
    "duration": 75,
    "start_time": "2024-09-26T23:22:09.053Z"
   },
   {
    "duration": 41,
    "start_time": "2024-09-26T23:22:09.129Z"
   },
   {
    "duration": 6,
    "start_time": "2024-09-26T23:22:09.172Z"
   },
   {
    "duration": 10,
    "start_time": "2024-09-26T23:22:09.180Z"
   },
   {
    "duration": 8,
    "start_time": "2024-09-26T23:22:09.191Z"
   },
   {
    "duration": 28,
    "start_time": "2024-09-26T23:22:09.201Z"
   },
   {
    "duration": 34,
    "start_time": "2024-09-26T23:22:09.232Z"
   },
   {
    "duration": 19,
    "start_time": "2024-09-26T23:22:09.268Z"
   },
   {
    "duration": 215,
    "start_time": "2024-09-26T23:22:09.289Z"
   },
   {
    "duration": 4,
    "start_time": "2024-09-26T23:22:09.506Z"
   },
   {
    "duration": 347,
    "start_time": "2024-09-26T23:22:09.511Z"
   },
   {
    "duration": 181,
    "start_time": "2024-09-26T23:22:09.859Z"
   },
   {
    "duration": 2,
    "start_time": "2024-09-26T23:22:10.043Z"
   },
   {
    "duration": 21,
    "start_time": "2024-09-26T23:22:10.047Z"
   },
   {
    "duration": 17,
    "start_time": "2024-09-26T23:22:10.069Z"
   },
   {
    "duration": 7,
    "start_time": "2024-09-26T23:22:10.087Z"
   },
   {
    "duration": 8,
    "start_time": "2024-09-26T23:22:10.095Z"
   },
   {
    "duration": 76,
    "start_time": "2024-09-26T23:22:10.105Z"
   },
   {
    "duration": 11,
    "start_time": "2024-09-26T23:22:10.182Z"
   },
   {
    "duration": 8653,
    "start_time": "2024-09-26T23:22:10.194Z"
   },
   {
    "duration": 3,
    "start_time": "2024-09-26T23:22:18.848Z"
   },
   {
    "duration": 908,
    "start_time": "2024-09-26T23:22:18.852Z"
   },
   {
    "duration": 7,
    "start_time": "2024-09-26T23:22:19.762Z"
   },
   {
    "duration": 8,
    "start_time": "2024-09-26T23:22:19.770Z"
   },
   {
    "duration": 21724,
    "start_time": "2024-09-26T23:22:19.780Z"
   },
   {
    "duration": 0,
    "start_time": "2024-09-26T23:22:41.506Z"
   },
   {
    "duration": 0,
    "start_time": "2024-09-26T23:22:41.507Z"
   },
   {
    "duration": 0,
    "start_time": "2024-09-26T23:22:41.508Z"
   },
   {
    "duration": 0,
    "start_time": "2024-09-26T23:22:41.509Z"
   },
   {
    "duration": 0,
    "start_time": "2024-09-26T23:22:41.511Z"
   },
   {
    "duration": 0,
    "start_time": "2024-09-26T23:22:41.512Z"
   },
   {
    "duration": 5,
    "start_time": "2024-09-26T23:22:50.296Z"
   },
   {
    "duration": 3,
    "start_time": "2024-09-26T23:22:50.623Z"
   },
   {
    "duration": 3,
    "start_time": "2024-09-26T23:22:51.053Z"
   },
   {
    "duration": 8783,
    "start_time": "2024-09-26T23:22:51.670Z"
   },
   {
    "duration": 5079,
    "start_time": "2024-09-26T23:23:01.585Z"
   },
   {
    "duration": 6017,
    "start_time": "2024-09-26T23:23:23.837Z"
   },
   {
    "duration": 4,
    "start_time": "2024-09-26T23:24:41.502Z"
   },
   {
    "duration": 4439,
    "start_time": "2024-09-26T23:24:42.215Z"
   },
   {
    "duration": 3609,
    "start_time": "2024-09-26T23:24:48.143Z"
   },
   {
    "duration": 2224,
    "start_time": "2024-09-26T23:24:52.534Z"
   },
   {
    "duration": 2351,
    "start_time": "2024-09-26T23:24:55.502Z"
   },
   {
    "duration": 4960,
    "start_time": "2024-09-26T23:24:58.597Z"
   },
   {
    "duration": 5,
    "start_time": "2024-09-26T23:27:16.876Z"
   },
   {
    "duration": 3931,
    "start_time": "2024-09-26T23:27:20.825Z"
   },
   {
    "duration": 7655,
    "start_time": "2024-09-26T23:27:28.598Z"
   },
   {
    "duration": 8559,
    "start_time": "2024-09-26T23:27:37.101Z"
   },
   {
    "duration": 8735,
    "start_time": "2024-09-26T23:27:51.325Z"
   },
   {
    "duration": 19784,
    "start_time": "2024-09-26T23:28:00.973Z"
   },
   {
    "duration": 8814,
    "start_time": "2024-09-26T23:28:28.939Z"
   },
   {
    "duration": 5696,
    "start_time": "2024-09-26T23:28:38.557Z"
   },
   {
    "duration": 9,
    "start_time": "2024-09-26T23:29:32.899Z"
   },
   {
    "duration": 10,
    "start_time": "2024-09-26T23:30:37.226Z"
   },
   {
    "duration": 4,
    "start_time": "2024-09-26T23:31:11.619Z"
   },
   {
    "duration": 3642,
    "start_time": "2024-09-26T23:31:14.228Z"
   },
   {
    "duration": 6522,
    "start_time": "2024-09-26T23:31:20.339Z"
   },
   {
    "duration": 7017,
    "start_time": "2024-09-26T23:31:28.035Z"
   },
   {
    "duration": 6,
    "start_time": "2024-09-26T23:31:59.029Z"
   },
   {
    "duration": 2368,
    "start_time": "2024-09-26T23:32:09.371Z"
   },
   {
    "duration": 1827,
    "start_time": "2024-09-26T23:32:11.741Z"
   },
   {
    "duration": 28,
    "start_time": "2024-09-26T23:32:13.570Z"
   },
   {
    "duration": 3,
    "start_time": "2024-09-26T23:32:13.600Z"
   },
   {
    "duration": 21,
    "start_time": "2024-09-26T23:32:13.604Z"
   },
   {
    "duration": 5,
    "start_time": "2024-09-26T23:32:13.627Z"
   },
   {
    "duration": 21,
    "start_time": "2024-09-26T23:32:13.633Z"
   },
   {
    "duration": 7,
    "start_time": "2024-09-26T23:32:13.656Z"
   },
   {
    "duration": 5,
    "start_time": "2024-09-26T23:32:13.665Z"
   },
   {
    "duration": 9,
    "start_time": "2024-09-26T23:32:13.673Z"
   },
   {
    "duration": 9,
    "start_time": "2024-09-26T23:32:13.683Z"
   },
   {
    "duration": 205,
    "start_time": "2024-09-26T23:32:13.694Z"
   },
   {
    "duration": 5,
    "start_time": "2024-09-26T23:32:13.902Z"
   },
   {
    "duration": 371,
    "start_time": "2024-09-26T23:32:13.908Z"
   },
   {
    "duration": 152,
    "start_time": "2024-09-26T23:32:14.281Z"
   },
   {
    "duration": 8,
    "start_time": "2024-09-26T23:32:14.435Z"
   },
   {
    "duration": 13,
    "start_time": "2024-09-26T23:32:14.444Z"
   },
   {
    "duration": 11,
    "start_time": "2024-09-26T23:32:14.459Z"
   },
   {
    "duration": 8,
    "start_time": "2024-09-26T23:32:14.472Z"
   },
   {
    "duration": 7,
    "start_time": "2024-09-26T23:32:14.481Z"
   },
   {
    "duration": 104,
    "start_time": "2024-09-26T23:32:14.489Z"
   },
   {
    "duration": 13,
    "start_time": "2024-09-26T23:32:14.594Z"
   },
   {
    "duration": 5070,
    "start_time": "2024-09-26T23:32:14.608Z"
   },
   {
    "duration": 0,
    "start_time": "2024-09-26T23:32:19.680Z"
   },
   {
    "duration": 0,
    "start_time": "2024-09-26T23:32:19.681Z"
   },
   {
    "duration": 0,
    "start_time": "2024-09-26T23:32:19.682Z"
   },
   {
    "duration": 0,
    "start_time": "2024-09-26T23:32:19.683Z"
   },
   {
    "duration": 0,
    "start_time": "2024-09-26T23:32:19.684Z"
   },
   {
    "duration": 0,
    "start_time": "2024-09-26T23:32:19.685Z"
   },
   {
    "duration": 0,
    "start_time": "2024-09-26T23:32:19.685Z"
   },
   {
    "duration": 0,
    "start_time": "2024-09-26T23:32:19.686Z"
   },
   {
    "duration": 0,
    "start_time": "2024-09-26T23:32:19.687Z"
   },
   {
    "duration": 0,
    "start_time": "2024-09-26T23:32:19.688Z"
   },
   {
    "duration": 0,
    "start_time": "2024-09-26T23:32:19.689Z"
   },
   {
    "duration": 0,
    "start_time": "2024-09-26T23:32:32.055Z"
   },
   {
    "duration": 5,
    "start_time": "2024-09-26T23:32:33.819Z"
   },
   {
    "duration": 3,
    "start_time": "2024-09-26T23:32:34.156Z"
   },
   {
    "duration": 2,
    "start_time": "2024-09-26T23:32:34.450Z"
   },
   {
    "duration": 4112,
    "start_time": "2024-09-26T23:32:35.155Z"
   },
   {
    "duration": 4,
    "start_time": "2024-09-26T23:32:41.890Z"
   },
   {
    "duration": 2,
    "start_time": "2024-09-26T23:32:42.267Z"
   },
   {
    "duration": 3,
    "start_time": "2024-09-26T23:32:42.674Z"
   },
   {
    "duration": 3925,
    "start_time": "2024-09-26T23:32:43.827Z"
   },
   {
    "duration": 5,
    "start_time": "2024-09-26T23:32:48.674Z"
   },
   {
    "duration": 2,
    "start_time": "2024-09-26T23:32:48.995Z"
   },
   {
    "duration": 2,
    "start_time": "2024-09-26T23:32:49.427Z"
   },
   {
    "duration": 16180,
    "start_time": "2024-09-26T23:32:49.985Z"
   },
   {
    "duration": 2324,
    "start_time": "2024-09-26T23:33:20.568Z"
   },
   {
    "duration": 1773,
    "start_time": "2024-09-26T23:33:22.893Z"
   },
   {
    "duration": 28,
    "start_time": "2024-09-26T23:33:24.667Z"
   },
   {
    "duration": 11,
    "start_time": "2024-09-26T23:33:24.697Z"
   },
   {
    "duration": 55,
    "start_time": "2024-09-26T23:33:24.709Z"
   },
   {
    "duration": 13,
    "start_time": "2024-09-26T23:33:24.765Z"
   },
   {
    "duration": 47,
    "start_time": "2024-09-26T23:33:24.780Z"
   },
   {
    "duration": 31,
    "start_time": "2024-09-26T23:33:24.828Z"
   },
   {
    "duration": 24,
    "start_time": "2024-09-26T23:33:24.860Z"
   },
   {
    "duration": 29,
    "start_time": "2024-09-26T23:33:24.888Z"
   },
   {
    "duration": 20,
    "start_time": "2024-09-26T23:33:24.919Z"
   },
   {
    "duration": 221,
    "start_time": "2024-09-26T23:33:24.940Z"
   },
   {
    "duration": 3,
    "start_time": "2024-09-26T23:33:25.163Z"
   },
   {
    "duration": 357,
    "start_time": "2024-09-26T23:33:25.168Z"
   },
   {
    "duration": 181,
    "start_time": "2024-09-26T23:33:25.527Z"
   },
   {
    "duration": 3,
    "start_time": "2024-09-26T23:33:25.709Z"
   },
   {
    "duration": 9,
    "start_time": "2024-09-26T23:33:25.714Z"
   },
   {
    "duration": 39,
    "start_time": "2024-09-26T23:33:25.725Z"
   },
   {
    "duration": 39,
    "start_time": "2024-09-26T23:33:25.766Z"
   },
   {
    "duration": 10,
    "start_time": "2024-09-26T23:33:25.807Z"
   },
   {
    "duration": 26,
    "start_time": "2024-09-26T23:33:25.819Z"
   },
   {
    "duration": 25,
    "start_time": "2024-09-26T23:33:25.847Z"
   },
   {
    "duration": 1113,
    "start_time": "2024-09-26T23:33:25.874Z"
   },
   {
    "duration": 0,
    "start_time": "2024-09-26T23:33:26.989Z"
   },
   {
    "duration": 0,
    "start_time": "2024-09-26T23:33:26.990Z"
   },
   {
    "duration": 0,
    "start_time": "2024-09-26T23:33:26.991Z"
   },
   {
    "duration": 0,
    "start_time": "2024-09-26T23:33:26.992Z"
   },
   {
    "duration": 0,
    "start_time": "2024-09-26T23:33:26.993Z"
   },
   {
    "duration": 0,
    "start_time": "2024-09-26T23:33:26.994Z"
   },
   {
    "duration": 0,
    "start_time": "2024-09-26T23:33:26.994Z"
   },
   {
    "duration": 0,
    "start_time": "2024-09-26T23:33:26.995Z"
   },
   {
    "duration": 0,
    "start_time": "2024-09-26T23:33:26.996Z"
   },
   {
    "duration": 0,
    "start_time": "2024-09-26T23:33:26.997Z"
   },
   {
    "duration": 0,
    "start_time": "2024-09-26T23:33:26.998Z"
   },
   {
    "duration": 93,
    "start_time": "2024-09-26T23:38:22.827Z"
   },
   {
    "duration": 2282,
    "start_time": "2024-09-26T23:39:15.799Z"
   },
   {
    "duration": 1807,
    "start_time": "2024-09-26T23:39:18.083Z"
   },
   {
    "duration": 29,
    "start_time": "2024-09-26T23:39:19.891Z"
   },
   {
    "duration": 4,
    "start_time": "2024-09-26T23:39:19.922Z"
   },
   {
    "duration": 30,
    "start_time": "2024-09-26T23:39:19.928Z"
   },
   {
    "duration": 7,
    "start_time": "2024-09-26T23:39:19.959Z"
   },
   {
    "duration": 10,
    "start_time": "2024-09-26T23:39:19.967Z"
   },
   {
    "duration": 5,
    "start_time": "2024-09-26T23:39:19.979Z"
   },
   {
    "duration": 5,
    "start_time": "2024-09-26T23:39:19.986Z"
   },
   {
    "duration": 7,
    "start_time": "2024-09-26T23:39:19.994Z"
   },
   {
    "duration": 42,
    "start_time": "2024-09-26T23:39:20.003Z"
   },
   {
    "duration": 208,
    "start_time": "2024-09-26T23:39:20.046Z"
   },
   {
    "duration": 4,
    "start_time": "2024-09-26T23:39:20.256Z"
   },
   {
    "duration": 341,
    "start_time": "2024-09-26T23:39:20.261Z"
   },
   {
    "duration": 150,
    "start_time": "2024-09-26T23:39:20.603Z"
   },
   {
    "duration": 12,
    "start_time": "2024-09-26T23:39:20.754Z"
   },
   {
    "duration": 3,
    "start_time": "2024-09-26T23:39:20.768Z"
   },
   {
    "duration": 14,
    "start_time": "2024-09-26T23:39:20.773Z"
   },
   {
    "duration": 7,
    "start_time": "2024-09-26T23:39:20.788Z"
   },
   {
    "duration": 16,
    "start_time": "2024-09-26T23:39:20.796Z"
   },
   {
    "duration": 10,
    "start_time": "2024-09-26T23:39:20.814Z"
   },
   {
    "duration": 5,
    "start_time": "2024-09-26T23:39:20.825Z"
   },
   {
    "duration": 23285,
    "start_time": "2024-09-26T23:39:20.831Z"
   },
   {
    "duration": 0,
    "start_time": "2024-09-26T23:39:44.118Z"
   },
   {
    "duration": 0,
    "start_time": "2024-09-26T23:39:44.120Z"
   },
   {
    "duration": 0,
    "start_time": "2024-09-26T23:39:44.121Z"
   },
   {
    "duration": 0,
    "start_time": "2024-09-26T23:39:44.122Z"
   },
   {
    "duration": 0,
    "start_time": "2024-09-26T23:39:44.123Z"
   },
   {
    "duration": 0,
    "start_time": "2024-09-26T23:39:44.124Z"
   },
   {
    "duration": 0,
    "start_time": "2024-09-26T23:39:44.125Z"
   },
   {
    "duration": 3750,
    "start_time": "2024-09-26T23:39:53.207Z"
   },
   {
    "duration": 2833,
    "start_time": "2024-09-26T23:39:57.720Z"
   },
   {
    "duration": 42594,
    "start_time": "2024-09-26T23:40:01.561Z"
   },
   {
    "duration": 3,
    "start_time": "2024-09-26T23:40:47.152Z"
   },
   {
    "duration": 3,
    "start_time": "2024-09-26T23:40:55.376Z"
   },
   {
    "duration": 2,
    "start_time": "2024-09-26T23:40:56.138Z"
   },
   {
    "duration": 11,
    "start_time": "2024-09-26T23:40:56.368Z"
   },
   {
    "duration": 5,
    "start_time": "2024-09-26T23:40:56.600Z"
   },
   {
    "duration": 5,
    "start_time": "2024-09-26T23:40:56.904Z"
   },
   {
    "duration": 3,
    "start_time": "2024-09-26T23:40:57.200Z"
   },
   {
    "duration": 3,
    "start_time": "2024-09-26T23:40:57.600Z"
   },
   {
    "duration": 42827,
    "start_time": "2024-09-26T23:40:58.232Z"
   },
   {
    "duration": 4,
    "start_time": "2024-09-26T23:41:42.104Z"
   },
   {
    "duration": 872,
    "start_time": "2024-09-26T23:41:42.448Z"
   },
   {
    "duration": 6,
    "start_time": "2024-09-26T23:42:19.047Z"
   },
   {
    "duration": 5,
    "start_time": "2024-09-26T23:42:43.385Z"
   },
   {
    "duration": 4,
    "start_time": "2024-09-26T23:42:44.432Z"
   },
   {
    "duration": 3,
    "start_time": "2024-09-26T23:42:44.976Z"
   },
   {
    "duration": 3,
    "start_time": "2024-09-26T23:42:45.495Z"
   },
   {
    "duration": 4268,
    "start_time": "2024-09-26T23:42:46.487Z"
   },
   {
    "duration": 43489,
    "start_time": "2024-09-26T23:42:51.455Z"
   },
   {
    "duration": 2380,
    "start_time": "2024-09-26T23:43:44.064Z"
   },
   {
    "duration": 1822,
    "start_time": "2024-09-26T23:43:46.446Z"
   },
   {
    "duration": 29,
    "start_time": "2024-09-26T23:43:48.269Z"
   },
   {
    "duration": 4,
    "start_time": "2024-09-26T23:43:48.300Z"
   },
   {
    "duration": 114,
    "start_time": "2024-09-26T23:43:48.305Z"
   },
   {
    "duration": 6,
    "start_time": "2024-09-26T23:43:48.420Z"
   },
   {
    "duration": 10,
    "start_time": "2024-09-26T23:43:48.428Z"
   },
   {
    "duration": 5,
    "start_time": "2024-09-26T23:43:48.439Z"
   },
   {
    "duration": 5,
    "start_time": "2024-09-26T23:43:48.445Z"
   },
   {
    "duration": 13,
    "start_time": "2024-09-26T23:43:48.452Z"
   },
   {
    "duration": 19,
    "start_time": "2024-09-26T23:43:48.467Z"
   },
   {
    "duration": 194,
    "start_time": "2024-09-26T23:43:48.488Z"
   },
   {
    "duration": 4,
    "start_time": "2024-09-26T23:43:48.683Z"
   },
   {
    "duration": 349,
    "start_time": "2024-09-26T23:43:48.688Z"
   },
   {
    "duration": 162,
    "start_time": "2024-09-26T23:43:49.038Z"
   },
   {
    "duration": 3,
    "start_time": "2024-09-26T23:43:49.202Z"
   },
   {
    "duration": 9,
    "start_time": "2024-09-26T23:43:49.206Z"
   },
   {
    "duration": 30,
    "start_time": "2024-09-26T23:43:49.216Z"
   },
   {
    "duration": 6,
    "start_time": "2024-09-26T23:43:49.248Z"
   },
   {
    "duration": 13,
    "start_time": "2024-09-26T23:43:49.255Z"
   },
   {
    "duration": 7,
    "start_time": "2024-09-26T23:43:49.270Z"
   },
   {
    "duration": 5,
    "start_time": "2024-09-26T23:43:49.278Z"
   },
   {
    "duration": 23646,
    "start_time": "2024-09-26T23:43:49.285Z"
   },
   {
    "duration": 0,
    "start_time": "2024-09-26T23:44:12.932Z"
   },
   {
    "duration": 0,
    "start_time": "2024-09-26T23:44:12.933Z"
   },
   {
    "duration": 0,
    "start_time": "2024-09-26T23:44:12.935Z"
   },
   {
    "duration": 0,
    "start_time": "2024-09-26T23:44:12.935Z"
   },
   {
    "duration": 0,
    "start_time": "2024-09-26T23:44:12.936Z"
   },
   {
    "duration": 0,
    "start_time": "2024-09-26T23:44:12.943Z"
   },
   {
    "duration": 0,
    "start_time": "2024-09-26T23:44:12.944Z"
   },
   {
    "duration": 2,
    "start_time": "2024-09-26T23:46:02.327Z"
   },
   {
    "duration": 2325,
    "start_time": "2024-09-26T23:48:19.532Z"
   },
   {
    "duration": 1911,
    "start_time": "2024-09-26T23:48:21.859Z"
   },
   {
    "duration": 30,
    "start_time": "2024-09-26T23:48:23.772Z"
   },
   {
    "duration": 3,
    "start_time": "2024-09-26T23:48:23.804Z"
   },
   {
    "duration": 24,
    "start_time": "2024-09-26T23:48:23.808Z"
   },
   {
    "duration": 5,
    "start_time": "2024-09-26T23:48:23.833Z"
   },
   {
    "duration": 31,
    "start_time": "2024-09-26T23:48:23.840Z"
   },
   {
    "duration": 5,
    "start_time": "2024-09-26T23:48:23.872Z"
   },
   {
    "duration": 5,
    "start_time": "2024-09-26T23:48:23.878Z"
   },
   {
    "duration": 7,
    "start_time": "2024-09-26T23:48:23.886Z"
   },
   {
    "duration": 6,
    "start_time": "2024-09-26T23:48:23.894Z"
   },
   {
    "duration": 191,
    "start_time": "2024-09-26T23:48:23.902Z"
   },
   {
    "duration": 4,
    "start_time": "2024-09-26T23:48:24.095Z"
   },
   {
    "duration": 465,
    "start_time": "2024-09-26T23:48:24.100Z"
   },
   {
    "duration": 151,
    "start_time": "2024-09-26T23:48:24.567Z"
   },
   {
    "duration": 2,
    "start_time": "2024-09-26T23:48:24.719Z"
   },
   {
    "duration": 4,
    "start_time": "2024-09-26T23:48:24.722Z"
   },
   {
    "duration": 24,
    "start_time": "2024-09-26T23:48:24.728Z"
   },
   {
    "duration": 6,
    "start_time": "2024-09-26T23:48:24.754Z"
   },
   {
    "duration": 6,
    "start_time": "2024-09-26T23:48:24.762Z"
   },
   {
    "duration": 12,
    "start_time": "2024-09-26T23:48:24.770Z"
   },
   {
    "duration": 7,
    "start_time": "2024-09-26T23:48:24.784Z"
   },
   {
    "duration": 10,
    "start_time": "2024-09-26T23:48:24.792Z"
   },
   {
    "duration": 42147,
    "start_time": "2024-09-26T23:48:24.804Z"
   },
   {
    "duration": 3,
    "start_time": "2024-09-26T23:49:06.953Z"
   },
   {
    "duration": 875,
    "start_time": "2024-09-26T23:49:06.958Z"
   },
   {
    "duration": 11,
    "start_time": "2024-09-26T23:49:07.835Z"
   },
   {
    "duration": 7,
    "start_time": "2024-09-26T23:49:07.848Z"
   },
   {
    "duration": 540391,
    "start_time": "2024-09-26T23:49:07.856Z"
   },
   {
    "duration": 81,
    "start_time": "2024-09-26T23:58:08.249Z"
   },
   {
    "duration": 0,
    "start_time": "2024-09-26T23:58:08.331Z"
   },
   {
    "duration": 0,
    "start_time": "2024-09-26T23:58:08.332Z"
   },
   {
    "duration": 77,
    "start_time": "2024-09-26T23:58:50.603Z"
   },
   {
    "duration": 84,
    "start_time": "2024-09-26T23:58:59.852Z"
   },
   {
    "duration": 7384,
    "start_time": "2024-09-26T23:59:08.204Z"
   },
   {
    "duration": 68024,
    "start_time": "2024-09-26T23:59:16.629Z"
   },
   {
    "duration": 66636,
    "start_time": "2024-09-27T00:00:51.515Z"
   },
   {
    "duration": 995,
    "start_time": "2024-09-27T00:02:14.147Z"
   },
   {
    "duration": 142,
    "start_time": "2024-09-27T00:06:55.001Z"
   },
   {
    "duration": 148,
    "start_time": "2024-09-27T00:08:32.016Z"
   },
   {
    "duration": 160,
    "start_time": "2024-09-27T00:08:40.704Z"
   },
   {
    "duration": 148,
    "start_time": "2024-09-27T00:08:48.953Z"
   },
   {
    "duration": 147,
    "start_time": "2024-09-27T00:08:58.787Z"
   },
   {
    "duration": 154,
    "start_time": "2024-09-27T00:09:03.712Z"
   },
   {
    "duration": 159,
    "start_time": "2024-09-27T00:09:07.778Z"
   },
   {
    "duration": 151,
    "start_time": "2024-09-27T00:09:24.313Z"
   },
   {
    "duration": 157,
    "start_time": "2024-09-27T00:09:45.449Z"
   },
   {
    "duration": 259,
    "start_time": "2024-09-27T00:10:00.232Z"
   },
   {
    "duration": 142,
    "start_time": "2024-09-27T00:10:12.308Z"
   },
   {
    "duration": 136,
    "start_time": "2024-09-27T00:10:22.976Z"
   },
   {
    "duration": 141,
    "start_time": "2024-09-27T00:10:37.728Z"
   },
   {
    "duration": 143,
    "start_time": "2024-09-27T00:10:53.049Z"
   },
   {
    "duration": 906,
    "start_time": "2024-09-27T00:16:38.751Z"
   },
   {
    "duration": 840,
    "start_time": "2024-09-27T00:16:42.831Z"
   },
   {
    "duration": 1076,
    "start_time": "2024-09-27T00:16:49.767Z"
   },
   {
    "duration": 870,
    "start_time": "2024-09-27T00:17:00.720Z"
   },
   {
    "duration": 14,
    "start_time": "2024-09-27T00:17:24.279Z"
   },
   {
    "duration": 12,
    "start_time": "2024-09-27T00:17:36.895Z"
   },
   {
    "duration": 5,
    "start_time": "2024-09-27T00:17:43.191Z"
   },
   {
    "duration": 3,
    "start_time": "2024-09-27T00:17:47.503Z"
   },
   {
    "duration": 4,
    "start_time": "2024-09-27T00:17:59.894Z"
   },
   {
    "duration": 889,
    "start_time": "2024-09-27T00:18:54.248Z"
   },
   {
    "duration": 894,
    "start_time": "2024-09-27T00:19:22.192Z"
   },
   {
    "duration": 1036,
    "start_time": "2024-09-27T00:19:50.998Z"
   },
   {
    "duration": 912,
    "start_time": "2024-09-27T00:19:59.022Z"
   },
   {
    "duration": 2325,
    "start_time": "2024-09-27T00:22:24.695Z"
   },
   {
    "duration": 1910,
    "start_time": "2024-09-27T00:22:27.022Z"
   },
   {
    "duration": 29,
    "start_time": "2024-09-27T00:22:28.933Z"
   },
   {
    "duration": 3,
    "start_time": "2024-09-27T00:22:28.963Z"
   },
   {
    "duration": 29,
    "start_time": "2024-09-27T00:22:28.968Z"
   },
   {
    "duration": 14,
    "start_time": "2024-09-27T00:22:28.999Z"
   },
   {
    "duration": 22,
    "start_time": "2024-09-27T00:22:29.015Z"
   },
   {
    "duration": 6,
    "start_time": "2024-09-27T00:22:29.039Z"
   },
   {
    "duration": 4,
    "start_time": "2024-09-27T00:22:29.047Z"
   },
   {
    "duration": 7,
    "start_time": "2024-09-27T00:22:29.052Z"
   },
   {
    "duration": 8,
    "start_time": "2024-09-27T00:22:29.060Z"
   },
   {
    "duration": 224,
    "start_time": "2024-09-27T00:22:29.069Z"
   },
   {
    "duration": 4,
    "start_time": "2024-09-27T00:22:29.294Z"
   },
   {
    "duration": 403,
    "start_time": "2024-09-27T00:22:29.301Z"
   },
   {
    "duration": 161,
    "start_time": "2024-09-27T00:22:29.705Z"
   },
   {
    "duration": 174,
    "start_time": "2024-09-27T00:22:29.867Z"
   },
   {
    "duration": 159,
    "start_time": "2024-09-27T00:22:30.042Z"
   },
   {
    "duration": 149,
    "start_time": "2024-09-27T00:22:30.203Z"
   },
   {
    "duration": 2,
    "start_time": "2024-09-27T00:22:30.354Z"
   },
   {
    "duration": 17,
    "start_time": "2024-09-27T00:22:30.358Z"
   },
   {
    "duration": 25,
    "start_time": "2024-09-27T00:22:30.376Z"
   },
   {
    "duration": 38,
    "start_time": "2024-09-27T00:22:30.402Z"
   },
   {
    "duration": 18,
    "start_time": "2024-09-27T00:22:30.442Z"
   },
   {
    "duration": 16,
    "start_time": "2024-09-27T00:22:30.462Z"
   },
   {
    "duration": 106,
    "start_time": "2024-09-27T00:22:30.480Z"
   },
   {
    "duration": 23,
    "start_time": "2024-09-27T00:22:30.587Z"
   },
   {
    "duration": 41759,
    "start_time": "2024-09-27T00:22:30.612Z"
   },
   {
    "duration": 4,
    "start_time": "2024-09-27T00:23:12.443Z"
   },
   {
    "duration": 1002,
    "start_time": "2024-09-27T00:23:12.448Z"
   },
   {
    "duration": 7,
    "start_time": "2024-09-27T00:23:13.452Z"
   },
   {
    "duration": 14,
    "start_time": "2024-09-27T00:23:13.460Z"
   },
   {
    "duration": 528088,
    "start_time": "2024-09-27T00:23:13.476Z"
   },
   {
    "duration": 67589,
    "start_time": "2024-09-27T00:32:01.565Z"
   },
   {
    "duration": 971,
    "start_time": "2024-09-27T00:33:09.156Z"
   },
   {
    "duration": 4,
    "start_time": "2024-09-27T00:33:31.085Z"
   },
   {
    "duration": 2,
    "start_time": "2024-09-27T00:33:32.538Z"
   },
   {
    "duration": 42545,
    "start_time": "2024-09-27T00:33:35.627Z"
   },
   {
    "duration": 3,
    "start_time": "2024-09-27T00:36:54.364Z"
   },
   {
    "duration": 3885,
    "start_time": "2024-09-27T10:22:05.805Z"
   },
   {
    "duration": 3716,
    "start_time": "2024-09-27T10:22:09.692Z"
   },
   {
    "duration": 89,
    "start_time": "2024-09-27T10:22:13.410Z"
   },
   {
    "duration": 3,
    "start_time": "2024-09-27T10:22:13.501Z"
   },
   {
    "duration": 31,
    "start_time": "2024-09-27T10:22:13.506Z"
   },
   {
    "duration": 6,
    "start_time": "2024-09-27T10:22:13.538Z"
   },
   {
    "duration": 9,
    "start_time": "2024-09-27T10:22:13.545Z"
   },
   {
    "duration": 6,
    "start_time": "2024-09-27T10:22:13.556Z"
   },
   {
    "duration": 4,
    "start_time": "2024-09-27T10:22:13.563Z"
   },
   {
    "duration": 9,
    "start_time": "2024-09-27T10:22:13.569Z"
   },
   {
    "duration": 36,
    "start_time": "2024-09-27T10:22:13.579Z"
   },
   {
    "duration": 232,
    "start_time": "2024-09-27T10:22:13.617Z"
   },
   {
    "duration": 4,
    "start_time": "2024-09-27T10:22:13.851Z"
   },
   {
    "duration": 395,
    "start_time": "2024-09-27T10:22:13.858Z"
   },
   {
    "duration": 190,
    "start_time": "2024-09-27T10:22:14.255Z"
   },
   {
    "duration": 166,
    "start_time": "2024-09-27T10:22:14.447Z"
   },
   {
    "duration": 161,
    "start_time": "2024-09-27T10:22:14.615Z"
   },
   {
    "duration": 155,
    "start_time": "2024-09-27T10:22:14.777Z"
   },
   {
    "duration": 3,
    "start_time": "2024-09-27T10:22:14.934Z"
   },
   {
    "duration": 4,
    "start_time": "2024-09-27T10:22:14.938Z"
   },
   {
    "duration": 15,
    "start_time": "2024-09-27T10:22:14.943Z"
   },
   {
    "duration": 6,
    "start_time": "2024-09-27T10:22:14.960Z"
   },
   {
    "duration": 5,
    "start_time": "2024-09-27T10:22:14.967Z"
   },
   {
    "duration": 13,
    "start_time": "2024-09-27T10:22:14.974Z"
   },
   {
    "duration": 28,
    "start_time": "2024-09-27T10:22:14.988Z"
   },
   {
    "duration": 52,
    "start_time": "2024-09-27T10:22:15.017Z"
   },
   {
    "duration": 45646,
    "start_time": "2024-09-27T10:22:15.071Z"
   },
   {
    "duration": 4,
    "start_time": "2024-09-27T10:23:00.719Z"
   },
   {
    "duration": 1146,
    "start_time": "2024-09-27T10:23:00.724Z"
   },
   {
    "duration": 7,
    "start_time": "2024-09-27T10:23:01.872Z"
   },
   {
    "duration": 50,
    "start_time": "2024-09-27T10:23:01.881Z"
   },
   {
    "duration": 592494,
    "start_time": "2024-09-27T10:23:01.933Z"
   },
   {
    "duration": 64596,
    "start_time": "2024-09-27T10:32:54.430Z"
   },
   {
    "duration": 1022,
    "start_time": "2024-09-27T10:33:59.028Z"
   },
   {
    "duration": 2435,
    "start_time": "2024-09-27T14:27:58.608Z"
   },
   {
    "duration": 5,
    "start_time": "2024-09-27T14:28:01.045Z"
   },
   {
    "duration": 32,
    "start_time": "2024-09-27T14:28:04.671Z"
   },
   {
    "duration": 3,
    "start_time": "2024-09-27T14:28:05.204Z"
   },
   {
    "duration": 27,
    "start_time": "2024-09-27T14:28:06.012Z"
   },
   {
    "duration": 8,
    "start_time": "2024-09-27T14:28:08.781Z"
   },
   {
    "duration": 8,
    "start_time": "2024-09-27T14:28:09.540Z"
   },
   {
    "duration": 6,
    "start_time": "2024-09-27T14:28:13.062Z"
   },
   {
    "duration": 5,
    "start_time": "2024-09-27T14:28:17.614Z"
   },
   {
    "duration": 5,
    "start_time": "2024-09-27T14:28:18.994Z"
   },
   {
    "duration": 9,
    "start_time": "2024-09-27T14:31:28.878Z"
   },
   {
    "duration": 5,
    "start_time": "2024-09-27T14:31:31.769Z"
   },
   {
    "duration": 28,
    "start_time": "2024-09-27T14:32:04.933Z"
   },
   {
    "duration": 3,
    "start_time": "2024-09-27T14:32:05.196Z"
   },
   {
    "duration": 18,
    "start_time": "2024-09-27T14:32:05.448Z"
   },
   {
    "duration": 6,
    "start_time": "2024-09-27T14:32:08.223Z"
   },
   {
    "duration": 8,
    "start_time": "2024-09-27T14:32:08.500Z"
   },
   {
    "duration": 5,
    "start_time": "2024-09-27T14:32:11.065Z"
   },
   {
    "duration": 4,
    "start_time": "2024-09-27T14:32:22.166Z"
   },
   {
    "duration": 5,
    "start_time": "2024-09-27T14:32:23.611Z"
   },
   {
    "duration": 5,
    "start_time": "2024-09-27T14:33:15.427Z"
   },
   {
    "duration": 6,
    "start_time": "2024-09-27T14:33:16.989Z"
   },
   {
    "duration": 8,
    "start_time": "2024-09-27T14:34:35.453Z"
   },
   {
    "duration": 5,
    "start_time": "2024-09-27T14:34:36.948Z"
   },
   {
    "duration": 6,
    "start_time": "2024-09-27T14:38:54.637Z"
   },
   {
    "duration": 6,
    "start_time": "2024-09-27T14:43:10.481Z"
   },
   {
    "duration": 2375,
    "start_time": "2024-09-27T14:43:16.404Z"
   },
   {
    "duration": 1871,
    "start_time": "2024-09-27T14:43:18.781Z"
   },
   {
    "duration": 29,
    "start_time": "2024-09-27T14:43:20.653Z"
   },
   {
    "duration": 2,
    "start_time": "2024-09-27T14:43:20.684Z"
   },
   {
    "duration": 26,
    "start_time": "2024-09-27T14:43:20.688Z"
   },
   {
    "duration": 5,
    "start_time": "2024-09-27T14:43:20.716Z"
   },
   {
    "duration": 8,
    "start_time": "2024-09-27T14:43:20.722Z"
   },
   {
    "duration": 4,
    "start_time": "2024-09-27T14:43:20.732Z"
   },
   {
    "duration": 8,
    "start_time": "2024-09-27T14:43:20.738Z"
   },
   {
    "duration": 18,
    "start_time": "2024-09-27T14:43:20.749Z"
   },
   {
    "duration": 9,
    "start_time": "2024-09-27T14:43:20.769Z"
   },
   {
    "duration": 216,
    "start_time": "2024-09-27T14:43:20.779Z"
   },
   {
    "duration": 4,
    "start_time": "2024-09-27T14:43:20.997Z"
   },
   {
    "duration": 381,
    "start_time": "2024-09-27T14:43:21.003Z"
   },
   {
    "duration": 174,
    "start_time": "2024-09-27T14:43:21.386Z"
   },
   {
    "duration": 151,
    "start_time": "2024-09-27T14:43:21.562Z"
   },
   {
    "duration": 153,
    "start_time": "2024-09-27T14:43:21.715Z"
   },
   {
    "duration": 147,
    "start_time": "2024-09-27T14:43:21.870Z"
   },
   {
    "duration": 2,
    "start_time": "2024-09-27T14:43:22.019Z"
   },
   {
    "duration": 4,
    "start_time": "2024-09-27T14:43:22.023Z"
   },
   {
    "duration": 22,
    "start_time": "2024-09-27T14:43:22.028Z"
   },
   {
    "duration": 7,
    "start_time": "2024-09-27T14:43:22.051Z"
   },
   {
    "duration": 5,
    "start_time": "2024-09-27T14:43:22.059Z"
   },
   {
    "duration": 4,
    "start_time": "2024-09-27T14:43:22.066Z"
   },
   {
    "duration": 3,
    "start_time": "2024-09-27T14:43:22.071Z"
   },
   {
    "duration": 10,
    "start_time": "2024-09-27T14:43:22.076Z"
   },
   {
    "duration": 42667,
    "start_time": "2024-09-27T14:43:22.087Z"
   },
   {
    "duration": 4,
    "start_time": "2024-09-27T14:44:04.759Z"
   },
   {
    "duration": 1090,
    "start_time": "2024-09-27T14:44:04.765Z"
   },
   {
    "duration": 6,
    "start_time": "2024-09-27T14:44:05.857Z"
   },
   {
    "duration": 41,
    "start_time": "2024-09-27T14:44:05.864Z"
   },
   {
    "duration": 103989,
    "start_time": "2024-09-27T14:44:05.907Z"
   },
   {
    "duration": 0,
    "start_time": "2024-09-27T14:45:49.899Z"
   },
   {
    "duration": 0,
    "start_time": "2024-09-27T14:45:49.900Z"
   },
   {
    "duration": 6,
    "start_time": "2024-09-27T14:46:22.994Z"
   },
   {
    "duration": 3,
    "start_time": "2024-09-27T14:46:23.415Z"
   },
   {
    "duration": 2,
    "start_time": "2024-09-27T14:46:23.822Z"
   },
   {
    "duration": 3,
    "start_time": "2024-09-27T14:46:24.413Z"
   },
   {
    "duration": 5540,
    "start_time": "2024-09-27T14:46:27.913Z"
   },
   {
    "duration": 2032,
    "start_time": "2024-09-27T14:46:34.620Z"
   },
   {
    "duration": 2061,
    "start_time": "2024-09-27T14:46:37.693Z"
   },
   {
    "duration": 1847,
    "start_time": "2024-09-27T14:46:40.726Z"
   },
   {
    "duration": 4270,
    "start_time": "2024-09-27T14:46:43.582Z"
   },
   {
    "duration": 6787,
    "start_time": "2024-09-27T14:46:48.772Z"
   },
   {
    "duration": 9681,
    "start_time": "2024-09-27T14:46:56.474Z"
   },
   {
    "duration": 3584,
    "start_time": "2024-09-27T14:47:07.669Z"
   },
   {
    "duration": 6,
    "start_time": "2024-09-27T14:49:06.368Z"
   },
   {
    "duration": 4,
    "start_time": "2024-09-27T14:49:10.136Z"
   },
   {
    "duration": 27,
    "start_time": "2024-09-27T14:49:11.446Z"
   },
   {
    "duration": 3,
    "start_time": "2024-09-27T14:49:11.825Z"
   },
   {
    "duration": 19,
    "start_time": "2024-09-27T14:49:12.343Z"
   },
   {
    "duration": 6,
    "start_time": "2024-09-27T14:49:13.110Z"
   },
   {
    "duration": 10,
    "start_time": "2024-09-27T14:49:13.711Z"
   },
   {
    "duration": 6,
    "start_time": "2024-09-27T14:49:16.065Z"
   },
   {
    "duration": 4,
    "start_time": "2024-09-27T14:49:17.120Z"
   },
   {
    "duration": 9,
    "start_time": "2024-09-27T14:49:17.640Z"
   },
   {
    "duration": 6,
    "start_time": "2024-09-27T14:49:18.449Z"
   },
   {
    "duration": 193,
    "start_time": "2024-09-27T14:49:21.746Z"
   },
   {
    "duration": 5,
    "start_time": "2024-09-27T14:49:22.641Z"
   },
   {
    "duration": 342,
    "start_time": "2024-09-27T14:49:23.001Z"
   },
   {
    "duration": 157,
    "start_time": "2024-09-27T14:49:23.824Z"
   },
   {
    "duration": 147,
    "start_time": "2024-09-27T14:49:24.240Z"
   },
   {
    "duration": 137,
    "start_time": "2024-09-27T14:49:26.807Z"
   },
   {
    "duration": 131,
    "start_time": "2024-09-27T14:49:27.129Z"
   },
   {
    "duration": 3,
    "start_time": "2024-09-27T14:49:30.001Z"
   },
   {
    "duration": 3,
    "start_time": "2024-09-27T14:49:30.336Z"
   },
   {
    "duration": 17,
    "start_time": "2024-09-27T14:49:30.592Z"
   },
   {
    "duration": 6,
    "start_time": "2024-09-27T14:49:32.777Z"
   },
   {
    "duration": 5,
    "start_time": "2024-09-27T14:49:34.002Z"
   },
   {
    "duration": 2,
    "start_time": "2024-09-27T14:49:34.314Z"
   },
   {
    "duration": 3,
    "start_time": "2024-09-27T14:49:34.823Z"
   },
   {
    "duration": 2,
    "start_time": "2024-09-27T14:49:37.305Z"
   },
   {
    "duration": 2771,
    "start_time": "2024-09-27T14:49:38.784Z"
   },
   {
    "duration": 5181,
    "start_time": "2024-09-27T14:49:43.576Z"
   },
   {
    "duration": 8083,
    "start_time": "2024-09-27T14:49:50.370Z"
   },
   {
    "duration": 2465,
    "start_time": "2024-09-27T14:53:47.833Z"
   },
   {
    "duration": 1870,
    "start_time": "2024-09-27T14:53:50.301Z"
   },
   {
    "duration": 29,
    "start_time": "2024-09-27T14:53:52.173Z"
   },
   {
    "duration": 3,
    "start_time": "2024-09-27T14:53:52.204Z"
   },
   {
    "duration": 36,
    "start_time": "2024-09-27T14:53:52.208Z"
   },
   {
    "duration": 5,
    "start_time": "2024-09-27T14:53:52.246Z"
   },
   {
    "duration": 11,
    "start_time": "2024-09-27T14:53:52.253Z"
   },
   {
    "duration": 5,
    "start_time": "2024-09-27T14:53:52.266Z"
   },
   {
    "duration": 6,
    "start_time": "2024-09-27T14:53:52.272Z"
   },
   {
    "duration": 8,
    "start_time": "2024-09-27T14:53:52.281Z"
   },
   {
    "duration": 17,
    "start_time": "2024-09-27T14:53:52.291Z"
   },
   {
    "duration": 239,
    "start_time": "2024-09-27T14:53:52.310Z"
   },
   {
    "duration": 4,
    "start_time": "2024-09-27T14:53:52.551Z"
   },
   {
    "duration": 399,
    "start_time": "2024-09-27T14:53:52.557Z"
   },
   {
    "duration": 169,
    "start_time": "2024-09-27T14:53:52.958Z"
   },
   {
    "duration": 154,
    "start_time": "2024-09-27T14:53:53.128Z"
   },
   {
    "duration": 153,
    "start_time": "2024-09-27T14:53:53.284Z"
   },
   {
    "duration": 156,
    "start_time": "2024-09-27T14:53:53.438Z"
   },
   {
    "duration": 3,
    "start_time": "2024-09-27T14:53:53.596Z"
   },
   {
    "duration": 96,
    "start_time": "2024-09-27T14:53:53.601Z"
   },
   {
    "duration": 16,
    "start_time": "2024-09-27T14:53:53.699Z"
   },
   {
    "duration": 6,
    "start_time": "2024-09-27T14:53:53.717Z"
   },
   {
    "duration": 4,
    "start_time": "2024-09-27T14:53:53.725Z"
   },
   {
    "duration": 3,
    "start_time": "2024-09-27T14:53:53.731Z"
   },
   {
    "duration": 3,
    "start_time": "2024-09-27T14:53:53.735Z"
   },
   {
    "duration": 3,
    "start_time": "2024-09-27T14:53:53.740Z"
   },
   {
    "duration": 13933,
    "start_time": "2024-09-27T14:53:53.744Z"
   },
   {
    "duration": 0,
    "start_time": "2024-09-27T14:54:07.679Z"
   },
   {
    "duration": 0,
    "start_time": "2024-09-27T14:54:07.680Z"
   },
   {
    "duration": 0,
    "start_time": "2024-09-27T14:54:07.682Z"
   },
   {
    "duration": 0,
    "start_time": "2024-09-27T14:54:07.683Z"
   },
   {
    "duration": 0,
    "start_time": "2024-09-27T14:54:07.684Z"
   },
   {
    "duration": 0,
    "start_time": "2024-09-27T14:54:07.685Z"
   },
   {
    "duration": 0,
    "start_time": "2024-09-27T14:54:07.686Z"
   },
   {
    "duration": 2400,
    "start_time": "2024-09-27T14:54:32.987Z"
   },
   {
    "duration": 1878,
    "start_time": "2024-09-27T14:54:35.389Z"
   },
   {
    "duration": 28,
    "start_time": "2024-09-27T14:54:37.268Z"
   },
   {
    "duration": 3,
    "start_time": "2024-09-27T14:54:37.298Z"
   },
   {
    "duration": 28,
    "start_time": "2024-09-27T14:54:37.303Z"
   },
   {
    "duration": 6,
    "start_time": "2024-09-27T14:54:37.333Z"
   },
   {
    "duration": 18,
    "start_time": "2024-09-27T14:54:37.341Z"
   },
   {
    "duration": 17,
    "start_time": "2024-09-27T14:54:37.360Z"
   },
   {
    "duration": 27,
    "start_time": "2024-09-27T14:54:37.378Z"
   },
   {
    "duration": 19,
    "start_time": "2024-09-27T14:54:37.408Z"
   },
   {
    "duration": 16,
    "start_time": "2024-09-27T14:54:37.428Z"
   },
   {
    "duration": 203,
    "start_time": "2024-09-27T14:54:37.445Z"
   },
   {
    "duration": 4,
    "start_time": "2024-09-27T14:54:37.650Z"
   },
   {
    "duration": 389,
    "start_time": "2024-09-27T14:54:37.655Z"
   },
   {
    "duration": 164,
    "start_time": "2024-09-27T14:54:38.046Z"
   },
   {
    "duration": 157,
    "start_time": "2024-09-27T14:54:38.211Z"
   },
   {
    "duration": 154,
    "start_time": "2024-09-27T14:54:38.370Z"
   },
   {
    "duration": 145,
    "start_time": "2024-09-27T14:54:38.526Z"
   },
   {
    "duration": 2,
    "start_time": "2024-09-27T14:54:38.673Z"
   },
   {
    "duration": 21,
    "start_time": "2024-09-27T14:54:38.677Z"
   },
   {
    "duration": 34,
    "start_time": "2024-09-27T14:54:38.699Z"
   },
   {
    "duration": 7,
    "start_time": "2024-09-27T14:54:38.734Z"
   },
   {
    "duration": 6,
    "start_time": "2024-09-27T14:54:38.742Z"
   },
   {
    "duration": 6,
    "start_time": "2024-09-27T14:54:38.750Z"
   },
   {
    "duration": 5,
    "start_time": "2024-09-27T14:54:38.757Z"
   },
   {
    "duration": 4,
    "start_time": "2024-09-27T14:54:38.763Z"
   },
   {
    "duration": 43695,
    "start_time": "2024-09-27T14:54:38.769Z"
   },
   {
    "duration": 3,
    "start_time": "2024-09-27T14:55:22.545Z"
   },
   {
    "duration": 1012,
    "start_time": "2024-09-27T14:55:22.550Z"
   },
   {
    "duration": 8,
    "start_time": "2024-09-27T14:55:23.564Z"
   },
   {
    "duration": 11,
    "start_time": "2024-09-27T14:55:23.573Z"
   },
   {
    "duration": 532873,
    "start_time": "2024-09-27T14:55:23.585Z"
   },
   {
    "duration": 54307,
    "start_time": "2024-09-27T15:04:16.460Z"
   },
   {
    "duration": 908,
    "start_time": "2024-09-27T15:05:10.842Z"
   },
   {
    "duration": 5,
    "start_time": "2024-09-27T15:32:02.432Z"
   },
   {
    "duration": 148,
    "start_time": "2024-09-27T15:32:03.183Z"
   },
   {
    "duration": 4,
    "start_time": "2024-09-27T15:32:14.411Z"
   },
   {
    "duration": 598,
    "start_time": "2024-09-27T15:32:15.880Z"
   },
   {
    "duration": 4,
    "start_time": "2024-09-27T15:34:10.055Z"
   },
   {
    "duration": 1976,
    "start_time": "2024-09-27T15:34:12.257Z"
   },
   {
    "duration": 1664,
    "start_time": "2024-09-27T15:34:31.951Z"
   },
   {
    "duration": 4,
    "start_time": "2024-09-27T15:36:38.659Z"
   },
   {
    "duration": 1623,
    "start_time": "2024-09-27T15:36:39.909Z"
   },
   {
    "duration": 4,
    "start_time": "2024-09-27T15:38:01.212Z"
   },
   {
    "duration": 25188,
    "start_time": "2024-09-27T15:38:01.665Z"
   },
   {
    "duration": 4,
    "start_time": "2024-09-27T15:38:54.597Z"
   },
   {
    "duration": 4,
    "start_time": "2024-09-27T15:38:56.423Z"
   },
   {
    "duration": 1593,
    "start_time": "2024-09-27T15:38:56.430Z"
   },
   {
    "duration": 4,
    "start_time": "2024-09-27T15:40:32.253Z"
   },
   {
    "duration": 1582,
    "start_time": "2024-09-27T15:40:33.221Z"
   },
   {
    "duration": 6,
    "start_time": "2024-09-27T15:40:47.211Z"
   },
   {
    "duration": 1590,
    "start_time": "2024-09-27T15:40:49.021Z"
   },
   {
    "duration": 4,
    "start_time": "2024-09-27T15:40:59.229Z"
   },
   {
    "duration": 5,
    "start_time": "2024-09-27T15:41:00.117Z"
   },
   {
    "duration": 1536,
    "start_time": "2024-09-27T15:41:00.499Z"
   },
   {
    "duration": 4,
    "start_time": "2024-09-27T15:41:20.428Z"
   },
   {
    "duration": 1962,
    "start_time": "2024-09-27T15:41:22.271Z"
   },
   {
    "duration": 4,
    "start_time": "2024-09-27T15:41:36.829Z"
   },
   {
    "duration": 562,
    "start_time": "2024-09-27T15:41:37.102Z"
   },
   {
    "duration": 5,
    "start_time": "2024-09-27T15:41:45.303Z"
   },
   {
    "duration": 1560,
    "start_time": "2024-09-27T15:41:45.568Z"
   },
   {
    "duration": 5,
    "start_time": "2024-09-27T15:42:03.142Z"
   },
   {
    "duration": 1750,
    "start_time": "2024-09-27T15:42:04.176Z"
   },
   {
    "duration": 4,
    "start_time": "2024-09-27T15:43:45.646Z"
   },
   {
    "duration": 351,
    "start_time": "2024-09-27T15:43:45.961Z"
   },
   {
    "duration": 4,
    "start_time": "2024-09-27T15:44:29.177Z"
   },
   {
    "duration": 4,
    "start_time": "2024-09-27T15:44:29.674Z"
   },
   {
    "duration": 1535,
    "start_time": "2024-09-27T15:44:30.035Z"
   },
   {
    "duration": 3,
    "start_time": "2024-09-27T15:44:45.220Z"
   },
   {
    "duration": 1549,
    "start_time": "2024-09-27T15:44:45.687Z"
   },
   {
    "duration": 4,
    "start_time": "2024-09-27T15:45:44.101Z"
   },
   {
    "duration": 371,
    "start_time": "2024-09-27T15:45:44.949Z"
   },
   {
    "duration": 4,
    "start_time": "2024-09-27T15:45:55.238Z"
   },
   {
    "duration": 4,
    "start_time": "2024-09-27T15:48:13.287Z"
   },
   {
    "duration": 368,
    "start_time": "2024-09-27T15:48:14.327Z"
   },
   {
    "duration": 5,
    "start_time": "2024-09-27T15:48:40.734Z"
   },
   {
    "duration": 1684,
    "start_time": "2024-09-27T15:48:42.424Z"
   },
   {
    "duration": 4,
    "start_time": "2024-09-27T15:52:28.548Z"
   },
   {
    "duration": 1572,
    "start_time": "2024-09-27T15:52:30.866Z"
   },
   {
    "duration": 4,
    "start_time": "2024-09-27T15:54:38.077Z"
   },
   {
    "duration": 1613,
    "start_time": "2024-09-27T15:54:39.165Z"
   },
   {
    "duration": 1737,
    "start_time": "2024-09-27T15:54:56.074Z"
   },
   {
    "duration": 4,
    "start_time": "2024-09-27T15:56:31.206Z"
   },
   {
    "duration": 11,
    "start_time": "2024-09-27T15:57:13.335Z"
   },
   {
    "duration": 4987,
    "start_time": "2024-09-27T15:57:30.081Z"
   },
   {
    "duration": 584,
    "start_time": "2024-09-27T15:58:10.423Z"
   },
   {
    "duration": 4,
    "start_time": "2024-09-27T15:58:39.145Z"
   },
   {
    "duration": 15,
    "start_time": "2024-09-27T15:58:42.984Z"
   },
   {
    "duration": 4,
    "start_time": "2024-09-27T15:58:53.576Z"
   },
   {
    "duration": 4607,
    "start_time": "2024-09-27T15:58:56.374Z"
   },
   {
    "duration": 4,
    "start_time": "2024-09-27T16:00:56.320Z"
   },
   {
    "duration": 4,
    "start_time": "2024-09-27T16:01:17.979Z"
   },
   {
    "duration": 11,
    "start_time": "2024-09-27T16:01:23.787Z"
   },
   {
    "duration": 534,
    "start_time": "2024-09-27T16:01:33.875Z"
   },
   {
    "duration": 833,
    "start_time": "2024-09-27T16:02:13.716Z"
   },
   {
    "duration": 553,
    "start_time": "2024-09-27T16:02:18.846Z"
   },
   {
    "duration": 340,
    "start_time": "2024-09-27T16:02:37.654Z"
   },
   {
    "duration": 6,
    "start_time": "2024-09-27T16:03:28.663Z"
   },
   {
    "duration": 359,
    "start_time": "2024-09-27T16:03:34.541Z"
   },
   {
    "duration": 4,
    "start_time": "2024-09-27T16:04:01.119Z"
   },
   {
    "duration": 803,
    "start_time": "2024-09-27T16:04:04.141Z"
   },
   {
    "duration": 2,
    "start_time": "2024-09-27T16:04:50.887Z"
   },
   {
    "duration": 686,
    "start_time": "2024-09-27T16:04:58.118Z"
   },
   {
    "duration": 362,
    "start_time": "2024-09-27T16:05:17.407Z"
   },
   {
    "duration": 2386,
    "start_time": "2024-09-28T07:52:35.698Z"
   },
   {
    "duration": 1967,
    "start_time": "2024-09-28T07:52:38.086Z"
   },
   {
    "duration": 29,
    "start_time": "2024-09-28T07:52:40.054Z"
   },
   {
    "duration": 3,
    "start_time": "2024-09-28T07:52:40.085Z"
   },
   {
    "duration": 58,
    "start_time": "2024-09-28T07:52:40.089Z"
   },
   {
    "duration": 33,
    "start_time": "2024-09-28T07:52:40.149Z"
   },
   {
    "duration": 31,
    "start_time": "2024-09-28T07:52:40.184Z"
   },
   {
    "duration": 33,
    "start_time": "2024-09-28T07:52:40.216Z"
   },
   {
    "duration": 32,
    "start_time": "2024-09-28T07:52:40.250Z"
   },
   {
    "duration": 23,
    "start_time": "2024-09-28T07:52:40.285Z"
   },
   {
    "duration": 53,
    "start_time": "2024-09-28T07:52:40.309Z"
   },
   {
    "duration": 24,
    "start_time": "2024-09-28T07:52:40.364Z"
   },
   {
    "duration": 40,
    "start_time": "2024-09-28T07:52:40.390Z"
   },
   {
    "duration": 28,
    "start_time": "2024-09-28T07:52:40.431Z"
   },
   {
    "duration": 17,
    "start_time": "2024-09-28T07:52:40.461Z"
   },
   {
    "duration": 231,
    "start_time": "2024-09-28T07:52:40.480Z"
   },
   {
    "duration": 1608,
    "start_time": "2024-09-28T07:52:40.713Z"
   },
   {
    "duration": 368,
    "start_time": "2024-09-28T07:52:42.323Z"
   },
   {
    "duration": 811,
    "start_time": "2024-09-28T07:52:42.693Z"
   },
   {
    "duration": 3,
    "start_time": "2024-09-28T07:52:43.506Z"
   },
   {
    "duration": 18,
    "start_time": "2024-09-28T07:52:43.510Z"
   },
   {
    "duration": 14,
    "start_time": "2024-09-28T07:52:43.529Z"
   },
   {
    "duration": 5,
    "start_time": "2024-09-28T07:52:43.544Z"
   },
   {
    "duration": 10,
    "start_time": "2024-09-28T07:52:43.550Z"
   },
   {
    "duration": 9,
    "start_time": "2024-09-28T07:52:43.562Z"
   },
   {
    "duration": 3,
    "start_time": "2024-09-28T07:52:43.573Z"
   },
   {
    "duration": 43680,
    "start_time": "2024-09-28T07:52:43.578Z"
   },
   {
    "duration": 3,
    "start_time": "2024-09-28T07:53:27.261Z"
   },
   {
    "duration": 953,
    "start_time": "2024-09-28T07:53:27.265Z"
   },
   {
    "duration": 7,
    "start_time": "2024-09-28T07:53:28.220Z"
   },
   {
    "duration": 14,
    "start_time": "2024-09-28T07:53:28.229Z"
   },
   {
    "duration": 560312,
    "start_time": "2024-09-28T07:53:28.245Z"
   },
   {
    "duration": 49401,
    "start_time": "2024-09-28T08:02:48.558Z"
   },
   {
    "duration": 951,
    "start_time": "2024-09-28T08:03:37.960Z"
   },
   {
    "duration": 2456,
    "start_time": "2024-09-28T08:06:06.484Z"
   },
   {
    "duration": 1982,
    "start_time": "2024-09-28T08:06:08.942Z"
   },
   {
    "duration": 29,
    "start_time": "2024-09-28T08:06:10.925Z"
   },
   {
    "duration": 2,
    "start_time": "2024-09-28T08:06:10.956Z"
   },
   {
    "duration": 21,
    "start_time": "2024-09-28T08:06:10.960Z"
   },
   {
    "duration": 5,
    "start_time": "2024-09-28T08:06:10.983Z"
   },
   {
    "duration": 83,
    "start_time": "2024-09-28T08:06:10.989Z"
   },
   {
    "duration": 77,
    "start_time": "2024-09-28T08:06:11.074Z"
   },
   {
    "duration": 13,
    "start_time": "2024-09-28T08:06:11.153Z"
   },
   {
    "duration": 130,
    "start_time": "2024-09-28T08:06:11.167Z"
   },
   {
    "duration": 22,
    "start_time": "2024-09-28T08:06:11.298Z"
   },
   {
    "duration": 3,
    "start_time": "2024-09-28T08:06:11.322Z"
   },
   {
    "duration": 10,
    "start_time": "2024-09-28T08:06:11.326Z"
   },
   {
    "duration": 4,
    "start_time": "2024-09-28T08:06:11.339Z"
   },
   {
    "duration": 6,
    "start_time": "2024-09-28T08:06:11.345Z"
   },
   {
    "duration": 220,
    "start_time": "2024-09-28T08:06:11.353Z"
   },
   {
    "duration": 1547,
    "start_time": "2024-09-28T08:06:11.575Z"
   },
   {
    "duration": 342,
    "start_time": "2024-09-28T08:06:13.124Z"
   },
   {
    "duration": 776,
    "start_time": "2024-09-28T08:06:13.468Z"
   },
   {
    "duration": 3,
    "start_time": "2024-09-28T08:06:14.246Z"
   },
   {
    "duration": 12,
    "start_time": "2024-09-28T08:06:14.251Z"
   },
   {
    "duration": 8,
    "start_time": "2024-09-28T08:06:14.264Z"
   },
   {
    "duration": 5,
    "start_time": "2024-09-28T08:06:14.274Z"
   },
   {
    "duration": 3,
    "start_time": "2024-09-28T08:06:14.280Z"
   },
   {
    "duration": 2,
    "start_time": "2024-09-28T08:06:14.285Z"
   },
   {
    "duration": 4,
    "start_time": "2024-09-28T08:06:14.289Z"
   },
   {
    "duration": 44252,
    "start_time": "2024-09-28T08:06:14.294Z"
   },
   {
    "duration": 3,
    "start_time": "2024-09-28T08:06:58.548Z"
   },
   {
    "duration": 911,
    "start_time": "2024-09-28T08:06:58.552Z"
   },
   {
    "duration": 7,
    "start_time": "2024-09-28T08:06:59.465Z"
   },
   {
    "duration": 8,
    "start_time": "2024-09-28T08:06:59.475Z"
   },
   {
    "duration": 544069,
    "start_time": "2024-09-28T08:06:59.484Z"
   },
   {
    "duration": 55206,
    "start_time": "2024-09-28T08:16:03.556Z"
   },
   {
    "duration": 972,
    "start_time": "2024-09-28T08:16:58.764Z"
   },
   {
    "duration": 2374,
    "start_time": "2024-09-28T08:21:41.306Z"
   },
   {
    "duration": 1863,
    "start_time": "2024-09-28T08:21:43.682Z"
   },
   {
    "duration": 29,
    "start_time": "2024-09-28T08:21:45.547Z"
   },
   {
    "duration": 3,
    "start_time": "2024-09-28T08:21:45.577Z"
   },
   {
    "duration": 53,
    "start_time": "2024-09-28T08:21:45.582Z"
   },
   {
    "duration": 5,
    "start_time": "2024-09-28T08:21:45.636Z"
   },
   {
    "duration": 14,
    "start_time": "2024-09-28T08:21:45.643Z"
   },
   {
    "duration": 6,
    "start_time": "2024-09-28T08:21:45.658Z"
   },
   {
    "duration": 30,
    "start_time": "2024-09-28T08:21:45.666Z"
   },
   {
    "duration": 39,
    "start_time": "2024-09-28T08:21:45.697Z"
   },
   {
    "duration": 14,
    "start_time": "2024-09-28T08:21:45.737Z"
   },
   {
    "duration": 19,
    "start_time": "2024-09-28T08:21:45.752Z"
   },
   {
    "duration": 17,
    "start_time": "2024-09-28T08:21:45.773Z"
   },
   {
    "duration": 14,
    "start_time": "2024-09-28T08:21:45.794Z"
   },
   {
    "duration": 20,
    "start_time": "2024-09-28T08:21:45.809Z"
   },
   {
    "duration": 243,
    "start_time": "2024-09-28T08:21:45.831Z"
   },
   {
    "duration": 1575,
    "start_time": "2024-09-28T08:21:46.075Z"
   },
   {
    "duration": 363,
    "start_time": "2024-09-28T08:21:47.651Z"
   },
   {
    "duration": 796,
    "start_time": "2024-09-28T08:21:48.016Z"
   },
   {
    "duration": 2,
    "start_time": "2024-09-28T08:21:48.814Z"
   },
   {
    "duration": 26,
    "start_time": "2024-09-28T08:21:48.818Z"
   },
   {
    "duration": 6,
    "start_time": "2024-09-28T08:21:48.846Z"
   },
   {
    "duration": 5,
    "start_time": "2024-09-28T08:21:48.854Z"
   },
   {
    "duration": 4,
    "start_time": "2024-09-28T08:21:48.860Z"
   },
   {
    "duration": 5,
    "start_time": "2024-09-28T08:21:48.865Z"
   },
   {
    "duration": 4,
    "start_time": "2024-09-28T08:21:48.871Z"
   },
   {
    "duration": 44171,
    "start_time": "2024-09-28T08:21:48.877Z"
   },
   {
    "duration": 3,
    "start_time": "2024-09-28T08:22:33.049Z"
   },
   {
    "duration": 925,
    "start_time": "2024-09-28T08:22:33.054Z"
   },
   {
    "duration": 8,
    "start_time": "2024-09-28T08:22:33.981Z"
   },
   {
    "duration": 12,
    "start_time": "2024-09-28T08:22:33.991Z"
   },
   {
    "duration": 560453,
    "start_time": "2024-09-28T08:22:34.005Z"
   },
   {
    "duration": 55086,
    "start_time": "2024-09-28T08:31:54.459Z"
   },
   {
    "duration": 992,
    "start_time": "2024-09-28T08:32:49.547Z"
   },
   {
    "duration": 2347,
    "start_time": "2024-09-28T08:38:45.882Z"
   },
   {
    "duration": 1881,
    "start_time": "2024-09-28T08:38:48.231Z"
   },
   {
    "duration": 30,
    "start_time": "2024-09-28T08:38:50.114Z"
   },
   {
    "duration": 4,
    "start_time": "2024-09-28T08:38:50.145Z"
   },
   {
    "duration": 39,
    "start_time": "2024-09-28T08:38:50.151Z"
   },
   {
    "duration": 8,
    "start_time": "2024-09-28T08:38:50.192Z"
   },
   {
    "duration": 13,
    "start_time": "2024-09-28T08:38:50.201Z"
   },
   {
    "duration": 10,
    "start_time": "2024-09-28T08:38:50.215Z"
   },
   {
    "duration": 5,
    "start_time": "2024-09-28T08:38:50.227Z"
   },
   {
    "duration": 15,
    "start_time": "2024-09-28T08:38:50.233Z"
   },
   {
    "duration": 48,
    "start_time": "2024-09-28T08:38:50.249Z"
   },
   {
    "duration": 8,
    "start_time": "2024-09-28T08:38:50.299Z"
   },
   {
    "duration": 15,
    "start_time": "2024-09-28T08:38:50.309Z"
   },
   {
    "duration": 4,
    "start_time": "2024-09-28T08:38:50.327Z"
   },
   {
    "duration": 6,
    "start_time": "2024-09-28T08:38:50.332Z"
   },
   {
    "duration": 206,
    "start_time": "2024-09-28T08:38:50.340Z"
   },
   {
    "duration": 1570,
    "start_time": "2024-09-28T08:38:50.547Z"
   },
   {
    "duration": 362,
    "start_time": "2024-09-28T08:38:52.118Z"
   },
   {
    "duration": 797,
    "start_time": "2024-09-28T08:38:52.482Z"
   },
   {
    "duration": 3,
    "start_time": "2024-09-28T08:38:53.280Z"
   },
   {
    "duration": 94,
    "start_time": "2024-09-28T08:38:53.284Z"
   },
   {
    "duration": 6,
    "start_time": "2024-09-28T08:38:53.380Z"
   },
   {
    "duration": 5,
    "start_time": "2024-09-28T08:38:53.387Z"
   },
   {
    "duration": 5,
    "start_time": "2024-09-28T08:38:53.393Z"
   },
   {
    "duration": 3,
    "start_time": "2024-09-28T08:38:53.400Z"
   },
   {
    "duration": 6,
    "start_time": "2024-09-28T08:38:53.404Z"
   },
   {
    "duration": 43235,
    "start_time": "2024-09-28T08:38:53.411Z"
   },
   {
    "duration": 3,
    "start_time": "2024-09-28T08:39:36.647Z"
   },
   {
    "duration": 918,
    "start_time": "2024-09-28T08:39:36.651Z"
   },
   {
    "duration": 6,
    "start_time": "2024-09-28T08:39:37.571Z"
   },
   {
    "duration": 76,
    "start_time": "2024-09-28T08:39:37.578Z"
   },
   {
    "duration": 40660,
    "start_time": "2024-09-28T08:39:37.656Z"
   },
   {
    "duration": 0,
    "start_time": "2024-09-28T08:40:18.318Z"
   },
   {
    "duration": 0,
    "start_time": "2024-09-28T08:40:18.319Z"
   },
   {
    "duration": 2365,
    "start_time": "2024-09-28T08:40:47.527Z"
   },
   {
    "duration": 1835,
    "start_time": "2024-09-28T08:40:49.894Z"
   },
   {
    "duration": 5,
    "start_time": "2024-09-28T08:40:51.730Z"
   },
   {
    "duration": 136,
    "start_time": "2024-09-28T08:40:51.736Z"
   },
   {
    "duration": 0,
    "start_time": "2024-09-28T08:40:51.874Z"
   },
   {
    "duration": 0,
    "start_time": "2024-09-28T08:40:51.875Z"
   },
   {
    "duration": 0,
    "start_time": "2024-09-28T08:40:51.877Z"
   },
   {
    "duration": 1,
    "start_time": "2024-09-28T08:40:51.877Z"
   },
   {
    "duration": 1,
    "start_time": "2024-09-28T08:40:51.878Z"
   },
   {
    "duration": 0,
    "start_time": "2024-09-28T08:40:51.880Z"
   },
   {
    "duration": 0,
    "start_time": "2024-09-28T08:40:51.880Z"
   },
   {
    "duration": 0,
    "start_time": "2024-09-28T08:40:51.881Z"
   },
   {
    "duration": 0,
    "start_time": "2024-09-28T08:40:51.882Z"
   },
   {
    "duration": 0,
    "start_time": "2024-09-28T08:40:51.883Z"
   },
   {
    "duration": 0,
    "start_time": "2024-09-28T08:40:51.884Z"
   },
   {
    "duration": 0,
    "start_time": "2024-09-28T08:40:51.885Z"
   },
   {
    "duration": 0,
    "start_time": "2024-09-28T08:40:51.885Z"
   },
   {
    "duration": 0,
    "start_time": "2024-09-28T08:40:51.886Z"
   },
   {
    "duration": 0,
    "start_time": "2024-09-28T08:40:51.887Z"
   },
   {
    "duration": 0,
    "start_time": "2024-09-28T08:40:51.888Z"
   },
   {
    "duration": 0,
    "start_time": "2024-09-28T08:40:51.889Z"
   },
   {
    "duration": 0,
    "start_time": "2024-09-28T08:40:51.890Z"
   },
   {
    "duration": 0,
    "start_time": "2024-09-28T08:40:51.891Z"
   },
   {
    "duration": 0,
    "start_time": "2024-09-28T08:40:51.892Z"
   },
   {
    "duration": 0,
    "start_time": "2024-09-28T08:40:51.893Z"
   },
   {
    "duration": 0,
    "start_time": "2024-09-28T08:40:51.894Z"
   },
   {
    "duration": 0,
    "start_time": "2024-09-28T08:40:51.895Z"
   },
   {
    "duration": 0,
    "start_time": "2024-09-28T08:40:51.896Z"
   },
   {
    "duration": 0,
    "start_time": "2024-09-28T08:40:51.897Z"
   },
   {
    "duration": 0,
    "start_time": "2024-09-28T08:40:51.898Z"
   },
   {
    "duration": 0,
    "start_time": "2024-09-28T08:40:51.943Z"
   },
   {
    "duration": 0,
    "start_time": "2024-09-28T08:40:51.944Z"
   },
   {
    "duration": 0,
    "start_time": "2024-09-28T08:40:51.945Z"
   },
   {
    "duration": 0,
    "start_time": "2024-09-28T08:40:51.946Z"
   },
   {
    "duration": 0,
    "start_time": "2024-09-28T08:40:51.947Z"
   },
   {
    "duration": 0,
    "start_time": "2024-09-28T08:40:51.949Z"
   },
   {
    "duration": 4,
    "start_time": "2024-09-28T08:41:13.070Z"
   },
   {
    "duration": 2415,
    "start_time": "2024-09-28T08:41:41.354Z"
   },
   {
    "duration": 2444,
    "start_time": "2024-09-28T08:41:45.532Z"
   },
   {
    "duration": 1870,
    "start_time": "2024-09-28T08:41:47.978Z"
   },
   {
    "duration": 3,
    "start_time": "2024-09-28T08:41:49.850Z"
   },
   {
    "duration": 6,
    "start_time": "2024-09-28T08:41:49.855Z"
   },
   {
    "duration": 30,
    "start_time": "2024-09-28T08:41:49.862Z"
   },
   {
    "duration": 3,
    "start_time": "2024-09-28T08:41:49.893Z"
   },
   {
    "duration": 25,
    "start_time": "2024-09-28T08:41:49.897Z"
   },
   {
    "duration": 7,
    "start_time": "2024-09-28T08:41:49.923Z"
   },
   {
    "duration": 17,
    "start_time": "2024-09-28T08:41:49.931Z"
   },
   {
    "duration": 6,
    "start_time": "2024-09-28T08:41:49.952Z"
   },
   {
    "duration": 6,
    "start_time": "2024-09-28T08:41:49.960Z"
   },
   {
    "duration": 10,
    "start_time": "2024-09-28T08:41:49.968Z"
   },
   {
    "duration": 14,
    "start_time": "2024-09-28T08:41:49.980Z"
   },
   {
    "duration": 3,
    "start_time": "2024-09-28T08:41:49.996Z"
   },
   {
    "duration": 7,
    "start_time": "2024-09-28T08:41:50.001Z"
   },
   {
    "duration": 33,
    "start_time": "2024-09-28T08:41:50.010Z"
   },
   {
    "duration": 19,
    "start_time": "2024-09-28T08:41:50.045Z"
   },
   {
    "duration": 214,
    "start_time": "2024-09-28T08:41:50.066Z"
   },
   {
    "duration": 1567,
    "start_time": "2024-09-28T08:41:50.282Z"
   },
   {
    "duration": 361,
    "start_time": "2024-09-28T08:41:51.850Z"
   },
   {
    "duration": 850,
    "start_time": "2024-09-28T08:41:52.213Z"
   },
   {
    "duration": 2,
    "start_time": "2024-09-28T08:41:53.065Z"
   },
   {
    "duration": 13,
    "start_time": "2024-09-28T08:41:53.069Z"
   },
   {
    "duration": 7,
    "start_time": "2024-09-28T08:41:53.083Z"
   },
   {
    "duration": 5,
    "start_time": "2024-09-28T08:41:53.092Z"
   },
   {
    "duration": 5,
    "start_time": "2024-09-28T08:41:53.098Z"
   },
   {
    "duration": 4,
    "start_time": "2024-09-28T08:41:53.105Z"
   },
   {
    "duration": 3,
    "start_time": "2024-09-28T08:41:53.112Z"
   },
   {
    "duration": 43041,
    "start_time": "2024-09-28T08:41:53.116Z"
   },
   {
    "duration": 3,
    "start_time": "2024-09-28T08:42:36.158Z"
   },
   {
    "duration": 942,
    "start_time": "2024-09-28T08:42:36.163Z"
   },
   {
    "duration": 7,
    "start_time": "2024-09-28T08:42:37.107Z"
   },
   {
    "duration": 41,
    "start_time": "2024-09-28T08:42:37.116Z"
   },
   {
    "duration": 525698,
    "start_time": "2024-09-28T08:42:37.159Z"
   },
   {
    "duration": 47801,
    "start_time": "2024-09-28T08:51:22.859Z"
   },
   {
    "duration": 961,
    "start_time": "2024-09-28T08:52:10.662Z"
   },
   {
    "duration": 2412,
    "start_time": "2024-09-28T08:56:35.734Z"
   },
   {
    "duration": 1871,
    "start_time": "2024-09-28T08:56:38.148Z"
   },
   {
    "duration": 5,
    "start_time": "2024-09-28T08:56:40.021Z"
   },
   {
    "duration": 35,
    "start_time": "2024-09-28T08:56:40.027Z"
   },
   {
    "duration": 48,
    "start_time": "2024-09-28T08:56:40.065Z"
   },
   {
    "duration": 2,
    "start_time": "2024-09-28T08:56:40.115Z"
   },
   {
    "duration": 30,
    "start_time": "2024-09-28T08:56:40.119Z"
   },
   {
    "duration": 7,
    "start_time": "2024-09-28T08:56:40.151Z"
   },
   {
    "duration": 13,
    "start_time": "2024-09-28T08:56:40.159Z"
   },
   {
    "duration": 5,
    "start_time": "2024-09-28T08:56:40.173Z"
   },
   {
    "duration": 5,
    "start_time": "2024-09-28T08:56:40.179Z"
   },
   {
    "duration": 8,
    "start_time": "2024-09-28T08:56:40.185Z"
   },
   {
    "duration": 8,
    "start_time": "2024-09-28T08:56:40.194Z"
   },
   {
    "duration": 7,
    "start_time": "2024-09-28T08:56:40.205Z"
   },
   {
    "duration": 30,
    "start_time": "2024-09-28T08:56:40.213Z"
   },
   {
    "duration": 19,
    "start_time": "2024-09-28T08:56:40.245Z"
   },
   {
    "duration": 6,
    "start_time": "2024-09-28T08:56:40.266Z"
   },
   {
    "duration": 206,
    "start_time": "2024-09-28T08:56:40.274Z"
   },
   {
    "duration": 1552,
    "start_time": "2024-09-28T08:56:40.482Z"
   },
   {
    "duration": 344,
    "start_time": "2024-09-28T08:56:42.035Z"
   },
   {
    "duration": 797,
    "start_time": "2024-09-28T08:56:42.380Z"
   },
   {
    "duration": 2,
    "start_time": "2024-09-28T08:56:43.179Z"
   },
   {
    "duration": 11,
    "start_time": "2024-09-28T08:56:43.183Z"
   },
   {
    "duration": 8,
    "start_time": "2024-09-28T08:56:43.196Z"
   },
   {
    "duration": 102,
    "start_time": "2024-09-28T08:56:43.206Z"
   },
   {
    "duration": 4,
    "start_time": "2024-09-28T08:56:43.310Z"
   },
   {
    "duration": 4,
    "start_time": "2024-09-28T08:56:43.315Z"
   },
   {
    "duration": 3,
    "start_time": "2024-09-28T08:56:43.320Z"
   },
   {
    "duration": 44028,
    "start_time": "2024-09-28T08:56:43.325Z"
   },
   {
    "duration": 3,
    "start_time": "2024-09-28T08:57:27.355Z"
   },
   {
    "duration": 948,
    "start_time": "2024-09-28T08:57:27.359Z"
   },
   {
    "duration": 7,
    "start_time": "2024-09-28T08:57:28.309Z"
   },
   {
    "duration": 7,
    "start_time": "2024-09-28T08:57:28.317Z"
   },
   {
    "duration": 607041,
    "start_time": "2024-09-28T08:57:28.326Z"
   },
   {
    "duration": 52716,
    "start_time": "2024-09-28T09:07:35.443Z"
   },
   {
    "duration": 1000,
    "start_time": "2024-09-28T09:08:28.161Z"
   },
   {
    "duration": 2389,
    "start_time": "2024-09-28T09:15:12.586Z"
   },
   {
    "duration": 1896,
    "start_time": "2024-09-28T09:15:14.978Z"
   },
   {
    "duration": 5,
    "start_time": "2024-09-28T09:15:16.876Z"
   },
   {
    "duration": 12,
    "start_time": "2024-09-28T09:15:16.882Z"
   },
   {
    "duration": 34,
    "start_time": "2024-09-28T09:15:16.896Z"
   },
   {
    "duration": 3,
    "start_time": "2024-09-28T09:15:16.931Z"
   },
   {
    "duration": 24,
    "start_time": "2024-09-28T09:15:16.935Z"
   },
   {
    "duration": 5,
    "start_time": "2024-09-28T09:15:16.961Z"
   },
   {
    "duration": 8,
    "start_time": "2024-09-28T09:15:16.967Z"
   },
   {
    "duration": 4,
    "start_time": "2024-09-28T09:15:16.976Z"
   },
   {
    "duration": 4,
    "start_time": "2024-09-28T09:15:16.982Z"
   },
   {
    "duration": 8,
    "start_time": "2024-09-28T09:15:16.987Z"
   },
   {
    "duration": 5,
    "start_time": "2024-09-28T09:15:16.996Z"
   },
   {
    "duration": 3,
    "start_time": "2024-09-28T09:15:17.003Z"
   },
   {
    "duration": 37,
    "start_time": "2024-09-28T09:15:17.007Z"
   },
   {
    "duration": 5,
    "start_time": "2024-09-28T09:15:17.045Z"
   },
   {
    "duration": 4,
    "start_time": "2024-09-28T09:15:17.051Z"
   },
   {
    "duration": 219,
    "start_time": "2024-09-28T09:15:17.056Z"
   },
   {
    "duration": 1553,
    "start_time": "2024-09-28T09:15:17.277Z"
   },
   {
    "duration": 351,
    "start_time": "2024-09-28T09:15:18.831Z"
   },
   {
    "duration": 825,
    "start_time": "2024-09-28T09:15:19.183Z"
   },
   {
    "duration": 2,
    "start_time": "2024-09-28T09:15:20.010Z"
   },
   {
    "duration": 15,
    "start_time": "2024-09-28T09:15:20.014Z"
   },
   {
    "duration": 16,
    "start_time": "2024-09-28T09:15:20.031Z"
   },
   {
    "duration": 10,
    "start_time": "2024-09-28T09:15:20.048Z"
   },
   {
    "duration": 13,
    "start_time": "2024-09-28T09:15:20.059Z"
   },
   {
    "duration": 3,
    "start_time": "2024-09-28T09:15:20.074Z"
   },
   {
    "duration": 3,
    "start_time": "2024-09-28T09:15:20.079Z"
   },
   {
    "duration": 45862,
    "start_time": "2024-09-28T09:15:20.083Z"
   },
   {
    "duration": 4,
    "start_time": "2024-09-28T09:16:05.947Z"
   },
   {
    "duration": 949,
    "start_time": "2024-09-28T09:16:05.952Z"
   },
   {
    "duration": 7,
    "start_time": "2024-09-28T09:16:06.903Z"
   },
   {
    "duration": 18,
    "start_time": "2024-09-28T09:16:06.912Z"
   },
   {
    "duration": 548022,
    "start_time": "2024-09-28T09:16:06.932Z"
   },
   {
    "duration": 63806,
    "start_time": "2024-09-28T09:25:14.956Z"
   },
   {
    "duration": 985,
    "start_time": "2024-09-28T09:26:18.764Z"
   },
   {
    "duration": 2351,
    "start_time": "2024-09-28T09:31:15.775Z"
   },
   {
    "duration": 1860,
    "start_time": "2024-09-28T09:31:18.128Z"
   },
   {
    "duration": 5,
    "start_time": "2024-09-28T09:31:19.989Z"
   },
   {
    "duration": 21,
    "start_time": "2024-09-28T09:31:19.996Z"
   },
   {
    "duration": 63,
    "start_time": "2024-09-28T09:31:20.019Z"
   },
   {
    "duration": 3,
    "start_time": "2024-09-28T09:31:20.084Z"
   },
   {
    "duration": 54,
    "start_time": "2024-09-28T09:31:20.089Z"
   },
   {
    "duration": 25,
    "start_time": "2024-09-28T09:31:20.145Z"
   },
   {
    "duration": 38,
    "start_time": "2024-09-28T09:31:20.171Z"
   },
   {
    "duration": 21,
    "start_time": "2024-09-28T09:31:20.211Z"
   },
   {
    "duration": 24,
    "start_time": "2024-09-28T09:31:20.234Z"
   },
   {
    "duration": 32,
    "start_time": "2024-09-28T09:31:20.260Z"
   },
   {
    "duration": 27,
    "start_time": "2024-09-28T09:31:20.294Z"
   },
   {
    "duration": 25,
    "start_time": "2024-09-28T09:31:20.323Z"
   },
   {
    "duration": 32,
    "start_time": "2024-09-28T09:31:20.350Z"
   },
   {
    "duration": 36,
    "start_time": "2024-09-28T09:31:20.383Z"
   },
   {
    "duration": 29,
    "start_time": "2024-09-28T09:31:20.421Z"
   },
   {
    "duration": 221,
    "start_time": "2024-09-28T09:31:20.452Z"
   },
   {
    "duration": 1544,
    "start_time": "2024-09-28T09:31:20.674Z"
   },
   {
    "duration": 360,
    "start_time": "2024-09-28T09:31:22.220Z"
   },
   {
    "duration": 828,
    "start_time": "2024-09-28T09:31:22.581Z"
   },
   {
    "duration": 2,
    "start_time": "2024-09-28T09:31:23.411Z"
   },
   {
    "duration": 35,
    "start_time": "2024-09-28T09:31:23.414Z"
   },
   {
    "duration": 6,
    "start_time": "2024-09-28T09:31:23.451Z"
   },
   {
    "duration": 10,
    "start_time": "2024-09-28T09:31:23.458Z"
   },
   {
    "duration": 78,
    "start_time": "2024-09-28T09:31:23.469Z"
   },
   {
    "duration": 3,
    "start_time": "2024-09-28T09:31:23.548Z"
   },
   {
    "duration": 3,
    "start_time": "2024-09-28T09:31:23.554Z"
   },
   {
    "duration": 43895,
    "start_time": "2024-09-28T09:31:23.559Z"
   },
   {
    "duration": 3,
    "start_time": "2024-09-28T09:32:07.456Z"
   },
   {
    "duration": 1021,
    "start_time": "2024-09-28T09:32:07.460Z"
   },
   {
    "duration": 7,
    "start_time": "2024-09-28T09:32:08.482Z"
   },
   {
    "duration": 16,
    "start_time": "2024-09-28T09:32:08.490Z"
   },
   {
    "duration": 532640,
    "start_time": "2024-09-28T09:32:08.507Z"
   },
   {
    "duration": 48416,
    "start_time": "2024-09-28T09:41:01.149Z"
   },
   {
    "duration": 1028,
    "start_time": "2024-09-28T09:41:49.566Z"
   },
   {
    "duration": 2329,
    "start_time": "2024-09-28T09:43:19.697Z"
   },
   {
    "duration": 1850,
    "start_time": "2024-09-28T09:43:22.028Z"
   },
   {
    "duration": 6,
    "start_time": "2024-09-28T09:43:23.880Z"
   },
   {
    "duration": 26,
    "start_time": "2024-09-28T09:43:23.887Z"
   },
   {
    "duration": 29,
    "start_time": "2024-09-28T09:43:23.916Z"
   },
   {
    "duration": 3,
    "start_time": "2024-09-28T09:43:23.947Z"
   },
   {
    "duration": 24,
    "start_time": "2024-09-28T09:43:23.951Z"
   },
   {
    "duration": 10,
    "start_time": "2024-09-28T09:43:23.976Z"
   },
   {
    "duration": 16,
    "start_time": "2024-09-28T09:43:23.988Z"
   },
   {
    "duration": 5,
    "start_time": "2024-09-28T09:43:24.005Z"
   },
   {
    "duration": 6,
    "start_time": "2024-09-28T09:43:24.011Z"
   },
   {
    "duration": 7,
    "start_time": "2024-09-28T09:43:24.019Z"
   },
   {
    "duration": 5,
    "start_time": "2024-09-28T09:43:24.043Z"
   },
   {
    "duration": 13,
    "start_time": "2024-09-28T09:43:24.051Z"
   },
   {
    "duration": 8,
    "start_time": "2024-09-28T09:43:24.066Z"
   },
   {
    "duration": 12,
    "start_time": "2024-09-28T09:43:24.075Z"
   },
   {
    "duration": 4,
    "start_time": "2024-09-28T09:43:24.088Z"
   },
   {
    "duration": 212,
    "start_time": "2024-09-28T09:43:24.093Z"
   },
   {
    "duration": 1597,
    "start_time": "2024-09-28T09:43:24.306Z"
   },
   {
    "duration": 373,
    "start_time": "2024-09-28T09:43:25.904Z"
   },
   {
    "duration": 835,
    "start_time": "2024-09-28T09:43:26.279Z"
   },
   {
    "duration": 2,
    "start_time": "2024-09-28T09:43:27.116Z"
   },
   {
    "duration": 12,
    "start_time": "2024-09-28T09:43:27.119Z"
   },
   {
    "duration": 14,
    "start_time": "2024-09-28T09:43:27.132Z"
   },
   {
    "duration": 4,
    "start_time": "2024-09-28T09:43:27.148Z"
   },
   {
    "duration": 4,
    "start_time": "2024-09-28T09:43:27.153Z"
   },
   {
    "duration": 6,
    "start_time": "2024-09-28T09:43:27.158Z"
   },
   {
    "duration": 12,
    "start_time": "2024-09-28T09:43:27.166Z"
   },
   {
    "duration": 43969,
    "start_time": "2024-09-28T09:43:27.179Z"
   },
   {
    "duration": 3,
    "start_time": "2024-09-28T09:44:11.150Z"
   },
   {
    "duration": 908,
    "start_time": "2024-09-28T09:44:11.154Z"
   },
   {
    "duration": 6,
    "start_time": "2024-09-28T09:44:12.064Z"
   },
   {
    "duration": 9,
    "start_time": "2024-09-28T09:44:12.072Z"
   },
   {
    "duration": 522479,
    "start_time": "2024-09-28T09:44:12.083Z"
   },
   {
    "duration": 61382,
    "start_time": "2024-09-28T09:52:54.564Z"
   },
   {
    "duration": 918,
    "start_time": "2024-09-28T09:53:55.948Z"
   },
   {
    "duration": 2340,
    "start_time": "2024-09-28T09:57:27.475Z"
   },
   {
    "duration": 1885,
    "start_time": "2024-09-28T09:57:29.817Z"
   },
   {
    "duration": 3,
    "start_time": "2024-09-28T09:57:31.704Z"
   },
   {
    "duration": 9,
    "start_time": "2024-09-28T09:57:31.709Z"
   },
   {
    "duration": 30,
    "start_time": "2024-09-28T09:57:31.721Z"
   },
   {
    "duration": 4,
    "start_time": "2024-09-28T09:57:31.752Z"
   },
   {
    "duration": 26,
    "start_time": "2024-09-28T09:57:31.758Z"
   },
   {
    "duration": 10,
    "start_time": "2024-09-28T09:57:31.786Z"
   },
   {
    "duration": 9,
    "start_time": "2024-09-28T09:57:31.797Z"
   },
   {
    "duration": 10,
    "start_time": "2024-09-28T09:57:31.807Z"
   },
   {
    "duration": 113,
    "start_time": "2024-09-28T09:57:31.818Z"
   },
   {
    "duration": 27,
    "start_time": "2024-09-28T09:57:31.933Z"
   },
   {
    "duration": 27,
    "start_time": "2024-09-28T09:57:31.962Z"
   },
   {
    "duration": 6,
    "start_time": "2024-09-28T09:57:31.992Z"
   },
   {
    "duration": 12,
    "start_time": "2024-09-28T09:57:31.999Z"
   },
   {
    "duration": 8,
    "start_time": "2024-09-28T09:57:32.012Z"
   },
   {
    "duration": 6,
    "start_time": "2024-09-28T09:57:32.021Z"
   },
   {
    "duration": 207,
    "start_time": "2024-09-28T09:57:32.028Z"
   },
   {
    "duration": 1563,
    "start_time": "2024-09-28T09:57:32.237Z"
   },
   {
    "duration": 349,
    "start_time": "2024-09-28T09:57:33.801Z"
   },
   {
    "duration": 778,
    "start_time": "2024-09-28T09:57:34.152Z"
   },
   {
    "duration": 2,
    "start_time": "2024-09-28T09:57:34.931Z"
   },
   {
    "duration": 16,
    "start_time": "2024-09-28T09:57:34.935Z"
   },
   {
    "duration": 6,
    "start_time": "2024-09-28T09:57:34.952Z"
   },
   {
    "duration": 9,
    "start_time": "2024-09-28T09:57:34.959Z"
   },
   {
    "duration": 11,
    "start_time": "2024-09-28T09:57:34.970Z"
   },
   {
    "duration": 16,
    "start_time": "2024-09-28T09:57:34.983Z"
   },
   {
    "duration": 4,
    "start_time": "2024-09-28T09:57:35.000Z"
   },
   {
    "duration": 44351,
    "start_time": "2024-09-28T09:57:35.006Z"
   },
   {
    "duration": 44092,
    "start_time": "2024-09-28T09:58:19.358Z"
   },
   {
    "duration": 4,
    "start_time": "2024-09-28T09:59:03.452Z"
   },
   {
    "duration": 928,
    "start_time": "2024-09-28T09:59:03.458Z"
   },
   {
    "duration": 8,
    "start_time": "2024-09-28T09:59:04.387Z"
   },
   {
    "duration": 19,
    "start_time": "2024-09-28T09:59:04.396Z"
   },
   {
    "duration": 550940,
    "start_time": "2024-09-28T09:59:04.417Z"
   },
   {
    "duration": 56194,
    "start_time": "2024-09-28T10:08:15.358Z"
   },
   {
    "duration": 975,
    "start_time": "2024-09-28T10:09:11.554Z"
   },
   {
    "duration": 2398,
    "start_time": "2024-09-28T10:09:41.645Z"
   },
   {
    "duration": 1912,
    "start_time": "2024-09-28T10:09:44.046Z"
   },
   {
    "duration": 4,
    "start_time": "2024-09-28T10:09:45.960Z"
   },
   {
    "duration": 5,
    "start_time": "2024-09-28T10:09:45.965Z"
   },
   {
    "duration": 29,
    "start_time": "2024-09-28T10:09:45.973Z"
   },
   {
    "duration": 3,
    "start_time": "2024-09-28T10:09:46.003Z"
   },
   {
    "duration": 25,
    "start_time": "2024-09-28T10:09:46.008Z"
   },
   {
    "duration": 11,
    "start_time": "2024-09-28T10:09:46.035Z"
   },
   {
    "duration": 8,
    "start_time": "2024-09-28T10:09:46.048Z"
   },
   {
    "duration": 6,
    "start_time": "2024-09-28T10:09:46.058Z"
   },
   {
    "duration": 5,
    "start_time": "2024-09-28T10:09:46.066Z"
   },
   {
    "duration": 22,
    "start_time": "2024-09-28T10:09:46.072Z"
   },
   {
    "duration": 19,
    "start_time": "2024-09-28T10:09:46.096Z"
   },
   {
    "duration": 27,
    "start_time": "2024-09-28T10:09:46.118Z"
   },
   {
    "duration": 11,
    "start_time": "2024-09-28T10:09:46.147Z"
   },
   {
    "duration": 29,
    "start_time": "2024-09-28T10:09:46.160Z"
   },
   {
    "duration": 25,
    "start_time": "2024-09-28T10:09:46.191Z"
   },
   {
    "duration": 213,
    "start_time": "2024-09-28T10:09:46.218Z"
   },
   {
    "duration": 1572,
    "start_time": "2024-09-28T10:09:46.433Z"
   },
   {
    "duration": 350,
    "start_time": "2024-09-28T10:09:48.006Z"
   },
   {
    "duration": 799,
    "start_time": "2024-09-28T10:09:48.358Z"
   },
   {
    "duration": 3,
    "start_time": "2024-09-28T10:09:49.159Z"
   },
   {
    "duration": 12,
    "start_time": "2024-09-28T10:09:49.163Z"
   },
   {
    "duration": 6,
    "start_time": "2024-09-28T10:09:49.177Z"
   },
   {
    "duration": 5,
    "start_time": "2024-09-28T10:09:49.185Z"
   },
   {
    "duration": 47,
    "start_time": "2024-09-28T10:09:49.191Z"
   },
   {
    "duration": 5,
    "start_time": "2024-09-28T10:09:49.240Z"
   },
   {
    "duration": 3,
    "start_time": "2024-09-28T10:09:49.246Z"
   },
   {
    "duration": 43314,
    "start_time": "2024-09-28T10:09:49.251Z"
   },
   {
    "duration": 43280,
    "start_time": "2024-09-28T10:10:32.567Z"
   },
   {
    "duration": 3,
    "start_time": "2024-09-28T10:11:15.849Z"
   },
   {
    "duration": 952,
    "start_time": "2024-09-28T10:11:15.853Z"
   },
   {
    "duration": 7,
    "start_time": "2024-09-28T10:11:16.807Z"
   },
   {
    "duration": 10,
    "start_time": "2024-09-28T10:11:16.815Z"
   },
   {
    "duration": 2363,
    "start_time": "2024-09-28T10:14:42.197Z"
   },
   {
    "duration": 1823,
    "start_time": "2024-09-28T10:14:44.562Z"
   },
   {
    "duration": 3,
    "start_time": "2024-09-28T10:14:46.387Z"
   },
   {
    "duration": 7,
    "start_time": "2024-09-28T10:14:46.392Z"
   },
   {
    "duration": 51,
    "start_time": "2024-09-28T10:14:46.401Z"
   },
   {
    "duration": 3,
    "start_time": "2024-09-28T10:14:46.453Z"
   },
   {
    "duration": 30,
    "start_time": "2024-09-28T10:14:46.458Z"
   },
   {
    "duration": 5,
    "start_time": "2024-09-28T10:14:46.489Z"
   },
   {
    "duration": 13,
    "start_time": "2024-09-28T10:14:46.496Z"
   },
   {
    "duration": 12,
    "start_time": "2024-09-28T10:14:46.510Z"
   },
   {
    "duration": 5,
    "start_time": "2024-09-28T10:14:46.523Z"
   },
   {
    "duration": 17,
    "start_time": "2024-09-28T10:14:46.529Z"
   },
   {
    "duration": 7,
    "start_time": "2024-09-28T10:14:46.547Z"
   },
   {
    "duration": 3,
    "start_time": "2024-09-28T10:14:46.557Z"
   },
   {
    "duration": 14,
    "start_time": "2024-09-28T10:14:46.561Z"
   },
   {
    "duration": 9,
    "start_time": "2024-09-28T10:14:46.576Z"
   },
   {
    "duration": 40,
    "start_time": "2024-09-28T10:14:46.587Z"
   },
   {
    "duration": 213,
    "start_time": "2024-09-28T10:14:46.628Z"
   },
   {
    "duration": 1535,
    "start_time": "2024-09-28T10:14:46.843Z"
   },
   {
    "duration": 389,
    "start_time": "2024-09-28T10:14:48.379Z"
   },
   {
    "duration": 792,
    "start_time": "2024-09-28T10:14:48.769Z"
   },
   {
    "duration": 3,
    "start_time": "2024-09-28T10:14:49.562Z"
   },
   {
    "duration": 12,
    "start_time": "2024-09-28T10:14:49.566Z"
   },
   {
    "duration": 5,
    "start_time": "2024-09-28T10:14:49.580Z"
   },
   {
    "duration": 6,
    "start_time": "2024-09-28T10:14:49.587Z"
   },
   {
    "duration": 3,
    "start_time": "2024-09-28T10:14:49.594Z"
   },
   {
    "duration": 109,
    "start_time": "2024-09-28T10:14:49.599Z"
   },
   {
    "duration": 3,
    "start_time": "2024-09-28T10:14:49.710Z"
   },
   {
    "duration": 43448,
    "start_time": "2024-09-28T10:14:49.715Z"
   },
   {
    "duration": 43691,
    "start_time": "2024-09-28T10:15:33.165Z"
   },
   {
    "duration": 3,
    "start_time": "2024-09-28T10:16:16.858Z"
   },
   {
    "duration": 928,
    "start_time": "2024-09-28T10:16:16.862Z"
   },
   {
    "duration": 7,
    "start_time": "2024-09-28T10:16:17.791Z"
   },
   {
    "duration": 8,
    "start_time": "2024-09-28T10:16:17.800Z"
   },
   {
    "duration": 11397,
    "start_time": "2024-09-28T10:16:17.809Z"
   },
   {
    "duration": 0,
    "start_time": "2024-09-28T10:16:29.208Z"
   },
   {
    "duration": 0,
    "start_time": "2024-09-28T10:16:29.209Z"
   },
   {
    "duration": 15,
    "start_time": "2024-09-28T10:16:31.459Z"
   },
   {
    "duration": 3,
    "start_time": "2024-09-28T10:17:05.128Z"
   },
   {
    "duration": 16945,
    "start_time": "2024-09-28T10:17:23.617Z"
   },
   {
    "duration": 2417,
    "start_time": "2024-09-28T10:18:13.406Z"
   },
   {
    "duration": 1877,
    "start_time": "2024-09-28T10:18:15.826Z"
   },
   {
    "duration": 4,
    "start_time": "2024-09-28T10:18:17.704Z"
   },
   {
    "duration": 27,
    "start_time": "2024-09-28T10:18:17.709Z"
   },
   {
    "duration": 46,
    "start_time": "2024-09-28T10:18:17.738Z"
   },
   {
    "duration": 3,
    "start_time": "2024-09-28T10:18:17.786Z"
   },
   {
    "duration": 28,
    "start_time": "2024-09-28T10:18:17.791Z"
   },
   {
    "duration": 6,
    "start_time": "2024-09-28T10:18:17.820Z"
   },
   {
    "duration": 20,
    "start_time": "2024-09-28T10:18:17.827Z"
   },
   {
    "duration": 24,
    "start_time": "2024-09-28T10:18:17.848Z"
   },
   {
    "duration": 34,
    "start_time": "2024-09-28T10:18:17.874Z"
   },
   {
    "duration": 64,
    "start_time": "2024-09-28T10:18:17.909Z"
   },
   {
    "duration": 12,
    "start_time": "2024-09-28T10:18:17.975Z"
   },
   {
    "duration": 20,
    "start_time": "2024-09-28T10:18:17.990Z"
   },
   {
    "duration": 14,
    "start_time": "2024-09-28T10:18:18.011Z"
   },
   {
    "duration": 20,
    "start_time": "2024-09-28T10:18:18.026Z"
   },
   {
    "duration": 31,
    "start_time": "2024-09-28T10:18:18.048Z"
   },
   {
    "duration": 223,
    "start_time": "2024-09-28T10:18:18.080Z"
   },
   {
    "duration": 1599,
    "start_time": "2024-09-28T10:18:18.305Z"
   },
   {
    "duration": 383,
    "start_time": "2024-09-28T10:18:19.905Z"
   },
   {
    "duration": 801,
    "start_time": "2024-09-28T10:18:20.290Z"
   },
   {
    "duration": 2,
    "start_time": "2024-09-28T10:18:21.093Z"
   },
   {
    "duration": 11,
    "start_time": "2024-09-28T10:18:21.097Z"
   },
   {
    "duration": 6,
    "start_time": "2024-09-28T10:18:21.109Z"
   },
   {
    "duration": 5,
    "start_time": "2024-09-28T10:18:21.116Z"
   },
   {
    "duration": 21,
    "start_time": "2024-09-28T10:18:21.122Z"
   },
   {
    "duration": 3,
    "start_time": "2024-09-28T10:18:21.144Z"
   },
   {
    "duration": 10,
    "start_time": "2024-09-28T10:18:21.149Z"
   },
   {
    "duration": 42983,
    "start_time": "2024-09-28T10:18:21.161Z"
   },
   {
    "duration": 3,
    "start_time": "2024-09-28T10:19:04.146Z"
   },
   {
    "duration": 949,
    "start_time": "2024-09-28T10:19:04.150Z"
   },
   {
    "duration": 7,
    "start_time": "2024-09-28T10:19:05.100Z"
   },
   {
    "duration": 7,
    "start_time": "2024-09-28T10:19:05.109Z"
   },
   {
    "duration": 510743,
    "start_time": "2024-09-28T10:19:05.118Z"
   },
   {
    "duration": 68284,
    "start_time": "2024-09-28T10:27:35.863Z"
   },
   {
    "duration": 944,
    "start_time": "2024-09-28T10:28:44.148Z"
   },
   {
    "duration": 2363,
    "start_time": "2024-09-28T10:29:52.094Z"
   },
   {
    "duration": 1942,
    "start_time": "2024-09-28T10:29:54.459Z"
   },
   {
    "duration": 4,
    "start_time": "2024-09-28T10:29:56.402Z"
   },
   {
    "duration": 6,
    "start_time": "2024-09-28T10:29:56.407Z"
   },
   {
    "duration": 31,
    "start_time": "2024-09-28T10:29:56.414Z"
   },
   {
    "duration": 3,
    "start_time": "2024-09-28T10:29:56.446Z"
   },
   {
    "duration": 37,
    "start_time": "2024-09-28T10:29:56.451Z"
   },
   {
    "duration": 5,
    "start_time": "2024-09-28T10:29:56.489Z"
   },
   {
    "duration": 7,
    "start_time": "2024-09-28T10:29:56.496Z"
   },
   {
    "duration": 4,
    "start_time": "2024-09-28T10:29:56.505Z"
   },
   {
    "duration": 6,
    "start_time": "2024-09-28T10:29:56.511Z"
   },
   {
    "duration": 26,
    "start_time": "2024-09-28T10:29:56.519Z"
   },
   {
    "duration": 6,
    "start_time": "2024-09-28T10:29:56.546Z"
   },
   {
    "duration": 2,
    "start_time": "2024-09-28T10:29:56.555Z"
   },
   {
    "duration": 4,
    "start_time": "2024-09-28T10:29:56.559Z"
   },
   {
    "duration": 21,
    "start_time": "2024-09-28T10:29:56.564Z"
   },
   {
    "duration": 3,
    "start_time": "2024-09-28T10:29:56.587Z"
   },
   {
    "duration": 212,
    "start_time": "2024-09-28T10:29:56.591Z"
   },
   {
    "duration": 1559,
    "start_time": "2024-09-28T10:29:56.804Z"
   },
   {
    "duration": 367,
    "start_time": "2024-09-28T10:29:58.365Z"
   },
   {
    "duration": 817,
    "start_time": "2024-09-28T10:29:58.734Z"
   },
   {
    "duration": 2,
    "start_time": "2024-09-28T10:29:59.553Z"
   },
   {
    "duration": 11,
    "start_time": "2024-09-28T10:29:59.557Z"
   },
   {
    "duration": 5,
    "start_time": "2024-09-28T10:29:59.569Z"
   },
   {
    "duration": 9,
    "start_time": "2024-09-28T10:29:59.576Z"
   },
   {
    "duration": 14,
    "start_time": "2024-09-28T10:29:59.586Z"
   },
   {
    "duration": 4,
    "start_time": "2024-09-28T10:29:59.602Z"
   },
   {
    "duration": 4,
    "start_time": "2024-09-28T10:29:59.608Z"
   },
   {
    "duration": 43330,
    "start_time": "2024-09-28T10:29:59.614Z"
   },
   {
    "duration": 4,
    "start_time": "2024-09-28T10:30:42.945Z"
   },
   {
    "duration": 894,
    "start_time": "2024-09-28T10:30:42.950Z"
   },
   {
    "duration": 8,
    "start_time": "2024-09-28T10:30:43.846Z"
   },
   {
    "duration": 8,
    "start_time": "2024-09-28T10:30:43.856Z"
   },
   {
    "duration": 517989,
    "start_time": "2024-09-28T10:30:43.866Z"
   },
   {
    "duration": 69302,
    "start_time": "2024-09-28T10:39:21.857Z"
   },
   {
    "duration": 953,
    "start_time": "2024-09-28T10:40:31.160Z"
   },
   {
    "duration": 2389,
    "start_time": "2024-09-28T10:40:47.702Z"
   },
   {
    "duration": 1802,
    "start_time": "2024-09-28T10:40:50.093Z"
   },
   {
    "duration": 4,
    "start_time": "2024-09-28T10:40:51.896Z"
   },
   {
    "duration": 6,
    "start_time": "2024-09-28T10:40:51.902Z"
   },
   {
    "duration": 30,
    "start_time": "2024-09-28T10:40:51.909Z"
   },
   {
    "duration": 3,
    "start_time": "2024-09-28T10:40:51.940Z"
   },
   {
    "duration": 105,
    "start_time": "2024-09-28T10:40:51.945Z"
   },
   {
    "duration": 6,
    "start_time": "2024-09-28T10:40:52.051Z"
   },
   {
    "duration": 23,
    "start_time": "2024-09-28T10:40:52.059Z"
   },
   {
    "duration": 19,
    "start_time": "2024-09-28T10:40:52.086Z"
   },
   {
    "duration": 17,
    "start_time": "2024-09-28T10:40:52.107Z"
   },
   {
    "duration": 14,
    "start_time": "2024-09-28T10:40:52.125Z"
   },
   {
    "duration": 33,
    "start_time": "2024-09-28T10:40:52.141Z"
   },
   {
    "duration": 11,
    "start_time": "2024-09-28T10:40:52.176Z"
   },
   {
    "duration": 14,
    "start_time": "2024-09-28T10:40:52.188Z"
   },
   {
    "duration": 8,
    "start_time": "2024-09-28T10:40:52.204Z"
   },
   {
    "duration": 4,
    "start_time": "2024-09-28T10:40:52.214Z"
   },
   {
    "duration": 218,
    "start_time": "2024-09-28T10:40:52.219Z"
   },
   {
    "duration": 1591,
    "start_time": "2024-09-28T10:40:52.439Z"
   },
   {
    "duration": 350,
    "start_time": "2024-09-28T10:40:54.032Z"
   },
   {
    "duration": 802,
    "start_time": "2024-09-28T10:40:54.384Z"
   },
   {
    "duration": 3,
    "start_time": "2024-09-28T10:40:55.188Z"
   },
   {
    "duration": 11,
    "start_time": "2024-09-28T10:40:55.193Z"
   },
   {
    "duration": 7,
    "start_time": "2024-09-28T10:40:55.205Z"
   },
   {
    "duration": 29,
    "start_time": "2024-09-28T10:40:55.214Z"
   },
   {
    "duration": 4,
    "start_time": "2024-09-28T10:40:55.245Z"
   },
   {
    "duration": 3,
    "start_time": "2024-09-28T10:40:55.251Z"
   },
   {
    "duration": 3,
    "start_time": "2024-09-28T10:40:55.256Z"
   },
   {
    "duration": 44895,
    "start_time": "2024-09-28T10:40:55.260Z"
   },
   {
    "duration": 4,
    "start_time": "2024-09-28T10:41:40.156Z"
   },
   {
    "duration": 974,
    "start_time": "2024-09-28T10:41:40.161Z"
   },
   {
    "duration": 7,
    "start_time": "2024-09-28T10:41:41.136Z"
   },
   {
    "duration": 7,
    "start_time": "2024-09-28T10:41:41.144Z"
   },
   {
    "duration": 518603,
    "start_time": "2024-09-28T10:41:41.152Z"
   },
   {
    "duration": 68805,
    "start_time": "2024-09-28T10:50:19.756Z"
   },
   {
    "duration": 982,
    "start_time": "2024-09-28T10:51:28.563Z"
   },
   {
    "duration": 2397,
    "start_time": "2024-09-28T12:36:26.529Z"
   },
   {
    "duration": 1956,
    "start_time": "2024-09-28T12:36:28.928Z"
   },
   {
    "duration": 3,
    "start_time": "2024-09-28T12:36:30.886Z"
   },
   {
    "duration": 9,
    "start_time": "2024-09-28T12:36:30.891Z"
   },
   {
    "duration": 30,
    "start_time": "2024-09-28T12:36:30.902Z"
   },
   {
    "duration": 3,
    "start_time": "2024-09-28T12:36:30.934Z"
   },
   {
    "duration": 26,
    "start_time": "2024-09-28T12:36:30.938Z"
   },
   {
    "duration": 5,
    "start_time": "2024-09-28T12:36:30.966Z"
   },
   {
    "duration": 21,
    "start_time": "2024-09-28T12:36:30.973Z"
   },
   {
    "duration": 11,
    "start_time": "2024-09-28T12:36:30.996Z"
   },
   {
    "duration": 4,
    "start_time": "2024-09-28T12:36:31.009Z"
   },
   {
    "duration": 12,
    "start_time": "2024-09-28T12:36:31.015Z"
   },
   {
    "duration": 19,
    "start_time": "2024-09-28T12:36:31.029Z"
   },
   {
    "duration": 5,
    "start_time": "2024-09-28T12:36:31.051Z"
   },
   {
    "duration": 8,
    "start_time": "2024-09-28T12:36:31.057Z"
   },
   {
    "duration": 22,
    "start_time": "2024-09-28T12:36:31.066Z"
   },
   {
    "duration": 13,
    "start_time": "2024-09-28T12:36:31.089Z"
   },
   {
    "duration": 202,
    "start_time": "2024-09-28T12:36:31.104Z"
   },
   {
    "duration": 1662,
    "start_time": "2024-09-28T12:36:31.308Z"
   },
   {
    "duration": 382,
    "start_time": "2024-09-28T12:36:32.972Z"
   },
   {
    "duration": 808,
    "start_time": "2024-09-28T12:36:33.355Z"
   },
   {
    "duration": 3,
    "start_time": "2024-09-28T12:36:34.165Z"
   },
   {
    "duration": 24,
    "start_time": "2024-09-28T12:36:34.170Z"
   },
   {
    "duration": 7,
    "start_time": "2024-09-28T12:36:34.196Z"
   },
   {
    "duration": 5,
    "start_time": "2024-09-28T12:36:34.204Z"
   },
   {
    "duration": 55,
    "start_time": "2024-09-28T12:36:34.210Z"
   },
   {
    "duration": 74,
    "start_time": "2024-09-28T12:36:34.267Z"
   },
   {
    "duration": 130,
    "start_time": "2024-09-28T12:36:34.342Z"
   },
   {
    "duration": 44886,
    "start_time": "2024-09-28T12:36:34.474Z"
   },
   {
    "duration": 3,
    "start_time": "2024-09-28T12:37:19.362Z"
   },
   {
    "duration": 1014,
    "start_time": "2024-09-28T12:37:19.367Z"
   },
   {
    "duration": 7,
    "start_time": "2024-09-28T12:37:20.382Z"
   },
   {
    "duration": 107,
    "start_time": "2024-09-28T12:37:20.391Z"
   },
   {
    "duration": 531256,
    "start_time": "2024-09-28T12:37:20.499Z"
   },
   {
    "duration": 70186,
    "start_time": "2024-09-28T12:46:11.757Z"
   },
   {
    "duration": 978,
    "start_time": "2024-09-28T12:47:21.944Z"
   }
  ],
  "kernelspec": {
   "display_name": "Python 3 (ipykernel)",
   "language": "python",
   "name": "python3"
  },
  "language_info": {
   "codemirror_mode": {
    "name": "ipython",
    "version": 3
   },
   "file_extension": ".py",
   "mimetype": "text/x-python",
   "name": "python",
   "nbconvert_exporter": "python",
   "pygments_lexer": "ipython3",
   "version": "3.9.5"
  },
  "toc": {
   "base_numbering": 1,
   "nav_menu": {},
   "number_sections": false,
   "sideBar": true,
   "skip_h1_title": false,
   "title_cell": "Table of Contents",
   "title_sidebar": "Contents",
   "toc_cell": false,
   "toc_position": {},
   "toc_section_display": true,
   "toc_window_display": false
  },
  "varInspector": {
   "cols": {
    "lenName": 16,
    "lenType": 16,
    "lenVar": 40
   },
   "kernels_config": {
    "python": {
     "delete_cmd_postfix": "",
     "delete_cmd_prefix": "del ",
     "library": "var_list.py",
     "varRefreshCmd": "print(var_dic_list())"
    },
    "r": {
     "delete_cmd_postfix": ") ",
     "delete_cmd_prefix": "rm(",
     "library": "var_list.r",
     "varRefreshCmd": "cat(var_dic_list()) "
    }
   },
   "types_to_exclude": [
    "module",
    "function",
    "builtin_function_or_method",
    "instance",
    "_Feature"
   ],
   "window_display": false
  }
 },
 "nbformat": 4,
 "nbformat_minor": 5
}
