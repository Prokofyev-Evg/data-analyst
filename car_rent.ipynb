{
 "cells": [
  {
   "cell_type": "code",
   "execution_count": 35,
   "id": "43448454-288e-4122-b96f-5315c250f851",
   "metadata": {},
   "outputs": [],
   "source": [
    "import pandas as pd\n",
    "import matplotlib.pyplot as plt\n",
    "import numpy as np"
   ]
  },
  {
   "cell_type": "code",
   "execution_count": 36,
   "id": "1feb537c-a72f-4592-b3f4-c7c539692f2b",
   "metadata": {},
   "outputs": [],
   "source": [
    "def calc_income_per_month(rent, load):\n",
    "    return rent_price_per_day*rent_load/100*30"
   ]
  },
  {
   "cell_type": "code",
   "execution_count": 37,
   "id": "71539b3f-8cbc-4127-8a29-975defdaf952",
   "metadata": {},
   "outputs": [],
   "source": [
    "def calc_car_residual_price(current_price, month_count, loss_rate):\n",
    "    return round(current_price * (1-loss_rate/100)**(month_count/12))"
   ]
  },
  {
   "cell_type": "code",
   "execution_count": 49,
   "id": "629db65b-44b8-4acf-a026-5900c393f06b",
   "metadata": {},
   "outputs": [],
   "source": [
    "def calc_rent_price(rent_price, month_count, loss_rate):\n",
    "    return round(rent_price * (1-loss_rate/100)**(month_count / 12))"
   ]
  },
  {
   "cell_type": "code",
   "execution_count": 50,
   "id": "16a55466-be87-4cb5-adb8-5c7e8abdd867",
   "metadata": {},
   "outputs": [],
   "source": [
    "def calc_total_income(month_count):\n",
    "    return calc_income_per_month(calc_rent_price(rent_price_per_day, month_count, 5), rent_load)*month_count+calc_car_residual_price(car_price, month_count, car_price_loss_rate_per_year)"
   ]
  },
  {
   "cell_type": "code",
   "execution_count": 39,
   "id": "eb028b89-9d18-4d9d-b954-7db6136ce5b8",
   "metadata": {},
   "outputs": [],
   "source": [
    "def calc_total_cost(month_count):\n",
    "    return (service_price+insurance_price) * ((month_count - 1) // 12 + 1) + car_price"
   ]
  },
  {
   "cell_type": "code",
   "execution_count": 40,
   "id": "542481d4-6396-44b8-a4eb-7cc8b5d3de1a",
   "metadata": {},
   "outputs": [],
   "source": [
    "def calc_percentage(month_count):\n",
    "    total_income = calc_total_income(month_count)\n",
    "    total_cost = calc_total_cost(month_count)\n",
    "    return (total_income-total_cost)/total_cost*100/(month_count / 12)"
   ]
  },
  {
   "cell_type": "code",
   "execution_count": 85,
   "id": "da04a608-4129-4d19-974d-1325b2903049",
   "metadata": {},
   "outputs": [],
   "source": [
    "max_month_value = 7*12\n",
    "df = pd.DataFrame(\n",
    "    {\n",
    "        'month': list(range(1, max_month_value+1)),\n",
    "        'total_cost': max_month_value*[0],\n",
    "        'total_income': max_month_value*[0],\n",
    "        'residual_price': max_month_value*[0],\n",
    "        'rent_price': max_month_value*[0],\n",
    "        'percentage': max_month_value*[0]\n",
    "    }\n",
    ")"
   ]
  },
  {
   "cell_type": "code",
   "execution_count": 92,
   "id": "cc6ead7e-ede8-4646-b1a6-9be0c1888ea9",
   "metadata": {},
   "outputs": [
    {
     "data": {
      "image/png": "[encoded data removed]",
      "text/plain": [
       "<Figure size 2000x500 with 1 Axes>"
      ]
     },
     "metadata": {},
     "output_type": "display_data"
    }
   ],
   "source": [
    "car_price = 1200000 # Стоимость машины\n",
    "rent_price_per_day = 2400 # Стоимость аренды в день\n",
    "rent_load = 90 # загруженность машины в месяц (%)\n",
    "service_price = 75000 # обслуживание в год\n",
    "insurance_price = 75000 # страховка в год\n",
    "car_price_loss_rate_per_year = 20 # потеря в стоимости машины в год (%)\n",
    "rent_price_loss_rate_per_year = 5 # снижение стоимости аренды машины в год (%)\n",
    "\n",
    "df['total_cost'] = calc_total_cost(df['month'])\n",
    "df['total_income'] = calc_income_per_month(rent_price_per_day, rent_load)*df['month']\n",
    "df['residual_price'] = calc_car_residual_price(car_price, df['month'], car_price_loss_rate_per_year)\n",
    "df['rent_price'] = calc_rent_price(rent_price_per_day, df['month'], rent_price_loss_rate_per_year)\n",
    "df['percentage'] = calc_percentage(df['month'])\n",
    "ax = df.percentage.plot(kind=\"bar\", figsize=(20, 5), grid=True)\n",
    "plt.title(\"\", fontsize=32)\n",
    "plt.xlabel(\"Месяц\", fontsize=16)\n",
    "plt.ylabel(f\"Процент\", fontsize=18)\n",
    "plt.ylim(0, 30)\n",
    "plt.xticks(fontsize=10, rotation=90, horizontalalignment=\"right\");"
   ]
  },
  {
   "cell_type": "code",
   "execution_count": 93,
   "id": "9b35fc37-21b8-4d1e-ba12-09f855b85571",
   "metadata": {},
   "outputs": [
    {
     "data": {
      "text/html": [
       "<div>\n",
       "<style scoped>\n",
       "    .dataframe tbody tr th:only-of-type {\n",
       "        vertical-align: middle;\n",
       "    }\n",
       "\n",
       "    .dataframe tbody tr th {\n",
       "        vertical-align: top;\n",
       "    }\n",
       "\n",
       "    .dataframe thead th {\n",
       "        text-align: right;\n",
       "    }\n",
       "</style>\n",
       "<table border=\"1\" class=\"dataframe\">\n",
       "  <thead>\n",
       "    <tr style=\"text-align: right;\">\n",
       "      <th></th>\n",
       "      <th>month</th>\n",
       "      <th>total_cost</th>\n",
       "      <th>total_income</th>\n",
       "      <th>residual_price</th>\n",
       "      <th>rent_price</th>\n",
       "      <th>percentage</th>\n",
       "    </tr>\n",
       "  </thead>\n",
       "  <tbody>\n",
       "    <tr>\n",
       "      <th>0</th>\n",
       "      <td>1</td>\n",
       "      <td>1350000</td>\n",
       "      <td>64800.0</td>\n",
       "      <td>1177892.0</td>\n",
       "      <td>2390.0</td>\n",
       "      <td>-95.384889</td>\n",
       "    </tr>\n",
       "    <tr>\n",
       "      <th>1</th>\n",
       "      <td>2</td>\n",
       "      <td>1350000</td>\n",
       "      <td>129600.0</td>\n",
       "      <td>1156191.0</td>\n",
       "      <td>2380.0</td>\n",
       "      <td>-28.537333</td>\n",
       "    </tr>\n",
       "    <tr>\n",
       "      <th>2</th>\n",
       "      <td>3</td>\n",
       "      <td>1350000</td>\n",
       "      <td>194400.0</td>\n",
       "      <td>1134890.0</td>\n",
       "      <td>2369.0</td>\n",
       "      <td>-6.136296</td>\n",
       "    </tr>\n",
       "    <tr>\n",
       "      <th>3</th>\n",
       "      <td>4</td>\n",
       "      <td>1350000</td>\n",
       "      <td>259200.0</td>\n",
       "      <td>1113981.0</td>\n",
       "      <td>2359.0</td>\n",
       "      <td>5.151333</td>\n",
       "    </tr>\n",
       "    <tr>\n",
       "      <th>4</th>\n",
       "      <td>5</td>\n",
       "      <td>1350000</td>\n",
       "      <td>324000.0</td>\n",
       "      <td>1093458.0</td>\n",
       "      <td>2349.0</td>\n",
       "      <td>11.992533</td>\n",
       "    </tr>\n",
       "    <tr>\n",
       "      <th>...</th>\n",
       "      <td>...</td>\n",
       "      <td>...</td>\n",
       "      <td>...</td>\n",
       "      <td>...</td>\n",
       "      <td>...</td>\n",
       "      <td>...</td>\n",
       "    </tr>\n",
       "    <tr>\n",
       "      <th>79</th>\n",
       "      <td>80</td>\n",
       "      <td>2250000</td>\n",
       "      <td>5184000.0</td>\n",
       "      <td>271091.0</td>\n",
       "      <td>1705.0</td>\n",
       "      <td>21.367273</td>\n",
       "    </tr>\n",
       "    <tr>\n",
       "      <th>80</th>\n",
       "      <td>81</td>\n",
       "      <td>2250000</td>\n",
       "      <td>5248800.0</td>\n",
       "      <td>266096.0</td>\n",
       "      <td>1698.0</td>\n",
       "      <td>21.497258</td>\n",
       "    </tr>\n",
       "    <tr>\n",
       "      <th>81</th>\n",
       "      <td>82</td>\n",
       "      <td>2250000</td>\n",
       "      <td>5313600.0</td>\n",
       "      <td>261194.0</td>\n",
       "      <td>1690.0</td>\n",
       "      <td>21.624676</td>\n",
       "    </tr>\n",
       "    <tr>\n",
       "      <th>82</th>\n",
       "      <td>83</td>\n",
       "      <td>2250000</td>\n",
       "      <td>5378400.0</td>\n",
       "      <td>256382.0</td>\n",
       "      <td>1683.0</td>\n",
       "      <td>21.749603</td>\n",
       "    </tr>\n",
       "    <tr>\n",
       "      <th>83</th>\n",
       "      <td>84</td>\n",
       "      <td>2250000</td>\n",
       "      <td>5443200.0</td>\n",
       "      <td>251658.0</td>\n",
       "      <td>1676.0</td>\n",
       "      <td>21.872114</td>\n",
       "    </tr>\n",
       "  </tbody>\n",
       "</table>\n",
       "<p>84 rows × 6 columns</p>\n",
       "</div>"
      ],
      "text/plain": [
       "    month  total_cost  total_income  residual_price  rent_price  percentage\n",
       "0       1     1350000       64800.0       1177892.0      2390.0  -95.384889\n",
       "1       2     1350000      129600.0       1156191.0      2380.0  -28.537333\n",
       "2       3     1350000      194400.0       1134890.0      2369.0   -6.136296\n",
       "3       4     1350000      259200.0       1113981.0      2359.0    5.151333\n",
       "4       5     1350000      324000.0       1093458.0      2349.0   11.992533\n",
       "..    ...         ...           ...             ...         ...         ...\n",
       "79     80     2250000     5184000.0        271091.0      1705.0   21.367273\n",
       "80     81     2250000     5248800.0        266096.0      1698.0   21.497258\n",
       "81     82     2250000     5313600.0        261194.0      1690.0   21.624676\n",
       "82     83     2250000     5378400.0        256382.0      1683.0   21.749603\n",
       "83     84     2250000     5443200.0        251658.0      1676.0   21.872114\n",
       "\n",
       "[84 rows x 6 columns]"
      ]
     },
     "execution_count": 93,
     "metadata": {},
     "output_type": "execute_result"
    }
   ],
   "source": [
    "df"
   ]
  },
  {
   "cell_type": "code",
   "execution_count": 96,
   "id": "3fd64947-9af3-4855-9b61-ba6d3fe4b8ac",
   "metadata": {},
   "outputs": [
    {
     "name": "stdout",
     "output_type": "stream",
     "text": [
      "Количество месяцев: 36\n",
      "Стоимость машины: 1200000\n",
      "Затраты за весь период: 1650000\n",
      "Доход в месяц: 64800\n",
      "Доход за весь период: 2332800\n",
      "Остаточная стоимость автомобиля: 614400\n",
      "Стоимость аренды в конце периода: 2058\n",
      "Процент годовых: 26.206061%\n"
     ]
    }
   ],
   "source": [
    "month_count_value = 36\n",
    "print(f\"Количество месяцев: {month_count_value}\")\n",
    "print(f\"Стоимость машины: {car_price}\")\n",
    "print(f\"Затраты за весь период: {int(calc_total_cost(month_count_value))}\")\n",
    "print(f\"Доход в месяц: {int(calc_income_per_month(rent_price_per_day, rent_load))}\")\n",
    "print(f\"Доход за весь период: {int(calc_income_per_month(rent_price_per_day, rent_load)*month_count_value)}\")\n",
    "print(f\"Остаточная стоимость автомобиля: {int(calc_car_residual_price(car_price, month_count_value, car_price_loss_rate_per_year))}\")\n",
    "print(f\"Стоимость аренды в конце периода: {calc_rent_price(rent_price_per_day, month_count_value, rent_price_loss_rate_per_year)}\")\n",
    "print(f\"Процент годовых: {calc_percentage(month_count_value):0f}%\")"
   ]
  },
  {
   "cell_type": "code",
   "execution_count": null,
   "id": "8263f710-b1ff-4049-989b-4dcbc8ac224f",
   "metadata": {},
   "outputs": [],
   "source": []
  }
 ],
 "metadata": {
  "kernelspec": {
   "display_name": "Python 3 (ipykernel)",
   "language": "python",
   "name": "python3"
  },
  "language_info": {
   "codemirror_mode": {
    "name": "ipython",
    "version": 3
   },
   "file_extension": ".py",
   "mimetype": "text/x-python",
   "name": "python",
   "nbconvert_exporter": "python",
   "pygments_lexer": "ipython3",
   "version": "3.12.7"
  }
 },
 "nbformat": 4,
 "nbformat_minor": 5
}
