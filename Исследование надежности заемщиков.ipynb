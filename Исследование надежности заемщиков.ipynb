{
 "cells": [
  {
   "cell_type": "markdown",
   "id": "4a8b9021",
   "metadata": {},
   "source": [
    "<div class=\"alert alert-block alert-success\"><font color='green' size=5 ><b>Комментарий ревьюера v2</b></font> \n",
    "\n",
    "Евгений, привет! Спасибо тебе за доработку. Сейчас посмотрим) Мои комментарии будут в таких блоках \n",
    "\n",
    "Заключительный комментарий будет в самом конце проекта)</div>"
   ]
  },
  {
   "cell_type": "markdown",
   "id": "f8b73d1e",
   "metadata": {},
   "source": [
    "Привет, Евгений! Меня зовут Антон Соловьев и я буду проверять твой проект. Предлагаю общаться на «ты», если это не вызывает никаких проблем.\n",
    "Моя цель не указать на твои ошибки, а помочь тебе научиться и стать крутым аналитиком данных.\n",
    "\n",
    "Комментарии будут в <font color='green'>зеленой</font>, <font color='orange'>желтой</font> или <font color='red'>красной</font> рамках:\n",
    "\n",
    "<div class=\"alert alert-block alert-success\">\n",
    "<b> 👍 Успех:</b> Все сделано отлично\n",
    "</div>\n",
    "\n",
    "<div class=\"alert alert-block alert-warning\">\n",
    "<b> ⚠️ Совет: </b> Есть что улучшить в твоем коде или выводах\n",
    "</div>\n",
    "\n",
    "<div class=\"alert alert-block alert-danger\">\n",
    "<b> ❌ Нужно исправить:</b> Требуется исправление. Работа не может быть принята с красными комментариями.\n",
    "</div>\n",
    "\n",
    "Пожалуйста не удаляй мои комментарии. Так как они повышают качество повторного ревью. \n",
    "Если ты исправляешь что-то в проекте — пожалуйста комментируй. По возможности выделяй свои комментарии, например, вот так:\n",
    "\n",
    "<div class=\"alert alert-block alert-info\">\n",
    "<b>Комментарий студента </b> \n",
    "</div>\n",
    "\n",
    "Поехали!"
   ]
  },
  {
   "cell_type": "markdown",
   "id": "dbe5e2e6",
   "metadata": {
    "deletable": false,
    "editable": false,
    "id": "c81daeeb"
   },
   "source": [
    "# Исследование надежности заемщиков\n"
   ]
  },
  {
   "cell_type": "markdown",
   "id": "7867757f",
   "metadata": {
    "deletable": false,
    "editable": false,
    "id": "827c20bf"
   },
   "source": [
    "Во второй части проекта вы выполните шаги 3 и 4. Их вручную проверит ревьюер.\n",
    "Чтобы вам не пришлось писать код заново для шагов 1 и 2, мы добавили авторские решения в ячейки с кодом. \n",
    "\n"
   ]
  },
  {
   "cell_type": "markdown",
   "id": "7504d479",
   "metadata": {
    "deletable": false,
    "editable": false,
    "id": "744d7639"
   },
   "source": [
    "## Откройте таблицу и изучите общую информацию о данных"
   ]
  },
  {
   "cell_type": "markdown",
   "id": "e3a854be",
   "metadata": {
    "deletable": false,
    "editable": false,
    "id": "e7a14c31"
   },
   "source": [
    "**Задание 1. Импортируйте библиотеку pandas. Считайте данные из csv-файла в датафрейм и сохраните в переменную `data`. Путь к файлу:**\n",
    "\n",
    "`/datasets/data.csv`"
   ]
  },
  {
   "cell_type": "code",
   "execution_count": 1,
   "id": "3a3b27d0",
   "metadata": {
    "deletable": false,
    "id": "7bcf75c9"
   },
   "outputs": [],
   "source": [
    "import pandas as pd\n",
    "\n",
    "try:\n",
    "    data = pd.read_csv('/datasets/data.csv')\n",
    "except:\n",
    "    data = pd.read_csv('https://code.s3.yandex.net/datasets/data.csv')"
   ]
  },
  {
   "cell_type": "markdown",
   "id": "9b956955",
   "metadata": {
    "deletable": false,
    "editable": false,
    "id": "b8038fe3"
   },
   "source": [
    "**Задание 2. Выведите первые 20 строчек датафрейма `data` на экран.**"
   ]
  },
  {
   "cell_type": "code",
   "execution_count": 2,
   "id": "111ddbc2",
   "metadata": {
    "deletable": false,
    "id": "2a7cab99",
    "outputId": "1a8f3ef2-d323-4ec2-ddf7-89670b5944c4"
   },
   "outputs": [
    {
     "data": {
      "text/html": [
       "<div>\n",
       "<style scoped>\n",
       "    .dataframe tbody tr th:only-of-type {\n",
       "        vertical-align: middle;\n",
       "    }\n",
       "\n",
       "    .dataframe tbody tr th {\n",
       "        vertical-align: top;\n",
       "    }\n",
       "\n",
       "    .dataframe thead th {\n",
       "        text-align: right;\n",
       "    }\n",
       "</style>\n",
       "<table border=\"1\" class=\"dataframe\">\n",
       "  <thead>\n",
       "    <tr style=\"text-align: right;\">\n",
       "      <th></th>\n",
       "      <th>children</th>\n",
       "      <th>days_employed</th>\n",
       "      <th>dob_years</th>\n",
       "      <th>education</th>\n",
       "      <th>education_id</th>\n",
       "      <th>family_status</th>\n",
       "      <th>family_status_id</th>\n",
       "      <th>gender</th>\n",
       "      <th>income_type</th>\n",
       "      <th>debt</th>\n",
       "      <th>total_income</th>\n",
       "      <th>purpose</th>\n",
       "    </tr>\n",
       "  </thead>\n",
       "  <tbody>\n",
       "    <tr>\n",
       "      <th>0</th>\n",
       "      <td>1</td>\n",
       "      <td>-8437.673028</td>\n",
       "      <td>42</td>\n",
       "      <td>высшее</td>\n",
       "      <td>0</td>\n",
       "      <td>женат / замужем</td>\n",
       "      <td>0</td>\n",
       "      <td>F</td>\n",
       "      <td>сотрудник</td>\n",
       "      <td>0</td>\n",
       "      <td>253875.639453</td>\n",
       "      <td>покупка жилья</td>\n",
       "    </tr>\n",
       "    <tr>\n",
       "      <th>1</th>\n",
       "      <td>1</td>\n",
       "      <td>-4024.803754</td>\n",
       "      <td>36</td>\n",
       "      <td>среднее</td>\n",
       "      <td>1</td>\n",
       "      <td>женат / замужем</td>\n",
       "      <td>0</td>\n",
       "      <td>F</td>\n",
       "      <td>сотрудник</td>\n",
       "      <td>0</td>\n",
       "      <td>112080.014102</td>\n",
       "      <td>приобретение автомобиля</td>\n",
       "    </tr>\n",
       "    <tr>\n",
       "      <th>2</th>\n",
       "      <td>0</td>\n",
       "      <td>-5623.422610</td>\n",
       "      <td>33</td>\n",
       "      <td>Среднее</td>\n",
       "      <td>1</td>\n",
       "      <td>женат / замужем</td>\n",
       "      <td>0</td>\n",
       "      <td>M</td>\n",
       "      <td>сотрудник</td>\n",
       "      <td>0</td>\n",
       "      <td>145885.952297</td>\n",
       "      <td>покупка жилья</td>\n",
       "    </tr>\n",
       "    <tr>\n",
       "      <th>3</th>\n",
       "      <td>3</td>\n",
       "      <td>-4124.747207</td>\n",
       "      <td>32</td>\n",
       "      <td>среднее</td>\n",
       "      <td>1</td>\n",
       "      <td>женат / замужем</td>\n",
       "      <td>0</td>\n",
       "      <td>M</td>\n",
       "      <td>сотрудник</td>\n",
       "      <td>0</td>\n",
       "      <td>267628.550329</td>\n",
       "      <td>дополнительное образование</td>\n",
       "    </tr>\n",
       "    <tr>\n",
       "      <th>4</th>\n",
       "      <td>0</td>\n",
       "      <td>340266.072047</td>\n",
       "      <td>53</td>\n",
       "      <td>среднее</td>\n",
       "      <td>1</td>\n",
       "      <td>гражданский брак</td>\n",
       "      <td>1</td>\n",
       "      <td>F</td>\n",
       "      <td>пенсионер</td>\n",
       "      <td>0</td>\n",
       "      <td>158616.077870</td>\n",
       "      <td>сыграть свадьбу</td>\n",
       "    </tr>\n",
       "    <tr>\n",
       "      <th>5</th>\n",
       "      <td>0</td>\n",
       "      <td>-926.185831</td>\n",
       "      <td>27</td>\n",
       "      <td>высшее</td>\n",
       "      <td>0</td>\n",
       "      <td>гражданский брак</td>\n",
       "      <td>1</td>\n",
       "      <td>M</td>\n",
       "      <td>компаньон</td>\n",
       "      <td>0</td>\n",
       "      <td>255763.565419</td>\n",
       "      <td>покупка жилья</td>\n",
       "    </tr>\n",
       "    <tr>\n",
       "      <th>6</th>\n",
       "      <td>0</td>\n",
       "      <td>-2879.202052</td>\n",
       "      <td>43</td>\n",
       "      <td>высшее</td>\n",
       "      <td>0</td>\n",
       "      <td>женат / замужем</td>\n",
       "      <td>0</td>\n",
       "      <td>F</td>\n",
       "      <td>компаньон</td>\n",
       "      <td>0</td>\n",
       "      <td>240525.971920</td>\n",
       "      <td>операции с жильем</td>\n",
       "    </tr>\n",
       "    <tr>\n",
       "      <th>7</th>\n",
       "      <td>0</td>\n",
       "      <td>-152.779569</td>\n",
       "      <td>50</td>\n",
       "      <td>СРЕДНЕЕ</td>\n",
       "      <td>1</td>\n",
       "      <td>женат / замужем</td>\n",
       "      <td>0</td>\n",
       "      <td>M</td>\n",
       "      <td>сотрудник</td>\n",
       "      <td>0</td>\n",
       "      <td>135823.934197</td>\n",
       "      <td>образование</td>\n",
       "    </tr>\n",
       "    <tr>\n",
       "      <th>8</th>\n",
       "      <td>2</td>\n",
       "      <td>-6929.865299</td>\n",
       "      <td>35</td>\n",
       "      <td>ВЫСШЕЕ</td>\n",
       "      <td>0</td>\n",
       "      <td>гражданский брак</td>\n",
       "      <td>1</td>\n",
       "      <td>F</td>\n",
       "      <td>сотрудник</td>\n",
       "      <td>0</td>\n",
       "      <td>95856.832424</td>\n",
       "      <td>на проведение свадьбы</td>\n",
       "    </tr>\n",
       "    <tr>\n",
       "      <th>9</th>\n",
       "      <td>0</td>\n",
       "      <td>-2188.756445</td>\n",
       "      <td>41</td>\n",
       "      <td>среднее</td>\n",
       "      <td>1</td>\n",
       "      <td>женат / замужем</td>\n",
       "      <td>0</td>\n",
       "      <td>M</td>\n",
       "      <td>сотрудник</td>\n",
       "      <td>0</td>\n",
       "      <td>144425.938277</td>\n",
       "      <td>покупка жилья для семьи</td>\n",
       "    </tr>\n",
       "    <tr>\n",
       "      <th>10</th>\n",
       "      <td>2</td>\n",
       "      <td>-4171.483647</td>\n",
       "      <td>36</td>\n",
       "      <td>высшее</td>\n",
       "      <td>0</td>\n",
       "      <td>женат / замужем</td>\n",
       "      <td>0</td>\n",
       "      <td>M</td>\n",
       "      <td>компаньон</td>\n",
       "      <td>0</td>\n",
       "      <td>113943.491460</td>\n",
       "      <td>покупка недвижимости</td>\n",
       "    </tr>\n",
       "    <tr>\n",
       "      <th>11</th>\n",
       "      <td>0</td>\n",
       "      <td>-792.701887</td>\n",
       "      <td>40</td>\n",
       "      <td>среднее</td>\n",
       "      <td>1</td>\n",
       "      <td>женат / замужем</td>\n",
       "      <td>0</td>\n",
       "      <td>F</td>\n",
       "      <td>сотрудник</td>\n",
       "      <td>0</td>\n",
       "      <td>77069.234271</td>\n",
       "      <td>покупка коммерческой недвижимости</td>\n",
       "    </tr>\n",
       "    <tr>\n",
       "      <th>12</th>\n",
       "      <td>0</td>\n",
       "      <td>NaN</td>\n",
       "      <td>65</td>\n",
       "      <td>среднее</td>\n",
       "      <td>1</td>\n",
       "      <td>гражданский брак</td>\n",
       "      <td>1</td>\n",
       "      <td>M</td>\n",
       "      <td>пенсионер</td>\n",
       "      <td>0</td>\n",
       "      <td>NaN</td>\n",
       "      <td>сыграть свадьбу</td>\n",
       "    </tr>\n",
       "    <tr>\n",
       "      <th>13</th>\n",
       "      <td>0</td>\n",
       "      <td>-1846.641941</td>\n",
       "      <td>54</td>\n",
       "      <td>неоконченное высшее</td>\n",
       "      <td>2</td>\n",
       "      <td>женат / замужем</td>\n",
       "      <td>0</td>\n",
       "      <td>F</td>\n",
       "      <td>сотрудник</td>\n",
       "      <td>0</td>\n",
       "      <td>130458.228857</td>\n",
       "      <td>приобретение автомобиля</td>\n",
       "    </tr>\n",
       "    <tr>\n",
       "      <th>14</th>\n",
       "      <td>0</td>\n",
       "      <td>-1844.956182</td>\n",
       "      <td>56</td>\n",
       "      <td>высшее</td>\n",
       "      <td>0</td>\n",
       "      <td>гражданский брак</td>\n",
       "      <td>1</td>\n",
       "      <td>F</td>\n",
       "      <td>компаньон</td>\n",
       "      <td>1</td>\n",
       "      <td>165127.911772</td>\n",
       "      <td>покупка жилой недвижимости</td>\n",
       "    </tr>\n",
       "    <tr>\n",
       "      <th>15</th>\n",
       "      <td>1</td>\n",
       "      <td>-972.364419</td>\n",
       "      <td>26</td>\n",
       "      <td>среднее</td>\n",
       "      <td>1</td>\n",
       "      <td>женат / замужем</td>\n",
       "      <td>0</td>\n",
       "      <td>F</td>\n",
       "      <td>сотрудник</td>\n",
       "      <td>0</td>\n",
       "      <td>116820.904450</td>\n",
       "      <td>строительство собственной недвижимости</td>\n",
       "    </tr>\n",
       "    <tr>\n",
       "      <th>16</th>\n",
       "      <td>0</td>\n",
       "      <td>-1719.934226</td>\n",
       "      <td>35</td>\n",
       "      <td>среднее</td>\n",
       "      <td>1</td>\n",
       "      <td>женат / замужем</td>\n",
       "      <td>0</td>\n",
       "      <td>F</td>\n",
       "      <td>сотрудник</td>\n",
       "      <td>0</td>\n",
       "      <td>289202.704229</td>\n",
       "      <td>недвижимость</td>\n",
       "    </tr>\n",
       "    <tr>\n",
       "      <th>17</th>\n",
       "      <td>0</td>\n",
       "      <td>-2369.999720</td>\n",
       "      <td>33</td>\n",
       "      <td>высшее</td>\n",
       "      <td>0</td>\n",
       "      <td>гражданский брак</td>\n",
       "      <td>1</td>\n",
       "      <td>M</td>\n",
       "      <td>сотрудник</td>\n",
       "      <td>0</td>\n",
       "      <td>90410.586745</td>\n",
       "      <td>строительство недвижимости</td>\n",
       "    </tr>\n",
       "    <tr>\n",
       "      <th>18</th>\n",
       "      <td>0</td>\n",
       "      <td>400281.136913</td>\n",
       "      <td>53</td>\n",
       "      <td>среднее</td>\n",
       "      <td>1</td>\n",
       "      <td>вдовец / вдова</td>\n",
       "      <td>2</td>\n",
       "      <td>F</td>\n",
       "      <td>пенсионер</td>\n",
       "      <td>0</td>\n",
       "      <td>56823.777243</td>\n",
       "      <td>на покупку подержанного автомобиля</td>\n",
       "    </tr>\n",
       "    <tr>\n",
       "      <th>19</th>\n",
       "      <td>0</td>\n",
       "      <td>-10038.818549</td>\n",
       "      <td>48</td>\n",
       "      <td>СРЕДНЕЕ</td>\n",
       "      <td>1</td>\n",
       "      <td>в разводе</td>\n",
       "      <td>3</td>\n",
       "      <td>F</td>\n",
       "      <td>сотрудник</td>\n",
       "      <td>0</td>\n",
       "      <td>242831.107982</td>\n",
       "      <td>на покупку своего автомобиля</td>\n",
       "    </tr>\n",
       "  </tbody>\n",
       "</table>\n",
       "</div>"
      ],
      "text/plain": [
       "    children  days_employed  dob_years            education  education_id  \\\n",
       "0          1   -8437.673028         42               высшее             0   \n",
       "1          1   -4024.803754         36              среднее             1   \n",
       "2          0   -5623.422610         33              Среднее             1   \n",
       "3          3   -4124.747207         32              среднее             1   \n",
       "4          0  340266.072047         53              среднее             1   \n",
       "5          0    -926.185831         27               высшее             0   \n",
       "6          0   -2879.202052         43               высшее             0   \n",
       "7          0    -152.779569         50              СРЕДНЕЕ             1   \n",
       "8          2   -6929.865299         35               ВЫСШЕЕ             0   \n",
       "9          0   -2188.756445         41              среднее             1   \n",
       "10         2   -4171.483647         36               высшее             0   \n",
       "11         0    -792.701887         40              среднее             1   \n",
       "12         0            NaN         65              среднее             1   \n",
       "13         0   -1846.641941         54  неоконченное высшее             2   \n",
       "14         0   -1844.956182         56               высшее             0   \n",
       "15         1    -972.364419         26              среднее             1   \n",
       "16         0   -1719.934226         35              среднее             1   \n",
       "17         0   -2369.999720         33               высшее             0   \n",
       "18         0  400281.136913         53              среднее             1   \n",
       "19         0  -10038.818549         48              СРЕДНЕЕ             1   \n",
       "\n",
       "       family_status  family_status_id gender income_type  debt  \\\n",
       "0    женат / замужем                 0      F   сотрудник     0   \n",
       "1    женат / замужем                 0      F   сотрудник     0   \n",
       "2    женат / замужем                 0      M   сотрудник     0   \n",
       "3    женат / замужем                 0      M   сотрудник     0   \n",
       "4   гражданский брак                 1      F   пенсионер     0   \n",
       "5   гражданский брак                 1      M   компаньон     0   \n",
       "6    женат / замужем                 0      F   компаньон     0   \n",
       "7    женат / замужем                 0      M   сотрудник     0   \n",
       "8   гражданский брак                 1      F   сотрудник     0   \n",
       "9    женат / замужем                 0      M   сотрудник     0   \n",
       "10   женат / замужем                 0      M   компаньон     0   \n",
       "11   женат / замужем                 0      F   сотрудник     0   \n",
       "12  гражданский брак                 1      M   пенсионер     0   \n",
       "13   женат / замужем                 0      F   сотрудник     0   \n",
       "14  гражданский брак                 1      F   компаньон     1   \n",
       "15   женат / замужем                 0      F   сотрудник     0   \n",
       "16   женат / замужем                 0      F   сотрудник     0   \n",
       "17  гражданский брак                 1      M   сотрудник     0   \n",
       "18    вдовец / вдова                 2      F   пенсионер     0   \n",
       "19         в разводе                 3      F   сотрудник     0   \n",
       "\n",
       "     total_income                                 purpose  \n",
       "0   253875.639453                           покупка жилья  \n",
       "1   112080.014102                 приобретение автомобиля  \n",
       "2   145885.952297                           покупка жилья  \n",
       "3   267628.550329              дополнительное образование  \n",
       "4   158616.077870                         сыграть свадьбу  \n",
       "5   255763.565419                           покупка жилья  \n",
       "6   240525.971920                       операции с жильем  \n",
       "7   135823.934197                             образование  \n",
       "8    95856.832424                   на проведение свадьбы  \n",
       "9   144425.938277                 покупка жилья для семьи  \n",
       "10  113943.491460                    покупка недвижимости  \n",
       "11   77069.234271       покупка коммерческой недвижимости  \n",
       "12            NaN                         сыграть свадьбу  \n",
       "13  130458.228857                 приобретение автомобиля  \n",
       "14  165127.911772              покупка жилой недвижимости  \n",
       "15  116820.904450  строительство собственной недвижимости  \n",
       "16  289202.704229                            недвижимость  \n",
       "17   90410.586745              строительство недвижимости  \n",
       "18   56823.777243      на покупку подержанного автомобиля  \n",
       "19  242831.107982            на покупку своего автомобиля  "
      ]
     },
     "execution_count": 2,
     "metadata": {},
     "output_type": "execute_result"
    }
   ],
   "source": [
    "data.head(20)"
   ]
  },
  {
   "cell_type": "markdown",
   "id": "88b2f1c7",
   "metadata": {
    "deletable": false,
    "editable": false,
    "id": "1c12e233"
   },
   "source": [
    "**Задание 3. Выведите основную информацию о датафрейме с помощью метода `info()`.**"
   ]
  },
  {
   "cell_type": "code",
   "execution_count": 3,
   "id": "64397f22",
   "metadata": {
    "deletable": false,
    "id": "2b757bca",
    "outputId": "15376089-8dad-46c9-b520-c05248d43158"
   },
   "outputs": [
    {
     "name": "stdout",
     "output_type": "stream",
     "text": [
      "<class 'pandas.core.frame.DataFrame'>\n",
      "RangeIndex: 21525 entries, 0 to 21524\n",
      "Data columns (total 12 columns):\n",
      " #   Column            Non-Null Count  Dtype  \n",
      "---  ------            --------------  -----  \n",
      " 0   children          21525 non-null  int64  \n",
      " 1   days_employed     19351 non-null  float64\n",
      " 2   dob_years         21525 non-null  int64  \n",
      " 3   education         21525 non-null  object \n",
      " 4   education_id      21525 non-null  int64  \n",
      " 5   family_status     21525 non-null  object \n",
      " 6   family_status_id  21525 non-null  int64  \n",
      " 7   gender            21525 non-null  object \n",
      " 8   income_type       21525 non-null  object \n",
      " 9   debt              21525 non-null  int64  \n",
      " 10  total_income      19351 non-null  float64\n",
      " 11  purpose           21525 non-null  object \n",
      "dtypes: float64(2), int64(5), object(5)\n",
      "memory usage: 2.0+ MB\n"
     ]
    }
   ],
   "source": [
    "data.info()"
   ]
  },
  {
   "cell_type": "markdown",
   "id": "6e140d53",
   "metadata": {
    "deletable": false,
    "editable": false,
    "id": "333ec665"
   },
   "source": [
    "## Предобработка данных"
   ]
  },
  {
   "cell_type": "markdown",
   "id": "13328a1c",
   "metadata": {
    "deletable": false,
    "editable": false,
    "id": "02d92d53"
   },
   "source": [
    "### Удаление пропусков"
   ]
  },
  {
   "cell_type": "markdown",
   "id": "f21a53d2",
   "metadata": {
    "deletable": false,
    "editable": false,
    "id": "cd84967c"
   },
   "source": [
    "**Задание 4. Выведите количество пропущенных значений для каждого столбца. Используйте комбинацию двух методов.**"
   ]
  },
  {
   "cell_type": "code",
   "execution_count": 4,
   "id": "75d080d3",
   "metadata": {
    "deletable": false,
    "id": "7f9b2309",
    "outputId": "81f4d817-781c-465c-ed15-91ce4446810d"
   },
   "outputs": [
    {
     "data": {
      "text/plain": [
       "children               0\n",
       "days_employed       2174\n",
       "dob_years              0\n",
       "education              0\n",
       "education_id           0\n",
       "family_status          0\n",
       "family_status_id       0\n",
       "gender                 0\n",
       "income_type            0\n",
       "debt                   0\n",
       "total_income        2174\n",
       "purpose                0\n",
       "dtype: int64"
      ]
     },
     "execution_count": 4,
     "metadata": {},
     "output_type": "execute_result"
    }
   ],
   "source": [
    "data.isna().sum()"
   ]
  },
  {
   "cell_type": "markdown",
   "id": "0dc32aac",
   "metadata": {
    "deletable": false,
    "editable": false,
    "id": "db86e27b"
   },
   "source": [
    "**Задание 5. В двух столбцах есть пропущенные значения. Один из них — `days_employed`. Пропуски в этом столбце вы обработаете на следующем этапе. Другой столбец с пропущенными значениями — `total_income` — хранит данные о доходах. На сумму дохода сильнее всего влияет тип занятости, поэтому заполнить пропуски в этом столбце нужно медианным значением по каждому типу из столбца `income_type`. Например, у человека с типом занятости `сотрудник` пропуск в столбце `total_income` должен быть заполнен медианным доходом среди всех записей с тем же типом.**"
   ]
  },
  {
   "cell_type": "code",
   "execution_count": 5,
   "id": "289ac26b",
   "metadata": {
    "deletable": false,
    "id": "42006a93"
   },
   "outputs": [],
   "source": [
    "for t in data['income_type'].unique():\n",
    "    data.loc[(data['income_type'] == t) & (data['total_income'].isna()), 'total_income'] = \\\n",
    "    data.loc[(data['income_type'] == t), 'total_income'].median()"
   ]
  },
  {
   "cell_type": "markdown",
   "id": "e012f989",
   "metadata": {
    "deletable": false,
    "editable": false,
    "id": "89da5ece"
   },
   "source": [
    "### Обработка аномальных значений"
   ]
  },
  {
   "cell_type": "markdown",
   "id": "0bbcde3d",
   "metadata": {
    "deletable": false,
    "editable": false,
    "id": "57964554"
   },
   "source": [
    "**Задание 6. В данных могут встречаться артефакты (аномалии) — значения, которые не отражают действительность и появились по какой-то ошибке. таким артефактом будет отрицательное количество дней трудового стажа в столбце `days_employed`. Для реальных данных это нормально. Обработайте значения в этом столбце: замените все отрицательные значения положительными с помощью метода `abs()`.**"
   ]
  },
  {
   "cell_type": "code",
   "execution_count": 6,
   "id": "e15d741d",
   "metadata": {
    "deletable": false,
    "id": "f6f055bf"
   },
   "outputs": [],
   "source": [
    "data['days_employed'] = data['days_employed'].abs()"
   ]
  },
  {
   "cell_type": "markdown",
   "id": "c357cf7b",
   "metadata": {
    "deletable": false,
    "editable": false,
    "id": "6107dd2f"
   },
   "source": [
    "**Задание 7. Для каждого типа занятости выведите медианное значение трудового стажа `days_employed` в днях.**"
   ]
  },
  {
   "cell_type": "code",
   "execution_count": 7,
   "id": "58ae4442",
   "metadata": {
    "deletable": false,
    "id": "85a5faf6",
    "outputId": "801ef80e-522b-4668-f34e-565af7432bcf"
   },
   "outputs": [
    {
     "data": {
      "text/plain": [
       "income_type\n",
       "безработный        366413.652744\n",
       "в декрете            3296.759962\n",
       "госслужащий          2689.368353\n",
       "компаньон            1547.382223\n",
       "пенсионер          365213.306266\n",
       "предприниматель       520.848083\n",
       "сотрудник            1574.202821\n",
       "студент               578.751554\n",
       "Name: days_employed, dtype: float64"
      ]
     },
     "execution_count": 7,
     "metadata": {},
     "output_type": "execute_result"
    }
   ],
   "source": [
    "data.groupby('income_type')['days_employed'].agg('median')"
   ]
  },
  {
   "cell_type": "markdown",
   "id": "c5fae7c1",
   "metadata": {
    "deletable": false,
    "editable": false,
    "id": "38d1a030"
   },
   "source": [
    "У двух типов (безработные и пенсионеры) получатся аномально большие значения. Исправить такие значения сложно, поэтому оставьте их как есть. Тем более этот столбец не понадобится вам для исследования."
   ]
  },
  {
   "cell_type": "markdown",
   "id": "06d1d733",
   "metadata": {
    "deletable": false,
    "editable": false,
    "id": "d8a9f147"
   },
   "source": [
    "**Задание 8. Выведите перечень уникальных значений столбца `children`.**"
   ]
  },
  {
   "cell_type": "code",
   "execution_count": 8,
   "id": "356286ed",
   "metadata": {
    "deletable": false,
    "id": "ef5056eb",
    "outputId": "6975b15c-7f95-4697-d16d-a0c79b657b03"
   },
   "outputs": [
    {
     "data": {
      "text/plain": [
       "array([ 1,  0,  3,  2, -1,  4, 20,  5], dtype=int64)"
      ]
     },
     "execution_count": 8,
     "metadata": {},
     "output_type": "execute_result"
    }
   ],
   "source": [
    "data['children'].unique()"
   ]
  },
  {
   "cell_type": "markdown",
   "id": "15ac9a06",
   "metadata": {
    "deletable": false,
    "editable": false,
    "id": "40b9ebf2"
   },
   "source": [
    "**Задание 9. В столбце `children` есть два аномальных значения. Удалите строки, в которых встречаются такие аномальные значения из датафрейма `data`.**"
   ]
  },
  {
   "cell_type": "code",
   "execution_count": 9,
   "id": "d6848be5",
   "metadata": {
    "deletable": false,
    "id": "3ff9801d"
   },
   "outputs": [],
   "source": [
    "data = data[(data['children'] != -1) & (data['children'] != 20)]"
   ]
  },
  {
   "cell_type": "markdown",
   "id": "0525c645",
   "metadata": {
    "deletable": false,
    "editable": false,
    "id": "bbc4d0ce"
   },
   "source": [
    "**Задание 10. Ещё раз выведите перечень уникальных значений столбца `children`, чтобы убедиться, что артефакты удалены.**"
   ]
  },
  {
   "cell_type": "code",
   "execution_count": 10,
   "id": "0ed6b3cf",
   "metadata": {
    "deletable": false,
    "id": "ad4fa8b7",
    "outputId": "b2097101-d49d-44d9-901b-32a65c9463d1"
   },
   "outputs": [
    {
     "data": {
      "text/plain": [
       "array([1, 0, 3, 2, 4, 5], dtype=int64)"
      ]
     },
     "execution_count": 10,
     "metadata": {},
     "output_type": "execute_result"
    }
   ],
   "source": [
    "data['children'].unique()"
   ]
  },
  {
   "cell_type": "markdown",
   "id": "4180bebc",
   "metadata": {
    "deletable": false,
    "editable": false,
    "id": "75440b63"
   },
   "source": [
    "### Удаление пропусков (продолжение)"
   ]
  },
  {
   "cell_type": "markdown",
   "id": "8b0e5f0e",
   "metadata": {
    "deletable": false,
    "editable": false,
    "id": "f4ea573f"
   },
   "source": [
    "**Задание 11. Заполните пропуски в столбце `days_employed` медианными значениями по каждого типа занятости `income_type`.**"
   ]
  },
  {
   "cell_type": "code",
   "execution_count": 11,
   "id": "4144c480",
   "metadata": {
    "deletable": false,
    "id": "af6b1a7e"
   },
   "outputs": [],
   "source": [
    "for t in data['income_type'].unique():\n",
    "    data.loc[(data['income_type'] == t) & (data['days_employed'].isna()), 'days_employed'] = \\\n",
    "    data.loc[(data['income_type'] == t), 'days_employed'].median()"
   ]
  },
  {
   "cell_type": "markdown",
   "id": "3f9f09a6",
   "metadata": {
    "deletable": false,
    "editable": false,
    "id": "2753f40d"
   },
   "source": [
    "**Задание 12. Убедитесь, что все пропуски заполнены. Проверьте себя и ещё раз выведите количество пропущенных значений для каждого столбца с помощью двух методов.**"
   ]
  },
  {
   "cell_type": "code",
   "execution_count": 12,
   "id": "cd5797c2",
   "metadata": {
    "deletable": false,
    "id": "55f78bc2",
    "outputId": "8da1e4e1-358e-4e87-98c9-f261bce0a7b2"
   },
   "outputs": [
    {
     "data": {
      "text/plain": [
       "children            0\n",
       "days_employed       0\n",
       "dob_years           0\n",
       "education           0\n",
       "education_id        0\n",
       "family_status       0\n",
       "family_status_id    0\n",
       "gender              0\n",
       "income_type         0\n",
       "debt                0\n",
       "total_income        0\n",
       "purpose             0\n",
       "dtype: int64"
      ]
     },
     "execution_count": 12,
     "metadata": {},
     "output_type": "execute_result"
    }
   ],
   "source": [
    "data.isna().sum()"
   ]
  },
  {
   "cell_type": "markdown",
   "id": "45ca49c5",
   "metadata": {
    "deletable": false,
    "editable": false,
    "id": "ddc81e43"
   },
   "source": [
    "### Изменение типов данных"
   ]
  },
  {
   "cell_type": "markdown",
   "id": "5b44e08e",
   "metadata": {
    "deletable": false,
    "editable": false,
    "id": "42d19d24"
   },
   "source": [
    "**Задание 13. Замените вещественный тип данных в столбце `total_income` на целочисленный с помощью метода `astype()`.**"
   ]
  },
  {
   "cell_type": "code",
   "execution_count": 13,
   "id": "491f3852",
   "metadata": {
    "deletable": false,
    "id": "920b65ad"
   },
   "outputs": [],
   "source": [
    "data['total_income'] = data['total_income'].astype(int)"
   ]
  },
  {
   "cell_type": "markdown",
   "id": "72d074cb",
   "metadata": {
    "deletable": false,
    "editable": false,
    "id": "80c420ba"
   },
   "source": [
    "### Обработка дубликатов"
   ]
  },
  {
   "cell_type": "markdown",
   "id": "2e6287c7",
   "metadata": {
    "deletable": false,
    "editable": false
   },
   "source": [
    "**Задание 14. Обработайте неявные дубликаты в столбце `education`. В этом столбце есть одни и те же значения, но записанные по-разному: с использованием заглавных и строчных букв. Приведите их к нижнему регистру. Проверьте остальные столбцы.**"
   ]
  },
  {
   "cell_type": "code",
   "execution_count": 14,
   "id": "7bd587b6",
   "metadata": {
    "deletable": false
   },
   "outputs": [],
   "source": [
    "data['education'] = data['education'].str.lower()"
   ]
  },
  {
   "cell_type": "markdown",
   "id": "a9b2af51",
   "metadata": {
    "deletable": false,
    "editable": false,
    "id": "dc587695"
   },
   "source": [
    "**Задание 15. Выведите на экран количество строк-дубликатов в данных. Если такие строки присутствуют, удалите их.**"
   ]
  },
  {
   "cell_type": "code",
   "execution_count": 15,
   "id": "c481386a",
   "metadata": {
    "deletable": false,
    "id": "3ee445e4",
    "outputId": "9684deba-1934-42d1-99e1-cda61740f822"
   },
   "outputs": [
    {
     "data": {
      "text/plain": [
       "71"
      ]
     },
     "execution_count": 15,
     "metadata": {},
     "output_type": "execute_result"
    }
   ],
   "source": [
    "data.duplicated().sum()"
   ]
  },
  {
   "cell_type": "code",
   "execution_count": 16,
   "id": "02e9a0e8",
   "metadata": {
    "deletable": false,
    "id": "8575fe05"
   },
   "outputs": [],
   "source": [
    "data = data.drop_duplicates()"
   ]
  },
  {
   "cell_type": "markdown",
   "id": "2f46424e",
   "metadata": {
    "deletable": false,
    "editable": false,
    "id": "9904cf55"
   },
   "source": [
    "### Категоризация данных"
   ]
  },
  {
   "cell_type": "markdown",
   "id": "3f25e4e7",
   "metadata": {
    "deletable": false,
    "editable": false,
    "id": "72fcc8a2"
   },
   "source": [
    "**Задание 16. На основании диапазонов, указанных ниже, создайте в датафрейме `data` столбец `total_income_category` с категориями:**\n",
    "\n",
    "- 0–30000 — `'E'`;\n",
    "- 30001–50000 — `'D'`;\n",
    "- 50001–200000 — `'C'`;\n",
    "- 200001–1000000 — `'B'`;\n",
    "- 1000001 и выше — `'A'`.\n",
    "\n",
    "\n",
    "**Например, кредитополучателю с доходом 25000 нужно назначить категорию `'E'`, а клиенту, получающему 235000, — `'B'`. Используйте собственную функцию с именем `categorize_income()` и метод `apply()`.**"
   ]
  },
  {
   "cell_type": "code",
   "execution_count": 17,
   "id": "d26124ae",
   "metadata": {
    "deletable": false,
    "id": "e1771346"
   },
   "outputs": [],
   "source": [
    "def categorize_income(income):\n",
    "    try:\n",
    "        if 0 <= income <= 30000:\n",
    "            return 'E'\n",
    "        elif 30001 <= income <= 50000:\n",
    "            return 'D'\n",
    "        elif 50001 <= income <= 200000:\n",
    "            return 'C'\n",
    "        elif 200001 <= income <= 1000000:\n",
    "            return 'B'\n",
    "        elif income >= 1000001:\n",
    "            return 'A'\n",
    "    except:\n",
    "        pass"
   ]
  },
  {
   "cell_type": "code",
   "execution_count": 18,
   "id": "38593b57",
   "metadata": {
    "deletable": false,
    "id": "d5f3586d"
   },
   "outputs": [],
   "source": [
    "data['total_income_category'] = data['total_income'].apply(categorize_income)"
   ]
  },
  {
   "cell_type": "markdown",
   "id": "e3955e87",
   "metadata": {
    "deletable": false,
    "editable": false,
    "id": "dde49b5c"
   },
   "source": [
    "**Задание 17. Выведите на экран перечень уникальных целей взятия кредита из столбца `purpose`.**"
   ]
  },
  {
   "cell_type": "code",
   "execution_count": 19,
   "id": "cff295e6",
   "metadata": {
    "deletable": false,
    "id": "f67ce9b3",
    "outputId": "673c12d9-7d7e-4ae0-9812-c622c89dd244"
   },
   "outputs": [
    {
     "data": {
      "text/plain": [
       "array(['покупка жилья', 'приобретение автомобиля',\n",
       "       'дополнительное образование', 'сыграть свадьбу',\n",
       "       'операции с жильем', 'образование', 'на проведение свадьбы',\n",
       "       'покупка жилья для семьи', 'покупка недвижимости',\n",
       "       'покупка коммерческой недвижимости', 'покупка жилой недвижимости',\n",
       "       'строительство собственной недвижимости', 'недвижимость',\n",
       "       'строительство недвижимости', 'на покупку подержанного автомобиля',\n",
       "       'на покупку своего автомобиля',\n",
       "       'операции с коммерческой недвижимостью',\n",
       "       'строительство жилой недвижимости', 'жилье',\n",
       "       'операции со своей недвижимостью', 'автомобили',\n",
       "       'заняться образованием', 'сделка с подержанным автомобилем',\n",
       "       'получение образования', 'автомобиль', 'свадьба',\n",
       "       'получение дополнительного образования', 'покупка своего жилья',\n",
       "       'операции с недвижимостью', 'получение высшего образования',\n",
       "       'свой автомобиль', 'сделка с автомобилем',\n",
       "       'профильное образование', 'высшее образование',\n",
       "       'покупка жилья для сдачи', 'на покупку автомобиля', 'ремонт жилью',\n",
       "       'заняться высшим образованием'], dtype=object)"
      ]
     },
     "execution_count": 19,
     "metadata": {},
     "output_type": "execute_result"
    }
   ],
   "source": [
    "data['purpose'].unique()"
   ]
  },
  {
   "cell_type": "markdown",
   "id": "421ae516",
   "metadata": {
    "deletable": false,
    "editable": false,
    "id": "85d0aef0"
   },
   "source": [
    "**Задание 18. Создайте функцию, которая на основании данных из столбца `purpose` сформирует новый столбец `purpose_category`, в который войдут следующие категории:**\n",
    "\n",
    "- `'операции с автомобилем'`,\n",
    "- `'операции с недвижимостью'`,\n",
    "- `'проведение свадьбы'`,\n",
    "- `'получение образования'`.\n",
    "\n",
    "**Например, если в столбце `purpose` находится подстрока `'на покупку автомобиля'`, то в столбце `purpose_category` должна появиться строка `'операции с автомобилем'`.**\n",
    "\n",
    "**Используйте собственную функцию с именем `categorize_purpose()` и метод `apply()`. Изучите данные в столбце `purpose` и определите, какие подстроки помогут вам правильно определить категорию.**"
   ]
  },
  {
   "cell_type": "code",
   "execution_count": 20,
   "id": "bd3f6155",
   "metadata": {
    "deletable": false,
    "id": "e149fab4"
   },
   "outputs": [],
   "source": [
    "def categorize_purpose(row):\n",
    "    try:\n",
    "        if 'автом' in row:\n",
    "            return 'операции с автомобилем'\n",
    "        elif 'жил' in row or 'недвиж' in row:\n",
    "            return 'операции с недвижимостью'\n",
    "        elif 'свад' in row:\n",
    "            return 'проведение свадьбы'\n",
    "        elif 'образов' in row:\n",
    "            return 'получение образования'\n",
    "    except:\n",
    "        return 'нет категории'"
   ]
  },
  {
   "cell_type": "code",
   "execution_count": 21,
   "id": "03c85ce4",
   "metadata": {
    "deletable": false,
    "id": "bf36e69b"
   },
   "outputs": [],
   "source": [
    "data['purpose_category'] = data['purpose'].apply(categorize_purpose)"
   ]
  },
  {
   "cell_type": "markdown",
   "id": "beba370c",
   "metadata": {
    "deletable": false,
    "editable": false,
    "id": "09b242bf"
   },
   "source": [
    "### Шаг 3. Исследуйте данные и ответьте на вопросы"
   ]
  },
  {
   "cell_type": "markdown",
   "id": "d1cec6ad",
   "metadata": {
    "deletable": false,
    "editable": false,
    "id": "c5d66278"
   },
   "source": [
    "#### 3.1 Есть ли зависимость между количеством детей и возвратом кредита в срок?"
   ]
  },
  {
   "cell_type": "markdown",
   "id": "c944056a",
   "metadata": {
    "deletable": false,
    "id": "2cacfc4a"
   },
   "source": [
    "Посчитаем процент задолжников в каждой группе"
   ]
  },
  {
   "cell_type": "code",
   "execution_count": 42,
   "id": "889c8196",
   "metadata": {},
   "outputs": [
    {
     "data": {
      "text/html": [
       "<div>\n",
       "<style scoped>\n",
       "    .dataframe tbody tr th:only-of-type {\n",
       "        vertical-align: middle;\n",
       "    }\n",
       "\n",
       "    .dataframe tbody tr th {\n",
       "        vertical-align: top;\n",
       "    }\n",
       "\n",
       "    .dataframe thead th {\n",
       "        text-align: right;\n",
       "    }\n",
       "</style>\n",
       "<table border=\"1\" class=\"dataframe\">\n",
       "  <thead>\n",
       "    <tr style=\"text-align: right;\">\n",
       "      <th></th>\n",
       "      <th>count</th>\n",
       "      <th>sum</th>\n",
       "      <th>mean</th>\n",
       "    </tr>\n",
       "    <tr>\n",
       "      <th>children</th>\n",
       "      <th></th>\n",
       "      <th></th>\n",
       "      <th></th>\n",
       "    </tr>\n",
       "  </thead>\n",
       "  <tbody>\n",
       "    <tr>\n",
       "      <th>0</th>\n",
       "      <td>14091</td>\n",
       "      <td>1063</td>\n",
       "      <td>0.075438</td>\n",
       "    </tr>\n",
       "    <tr>\n",
       "      <th>1</th>\n",
       "      <td>4808</td>\n",
       "      <td>444</td>\n",
       "      <td>0.092346</td>\n",
       "    </tr>\n",
       "    <tr>\n",
       "      <th>2</th>\n",
       "      <td>2052</td>\n",
       "      <td>194</td>\n",
       "      <td>0.094542</td>\n",
       "    </tr>\n",
       "    <tr>\n",
       "      <th>3</th>\n",
       "      <td>330</td>\n",
       "      <td>27</td>\n",
       "      <td>0.081818</td>\n",
       "    </tr>\n",
       "    <tr>\n",
       "      <th>4</th>\n",
       "      <td>41</td>\n",
       "      <td>4</td>\n",
       "      <td>0.097561</td>\n",
       "    </tr>\n",
       "    <tr>\n",
       "      <th>5</th>\n",
       "      <td>9</td>\n",
       "      <td>0</td>\n",
       "      <td>0.000000</td>\n",
       "    </tr>\n",
       "  </tbody>\n",
       "</table>\n",
       "</div>"
      ],
      "text/plain": [
       "          count   sum      mean\n",
       "children                       \n",
       "0         14091  1063  0.075438\n",
       "1          4808   444  0.092346\n",
       "2          2052   194  0.094542\n",
       "3           330    27  0.081818\n",
       "4            41     4  0.097561\n",
       "5             9     0  0.000000"
      ]
     },
     "execution_count": 42,
     "metadata": {},
     "output_type": "execute_result"
    }
   ],
   "source": [
    "data.groupby('children')['debt'].agg(['count','sum','mean'])"
   ]
  },
  {
   "cell_type": "markdown",
   "id": "e56d82ca",
   "metadata": {},
   "source": [
    "Теперь посмотрим такую же зависимость на двух группах: с детьми и без детей"
   ]
  },
  {
   "cell_type": "code",
   "execution_count": 43,
   "id": "d483a0c2",
   "metadata": {},
   "outputs": [],
   "source": [
    "data['has_children'] = data['children'].apply(lambda x: x > 0)"
   ]
  },
  {
   "cell_type": "code",
   "execution_count": 44,
   "id": "45aa3f6f",
   "metadata": {},
   "outputs": [
    {
     "data": {
      "text/html": [
       "<div>\n",
       "<style scoped>\n",
       "    .dataframe tbody tr th:only-of-type {\n",
       "        vertical-align: middle;\n",
       "    }\n",
       "\n",
       "    .dataframe tbody tr th {\n",
       "        vertical-align: top;\n",
       "    }\n",
       "\n",
       "    .dataframe thead th {\n",
       "        text-align: right;\n",
       "    }\n",
       "</style>\n",
       "<table border=\"1\" class=\"dataframe\">\n",
       "  <thead>\n",
       "    <tr style=\"text-align: right;\">\n",
       "      <th></th>\n",
       "      <th>count</th>\n",
       "      <th>sum</th>\n",
       "      <th>mean</th>\n",
       "    </tr>\n",
       "    <tr>\n",
       "      <th>has_children</th>\n",
       "      <th></th>\n",
       "      <th></th>\n",
       "      <th></th>\n",
       "    </tr>\n",
       "  </thead>\n",
       "  <tbody>\n",
       "    <tr>\n",
       "      <th>False</th>\n",
       "      <td>14091</td>\n",
       "      <td>1063</td>\n",
       "      <td>0.075438</td>\n",
       "    </tr>\n",
       "    <tr>\n",
       "      <th>True</th>\n",
       "      <td>7240</td>\n",
       "      <td>669</td>\n",
       "      <td>0.092403</td>\n",
       "    </tr>\n",
       "  </tbody>\n",
       "</table>\n",
       "</div>"
      ],
      "text/plain": [
       "              count   sum      mean\n",
       "has_children                       \n",
       "False         14091  1063  0.075438\n",
       "True           7240   669  0.092403"
      ]
     },
     "execution_count": 44,
     "metadata": {},
     "output_type": "execute_result"
    }
   ],
   "source": [
    "data.groupby('has_children')['debt'].agg(['count','sum','mean'])"
   ]
  },
  {
   "cell_type": "markdown",
   "id": "d37d0f62",
   "metadata": {},
   "source": [
    "<div class=\"alert alert-block alert-warning\">\n",
    "<b> ⚠️ Совет: </b> Группировка верная! Но смотри, сейчас у тебя код немного избыточен. Ты делаешь много лишних операций. Смотри как можно улучшить и использовать всего одну команду:\n",
    "   \n",
    "    data.groupby('children')['debt'].agg(['count','sum','mean'])\n",
    "Обрати внимание, что groupby может использовать несколько агрегирующих функций. ДЛя этого нужно вызвать метод agg и в нем передать необходимые функции. Также обрати внимание, что третьей функией мы использовали расчет среднего. В данном проекте, так как в столбце debt содержаться нули и единицы, то при расчете среднего как раз получится доля задолжников)"
   ]
  },
  {
   "cell_type": "markdown",
   "id": "c4ccae42",
   "metadata": {},
   "source": [
    "<div class=\"alert alert-block alert-info\">\n",
    "    Изменил подсчет одной командой\n",
    "</div>"
   ]
  },
  {
   "cell_type": "markdown",
   "id": "977cdf57",
   "metadata": {},
   "source": [
    "<div class=\"alert alert-block alert-success\"><font color='green' size=5 ><b>Комментарий ревьюера v2</b></font> \n",
    "\n",
    "Супер</div>"
   ]
  },
  {
   "cell_type": "markdown",
   "id": "83e01a02",
   "metadata": {
    "deletable": false,
    "id": "3a6b99ec"
   },
   "source": [
    "**Вывод:** Зависимость между количеством детей и возвратом кредита в срок прослеживается слабо. Есть аномальное значение в случае 5 детей. Но это объясняется недостатком данных в выборке. Однако, если рассмотреть зависимость между наличием детей в принципе и возвратом кредита в срок, то можно сказать, что заемщики без детей возвращают кредит в срок чаще, 92.5% против 90.8%"
   ]
  },
  {
   "cell_type": "markdown",
   "id": "2b0575fa",
   "metadata": {},
   "source": [
    "<div class=\"alert alert-block alert-success\">\n",
    "<b> 👍 Успех:</b> Согласен! Видимо наличие детей  накладывает на замещика дополнительные финансовые сложности.\n",
    "</div>"
   ]
  },
  {
   "cell_type": "markdown",
   "id": "5abd591a",
   "metadata": {
    "deletable": false,
    "editable": false,
    "id": "97be82ca"
   },
   "source": [
    "#### 3.2 Есть ли зависимость между семейным положением и возвратом кредита в срок?"
   ]
  },
  {
   "cell_type": "markdown",
   "id": "bd715a76",
   "metadata": {},
   "source": [
    "Посчитаем процент задолжников в каждой группе"
   ]
  },
  {
   "cell_type": "code",
   "execution_count": 45,
   "id": "66e76d4f",
   "metadata": {
    "deletable": false,
    "id": "dc3f7ee8",
    "scrolled": false
   },
   "outputs": [
    {
     "data": {
      "text/html": [
       "<div>\n",
       "<style scoped>\n",
       "    .dataframe tbody tr th:only-of-type {\n",
       "        vertical-align: middle;\n",
       "    }\n",
       "\n",
       "    .dataframe tbody tr th {\n",
       "        vertical-align: top;\n",
       "    }\n",
       "\n",
       "    .dataframe thead th {\n",
       "        text-align: right;\n",
       "    }\n",
       "</style>\n",
       "<table border=\"1\" class=\"dataframe\">\n",
       "  <thead>\n",
       "    <tr style=\"text-align: right;\">\n",
       "      <th></th>\n",
       "      <th>count</th>\n",
       "      <th>sum</th>\n",
       "      <th>mean</th>\n",
       "    </tr>\n",
       "    <tr>\n",
       "      <th>family_status</th>\n",
       "      <th></th>\n",
       "      <th></th>\n",
       "      <th></th>\n",
       "    </tr>\n",
       "  </thead>\n",
       "  <tbody>\n",
       "    <tr>\n",
       "      <th>Не женат / не замужем</th>\n",
       "      <td>2796</td>\n",
       "      <td>273</td>\n",
       "      <td>0.097639</td>\n",
       "    </tr>\n",
       "    <tr>\n",
       "      <th>в разводе</th>\n",
       "      <td>1189</td>\n",
       "      <td>84</td>\n",
       "      <td>0.070648</td>\n",
       "    </tr>\n",
       "    <tr>\n",
       "      <th>вдовец / вдова</th>\n",
       "      <td>951</td>\n",
       "      <td>63</td>\n",
       "      <td>0.066246</td>\n",
       "    </tr>\n",
       "    <tr>\n",
       "      <th>гражданский брак</th>\n",
       "      <td>4134</td>\n",
       "      <td>385</td>\n",
       "      <td>0.093130</td>\n",
       "    </tr>\n",
       "    <tr>\n",
       "      <th>женат / замужем</th>\n",
       "      <td>12261</td>\n",
       "      <td>927</td>\n",
       "      <td>0.075606</td>\n",
       "    </tr>\n",
       "  </tbody>\n",
       "</table>\n",
       "</div>"
      ],
      "text/plain": [
       "                       count  sum      mean\n",
       "family_status                              \n",
       "Не женат / не замужем   2796  273  0.097639\n",
       "в разводе               1189   84  0.070648\n",
       "вдовец / вдова           951   63  0.066246\n",
       "гражданский брак        4134  385  0.093130\n",
       "женат / замужем        12261  927  0.075606"
      ]
     },
     "execution_count": 45,
     "metadata": {},
     "output_type": "execute_result"
    }
   ],
   "source": [
    "data.groupby('family_status')['debt'].agg(['count','sum','mean'])"
   ]
  },
  {
   "cell_type": "markdown",
   "id": "9ab2f544",
   "metadata": {},
   "source": [
    "Теперь посмотрим такую же зависимость на двух группах: которые состоит или когда-либо состояли в браке, и те, у которых официально зарегистрированных отношений не было"
   ]
  },
  {
   "cell_type": "code",
   "execution_count": 28,
   "id": "9aea7d45",
   "metadata": {},
   "outputs": [],
   "source": [
    "data['was_married'] = data['family_status'].apply(lambda x: x in ['в разводе', 'вдовец / вдова', 'женат / замужем'])"
   ]
  },
  {
   "cell_type": "code",
   "execution_count": 46,
   "id": "d91da08f",
   "metadata": {},
   "outputs": [
    {
     "data": {
      "text/html": [
       "<div>\n",
       "<style scoped>\n",
       "    .dataframe tbody tr th:only-of-type {\n",
       "        vertical-align: middle;\n",
       "    }\n",
       "\n",
       "    .dataframe tbody tr th {\n",
       "        vertical-align: top;\n",
       "    }\n",
       "\n",
       "    .dataframe thead th {\n",
       "        text-align: right;\n",
       "    }\n",
       "</style>\n",
       "<table border=\"1\" class=\"dataframe\">\n",
       "  <thead>\n",
       "    <tr style=\"text-align: right;\">\n",
       "      <th></th>\n",
       "      <th>count</th>\n",
       "      <th>sum</th>\n",
       "      <th>mean</th>\n",
       "    </tr>\n",
       "    <tr>\n",
       "      <th>was_married</th>\n",
       "      <th></th>\n",
       "      <th></th>\n",
       "      <th></th>\n",
       "    </tr>\n",
       "  </thead>\n",
       "  <tbody>\n",
       "    <tr>\n",
       "      <th>False</th>\n",
       "      <td>6930</td>\n",
       "      <td>658</td>\n",
       "      <td>0.094949</td>\n",
       "    </tr>\n",
       "    <tr>\n",
       "      <th>True</th>\n",
       "      <td>14401</td>\n",
       "      <td>1074</td>\n",
       "      <td>0.074578</td>\n",
       "    </tr>\n",
       "  </tbody>\n",
       "</table>\n",
       "</div>"
      ],
      "text/plain": [
       "             count   sum      mean\n",
       "was_married                       \n",
       "False         6930   658  0.094949\n",
       "True         14401  1074  0.074578"
      ]
     },
     "execution_count": 46,
     "metadata": {},
     "output_type": "execute_result"
    }
   ],
   "source": [
    "data.groupby('was_married')['debt'].agg(['count','sum','mean'])"
   ]
  },
  {
   "cell_type": "markdown",
   "id": "89a99954",
   "metadata": {
    "deletable": false,
    "id": "1cef7837"
   },
   "source": [
    "**Вывод:** Зависимость между семейным положением и возвратом кредита в срок заметно отличается только у заёмщиков, которые состоят в официальном браке или когда-то были в официальных отношениях, и заёмщиков, которые не были зарегистрированы в официальном браке. Заемщики без официальных отношений выплачивают кредит в срок реже, 90.5% против 92.5%"
   ]
  },
  {
   "cell_type": "markdown",
   "id": "fbff3fa5",
   "metadata": {},
   "source": [
    "<div class=\"alert alert-block alert-info\">\n",
    "    Изменил подсчет одной командой\n",
    "</div>"
   ]
  },
  {
   "cell_type": "markdown",
   "id": "4c569b85",
   "metadata": {},
   "source": [
    "<div class=\"alert alert-block alert-success\">\n",
    "<b> 👍 Успех:</b>В целом все верно) Интересно посмотреть еще на овдовевших клиентов. Интересно почему у них самый низкий процент задолженностей\n",
    "</div>"
   ]
  },
  {
   "cell_type": "markdown",
   "id": "29e07cf8",
   "metadata": {
    "deletable": false,
    "editable": false,
    "id": "1e8b2fca"
   },
   "source": [
    "#### 3.3 Есть ли зависимость между уровнем дохода и возвратом кредита в срок?"
   ]
  },
  {
   "cell_type": "markdown",
   "id": "92a80730",
   "metadata": {},
   "source": [
    "Сгруппируем заёмщиков по уровню дохода"
   ]
  },
  {
   "cell_type": "code",
   "execution_count": 30,
   "id": "d8b25782",
   "metadata": {},
   "outputs": [
    {
     "data": {
      "text/plain": [
       "total_income_category\n",
       "A       25\n",
       "B     5014\n",
       "C    15921\n",
       "D      349\n",
       "E       22\n",
       "Name: debt, dtype: int64"
      ]
     },
     "execution_count": 30,
     "metadata": {},
     "output_type": "execute_result"
    }
   ],
   "source": [
    "data.groupby('total_income_category')['debt'].count()"
   ]
  },
  {
   "cell_type": "markdown",
   "id": "1a83035c",
   "metadata": {},
   "source": [
    "Посчитаем процент возврата кредита в срок в каждой группе"
   ]
  },
  {
   "cell_type": "code",
   "execution_count": 64,
   "id": "04827769",
   "metadata": {
    "deletable": false,
    "id": "cd7e3720"
   },
   "outputs": [
    {
     "data": {
      "text/html": [
       "<div>\n",
       "<style scoped>\n",
       "    .dataframe tbody tr th:only-of-type {\n",
       "        vertical-align: middle;\n",
       "    }\n",
       "\n",
       "    .dataframe tbody tr th {\n",
       "        vertical-align: top;\n",
       "    }\n",
       "\n",
       "    .dataframe thead th {\n",
       "        text-align: right;\n",
       "    }\n",
       "</style>\n",
       "<table border=\"1\" class=\"dataframe\">\n",
       "  <thead>\n",
       "    <tr style=\"text-align: right;\">\n",
       "      <th></th>\n",
       "      <th>count</th>\n",
       "      <th>sum</th>\n",
       "      <th>mean</th>\n",
       "    </tr>\n",
       "    <tr>\n",
       "      <th>total_income_category</th>\n",
       "      <th></th>\n",
       "      <th></th>\n",
       "      <th></th>\n",
       "    </tr>\n",
       "  </thead>\n",
       "  <tbody>\n",
       "    <tr>\n",
       "      <th>A</th>\n",
       "      <td>25</td>\n",
       "      <td>2</td>\n",
       "      <td>0.080000</td>\n",
       "    </tr>\n",
       "    <tr>\n",
       "      <th>B</th>\n",
       "      <td>5014</td>\n",
       "      <td>354</td>\n",
       "      <td>0.070602</td>\n",
       "    </tr>\n",
       "    <tr>\n",
       "      <th>C</th>\n",
       "      <td>15921</td>\n",
       "      <td>1353</td>\n",
       "      <td>0.084982</td>\n",
       "    </tr>\n",
       "    <tr>\n",
       "      <th>D</th>\n",
       "      <td>349</td>\n",
       "      <td>21</td>\n",
       "      <td>0.060172</td>\n",
       "    </tr>\n",
       "    <tr>\n",
       "      <th>E</th>\n",
       "      <td>22</td>\n",
       "      <td>2</td>\n",
       "      <td>0.090909</td>\n",
       "    </tr>\n",
       "  </tbody>\n",
       "</table>\n",
       "</div>"
      ],
      "text/plain": [
       "                       count   sum      mean\n",
       "total_income_category                       \n",
       "A                         25     2  0.080000\n",
       "B                       5014   354  0.070602\n",
       "C                      15921  1353  0.084982\n",
       "D                        349    21  0.060172\n",
       "E                         22     2  0.090909"
      ]
     },
     "execution_count": 64,
     "metadata": {},
     "output_type": "execute_result"
    }
   ],
   "source": [
    "data.groupby('total_income_category')['debt'].agg(['count','sum','mean'])"
   ]
  },
  {
   "cell_type": "markdown",
   "id": "d6b54568",
   "metadata": {},
   "source": [
    "Зависимость между уровнем дохода и возвратом кредита в срок прослеживается слабо. Чаще всего не возвращает кредит в срок категория заёмщиков с наименьшим уровнем дохода. Но это может быть обосновано недостатком данных в выборке. Поэтому разобьем выборку на две группы по медианному значению"
   ]
  },
  {
   "cell_type": "code",
   "execution_count": 71,
   "id": "734b2042",
   "metadata": {},
   "outputs": [
    {
     "data": {
      "text/plain": [
       "142594.0"
      ]
     },
     "execution_count": 71,
     "metadata": {},
     "output_type": "execute_result"
    }
   ],
   "source": [
    "median_income = data['total_income'].median()\n",
    "median_income"
   ]
  },
  {
   "cell_type": "code",
   "execution_count": 72,
   "id": "79ae994e",
   "metadata": {},
   "outputs": [
    {
     "data": {
      "text/html": [
       "<div>\n",
       "<style scoped>\n",
       "    .dataframe tbody tr th:only-of-type {\n",
       "        vertical-align: middle;\n",
       "    }\n",
       "\n",
       "    .dataframe tbody tr th {\n",
       "        vertical-align: top;\n",
       "    }\n",
       "\n",
       "    .dataframe thead th {\n",
       "        text-align: right;\n",
       "    }\n",
       "</style>\n",
       "<table border=\"1\" class=\"dataframe\">\n",
       "  <thead>\n",
       "    <tr style=\"text-align: right;\">\n",
       "      <th></th>\n",
       "      <th>count</th>\n",
       "      <th>sum</th>\n",
       "      <th>mean</th>\n",
       "    </tr>\n",
       "    <tr>\n",
       "      <th>high_income</th>\n",
       "      <th></th>\n",
       "      <th></th>\n",
       "      <th></th>\n",
       "    </tr>\n",
       "  </thead>\n",
       "  <tbody>\n",
       "    <tr>\n",
       "      <th>False</th>\n",
       "      <td>10783</td>\n",
       "      <td>907</td>\n",
       "      <td>0.084114</td>\n",
       "    </tr>\n",
       "    <tr>\n",
       "      <th>True</th>\n",
       "      <td>10548</td>\n",
       "      <td>825</td>\n",
       "      <td>0.078214</td>\n",
       "    </tr>\n",
       "  </tbody>\n",
       "</table>\n",
       "</div>"
      ],
      "text/plain": [
       "             count  sum      mean\n",
       "high_income                      \n",
       "False        10783  907  0.084114\n",
       "True         10548  825  0.078214"
      ]
     },
     "execution_count": 72,
     "metadata": {},
     "output_type": "execute_result"
    }
   ],
   "source": [
    "data['high_income'] = data['total_income'].apply(lambda x: x > median_income)\n",
    "data.groupby('high_income')['debt'].agg(['count','sum','mean'])"
   ]
  },
  {
   "cell_type": "markdown",
   "id": "fe1e12d0",
   "metadata": {
    "deletable": false,
    "id": "e8593def"
   },
   "source": [
    "**Вывод:** После группировки выборки на две категории по медианному значению, видно, что задолжников с низким уровнем дохода больше, 8.4% против 7.8%"
   ]
  },
  {
   "cell_type": "markdown",
   "id": "e21d7baf",
   "metadata": {},
   "source": [
    "<div class=\"alert alert-block alert-warning\">\n",
    "<b> ⚠️ Совет: </b> Отлично! Я согласен с тобой, что учитывать категории доходов где маленькое количество записей нельзя. Такие выборки называются несбалансированными и по ним делать выводы нерекомендуется.\n",
    "    В качестве совета: хорошо было бы отсечь все группы, где мало значений: A,D,E\n",
    "</div>"
   ]
  },
  {
   "cell_type": "markdown",
   "id": "e8d52565",
   "metadata": {},
   "source": [
    "<div class=\"alert alert-block alert-info\">\n",
    "    <ul>\n",
    "        <li>Изменил подсчет одной командой.</li>\n",
    "        <li>Разбил на две группы. Если отсекать группы A, D, E, то останется всего две группы, которые будут несбалансированы. Поэтому решил разбить на группы по медианному значению</li>\n",
    "        <li>Исправил вывод.</li>\n",
    "    </ul>\n",
    "</div>"
   ]
  },
  {
   "cell_type": "markdown",
   "id": "01a6d193",
   "metadata": {},
   "source": [
    "<div class=\"alert alert-block alert-success\"><font color='green' size=5 ><b>Комментарий ревьюера v2</b></font> \n",
    "\n",
    "Хорошо) В принципе я бы принял даже с двумя группами дохода) B и C</div>"
   ]
  },
  {
   "cell_type": "markdown",
   "id": "251ce440",
   "metadata": {
    "deletable": false,
    "editable": false,
    "id": "99ecbd1f"
   },
   "source": [
    "#### 3.4 Как разные цели кредита влияют на его возврат в срок?"
   ]
  },
  {
   "cell_type": "markdown",
   "id": "a95fafa5",
   "metadata": {},
   "source": [
    "Посчитаем процент возврата кредита в срок в каждой группе"
   ]
  },
  {
   "cell_type": "code",
   "execution_count": 66,
   "id": "7e117bff",
   "metadata": {
    "deletable": false,
    "id": "2b687290"
   },
   "outputs": [
    {
     "data": {
      "text/html": [
       "<div>\n",
       "<style scoped>\n",
       "    .dataframe tbody tr th:only-of-type {\n",
       "        vertical-align: middle;\n",
       "    }\n",
       "\n",
       "    .dataframe tbody tr th {\n",
       "        vertical-align: top;\n",
       "    }\n",
       "\n",
       "    .dataframe thead th {\n",
       "        text-align: right;\n",
       "    }\n",
       "</style>\n",
       "<table border=\"1\" class=\"dataframe\">\n",
       "  <thead>\n",
       "    <tr style=\"text-align: right;\">\n",
       "      <th></th>\n",
       "      <th>count</th>\n",
       "      <th>sum</th>\n",
       "      <th>mean</th>\n",
       "    </tr>\n",
       "    <tr>\n",
       "      <th>purpose_category</th>\n",
       "      <th></th>\n",
       "      <th></th>\n",
       "      <th></th>\n",
       "    </tr>\n",
       "  </thead>\n",
       "  <tbody>\n",
       "    <tr>\n",
       "      <th>операции с автомобилем</th>\n",
       "      <td>4279</td>\n",
       "      <td>400</td>\n",
       "      <td>0.093480</td>\n",
       "    </tr>\n",
       "    <tr>\n",
       "      <th>операции с недвижимостью</th>\n",
       "      <td>10751</td>\n",
       "      <td>780</td>\n",
       "      <td>0.072551</td>\n",
       "    </tr>\n",
       "    <tr>\n",
       "      <th>получение образования</th>\n",
       "      <td>3988</td>\n",
       "      <td>369</td>\n",
       "      <td>0.092528</td>\n",
       "    </tr>\n",
       "    <tr>\n",
       "      <th>проведение свадьбы</th>\n",
       "      <td>2313</td>\n",
       "      <td>183</td>\n",
       "      <td>0.079118</td>\n",
       "    </tr>\n",
       "  </tbody>\n",
       "</table>\n",
       "</div>"
      ],
      "text/plain": [
       "                          count  sum      mean\n",
       "purpose_category                              \n",
       "операции с автомобилем     4279  400  0.093480\n",
       "операции с недвижимостью  10751  780  0.072551\n",
       "получение образования      3988  369  0.092528\n",
       "проведение свадьбы         2313  183  0.079118"
      ]
     },
     "execution_count": 66,
     "metadata": {},
     "output_type": "execute_result"
    }
   ],
   "source": [
    "data.groupby('purpose_category')['debt'].agg(['count','sum','mean'])"
   ]
  },
  {
   "cell_type": "markdown",
   "id": "c0bb1d1f",
   "metadata": {
    "deletable": false,
    "id": "b4bb2ce6"
   },
   "source": [
    "**Вывод:** Наиболее дисциплинированными заемщиками являются заемщики в категориях связанных с недвижимостью и свадьбой. "
   ]
  },
  {
   "cell_type": "markdown",
   "id": "1bedbe7d",
   "metadata": {},
   "source": [
    "<div class=\"alert alert-block alert-success\">\n",
    "<b> 👍 Успех:</b> Да, по странным причинам кредиты на автомобили и образование возвращаются хуже всего)\n",
    "</div>  "
   ]
  },
  {
   "cell_type": "markdown",
   "id": "5a049155",
   "metadata": {},
   "source": [
    "<div class=\"alert alert-block alert-info\">\n",
    "    Изменил подсчет одной командой\n",
    "</div>"
   ]
  },
  {
   "cell_type": "markdown",
   "id": "f5de9937",
   "metadata": {
    "deletable": false,
    "editable": false,
    "id": "09c3ac4c"
   },
   "source": [
    "#### 3.5 Приведите возможные причины появления пропусков в исходных данных."
   ]
  },
  {
   "cell_type": "markdown",
   "id": "b1cfe916",
   "metadata": {
    "deletable": false,
    "id": "9da2ceda"
   },
   "source": [
    "*Ответ:* возможными причинами являются технический сбой, ошибка ввода данных, намеренное сокрытие информации"
   ]
  },
  {
   "cell_type": "markdown",
   "id": "7b23bd5a",
   "metadata": {},
   "source": [
    "<div class=\"alert alert-block alert-success\">\n",
    "<b> 👍 Успех:</b> Согласен с причинами. Вполне вероятно, что есть поля с необязательным заполнением и действительно клиент может не заполнять их)\n",
    "</div>"
   ]
  },
  {
   "cell_type": "markdown",
   "id": "c947d17d",
   "metadata": {
    "deletable": false,
    "editable": false,
    "id": "7b0487d6"
   },
   "source": [
    "#### 3.6 Объясните, почему заполнить пропуски медианным значением — лучшее решение для количественных переменных."
   ]
  },
  {
   "cell_type": "markdown",
   "id": "066fade8",
   "metadata": {
    "deletable": false,
    "id": "7ecf2b8e"
   },
   "source": [
    "*Ответ:* Потому что заполнив пропуски медианным значением, мы не исказим общую картину в данных. При наличии больших выбросов в данных среднее значение будет реагировать на значения этих выбросов и может так получиться, что в выборке n-1 значение будет меньше среднего и всего лишь одно значение больше среднего. Это не дает возможности представить полную картину по выборке. В то же самое время медианное значение не зависит от величины этих выбросов, потому что делит выборку на две равные части."
   ]
  },
  {
   "cell_type": "markdown",
   "id": "0b6dffa6",
   "metadata": {},
   "source": [
    "<div class=\"alert alert-block alert-danger\">\n",
    "<b> ❌ Нужно исправить:</b> Давай тут дадим более точно формулировки? Ты верно говоришь, что медиана точнее. Но почему она не искажает данные? ДАвай попробуем ее сравнить со средним? Как ведут себя медиана и среднее при большом разбросе данных?\n",
    "</div>"
   ]
  },
  {
   "cell_type": "markdown",
   "id": "4d217dbb",
   "metadata": {},
   "source": [
    "<div class=\"alert alert-block alert-info\">\n",
    "    Дополнил ответ\n",
    "</div>"
   ]
  },
  {
   "cell_type": "markdown",
   "id": "6e97a3c1",
   "metadata": {},
   "source": [
    "<div class=\"alert alert-block alert-success\"><font color='green' size=5 ><b>Комментарий ревьюера v2</b></font> \n",
    "\n",
    "Да, такие аномально высокие или низкие значения называют выбросами. Среднее очень чувствительно к ним. Оно сразу \"плывет\" в сторону выброса. Медиана же наоборот более устойчива к выбросам\n",
    "</div>"
   ]
  },
  {
   "cell_type": "markdown",
   "id": "ea70a0c8",
   "metadata": {
    "deletable": false,
    "editable": false,
    "id": "6db5255a"
   },
   "source": [
    "### Шаг 4: общий вывод."
   ]
  },
  {
   "cell_type": "markdown",
   "id": "8a79e642",
   "metadata": {
    "deletable": false,
    "id": "bad65432"
   },
   "source": [
    "1. Был выгружен датасет о более 20000 клиентов банка, содержащий 10 параметров: количество детей, трудовой стаж, возраст клиента, образование, семейное положение, пол клиента, тип занятости, имел ли задолженность по возврату кредитов, ежемесячный доход, цель получения кредита\n",
    "2. В ходе анализа датасета был выявлен ряд проблем:\n",
    "\t- отсутствие информации о стаже работы и ежемесячном доходе в 2174 строках\n",
    "\t- отрицательные и аномальные значения в поле о количестве детей\n",
    "\t- отрицательные значения в данных о трудовом стаже\n",
    "\t- неявные дубликаты в данных об образовании\n",
    "3. Была проведена предобработка датасета с целью устранения выявленных проблем и предотвращения их влияния на исследование, а именно:\n",
    "\t- пропуски значений в данных о ежемесячном доходе были заполнены медианными значениями по типу занятости, так как тип занятости оказывает сильное влияние на ежемесячный доход, а медианные значения помогают максимально сгладить погрешности вычисления, связанные с большими выбросами данных\n",
    "\t- пропуски значений в данных о трудовом стаже были заполнены мелианными значениями по каждому типу занятости\n",
    "\t- аномальные значения в данных о количестве детей были удалены, во избежании их влияния на точность результатов исследования, а отрицательные значения в данных о трудовом стаже были заменены на положительные\n",
    "\t- объектные значения датасета были приведены к строчному регистру, все выявленные неявне дубликаты, в том числе и в данных об образовании были удалены\n",
    "4. Для целей нашего исследования были систематизированы следующие данные:\n",
    "\t- данные о количестве детей. Зависимость количества детей и возврата кредита в срок была видна неявно. Было принято разбить выборку на две категории заемщиков: с детьми и без\n",
    "\t- данные о семейном положении. Разница в возврате кредита в срок была видна только у заёмщиков, которые состоят в официальном браке или когда-то были в официальных отношениях, и заёмщиков, которые не были зарегистрированы в браке, поэтому было принято решение разбить выборку на эти две группы.\n",
    "\t- данные о ежемесячном доходе клиентов, а именно, была создана функция для категоризации уровня дохода:\n",
    "\t\t- 0–30000 — 'E';\n",
    "\t\t- 30001–50000 — 'D';\n",
    "\t\t- 50001–200000 — 'C';\n",
    "\t\t- 200001–1000000 — 'B';\n",
    "\t\t- 1000001 и выше — 'A'.<br>\n",
    "        Но категории по количеству данных получились несбалансированными, поэтому пришлось разбить выборку по медианному значению на две категории: с уровнем дохода выше медианного и ниже.\n",
    "\t- данные о цели кредита. Была создана функция, с помощью которой к датасету был добавлен новый столбец категории целей кредита:\n",
    "\t\t- операции с автомобилем\n",
    "\t\t- операции с недвижимостью\n",
    "\t\t- проведение свадьбы\n",
    "\t\t- получение образования\n",
    "\n",
    "<b>Основной вывод по исследованию надежности заемщиков:\n",
    "Зависимость между наличием детей, семейным положением, уровнем дохода и целями кредита на его возврат в срок есть.</b>\n",
    "\n",
    "Детали: наибольшую дисциплинрованность по возврату кредита в срок продемонстрировали:\n",
    "  - заемщики с уровнем дохода выше медианного, а именно 142594.\n",
    "  - заемщики без детей\n",
    "  - заемщики, которые состоят или когда-либо состояли в браке\n",
    "  - заемщики которые берут кредит на цели, связанные с недвижимостью или свадьбой"
   ]
  },
  {
   "cell_type": "markdown",
   "id": "4200bf90",
   "metadata": {},
   "source": [
    " <div class=\"alert alert-block alert-danger\">\n",
    "<b> ❌ Нужно исправить:</b> Вот тут я попрошу тебя расширить общий вывод. Смотри, в реальной практике заказчику важно видеть четкий и структурированный вывод, что ты делал в своей работе. Иногда он даже не будет смотреть код, а сразу будет читать вывод исследования. Поэтому в проектах нужно писать расширенный вывод. Что я предлагаю тебе сделать? Давай тезисно опишем, что вообще мы делали в проекте. Ведь огромный «кусок» проекта, пускай даже с автоматической проверкой, но мы же все же сделали? Потом тезисно опишем твои наблюдения по заемщикам и рекомандации банкам. \n",
    "Ниже я тебе привожу пример хорошего структурированного вывода\n",
    "</div>"
   ]
  },
  {
   "cell_type": "markdown",
   "id": "58a93d92",
   "metadata": {},
   "source": [
    "<div class=\"alert alert-block alert-info\">\n",
    "    Исправил вывод\n",
    "</div>"
   ]
  },
  {
   "cell_type": "markdown",
   "id": "f8267c35",
   "metadata": {},
   "source": [
    "<div class=\"alert alert-block alert-success\"><font color='green' size=5 ><b>Комментарий ревьюера v2</b></font> \n",
    "\n",
    "Вывод отличный. Старайся в будущих проектах писать содержательные выводы)\n",
    "</div>"
   ]
  },
  {
   "attachments": {
    "%D0%B8%D0%B7%D0%BE%D0%B1%D1%80%D0%B0%D0%B6%D0%B5%D0%BD%D0%B8%D0%B5.png": {
     "image/png": "[encoded data removed]"
    }
   },
   "cell_type": "markdown",
   "id": "b32ea616",
   "metadata": {},
   "source": [
    "![%D0%B8%D0%B7%D0%BE%D0%B1%D1%80%D0%B0%D0%B6%D0%B5%D0%BD%D0%B8%D0%B5.png](attachment:%D0%B8%D0%B7%D0%BE%D0%B1%D1%80%D0%B0%D0%B6%D0%B5%D0%BD%D0%B8%D0%B5.png)"
   ]
  },
  {
   "cell_type": "markdown",
   "id": "7db766a2",
   "metadata": {},
   "source": [
    " <font color='green' size=4>Общие впечатления</font> \n",
    "\n",
    "Евгений, спасибо за твою работу! Вижу, что ты старался и ты хорошо освоил базовые методы анализа данных с помощью библиотеки pandas.\n",
    "\n",
    "Какие есть замечания:\n",
    "\n",
    "* Напиши общий вывод (рекомендую придерживаться образца)\n",
    "* Поработай над разделом с медианой\n",
    "\n",
    "\n",
    "Если возникнут вопросы — пиши)\n",
    "\n",
    "Жду твою работу)"
   ]
  },
  {
   "cell_type": "markdown",
   "id": "c86455d2",
   "metadata": {},
   "source": [
    "<div class=\"alert alert-block alert-info\">\n",
    "    Спасибо за код-ревью! 🤝\n",
    "</div>"
   ]
  },
  {
   "cell_type": "markdown",
   "id": "e7e62151",
   "metadata": {},
   "source": [
    " <font color='green' size=4>Итоговый комментарий</font> \n",
    "\n",
    "Евгений все замечания ты устранил! Спасибо тебе за отличную работу. Надеюсь мои комментарии были полезны тебе. Если остались вопросы, то можешь связаться через куратора. \n",
    "\n",
    "Принимаю твою работу и желаю удачи в обучении!"
   ]
  },
  {
   "cell_type": "code",
   "execution_count": null,
   "id": "f5435fd7",
   "metadata": {},
   "outputs": [],
   "source": []
  }
 ],
 "metadata": {
  "ExecuteTimeLog": [
   {
    "duration": 513,
    "start_time": "2023-03-11T13:36:31.377Z"
   },
   {
    "duration": 32,
    "start_time": "2023-03-11T13:36:31.893Z"
   },
   {
    "duration": 40,
    "start_time": "2023-03-11T13:36:31.928Z"
   },
   {
    "duration": 17,
    "start_time": "2023-03-11T13:36:31.978Z"
   },
   {
    "duration": 81,
    "start_time": "2023-03-11T13:36:31.997Z"
   },
   {
    "duration": 5,
    "start_time": "2023-03-11T13:36:32.080Z"
   },
   {
    "duration": 41,
    "start_time": "2023-03-11T13:36:32.087Z"
   },
   {
    "duration": 12,
    "start_time": "2023-03-11T13:36:32.130Z"
   },
   {
    "duration": 27,
    "start_time": "2023-03-11T13:36:32.144Z"
   },
   {
    "duration": 15,
    "start_time": "2023-03-11T13:36:32.174Z"
   },
   {
    "duration": 64,
    "start_time": "2023-03-11T13:36:32.191Z"
   },
   {
    "duration": 11,
    "start_time": "2023-03-11T13:36:32.258Z"
   },
   {
    "duration": 6,
    "start_time": "2023-03-11T13:36:32.276Z"
   },
   {
    "duration": 21,
    "start_time": "2023-03-11T13:36:32.284Z"
   },
   {
    "duration": 40,
    "start_time": "2023-03-11T13:36:32.307Z"
   },
   {
    "duration": 34,
    "start_time": "2023-03-11T13:36:32.349Z"
   },
   {
    "duration": 5,
    "start_time": "2023-03-11T13:36:32.385Z"
   },
   {
    "duration": 64,
    "start_time": "2023-03-11T13:36:32.392Z"
   },
   {
    "duration": 32,
    "start_time": "2023-03-11T13:36:32.461Z"
   },
   {
    "duration": 56,
    "start_time": "2023-03-11T13:36:32.496Z"
   },
   {
    "duration": 39,
    "start_time": "2023-03-11T13:36:32.555Z"
   },
   {
    "duration": 52,
    "start_time": "2023-03-11T13:36:32.597Z"
   },
   {
    "duration": 25,
    "start_time": "2023-03-11T13:36:32.651Z"
   },
   {
    "duration": 32,
    "start_time": "2023-03-11T13:36:32.679Z"
   },
   {
    "duration": 35,
    "start_time": "2023-03-11T13:36:32.713Z"
   },
   {
    "duration": 16,
    "start_time": "2023-03-11T13:41:36.771Z"
   },
   {
    "duration": 6,
    "start_time": "2023-03-11T13:42:07.317Z"
   },
   {
    "duration": 7,
    "start_time": "2023-03-11T13:42:43.525Z"
   },
   {
    "duration": 9,
    "start_time": "2023-03-11T13:43:02.813Z"
   },
   {
    "duration": 18,
    "start_time": "2023-03-11T13:43:57.613Z"
   },
   {
    "duration": 12,
    "start_time": "2023-03-11T13:44:32.475Z"
   },
   {
    "duration": 8,
    "start_time": "2023-03-11T13:44:37.157Z"
   },
   {
    "duration": 8,
    "start_time": "2023-03-11T13:45:00.925Z"
   },
   {
    "duration": 12,
    "start_time": "2023-03-11T13:45:47.108Z"
   },
   {
    "duration": 9,
    "start_time": "2023-03-11T13:46:06.044Z"
   },
   {
    "duration": 12,
    "start_time": "2023-03-11T13:46:41.636Z"
   },
   {
    "duration": 15,
    "start_time": "2023-03-11T13:46:45.980Z"
   },
   {
    "duration": 70,
    "start_time": "2023-03-11T13:47:03.956Z"
   },
   {
    "duration": 6,
    "start_time": "2023-03-11T13:47:08.085Z"
   },
   {
    "duration": 22,
    "start_time": "2023-03-11T13:47:25.764Z"
   },
   {
    "duration": 5,
    "start_time": "2023-03-11T13:47:55.074Z"
   },
   {
    "duration": 42,
    "start_time": "2023-03-11T13:48:07.468Z"
   },
   {
    "duration": 9,
    "start_time": "2023-03-11T13:48:38.747Z"
   },
   {
    "duration": 10,
    "start_time": "2023-03-11T13:49:07.356Z"
   },
   {
    "duration": 8,
    "start_time": "2023-03-11T13:49:24.091Z"
   },
   {
    "duration": 6,
    "start_time": "2023-03-11T13:50:10.738Z"
   },
   {
    "duration": 14,
    "start_time": "2023-03-11T13:51:52.411Z"
   },
   {
    "duration": 11,
    "start_time": "2023-03-11T13:52:03.203Z"
   },
   {
    "duration": 9,
    "start_time": "2023-03-11T13:52:10.261Z"
   },
   {
    "duration": 15,
    "start_time": "2023-03-11T14:40:08.508Z"
   },
   {
    "duration": 9,
    "start_time": "2023-03-11T14:40:14.556Z"
   },
   {
    "duration": 9,
    "start_time": "2023-03-11T14:40:21.439Z"
   },
   {
    "duration": 509,
    "start_time": "2023-03-12T09:00:17.023Z"
   },
   {
    "duration": 24,
    "start_time": "2023-03-12T09:00:17.534Z"
   },
   {
    "duration": 24,
    "start_time": "2023-03-12T09:00:17.560Z"
   },
   {
    "duration": 11,
    "start_time": "2023-03-12T09:00:17.586Z"
   },
   {
    "duration": 63,
    "start_time": "2023-03-12T09:00:17.598Z"
   },
   {
    "duration": 5,
    "start_time": "2023-03-12T09:00:17.666Z"
   },
   {
    "duration": 19,
    "start_time": "2023-03-12T09:00:17.674Z"
   },
   {
    "duration": 5,
    "start_time": "2023-03-12T09:00:17.695Z"
   },
   {
    "duration": 9,
    "start_time": "2023-03-12T09:00:17.702Z"
   },
   {
    "duration": 6,
    "start_time": "2023-03-12T09:00:17.713Z"
   },
   {
    "duration": 69,
    "start_time": "2023-03-12T09:00:17.720Z"
   },
   {
    "duration": 10,
    "start_time": "2023-03-12T09:00:17.790Z"
   },
   {
    "duration": 4,
    "start_time": "2023-03-12T09:00:17.802Z"
   },
   {
    "duration": 15,
    "start_time": "2023-03-12T09:00:17.807Z"
   },
   {
    "duration": 44,
    "start_time": "2023-03-12T09:00:17.824Z"
   },
   {
    "duration": 24,
    "start_time": "2023-03-12T09:00:17.870Z"
   },
   {
    "duration": 4,
    "start_time": "2023-03-12T09:00:17.895Z"
   },
   {
    "duration": 21,
    "start_time": "2023-03-12T09:00:17.900Z"
   },
   {
    "duration": 12,
    "start_time": "2023-03-12T09:00:17.923Z"
   },
   {
    "duration": 23,
    "start_time": "2023-03-12T09:00:17.936Z"
   },
   {
    "duration": 22,
    "start_time": "2023-03-12T09:00:17.961Z"
   },
   {
    "duration": 6,
    "start_time": "2023-03-12T09:00:17.984Z"
   },
   {
    "duration": 12,
    "start_time": "2023-03-12T09:00:17.991Z"
   },
   {
    "duration": 8,
    "start_time": "2023-03-12T09:00:18.005Z"
   },
   {
    "duration": 16,
    "start_time": "2023-03-12T09:00:18.014Z"
   },
   {
    "duration": 19,
    "start_time": "2023-03-12T09:00:29.466Z"
   }
  ],
  "colab": {
   "name": "dpp_template_part2.ipynb",
   "provenance": []
  },
  "kernelspec": {
   "display_name": "Python 3 (ipykernel)",
   "language": "python",
   "name": "python3"
  },
  "language_info": {
   "codemirror_mode": {
    "name": "ipython",
    "version": 3
   },
   "file_extension": ".py",
   "mimetype": "text/x-python",
   "name": "python",
   "nbconvert_exporter": "python",
   "pygments_lexer": "ipython3",
   "version": "3.9.5"
  },
  "toc": {
   "base_numbering": 1,
   "nav_menu": {},
   "number_sections": true,
   "sideBar": true,
   "skip_h1_title": true,
   "title_cell": "Table of Contents",
   "title_sidebar": "Contents",
   "toc_cell": false,
   "toc_position": {},
   "toc_section_display": true,
   "toc_window_display": false
  },
  "varInspector": {
   "cols": {
    "lenName": 16,
    "lenType": 16,
    "lenVar": 40
   },
   "kernels_config": {
    "python": {
     "delete_cmd_postfix": "",
     "delete_cmd_prefix": "del ",
     "library": "var_list.py",
     "varRefreshCmd": "print(var_dic_list())"
    },
    "r": {
     "delete_cmd_postfix": ") ",
     "delete_cmd_prefix": "rm(",
     "library": "var_list.r",
     "varRefreshCmd": "cat(var_dic_list()) "
    }
   },
   "types_to_exclude": [
    "module",
    "function",
    "builtin_function_or_method",
    "instance",
    "_Feature"
   ],
   "window_display": false
  }
 },
 "nbformat": 4,
 "nbformat_minor": 5
}
